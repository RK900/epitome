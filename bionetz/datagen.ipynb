{
 "cells": [
  {
   "cell_type": "code",
   "execution_count": 1,
   "metadata": {
    "collapsed": true
   },
   "outputs": [],
   "source": [
    "import h5py\n",
    "import numpy as np\n",
    "from scipy.io import loadmat\n",
    "import tensorflow as tf\n",
    "import threading\n",
    "import iio"
   ]
  },
  {
   "cell_type": "code",
   "execution_count": 2,
   "metadata": {},
   "outputs": [],
   "source": [
    "tmp = h5py.File('./deepsea_train/train.mat', 'r')\n",
    "train_input = tmp['trainxdata']\n",
    "train_target = tmp['traindata']\n",
    "\n",
    "tmp = loadmat('./deepsea_train/valid.mat')\n",
    "valid_input = tmp['validxdata']\n",
    "valid_target = tmp['validdata']\n",
    "\n",
    "def test_and_valid_iter(input_, target):\n",
    "    for i in xrange(input_.shape[0]):\n",
    "        yield iio.make_example({\n",
    "            'input': iio.make_float_feature(input_[i].flatten()),\n",
    "            'target': iio.make_int64_feature(target[i].flatten()),\n",
    "        })\n",
    "        \n",
    "def train_iter(input_, target):\n",
    "    for i in xrange(input_.shape[2]):\n",
    "        yield iio.make_example({\n",
    "            'input': iio.make_float_feature(input_[:,:,i].flatten()),\n",
    "            'target': iio.make_int64_feature(target[:,i].flatten()),\n",
    "        })\n",
    "\n",
    "def write_tfrecords(examples, filename, num_shards=100):\n",
    "    filenames = iio.sharded_filenames(filename, num_shards)\n",
    "    writers = map(tf.python_io.TFRecordWriter, filenames)\n",
    "    for i, example in enumerate(examples):\n",
    "        t = threading.Thread(\n",
    "            target=writers[i % num_shards].write,\n",
    "            args=(example.SerializeToString(),))\n",
    "        t.daemon = True\n",
    "        t.start()"
   ]
  },
  {
   "cell_type": "code",
   "execution_count": null,
   "metadata": {
    "collapsed": true
   },
   "outputs": [],
   "source": [
    "!mkdir -p output\n",
    "\n",
    "write_tfrecords(\n",
    "    examples=test_and_valid_iter(valid_input, valid_target),\n",
    "    filename='./output/valid.tfrecord',\n",
    "    num_shards=100)\n",
    "\n",
    "write_tfrecords(\n",
    "    examples=train_iter(train_input, train_target),\n",
    "    filename='./output/train.tfrecord',\n",
    "    num_shards=100)"
   ]
  },
  {
   "cell_type": "code",
   "execution_count": null,
   "metadata": {
    "collapsed": true
   },
   "outputs": [],
   "source": []
  }
 ],
 "metadata": {
  "kernelspec": {
   "display_name": "Python 2",
   "language": "python",
   "name": "python2"
  },
  "language_info": {
   "codemirror_mode": {
    "name": "ipython",
    "version": 2
   },
   "file_extension": ".py",
   "mimetype": "text/x-python",
   "name": "python",
   "nbconvert_exporter": "python",
   "pygments_lexer": "ipython2",
   "version": "2.7.13"
  }
 },
 "nbformat": 4,
 "nbformat_minor": 2
}
