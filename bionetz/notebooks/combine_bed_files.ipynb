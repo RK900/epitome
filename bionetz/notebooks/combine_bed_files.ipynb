{
 "cells": [
  {
   "cell_type": "code",
   "execution_count": 6,
   "metadata": {
    "collapsed": true
   },
   "outputs": [],
   "source": [
    "import numpy as np\n",
    "import pybedtools"
   ]
  },
  {
   "cell_type": "code",
   "execution_count": 67,
   "metadata": {},
   "outputs": [
    {
     "name": "stdout",
     "output_type": "stream",
     "text": [
      "done\n"
     ]
    }
   ],
   "source": [
    "sequence_bed = pybedtools.BedTool('../allTFs.pos.bed')\n",
    "cuts_bed = pybedtools.BedTool('/data/epitome/accessibility/dnase/hg19/ENCFF473CCA_A549_DNase_filtered_header_scaled.bed.hg19.bed')\n",
    "print('done')"
   ]
  },
  {
   "cell_type": "code",
   "execution_count": 68,
   "metadata": {},
   "outputs": [
    {
     "name": "stdout",
     "output_type": "stream",
     "text": [
      "chr1\t104800\t105000\t.\t0\t*\tchr1\t104955\t104956\t.\t1.1402477356113734\n",
      " chr1\t104800\t105000\t.\t0\t*\tchr1\t104966\t104967\t.\t0.8560726311571512\n",
      " chr1\t105000\t105200\t.\t0\t*\tchr1\t104955\t104956\t.\t1.1402477356113734\n",
      " chr1\t105000\t105200\t.\t0\t*\tchr1\t104966\t104967\t.\t0.8560726311571512\n",
      " chr1\t138800\t139000\t.\t0\t*\tchr1\t138769\t138770\t.\t0.4573607641365005\n",
      " chr1\t138800\t139000\t.\t0\t*\tchr1\t139295\t139296\t.\t1.1700913615122248\n",
      " chr1\t139000\t139200\t.\t0\t*\tchr1\t138769\t138770\t.\t0.4573607641365005\n",
      " chr1\t139000\t139200\t.\t0\t*\tchr1\t139295\t139296\t.\t1.1700913615122248\n",
      " chr1\t139200\t139400\t.\t0\t*\tchr1\t139295\t139296\t.\t1.1700913615122248\n",
      " chr1\t235400\t235600\t.\t0\t*\tchr1\t235911\t235912\t.\t0.9174403892327828\n",
      " "
     ]
    }
   ],
   "source": [
    "windowed = sequence_bed.window(cuts_bed, w=400)\n",
    "windowed.head()"
   ]
  },
  {
   "cell_type": "code",
   "execution_count": 69,
   "metadata": {},
   "outputs": [
    {
     "name": "stdout",
     "output_type": "stream",
     "text": [
      "chr1\t104800\t105000\t104955,104966\t104956,104967\t1.1402477356113734,0.8560726311571512\n",
      " chr1\t105000\t105200\t104955,104966\t104956,104967\t1.1402477356113734,0.8560726311571512\n",
      " chr1\t138800\t139000\t138769,139295\t138770,139296\t0.4573607641365005,1.1700913615122248\n",
      " chr1\t139000\t139200\t138769,139295\t138770,139296\t0.4573607641365005,1.1700913615122248\n",
      " chr1\t139200\t139400\t139295\t139296\t1.1700913615122248\n",
      " chr1\t235400\t235600\t235911,235915,235927\t235912,235916,235928\t0.9174403892327828,2.016474859581679,0.5295464064363747\n",
      " chr1\t235600\t235800\t235911,235915,235927\t235912,235916,235928\t0.9174403892327828,2.016474859581679,0.5295464064363747\n",
      " chr1\t235800\t236000\t235911,235915,235927\t235912,235916,235928\t0.9174403892327828,2.016474859581679,0.5295464064363747\n",
      " chr1\t237400\t237600\t237732,237733,237734,237737,237742,237746,237748,237850,237853,237858,237859\t237733,237734,237735,237738,237743,237747,237749,237851,237854,237859,237860\t1.3370634599594007,1.833738342717683,0.30357779637755034,0.505697400023766,1.0855444738431803,2.940567793953134,0.816614564605829,1.3209215383435498,1.3370634599594007,1.0855444738431803,0.8043493394767841\n",
      " chr1\t237600\t237800\t237732,237733,237734,237737,237742,237746,237748,237850,237853,237858,237859\t237733,237734,237735,237738,237743,237747,237749,237851,237854,237859,237860\t1.3370634599594007,1.833738342717683,0.30357779637755034,0.505697400023766,1.0855444738431803,2.940567793953134,0.816614564605829,1.3209215383435498,1.3370634599594007,1.0855444738431803,0.8043493394767841\n",
      " "
     ]
    }
   ],
   "source": [
    "merged = windowed.merge(c=[8, 9, 11], o=[\"collapse\", \"collapse\", \"collapse\"], d=-1)\n",
    "merged.head()"
   ]
  },
  {
   "cell_type": "code",
   "execution_count": 70,
   "metadata": {},
   "outputs": [
    {
     "name": "stdout",
     "output_type": "stream",
     "text": [
      "chr1\t10000\t10200\t.\t0\t*\t.\t-1\t-1\t.\t.\t.\n",
      " chr1\t10200\t10400\t.\t0\t*\t.\t-1\t-1\t.\t.\t.\n",
      " chr1\t10400\t10600\t.\t0\t*\t.\t-1\t-1\t.\t.\t.\n",
      " chr1\t16000\t16200\t.\t0\t*\t.\t-1\t-1\t.\t.\t.\n",
      " chr1\t16200\t16400\t.\t0\t*\t.\t-1\t-1\t.\t.\t.\n",
      " chr1\t29000\t29200\t.\t0\t*\t.\t-1\t-1\t.\t.\t.\n",
      " chr1\t29200\t29400\t.\t0\t*\t.\t-1\t-1\t.\t.\t.\n",
      " chr1\t29400\t29600\t.\t0\t*\t.\t-1\t-1\t.\t.\t.\n",
      " chr1\t29600\t29800\t.\t0\t*\t.\t-1\t-1\t.\t.\t.\n",
      " chr1\t89600\t89800\t.\t0\t*\t.\t-1\t-1\t.\t.\t.\n",
      " chr1\t89800\t90000\t.\t0\t*\t.\t-1\t-1\t.\t.\t.\n",
      " chr1\t90000\t90200\t.\t0\t*\t.\t-1\t-1\t.\t.\t.\n",
      " chr1\t91000\t91200\t.\t0\t*\t.\t-1\t-1\t.\t.\t.\n",
      " chr1\t91200\t91400\t.\t0\t*\t.\t-1\t-1\t.\t.\t.\n",
      " chr1\t91400\t91600\t.\t0\t*\t.\t-1\t-1\t.\t.\t.\n",
      " chr1\t104800\t105000\t.\t0\t*\tchr1\t104800\t105000\t104955,104966\t104956,104967\t1.1402477356113734,0.8560726311571512\n",
      " chr1\t105000\t105200\t.\t0\t*\tchr1\t105000\t105200\t104955,104966\t104956,104967\t1.1402477356113734,0.8560726311571512\n",
      " chr1\t138800\t139000\t.\t0\t*\tchr1\t138800\t139000\t138769,139295\t138770,139296\t0.4573607641365005,1.1700913615122248\n",
      " chr1\t139000\t139200\t.\t0\t*\tchr1\t139000\t139200\t138769,139295\t138770,139296\t0.4573607641365005,1.1700913615122248\n",
      " chr1\t139200\t139400\t.\t0\t*\tchr1\t139200\t139400\t139295\t139296\t1.1700913615122248\n",
      " "
     ]
    }
   ],
   "source": [
    "data = sequence_bed.intersect(merged, loj=True)\n",
    "data.head(20)"
   ]
  },
  {
   "cell_type": "code",
   "execution_count": 71,
   "metadata": {},
   "outputs": [],
   "source": [
    "_PY_BED_PREFIX = \"pybed_\"\n",
    "result = data.saveas('/data/epitome/accessibility/dnase/hg19/pybed/' + 'ENCFF473CCA_A549_DNase_filtered_header_scaled.bed.hg19.bed')"
   ]
  },
  {
   "cell_type": "code",
   "execution_count": 65,
   "metadata": {},
   "outputs": [
    {
     "name": "stdout",
     "output_type": "stream",
     "text": [
      "10000\n",
      "[10030, 10151]\n",
      "['3.755388866202813', '0.5568368978534824']\n"
     ]
    }
   ],
   "source": [
    "peak = pybedtools.BedTool('/data/hjzhang/peak.bed')\n",
    "a = peak[0]\n",
    "start = a.fields[1]\n",
    "pos = a.fields[9].split(',')\n",
    "acc = a.fields[11].split(',')\n",
    "pos = list(map(int, pos))\n",
    "print(int(start))\n",
    "print(pos)\n",
    "print(acc)"
   ]
  },
  {
   "cell_type": "code",
   "execution_count": 15,
   "metadata": {},
   "outputs": [],
   "source": [
    "peak_file = open('/data/hjzhang/peak.bed', 'r')"
   ]
  },
  {
   "cell_type": "code",
   "execution_count": 37,
   "metadata": {},
   "outputs": [
    {
     "data": {
      "text/plain": [
       "['chr1',\n",
       " '104800',\n",
       " '105000',\n",
       " '.',\n",
       " '0',\n",
       " '*',\n",
       " 'chr1',\n",
       " '104800',\n",
       " '105000',\n",
       " '104955,104966',\n",
       " '104956,104967',\n",
       " '1.1402477356113734,0.8560726311571512\\n']"
      ]
     },
     "execution_count": 37,
     "metadata": {},
     "output_type": "execute_result"
    }
   ],
   "source": [
    "peak_file.readline().split('\\t')"
   ]
  },
  {
   "cell_type": "code",
   "execution_count": null,
   "metadata": {
    "collapsed": true
   },
   "outputs": [],
   "source": []
  }
 ],
 "metadata": {
  "kernelspec": {
   "display_name": "Python 3",
   "language": "python",
   "name": "python3"
  },
  "language_info": {
   "codemirror_mode": {
    "name": "ipython",
    "version": 3
   },
   "file_extension": ".py",
   "mimetype": "text/x-python",
   "name": "python",
   "nbconvert_exporter": "python",
   "pygments_lexer": "ipython3",
   "version": "3.6.1"
  }
 },
 "nbformat": 4,
 "nbformat_minor": 2
}
