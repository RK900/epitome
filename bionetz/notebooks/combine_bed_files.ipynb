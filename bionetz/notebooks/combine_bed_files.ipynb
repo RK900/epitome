{
 "cells": [
  {
   "cell_type": "code",
   "execution_count": 1,
   "metadata": {
    "collapsed": true
   },
   "outputs": [],
   "source": [
    "import numpy as np\n",
    "import pybedtools"
   ]
  },
  {
   "cell_type": "code",
   "execution_count": 2,
   "metadata": {},
   "outputs": [
    {
     "name": "stdout",
     "output_type": "stream",
     "text": [
      "done\n"
     ]
    }
   ],
   "source": [
    "sequence_bed = pybedtools.BedTool('../allTFs.pos.bed')\n",
    "cuts_bed = pybedtools.BedTool('/data/epitome/accessibility/dnase/hg38/ENCFF473CCA_A549_DNase_filtered_header_scaled.bed')\n",
    "print('done')"
   ]
  },
  {
   "cell_type": "code",
   "execution_count": 3,
   "metadata": {},
   "outputs": [
    {
     "name": "stdout",
     "output_type": "stream",
     "text": [
      "chr1\t104800\t105000\t.\t0\t*\tchr1\t104955\t104956\t.\t1.1402477356113734\n",
      " chr1\t104800\t105000\t.\t0\t*\tchr1\t104966\t104967\t.\t0.8560726311571512\n",
      " chr1\t105000\t105200\t.\t0\t*\tchr1\t104955\t104956\t.\t1.1402477356113734\n",
      " chr1\t105000\t105200\t.\t0\t*\tchr1\t104966\t104967\t.\t0.8560726311571512\n",
      " chr1\t138800\t139000\t.\t0\t*\tchr1\t138769\t138770\t.\t0.4573607641365005\n",
      " chr1\t138800\t139000\t.\t0\t*\tchr1\t139295\t139296\t.\t1.1700913615122248\n",
      " chr1\t139000\t139200\t.\t0\t*\tchr1\t138769\t138770\t.\t0.4573607641365005\n",
      " chr1\t139000\t139200\t.\t0\t*\tchr1\t139295\t139296\t.\t1.1700913615122248\n",
      " chr1\t139200\t139400\t.\t0\t*\tchr1\t139295\t139296\t.\t1.1700913615122248\n",
      " chr1\t740200\t740400\t.\t0\t*\tchr1\t740733\t740734\t.\t2.9760681240768845\n",
      " "
     ]
    }
   ],
   "source": [
    "windowed = sequence_bed.window(cuts_bed, w=400)\n",
    "windowed.head()"
   ]
  },
  {
   "cell_type": "code",
   "execution_count": 4,
   "metadata": {},
   "outputs": [
    {
     "name": "stdout",
     "output_type": "stream",
     "text": [
      "chr1\t104800\t105000\t104955,104966\t104956,104967\t1.1402477356113734,0.8560726311571512\n",
      " chr1\t105000\t105200\t104955,104966\t104956,104967\t1.1402477356113734,0.8560726311571512\n",
      " chr1\t138800\t139000\t138769,139295\t138770,139296\t0.4573607641365005,1.1700913615122248\n",
      " chr1\t139000\t139200\t138769,139295\t138770,139296\t0.4573607641365005,1.1700913615122248\n",
      " chr1\t139200\t139400\t139295\t139296\t1.1700913615122248\n",
      " chr1\t740200\t740400\t740733\t740734\t2.9760681240768845\n",
      " chr1\t740400\t740600\t740733\t740734\t2.9760681240768845\n",
      " chr1\t758600\t758800\t758527\t758528\t0.480625479394925\n",
      " chr1\t758800\t759000\t758527\t758528\t0.480625479394925\n",
      " chr1\t762000\t762200\t762004\t762005\t2.4765906097072414\n",
      " "
     ]
    }
   ],
   "source": [
    "merged = windowed.merge(c=[8, 9, 11], o=[\"collapse\", \"collapse\", \"collapse\"], d=-1)\n",
    "merged.head()"
   ]
  },
  {
   "cell_type": "code",
   "execution_count": 5,
   "metadata": {},
   "outputs": [
    {
     "name": "stdout",
     "output_type": "stream",
     "text": [
      "chr1\t10000\t10200\t.\t0\t*\t.\t-1\t-1\t.\t.\t.\n",
      " chr1\t10200\t10400\t.\t0\t*\t.\t-1\t-1\t.\t.\t.\n",
      " chr1\t10400\t10600\t.\t0\t*\t.\t-1\t-1\t.\t.\t.\n",
      " chr1\t16000\t16200\t.\t0\t*\t.\t-1\t-1\t.\t.\t.\n",
      " chr1\t16200\t16400\t.\t0\t*\t.\t-1\t-1\t.\t.\t.\n",
      " chr1\t29000\t29200\t.\t0\t*\t.\t-1\t-1\t.\t.\t.\n",
      " chr1\t29200\t29400\t.\t0\t*\t.\t-1\t-1\t.\t.\t.\n",
      " chr1\t29400\t29600\t.\t0\t*\t.\t-1\t-1\t.\t.\t.\n",
      " chr1\t29600\t29800\t.\t0\t*\t.\t-1\t-1\t.\t.\t.\n",
      " chr1\t89600\t89800\t.\t0\t*\t.\t-1\t-1\t.\t.\t.\n",
      " chr1\t89800\t90000\t.\t0\t*\t.\t-1\t-1\t.\t.\t.\n",
      " chr1\t90000\t90200\t.\t0\t*\t.\t-1\t-1\t.\t.\t.\n",
      " chr1\t91000\t91200\t.\t0\t*\t.\t-1\t-1\t.\t.\t.\n",
      " chr1\t91200\t91400\t.\t0\t*\t.\t-1\t-1\t.\t.\t.\n",
      " chr1\t91400\t91600\t.\t0\t*\t.\t-1\t-1\t.\t.\t.\n",
      " chr1\t104800\t105000\t.\t0\t*\tchr1\t104800\t105000\t104955,104966\t104956,104967\t1.1402477356113734,0.8560726311571512\n",
      " chr1\t105000\t105200\t.\t0\t*\tchr1\t105000\t105200\t104955,104966\t104956,104967\t1.1402477356113734,0.8560726311571512\n",
      " chr1\t138800\t139000\t.\t0\t*\tchr1\t138800\t139000\t138769,139295\t138770,139296\t0.4573607641365005,1.1700913615122248\n",
      " chr1\t139000\t139200\t.\t0\t*\tchr1\t139000\t139200\t138769,139295\t138770,139296\t0.4573607641365005,1.1700913615122248\n",
      " chr1\t139200\t139400\t.\t0\t*\tchr1\t139200\t139400\t139295\t139296\t1.1700913615122248\n",
      " "
     ]
    }
   ],
   "source": [
    "data = sequence_bed.intersect(merged, loj=True)\n",
    "data.head(20)"
   ]
  },
  {
   "cell_type": "code",
   "execution_count": null,
   "metadata": {
    "collapsed": true
   },
   "outputs": [],
   "source": []
  }
 ],
 "metadata": {
  "kernelspec": {
   "display_name": "Python 3",
   "language": "python",
   "name": "python3"
  },
  "language_info": {
   "codemirror_mode": {
    "name": "ipython",
    "version": 3
   },
   "file_extension": ".py",
   "mimetype": "text/x-python",
   "name": "python",
   "nbconvert_exporter": "python",
   "pygments_lexer": "ipython3",
   "version": "3.6.1"
  }
 },
 "nbformat": 4,
 "nbformat_minor": 2
}
