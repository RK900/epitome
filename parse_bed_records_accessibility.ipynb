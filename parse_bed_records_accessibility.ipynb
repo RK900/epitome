{
 "cells": [
  {
   "cell_type": "code",
   "execution_count": 14,
   "metadata": {
    "collapsed": false
   },
   "outputs": [],
   "source": [
    "import pandas as pd\n",
    "import numpy as np\n",
    "import multiprocessing"
   ]
  },
  {
   "cell_type": "code",
   "execution_count": 41,
   "metadata": {
    "collapsed": false
   },
   "outputs": [],
   "source": [
    "accessibility_path = '/data/epitome/accessibility/dnase/hg19/ENCFF473CCA_A549_DNase_filtered_header_scaled.bed.hg19.bed'\n",
    "# vector = get_accessibility_vector(\"chr1\", 46650, 46660, path)\n",
    "\n",
    "accessibility_df = pd.read_csv(accessibility_path, delimiter='\\t', header=None)\n",
    "accessibility_df.columns = ['chr', 'start', 'stop', 'strand', 'value']\n",
    "\n",
    "# assert that dataframe has no records bigger than length 1\n",
    "assert(len(accessibility_df[(accessibility_df['stop'] - accessibility_df['start'] > 1)]) == 0)\n",
    "\n",
    "\n",
    "\n"
   ]
  },
  {
   "cell_type": "code",
   "execution_count": 44,
   "metadata": {
    "collapsed": false
   },
   "outputs": [
    {
     "data": {
      "text/plain": [
       "array([ 0.        ,  0.        ,  0.        ,  0.        ,  0.91191041,\n",
       "        0.        ,  0.        ,  0.        ,  0.        ,  0.        ])"
      ]
     },
     "execution_count": 44,
     "metadata": {},
     "output_type": "execute_result"
    }
   ],
   "source": [
    "chr_ = \"chr1\"\n",
    "start = 46650\n",
    "stop = 46660\n",
    "get_accessibility_vector(chr_, start, stop, accessibility_df)"
   ]
  },
  {
   "cell_type": "code",
   "execution_count": 43,
   "metadata": {
    "collapsed": false
   },
   "outputs": [],
   "source": [
    "def get_accessibility_vectors(chr_, start, stop, accessibility_path, tfPos_path):\n",
    "    accessibility_df = pd.read_csv(accessibility_path, delimiter='\\t', header=None)\n",
    "    accessibility_df.columns = ['chr', 'start', 'stop', 'strand', 'value']\n",
    "\n",
    "    # assert that dataframe has no records bigger than length 1\n",
    "    assert(len(accessibility_df[(accessibility_df['stop'] - accessibility_df['start'] > 1)]) == 0)\n",
    "    \n",
    "\n",
    "\n",
    "\n",
    "def get_accessibility_vector(chr_, start, stop, accessibility_df):\n",
    "    '''\n",
    "    Returns an cut vector of length start - stop\n",
    "    @param chr_ chr to access\n",
    "    @param start start of region to process\n",
    "    @param stop end of region to process\n",
    "    @param accessibility_path path to bed file of DNase or ATAC seq data\n",
    "        as processed by seqOutBias. Example data in c66:/data/epitome/accessibility\n",
    "    '''\n",
    "    \n",
    "    filtered_bed_df = accessibility_df[(bed_df['chr'] == chr_) & (bed_df['start'] < stop)& (bed_df['stop'] > start)]\n",
    "    \n",
    "    # length of vector\n",
    "    length = stop - start\n",
    "    assert(length > 0)\n",
    "\n",
    "    vector = np.zeros(length)\n",
    "\n",
    "    # TODO inefficient\n",
    "    for i, row in filtered_bed_df.iterrows():\n",
    "        vector[row['start'] - start] = row['value']\n",
    "\n",
    "    return vector"
   ]
  },
  {
   "cell_type": "code",
   "execution_count": null,
   "metadata": {
    "collapsed": true
   },
   "outputs": [],
   "source": [
    "accessibility_path = '/data/epitome/accessibility/dnase/hg19'\n"
   ]
  },
  {
   "cell_type": "code",
   "execution_count": null,
   "metadata": {
    "collapsed": true
   },
   "outputs": [],
   "source": [
    "tmp = h5py.File(deepsea_data)\n",
    "input_, target = tmp['trainxdata'], tmp['traindata']\n",
    "\n",
    "accessibility_file = 'ENCFF473CCA_A549_DNase_filtered_header_scaled.bed.hg19.bed'\n",
    "accessibility_path = dnase_path + '/' + dnase_file\n",
    "\n",
    "cell = 'A549'\n",
    "start = 1000\n",
    "stop = 2000\n",
    "records_iteratorrecords_iterator(input_, target, cell, start, stop, features_path, accessibility_path)"
   ]
  }
 ],
 "metadata": {
  "anaconda-cloud": {},
  "kernelspec": {
   "display_name": "Python [conda root]",
   "language": "python",
   "name": "conda-root-py"
  },
  "language_info": {
   "codemirror_mode": {
    "name": "ipython",
    "version": 2
   },
   "file_extension": ".py",
   "mimetype": "text/x-python",
   "name": "python",
   "nbconvert_exporter": "python",
   "pygments_lexer": "ipython2",
   "version": "2.7.12"
  }
 },
 "nbformat": 4,
 "nbformat_minor": 1
}
