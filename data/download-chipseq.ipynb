{
 "cells": [
  {
   "cell_type": "code",
   "execution_count": 1,
   "metadata": {
    "collapsed": true
   },
   "outputs": [],
   "source": [
    "import pandas as pd"
   ]
  },
  {
   "cell_type": "markdown",
   "metadata": {},
   "source": [
    "# Tutorial: Downloading data "
   ]
  },
  {
   "cell_type": "markdown",
   "metadata": {},
   "source": [
    "## Step 1: Get a list of files for the Target Dataset\n",
    "\n",
    "Get a files.txt file from https://www.encodeproject.org. For example, all Chip-seq for GM12878. The first line of that file will be the metadata.tsv file. Download that file as well."
   ]
  },
  {
   "cell_type": "markdown",
   "metadata": {},
   "source": [
    "## Step 2: Filter Chip-Seq files for ones with optimal peaks"
   ]
  },
  {
   "cell_type": "code",
   "execution_count": 2,
   "metadata": {
    "collapsed": true
   },
   "outputs": [],
   "source": [
    "## code for filtering a files.txt file by optimal peaks\n",
    "\n",
    "# load metadata containing file information and \n",
    "metadata = pd.read_csv(\"./metadata.tsv\", sep='\\t')\n"
   ]
  },
  {
   "cell_type": "code",
   "execution_count": 31,
   "metadata": {},
   "outputs": [],
   "source": [
    "# filter lines that are optimal thresholded peaks\n",
    "optimal_peaks = metadata[(metadata[\"Output type\"] == \"optimal idr thresholded peaks\") \\\n",
    "                         & (metadata[\"File download URL\"].str.endswith('.bed.gz'))]\n",
    "\n",
    "selected_columns = optimal_peaks[[\"File accession\",\"Biosample term name\", \"Experiment target\", \"File download URL\"]]\n",
    "\n",
    "download_lines = map(lambda x: \"wget %s -O %s_%s_%s.bed.gz\\n\" % (x[3], x[0],x[1],x[2]), selected_columns.values.tolist())"
   ]
  },
  {
   "cell_type": "code",
   "execution_count": 32,
   "metadata": {},
   "outputs": [],
   "source": [
    "download_lines\n",
    "\n",
    "with open(\"download_lines.sh\", \"w\") as text_file:\n",
    "    for line in download_lines:\n",
    "        text_file.writelines(line)"
   ]
  },
  {
   "cell_type": "markdown",
   "metadata": {},
   "source": [
    "## Step 3: Download Peaks\n",
    "\n",
    "Run the download_lines.sh file to download all peaks."
   ]
  },
  {
   "cell_type": "code",
   "execution_count": null,
   "metadata": {
    "collapsed": true
   },
   "outputs": [],
   "source": []
  }
 ],
 "metadata": {
  "kernelspec": {
   "display_name": "Python 2",
   "language": "python",
   "name": "python2"
  },
  "language_info": {
   "codemirror_mode": {
    "name": "ipython",
    "version": 2
   },
   "file_extension": ".py",
   "mimetype": "text/x-python",
   "name": "python",
   "nbconvert_exporter": "python",
   "pygments_lexer": "ipython2",
   "version": "2.7.12"
  }
 },
 "nbformat": 4,
 "nbformat_minor": 2
}
