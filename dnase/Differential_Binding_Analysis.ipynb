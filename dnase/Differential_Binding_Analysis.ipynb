{
 "cells": [
  {
   "cell_type": "markdown",
   "metadata": {},
   "source": [
    "# Code for analyzing predictions"
   ]
  },
  {
   "cell_type": "code",
   "execution_count": 39,
   "metadata": {
    "collapsed": true
   },
   "outputs": [],
   "source": [
    "import numpy as np\n",
    "import matplotlib.pyplot as plt\n",
    "import sklearn.metrics\n",
    "import os\n",
    "\n",
    "from scipy import stats\n",
    "import collections\n",
    " \n",
    "import tensorflow as tf\n",
    "import h5py\n",
    "from scipy.io import loadmat\n",
    "import numpy as np\n",
    "import matplotlib.pyplot as plt\n",
    "import sklearn.metrics\n",
    "import os\n",
    "import pybedtools\n",
    "import torch\n",
    "import h5sparse\n",
    "import datetime\n",
    "import logging\n",
    "\n",
    "from scipy import stats\n",
    "\n",
    "import sys\n",
    "import re\n",
    "import statsmodels.api as sm\n",
    "from statsmodels.formula.api import ols\n",
    "import statsmodels\n",
    "\n",
    "from pylab import rcParams"
   ]
  },
  {
   "cell_type": "code",
   "execution_count": 178,
   "metadata": {
    "collapsed": true
   },
   "outputs": [],
   "source": [
    "# required files\n",
    "feature_path = \"/home/eecs/akmorrow/epitome/data/feature_name\"\n",
    "\n",
    "predictions_path = \"/home/eecs/akmorrow/epitome/out/Epitome/processed_datasets/TiPS_df.tsv\"\n",
    "\n",
    "conditions_file = \"/home/eecs/akmorrow/epitome/out/Epitome/processed_datasets/joinedConditions.tab\""
   ]
  },
  {
   "cell_type": "code",
   "execution_count": 7,
   "metadata": {
    "collapsed": true
   },
   "outputs": [],
   "source": [
    "from epitome.functions import *\n",
    "from epitome.constants import *"
   ]
  },
  {
   "cell_type": "markdown",
   "metadata": {},
   "source": [
    "# Differential Binding Analysis"
   ]
  },
  {
   "cell_type": "code",
   "execution_count": 8,
   "metadata": {
    "collapsed": true
   },
   "outputs": [],
   "source": [
    "matrix, cellmap, assaymap = get_assays_from_feature_file(feature_path=feature_path, \n",
    "                                  eligible_assays = None,\n",
    "                                  eligible_cells = None, min_cells_per_assay = 2, min_assays_per_cell=5)"
   ]
  },
  {
   "cell_type": "code",
   "execution_count": 156,
   "metadata": {
    "collapsed": true
   },
   "outputs": [],
   "source": [
    "means = pd.read_csv(predictions_path, sep=\"\\t\")\n"
   ]
  },
  {
   "cell_type": "code",
   "execution_count": 219,
   "metadata": {
    "collapsed": true
   },
   "outputs": [],
   "source": [
    "cols = ['Unnamed: 0', 'File', 'p300', 'c-Myc', 'c-Jun', 'c-Fos', 'Znf143',\n",
    "       'ZZZ3', 'ZNF274', 'ZBTB7A', 'ZBTB33', 'YY1', 'USF2', 'USF-1', 'TR4',\n",
    "       'TFIIIC-110', 'TEAD4', 'TCF7L2', 'TCF12', 'TBP', 'TBLR1', 'TAF7',\n",
    "       'TAF1', 'Sin3Ak-20', 'STAT5A', 'STAT3', 'STAT1', 'SRF', 'SP2', 'SP1',\n",
    "       'SMC3', 'SIX5', 'SIN3A', 'Rad21', 'RXRA', 'RPC155', 'RFX5', 'RBBP5',\n",
    "       'Pol3', 'Pol2-4H8', 'Pol2(phosphoS2)', 'Pol2(b)', 'Pol2', 'PU.1',\n",
    "       'POU2F2', 'PML', 'PAX5-C20', 'Nrf1', 'NRSF', 'NFKB', 'NFIC', 'NF-YB',\n",
    "       'NF-YA', 'NF-E2', 'Mxi1', 'Max', 'MafK', 'MafF', 'MEF2A', 'MAZ', 'JunD',\n",
    "       'Ini1', 'IRF3', 'HDAC2', 'HA-E2F1', 'GTF2F1', 'GATA3', 'GATA-2', 'GABP',\n",
    "       'FOXA1', 'FOSL2', 'FOSL1', 'Egr-1', 'EZH2', 'ETS1', 'ELK1', 'ELF1',\n",
    "       'E2F6', 'E2F4', 'CTCF', 'COREST', 'CHD2', 'CHD1', 'CEBPB', 'Brg1',\n",
    "       'Bach1', 'BRF2', 'BRF1', 'BRCA1', 'BHLHE40', 'BDP1', 'BCLAF1', 'BCL3',\n",
    "       'BCL11A', 'ATF3', 'ATF2', 'ARID3A']\n",
    "\n",
    "cols = list(map(lambda x: re.sub('-|\\(|\\)|\\.', '', x), cols))\n",
    "means.columns = cols"
   ]
  },
  {
   "cell_type": "code",
   "execution_count": 235,
   "metadata": {
    "collapsed": true
   },
   "outputs": [],
   "source": [
    "# load and parse conditions\n",
    "conditions = pd.read_csv(conditions_file,  delimiter=r\"\\s+\")\n",
    "conditions.index = list(map(lambda x: re.sub('ATAC_|atac__|__0\\.001', '', x), conditions.index))\n",
    "conditions[\"Type\"] = conditions[\"Type\"].astype('category')\n",
    "conditions[\"Type_cat\"] = conditions[\"Type\"].cat.codes\n",
    "\n",
    "conditions[\"Donor\"] = conditions[\"Donor\"].astype('category')\n",
    "conditions[\"Donor_cat\"] = conditions[\"Donor\"].cat.codes"
   ]
  },
  {
   "cell_type": "code",
   "execution_count": null,
   "metadata": {
    "collapsed": true
   },
   "outputs": [],
   "source": [
    "means = pd.read_csv(predictions_path, sep=\"\\t\")\n",
    "t1 = map(lambda x: x.split(\"_peaks.bed\")[0], means[\"File\"])\n",
    "means.index = list(map(lambda x: re.sub('ATAC_|atac__|__0\\.001', '', x), t1))\n"
   ]
  },
  {
   "cell_type": "code",
   "execution_count": 193,
   "metadata": {},
   "outputs": [
    {
     "name": "stderr",
     "output_type": "stream",
     "text": [
      "/data/akmorrow/miniconda3/envs/EpitomeEnv/lib/python3.6/site-packages/ipykernel_launcher.py:1: FutureWarning: Method .as_matrix will be removed in a future version. Use .values instead.\n",
      "  \"\"\"Entry point for launching an IPython kernel.\n"
     ]
    }
   ],
   "source": [
    "matrix = means.as_matrix(columns = means.columns.drop(['Unnamed: 0','File', 'Sample']))"
   ]
  },
  {
   "cell_type": "code",
   "execution_count": 36,
   "metadata": {},
   "outputs": [
    {
     "data": {
      "image/png": "[encoded data removed]",
      "text/plain": [
       "<Figure size 720x360 with 1 Axes>"
      ]
     },
     "metadata": {
      "needs_background": "light"
     },
     "output_type": "display_data"
    }
   ],
   "source": [
    "\n",
    "rcParams['figure.figsize'] = 10, 5\n",
    "\n",
    "plt.hist(matrix.flatten(), bins=50)  # arguments are passed to np.histogram\n",
    "plt.title(\"Histogram of TF binding means\")\n",
    "plt.xlabel(\"TF prediction mean\")\n",
    "plt.ylabel(\"Count\")\n",
    "plt.show()"
   ]
  },
  {
   "cell_type": "code",
   "execution_count": 237,
   "metadata": {},
   "outputs": [
    {
     "name": "stderr",
     "output_type": "stream",
     "text": [
      "/data/akmorrow/miniconda3/envs/EpitomeEnv/lib/python3.6/site-packages/ipykernel_launcher.py:1: FutureWarning: Method .as_matrix will be removed in a future version. Use .values instead.\n",
      "  \"\"\"Entry point for launching an IPython kernel.\n"
     ]
    },
    {
     "data": {
      "text/plain": [
       "array([[ 1.,  1.,  8.],\n",
       "       [ 1.,  1.,  8.],\n",
       "       [ 1.,  1.,  9.],\n",
       "       [ 1.,  1.,  9.],\n",
       "       [ 1.,  1., 10.],\n",
       "       [ 1.,  1., 10.],\n",
       "       [ 1.,  4., 11.],\n",
       "       [ 1.,  4., 11.],\n",
       "       [ 1.,  4., 11.],\n",
       "       [ 1.,  4., 11.],\n",
       "       [ 1.,  4., 11.],\n",
       "       [ 1.,  4., 11.],\n",
       "       [ 1.,  4., 11.],\n",
       "       [ 1.,  4., 11.],\n",
       "       [ 1.,  4., 11.],\n",
       "       [ 1.,  4., 11.],\n",
       "       [ 1.,  4., 11.],\n",
       "       [ 1.,  4., 11.],\n",
       "       [ 1.,  4., 11.],\n",
       "       [ 1.,  4., 11.],\n",
       "       [ 1.,  4., 11.],\n",
       "       [ 1.,  4., 11.],\n",
       "       [ 1.,  2.,  4.],\n",
       "       [ 1.,  3.,  4.],\n",
       "       [ 1.,  3.,  4.],\n",
       "       [ 1.,  2.,  2.],\n",
       "       [ 1.,  3.,  2.],\n",
       "       [ 1.,  3.,  2.],\n",
       "       [ 1.,  2.,  5.],\n",
       "       [ 1.,  3.,  5.],\n",
       "       [ 1.,  3.,  5.],\n",
       "       [ 1.,  2.,  3.],\n",
       "       [ 1.,  3.,  3.],\n",
       "       [ 1.,  3.,  3.],\n",
       "       [ 1.,  2.,  6.],\n",
       "       [ 1.,  3.,  6.],\n",
       "       [ 1.,  3.,  6.],\n",
       "       [ 1.,  2.,  7.],\n",
       "       [ 1.,  3.,  7.],\n",
       "       [ 1.,  3.,  7.]])"
      ]
     },
     "execution_count": 237,
     "metadata": {},
     "output_type": "execute_result"
    }
   ],
   "source": [
    "x_ij.as_matrix()"
   ]
  },
  {
   "cell_type": "code",
   "execution_count": 240,
   "metadata": {},
   "outputs": [
    {
     "name": "stdout",
     "output_type": "stream",
     "text": [
      "p300\n",
      "<statsmodels.genmod.generalized_linear_model.GLMResultsWrapper object at 0x7f2c176b4358>\n",
      "                 Generalized Linear Model Regression Results                  \n",
      "==============================================================================\n",
      "Dep. Variable:                      y   No. Observations:                   40\n",
      "Model:                            GLM   Df Residuals:                       37\n",
      "Model Family:                   Gamma   Df Model:                            2\n",
      "Link Function:          inverse_power   Scale:                      0.00077726\n",
      "Method:                          IRLS   Log-Likelihood:                 145.98\n",
      "Date:                Thu, 04 Apr 2019   Deviance:                     0.029312\n",
      "Time:                        13:23:44   Pearson chi2:                   0.0288\n",
      "No. Iterations:                     5   Covariance Type:             nonrobust\n",
      "==============================================================================\n",
      "                 coef    std err          z      P>|z|      [0.025      0.975]\n",
      "------------------------------------------------------------------------------\n",
      "const          4.6095      0.062     73.922      0.000       4.487       4.732\n",
      "Type_cat      -0.1136      0.020     -5.669      0.000      -0.153      -0.074\n",
      "Donor_cat      0.0040      0.006      0.624      0.533      -0.009       0.017\n",
      "==============================================================================\n",
      "p300 ~ C(Type) + C(Donor)\n"
     ]
    },
    {
     "name": "stderr",
     "output_type": "stream",
     "text": [
      "/data/akmorrow/miniconda3/envs/EpitomeEnv/lib/python3.6/site-packages/statsmodels/genmod/generalized_linear_model.py:302: DomainWarning: The inverse_power link function does not respect the domain of the Gamma family.\n",
      "  DomainWarning)\n"
     ]
    },
    {
     "ename": "AttributeError",
     "evalue": "'PandasData' object has no attribute 'design_info'",
     "output_type": "error",
     "traceback": [
      "\u001b[0;31m---------------------------------------------------------------------------\u001b[0m",
      "\u001b[0;31mAttributeError\u001b[0m                            Traceback (most recent call last)",
      "\u001b[0;32m<ipython-input-240-105f2deffad1>\u001b[0m in \u001b[0;36m<module>\u001b[0;34m\u001b[0m\n\u001b[1;32m     26\u001b[0m     \u001b[0mprint\u001b[0m\u001b[0;34m(\u001b[0m\u001b[0mformula\u001b[0m\u001b[0;34m)\u001b[0m\u001b[0;34m\u001b[0m\u001b[0m\n\u001b[1;32m     27\u001b[0m     \u001b[0;31m#model = ols(formula, df).fit() # TODO, not ols!\u001b[0m\u001b[0;34m\u001b[0m\u001b[0;34m\u001b[0m\u001b[0m\n\u001b[0;32m---> 28\u001b[0;31m     \u001b[0maov_table\u001b[0m \u001b[0;34m=\u001b[0m \u001b[0mstatsmodels\u001b[0m\u001b[0;34m.\u001b[0m\u001b[0mstats\u001b[0m\u001b[0;34m.\u001b[0m\u001b[0manova\u001b[0m\u001b[0;34m.\u001b[0m\u001b[0manova_lm\u001b[0m\u001b[0;34m(\u001b[0m\u001b[0mmodel\u001b[0m\u001b[0;34m,\u001b[0m \u001b[0mtyp\u001b[0m\u001b[0;34m=\u001b[0m\u001b[0;36m2\u001b[0m\u001b[0;34m)\u001b[0m\u001b[0;34m\u001b[0m\u001b[0m\n\u001b[0m\u001b[1;32m     29\u001b[0m     \u001b[0mprint\u001b[0m\u001b[0;34m(\u001b[0m\u001b[0maov_table\u001b[0m\u001b[0;34m)\u001b[0m\u001b[0;34m\u001b[0m\u001b[0m\n",
      "\u001b[0;32m/data/akmorrow/miniconda3/envs/EpitomeEnv/lib/python3.6/site-packages/statsmodels/stats/anova.py\u001b[0m in \u001b[0;36manova_lm\u001b[0;34m(*args, **kwargs)\u001b[0m\n\u001b[1;32m    324\u001b[0m     \u001b[0;32mif\u001b[0m \u001b[0mlen\u001b[0m\u001b[0;34m(\u001b[0m\u001b[0margs\u001b[0m\u001b[0;34m)\u001b[0m \u001b[0;34m==\u001b[0m \u001b[0;36m1\u001b[0m\u001b[0;34m:\u001b[0m\u001b[0;34m\u001b[0m\u001b[0m\n\u001b[1;32m    325\u001b[0m         \u001b[0mmodel\u001b[0m \u001b[0;34m=\u001b[0m \u001b[0margs\u001b[0m\u001b[0;34m[\u001b[0m\u001b[0;36m0\u001b[0m\u001b[0;34m]\u001b[0m\u001b[0;34m\u001b[0m\u001b[0m\n\u001b[0;32m--> 326\u001b[0;31m         \u001b[0;32mreturn\u001b[0m \u001b[0manova_single\u001b[0m\u001b[0;34m(\u001b[0m\u001b[0mmodel\u001b[0m\u001b[0;34m,\u001b[0m \u001b[0;34m**\u001b[0m\u001b[0mkwargs\u001b[0m\u001b[0;34m)\u001b[0m\u001b[0;34m\u001b[0m\u001b[0m\n\u001b[0m\u001b[1;32m    327\u001b[0m \u001b[0;34m\u001b[0m\u001b[0m\n\u001b[1;32m    328\u001b[0m     \u001b[0;32mtry\u001b[0m\u001b[0;34m:\u001b[0m\u001b[0;34m\u001b[0m\u001b[0m\n",
      "\u001b[0;32m/data/akmorrow/miniconda3/envs/EpitomeEnv/lib/python3.6/site-packages/statsmodels/stats/anova.py\u001b[0m in \u001b[0;36manova_single\u001b[0;34m(model, **kwargs)\u001b[0m\n\u001b[1;32m     66\u001b[0m \u001b[0;34m\u001b[0m\u001b[0m\n\u001b[1;32m     67\u001b[0m     \u001b[0mresponse_name\u001b[0m \u001b[0;34m=\u001b[0m \u001b[0mmodel\u001b[0m\u001b[0;34m.\u001b[0m\u001b[0mmodel\u001b[0m\u001b[0;34m.\u001b[0m\u001b[0mendog_names\u001b[0m\u001b[0;34m\u001b[0m\u001b[0m\n\u001b[0;32m---> 68\u001b[0;31m     \u001b[0mdesign_info\u001b[0m \u001b[0;34m=\u001b[0m \u001b[0mmodel\u001b[0m\u001b[0;34m.\u001b[0m\u001b[0mmodel\u001b[0m\u001b[0;34m.\u001b[0m\u001b[0mdata\u001b[0m\u001b[0;34m.\u001b[0m\u001b[0mdesign_info\u001b[0m\u001b[0;34m\u001b[0m\u001b[0m\n\u001b[0m\u001b[1;32m     69\u001b[0m     \u001b[0mexog_names\u001b[0m \u001b[0;34m=\u001b[0m \u001b[0mmodel\u001b[0m\u001b[0;34m.\u001b[0m\u001b[0mmodel\u001b[0m\u001b[0;34m.\u001b[0m\u001b[0mexog_names\u001b[0m\u001b[0;34m\u001b[0m\u001b[0m\n\u001b[1;32m     70\u001b[0m     \u001b[0;31m# +1 for resids\u001b[0m\u001b[0;34m\u001b[0m\u001b[0;34m\u001b[0m\u001b[0m\n",
      "\u001b[0;31mAttributeError\u001b[0m: 'PandasData' object has no attribute 'design_info'"
     ]
    }
   ],
   "source": [
    "# anova test\n",
    "df = means.join(conditions)\n",
    "\n",
    "x_ij = df[[\"Type_cat\", \"Donor_cat\"]]\n",
    "x_ij = sm.add_constant(x_ij)\n",
    "\n",
    "factors = means.columns.drop(['Unnamed: 0','File'])\n",
    "\n",
    "\n",
    "\n",
    "df_filtered = df[(df[\"Type\"] == \"FBiPSC\") | (df[\"Type\"] == \"TiPSC\")]\n",
    "\n",
    "for i in range(matrix.shape[1]):\n",
    "    \n",
    "    print(factors[i])\n",
    "\n",
    "    # TODO cant use gamma output into anova\n",
    "#     # Instantiate a gamma family model with the default link function.\n",
    "#     gamma_model = sm.GLM(matrix[:,i], x_ij, family=sm.families.Gamma())\n",
    "\n",
    "#     model = gamma_model.fit()\n",
    "#     print(model)\n",
    "\n",
    "#     print(model.summary())\n",
    "\n",
    "    formula = '%s ~ C(Type) + C(Donor)' % factors[i]\n",
    "    print(formula)\n",
    "    model = ols(formula, df).fit() # TODO, not ols!\n",
    "    aov_table = statsmodels.stats.anova.anova_lm(model, typ=2)\n",
    "    print(aov_table)"
   ]
  },
  {
   "cell_type": "code",
   "execution_count": 222,
   "metadata": {},
   "outputs": [
    {
     "name": "stdout",
     "output_type": "stream",
     "text": [
      "<class 'statsmodels.genmod.generalized_linear_model.GLMResultsWrapper'>\n"
     ]
    },
    {
     "name": "stderr",
     "output_type": "stream",
     "text": [
      "/data/akmorrow/miniconda3/envs/EpitomeEnv/lib/python3.6/site-packages/statsmodels/genmod/generalized_linear_model.py:302: DomainWarning: The inverse_power link function does not respect the domain of the Gamma family.\n",
      "  DomainWarning)\n"
     ]
    }
   ],
   "source": [
    "test_data = sm.datasets.scotland.load()\n",
    "\n",
    "data.exog = sm.add_constant(test_data.exog)\n",
    "\n",
    "# Instantiate a gamma family model with the default link function.\n",
    "\n",
    "gamma_model = sm.GLM(test_data.endog, test_data.exog, family=sm.families.Gamma())\n",
    "\n",
    "gamma_results = gamma_model.fit()\n",
    "\n",
    "print(type(gamma_results))"
   ]
  }
 ],
 "metadata": {
  "kernelspec": {
   "display_name": "Python EpitomeEnv",
   "language": "python",
   "name": "myenv"
  },
  "language_info": {
   "codemirror_mode": {
    "name": "ipython",
    "version": 3
   },
   "file_extension": ".py",
   "mimetype": "text/x-python",
   "name": "python",
   "nbconvert_exporter": "python",
   "pygments_lexer": "ipython3",
   "version": "3.6.6"
  }
 },
 "nbformat": 4,
 "nbformat_minor": 2
}
