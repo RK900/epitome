{
 "cells": [
  {
   "cell_type": "markdown",
   "metadata": {},
   "source": [
    "# Bayesian NN\n",
    "\n",
    "\n",
    "CAN BE DELETED\n",
    "\n",
    "TODOs\n",
    "- then test with curriculum\n",
    "\n",
    "\n",
    "    \n",
    "\n",
    "# Useful Links\n",
    "- cifar ex https://github.com/tensorflow/probability/blob/80cc5cb33dfe04cb998bfe27ad3680a7a116d8b1/tensorflow_probability/examples/cifar10_bnn.py\n",
    "- uses resnet https://github.com/tensorflow/probability/blob/80cc5cb33dfe04cb998bfe27ad3680a7a116d8b1/tensorflow_probability/examples/models/bayesian_resnet.py\n",
    "- http://krasserm.github.io/2019/03/14/bayesian-neural-networks/\n",
    "- https://github.com/tensorflow/probability/blob/master/tensorflow_probability/examples/bayesian_neural_network.py\n",
    "\n",
    "\n",
    "\n"
   ]
  },
  {
   "cell_type": "code",
   "execution_count": 7,
   "metadata": {},
   "outputs": [],
   "source": [
    "from epitome.constants import *\n",
    "from epitome.models import *\n",
    "from epitome.generators import *\n",
    "from epitome.functions import *\n",
    "from epitome.viz import *\n",
    "from sklearn.metrics import roc_curve, auc\n",
    "assert(tf.executing_eagerly())\n",
    "import tensorflow_probability as tfp\n",
    "import yaml"
   ]
  },
  {
   "cell_type": "code",
   "execution_count": 8,
   "metadata": {},
   "outputs": [
    {
     "name": "stdout",
     "output_type": "stream",
     "text": [
      "(919, 2200000) (919, 4000) (919, 227512)\n"
     ]
    }
   ],
   "source": [
    "# load in user paths\n",
    "# TODO: make a config file with data_path (downloaded from bin/download_deepsea_data.py) \n",
    "# and feature_name_file (at data/feature_name)\n",
    "# My config.yml looks like:\n",
    "# data_path: /data/akmorrow/epitome_data/numpy_data/\n",
    "# feature_name_file: /home/eecs/akmorrow/epitome/data/feature_name\n",
    "\n",
    "with open('/home/eecs/akmorrow/epitome/config.yml') as f:\n",
    "    config = yaml.safe_load(f)\n",
    "    \n",
    "train_data, valid_data, test_data = load_deepsea_label_data(config[\"data_path\"])\n",
    "data = {Dataset.TRAIN: train_data, Dataset.VALID: valid_data, Dataset.TEST: test_data}\n",
    "print(data[Dataset.TRAIN].shape, data[Dataset.VALID].shape, data[Dataset.TEST].shape)"
   ]
  },
  {
   "cell_type": "markdown",
   "metadata": {},
   "source": [
    "## Plot Data Matrix"
   ]
  },
  {
   "cell_type": "code",
   "execution_count": 9,
   "metadata": {},
   "outputs": [
    {
     "data": {
      "text/plain": [
       "<matplotlib.image.AxesImage at 0x7f32174f5d68>"
      ]
     },
     "execution_count": 9,
     "metadata": {},
     "output_type": "execute_result"
    },
    {
     "data": {
      "image/png": "[encoded data removed]",
      "text/plain": [
       "<Figure size 1440x720 with 1 Axes>"
      ]
     },
     "metadata": {
      "needs_background": "light"
     },
     "output_type": "display_data"
    }
   ],
   "source": [
    "# matrix, cellmap, assaymap = get_assays_from_feature_file(eligible_assays = ['DNase','CTCF'],\n",
    "#                                   eligible_cells = None)\n",
    "\n",
    "matrix, cellmap, assaymap = get_assays_from_feature_file(eligible_assays = None,\n",
    "                                  eligible_cells = None, min_cells_per_assay =6, \n",
    "                                                         min_assays_per_cell=7)\n",
    "\n",
    "nv_assaymap = {v: k for k, v in assaymap.items()}\n",
    "\n",
    "fig = plt.figure(figsize = (20,10))\n",
    "ax = fig.add_subplot(1,1,1)\n",
    "ax.set_aspect('equal')\n",
    "plt.xticks(np.arange(len(assaymap)), rotation = 90)\n",
    "ax.set_xticklabels(assaymap.keys())\n",
    "plt.yticks(np.arange(len(cellmap)))\n",
    "ax.set_yticklabels(cellmap.keys())\n",
    "\n",
    "plt.imshow(matrix!=Label.UNK.value)"
   ]
  },
  {
   "cell_type": "code",
   "execution_count": 12,
   "metadata": {},
   "outputs": [
    {
     "name": "stderr",
     "output_type": "stream",
     "text": [
      "I0730 09:15:04.603674 139858324326144 models.py:625] Starting Training\n"
     ]
    },
    {
     "name": "stdout",
     "output_type": "stream",
     "text": [
      "eval cell types ['MCF-7', 'K562', 'HepG2', 'HeLa-S3', 'HUVEC', 'HCT-116', 'H1-hESC', 'GM12892', 'GM12891', 'GM12878', 'A549']\n",
      "using ['MCF-7', 'K562', 'HepG2', 'HeLa-S3', 'HUVEC', 'HCT-116', 'H1-hESC', 'GM12892', 'GM12891', 'GM12878', 'A549'] as labels for mode Dataset.TRAIN\n",
      "using ['MCF-7', 'K562', 'HepG2', 'HeLa-S3', 'HUVEC', 'HCT-116', 'H1-hESC', 'GM12892', 'GM12891', 'GM12878', 'A549'] as labels for mode Dataset.VALID\n",
      "using [] as labels for mode Dataset.TEST\n",
      "Error: no data, local variable 'x' referenced before assignment\n"
     ]
    },
    {
     "name": "stderr",
     "output_type": "stream",
     "text": [
      "I0730 09:15:08.214840 139858324326144 models.py:647] 0 tf.Tensor(0.05233644, shape=(), dtype=float32)tf.Tensor(0.05233644, shape=(), dtype=float32)tf.Tensor(0.0, shape=(), dtype=float32)\n",
      "I0730 09:16:20.435626 139858324326144 models.py:647] 1000 tf.Tensor(0.006751633, shape=(), dtype=float32)tf.Tensor(0.006751633, shape=(), dtype=float32)tf.Tensor(0.0, shape=(), dtype=float32)\n",
      "I0730 09:17:32.695755 139858324326144 models.py:647] 2000 tf.Tensor(0.0002807859, shape=(), dtype=float32)tf.Tensor(0.0002807859, shape=(), dtype=float32)tf.Tensor(0.0, shape=(), dtype=float32)\n",
      "I0730 09:18:44.776886 139858324326144 models.py:647] 3000 tf.Tensor(0.0017527713, shape=(), dtype=float32)tf.Tensor(0.0017527713, shape=(), dtype=float32)tf.Tensor(0.0, shape=(), dtype=float32)\n",
      "100%|██████████| 500/500 [01:24<00:00,  5.99it/s]\n",
      "I0730 09:21:33.077643 139858324326144 models.py:813] macro auROC:     0.9148286170126626\n",
      "I0730 09:21:33.078928 139858324326144 models.py:814] auPRC:     0.40812829007363366\n",
      "I0730 09:21:33.080070 139858324326144 models.py:815] GINI:     0.6116896412518135\n"
     ]
    },
    {
     "data": {
      "text/plain": [
       "(array([[0.05764611, 0.01475084, 0.02155756, ..., 0.01397925, 0.01421487,\n",
       "         0.07941371],\n",
       "        [0.04004386, 0.00904859, 0.01335717, ..., 0.01126431, 0.00658705,\n",
       "         0.04902893],\n",
       "        [0.05648667, 0.0140594 , 0.02018036, ..., 0.01405215, 0.01345908,\n",
       "         0.07710047],\n",
       "        ...,\n",
       "        [0.00603125, 0.00221032, 0.00228998, ..., 0.00554471, 0.00454584,\n",
       "         0.00995506],\n",
       "        [0.00704404, 0.00245272, 0.0027572 , ..., 0.00594262, 0.00495597,\n",
       "         0.01180945],\n",
       "        [0.00627523, 0.0022842 , 0.00236336, ..., 0.00559788, 0.00461533,\n",
       "         0.01043435]], dtype=float32),\n",
       " array([[0.01664871, 0.00490565, 0.00781487, ..., 0.00433992, 0.00537621,\n",
       "         0.02341718],\n",
       "        [0.01372631, 0.00342924, 0.0052446 , ..., 0.003463  , 0.00365492,\n",
       "         0.01907567],\n",
       "        [0.017902  , 0.0044871 , 0.00749034, ..., 0.00440414, 0.00500824,\n",
       "         0.02278067],\n",
       "        ...,\n",
       "        [0.00513339, 0.00161304, 0.00158175, ..., 0.00292424, 0.0055018 ,\n",
       "         0.0071707 ],\n",
       "        [0.00606546, 0.00178038, 0.00200468, ..., 0.00304058, 0.00498247,\n",
       "         0.00951178],\n",
       "        [0.00562639, 0.00170894, 0.00180605, ..., 0.00284821, 0.00482396,\n",
       "         0.00856768]], dtype=float32),\n",
       " array([[0., 0., 0., ..., 0., 0., 0.],\n",
       "        [0., 0., 0., ..., 0., 0., 0.],\n",
       "        [0., 0., 0., ..., 0., 0., 0.],\n",
       "        ...,\n",
       "        [0., 0., 0., ..., 0., 0., 0.],\n",
       "        [0., 0., 0., ..., 0., 0., 0.],\n",
       "        [0., 0., 0., ..., 0., 0., 0.]], dtype=float32),\n",
       " array([[0., 1., 0., ..., 0., 1., 0.],\n",
       "        [1., 1., 1., ..., 1., 1., 1.],\n",
       "        [1., 1., 1., ..., 1., 1., 1.],\n",
       "        ...,\n",
       "        [1., 1., 1., ..., 1., 1., 1.],\n",
       "        [1., 0., 1., ..., 0., 1., 1.],\n",
       "        [0., 1., 0., ..., 0., 1., 0.]], dtype=float32),\n",
       " {'p300': {'AUC': 0.7867704359952422,\n",
       "   'auPRC': 0.2579615296371699,\n",
       "   'GINI': 0.2855922829588797},\n",
       "  'c-Myc': {'AUC': 0.9349542153457531,\n",
       "   'auPRC': 0.3077395567117306,\n",
       "   'GINI': 0.541285913485034},\n",
       "  'YY1': {'AUC': 0.9274396313742392,\n",
       "   'auPRC': 0.2673792032118623,\n",
       "   'GINI': 0.6699556399365191},\n",
       "  'TAF1': {'AUC': 0.9773237861246811,\n",
       "   'auPRC': 0.6236400578320229,\n",
       "   'GINI': 0.7591356733760922},\n",
       "  'Rad21': {'AUC': 0.973399355739702,\n",
       "   'auPRC': 0.7103612253294463,\n",
       "   'GINI': 0.7897147915720067},\n",
       "  'Pol2-4H8': {'AUC': 0.902964833018544,\n",
       "   'auPRC': 0.5730634807329575,\n",
       "   'GINI': 0.7168016258027443},\n",
       "  'Pol2': {'AUC': 0.9852715671914477,\n",
       "   'auPRC': 0.6181480933178147,\n",
       "   'GINI': 0.9705431343828955},\n",
       "  'NRSF': {'AUC': 0.9534890408989133,\n",
       "   'auPRC': 0.2520247314319647,\n",
       "   'GINI': 0.5737381587733722},\n",
       "  'Max': {'AUC': 0.9100932224741749,\n",
       "   'auPRC': 0.32996921192203404,\n",
       "   'GINI': 0.6270522344735281},\n",
       "  'GABP': {'AUC': 0.955647738446411,\n",
       "   'auPRC': 0.41927873697618034,\n",
       "   'GINI': 0.4740327595659074},\n",
       "  'EZH2': {'AUC': 0.7772321428571429,\n",
       "   'auPRC': 0.008215645266496277,\n",
       "   'GINI': 0.09350718498076527},\n",
       "  'CTCF': {'AUC': 0.9768058087259414,\n",
       "   'auPRC': 0.7390922432589122,\n",
       "   'GINI': 0.9536116174518828},\n",
       "  'CEBPB': {'AUC': 0.8313802429724217,\n",
       "   'auPRC': 0.19879405532864666,\n",
       "   'GINI': 0.4969943195139476}},\n",
       " 0.9148286170126626,\n",
       " 0.40812829007363366)"
      ]
     },
     "execution_count": 12,
     "metadata": {},
     "output_type": "execute_result"
    }
   ],
   "source": [
    "mlp_model = VLP(data,\n",
    "        [],\n",
    "        matrix,\n",
    "        assaymap,\n",
    "        cellmap,\n",
    "        shuffle_size=2, \n",
    "        batch_size=64)\n",
    "\n",
    "mlp_model.train(4000)\n",
    "\n",
    "results = mlp_model.test(10000)\n",
    "results"
   ]
  },
  {
   "cell_type": "markdown",
   "metadata": {},
   "source": [
    "# RESULTS ON JUST CTCF (3000 iters)\n",
    "\n",
    "\n",
    "## new model(Flipout)\n",
    "- macro auROC:     0.9779000096968956\n",
    "- auPRC:     0.8028331881979279\n",
    "- GINI:     0.9558000193937909\n",
    "\n",
    "## original model\n",
    "- loss is 70 - ...58\n",
    "- 'AUC': 0.9827358578435126\n",
    "-  'auPRC': 0.8306948625675733\n",
    "- 'GINI': 0.9654720346638495\n",
    "- variance is negligible (5e-8)"
   ]
  },
  {
   "cell_type": "code",
   "execution_count": null,
   "metadata": {},
   "outputs": [],
   "source": []
  }
 ],
 "metadata": {
  "kernelspec": {
   "display_name": "EpitomeEnv_c76",
   "language": "python",
   "name": "epitomeenv_c76"
  },
  "language_info": {
   "codemirror_mode": {
    "name": "ipython",
    "version": 3
   },
   "file_extension": ".py",
   "mimetype": "text/x-python",
   "name": "python",
   "nbconvert_exporter": "python",
   "pygments_lexer": "ipython3",
   "version": "3.7.3"
  }
 },
 "nbformat": 4,
 "nbformat_minor": 1
}
