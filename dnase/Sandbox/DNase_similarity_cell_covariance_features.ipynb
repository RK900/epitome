{
 "cells": [
  {
   "cell_type": "markdown",
   "metadata": {},
   "source": [
    "# Featurizing the whole cell  covariance matrix as features\n",
    "Alyssa's 12/12/2018\n",
    "\n",
    "Currently, we are only adding the covariance matrix  for distances between the query cell type and the cell types in train. In this experiment, we add in the similarities between cell types in the train set and see if it helps\n",
    "\n",
    "\n",
    "IT DOES NOT HELP"
   ]
  },
  {
   "cell_type": "markdown",
   "metadata": {},
   "source": [
    "# Imports"
   ]
  },
  {
   "cell_type": "code",
   "execution_count": 1,
   "metadata": {
    "collapsed": true
   },
   "outputs": [],
   "source": [
    "import collections\n",
    "import datetime\n",
    "\n",
    "import pyDNase\n",
    "import tensorflow as tf\n",
    "import h5py\n",
    "from scipy.io import loadmat\n",
    "import numpy as np\n",
    "import matplotlib.pyplot as plt\n",
    "import sklearn.metrics\n",
    "import kipoi\n",
    "import os\n",
    "import pybedtools\n",
    "import torch\n",
    "import h5sparse\n",
    "import datetime\n",
    "import logging\n",
    "\n",
    "from scipy import stats\n",
    "\n",
    "from pyDNase import GenomicInterval\n",
    "from scipy.sparse import coo_matrix, vstack\n",
    "\n",
    "from scipy.fftpack import fft, ifft\n",
    "\n",
    "import sys"
   ]
  },
  {
   "cell_type": "code",
   "execution_count": null,
   "metadata": {
    "collapsed": true
   },
   "outputs": [],
   "source": [
    "# path to where dnase bams are stored. Bams need to be sorted and indexed. See bin/download_dnase_encode.sh for\n",
    "# data processing\n",
    "# Required in constants.py\n",
    "_ENCODE_DATA_PREFIX =  \"/data/akmorrow/encode_data/\"\n",
    "\n",
    "# where training data is stored\n",
    "deepsea_path = \"/data/akmorrow/epitome_data/deepsea_train/\""
   ]
  },
  {
   "cell_type": "markdown",
   "metadata": {},
   "source": [
    "# Define Paths for this user"
   ]
  },
  {
   "cell_type": "code",
   "execution_count": 4,
   "metadata": {
    "collapsed": true
   },
   "outputs": [],
   "source": [
    "from epitome.functions import *\n",
    "from epitome.models import *\n",
    "from epitome.generators import *\n",
    "from epitome.constants import *"
   ]
  },
  {
   "cell_type": "markdown",
   "metadata": {},
   "source": [
    "# Load Data"
   ]
  },
  {
   "cell_type": "markdown",
   "metadata": {},
   "source": [
    "### Load DeepSEA data"
   ]
  },
  {
   "cell_type": "code",
   "execution_count": 7,
   "metadata": {
    "collapsed": true
   },
   "outputs": [],
   "source": [
    "# TODO spead this up\n",
    "deepsea_path = \"/data/akmorrow/epitome_data/deepsea_train/\"\n",
    "\n",
    "train_data, valid_data, test_data = load_deepsea_data(deepsea_path)\n"
   ]
  },
  {
   "cell_type": "code",
   "execution_count": 8,
   "metadata": {},
   "outputs": [
    {
     "name": "stdout",
     "output_type": "stream",
     "text": [
      "(408000, 4, 1000) (4455024, 4, 1000) (455024, 4, 1000)\n",
      "(919, 408000) (919, 4455024) (919, 455024)\n"
     ]
    }
   ],
   "source": [
    "print(valid_data[\"x\"].shape, train_data[\"x\"].shape, test_data[\"x\"].shape)\n",
    "print(valid_data[\"y\"].shape, train_data[\"y\"].shape, test_data[\"y\"].shape)"
   ]
  },
  {
   "cell_type": "markdown",
   "metadata": {},
   "source": [
    "# Validation and Test Cell Types"
   ]
  },
  {
   "cell_type": "code",
   "execution_count": 9,
   "metadata": {
    "collapsed": true
   },
   "outputs": [],
   "source": [
    "# Available cell types\n",
    "validation_celltypes = [\"K562\", \"HepG2\"] \n",
    "test_celltypes = [\"A549\"]\n"
   ]
  },
  {
   "cell_type": "markdown",
   "metadata": {},
   "source": [
    "## Get matrix of cell types and assays"
   ]
  },
  {
   "cell_type": "code",
   "execution_count": 12,
   "metadata": {},
   "outputs": [
    {
     "name": "stdout",
     "output_type": "stream",
     "text": [
      "Warning: min_assays = 3 and elegible_cells != None, setting min_assays to 0 to use all specified eligible cells\n",
      "['MCF-7', 'K562', 'HepG2', 'HeLa-S3', 'HUVEC', 'HCT-116', 'H1-hESC', 'GM12892', 'GM12891', 'GM12878', 'A549'] ['DNase', 'p300', 'c-Myc', 'c-Jun', 'ZBTB33', 'YY1', 'USF2', 'USF-1', 'TBP', 'TAF1', 'Rad21', 'RFX5', 'Pol2-4H8', 'Pol2', 'NRSF', 'Max', 'GABP', 'EZH2', 'CTCF', 'CEBPB']\n"
     ]
    },
    {
     "data": {
      "text/plain": [
       "{'DNase': 0,\n",
       " 'p300': 1,\n",
       " 'c-Myc': 2,\n",
       " 'c-Jun': 3,\n",
       " 'ZBTB33': 4,\n",
       " 'YY1': 5,\n",
       " 'USF2': 6,\n",
       " 'USF-1': 7,\n",
       " 'TBP': 8,\n",
       " 'TAF1': 9,\n",
       " 'Rad21': 10,\n",
       " 'RFX5': 11,\n",
       " 'Pol2-4H8': 12,\n",
       " 'Pol2': 13,\n",
       " 'NRSF': 14,\n",
       " 'Max': 15,\n",
       " 'GABP': 16,\n",
       " 'EZH2': 17,\n",
       " 'CTCF': 18,\n",
       " 'CEBPB': 19}"
      ]
     },
     "execution_count": 12,
     "metadata": {},
     "output_type": "execute_result"
    },
    {
     "data": {
      "image/png": "[encoded data removed]",
      "text/plain": [
       "<Figure size 1440x720 with 1 Axes>"
      ]
     },
     "metadata": {
      "needs_background": "light"
     },
     "output_type": "display_data"
    }
   ],
   "source": [
    "matrix, cellmap, assaymap = get_assays_from_feature_file(feature_path='../data/feature_name', eligible_assays = DEFAULT_ASSAYS, \n",
    "                                 eligible_cells = DEFAULT_CELLS)\n",
    "        \n",
    "fig = plt.figure(figsize = (20,10))\n",
    "ax = fig.add_subplot(1,1,1)\n",
    "ax.set_aspect('equal')\n",
    "plt.xticks(np.arange(len(assaymap)), rotation = 90)\n",
    "ax.set_xticklabels(assaymap.keys())\n",
    "plt.yticks(np.arange(len(cellmap)))\n",
    "ax.set_yticklabels(cellmap.keys())\n",
    "\n",
    "plt.imshow(matrix!=-1)\n",
    "print(list(cellmap.keys()), list(assaymap.keys()))\n",
    "\n",
    "\n",
    "label_assays = list(assaymap)\n",
    "assaymap"
   ]
  },
  {
   "cell_type": "markdown",
   "metadata": {},
   "source": [
    "# Define New Covariance Generator"
   ]
  },
  {
   "cell_type": "code",
   "execution_count": 50,
   "metadata": {
    "collapsed": true
   },
   "outputs": [],
   "source": [
    "\n",
    "def gen_from_peaks_covariance(data, y_index_vectors, assay_indices, dnase_indices, indices, radii, **kwargs):\n",
    "    \"\"\"\n",
    "    Takes Deepsea data and calculates distance metrics from cell types whose locations\n",
    "    are specified by y_index_vector, and the other cell types in the set. Label space is only one assay.\n",
    "    This generator is used to test single vs multilabel classification performance.\n",
    "    \n",
    "    :param data: dictionary of matrices. Should have keys x and y. x contains n by 1000 rows. y contains n y 919 labels.\n",
    "    :param y_index_vectors: list of vectors which the indices in the y labels that should be used. \n",
    "    :param assay_indices: list of assays that should be used in the label space.\n",
    "    :param dnase_indices: indices for DNase for celltypes\n",
    "    :param indices: indices of cell types for the feature space (does not include cell types for eval/test)\n",
    "    :param radii: where to calculate DNase similarity to.\n",
    "    \n",
    "    :returns: generator of data\n",
    "    \"\"\"\n",
    "    # y indices for x and assay indices for y should have the same length\n",
    "    assert len(y_index_vectors) == len(assay_indices), \"Length of y_index_vectors and assay_indices must be the same (# cells evaluatated)\"\n",
    "    \n",
    "    def g():\n",
    "                    \n",
    "        if (len(radii) > 0):\n",
    "            range_ = range(max(radii), data[\"y\"].shape[-1]-max(radii))\n",
    "        else: \n",
    "            range_ = range(0, data[\"y\"].shape[-1])\n",
    " \n",
    "        for i in range_: # for all records\n",
    "        \n",
    "            train_dnases = []\n",
    "            \n",
    "            for j in dnase_indices:\n",
    "                for radius in radii:\n",
    "                    # calculate dnase similarities for all dnases in the train set\n",
    "                    dnase_double_positive = np.average(data[\"y\"][dnase_indices,i-radius:i+radius+1]*\n",
    "                                                     data[\"y\"][j,i-radius:i+radius+1], axis=1)\n",
    "\n",
    "                    # within the radius, fraction of places where they are both equal (0 or 1)\n",
    "                    dnase_agreement = np.average(data[\"y\"][dnase_indices,i-radius:i+radius+1]==\n",
    "                                                     data[\"y\"][j,i-radius:i+radius+1], axis=1)\n",
    "\n",
    "                    train_dnases.extend(dnase_double_positive)\n",
    "                    train_dnases.extend(dnase_agreement)\n",
    "\n",
    "            \n",
    "            for (y_index, assay_index) in zip(y_index_vectors, assay_indices): # for all validation cell types\n",
    "                dnases = train_dnases.copy()\n",
    "            \n",
    "                for radius in radii:\n",
    "                    # within the radius, fraction of places where they are both 1\n",
    "                    # y_index[0] == DNase location for specific cell type\n",
    "                    dnase_double_positive = np.average(data[\"y\"][dnase_indices,i-radius:i+radius+1]*\n",
    "                                             data[\"y\"][y_index[0],i-radius:i+radius+1], axis=1)\n",
    "                    \n",
    "                    # within the radius, fraction of places where they are both equal (0 or 1)\n",
    "                    dnase_agreement = np.average(data[\"y\"][dnase_indices,i-radius:i+radius+1]==\n",
    "                                             data[\"y\"][y_index[0],i-radius:i+radius+1], axis=1)\n",
    "                    dnases.extend(dnase_double_positive)\n",
    "                    dnases.extend(dnase_agreement)\n",
    "                    \n",
    "                # Remove DNase from prediction indices. \n",
    "                # You should not predict on assays you use to calculate the distance metric.\n",
    "                assay_index_no_dnase = np.delete(assay_index, [0])\n",
    "                yield np.concatenate([data[\"y\"][indices,i],dnases]), data[\"y\"][assay_index_no_dnase,i] \n",
    "    return g\n"
   ]
  },
  {
   "cell_type": "markdown",
   "metadata": {},
   "source": [
    "# Run the Model"
   ]
  },
  {
   "cell_type": "code",
   "execution_count": 2,
   "metadata": {},
   "outputs": [
    {
     "ename": "NameError",
     "evalue": "name 'np' is not defined",
     "output_type": "error",
     "traceback": [
      "\u001b[0;31m---------------------------------------------------------------------------\u001b[0m",
      "\u001b[0;31mNameError\u001b[0m                                 Traceback (most recent call last)",
      "\u001b[0;32m<ipython-input-2-f234df16e206>\u001b[0m in \u001b[0;36m<module>\u001b[0;34m\u001b[0m\n\u001b[0;32m----> 1\u001b[0;31m \u001b[0mexec\u001b[0m\u001b[0;34m(\u001b[0m\u001b[0mopen\u001b[0m\u001b[0;34m(\u001b[0m\u001b[0;34m\"./constants.py\"\u001b[0m\u001b[0;34m)\u001b[0m\u001b[0;34m.\u001b[0m\u001b[0mread\u001b[0m\u001b[0;34m(\u001b[0m\u001b[0;34m)\u001b[0m\u001b[0;34m)\u001b[0m\u001b[0;34m\u001b[0m\u001b[0;34m\u001b[0m\u001b[0m\n\u001b[0m\u001b[1;32m      2\u001b[0m \u001b[0mexec\u001b[0m\u001b[0;34m(\u001b[0m\u001b[0mopen\u001b[0m\u001b[0;34m(\u001b[0m\u001b[0;34m\"./functions.py\"\u001b[0m\u001b[0;34m)\u001b[0m\u001b[0;34m.\u001b[0m\u001b[0mread\u001b[0m\u001b[0;34m(\u001b[0m\u001b[0;34m)\u001b[0m\u001b[0;34m)\u001b[0m\u001b[0;34m\u001b[0m\u001b[0;34m\u001b[0m\u001b[0m\n\u001b[1;32m      3\u001b[0m \u001b[0mexec\u001b[0m\u001b[0;34m(\u001b[0m\u001b[0mopen\u001b[0m\u001b[0;34m(\u001b[0m\u001b[0;34m\"./generators.py\"\u001b[0m\u001b[0;34m)\u001b[0m\u001b[0;34m.\u001b[0m\u001b[0mread\u001b[0m\u001b[0;34m(\u001b[0m\u001b[0;34m)\u001b[0m\u001b[0;34m)\u001b[0m\u001b[0;34m\u001b[0m\u001b[0;34m\u001b[0m\u001b[0m\n\u001b[1;32m      4\u001b[0m \u001b[0mexec\u001b[0m\u001b[0;34m(\u001b[0m\u001b[0mopen\u001b[0m\u001b[0;34m(\u001b[0m\u001b[0;34m\"./models.py\"\u001b[0m\u001b[0;34m)\u001b[0m\u001b[0;34m.\u001b[0m\u001b[0mread\u001b[0m\u001b[0;34m(\u001b[0m\u001b[0;34m)\u001b[0m\u001b[0;34m)\u001b[0m\u001b[0;34m\u001b[0m\u001b[0;34m\u001b[0m\u001b[0m\n",
      "\u001b[0;32m<string>\u001b[0m in \u001b[0;36m<module>\u001b[0;34m\u001b[0m\n",
      "\u001b[0;31mNameError\u001b[0m: name 'np' is not defined"
     ]
    }
   ],
   "source": [
    "exec(open(\"./constants.py\").read())\n",
    "exec(open(\"./functions.py\").read())\n",
    "exec(open(\"./generators.py\").read())\n",
    "exec(open(\"./models.py\").read())"
   ]
  },
  {
   "cell_type": "code",
   "execution_count": 1,
   "metadata": {
    "scrolled": false
   },
   "outputs": [
    {
     "ename": "NameError",
     "evalue": "name 'MLP' is not defined",
     "output_type": "error",
     "traceback": [
      "\u001b[0;31m---------------------------------------------------------------------------\u001b[0m",
      "\u001b[0;31mNameError\u001b[0m                                 Traceback (most recent call last)",
      "\u001b[0;32m<ipython-input-1-a11cb8018342>\u001b[0m in \u001b[0;36m<module>\u001b[0;34m\u001b[0m\n\u001b[0;32m----> 1\u001b[0;31m model = MLP(4, [100, 100, 100, 50], \n\u001b[0m\u001b[1;32m      2\u001b[0m             \u001b[0mtf\u001b[0m\u001b[0;34m.\u001b[0m\u001b[0mtanh\u001b[0m\u001b[0;34m,\u001b[0m\u001b[0;34m\u001b[0m\u001b[0;34m\u001b[0m\u001b[0m\n\u001b[1;32m      3\u001b[0m             \u001b[0mtrain_data\u001b[0m\u001b[0;34m,\u001b[0m\u001b[0;34m\u001b[0m\u001b[0;34m\u001b[0m\u001b[0m\n\u001b[1;32m      4\u001b[0m             \u001b[0mvalid_data\u001b[0m\u001b[0;34m,\u001b[0m\u001b[0;34m\u001b[0m\u001b[0;34m\u001b[0m\u001b[0m\n\u001b[1;32m      5\u001b[0m             \u001b[0mtest_data\u001b[0m\u001b[0;34m,\u001b[0m\u001b[0;34m\u001b[0m\u001b[0;34m\u001b[0m\u001b[0m\n",
      "\u001b[0;31mNameError\u001b[0m: name 'MLP' is not defined"
     ]
    }
   ],
   "source": [
    "model = MLP(4, [100, 100, 100, 50], \n",
    "            tf.tanh, \n",
    "            train_data, \n",
    "            valid_data, \n",
    "            test_data, \n",
    "            validation_celltypes,\n",
    "            test_celltypes,\n",
    "            gen_from_peaks_covariance, \n",
    "            matrix,\n",
    "            assaymap,\n",
    "            cellmap,\n",
    "            shuffle_size=2, \n",
    "            label_assays = label_assays,\n",
    "            radii=[1,3,10,30])\n",
    "model.train(20000)\n"
   ]
  },
  {
   "cell_type": "code",
   "execution_count": 62,
   "metadata": {},
   "outputs": [
    {
     "name": "stdout",
     "output_type": "stream",
     "text": [
      "INFO:tensorflow:Our macro AUC:     0.9296935691916315\n",
      "INFO:tensorflow:Our micro AUC:     0.925227248470242\n",
      "2018-12-12 09:19:15.661346 0 DNase\n",
      "INFO:tensorflow:2018-12-12 09:19:15.661497: 0, DNase, NaN\n",
      "INFO:tensorflow:2018-12-12 09:19:15.662247: 1, p300, 0.906875\n",
      "2018-12-12 09:19:15.823545 2 c-Myc\n",
      "INFO:tensorflow:2018-12-12 09:19:15.823635: 2, c-Myc, NaN\n",
      "2018-12-12 09:19:15.824318 3 c-Jun\n",
      "INFO:tensorflow:2018-12-12 09:19:15.824533: 3, c-Jun, NaN\n",
      "INFO:tensorflow:2018-12-12 09:19:15.825238: 4, ZBTB33, 0.925065\n",
      "INFO:tensorflow:2018-12-12 09:19:15.982702: 5, YY1, 0.933539\n",
      "2018-12-12 09:19:16.139397 6 USF2\n",
      "INFO:tensorflow:2018-12-12 09:19:16.139480: 6, USF2, NaN\n",
      "INFO:tensorflow:2018-12-12 09:19:16.140103: 7, USF-1, 0.939744\n",
      "2018-12-12 09:19:16.297874 8 TBP\n",
      "INFO:tensorflow:2018-12-12 09:19:16.297975: 8, TBP, NaN\n",
      "INFO:tensorflow:2018-12-12 09:19:16.298623: 9, TAF1, 0.914989\n",
      "INFO:tensorflow:2018-12-12 09:19:16.454560: 10, Rad21, 0.991681\n",
      "2018-12-12 09:19:16.611630 11 RFX5\n",
      "INFO:tensorflow:2018-12-12 09:19:16.611731: 11, RFX5, NaN\n",
      "2018-12-12 09:19:16.612358 12 Pol2-4H8\n",
      "INFO:tensorflow:2018-12-12 09:19:16.612522: 12, Pol2-4H8, NaN\n",
      "INFO:tensorflow:2018-12-12 09:19:16.613199: 13, Pol2, 0.975584\n",
      "INFO:tensorflow:2018-12-12 09:19:16.770707: 14, NRSF, 0.909624\n",
      "INFO:tensorflow:2018-12-12 09:19:16.934738: 15, Max, 0.963467\n",
      "INFO:tensorflow:2018-12-12 09:19:17.090296: 16, GABP, 0.937179\n",
      "2018-12-12 09:19:17.246289 17 EZH2\n",
      "INFO:tensorflow:2018-12-12 09:19:17.246390: 17, EZH2, NaN\n",
      "INFO:tensorflow:2018-12-12 09:19:17.247033: 18, CTCF, 0.953311\n",
      "INFO:tensorflow:2018-12-12 09:19:17.406170: 19, CEBPB, 0.805266\n"
     ]
    }
   ],
   "source": [
    "test_DNase = model.test(455024, mode = Dataset.TEST, log=True)\n",
    "\n",
    "\n",
    "# INFO:tensorflow:2018-12-05 12:19:02.977124: 0, DNase, NaN\n",
    "# INFO:tensorflow:2018-12-05 12:19:02.979063: 1, Rad21, 0.936362\n",
    "# INFO:tensorflow:2018-12-05 12:19:03.135981: 2, CTCF, 0.972709\n",
    "# INFO:tensorflow:2018-12-05 12:19:03.300613: 3, SMC3, 0.905783"
   ]
  },
  {
   "cell_type": "code",
   "execution_count": null,
   "metadata": {
    "collapsed": true
   },
   "outputs": [],
   "source": []
  }
 ],
 "metadata": {
  "kernelspec": {
   "display_name": "Python 3",
   "language": "python",
   "name": "python3"
  },
  "language_info": {
   "codemirror_mode": {
    "name": "ipython",
    "version": 3
   },
   "file_extension": ".py",
   "mimetype": "text/x-python",
   "name": "python",
   "nbconvert_exporter": "python",
   "pygments_lexer": "ipython3",
   "version": "3.6.2"
  }
 },
 "nbformat": 4,
 "nbformat_minor": 2
}
