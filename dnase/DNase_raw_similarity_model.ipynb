{
 "cells": [
  {
   "cell_type": "code",
   "execution_count": 3,
   "metadata": {},
   "outputs": [],
   "source": [
    "import collections\n",
    "\n",
    "import pyDNase\n",
    "import tensorflow as tf\n",
    "import h5py\n",
    "from scipy.io import loadmat\n",
    "import numpy as np\n",
    "import matplotlib.pyplot as plt\n",
    "import sklearn.metrics\n",
    "import kipoi\n",
    "import os\n",
    "import pybedtools\n",
    "import torch\n",
    "import h5sparse\n",
    "import datetime\n",
    "import logging\n",
    "\n",
    "from pyDNase import GenomicInterval\n",
    "from scipy.sparse import coo_matrix, vstack\n",
    "\n",
    "from scipy.fftpack import fft, ifft\n",
    "\n",
    "import sys"
   ]
  },
  {
   "cell_type": "markdown",
   "metadata": {},
   "source": [
    "# Define Paths for this user"
   ]
  },
  {
   "cell_type": "code",
   "execution_count": 4,
   "metadata": {},
   "outputs": [],
   "source": [
    "########################## PATHS ###########################\n",
    "# path to where dnase bams are stored. Bams need to be sorted and indexed. See bin/download_dnase_encode.sh for\n",
    "# data processing\n",
    "_ENCODE_DATA_PREFIX =  \"/data/akmorrow/encode_data/\"\n",
    "\n",
    "deepsea_path = \"/data/akmorrow/epitome_data/deepsea_train/\"\n",
    "dnase_preprocessed_path = \"/data/akmorrow/epitome_data/processed_dnase/\"\n",
    "feature_path = \"/home/eecs/akmorrow/epitome/data/feature_name\"\n",
    "\n",
    "_DEEPSEA_GENOME_REGIONS_FILENAME = \"/home/eecs/akmorrow/epitome/data/allTFs.pos.bed\"\n",
    "\n",
    "# DNase filepath dictionary\n",
    "prefix_ =  \"/data/akmorrow/encode_data/\"\n",
    "\n",
    "\n",
    "# get TF logger\n",
    "log = logging.getLogger('tensorflow')\n",
    "tf_log = \"/home/eecs/akmorrow/epitome/dnase/tensorflow_combination.log\"\n",
    "fh = logging.FileHandler(tf_log)\n",
    "fh.setLevel(logging.INFO)\n",
    "log.addHandler(fh)"
   ]
  },
  {
   "cell_type": "code",
   "execution_count": 5,
   "metadata": {},
   "outputs": [],
   "source": [
    "exec(open(\"./constants.py\").read())\n",
    "exec(open(\"./functions.py\").read())"
   ]
  },
  {
   "cell_type": "markdown",
   "metadata": {},
   "source": [
    "# Load Data"
   ]
  },
  {
   "cell_type": "markdown",
   "metadata": {},
   "source": [
    "### Load DeepSEA data"
   ]
  },
  {
   "cell_type": "code",
   "execution_count": 4,
   "metadata": {},
   "outputs": [
    {
     "name": "stdout",
     "output_type": "stream",
     "text": [
      "(408000, 4, 1000) (4000000, 4, 1000) (455024, 4, 1000)\n",
      "(919, 408000) (919, 4000000) (919, 455024)\n"
     ]
    }
   ],
   "source": [
    "train_data, valid_data, test_data = load_deepsea_data(deepsea_path)\n",
    "\n",
    "print(valid_data[\"x\"].shape, train_data[\"x\"].shape, test_data[\"x\"].shape)\n",
    "print(valid_data[\"y\"].shape, train_data[\"y\"].shape, test_data[\"y\"].shape)"
   ]
  },
  {
   "cell_type": "markdown",
   "metadata": {},
   "source": [
    "### Load Cut Sites"
   ]
  },
  {
   "cell_type": "code",
   "execution_count": 5,
   "metadata": {},
   "outputs": [],
   "source": [
    "### Load DNase data to h5sparse files\n",
    "dnase_train = h5sparse.File(0(dnase_preprocessed_path, \"processed_dnase_train_sparse.h5\"))\n",
    "dnase_valid = h5sparse.File(os.path.join(dnase_preprocessed_path, \"processed_dnase_valid_sparse.h5\"))\n",
    "dnase_test  = h5sparse.File(os.path.join(dnase_preprocessed_path, \"processed_dnase_test_sparse.h5\"))"
   ]
  },
  {
   "cell_type": "code",
   "execution_count": 16,
   "metadata": {},
   "outputs": [],
   "source": [
    "\n",
    "\n"
   ]
  },
  {
   "cell_type": "code",
   "execution_count": 52,
   "metadata": {},
   "outputs": [
    {
     "name": "stdout",
     "output_type": "stream",
     "text": [
      "CPU times: user 46.6 s, sys: 33.2 s, total: 1min 19s\n",
      "Wall time: 1min 19s\n"
     ]
    }
   ],
   "source": [
    "%%time\n",
    "# This code moves around the results in validation and test so that the validation set is larger\n",
    "dnase_valid_dict = toSparseIndexedDictionary(dnase_train, dnase_valid,dnase_test, Dataset.VALID, normalize = True)\n",
    "dnase_test_dict = toSparseIndexedDictionary(dnase_train, dnase_valid,dnase_test, Dataset.TEST, normalize = True)\n",
    "dnase_train_dict = toSparseIndexedDictionary(dnase_train, dnase_valid,dnase_test, Dataset.TRAIN, normalize = True)\n"
   ]
  },
  {
   "cell_type": "markdown",
   "metadata": {},
   "source": [
    "# Choose cell types"
   ]
  },
  {
   "cell_type": "code",
   "execution_count": 6,
   "metadata": {},
   "outputs": [
    {
     "name": "stdout",
     "output_type": "stream",
     "text": [
      "['K562', 'GM12878', 'H1-hESC', 'HepG2', 'HeLa-S3', 'A549', 'HUVEC', 'GM12891', 'MCF-7', 'GM12892', 'HCT-116'] ['DNase', 'CTCF', 'Pol2', 'YY1', 'p300', 'TAF1', 'Pol2-4H8', 'c-Myc', 'Rad21', 'Max', 'NRSF', 'GABP', 'EZH2', 'CEBPB', 'c-Jun', 'ZBTB33', 'USF2', 'USF-1', 'TBP', 'RFX5']\n"
     ]
    },
    {
     "data": {
      "image/png": "[encoded data removed]",
      "text/plain": [
       "<Figure size 432x288 with 1 Axes>"
      ]
     },
     "metadata": {
      "needs_background": "light"
     },
     "output_type": "display_data"
    }
   ],
   "source": [
    "# matrix is cell types by factors, contains indices in feature vector\n",
    "matrix, cellmap, assaymap = get_assays_from_feature_file()\n",
    "\n",
    "inv_assaymap = {v: k for k, v in assaymap.items()}\n",
    "\n",
    "fig = plt.figure()\n",
    "ax = fig.add_subplot(1,1,1)\n",
    "ax.set_aspect('equal')\n",
    "plt.xticks(np.arange(len(assaymap)), rotation = 90)\n",
    "ax.set_xticklabels(assaymap.keys())\n",
    "plt.yticks(np.arange(len(cellmap)))\n",
    "ax.set_yticklabels(cellmap.keys())\n",
    "\n",
    "plt.imshow(matrix!=-1)\n",
    "print(list(cellmap.keys())[:11], list(assaymap.keys())[:20])"
   ]
  },
  {
   "cell_type": "markdown",
   "metadata": {},
   "source": [
    "# Select train, valid and test cell types\n",
    "\n",
    "- test on A549\n",
    "- train/validate on K562 and HepG2\n",
    "- use remaining cell types as feature input "
   ]
  },
  {
   "cell_type": "code",
   "execution_count": 54,
   "metadata": {},
   "outputs": [],
   "source": [
    "# A549 is for test. 12 available features\n",
    "test_celltypes = [\"A549\"]\n",
    "\n",
    "valid_y_indices = np.copy(matrix[cellmap['A549']])\n",
    "# indices that are unavailable for A549\n",
    "valid_holdout_indices = np.where(valid_y_indices == -1)[0]\n",
    "# TODO: need the vectors to be the same length, but you should not evaluate on these\n",
    "# Currently, set -1's to 0 these will all be evaluated on the DNase\n",
    "valid_y_indices[matrix[cellmap['A549']] ==-1]=0\n",
    "\n",
    "# K562, HepG2 indices is for train/valid. 19 available features\n",
    "evaluation_celltypes = [\"K562\", \"HepG2\"] \n",
    "y_indices = [matrix[cellmap['K562']][matrix[cellmap['K562']]!=-1], \n",
    "             matrix[cellmap['HepG2']][matrix[cellmap['HepG2']]!=-1]]\n",
    "\n",
    "# indices_mat is used to pull the remaining indices from cell types not used for prediction.\n",
    "# delete evaluation cell types from the matrix (A549, HepG2 and K562)\n",
    "indices_mat = np.delete(matrix, [0,3,5], axis=0)\n",
    "\n",
    "# get all feature locations for DNase for remaining cell types (just the first column in matrix)\n",
    "dnase_indices = indices_mat[:,0] # for all of the cell types (including the cell type we are evaluating)\n",
    "indices = indices_mat[indices_mat!=-1]\n",
    "\n",
    "# cell types not used in validation\n",
    "train_celltypes = ['GM12878', 'H1-hESC', 'HeLa-S3', 'HUVEC', 'GM12891', 'MCF-7', 'GM12892', 'HCT-116']\n"
   ]
  },
  {
   "cell_type": "markdown",
   "metadata": {},
   "source": [
    "# Data Generators"
   ]
  },
  {
   "cell_type": "markdown",
   "metadata": {},
   "source": [
    "## Generator with just processed DNase"
   ]
  },
  {
   "cell_type": "code",
   "execution_count": 55,
   "metadata": {},
   "outputs": [],
   "source": [
    "\n",
    "### Distance functions\n",
    "def gen(data, DATA_LABEL, radii=[1,3]):\n",
    "    def g():\n",
    "        \n",
    "        # determines which indices to use for labels\n",
    "        if (DATA_LABEL == Dataset.TEST):\n",
    "            y_index_vector = [valid_y_indices]\n",
    "        else:\n",
    "            y_index_vector = y_indices\n",
    "            \n",
    "        if (len(radii) > 0):\n",
    "            range_ = range(max(radii), data[\"y\"].shape[-1]-max(radii))\n",
    "        else: \n",
    "            range_ = range(0, data[\"y\"].shape[-1])\n",
    " \n",
    "        for i in range_: # for all records\n",
    "            for y_index in y_index_vector:\n",
    "                dnases = [] \n",
    "                for radius in radii:\n",
    "                    # within the radius, fraction of places where they are both 1\n",
    "                    dnase_double_positive = np.average(data[\"y\"][dnase_indices,i-radius:i+radius+1]*\n",
    "                                             data[\"y\"][y_index[0],i-radius:i+radius+1], axis=1)\n",
    "                    \n",
    "                    # within the radius, fraction of places where they are both equal (0 or 1)\n",
    "                    dnase_agreement = np.average(data[\"y\"][dnase_indices,i-radius:i+radius+1]==\n",
    "                                             data[\"y\"][y_index[0],i-radius:i+radius+1], axis=1)\n",
    "                    dnases.extend(dnase_double_positive)\n",
    "                    dnases.extend(dnase_agreement)\n",
    "                    \n",
    "                # Remove DNase from prediction indices. \n",
    "                # You should not predict on assays you use to calculate the distance metric.\n",
    "                y_index_no_dnase = np.delete(y_index, [0])\n",
    "                yield np.concatenate([data[\"y\"][indices,i],dnases]), data[\"y\"][y_index_no_dnase,i] \n",
    "    return g\n",
    "\n",
    "\n",
    "def make_dataset_for_celltype(cell, which_dataset, radii):\n",
    "    \"\"\"\n",
    "    Create data matrix for a specific cell type\n",
    "    \"\"\"\n",
    "    \n",
    "    y_vector_indices = None # TODO\n",
    "    \n",
    "\n",
    "def make_dataset(data,\n",
    "                 which_dataset,\n",
    "                 batch_size,\n",
    "                 shuffle_size,\n",
    "                 prefetch_size,\n",
    "                 radii):\n",
    "\n",
    "    generator = gen(data, which_dataset, radii)\n",
    "    \n",
    "    for x, y in generator():\n",
    "        break\n",
    "    \n",
    "    dataset = tf.data.Dataset.from_generator(\n",
    "        generator,\n",
    "        output_types=(tf.float32,)*2,\n",
    "        output_shapes=(x.shape, y.shape,)\n",
    "    )\n",
    "    dataset = dataset.batch(batch_size)\n",
    "    dataset = dataset.shuffle(shuffle_size)\n",
    "    dataset = dataset.repeat()\n",
    "    dataset = dataset.prefetch(prefetch_size)\n",
    "    return y.shape, dataset.make_one_shot_iterator()\n"
   ]
  },
  {
   "cell_type": "markdown",
   "metadata": {},
   "source": [
    "## Raw DNase Generator"
   ]
  },
  {
   "cell_type": "code",
   "execution_count": 56,
   "metadata": {
    "scrolled": true
   },
   "outputs": [],
   "source": [
    "def gen_dnase(data, DATA_LABEL, radii, chunk_size = 1):\n",
    "    def g():\n",
    "        # determines which indices to use for labels\n",
    "        if (DATA_LABEL == Dataset.TEST):\n",
    "            celltypes = test_celltypes\n",
    "            y_index_vector = [valid_y_indices]\n",
    "        else:\n",
    "            celltypes = evaluation_celltypes\n",
    "            y_index_vector = y_indices\n",
    "            \n",
    "            \n",
    "        if (len(radii) > 0):\n",
    "            start = max(radii)\n",
    "            end = data[\"y\"].shape[-1]-max(radii)\n",
    "        else: \n",
    "            start = 0\n",
    "            end = data[\"y\"].shape[-1]\n",
    "            range_ = range(start, end)\n",
    "\n",
    "        start_ = start\n",
    "        while (start_ < end):\n",
    "            end_ = min(start + chunk_size, end)\n",
    "            range_ = range(start_, end_)\n",
    "            \n",
    "            # for all cells in either train or test\n",
    "            for cell_i in range(0, len(celltypes)): # for each y_index [K562, HepG2], or [A549] if test\n",
    "\n",
    "                celltype = celltypes[cell_i]\n",
    "                y_index = y_index_vector[cell_i]\n",
    " \n",
    "                # get dnase for this cell type\n",
    "                dnase_i = get_dnase_array_from_modified_dict(dnase_train_dict, dnase_valid_dict, dnase_test_dict,\n",
    "                                                         range_, celltype, DATA_LABEL=DATA_LABEL)\n",
    "\n",
    "                dnases = np.empty((len(range_), 0))\n",
    "\n",
    "                # compare to all other cell types\n",
    "                for train_celltype in train_celltypes: \n",
    "\n",
    "                    dnase_j = get_dnase_array_from_modified_dict(dnase_train_dict, dnase_valid_dict, dnase_test_dict, \n",
    "                                                            range_, train_celltype, DATA_LABEL=DATA_LABEL)\n",
    "\n",
    "                    var_difference = abs(np.var(dnase_i.toarray(), axis=1) - np.var(dnase_j.toarray(), axis=1))\n",
    "                    var_difference = np.reshape(var_difference, (-1,  1))\n",
    "                    fft_mse = np.mean((fft(dnase_i.toarray(), axis=1) - fft(dnase_j.toarray(), axis=1))**2, axis=1).real\n",
    "\n",
    "                    fft_mse = np.reshape(fft_mse, (-1,  1))\n",
    "                    concat= np.concatenate((var_difference,fft_mse), axis=1)\n",
    "                    dnases = np.append(dnases, concat, axis=1)\n",
    "\n",
    "                # Remove DNase from prediction indices. \n",
    "                # You should not predict on assays you use to calculate the distance metric.\n",
    "                y_index_no_dnase = np.delete(y_index, [0])\n",
    "\n",
    "                for i in range(start_, end_):\n",
    "                    yield np.concatenate([data[\"y\"][indices,i].T,dnases[i,:]]), data[\"y\"][y_index_no_dnase, i]\n",
    "                \n",
    "            start += chunk_size\n",
    "\n",
    "    return g\n",
    "\n",
    "def make_dataset_dnase(data,\n",
    "                 which_dataset, # Dataset enum\n",
    "                 batch_size,\n",
    "                 shuffle_size,\n",
    "                 prefetch_size,\n",
    "                 radii):\n",
    "    \n",
    "    generator = gen_dnase(data, which_dataset, radii, chunk_size=50000)\n",
    "    \n",
    "    for x, y in generator():\n",
    "        break\n",
    "    \n",
    "    dataset = tf.data.Dataset.from_generator(\n",
    "        generator,\n",
    "        output_types=(tf.float32,)*2,\n",
    "        output_shapes=(x.shape, y.shape,)\n",
    "    )\n",
    "    dataset = dataset.batch(batch_size)\n",
    "    dataset = dataset.shuffle(shuffle_size)\n",
    "    dataset = dataset.repeat()\n",
    "    dataset = dataset.prefetch(prefetch_size)\n",
    "    return y.shape, dataset.make_one_shot_iterator()\n",
    "\n",
    "\n"
   ]
  },
  {
   "cell_type": "markdown",
   "metadata": {},
   "source": [
    "# Combination Generator"
   ]
  },
  {
   "cell_type": "code",
   "execution_count": 57,
   "metadata": {},
   "outputs": [],
   "source": [
    "def gen_dnase_combination(data, DATA_LABEL, radii, chunk_size = 1):\n",
    "    def g():\n",
    "        # determines which indices to use for labels\n",
    "        if (DATA_LABEL == Dataset.TEST):\n",
    "            celltypes = test_celltypes\n",
    "            y_index_vector = [valid_y_indices]\n",
    "        else:\n",
    "            celltypes = evaluation_celltypes\n",
    "            y_index_vector = y_indices\n",
    "            \n",
    "            \n",
    "        if (len(radii) > 0):\n",
    "            start = max(radii)\n",
    "            end = data[\"y\"].shape[-1]-max(radii)\n",
    "        else: \n",
    "            start = 0\n",
    "            end = data[\"y\"].shape[-1]\n",
    "            range_ = range(start, end)\n",
    "\n",
    "        start_ = start\n",
    "        while (start_ < end):\n",
    "            end_ = min(start_ + chunk_size, end)\n",
    "            range_ = range(start_, end_)\n",
    "            \n",
    "            # for all cells in either train or test\n",
    "            for cell_i in range(0, len(celltypes)): # for each y_index [K562, HepG2], or [A549] if test\n",
    "\n",
    "                celltype = celltypes[cell_i]\n",
    "                y_index = y_index_vector[cell_i]\n",
    " \n",
    "                # get dnase for this cell type\n",
    "                dnase_i = get_dnase_array_from_modified_dict(dnase_train_dict, dnase_valid_dict, dnase_test_dict,\n",
    "                                                         range_,celltype, DATA_LABEL=DATA_LABEL)\n",
    "\n",
    "                dnases = np.empty((len(range_), 0))\n",
    "\n",
    "                # compare to all other cell types\n",
    "                for train_celltype in train_celltypes: \n",
    "\n",
    "                    dnase_j = get_dnase_array_from_modified_dict(dnase_train_dict, dnase_valid_dict, dnase_test_dict, \n",
    "                                                            range_, train_celltype, DATA_LABEL=DATA_LABEL)\n",
    "\n",
    "                    var_difference = abs(np.var(dnase_i.toarray(), axis=1) - np.var(dnase_j.toarray(), axis=1))\n",
    "                    var_difference = np.reshape(var_difference, (-1,  1))\n",
    "                    fft_mse = np.mean((fft(dnase_i.toarray(), axis=1) - fft(dnase_j.toarray(), axis=1))**2, axis=1).real\n",
    "\n",
    "                    fft_mse = np.reshape(fft_mse, (-1,  1))\n",
    "                    concat= np.concatenate((var_difference,fft_mse), axis=1)\n",
    "                    dnases = np.append(dnases, concat, axis=1)\n",
    "\n",
    "                \n",
    "                # Remove DNase from prediction indices. \n",
    "                # You should not predict on assays you use to calculate the distance metric.\n",
    "                y_index_no_dnase = np.delete(y_index, [0])\n",
    "\n",
    "                for i in range(start_, end_):\n",
    "                    \n",
    "                    dnases_radii = [] \n",
    "                    for radius in radii:\n",
    "                        # within the radius, fraction of places where they are both 1\n",
    "                        dnase_double_positive = np.average(data[\"y\"][dnase_indices,i-radius:i+radius+1]*\n",
    "                                                 data[\"y\"][y_index[0],i-radius:i+radius+1], axis=1)\n",
    "\n",
    "                        # within the radius, fraction of places where they are both equal (0 or 1)\n",
    "                        dnase_agreement = np.average(data[\"y\"][dnase_indices,i-radius:i+radius+1]==\n",
    "                                                 data[\"y\"][y_index[0],i-radius:i+radius+1], axis=1)\n",
    "                        dnases_radii.extend(dnase_double_positive)\n",
    "                        dnases_radii.extend(dnase_agreement)\n",
    "\n",
    "                    dnases_radii = np.array(dnases_radii)\n",
    "                    \n",
    "                    yield np.concatenate([data[\"y\"][indices,i].T,dnases[i-start_,:], dnases_radii]), data[\"y\"][y_index_no_dnase, i]\n",
    "                \n",
    "            start_ += chunk_size\n",
    "\n",
    "    return g\n",
    "\n",
    "def make_dataset_dnase_combination(data,\n",
    "                 which_dataset, # Dataset enum\n",
    "                 batch_size,\n",
    "                 shuffle_size,\n",
    "                 prefetch_size,\n",
    "                 radii):\n",
    "    \n",
    "    generator = gen_dnase_combination(data, which_dataset, radii, chunk_size=50000)\n",
    "    \n",
    "    for x, y in generator():\n",
    "        break\n",
    "    \n",
    "    dataset = tf.data.Dataset.from_generator(\n",
    "        generator,\n",
    "        output_types=(tf.float32,)*2,\n",
    "        output_shapes=(x.shape, y.shape,)\n",
    "    )\n",
    "    dataset = dataset.batch(batch_size)\n",
    "    dataset = dataset.shuffle(shuffle_size)\n",
    "    dataset = dataset.repeat()\n",
    "    dataset = dataset.prefetch(prefetch_size)\n",
    "    return y.shape, dataset.make_one_shot_iterator()\n",
    "\n",
    "\n"
   ]
  },
  {
   "cell_type": "markdown",
   "metadata": {},
   "source": [
    "# Check how DeepSea does"
   ]
  },
  {
   "cell_type": "code",
   "execution_count": 58,
   "metadata": {},
   "outputs": [
    {
     "ename": "KeyboardInterrupt",
     "evalue": "",
     "output_type": "error",
     "traceback": [
      "\u001b[0;31m---------------------------------------------------------------------------\u001b[0m",
      "\u001b[0;31mKeyboardInterrupt\u001b[0m                         Traceback (most recent call last)",
      "\u001b[0;32m<ipython-input-58-fd136027ad7f>\u001b[0m in \u001b[0;36m<module>\u001b[0;34m\u001b[0m\n\u001b[0;32m----> 1\u001b[0;31m \u001b[0mmodel\u001b[0m \u001b[0;34m=\u001b[0m \u001b[0mkipoi\u001b[0m\u001b[0;34m.\u001b[0m\u001b[0mget_model\u001b[0m\u001b[0;34m(\u001b[0m\u001b[0;34m'DeepSEA/predict'\u001b[0m\u001b[0;34m)\u001b[0m\u001b[0;34m\u001b[0m\u001b[0m\n\u001b[0m\u001b[1;32m      2\u001b[0m \u001b[0mbatch_size\u001b[0m \u001b[0;34m=\u001b[0m \u001b[0;36m100\u001b[0m\u001b[0;34m\u001b[0m\u001b[0m\n",
      "\u001b[0;32m/data/akmorrow/miniconda3/envs/EpitomeEnv/lib/python3.6/site-packages/kipoi/model.py\u001b[0m in \u001b[0;36mget_model\u001b[0;34m(model, source, with_dataloader)\u001b[0m\n\u001b[1;32m     67\u001b[0m \u001b[0;34m\u001b[0m\u001b[0m\n\u001b[1;32m     68\u001b[0m     \u001b[0;31m# pull the model & get the model directory\u001b[0m\u001b[0;34m\u001b[0m\u001b[0;34m\u001b[0m\u001b[0m\n\u001b[0;32m---> 69\u001b[0;31m     \u001b[0myaml_path\u001b[0m \u001b[0;34m=\u001b[0m \u001b[0msource\u001b[0m\u001b[0;34m.\u001b[0m\u001b[0mpull_model\u001b[0m\u001b[0;34m(\u001b[0m\u001b[0mmodel\u001b[0m\u001b[0;34m)\u001b[0m\u001b[0;34m\u001b[0m\u001b[0m\n\u001b[0m\u001b[1;32m     70\u001b[0m     \u001b[0msource_dir\u001b[0m \u001b[0;34m=\u001b[0m \u001b[0mos\u001b[0m\u001b[0;34m.\u001b[0m\u001b[0mpath\u001b[0m\u001b[0;34m.\u001b[0m\u001b[0mdirname\u001b[0m\u001b[0;34m(\u001b[0m\u001b[0myaml_path\u001b[0m\u001b[0;34m)\u001b[0m\u001b[0;34m\u001b[0m\u001b[0m\n\u001b[1;32m     71\u001b[0m \u001b[0;34m\u001b[0m\u001b[0m\n",
      "\u001b[0;32m/data/akmorrow/miniconda3/envs/EpitomeEnv/lib/python3.6/site-packages/kipoi/sources.py\u001b[0m in \u001b[0;36mpull_model\u001b[0;34m(self, model)\u001b[0m\n\u001b[1;32m    211\u001b[0m \u001b[0;34m\u001b[0m\u001b[0m\n\u001b[1;32m    212\u001b[0m     \u001b[0;32mdef\u001b[0m \u001b[0mpull_model\u001b[0m\u001b[0;34m(\u001b[0m\u001b[0mself\u001b[0m\u001b[0;34m,\u001b[0m \u001b[0mmodel\u001b[0m\u001b[0;34m)\u001b[0m\u001b[0;34m:\u001b[0m\u001b[0;34m\u001b[0m\u001b[0m\n\u001b[0;32m--> 213\u001b[0;31m         \u001b[0;32mreturn\u001b[0m \u001b[0mself\u001b[0m\u001b[0;34m.\u001b[0m\u001b[0m_pull_component\u001b[0m\u001b[0;34m(\u001b[0m\u001b[0mmodel\u001b[0m\u001b[0;34m,\u001b[0m \u001b[0;34m\"model\"\u001b[0m\u001b[0;34m)\u001b[0m\u001b[0;34m\u001b[0m\u001b[0m\n\u001b[0m\u001b[1;32m    214\u001b[0m \u001b[0;34m\u001b[0m\u001b[0m\n\u001b[1;32m    215\u001b[0m     \u001b[0;32mdef\u001b[0m \u001b[0mpull_dataloader\u001b[0m\u001b[0;34m(\u001b[0m\u001b[0mself\u001b[0m\u001b[0;34m,\u001b[0m \u001b[0mdataloader\u001b[0m\u001b[0;34m)\u001b[0m\u001b[0;34m:\u001b[0m\u001b[0;34m\u001b[0m\u001b[0m\n",
      "\u001b[0;32m/data/akmorrow/miniconda3/envs/EpitomeEnv/lib/python3.6/site-packages/kipoi/sources.py\u001b[0m in \u001b[0;36m_pull_component\u001b[0;34m(self, component, which)\u001b[0m\n\u001b[1;32m    388\u001b[0m         \u001b[0mlfs_installed\u001b[0m\u001b[0;34m(\u001b[0m\u001b[0mraise_exception\u001b[0m\u001b[0;34m=\u001b[0m\u001b[0;32mTrue\u001b[0m\u001b[0;34m)\u001b[0m\u001b[0;34m\u001b[0m\u001b[0m\n\u001b[1;32m    389\u001b[0m         \u001b[0;32mif\u001b[0m \u001b[0;32mnot\u001b[0m \u001b[0mself\u001b[0m\u001b[0;34m.\u001b[0m\u001b[0m_pulled\u001b[0m\u001b[0;34m:\u001b[0m\u001b[0;34m\u001b[0m\u001b[0m\n\u001b[0;32m--> 390\u001b[0;31m             \u001b[0mself\u001b[0m\u001b[0;34m.\u001b[0m\u001b[0mpull_source\u001b[0m\u001b[0;34m(\u001b[0m\u001b[0;34m)\u001b[0m\u001b[0;34m\u001b[0m\u001b[0m\n\u001b[0m\u001b[1;32m    391\u001b[0m \u001b[0;34m\u001b[0m\u001b[0m\n\u001b[1;32m    392\u001b[0m         \u001b[0mcomponent_dir\u001b[0m \u001b[0;34m=\u001b[0m \u001b[0mos\u001b[0m\u001b[0;34m.\u001b[0m\u001b[0mpath\u001b[0m\u001b[0;34m.\u001b[0m\u001b[0mjoin\u001b[0m\u001b[0;34m(\u001b[0m\u001b[0mself\u001b[0m\u001b[0;34m.\u001b[0m\u001b[0mlocal_path\u001b[0m\u001b[0;34m,\u001b[0m \u001b[0mcomponent\u001b[0m\u001b[0;34m)\u001b[0m\u001b[0;34m\u001b[0m\u001b[0m\n",
      "\u001b[0;32m/data/akmorrow/miniconda3/envs/EpitomeEnv/lib/python3.6/site-packages/kipoi/sources.py\u001b[0m in \u001b[0;36mpull_source\u001b[0;34m(self)\u001b[0m\n\u001b[1;32m    370\u001b[0m                          \"pull\"],\n\u001b[1;32m    371\u001b[0m                         \u001b[0mcwd\u001b[0m\u001b[0;34m=\u001b[0m\u001b[0mself\u001b[0m\u001b[0;34m.\u001b[0m\u001b[0mlocal_path\u001b[0m\u001b[0;34m,\u001b[0m\u001b[0;34m\u001b[0m\u001b[0m\n\u001b[0;32m--> 372\u001b[0;31m                         env=dict(os.environ, GIT_LFS_SKIP_SMUDGE=\"1\"))\n\u001b[0m\u001b[1;32m    373\u001b[0m         \u001b[0mself\u001b[0m\u001b[0;34m.\u001b[0m\u001b[0m_pulled\u001b[0m \u001b[0;34m=\u001b[0m \u001b[0;32mTrue\u001b[0m\u001b[0;34m\u001b[0m\u001b[0m\n\u001b[1;32m    374\u001b[0m \u001b[0;34m\u001b[0m\u001b[0m\n",
      "\u001b[0;32m/data/akmorrow/miniconda3/envs/EpitomeEnv/lib/python3.6/subprocess.py\u001b[0m in \u001b[0;36mcall\u001b[0;34m(timeout, *popenargs, **kwargs)\u001b[0m\n\u001b[1;32m    265\u001b[0m     \u001b[0mretcode\u001b[0m \u001b[0;34m=\u001b[0m \u001b[0mcall\u001b[0m\u001b[0;34m(\u001b[0m\u001b[0;34m[\u001b[0m\u001b[0;34m\"ls\"\u001b[0m\u001b[0;34m,\u001b[0m \u001b[0;34m\"-l\"\u001b[0m\u001b[0;34m]\u001b[0m\u001b[0;34m)\u001b[0m\u001b[0;34m\u001b[0m\u001b[0m\n\u001b[1;32m    266\u001b[0m     \"\"\"\n\u001b[0;32m--> 267\u001b[0;31m     \u001b[0;32mwith\u001b[0m \u001b[0mPopen\u001b[0m\u001b[0;34m(\u001b[0m\u001b[0;34m*\u001b[0m\u001b[0mpopenargs\u001b[0m\u001b[0;34m,\u001b[0m \u001b[0;34m**\u001b[0m\u001b[0mkwargs\u001b[0m\u001b[0;34m)\u001b[0m \u001b[0;32mas\u001b[0m \u001b[0mp\u001b[0m\u001b[0;34m:\u001b[0m\u001b[0;34m\u001b[0m\u001b[0m\n\u001b[0m\u001b[1;32m    268\u001b[0m         \u001b[0;32mtry\u001b[0m\u001b[0;34m:\u001b[0m\u001b[0;34m\u001b[0m\u001b[0m\n\u001b[1;32m    269\u001b[0m             \u001b[0;32mreturn\u001b[0m \u001b[0mp\u001b[0m\u001b[0;34m.\u001b[0m\u001b[0mwait\u001b[0m\u001b[0;34m(\u001b[0m\u001b[0mtimeout\u001b[0m\u001b[0;34m=\u001b[0m\u001b[0mtimeout\u001b[0m\u001b[0;34m)\u001b[0m\u001b[0;34m\u001b[0m\u001b[0m\n",
      "\u001b[0;32m/data/akmorrow/miniconda3/envs/EpitomeEnv/lib/python3.6/subprocess.py\u001b[0m in \u001b[0;36m__init__\u001b[0;34m(self, args, bufsize, executable, stdin, stdout, stderr, preexec_fn, close_fds, shell, cwd, env, universal_newlines, startupinfo, creationflags, restore_signals, start_new_session, pass_fds, encoding, errors)\u001b[0m\n\u001b[1;32m    707\u001b[0m                                 \u001b[0mc2pread\u001b[0m\u001b[0;34m,\u001b[0m \u001b[0mc2pwrite\u001b[0m\u001b[0;34m,\u001b[0m\u001b[0;34m\u001b[0m\u001b[0m\n\u001b[1;32m    708\u001b[0m                                 \u001b[0merrread\u001b[0m\u001b[0;34m,\u001b[0m \u001b[0merrwrite\u001b[0m\u001b[0;34m,\u001b[0m\u001b[0;34m\u001b[0m\u001b[0m\n\u001b[0;32m--> 709\u001b[0;31m                                 restore_signals, start_new_session)\n\u001b[0m\u001b[1;32m    710\u001b[0m         \u001b[0;32mexcept\u001b[0m\u001b[0;34m:\u001b[0m\u001b[0;34m\u001b[0m\u001b[0m\n\u001b[1;32m    711\u001b[0m             \u001b[0;31m# Cleanup if the child failed starting.\u001b[0m\u001b[0;34m\u001b[0m\u001b[0;34m\u001b[0m\u001b[0m\n",
      "\u001b[0;32m/data/akmorrow/miniconda3/envs/EpitomeEnv/lib/python3.6/subprocess.py\u001b[0m in \u001b[0;36m_execute_child\u001b[0;34m(self, args, executable, preexec_fn, close_fds, pass_fds, cwd, env, startupinfo, creationflags, shell, p2cread, p2cwrite, c2pread, c2pwrite, errread, errwrite, restore_signals, start_new_session)\u001b[0m\n\u001b[1;32m   1296\u001b[0m                 \u001b[0merrpipe_data\u001b[0m \u001b[0;34m=\u001b[0m \u001b[0mbytearray\u001b[0m\u001b[0;34m(\u001b[0m\u001b[0;34m)\u001b[0m\u001b[0;34m\u001b[0m\u001b[0m\n\u001b[1;32m   1297\u001b[0m                 \u001b[0;32mwhile\u001b[0m \u001b[0;32mTrue\u001b[0m\u001b[0;34m:\u001b[0m\u001b[0;34m\u001b[0m\u001b[0m\n\u001b[0;32m-> 1298\u001b[0;31m                     \u001b[0mpart\u001b[0m \u001b[0;34m=\u001b[0m \u001b[0mos\u001b[0m\u001b[0;34m.\u001b[0m\u001b[0mread\u001b[0m\u001b[0;34m(\u001b[0m\u001b[0merrpipe_read\u001b[0m\u001b[0;34m,\u001b[0m \u001b[0;36m50000\u001b[0m\u001b[0;34m)\u001b[0m\u001b[0;34m\u001b[0m\u001b[0m\n\u001b[0m\u001b[1;32m   1299\u001b[0m                     \u001b[0merrpipe_data\u001b[0m \u001b[0;34m+=\u001b[0m \u001b[0mpart\u001b[0m\u001b[0;34m\u001b[0m\u001b[0m\n\u001b[1;32m   1300\u001b[0m                     \u001b[0;32mif\u001b[0m \u001b[0;32mnot\u001b[0m \u001b[0mpart\u001b[0m \u001b[0;32mor\u001b[0m \u001b[0mlen\u001b[0m\u001b[0;34m(\u001b[0m\u001b[0merrpipe_data\u001b[0m\u001b[0;34m)\u001b[0m \u001b[0;34m>\u001b[0m \u001b[0;36m50000\u001b[0m\u001b[0;34m:\u001b[0m\u001b[0;34m\u001b[0m\u001b[0m\n",
      "\u001b[0;31mKeyboardInterrupt\u001b[0m: "
     ]
    }
   ],
   "source": [
    "model = kipoi.get_model('DeepSEA/predict')\n",
    "batch_size = 100"
   ]
  },
  {
   "cell_type": "markdown",
   "metadata": {},
   "source": [
    "## Predict on all validation data "
   ]
  },
  {
   "cell_type": "code",
   "execution_count": null,
   "metadata": {},
   "outputs": [],
   "source": [
    "valid_preds = []\n",
    "for i in np.arange(0, len(valid_data[\"x\"]), batch_size):\n",
    "    batch = valid_data[\"x\"][i:i+batch_size]\n",
    "    batch = np.expand_dims(batch, 2)\n",
    "    batch = batch[:,[0,2,1,3]]\n",
    "    valid_preds.append(model.predict_on_batch(batch.astype(np.float32)))\n",
    "valid_preds = np.concatenate(valid_preds, axis=0)"
   ]
  },
  {
   "cell_type": "markdown",
   "metadata": {},
   "source": [
    "## Predict on all test data"
   ]
  },
  {
   "cell_type": "code",
   "execution_count": null,
   "metadata": {},
   "outputs": [],
   "source": [
    "test_preds = []\n",
    "for i in np.arange(0, len(test_data[\"x\"]), batch_size):\n",
    "    batch = test_data[\"x\"][i:i+batch_size]\n",
    "    batch = np.expand_dims(batch, 2)\n",
    "    batch = batch[:,[0,2,1,3]]\n",
    "    test_preds.append(model.predict_on_batch(batch.astype(np.float32)))\n",
    "test_preds = np.concatenate(test_preds, axis=0)"
   ]
  },
  {
   "cell_type": "markdown",
   "metadata": {},
   "source": [
    "## Performance of DeepSea through averaging\n",
    "\n",
    "We want to average together the factors and see how it does on:\n",
    "1. HepG2/K562 (validation)\n",
    "2. A549 (test)"
   ]
  },
  {
   "cell_type": "markdown",
   "metadata": {},
   "source": [
    "### 1. HepG2/K562 (validation)"
   ]
  },
  {
   "cell_type": "code",
   "execution_count": 15,
   "metadata": {},
   "outputs": [
    {
     "name": "stdout",
     "output_type": "stream",
     "text": [
      "Macro score from averaging 0.9108393281713489\n",
      "Micro score from averaging 0.9319089399333468\n",
      "0 0.8475896488335533\n",
      "1 0.9860134551918847\n",
      "2 0.9072402824226543\n",
      "3 0.9410950132803635\n",
      "4 0.7650114072533384\n",
      "5 0.9564704584616246\n",
      "6 0.8562495117523279\n",
      "7 0.9441793263529175\n",
      "8 0.9798146625765454\n",
      "9 0.9157246598860256\n",
      "10 0.8779347984716908\n",
      "11 0.9335361482585034\n",
      "12 0.878278458631916\n",
      "13 0.9352162015045606\n",
      "14 0.9184113000053894\n",
      "15 0.8906184636733092\n",
      "16 0.9718895826918873\n",
      "17 0.9543735392701003\n",
      "18 0.8869429616428643\n",
      "19 0.8701966832655255\n"
     ]
    }
   ],
   "source": [
    "weights = np.tile((indices_mat!=-1).reshape(indices_mat.shape + (1,)), (1, 1, valid_data[\"y\"].shape[-1]))\n",
    "\n",
    "# weight by all cell types except A549, HepG2, and K562\n",
    "average_preds = np.average(valid_preds.T[indices_mat], axis=0, weights=weights)\n",
    "average_preds = np.concatenate([average_preds,average_preds],axis=1)\n",
    "\n",
    "# y_indices are indices for K562 (0) and HepG2(1)\n",
    "truth = np.concatenate([valid_data[\"y\"][y_indices[0]],valid_data[\"y\"][y_indices[1]]],axis=1)\n",
    "\n",
    "print(\"Macro score from averaging\", sklearn.metrics.roc_auc_score(truth.T, average_preds.T, average='macro'))\n",
    "print(\"Micro score from averaging\", sklearn.metrics.roc_auc_score(truth.T, average_preds.T, average='micro'))\n",
    "for i in range(len(truth)):\n",
    "    assay = inv_assaymap[i]\n",
    "    print(assay[i], sklearn.metrics.roc_auc_score(truth[i].T, average_preds[i].T, average='macro'))"
   ]
  },
  {
   "cell_type": "markdown",
   "metadata": {},
   "source": [
    "### 2. A549 (test) through DeepSEA Averaging"
   ]
  },
  {
   "cell_type": "code",
   "execution_count": 100,
   "metadata": {},
   "outputs": [
    {
     "name": "stdout",
     "output_type": "stream",
     "text": [
      "Macro score from averaging 0.8887567862655935\n",
      "Micro score from averaging 0.8933466077881789\n",
      "0 DNase nan\n",
      "1 CTCF 0.9732582618637076\n",
      "2 Pol2 0.9740896187256735\n",
      "3 YY1 0.8937753311227441\n",
      "4 p300 0.7829031969754814\n",
      "5 TAF1 0.9091835813538927\n",
      "6 Pol2-4H8 nan\n",
      "7 c-Myc nan\n",
      "8 Rad21 0.9874737314077517\n",
      "9 Max 0.9661944546335738\n",
      "10 NRSF 0.7467304399291882\n",
      "11 GABP 0.8429410069617789\n",
      "12 EZH2 nan\n",
      "13 CEBPB 0.957693187759048\n",
      "14 c-Jun nan\n",
      "15 ZBTB33 0.8062263300698922\n",
      "16 USF2 nan\n",
      "17 USF-1 0.8246122943843901\n",
      "18 TBP nan\n",
      "19 RFX5 nan\n"
     ]
    }
   ],
   "source": [
    "weights = np.tile((indices_mat!=-1).reshape(indices_mat.shape + (1,)), (1, 1, test_data[\"y\"].shape[-1]))\n",
    "\n",
    "average_preds = np.average(test_preds.T[indices_mat], axis=0, weights=weights)\n",
    "\n",
    "# filter out missing indices from average_preds as well as DNase at position 0\n",
    "average_preds = np.delete(average_preds, np.append(0, valid_holdout_indices), 0)\n",
    "\n",
    "truth = test_data[\"y\"]\n",
    "\n",
    "# filter out missing indices from truth that do not exist for A549, as well as DNase\n",
    "valid_y_indices_n = np.copy(matrix[cellmap['A549']])\n",
    "# remove DNase (first value)\n",
    "valid_y_indices_n[0] = -1\n",
    "valid_y_indices_n = valid_y_indices_n[valid_y_indices_n != -1]\n",
    "truth = truth[valid_y_indices_n,]\n",
    "\n",
    "print(\"Macro score from averaging\", sklearn.metrics.roc_auc_score(truth.T, average_preds.T, average='macro'))\n",
    "print(\"Micro score from averaging\", sklearn.metrics.roc_auc_score(truth.T, average_preds.T, average='micro'))\n",
    "\n",
    "j=0\n",
    "for i in range(0, 20): # eval on all assays except DNase and assays that are missing in A549\n",
    "    assay = inv_assaymap[i]\n",
    "\n",
    "    if (i not in valid_holdout_indices and i != 0):\n",
    "        print(i, assay, sklearn.metrics.roc_auc_score(truth[j].T, average_preds[j].T, average='macro'))\n",
    "        j = j + 1\n",
    "    else:\n",
    "        print(i, assay, np.NaN)\n"
   ]
  },
  {
   "cell_type": "markdown",
   "metadata": {},
   "source": [
    "# Model definition"
   ]
  },
  {
   "cell_type": "code",
   "execution_count": 59,
   "metadata": {},
   "outputs": [],
   "source": [
    "class Model():\n",
    "    def __init__(self,\n",
    "                 train_data,\n",
    "                 valid_data,\n",
    "                 test_data,\n",
    "                 batch_size=64,\n",
    "                 shuffle_size=10000,\n",
    "                 prefetch_size=10,\n",
    "                 l1=0.,\n",
    "                 l2=0.,\n",
    "                 lr=1e-3,\n",
    "                 radii=[1,3]):\n",
    "        \n",
    "        self.graph = tf.Graph()\n",
    "\n",
    "        with self.graph.as_default() as graph:\n",
    "            tf.logging.set_verbosity(tf.logging.INFO)\n",
    "\n",
    "            output_shape, train_iter = make_dataset_dnase_combination(train_data,  Dataset.TRAIN, batch_size, shuffle_size, prefetch_size, radii)\n",
    "            _,            valid_iter = make_dataset_dnase_combination(valid_data, Dataset.VALID, batch_size, 1           , prefetch_size, radii)\n",
    "            _,            test_iter = make_dataset_dnase_combination(test_data, Dataset.TEST, batch_size, 1           , prefetch_size, radii)\n",
    "\n",
    "            ### Weston uncomment to run original method\n",
    "#             output_shape, train_iter = make_dataset(train_data,  Dataset.TRAIN, batch_size, shuffle_size, prefetch_size, radii)\n",
    "#             _,            valid_iter = make_dataset(valid_data, Dataset.VALID, batch_size, 1           , prefetch_size, radii)\n",
    "#             _,            test_iter = make_dataset(test_data, Dataset.TEST, batch_size, 1           , prefetch_size, radii)\n",
    "\n",
    "            self.train_handle = train_iter.string_handle()\n",
    "            self.valid_handle = valid_iter.string_handle()\n",
    "            self.test_handle = test_iter.string_handle()\n",
    "            \n",
    "            self.handle = tf.placeholder(tf.string, shape=[])\n",
    "            iterator = tf.data.Iterator.from_string_handle(\n",
    "                self.handle, train_iter.output_types, train_iter.output_shapes)\n",
    "            self.x, self.y = iterator.get_next()\n",
    "            \n",
    "            self.sess = tf.InteractiveSession(graph=graph)\n",
    "\n",
    "            self.num_outputs = output_shape[0]\n",
    "            self.l1, self.l2 = l1, l2\n",
    "            self.default_lr = lr\n",
    "            self.lr = tf.placeholder(tf.float32)\n",
    "            self.batch_size = batch_size\n",
    "            self.prefetch_size = prefetch_size\n",
    "\n",
    "            self.global_step = tf.Variable(0, name='global_step', trainable=False)\n",
    "            self.logits = self.body_fn()\n",
    "            self.predictions = tf.sigmoid(self.logits)\n",
    "            self.loss = self.loss_fn()\n",
    "            self.min = self.minimizer_fn()\n",
    "            \n",
    "            self.closed = False\n",
    "                \n",
    "    def body_fn(self):\n",
    "        raise NotImplementedError()\n",
    "    \n",
    "    def loss_fn(self):\n",
    "        return tf.reduce_mean(tf.nn.weighted_cross_entropy_with_logits(self.y, self.logits, 50))\n",
    "    \n",
    "    def minimizer_fn(self):\n",
    "        self.opt = tf.train.AdamOptimizer(self.lr)\n",
    "        return self.opt.minimize(self.loss, self.global_step)\n",
    "    \n",
    "    def close():\n",
    "        if not self.closed:\n",
    "            self.sess.close()\n",
    "        self.closed = True\n",
    "        \n",
    "    def train(self, num_steps, lr=None):\n",
    "        assert not self.closed\n",
    "        with self.graph.as_default():\n",
    "            if lr == None:\n",
    "                lr = self.default_lr\n",
    "            try:\n",
    "                self.sess.run(self.global_step)\n",
    "            except:\n",
    "                tf.logging.info(\"Initializing variables\")\n",
    "                self.sess.run(tf.global_variables_initializer())\n",
    "                self.train_handle = self.sess.run(self.train_handle)\n",
    "                self.valid_handle = self.sess.run(self.valid_handle)\n",
    "                self.test_handle = self.sess.run(self.test_handle)\n",
    "\n",
    "            max_steps = self.sess.run(self.global_step) + num_steps\n",
    "\n",
    "            tf.logging.info(\"Starting Training\")\n",
    "\n",
    "            while self.sess.run(self.global_step) < max_steps:\n",
    "                _, loss = self.sess.run([self.min, self.loss], {self.handle: self.train_handle, self.lr: lr})\n",
    "                step = self.sess.run(self.global_step)\n",
    "                if step % 1000 == 0:\n",
    "                    tf.logging.info(str(step) + \" \" + str(loss))\n",
    "                    tf.logging.info(\"On validation\")\n",
    "                    _, _, _, _, stop = self.test(40000, log=False)\n",
    "                    if stop: break\n",
    "                    tf.logging.info(\"\")\n",
    "                \n",
    "    def test(self, num_samples, mode = Dataset.VALID, log=False, iterator_handle=None):\n",
    "        \n",
    "        \n",
    "        if (mode == Dataset.VALID):\n",
    "            handle = self.valid_handle\n",
    "            validation_holdout_indices = np.array([]) \n",
    "        elif (mode == Dataset.TEST):\n",
    "            handle = self.test_handle\n",
    "            # indices of assays not available for A549, -1 because first DNAse col was removed\n",
    "            validation_holdout_indices = valid_holdout_indices - 1 \n",
    "        else:\n",
    "            raise\n",
    "            \n",
    "        assert not self.closed\n",
    "        with self.graph.as_default():\n",
    "            vals = []\n",
    "            for i in range(int(num_samples / self.batch_size)):\n",
    "                vals.append(\n",
    "                    self.sess.run([self.predictions, self.x, self.y],\n",
    "                             {self.handle: iterator_handle if iterator_handle else handle})\n",
    "                )\n",
    "            preds = np.concatenate([v[0] for v in vals])            \n",
    "            truth = np.concatenate([v[2] for v in vals])\n",
    "\n",
    "            # remove missing indices for computing macro/micro AUC\n",
    "            preds_r = np.delete(preds, validation_holdout_indices, axis=1)\n",
    "            truth_r = np.delete(truth, validation_holdout_indices, axis=1)\n",
    "            \n",
    "            macroAUC = sklearn.metrics.roc_auc_score(truth_r, preds_r, average='macro')\n",
    "            microAUC = sklearn.metrics.roc_auc_score(truth_r, preds_r, average='micro')\n",
    "            tf.logging.info(\"Our macro AUC:     \" + str(macroAUC))\n",
    "            tf.logging.info(\"Our micro AUC:     \" + str(microAUC))\n",
    "            if True: # if log:\n",
    "                j=0\n",
    "                \n",
    "                for i in range(matrix.shape[1]): # eval on all assays except DNase and assays that are missing in A549\n",
    "                    assay = inv_assaymap[i]\n",
    "\n",
    "                    if (i not in validation_holdout_indices+1 and i != 0):\n",
    "                        str_ = \"%s: %i, %s, %f\" % (str(datetime.datetime.now()), i, assay, sklearn.metrics.roc_auc_score(truth_r[:,j], preds_r[:,j], average='macro'))\n",
    "                        j = j + 1\n",
    "                    else:\n",
    "                        str_ = \"%s: %i, %s, NaN\" % (str(datetime.datetime.now()), i, assay)\n",
    "                        \n",
    "                    tf.logging.info(str_)\n",
    "\n",
    "                        \n",
    "                \n",
    "            return preds, truth, microAUC, macroAUC, False\n",
    "\n",
    "        \n",
    "    def evaluate(self, cell_type, mode = Dataset.VALID):\n",
    "        \"\"\" \n",
    "        Evaluate on a new dataset.\n",
    "        \"\"\"\n",
    "\n",
    "        num_samples = len(dnase_vector)\n",
    "        \n",
    "        # take dnase_vector, and calculate a new handle that has all the train\n",
    "        # cell types and the corresponding distance\n",
    "        eval_iter = function_x(cell_type, mode)\n",
    "        handle = eval_iter.string_handle()\n",
    "        \n",
    "        assert not self.closed\n",
    "        with self.graph.as_default(): \n",
    "            vals = []\n",
    "            for i in range(int(num_samples / self.batch_size)):\n",
    "                vals.append(\n",
    "                    self.sess.run([self.predictions, self.x, self.y],\n",
    "                             {self.handle: iterator_handle if iterator_handle else handle})\n",
    "                )\n",
    "            preds = np.concatenate([v[0] for v in vals])            \n",
    "            truth = np.concatenate([v[2] for v in vals])\n",
    "\n",
    "            # remove missing indices for computing macro/micro AUC\n",
    "            preds_r = np.delete(preds, validation_holdout_indices, axis=1)\n",
    "            truth_r = np.delete(truth, validation_holdout_indices, axis=1)\n",
    "            \n",
    "            macroAUC = sklearn.metrics.roc_auc_score(truth_r, preds_r, average='macro')\n",
    "            microAUC = sklearn.metrics.roc_auc_score(truth_r, preds_r, average='micro')\n",
    "            tf.logging.info(\"Our macro AUC:     \" + str(macroAUC))\n",
    "            tf.logging.info(\"Our micro AUC:     \" + str(microAUC))\n",
    "            if True: # if log:\n",
    "                j=0\n",
    "                \n",
    "                for i in range(matrix.shape[1]): # eval on all assays except DNase and assays that are missing in A549\n",
    "                    assay = inv_assaymap[i]\n",
    "\n",
    "                    if (i not in validation_holdout_indices+1 and i != 0):\n",
    "                        str_ = \"%s: %i, %s, %f\" % (str(datetime.datetime.now()), i, assay, sklearn.metrics.roc_auc_score(truth_r[:,j], preds_r[:,j], average='macro'))\n",
    "                        j = j + 1\n",
    "                    else:\n",
    "                        str_ = \"%s: %i, %s, NaN\" % (str(datetime.datetime.now()), i, assay)\n",
    "                        \n",
    "                    tf.logging.info(str_)\n",
    "\n",
    "                        \n",
    "                \n",
    "            return preds, truth, microAUC, macroAUC, False\n",
    "\n",
    "        \n",
    "        \n",
    "class MLP(Model):\n",
    "    def __init__(self,\n",
    "             layers,\n",
    "             num_units,\n",
    "             activation,\n",
    "             *args,\n",
    "             **kwargs):\n",
    "\n",
    "        self.layers = layers\n",
    "        self.num_units = num_units\n",
    "        self.activation = activation\n",
    "        \n",
    "        Model.__init__(self, *args, **kwargs)\n",
    "            \n",
    "    def body_fn(self):\n",
    "        model = self.x\n",
    "        \n",
    "        if not isinstance(self.num_units, collections.Iterable):\n",
    "            self.num_units = [self.num_units] * self.layers\n",
    "            \n",
    "        for i in range(self.layers):\n",
    "            model = tf.layers.dense(model, self.num_units[i], self.activation)#, kernel_regularizer=tf.contrib.layers.l1_l2_regularizer(self.l1, self.l2))\n",
    "        \n",
    "        return tf.layers.dense(model, self.num_outputs, kernel_regularizer=tf.contrib.layers.l1_l2_regularizer(self.l1, self.l2))\n",
    "\n",
    "        "
   ]
  },
  {
   "cell_type": "markdown",
   "metadata": {},
   "source": [
    "# Run with DNase"
   ]
  },
  {
   "cell_type": "code",
   "execution_count": null,
   "metadata": {
    "scrolled": false
   },
   "outputs": [],
   "source": [
    "results = []\n",
    "model = MLP(4, [100, 100, 100, 50], tf.tanh, train_data, valid_data, test_data, shuffle_size=2, radii=[1,3,10,30])\n",
    "model.train(20000)\n",
    "test_results = model.test(455024, mode = Dataset.TEST, log=True)"
   ]
  },
  {
   "cell_type": "code",
   "execution_count": null,
   "metadata": {},
   "outputs": [
    {
     "name": "stdout",
     "output_type": "stream",
     "text": [
      "INFO:tensorflow:Starting Training\n",
      "INFO:tensorflow:21000 0.624256\n",
      "INFO:tensorflow:On validation\n"
     ]
    },
    {
     "name": "stderr",
     "output_type": "stream",
     "text": [
      "/data/akmorrow/miniconda3/envs/EpitomeEnv/lib/python3.6/site-packages/ipykernel_launcher.py:122: DeprecationWarning: using a non-integer array as obj in delete will result in an error in the future\n",
      "/data/akmorrow/miniconda3/envs/EpitomeEnv/lib/python3.6/site-packages/ipykernel_launcher.py:123: DeprecationWarning: using a non-integer array as obj in delete will result in an error in the future\n"
     ]
    },
    {
     "name": "stdout",
     "output_type": "stream",
     "text": [
      "INFO:tensorflow:Our macro AUC:     0.9088915708580808\n",
      "INFO:tensorflow:Our micro AUC:     0.938567234712428\n",
      "INFO:tensorflow:2018-11-15 12:12:36.333658: 0, DNase, NaN\n",
      "INFO:tensorflow:2018-11-15 12:12:36.334646: 1, CTCF, 0.967939\n",
      "INFO:tensorflow:2018-11-15 12:12:36.349565: 2, Pol2, 0.949957\n",
      "INFO:tensorflow:2018-11-15 12:12:36.363388: 3, YY1, 0.942291\n",
      "INFO:tensorflow:2018-11-15 12:12:36.377434: 4, p300, 0.909964\n",
      "INFO:tensorflow:2018-11-15 12:12:36.391348: 5, TAF1, 0.976360\n",
      "INFO:tensorflow:2018-11-15 12:12:36.405034: 6, Pol2-4H8, 0.913674\n",
      "INFO:tensorflow:2018-11-15 12:12:36.418778: 7, c-Myc, 0.978126\n",
      "INFO:tensorflow:2018-11-15 12:12:36.433101: 8, Rad21, 0.993166\n",
      "INFO:tensorflow:2018-11-15 12:12:36.446987: 9, Max, 0.926872\n",
      "INFO:tensorflow:2018-11-15 12:12:36.460978: 10, NRSF, 0.931903\n",
      "INFO:tensorflow:2018-11-15 12:12:36.474759: 11, GABP, 0.940306\n",
      "INFO:tensorflow:2018-11-15 12:12:36.488605: 12, EZH2, 0.605848\n",
      "INFO:tensorflow:2018-11-15 12:12:36.502198: 13, CEBPB, 0.798913\n",
      "INFO:tensorflow:2018-11-15 12:12:36.516057: 14, c-Jun, 0.933734\n",
      "INFO:tensorflow:2018-11-15 12:12:36.529666: 15, ZBTB33, 0.826225\n",
      "INFO:tensorflow:2018-11-15 12:12:36.543427: 16, USF2, 0.952632\n",
      "INFO:tensorflow:2018-11-15 12:12:36.556925: 17, USF-1, 0.834219\n",
      "INFO:tensorflow:2018-11-15 12:12:36.570835: 18, TBP, 0.932043\n",
      "INFO:tensorflow:2018-11-15 12:12:36.585375: 19, RFX5, 0.954768\n",
      "INFO:tensorflow:\n",
      "INFO:tensorflow:22000 0.48795164\n",
      "INFO:tensorflow:On validation\n"
     ]
    },
    {
     "name": "stderr",
     "output_type": "stream",
     "text": [
      "/data/akmorrow/miniconda3/envs/EpitomeEnv/lib/python3.6/site-packages/ipykernel_launcher.py:122: DeprecationWarning: using a non-integer array as obj in delete will result in an error in the future\n",
      "/data/akmorrow/miniconda3/envs/EpitomeEnv/lib/python3.6/site-packages/ipykernel_launcher.py:123: DeprecationWarning: using a non-integer array as obj in delete will result in an error in the future\n"
     ]
    },
    {
     "name": "stdout",
     "output_type": "stream",
     "text": [
      "INFO:tensorflow:Our macro AUC:     0.8916495950149012\n",
      "INFO:tensorflow:Our micro AUC:     0.9169341956192695\n",
      "INFO:tensorflow:2018-11-15 12:16:32.313454: 0, DNase, NaN\n",
      "INFO:tensorflow:2018-11-15 12:16:32.314481: 1, CTCF, 0.960718\n",
      "INFO:tensorflow:2018-11-15 12:16:32.328898: 2, Pol2, 0.912531\n",
      "INFO:tensorflow:2018-11-15 12:16:32.343079: 3, YY1, 0.939502\n",
      "INFO:tensorflow:2018-11-15 12:16:32.356731: 4, p300, 0.891198\n",
      "INFO:tensorflow:2018-11-15 12:16:32.370709: 5, TAF1, 0.959251\n",
      "INFO:tensorflow:2018-11-15 12:16:32.384828: 6, Pol2-4H8, 0.885690\n",
      "INFO:tensorflow:2018-11-15 12:16:32.398782: 7, c-Myc, 0.962050\n",
      "INFO:tensorflow:2018-11-15 12:16:32.412597: 8, Rad21, 0.980714\n",
      "INFO:tensorflow:2018-11-15 12:16:32.426431: 9, Max, 0.919313\n",
      "INFO:tensorflow:2018-11-15 12:16:32.440337: 10, NRSF, 0.927840\n",
      "INFO:tensorflow:2018-11-15 12:16:32.454227: 11, GABP, 0.924454\n",
      "INFO:tensorflow:2018-11-15 12:16:32.468198: 12, EZH2, 0.580354\n",
      "INFO:tensorflow:2018-11-15 12:16:32.481859: 13, CEBPB, 0.703528\n",
      "INFO:tensorflow:2018-11-15 12:16:32.495937: 14, c-Jun, 0.899272\n",
      "INFO:tensorflow:2018-11-15 12:16:32.509712: 15, ZBTB33, 0.910791\n",
      "INFO:tensorflow:2018-11-15 12:16:32.523517: 16, USF2, 0.886148\n",
      "INFO:tensorflow:2018-11-15 12:16:32.537376: 17, USF-1, 0.839703\n",
      "INFO:tensorflow:2018-11-15 12:16:32.551354: 18, TBP, 0.922529\n",
      "INFO:tensorflow:2018-11-15 12:16:32.565396: 19, RFX5, 0.935756\n",
      "INFO:tensorflow:\n",
      "INFO:tensorflow:23000 0.08645469\n",
      "INFO:tensorflow:On validation\n"
     ]
    },
    {
     "name": "stderr",
     "output_type": "stream",
     "text": [
      "/data/akmorrow/miniconda3/envs/EpitomeEnv/lib/python3.6/site-packages/ipykernel_launcher.py:122: DeprecationWarning: using a non-integer array as obj in delete will result in an error in the future\n",
      "/data/akmorrow/miniconda3/envs/EpitomeEnv/lib/python3.6/site-packages/ipykernel_launcher.py:123: DeprecationWarning: using a non-integer array as obj in delete will result in an error in the future\n"
     ]
    },
    {
     "name": "stdout",
     "output_type": "stream",
     "text": [
      "INFO:tensorflow:Our macro AUC:     0.9181114018285776\n",
      "INFO:tensorflow:Our micro AUC:     0.9411264022734844\n",
      "INFO:tensorflow:2018-11-15 12:19:25.224150: 0, DNase, NaN\n",
      "INFO:tensorflow:2018-11-15 12:19:25.225066: 1, CTCF, 0.972497\n",
      "INFO:tensorflow:2018-11-15 12:19:25.239389: 2, Pol2, 0.890414\n",
      "INFO:tensorflow:2018-11-15 12:19:25.253155: 3, YY1, 0.954640\n",
      "INFO:tensorflow:2018-11-15 12:19:25.266904: 4, p300, 0.909225\n",
      "INFO:tensorflow:2018-11-15 12:19:25.280498: 5, TAF1, 0.971962\n",
      "INFO:tensorflow:2018-11-15 12:19:25.294459: 6, Pol2-4H8, 0.905185\n",
      "INFO:tensorflow:2018-11-15 12:19:25.308379: 7, c-Myc, 0.978708\n",
      "INFO:tensorflow:2018-11-15 12:19:25.322141: 8, Rad21, 0.984554\n",
      "INFO:tensorflow:2018-11-15 12:19:25.335917: 9, Max, 0.939017\n",
      "INFO:tensorflow:2018-11-15 12:19:25.349826: 10, NRSF, 0.956805\n",
      "INFO:tensorflow:2018-11-15 12:19:25.363856: 11, GABP, 0.959692\n",
      "INFO:tensorflow:2018-11-15 12:19:25.377840: 12, EZH2, 0.791051\n",
      "INFO:tensorflow:2018-11-15 12:19:25.391709: 13, CEBPB, 0.785691\n",
      "INFO:tensorflow:2018-11-15 12:19:25.405806: 14, c-Jun, 0.849960\n",
      "INFO:tensorflow:2018-11-15 12:19:25.419612: 15, ZBTB33, 0.936812\n",
      "INFO:tensorflow:2018-11-15 12:19:25.433365: 16, USF2, 0.894398\n",
      "INFO:tensorflow:2018-11-15 12:19:25.447024: 17, USF-1, 0.871242\n",
      "INFO:tensorflow:2018-11-15 12:19:25.461100: 18, TBP, 0.949380\n",
      "INFO:tensorflow:2018-11-15 12:19:25.474974: 19, RFX5, 0.942882\n",
      "INFO:tensorflow:\n"
     ]
    }
   ],
   "source": [
    "model.train(10000)"
   ]
  },
  {
   "cell_type": "code",
   "execution_count": 71,
   "metadata": {},
   "outputs": [
    {
     "name": "stdout",
     "output_type": "stream",
     "text": [
      "INFO:tensorflow:Our macro AUC:     0.9191361344017676\n",
      "INFO:tensorflow:Our micro AUC:     0.9173131175923805\n",
      "INFO:tensorflow:2018-11-15 13:11:42.082294: 0, DNase, NaN\n",
      "INFO:tensorflow:2018-11-15 13:11:42.083695: 1, CTCF, 0.943762\n",
      "INFO:tensorflow:2018-11-15 13:11:42.434775: 2, Pol2, 0.961963\n",
      "INFO:tensorflow:2018-11-15 13:11:42.778216: 3, YY1, 0.920675\n",
      "INFO:tensorflow:2018-11-15 13:11:43.122367: 4, p300, 0.892504\n",
      "INFO:tensorflow:2018-11-15 13:11:43.475008: 5, TAF1, 0.907665\n",
      "INFO:tensorflow:2018-11-15 13:11:43.831148: 6, Pol2-4H8, NaN\n",
      "INFO:tensorflow:2018-11-15 13:11:43.832511: 7, c-Myc, NaN\n",
      "INFO:tensorflow:2018-11-15 13:11:43.833515: 8, Rad21, 0.992517\n",
      "INFO:tensorflow:2018-11-15 13:11:44.183052: 9, Max, 0.957339\n",
      "INFO:tensorflow:2018-11-15 13:11:44.527200: 10, NRSF, 0.901812\n",
      "INFO:tensorflow:2018-11-15 13:11:44.895121: 11, GABP, 0.925001\n",
      "INFO:tensorflow:2018-11-15 13:11:45.239097: 12, EZH2, NaN\n",
      "INFO:tensorflow:2018-11-15 13:11:45.240378: 13, CEBPB, 0.795382\n",
      "INFO:tensorflow:2018-11-15 13:11:45.583084: 14, c-Jun, NaN\n",
      "INFO:tensorflow:2018-11-15 13:11:45.584414: 15, ZBTB33, 0.901711\n",
      "INFO:tensorflow:2018-11-15 13:11:45.924524: 16, USF2, NaN\n",
      "INFO:tensorflow:2018-11-15 13:11:45.925478: 17, USF-1, 0.929303\n",
      "INFO:tensorflow:2018-11-15 13:11:46.274730: 18, TBP, NaN\n",
      "INFO:tensorflow:2018-11-15 13:11:46.275920: 19, RFX5, NaN\n"
     ]
    }
   ],
   "source": [
    "test_results = model.test(455024, mode = Dataset.TEST, log=True)"
   ]
  },
  {
   "cell_type": "code",
   "execution_count": null,
   "metadata": {},
   "outputs": [],
   "source": [
    "# 20k steps, take maximum macroAUC observed during training\n",
    "#2, [100, 50], [0], 0.9012855730483059\n",
    "#2, [100, 50], [1], 0.9185077245227484\n",
    "#2, [100, 50], [1,3], 0.9207317913067318\n",
    "#2, [100, 50], [1,3,10], 0.9206390991622936\n",
    "#2, [100, 50], [1,3,10,30], 0.9241529096459893\n"
   ]
  }
 ],
 "metadata": {
  "kernelspec": {
   "display_name": "Python 3",
   "language": "python",
   "name": "python3"
  },
  "language_info": {
   "codemirror_mode": {
    "name": "ipython",
    "version": 3
   },
   "file_extension": ".py",
   "mimetype": "text/x-python",
   "name": "python",
   "nbconvert_exporter": "python",
   "pygments_lexer": "ipython3",
   "version": "3.6.6"
  }
 },
 "nbformat": 4,
 "nbformat_minor": 2
}
