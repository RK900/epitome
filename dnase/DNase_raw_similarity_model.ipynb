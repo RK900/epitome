{
 "cells": [
  {
   "cell_type": "code",
   "execution_count": 598,
   "metadata": {},
   "outputs": [],
   "source": [
    "import collections\n",
    "\n",
    "import pyDNase\n",
    "import tensorflow as tf\n",
    "import h5py\n",
    "from scipy.io import loadmat\n",
    "import numpy as np\n",
    "import matplotlib.pyplot as plt\n",
    "import sklearn.metrics\n",
    "import kipoi\n",
    "import os\n",
    "import pybedtools\n",
    "import torch\n",
    "import h5sparse\n",
    "\n",
    "from pyDNase import GenomicInterval\n",
    "from scipy.sparse import coo_matrix, vstack\n",
    "\n",
    "import sys"
   ]
  },
  {
   "cell_type": "markdown",
   "metadata": {},
   "source": [
    "# Define Paths for this user"
   ]
  },
  {
   "cell_type": "code",
   "execution_count": 599,
   "metadata": {},
   "outputs": [],
   "source": [
    "########################## PATHS ###########################\n",
    "# path to where dnase bams are stored. Bams need to be sorted and indexed. See bin/download_dnase_encode.sh for\n",
    "# data processing\n",
    "_ENCODE_DATA_PREFIX =  \"/data/akmorrow/encode_data/\"\n",
    "\n",
    "deepsea_path = \"/data/akmorrow/epitome_data/deepsea_train/\"\n",
    "dnase_preprocessed_path = \"/data/akmorrow/epitome_data/processed_dnase/\"\n",
    "feature_path = \"/home/eecs/akmorrow/epitome/data/feature_name\"\n",
    "\n",
    "_DEEPSEA_GENOME_REGIONS_FILENAME = \"/home/eecs/akmorrow/epitome/data/allTFs.pos.bed\"\n",
    "\n",
    "# DNase filepath dictionary\n",
    "prefix_ =  \"/data/akmorrow/encode_data/\""
   ]
  },
  {
   "cell_type": "code",
   "execution_count": 609,
   "metadata": {},
   "outputs": [],
   "source": [
    "exec(open(\"./constants.py\").read())\n",
    "exec(open(\"./functions.py\").read())"
   ]
  },
  {
   "cell_type": "markdown",
   "metadata": {},
   "source": [
    "# Load Data"
   ]
  },
  {
   "cell_type": "markdown",
   "metadata": {},
   "source": [
    "### Load DeepSEA data"
   ]
  },
  {
   "cell_type": "code",
   "execution_count": 601,
   "metadata": {},
   "outputs": [
    {
     "name": "stdout",
     "output_type": "stream",
     "text": [
      "(408000, 4, 1000) (4000000, 4, 1000) (455024, 4, 1000)\n",
      "(919, 408000) (919, 4000000) (919, 455024)\n"
     ]
    }
   ],
   "source": [
    "train_data, valid_data, test_data = load_deepsea_data(deepsea_path)\n",
    "\n",
    "print(valid_data[\"x\"].shape, train_data[\"x\"].shape, test_data[\"x\"].shape)\n",
    "print(valid_data[\"y\"].shape, train_data[\"y\"].shape, test_data[\"y\"].shape)"
   ]
  },
  {
   "cell_type": "markdown",
   "metadata": {},
   "source": [
    "### Load Cut Sites"
   ]
  },
  {
   "cell_type": "code",
   "execution_count": 602,
   "metadata": {},
   "outputs": [],
   "source": [
    "### Load DNase data\n",
    "dnase_train = h5sparse.File(os.path.join(dnase_preprocessed_path, \"processed_dnase_train_sparse.h5\"))\n",
    "dnase_valid = h5sparse.File(os.path.join(dnase_preprocessed_path, \"processed_dnase_valid_sparse.h5\"))\n",
    "dnase_test  = h5sparse.File(os.path.join(dnase_preprocessed_path, \"processed_dnase_test_sparse.h5\"))"
   ]
  },
  {
   "cell_type": "code",
   "execution_count": 603,
   "metadata": {},
   "outputs": [
    {
     "ename": "NameError",
     "evalue": "name 'dnase_valid_dnase_test' is not defined",
     "output_type": "error",
     "traceback": [
      "\u001b[0;31m---------------------------------------------------------------------------\u001b[0m",
      "\u001b[0;31mNameError\u001b[0m                                 Traceback (most recent call last)",
      "\u001b[0;32m<timed exec>\u001b[0m in \u001b[0;36m<module>\u001b[0;34m\u001b[0m\n",
      "\u001b[0;31mNameError\u001b[0m: name 'dnase_valid_dnase_test' is not defined"
     ]
    }
   ],
   "source": [
    "%%time\n",
    "\n",
    "# process cut sites to dictionary of (key: celltype, value: csr_matrix)\n",
    "dnase_train_dict = toSparseIndexedDictionary(dnase_train, dnase_valid_dnase_test, Dataset.TRAIN)\n",
    "dnase_valid_dict = toSparseIndexedDictionary(dnase_train, dnase_valid_dnase_test, Dataset.VALID)\n",
    "dnase_test_dict = toSparseIndexedDictionary(dnase_train, dnase_valid_dnase_test, Dataset.TEST)"
   ]
  },
  {
   "cell_type": "markdown",
   "metadata": {},
   "source": [
    "# Choose cell types"
   ]
  },
  {
   "cell_type": "code",
   "execution_count": 604,
   "metadata": {},
   "outputs": [
    {
     "name": "stdout",
     "output_type": "stream",
     "text": [
      "['K562', 'GM12878', 'H1-hESC', 'HepG2', 'HeLa-S3', 'A549', 'HUVEC', 'GM12891', 'MCF-7', 'GM12892', 'HCT-116'] ['DNase', 'CTCF', 'Pol2', 'YY1', 'p300', 'TAF1', 'Pol2-4H8', 'c-Myc', 'Rad21', 'Max', 'NRSF', 'GABP', 'EZH2', 'CEBPB', 'c-Jun', 'ZBTB33', 'USF2', 'USF-1', 'TBP', 'RFX5']\n"
     ]
    },
    {
     "data": {
      "image/png": "[encoded data removed]",
      "text/plain": [
       "<Figure size 432x288 with 1 Axes>"
      ]
     },
     "metadata": {
      "needs_background": "light"
     },
     "output_type": "display_data"
    }
   ],
   "source": [
    "# matrix is cell types by factors, contains indices in feature vector\n",
    "matrix, cellmap, assaymap = get_assays_from_feature_file()\n",
    "\n",
    "inv_assaymap = {v: k for k, v in assaymap.items()}\n",
    "\n",
    "fig = plt.figure()\n",
    "ax = fig.add_subplot(1,1,1)\n",
    "ax.set_aspect('equal')\n",
    "plt.xticks(np.arange(len(assaymap)), rotation = 90)\n",
    "ax.set_xticklabels(assaymap.keys())\n",
    "plt.yticks(np.arange(len(cellmap)))\n",
    "ax.set_yticklabels(cellmap.keys())\n",
    "\n",
    "plt.imshow(matrix!=-1)\n",
    "print(list(cellmap.keys())[:11], list(assaymap.keys())[:20])"
   ]
  },
  {
   "cell_type": "markdown",
   "metadata": {},
   "source": [
    "# Select train, valid and test cell types\n",
    "\n",
    "- test on A549\n",
    "- train/validate on K562 and HepG2\n",
    "- use remaining cell types as feature input "
   ]
  },
  {
   "cell_type": "code",
   "execution_count": 605,
   "metadata": {},
   "outputs": [],
   "source": [
    "# A549 is for test. 12 available features\n",
    "test_celltypes = [\"A549\"]\n",
    "\n",
    "valid_y_indices = np.copy(matrix[cellmap['A549']])\n",
    "valid_holdout_indices = np.where(valid_y_indices == -1)[0]\n",
    "# TODO: need the vectors to be the same length, but you should not evaluate on these\n",
    "# Currently, set -1's to 0 these will all be evaluated on the DNase\n",
    "valid_y_indices[matrix[cellmap['A549']] ==-1]=0\n",
    "\n",
    "# K562, HepG2 indices is for train/valid. 19 available features\n",
    "evaluation_celltypes = [\"K562\", \"HepG2\"] \n",
    "y_indices = [matrix[cellmap['K562']][matrix[cellmap['K562']]!=-1], \n",
    "             matrix[cellmap['HepG2']][matrix[cellmap['HepG2']]!=-1]]\n",
    "\n",
    "# indices_mat is used to pull the remaining indices from cell types not used for prediction.\n",
    "# delete evaluation cell types from the matrix (A549, HepG2 and K562)\n",
    "indices_mat = np.delete(matrix, [0,3,5], axis=0)\n",
    "\n",
    "# get all feature locations for DNase for remaining cell types (just the first column in matrix)\n",
    "dnase_indices = indices_mat[:,0] # for all of the cell types (including the cell type we are evaluating)\n",
    "indices = indices_mat[indices_mat!=-1]\n",
    "\n",
    "# cell types not used in validation\n",
    "train_celltypes = ['GM12878', 'H1-hESC', 'HeLa-S3', 'HUVEC', 'GM12891', 'MCF-7', 'GM12892', 'HCT-116']\n"
   ]
  },
  {
   "cell_type": "markdown",
   "metadata": {},
   "source": [
    "# Data Generators"
   ]
  },
  {
   "cell_type": "markdown",
   "metadata": {},
   "source": [
    "## Generator with just processed DNase"
   ]
  },
  {
   "cell_type": "code",
   "execution_count": 606,
   "metadata": {},
   "outputs": [],
   "source": [
    "\n",
    "### Distance functions\n",
    "def gen(data, DATA_LABEL, radii=[1,3]):\n",
    "    def g():\n",
    "        \n",
    "        # determines which indices to use for labels\n",
    "        if (DATA_LABEL == Dataset.TEST):\n",
    "            y_index_vector = [valid_y_indices]\n",
    "        else:\n",
    "            y_index_vector = y_indices\n",
    "            \n",
    "        if (len(radii) > 0):\n",
    "            range_ = range(max(radii), data[\"y\"].shape[-1]-max(radii))\n",
    "        else: \n",
    "            range_ = range(0, data[\"y\"].shape[-1])\n",
    " \n",
    "        for i in range_: # for all records\n",
    "            for y_index in y_index_vector:\n",
    "                dnases = [] \n",
    "                for radius in radii:\n",
    "                    # within the radius, fraction of places where they are both 1\n",
    "                    dnase_double_positive = np.average(data[\"y\"][dnase_indices,i-radius:i+radius+1]*\n",
    "                                             data[\"y\"][y_index[0],i-radius:i+radius+1], axis=1)\n",
    "                    \n",
    "                    # within the radius, fraction of places where they are both equal (0 or 1)\n",
    "                    dnase_agreement = np.average(data[\"y\"][dnase_indices,i-radius:i+radius+1]==\n",
    "                                             data[\"y\"][y_index[0],i-radius:i+radius+1], axis=1)\n",
    "                    dnases.extend(dnase_double_positive)\n",
    "                    dnases.extend(dnase_agreement)\n",
    "                    \n",
    "                # Remove DNase from prediction indices. \n",
    "                # You should not predict on assays you use to calculate the distance metric.\n",
    "                y_index_no_dnase = np.delete(y_index, [0])\n",
    "                yield np.concatenate([data[\"y\"][indices,i],dnases]), data[\"y\"][y_index_no_dnase,i] \n",
    "    return g\n",
    "\n",
    "def make_dataset(data,\n",
    "                 which_dataset,\n",
    "                 batch_size,\n",
    "                 shuffle_size,\n",
    "                 prefetch_size,\n",
    "                 radii):\n",
    "\n",
    "    generator = gen(data, which_dataset, radii)\n",
    "    \n",
    "    for x, y in generator():\n",
    "        break\n",
    "    \n",
    "    dataset = tf.data.Dataset.from_generator(\n",
    "        generator,\n",
    "        output_types=(tf.float32,)*2,\n",
    "        output_shapes=(x.shape, y.shape,)\n",
    "    )\n",
    "    dataset = dataset.batch(batch_size)\n",
    "    dataset = dataset.shuffle(shuffle_size)\n",
    "    dataset = dataset.repeat()\n",
    "    dataset = dataset.prefetch(prefetch_size)\n",
    "    return y.shape, dataset.make_one_shot_iterator()\n"
   ]
  },
  {
   "cell_type": "markdown",
   "metadata": {},
   "source": [
    "## Raw DNase Generator"
   ]
  },
  {
   "cell_type": "code",
   "execution_count": 632,
   "metadata": {
    "scrolled": true
   },
   "outputs": [],
   "source": [
    "def gen_dnase(data, DATA_LABEL, radii, chunk_size = 1):\n",
    "    def g():\n",
    "        # determines which indices to use for labels\n",
    "        if (DATA_LABEL == Dataset.TEST):\n",
    "            celltypes = test_celltypes\n",
    "            y_index_vector = [valid_y_indices]\n",
    "        else:\n",
    "            celltypes = evaluation_celltypes\n",
    "            y_index_vector = y_indices\n",
    "            \n",
    "            \n",
    "        if (len(radii) > 0):\n",
    "            start = max(radii)\n",
    "            end = data[\"y\"].shape[-1]-max(radii)\n",
    "        else: \n",
    "            start = 0\n",
    "            end = data[\"y\"].shape[-1]\n",
    "            range_ = range(start, end)\n",
    "        \n",
    "        ## TODO memory error need to chunk the ranges\n",
    "        start_ = start\n",
    "        while (start_ < end):\n",
    "            end_ = min(start + chunk_size, end)\n",
    "            range_ = range(start_, end_)\n",
    "\n",
    "            # for all cells in either train or test\n",
    "            for cell_i in range(0, len(celltypes)): # for each y_index [K562, HepG2], or [A549] if test\n",
    "\n",
    "                celltype = celltypes[cell_i]\n",
    "                y_index = y_index_vector[cell_i]\n",
    "\n",
    "                # get dnase for this cell type\n",
    "                dnase_i = get_dnase_array_from_modified_dict(dnase_train_dict, dnase_valid_dict, dnase_test_dict,\n",
    "                                                         range_,celltype, DATA_LABEL=DATA_LABEL)\n",
    "\n",
    "                dnases = np.empty((len(range_), len(train_celltypes)))\n",
    "\n",
    "                # compare to all other cell types\n",
    "                train_i = 0\n",
    "                for train_celltype in train_celltypes: \n",
    "\n",
    "                    dnase_j = get_dnase_array_from_modified_dict(dnase_train_dict, dnase_valid_dict, dnase_test_dict, \n",
    "                                                            range_, train_celltype, DATA_LABEL=DATA_LABEL)\n",
    "\n",
    "\n",
    "                    var_difference = abs(np.var(dnase_i.toarray(), axis=1) - np.var(dnase_j.toarray(), axis=1))\n",
    "\n",
    "                    dnases[:,train_i] = var_difference\n",
    "                    train_i+=1\n",
    "\n",
    "                # Remove DNase from prediction indices. \n",
    "                # You should not predict on assays you use to calculate the distance metric.\n",
    "                y_index_no_dnase = np.delete(y_index, [0])\n",
    "                print(dnases.shape)\n",
    "                print(data[\"y\"].shape)\n",
    "\n",
    "                for i in range(start, end_):\n",
    "                    yield np.concatenate([data[\"y\"][indices,i].T,dnases[i,:]]), data[\"y\"][y_index_no_dnase, i]\n",
    "                \n",
    "            start += chunk_size\n",
    "\n",
    "    return g\n",
    "\n",
    "def make_dataset_dnase(data,\n",
    "                 which_dataset, # Dataset enum\n",
    "                 batch_size,\n",
    "                 shuffle_size,\n",
    "                 prefetch_size,\n",
    "                 radii):\n",
    "    \n",
    "    generator = gen_dnase(data, which_dataset, radii)\n",
    "    \n",
    "    for x, y in generator():\n",
    "        break\n",
    "    \n",
    "    dataset = tf.data.Dataset.from_generator(\n",
    "        generator,\n",
    "        output_types=(tf.float32,)*2,\n",
    "        output_shapes=(x.shape, y.shape,)\n",
    "    )\n",
    "    dataset = dataset.batch(batch_size)\n",
    "    dataset = dataset.shuffle(shuffle_size)\n",
    "    dataset = dataset.repeat()\n",
    "    dataset = dataset.prefetch(prefetch_size)\n",
    "    return y.shape, dataset.make_one_shot_iterator()\n",
    "\n",
    "\n"
   ]
  },
  {
   "cell_type": "markdown",
   "metadata": {},
   "source": [
    "# Testing times for DNase generator\n",
    "\n",
    "With DNase, it is about 30 times slower with chunk size of 200,000 :("
   ]
  },
  {
   "cell_type": "code",
   "execution_count": null,
   "metadata": {},
   "outputs": [],
   "source": [
    "%%time \n",
    "generator = gen_dnase(valid_data, Dataset.VALID, radii=[], chunk_size=200000)()\n",
    "\n",
    "x1=list(generator)"
   ]
  },
  {
   "cell_type": "code",
   "execution_count": null,
   "metadata": {},
   "outputs": [],
   "source": [
    "%%time \n",
    "\n",
    "generator2 = gen(valid_data, Dataset.VALID, radii=[])()\n",
    "x2=list(generator2)"
   ]
  },
  {
   "cell_type": "markdown",
   "metadata": {},
   "source": [
    "# Check how DeepSea does"
   ]
  },
  {
   "cell_type": "code",
   "execution_count": 4,
   "metadata": {},
   "outputs": [
    {
     "ename": "NameError",
     "evalue": "name 'valid_data' is not defined",
     "output_type": "error",
     "traceback": [
      "\u001b[0;31m---------------------------------------------------------------------------\u001b[0m",
      "\u001b[0;31mNameError\u001b[0m                                 Traceback (most recent call last)",
      "\u001b[0;32m<ipython-input-4-2f0adf8b3199>\u001b[0m in \u001b[0;36m<module>\u001b[0;34m\u001b[0m\n\u001b[1;32m      2\u001b[0m \u001b[0mbatch_size\u001b[0m \u001b[0;34m=\u001b[0m \u001b[0;36m100\u001b[0m\u001b[0;34m\u001b[0m\u001b[0m\n\u001b[1;32m      3\u001b[0m \u001b[0mpreds\u001b[0m \u001b[0;34m=\u001b[0m \u001b[0;34m[\u001b[0m\u001b[0;34m]\u001b[0m\u001b[0;34m\u001b[0m\u001b[0m\n\u001b[0;32m----> 4\u001b[0;31m \u001b[0;32mfor\u001b[0m \u001b[0mi\u001b[0m \u001b[0;32min\u001b[0m \u001b[0mnp\u001b[0m\u001b[0;34m.\u001b[0m\u001b[0marange\u001b[0m\u001b[0;34m(\u001b[0m\u001b[0;36m0\u001b[0m\u001b[0;34m,\u001b[0m \u001b[0mlen\u001b[0m\u001b[0;34m(\u001b[0m\u001b[0mvalid_data\u001b[0m\u001b[0;34m[\u001b[0m\u001b[0;34m\"x\"\u001b[0m\u001b[0;34m]\u001b[0m\u001b[0;34m)\u001b[0m\u001b[0;34m,\u001b[0m \u001b[0mbatch_size\u001b[0m\u001b[0;34m)\u001b[0m\u001b[0;34m:\u001b[0m\u001b[0;34m\u001b[0m\u001b[0m\n\u001b[0m\u001b[1;32m      5\u001b[0m     \u001b[0mbatch\u001b[0m \u001b[0;34m=\u001b[0m \u001b[0mvalid_data\u001b[0m\u001b[0;34m[\u001b[0m\u001b[0;34m\"x\"\u001b[0m\u001b[0;34m]\u001b[0m\u001b[0;34m[\u001b[0m\u001b[0mi\u001b[0m\u001b[0;34m:\u001b[0m\u001b[0mi\u001b[0m\u001b[0;34m+\u001b[0m\u001b[0mbatch_size\u001b[0m\u001b[0;34m]\u001b[0m\u001b[0;34m\u001b[0m\u001b[0m\n\u001b[1;32m      6\u001b[0m     \u001b[0mbatch\u001b[0m \u001b[0;34m=\u001b[0m \u001b[0mnp\u001b[0m\u001b[0;34m.\u001b[0m\u001b[0mexpand_dims\u001b[0m\u001b[0;34m(\u001b[0m\u001b[0mbatch\u001b[0m\u001b[0;34m,\u001b[0m \u001b[0;36m2\u001b[0m\u001b[0;34m)\u001b[0m\u001b[0;34m\u001b[0m\u001b[0m\n",
      "\u001b[0;31mNameError\u001b[0m: name 'valid_data' is not defined"
     ]
    }
   ],
   "source": [
    "model = kipoi.get_model('DeepSEA/predict')\n",
    "batch_size = 100\n",
    "preds = []\n",
    "for i in np.arange(0, len(valid_data[\"x\"]), batch_size):\n",
    "    batch = valid_data[\"x\"][i:i+batch_size]\n",
    "    batch = np.expand_dims(batch, 2)\n",
    "    batch = batch[:,[0,2,1,3]]\n",
    "    preds.append(model.predict_on_batch(batch.astype(np.float32)))\n",
    "preds = np.concatenate(preds, axis=0)"
   ]
  },
  {
   "cell_type": "markdown",
   "metadata": {},
   "source": [
    "### Direct performance of DeepSea"
   ]
  },
  {
   "cell_type": "code",
   "execution_count": null,
   "metadata": {},
   "outputs": [],
   "source": [
    "# for i in range(20):\n",
    "print(valid_data[\"y\"][y_indices[0]].shape)\n",
    "print(preds.T[y_indices[0]].shape)\n",
    "sklearn.metrics.roc_auc_score(valid_data[\"y\"][y_indices[0]].T, preds.T[y_indices[0]].T, average=\"macro\")"
   ]
  },
  {
   "cell_type": "markdown",
   "metadata": {},
   "source": [
    "### Performance of DeepSea through averaging"
   ]
  },
  {
   "cell_type": "code",
   "execution_count": 12,
   "metadata": {},
   "outputs": [
    {
     "ename": "NameError",
     "evalue": "name 'preds' is not defined",
     "output_type": "error",
     "traceback": [
      "\u001b[0;31m---------------------------------------------------------------------------\u001b[0m",
      "\u001b[0;31mNameError\u001b[0m                                 Traceback (most recent call last)",
      "\u001b[0;32m<ipython-input-12-e1ecba033220>\u001b[0m in \u001b[0;36m<module>\u001b[0;34m\u001b[0m\n\u001b[1;32m      1\u001b[0m \u001b[0mweights\u001b[0m \u001b[0;34m=\u001b[0m \u001b[0mnp\u001b[0m\u001b[0;34m.\u001b[0m\u001b[0mtile\u001b[0m\u001b[0;34m(\u001b[0m\u001b[0;34m(\u001b[0m\u001b[0mindices_mat\u001b[0m\u001b[0;34m!=\u001b[0m\u001b[0;34m-\u001b[0m\u001b[0;36m1\u001b[0m\u001b[0;34m)\u001b[0m\u001b[0;34m.\u001b[0m\u001b[0mreshape\u001b[0m\u001b[0;34m(\u001b[0m\u001b[0mindices_mat\u001b[0m\u001b[0;34m.\u001b[0m\u001b[0mshape\u001b[0m \u001b[0;34m+\u001b[0m \u001b[0;34m(\u001b[0m\u001b[0;36m1\u001b[0m\u001b[0;34m,\u001b[0m\u001b[0;34m)\u001b[0m\u001b[0;34m)\u001b[0m\u001b[0;34m,\u001b[0m \u001b[0;34m(\u001b[0m\u001b[0;36m1\u001b[0m\u001b[0;34m,\u001b[0m \u001b[0;36m1\u001b[0m\u001b[0;34m,\u001b[0m \u001b[0mvalid_data\u001b[0m\u001b[0;34m[\u001b[0m\u001b[0;34m\"y\"\u001b[0m\u001b[0;34m]\u001b[0m\u001b[0;34m.\u001b[0m\u001b[0mshape\u001b[0m\u001b[0;34m[\u001b[0m\u001b[0;34m-\u001b[0m\u001b[0;36m1\u001b[0m\u001b[0;34m]\u001b[0m\u001b[0;34m)\u001b[0m\u001b[0;34m)\u001b[0m\u001b[0;34m\u001b[0m\u001b[0m\n\u001b[1;32m      2\u001b[0m \u001b[0;34m\u001b[0m\u001b[0m\n\u001b[0;32m----> 3\u001b[0;31m \u001b[0maverage_preds\u001b[0m \u001b[0;34m=\u001b[0m \u001b[0mnp\u001b[0m\u001b[0;34m.\u001b[0m\u001b[0maverage\u001b[0m\u001b[0;34m(\u001b[0m\u001b[0mpreds\u001b[0m\u001b[0;34m.\u001b[0m\u001b[0mT\u001b[0m\u001b[0;34m[\u001b[0m\u001b[0mindices_mat\u001b[0m\u001b[0;34m]\u001b[0m\u001b[0;34m,\u001b[0m \u001b[0maxis\u001b[0m\u001b[0;34m=\u001b[0m\u001b[0;36m0\u001b[0m\u001b[0;34m,\u001b[0m \u001b[0mweights\u001b[0m\u001b[0;34m=\u001b[0m\u001b[0mweights\u001b[0m\u001b[0;34m)\u001b[0m\u001b[0;34m\u001b[0m\u001b[0m\n\u001b[0m\u001b[1;32m      4\u001b[0m \u001b[0maverage_preds\u001b[0m \u001b[0;34m=\u001b[0m \u001b[0mnp\u001b[0m\u001b[0;34m.\u001b[0m\u001b[0mconcatenate\u001b[0m\u001b[0;34m(\u001b[0m\u001b[0;34m[\u001b[0m\u001b[0maverage_preds\u001b[0m\u001b[0;34m,\u001b[0m\u001b[0maverage_preds\u001b[0m\u001b[0;34m]\u001b[0m\u001b[0;34m,\u001b[0m\u001b[0maxis\u001b[0m\u001b[0;34m=\u001b[0m\u001b[0;36m1\u001b[0m\u001b[0;34m)\u001b[0m\u001b[0;34m\u001b[0m\u001b[0m\n\u001b[1;32m      5\u001b[0m \u001b[0;34m\u001b[0m\u001b[0m\n",
      "\u001b[0;31mNameError\u001b[0m: name 'preds' is not defined"
     ]
    }
   ],
   "source": [
    "weights = np.tile((indices_mat!=-1).reshape(indices_mat.shape + (1,)), (1, 1, valid_data[\"y\"].shape[-1]))\n",
    "\n",
    "average_preds = np.average(preds.T[indices_mat], axis=0, weights=weights)\n",
    "average_preds = np.concatenate([average_preds,average_preds],axis=1)\n",
    "\n",
    "truth = np.concatenate([valid_data[\"y\"][y_indices[0]],valid_data[\"y\"][y_indices[1]]],axis=1)\n",
    "\n",
    "print(\"Macro score from averaging\", sklearn.metrics.roc_auc_score(truth.T, average_preds.T, average='macro'))\n",
    "print(\"Micro score from averaging\", sklearn.metrics.roc_auc_score(truth.T, average_preds.T, average='micro'))\n",
    "for i in range(len(truth)):\n",
    "    print(i, sklearn.metrics.roc_auc_score(truth[i].T, average_preds[i].T, average='macro'))"
   ]
  },
  {
   "cell_type": "markdown",
   "metadata": {},
   "source": [
    "# Model definition"
   ]
  },
  {
   "cell_type": "code",
   "execution_count": 539,
   "metadata": {},
   "outputs": [],
   "source": [
    "class Model():\n",
    "    def __init__(self,\n",
    "                 train_data,\n",
    "                 valid_data,\n",
    "                 test_data,\n",
    "                 batch_size=64,\n",
    "                 shuffle_size=10000,\n",
    "                 prefetch_size=10,\n",
    "                 l1=0.,\n",
    "                 l2=0.,\n",
    "                 lr=1e-3,\n",
    "                 radii=[1,3]):\n",
    "        \n",
    "        self.graph = tf.Graph()\n",
    "\n",
    "        with self.graph.as_default() as graph:\n",
    "            tf.logging.set_verbosity(tf.logging.INFO)\n",
    "\n",
    "            output_shape, train_iter = make_dataset_dnase(train_data,  Dataset.TRAIN, batch_size, shuffle_size, prefetch_size, radii)\n",
    "            _,            valid_iter = make_dataset_dnase(valid_data, Dataset.VALID, batch_size, 1           , prefetch_size, radii)\n",
    "            _,            test_iter = make_dataset_dnase(test_data, Dataset.TEST, batch_size, 1           , prefetch_size, radii)\n",
    "\n",
    "            #### Weston uncomment to run original method\n",
    "            #output_shape, train_iter = make_dataset(train_data,  Dataset.TRAIN, batch_size, shuffle_size, prefetch_size, radii)\n",
    "            #_,            valid_iter = make_dataset(valid_data, Dataset.VALID, batch_size, 1           , prefetch_size, radii)\n",
    "            #_,            test_iter = make_dataset(test_data, Dataset.TEST, batch_size, 1           , prefetch_size, radii)\n",
    "\n",
    "            self.train_handle = train_iter.string_handle()\n",
    "            self.valid_handle = valid_iter.string_handle()\n",
    "            self.test_handle = test_iter.string_handle()\n",
    "            \n",
    "            self.handle = tf.placeholder(tf.string, shape=[])\n",
    "            iterator = tf.data.Iterator.from_string_handle(\n",
    "                self.handle, train_iter.output_types, train_iter.output_shapes)\n",
    "            self.x, self.y = iterator.get_next()\n",
    "            \n",
    "            self.sess = tf.InteractiveSession(graph=graph)\n",
    "\n",
    "            self.num_outputs = output_shape[0]\n",
    "            self.l1, self.l2 = l1, l2\n",
    "            self.default_lr = lr\n",
    "            self.lr = tf.placeholder(tf.float32)\n",
    "            self.batch_size = batch_size\n",
    "            self.prefetch_size = prefetch_size\n",
    "\n",
    "            self.global_step = tf.Variable(0, name='global_step', trainable=False)\n",
    "            self.logits = self.body_fn()\n",
    "            self.predictions = tf.sigmoid(self.logits)\n",
    "            self.loss = self.loss_fn()\n",
    "            self.min = self.minimizer_fn()\n",
    "            \n",
    "            self.closed = False\n",
    "                \n",
    "    def body_fn(self):\n",
    "        raise NotImplementedError()\n",
    "    \n",
    "    def loss_fn(self):\n",
    "        return tf.reduce_mean(tf.nn.weighted_cross_entropy_with_logits(self.y, self.logits, 50))\n",
    "    \n",
    "    def minimizer_fn(self):\n",
    "        self.opt = tf.train.AdamOptimizer(self.lr)\n",
    "        return self.opt.minimize(self.loss, self.global_step)\n",
    "    \n",
    "    def close():\n",
    "        if not self.closed:\n",
    "            self.sess.close()\n",
    "        self.closed = True\n",
    "        \n",
    "    def train(self, num_steps, lr=None):\n",
    "        assert not self.closed\n",
    "        with self.graph.as_default():\n",
    "            if lr == None:\n",
    "                lr = self.default_lr\n",
    "            try:\n",
    "                self.sess.run(self.global_step)\n",
    "            except:\n",
    "                tf.logging.info(\"Initializing variables\")\n",
    "                self.sess.run(tf.global_variables_initializer())\n",
    "                self.train_handle = self.sess.run(self.train_handle)\n",
    "                self.valid_handle = self.sess.run(self.valid_handle)\n",
    "                self.test_handle = self.sess.run(self.test_handle)\n",
    "\n",
    "            max_steps = self.sess.run(self.global_step) + num_steps\n",
    "\n",
    "            tf.logging.info(\"Starting Training\")\n",
    "\n",
    "            while self.sess.run(self.global_step) < max_steps:\n",
    "                _, loss = self.sess.run([self.min, self.loss], {self.handle: self.train_handle, self.lr: lr})\n",
    "                step = self.sess.run(self.global_step)\n",
    "                if step % 1000 == 0:\n",
    "                    tf.logging.info(str(step) + \" \" + str(loss))\n",
    "                    tf.logging.info(\"On validation\")\n",
    "                    _, _, _, _, stop = self.test(40000, log=False)\n",
    "                    if stop: break\n",
    "                    tf.logging.info(\"\")\n",
    "                \n",
    "    def test(self, num_samples, mode = Dataset.VALID, log=False, iterator_handle=None):\n",
    "        if (mode == Dataset.VALID):\n",
    "            handle = self.valid_handle\n",
    "            validation_indices = []\n",
    "        elif (mode == Dataset.TEST):\n",
    "            handle = self.test_handle\n",
    "            validation_indices = valid_holdout_indices # indices of assays not available for A549\n",
    "        else:\n",
    "            raise\n",
    "            \n",
    "        assert not self.closed\n",
    "        with self.graph.as_default():\n",
    "            vals = []\n",
    "            for i in range(int(num_samples / self.batch_size)):\n",
    "                vals.append(\n",
    "                    self.sess.run([self.predictions, self.x, self.y],\n",
    "                             {self.handle: iterator_handle if iterator_handle else handle})\n",
    "                )\n",
    "            preds = np.concatenate([v[0] for v in vals])\n",
    "            truth = np.concatenate([v[2] for v in vals])\n",
    "\n",
    "            # remove missing indices for computing macro/micro AUC\n",
    "            preds_r = np.delete(preds, validation_indices, axis=1)\n",
    "            truth_r = np.delete(truth, validation_indices, axis=1)\n",
    "\n",
    "            macroAUC = sklearn.metrics.roc_auc_score(truth_r, preds_r, average='macro')\n",
    "            microAUC = sklearn.metrics.roc_auc_score(truth_r, preds_r, average='micro')\n",
    "            tf.logging.info(\"Our macro AUC:     \" + str(macroAUC))\n",
    "            tf.logging.info(\"Our micro AUC:     \" + str(microAUC))\n",
    "            if log:\n",
    "                for i in range(matrix.shape[1]-1): # eval on all assays except DNase\n",
    "                    assay = inv_assaymap[i+1]\n",
    "                    \n",
    "                    if (i not in validation_indices):\n",
    "                        print(assay, sklearn.metrics.roc_auc_score(truth[:,i], preds[:,i], average='macro'))\n",
    "                    else:\n",
    "                        print(assay, np.NaN)\n",
    "                        \n",
    "                \n",
    "            return preds, truth, microAUC, macroAUC, False\n",
    "\n",
    "class MLP(Model):\n",
    "    def __init__(self,\n",
    "             layers,\n",
    "             num_units,\n",
    "             activation,\n",
    "             *args,\n",
    "             **kwargs):\n",
    "\n",
    "        self.layers = layers\n",
    "        self.num_units = num_units\n",
    "        self.activation = activation\n",
    "        \n",
    "        Model.__init__(self, *args, **kwargs)\n",
    "            \n",
    "    def body_fn(self):\n",
    "        model = self.x\n",
    "        \n",
    "        if not isinstance(self.num_units, collections.Iterable):\n",
    "            self.num_units = [self.num_units] * self.layers\n",
    "            \n",
    "        for i in range(self.layers):\n",
    "            model = tf.layers.dense(model, self.num_units[i], self.activation)#, kernel_regularizer=tf.contrib.layers.l1_l2_regularizer(self.l1, self.l2))\n",
    "        \n",
    "        return tf.layers.dense(model, self.num_outputs, kernel_regularizer=tf.contrib.layers.l1_l2_regularizer(self.l1, self.l2))\n",
    "\n",
    "        "
   ]
  },
  {
   "cell_type": "markdown",
   "metadata": {},
   "source": [
    "# Run with DNase"
   ]
  },
  {
   "cell_type": "code",
   "execution_count": 540,
   "metadata": {},
   "outputs": [
    {
     "ename": "IndexError",
     "evalue": "index (3999999) out of range",
     "output_type": "error",
     "traceback": [
      "\u001b[0;31m---------------------------------------------------------------------------\u001b[0m",
      "\u001b[0;31mIndexError\u001b[0m                                Traceback (most recent call last)",
      "\u001b[0;32m<ipython-input-540-4e621b440474>\u001b[0m in \u001b[0;36m<module>\u001b[0;34m\u001b[0m\n\u001b[1;32m      1\u001b[0m \u001b[0mresults\u001b[0m \u001b[0;34m=\u001b[0m \u001b[0;34m[\u001b[0m\u001b[0;34m]\u001b[0m\u001b[0;34m\u001b[0m\u001b[0m\n\u001b[0;32m----> 2\u001b[0;31m \u001b[0mmodel\u001b[0m \u001b[0;34m=\u001b[0m \u001b[0mMLP\u001b[0m\u001b[0;34m(\u001b[0m\u001b[0;36m4\u001b[0m\u001b[0;34m,\u001b[0m \u001b[0;34m[\u001b[0m\u001b[0;36m100\u001b[0m\u001b[0;34m,\u001b[0m \u001b[0;36m100\u001b[0m\u001b[0;34m,\u001b[0m \u001b[0;36m100\u001b[0m\u001b[0;34m,\u001b[0m \u001b[0;36m50\u001b[0m\u001b[0;34m]\u001b[0m\u001b[0;34m,\u001b[0m \u001b[0mtf\u001b[0m\u001b[0;34m.\u001b[0m\u001b[0mtanh\u001b[0m\u001b[0;34m,\u001b[0m \u001b[0mtrain_data\u001b[0m\u001b[0;34m,\u001b[0m \u001b[0mvalid_data\u001b[0m\u001b[0;34m,\u001b[0m \u001b[0mtest_data\u001b[0m\u001b[0;34m,\u001b[0m \u001b[0mshuffle_size\u001b[0m\u001b[0;34m=\u001b[0m\u001b[0;36m2\u001b[0m\u001b[0;34m,\u001b[0m \u001b[0mradii\u001b[0m\u001b[0;34m=\u001b[0m\u001b[0;34m[\u001b[0m\u001b[0;34m]\u001b[0m\u001b[0;34m)\u001b[0m\u001b[0;34m\u001b[0m\u001b[0m\n\u001b[0m\u001b[1;32m      3\u001b[0m \u001b[0mmodel\u001b[0m\u001b[0;34m.\u001b[0m\u001b[0mtrain\u001b[0m\u001b[0;34m(\u001b[0m\u001b[0;36m20000\u001b[0m\u001b[0;34m)\u001b[0m\u001b[0;34m\u001b[0m\u001b[0m\n\u001b[1;32m      4\u001b[0m \u001b[0mresults\u001b[0m\u001b[0;34m.\u001b[0m\u001b[0mappend\u001b[0m\u001b[0;34m(\u001b[0m\u001b[0mmodel\u001b[0m\u001b[0;34m.\u001b[0m\u001b[0mtest\u001b[0m\u001b[0;34m(\u001b[0m\u001b[0;36m455024\u001b[0m\u001b[0;34m,\u001b[0m \u001b[0mmode\u001b[0m \u001b[0;34m=\u001b[0m \u001b[0mDataset\u001b[0m\u001b[0;34m.\u001b[0m\u001b[0mTEST\u001b[0m\u001b[0;34m,\u001b[0m \u001b[0mlog\u001b[0m\u001b[0;34m=\u001b[0m\u001b[0;32mTrue\u001b[0m\u001b[0;34m)\u001b[0m\u001b[0;34m)\u001b[0m\u001b[0;34m\u001b[0m\u001b[0m\n",
      "\u001b[0;32m<ipython-input-539-b9fe8f9b1a08>\u001b[0m in \u001b[0;36m__init__\u001b[0;34m(self, layers, num_units, activation, *args, **kwargs)\u001b[0m\n\u001b[1;32m    146\u001b[0m         \u001b[0mself\u001b[0m\u001b[0;34m.\u001b[0m\u001b[0mactivation\u001b[0m \u001b[0;34m=\u001b[0m \u001b[0mactivation\u001b[0m\u001b[0;34m\u001b[0m\u001b[0m\n\u001b[1;32m    147\u001b[0m \u001b[0;34m\u001b[0m\u001b[0m\n\u001b[0;32m--> 148\u001b[0;31m         \u001b[0mModel\u001b[0m\u001b[0;34m.\u001b[0m\u001b[0m__init__\u001b[0m\u001b[0;34m(\u001b[0m\u001b[0mself\u001b[0m\u001b[0;34m,\u001b[0m \u001b[0;34m*\u001b[0m\u001b[0margs\u001b[0m\u001b[0;34m,\u001b[0m \u001b[0;34m**\u001b[0m\u001b[0mkwargs\u001b[0m\u001b[0;34m)\u001b[0m\u001b[0;34m\u001b[0m\u001b[0m\n\u001b[0m\u001b[1;32m    149\u001b[0m \u001b[0;34m\u001b[0m\u001b[0m\n\u001b[1;32m    150\u001b[0m     \u001b[0;32mdef\u001b[0m \u001b[0mbody_fn\u001b[0m\u001b[0;34m(\u001b[0m\u001b[0mself\u001b[0m\u001b[0;34m)\u001b[0m\u001b[0;34m:\u001b[0m\u001b[0;34m\u001b[0m\u001b[0m\n",
      "\u001b[0;32m<ipython-input-539-b9fe8f9b1a08>\u001b[0m in \u001b[0;36m__init__\u001b[0;34m(self, train_data, valid_data, test_data, batch_size, shuffle_size, prefetch_size, l1, l2, lr, radii)\u001b[0m\n\u001b[1;32m     17\u001b[0m             \u001b[0mtf\u001b[0m\u001b[0;34m.\u001b[0m\u001b[0mlogging\u001b[0m\u001b[0;34m.\u001b[0m\u001b[0mset_verbosity\u001b[0m\u001b[0;34m(\u001b[0m\u001b[0mtf\u001b[0m\u001b[0;34m.\u001b[0m\u001b[0mlogging\u001b[0m\u001b[0;34m.\u001b[0m\u001b[0mINFO\u001b[0m\u001b[0;34m)\u001b[0m\u001b[0;34m\u001b[0m\u001b[0m\n\u001b[1;32m     18\u001b[0m \u001b[0;34m\u001b[0m\u001b[0m\n\u001b[0;32m---> 19\u001b[0;31m             \u001b[0moutput_shape\u001b[0m\u001b[0;34m,\u001b[0m \u001b[0mtrain_iter\u001b[0m \u001b[0;34m=\u001b[0m \u001b[0mmake_dataset_dnase\u001b[0m\u001b[0;34m(\u001b[0m\u001b[0mtrain_data\u001b[0m\u001b[0;34m,\u001b[0m  \u001b[0mDataset\u001b[0m\u001b[0;34m.\u001b[0m\u001b[0mTRAIN\u001b[0m\u001b[0;34m,\u001b[0m \u001b[0mbatch_size\u001b[0m\u001b[0;34m,\u001b[0m \u001b[0mshuffle_size\u001b[0m\u001b[0;34m,\u001b[0m \u001b[0mprefetch_size\u001b[0m\u001b[0;34m,\u001b[0m \u001b[0mradii\u001b[0m\u001b[0;34m)\u001b[0m\u001b[0;34m\u001b[0m\u001b[0m\n\u001b[0m\u001b[1;32m     20\u001b[0m             \u001b[0m_\u001b[0m\u001b[0;34m,\u001b[0m            \u001b[0mvalid_iter\u001b[0m \u001b[0;34m=\u001b[0m \u001b[0mmake_dataset_dnase\u001b[0m\u001b[0;34m(\u001b[0m\u001b[0mvalid_data\u001b[0m\u001b[0;34m,\u001b[0m \u001b[0mDataset\u001b[0m\u001b[0;34m.\u001b[0m\u001b[0mVALID\u001b[0m\u001b[0;34m,\u001b[0m \u001b[0mbatch_size\u001b[0m\u001b[0;34m,\u001b[0m \u001b[0;36m1\u001b[0m           \u001b[0;34m,\u001b[0m \u001b[0mprefetch_size\u001b[0m\u001b[0;34m,\u001b[0m \u001b[0mradii\u001b[0m\u001b[0;34m)\u001b[0m\u001b[0;34m\u001b[0m\u001b[0m\n\u001b[1;32m     21\u001b[0m             \u001b[0m_\u001b[0m\u001b[0;34m,\u001b[0m            \u001b[0mtest_iter\u001b[0m \u001b[0;34m=\u001b[0m \u001b[0mmake_dataset_dnase\u001b[0m\u001b[0;34m(\u001b[0m\u001b[0mtest_data\u001b[0m\u001b[0;34m,\u001b[0m \u001b[0mDataset\u001b[0m\u001b[0;34m.\u001b[0m\u001b[0mTEST\u001b[0m\u001b[0;34m,\u001b[0m \u001b[0mbatch_size\u001b[0m\u001b[0;34m,\u001b[0m \u001b[0;36m1\u001b[0m           \u001b[0;34m,\u001b[0m \u001b[0mprefetch_size\u001b[0m\u001b[0;34m,\u001b[0m \u001b[0mradii\u001b[0m\u001b[0;34m)\u001b[0m\u001b[0;34m\u001b[0m\u001b[0m\n",
      "\u001b[0;32m<ipython-input-536-1a69a9b02b4b>\u001b[0m in \u001b[0;36mmake_dataset_dnase\u001b[0;34m(data, which_dataset, batch_size, shuffle_size, prefetch_size, radii)\u001b[0m\n\u001b[1;32m    101\u001b[0m     \u001b[0mgenerator\u001b[0m \u001b[0;34m=\u001b[0m \u001b[0mgen_dnase\u001b[0m\u001b[0;34m(\u001b[0m\u001b[0mdata\u001b[0m\u001b[0;34m,\u001b[0m \u001b[0mwhich_dataset\u001b[0m\u001b[0;34m,\u001b[0m \u001b[0mradii\u001b[0m\u001b[0;34m)\u001b[0m\u001b[0;34m\u001b[0m\u001b[0m\n\u001b[1;32m    102\u001b[0m \u001b[0;34m\u001b[0m\u001b[0m\n\u001b[0;32m--> 103\u001b[0;31m     \u001b[0;32mfor\u001b[0m \u001b[0mx\u001b[0m\u001b[0;34m,\u001b[0m \u001b[0my\u001b[0m \u001b[0;32min\u001b[0m \u001b[0mgenerator\u001b[0m\u001b[0;34m(\u001b[0m\u001b[0;34m)\u001b[0m\u001b[0;34m:\u001b[0m\u001b[0;34m\u001b[0m\u001b[0m\n\u001b[0m\u001b[1;32m    104\u001b[0m         \u001b[0;32mbreak\u001b[0m\u001b[0;34m\u001b[0m\u001b[0m\n\u001b[1;32m    105\u001b[0m \u001b[0;34m\u001b[0m\u001b[0m\n",
      "\u001b[0;32m<ipython-input-536-1a69a9b02b4b>\u001b[0m in \u001b[0;36mg\u001b[0;34m()\u001b[0m\n\u001b[1;32m     66\u001b[0m             \u001b[0;31m# get dnase for this cell type\u001b[0m\u001b[0;34m\u001b[0m\u001b[0;34m\u001b[0m\u001b[0m\n\u001b[1;32m     67\u001b[0m             dnase_i = get_dnase_array_from_modified_dict(dnase_train_dict, dnase_valid_dict, dnase_test_dict,\n\u001b[0;32m---> 68\u001b[0;31m                                                      range_,celltype, DATA_LABEL=DATA_LABEL)\n\u001b[0m\u001b[1;32m     69\u001b[0m \u001b[0;34m\u001b[0m\u001b[0m\n\u001b[1;32m     70\u001b[0m             \u001b[0mdnases\u001b[0m \u001b[0;34m=\u001b[0m \u001b[0mnp\u001b[0m\u001b[0;34m.\u001b[0m\u001b[0mempty\u001b[0m\u001b[0;34m(\u001b[0m\u001b[0;34m(\u001b[0m\u001b[0mlen\u001b[0m\u001b[0;34m(\u001b[0m\u001b[0mrange_\u001b[0m\u001b[0;34m)\u001b[0m\u001b[0;34m,\u001b[0m \u001b[0mlen\u001b[0m\u001b[0;34m(\u001b[0m\u001b[0mtrain_celltypes\u001b[0m\u001b[0;34m)\u001b[0m\u001b[0;34m)\u001b[0m\u001b[0;34m)\u001b[0m\u001b[0;34m\u001b[0m\u001b[0m\n",
      "\u001b[0;32m<ipython-input-345-ada1e78b4272>\u001b[0m in \u001b[0;36mget_dnase_array_from_modified_dict\u001b[0;34m(dnase_train, dnase_valid, dnase_test, range_i, celltype, DATA_LABEL)\u001b[0m\n\u001b[1;32m     18\u001b[0m         \u001b[0;32mreturn\u001b[0m \u001b[0mdnase_valid\u001b[0m\u001b[0;34m[\u001b[0m\u001b[0mcelltype\u001b[0m\u001b[0;34m]\u001b[0m\u001b[0;34m[\u001b[0m\u001b[0mrange_i\u001b[0m\u001b[0;34m]\u001b[0m\u001b[0;34m\u001b[0m\u001b[0m\n\u001b[1;32m     19\u001b[0m     \u001b[0;32melse\u001b[0m\u001b[0;34m:\u001b[0m\u001b[0;34m\u001b[0m\u001b[0m\n\u001b[0;32m---> 20\u001b[0;31m         \u001b[0;32mreturn\u001b[0m \u001b[0mdnase_test\u001b[0m\u001b[0;34m[\u001b[0m\u001b[0mcelltype\u001b[0m\u001b[0;34m]\u001b[0m\u001b[0;34m[\u001b[0m\u001b[0mrange_i\u001b[0m\u001b[0;34m]\u001b[0m\u001b[0;34m\u001b[0m\u001b[0m\n\u001b[0m\u001b[1;32m     21\u001b[0m \u001b[0;34m\u001b[0m\u001b[0m\n\u001b[1;32m     22\u001b[0m \u001b[0;34m\u001b[0m\u001b[0m\n",
      "\u001b[0;32m/data/akmorrow/miniconda3/envs/EpitomeEnv/lib/python3.6/site-packages/scipy/sparse/csr.py\u001b[0m in \u001b[0;36m__getitem__\u001b[0;34m(self, key)\u001b[0m\n\u001b[1;32m    342\u001b[0m         \u001b[0;32mif\u001b[0m \u001b[0mnum_samples\u001b[0m \u001b[0;34m==\u001b[0m \u001b[0;36m0\u001b[0m\u001b[0;34m:\u001b[0m\u001b[0;34m\u001b[0m\u001b[0m\n\u001b[1;32m    343\u001b[0m             \u001b[0;32mreturn\u001b[0m \u001b[0mcsr_matrix\u001b[0m\u001b[0;34m(\u001b[0m\u001b[0mnp\u001b[0m\u001b[0;34m.\u001b[0m\u001b[0matleast_2d\u001b[0m\u001b[0;34m(\u001b[0m\u001b[0mrow\u001b[0m\u001b[0;34m)\u001b[0m\u001b[0;34m.\u001b[0m\u001b[0mshape\u001b[0m\u001b[0;34m,\u001b[0m \u001b[0mdtype\u001b[0m\u001b[0;34m=\u001b[0m\u001b[0mself\u001b[0m\u001b[0;34m.\u001b[0m\u001b[0mdtype\u001b[0m\u001b[0;34m)\u001b[0m\u001b[0;34m\u001b[0m\u001b[0m\n\u001b[0;32m--> 344\u001b[0;31m         \u001b[0mcheck_bounds\u001b[0m\u001b[0;34m(\u001b[0m\u001b[0mrow\u001b[0m\u001b[0;34m,\u001b[0m \u001b[0mself\u001b[0m\u001b[0;34m.\u001b[0m\u001b[0mshape\u001b[0m\u001b[0;34m[\u001b[0m\u001b[0;36m0\u001b[0m\u001b[0;34m]\u001b[0m\u001b[0;34m)\u001b[0m\u001b[0;34m\u001b[0m\u001b[0m\n\u001b[0m\u001b[1;32m    345\u001b[0m         \u001b[0mcheck_bounds\u001b[0m\u001b[0;34m(\u001b[0m\u001b[0mcol\u001b[0m\u001b[0;34m,\u001b[0m \u001b[0mself\u001b[0m\u001b[0;34m.\u001b[0m\u001b[0mshape\u001b[0m\u001b[0;34m[\u001b[0m\u001b[0;36m1\u001b[0m\u001b[0;34m]\u001b[0m\u001b[0;34m)\u001b[0m\u001b[0;34m\u001b[0m\u001b[0m\n\u001b[1;32m    346\u001b[0m \u001b[0;34m\u001b[0m\u001b[0m\n",
      "\u001b[0;32m/data/akmorrow/miniconda3/envs/EpitomeEnv/lib/python3.6/site-packages/scipy/sparse/csr.py\u001b[0m in \u001b[0;36mcheck_bounds\u001b[0;34m(indices, N)\u001b[0m\n\u001b[1;32m    254\u001b[0m             \u001b[0mmax_indx\u001b[0m \u001b[0;34m=\u001b[0m \u001b[0mindices\u001b[0m\u001b[0;34m.\u001b[0m\u001b[0mmax\u001b[0m\u001b[0;34m(\u001b[0m\u001b[0;34m)\u001b[0m\u001b[0;34m\u001b[0m\u001b[0m\n\u001b[1;32m    255\u001b[0m             \u001b[0;32mif\u001b[0m \u001b[0mmax_indx\u001b[0m \u001b[0;34m>=\u001b[0m \u001b[0mN\u001b[0m\u001b[0;34m:\u001b[0m\u001b[0;34m\u001b[0m\u001b[0m\n\u001b[0;32m--> 256\u001b[0;31m                 \u001b[0;32mraise\u001b[0m \u001b[0mIndexError\u001b[0m\u001b[0;34m(\u001b[0m\u001b[0;34m'index (%d) out of range'\u001b[0m \u001b[0;34m%\u001b[0m \u001b[0mmax_indx\u001b[0m\u001b[0;34m)\u001b[0m\u001b[0;34m\u001b[0m\u001b[0m\n\u001b[0m\u001b[1;32m    257\u001b[0m \u001b[0;34m\u001b[0m\u001b[0m\n\u001b[1;32m    258\u001b[0m             \u001b[0mmin_indx\u001b[0m \u001b[0;34m=\u001b[0m \u001b[0mindices\u001b[0m\u001b[0;34m.\u001b[0m\u001b[0mmin\u001b[0m\u001b[0;34m(\u001b[0m\u001b[0;34m)\u001b[0m\u001b[0;34m\u001b[0m\u001b[0m\n",
      "\u001b[0;31mIndexError\u001b[0m: index (3999999) out of range"
     ]
    }
   ],
   "source": [
    "results = []\n",
    "model = MLP(4, [100, 100, 100, 50], tf.tanh, train_data, valid_data, test_data, shuffle_size=2, radii=[])\n",
    "model.train(20000)\n",
    "results.append(model.test(455024, mode = Dataset.TEST, log=True))"
   ]
  },
  {
   "cell_type": "code",
   "execution_count": null,
   "metadata": {},
   "outputs": [],
   "source": [
    "results.append(model.test(8000, mode = Dataset.VALID, log=True))"
   ]
  },
  {
   "cell_type": "code",
   "execution_count": 84,
   "metadata": {},
   "outputs": [
    {
     "name": "stderr",
     "output_type": "stream",
     "text": [
      "/data/akmorrow/miniconda3/envs/EpitomeEnv/lib/python3.6/site-packages/ipykernel_launcher.py:117: DeprecationWarning: in the future out of bounds indices will raise an error instead of being ignored by `numpy.delete`.\n",
      "/data/akmorrow/miniconda3/envs/EpitomeEnv/lib/python3.6/site-packages/ipykernel_launcher.py:118: DeprecationWarning: in the future out of bounds indices will raise an error instead of being ignored by `numpy.delete`.\n"
     ]
    },
    {
     "name": "stdout",
     "output_type": "stream",
     "text": [
      "INFO:tensorflow:Our macro AUC:     0.8309258938344021\n",
      "INFO:tensorflow:Our micro AUC:     0.7385998286731957\n",
      "CTCF 0.9463942584876804\n",
      "Pol2 0.9588636515756777\n",
      "YY1 0.8795148035379846\n",
      "p300 0.7733681113763502\n",
      "TAF1 0.8986777813598592\n",
      "Pol2-4H8 0.6383651317594076\n",
      "c-Myc nan\n",
      "Rad21 nan\n",
      "Max 0.9520859570904386\n",
      "NRSF 0.8430683942821179\n",
      "GABP 0.8771481865354318\n",
      "EZH2 0.8137260413710268\n",
      "CEBPB nan\n",
      "c-Jun 0.679424019322199\n",
      "ZBTB33 nan\n",
      "USF2 0.7662017148532945\n",
      "USF-1 nan\n",
      "TBP 0.7751985682957584\n",
      "RFX5 nan\n"
     ]
    },
    {
     "data": {
      "text/plain": [
       "(array([[0.04675665, 0.09816638, 0.03188987, ..., 0.06927536, 0.0769244 ,\n",
       "         0.02396182],\n",
       "        [0.04579303, 0.09859513, 0.03165828, ..., 0.06940596, 0.07659425,\n",
       "         0.02368902],\n",
       "        [0.04514086, 0.0989252 , 0.03144021, ..., 0.06961869, 0.07639512,\n",
       "         0.02335319],\n",
       "        ...,\n",
       "        [0.05365978, 0.09488048, 0.03316782, ..., 0.06903983, 0.07963464,\n",
       "         0.02611261],\n",
       "        [0.05361602, 0.0949579 , 0.03315456, ..., 0.06905258, 0.07961825,\n",
       "         0.02603792],\n",
       "        [0.19578336, 0.1216448 , 0.11400988, ..., 0.04941948, 0.12397033,\n",
       "         0.02289581]], dtype=float32), array([[0., 0., 0., ..., 0., 0., 0.],\n",
       "        [0., 0., 0., ..., 0., 0., 0.],\n",
       "        [0., 0., 0., ..., 0., 0., 0.],\n",
       "        ...,\n",
       "        [0., 0., 0., ..., 0., 0., 0.],\n",
       "        [0., 0., 0., ..., 0., 0., 0.],\n",
       "        [0., 0., 0., ..., 0., 0., 0.]], dtype=float32), 0.7385998286731957, 0.8309258938344021, False)"
      ]
     },
     "execution_count": 84,
     "metadata": {},
     "output_type": "execute_result"
    }
   ],
   "source": [
    "results.append(model.test(455024, mode = Dataset.TEST, log=True))"
   ]
  },
  {
   "cell_type": "code",
   "execution_count": 104,
   "metadata": {},
   "outputs": [
    {
     "ename": "ValueError",
     "evalue": "too many values to unpack (expected 3)",
     "output_type": "error",
     "traceback": [
      "\u001b[0;31m---------------------------------------------------------------------------\u001b[0m",
      "\u001b[0;31mValueError\u001b[0m                                Traceback (most recent call last)",
      "\u001b[0;32m<ipython-input-104-bd57b0651e90>\u001b[0m in \u001b[0;36m<module>\u001b[0;34m\u001b[0m\n\u001b[0;32m----> 1\u001b[0;31m \u001b[0;32mfor\u001b[0m \u001b[0mpreds\u001b[0m\u001b[0;34m,\u001b[0m \u001b[0mtruth\u001b[0m\u001b[0;34m,\u001b[0m \u001b[0m_\u001b[0m \u001b[0;32min\u001b[0m \u001b[0mresults\u001b[0m\u001b[0;34m:\u001b[0m\u001b[0;34m\u001b[0m\u001b[0m\n\u001b[0m\u001b[1;32m      2\u001b[0m     \u001b[0mprint\u001b[0m\u001b[0;34m(\u001b[0m\u001b[0msklearn\u001b[0m\u001b[0;34m.\u001b[0m\u001b[0mmetrics\u001b[0m\u001b[0;34m.\u001b[0m\u001b[0mroc_auc_score\u001b[0m\u001b[0;34m(\u001b[0m\u001b[0mtruth\u001b[0m\u001b[0;34m,\u001b[0m \u001b[0mpreds\u001b[0m\u001b[0;34m,\u001b[0m \u001b[0maverage\u001b[0m\u001b[0;34m=\u001b[0m\u001b[0;34m'macro'\u001b[0m\u001b[0;34m)\u001b[0m\u001b[0;34m)\u001b[0m\u001b[0;34m\u001b[0m\u001b[0m\n\u001b[1;32m      3\u001b[0m     \u001b[0mprint\u001b[0m\u001b[0;34m(\u001b[0m\u001b[0msklearn\u001b[0m\u001b[0;34m.\u001b[0m\u001b[0mmetrics\u001b[0m\u001b[0;34m.\u001b[0m\u001b[0mroc_auc_score\u001b[0m\u001b[0;34m(\u001b[0m\u001b[0mtruth\u001b[0m\u001b[0;34m,\u001b[0m \u001b[0mpreds\u001b[0m\u001b[0;34m,\u001b[0m \u001b[0maverage\u001b[0m\u001b[0;34m=\u001b[0m\u001b[0;34m'micro'\u001b[0m\u001b[0;34m)\u001b[0m\u001b[0;34m)\u001b[0m\u001b[0;34m\u001b[0m\u001b[0m\n",
      "\u001b[0;31mValueError\u001b[0m: too many values to unpack (expected 3)"
     ]
    }
   ],
   "source": [
    "for preds, truth, _ in results:\n",
    "    print(sklearn.metrics.roc_auc_score(truth, preds, average='macro'))\n",
    "    print(sklearn.metrics.roc_auc_score(truth, preds, average='micro'))"
   ]
  },
  {
   "cell_type": "code",
   "execution_count": null,
   "metadata": {},
   "outputs": [],
   "source": [
    "# 20k steps, take maximum macroAUC observed during training\n",
    "#2, [100, 50], [0], 0.9012855730483059\n",
    "#2, [100, 50], [1], 0.9185077245227484\n",
    "#2, [100, 50], [1,3], 0.9207317913067318\n",
    "#2, [100, 50], [1,3,10], 0.9206390991622936\n",
    "#2, [100, 50], [1,3,10,30], 0.9241529096459893\n"
   ]
  }
 ],
 "metadata": {
  "kernelspec": {
   "display_name": "Python 3",
   "language": "python",
   "name": "python3"
  },
  "language_info": {
   "codemirror_mode": {
    "name": "ipython",
    "version": 3
   },
   "file_extension": ".py",
   "mimetype": "text/x-python",
   "name": "python",
   "nbconvert_exporter": "python",
   "pygments_lexer": "ipython3",
   "version": "3.6.6"
  }
 },
 "nbformat": 4,
 "nbformat_minor": 2
}
