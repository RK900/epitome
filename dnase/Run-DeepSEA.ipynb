{
 "cells": [
  {
   "cell_type": "markdown",
   "metadata": {},
   "source": [
    "# Runs and evaluates Deepsea"
   ]
  },
  {
   "cell_type": "code",
   "execution_count": 1,
   "metadata": {},
   "outputs": [],
   "source": [
    "import collections\n",
    "import os\n",
    "\n",
    "import tensorflow as tf\n",
    "import h5py\n",
    "from scipy.io import loadmat\n",
    "import numpy as np\n",
    "import matplotlib.pyplot as plt\n",
    "import sklearn.metrics\n",
    "import kipoi"
   ]
  },
  {
   "cell_type": "markdown",
   "metadata": {},
   "source": [
    "## User specific locations"
   ]
  },
  {
   "cell_type": "code",
   "execution_count": 2,
   "metadata": {},
   "outputs": [],
   "source": [
    "########################## PATHS ###########################\n",
    "# path to where dnase bams are stored. Bams need to be sorted and indexed. See bin/download_dnase_encode.sh for\n",
    "# data processing\n",
    "_ENCODE_DATA_PREFIX =  \"/data/akmorrow/encode_data/\"\n",
    "\n",
    "deepsea_path = \"/data/akmorrow/epitome_data/deepsea_train/\"\n",
    "dnase_preprocessed_path = \"/data/akmorrow/epitome_data/processed_dnase/\"\n",
    "feature_path = \"/home/eecs/akmorrow/epitome/data/feature_name\"\n",
    "\n",
    "_DEEPSEA_GENOME_REGIONS_FILENAME = \"/home/eecs/akmorrow/epitome/data/allTFs.pos.bed\"\n",
    "\n"
   ]
  },
  {
   "cell_type": "code",
   "execution_count": 3,
   "metadata": {},
   "outputs": [],
   "source": [
    "exec(open(\"./constants.py\").read())\n",
    "exec(open(\"./functions.py\").read())\n",
    "\n",
    "deepsea_path = \"/data/akmorrow/epitome_data/deepsea_train/\""
   ]
  },
  {
   "cell_type": "markdown",
   "metadata": {},
   "source": [
    "# Load Data"
   ]
  },
  {
   "cell_type": "code",
   "execution_count": 10,
   "metadata": {},
   "outputs": [
    {
     "name": "stdout",
     "output_type": "stream",
     "text": [
      "(408000, 4, 1000) (4455024, 4, 1000) (455024, 4, 1000)\n",
      "(919, 408000) (919, 4455024) (919, 455024)\n"
     ]
    }
   ],
   "source": [
    "train_data, valid_data, test_data = load_deepsea_data(deepsea_path)\n",
    "print(valid_data[\"x\"].shape, train_data[\"x\"].shape, test_data[\"x\"].shape)\n",
    "print(valid_data[\"y\"].shape, train_data[\"y\"].shape, test_data[\"y\"].shape)"
   ]
  },
  {
   "cell_type": "markdown",
   "metadata": {},
   "source": [
    "# Choose cell types"
   ]
  },
  {
   "cell_type": "code",
   "execution_count": 29,
   "metadata": {},
   "outputs": [
    {
     "name": "stdout",
     "output_type": "stream",
     "text": [
      "['K562', 'HepG2', 'H1-hESC', 'GM12878', 'HeLa-S3', 'A549', 'HUVEC', 'HCT-116', 'GM12892', 'GM12891', 'MCF-7'] ['Pol2', 'DNase', 'CTCF', 'YY1', 'TAF1', 'Pol2-4H8', 'c-Myc', 'Max', 'p300', 'Rad21', 'NRSF', 'GABP', 'EZH2', 'CEBPB', 'c-Jun', 'ZBTB33', 'USF2', 'USF-1', 'TBP', 'RFX5']\n"
     ]
    }
   ],
   "source": [
    "# matrix is cell types by factors, contains indices in feature vector\n",
    "matrix, cellmap, assaymap = get_assays_from_feature_file()\n",
    "print(list(cellmap.keys())[:11], list(assaymap.keys())[:20])\n",
    "y_indices = matrix[cellmap[\"A549\"]]\n",
    "\n",
    "indices_mat = np.delete(matrix, [0,3,5], axis=0)\n"
   ]
  },
  {
   "cell_type": "markdown",
   "metadata": {},
   "source": [
    "# Check how DeepSea does"
   ]
  },
  {
   "cell_type": "code",
   "execution_count": null,
   "metadata": {},
   "outputs": [],
   "source": [
    "model = kipoi.get_model('DeepSEA/predict') # load the model"
   ]
  },
  {
   "cell_type": "code",
   "execution_count": 12,
   "metadata": {},
   "outputs": [],
   "source": [
    "\n",
    "batch_size = 100\n",
    "preds = []\n",
    "for i in np.arange(0, len(test_data[\"x\"]), batch_size):\n",
    "    batch = test_data[\"x\"][i:i+batch_size]\n",
    "    batch = np.expand_dims(batch, 2)\n",
    "    batch = batch[:,[0,2,1,3]]\n",
    "    preds.append(model.predict_on_batch(batch.astype(np.float32)))\n",
    "preds = np.concatenate(preds, axis=0)"
   ]
  },
  {
   "cell_type": "markdown",
   "metadata": {},
   "source": [
    "### Direct performance of DeepSea  on A549\n"
   ]
  },
  {
   "cell_type": "code",
   "execution_count": 101,
   "metadata": {},
   "outputs": [
    {
     "name": "stdout",
     "output_type": "stream",
     "text": [
      "Pol2 0.9835379602141645\n",
      "DNase 0.8891200468674318\n",
      "CTCF 0.9796873209063074\n",
      "YY1 0.9412569522126875\n",
      "TAF1 0.9339937597111095\n",
      "Max 0.9700962068145859\n",
      "p300 0.88337104127891\n",
      "Rad21 0.9885791954539361\n",
      "NRSF 0.9048150350795633\n",
      "GABP 0.9430083472897535\n",
      "CEBPB 0.9715652508801853\n",
      "ZBTB33 0.9131234213730131\n",
      "USF-1 0.9305090220181208\n",
      "Macro score from averaging 0.9409741200076746\n",
      "Micro score from averaging 0.9545428044977946\n"
     ]
    }
   ],
   "source": [
    "assaylist= list(assaymap)\n",
    "\n",
    "A549_assays = list(filter(lambda x: x[1] != -1, zip(assaylist, y_indices)))\n",
    "A549_preds = preds.T[y_indices[y_indices != -1]]\n",
    "A549_truth = test_data[\"y\"][y_indices[y_indices != -1]]\n",
    "\n",
    "\n",
    "# calculate Auc for available assays in A549\n",
    "for i in range(len(A549_assays)):\n",
    "        \n",
    "    print(A549_assays[i][0], sklearn.metrics.roc_auc_score(A549_truth[i].T, A549_preds[i].T, average=\"macro\"))\n",
    "\n",
    "# get total averages\n",
    "print(\"Macro score from averaging\", sklearn.metrics.roc_auc_score(A549_truth.T, A549_preds.T, average='macro'))\n",
    "print(\"Micro score from averaging\", sklearn.metrics.roc_auc_score(A549_truth.T, A549_preds.T, average='micro'))"
   ]
  },
  {
   "cell_type": "markdown",
   "metadata": {},
   "source": [
    "### Performance of DeepSea through averaging"
   ]
  },
  {
   "cell_type": "code",
   "execution_count": 93,
   "metadata": {},
   "outputs": [
    {
     "data": {
      "text/plain": [
       "(8, 20, 455024)"
      ]
     },
     "execution_count": 93,
     "metadata": {},
     "output_type": "execute_result"
    }
   ],
   "source": [
    "weights = np.tile((indices_mat!=-1).reshape(indices_mat.shape + (1,)), (1, 1, test_data[\"y\"].shape[-1]))\n",
    "\n",
    "average_preds = np.average(preds.T[indices_mat], axis=0, weights=weights)\n",
    "average_preds = average_preds[y_indices != -1]\n"
   ]
  },
  {
   "cell_type": "code",
   "execution_count": 102,
   "metadata": {},
   "outputs": [
    {
     "name": "stdout",
     "output_type": "stream",
     "text": [
      "Macro score from averaging 0.9038947798546453\n",
      "Micro score from averaging 0.9144402337031453\n",
      "Pol2 0.9752907041571531\n",
      "DNase 0.8700758330282392\n",
      "CTCF 0.9728487642891959\n",
      "YY1 0.9011811622763934\n",
      "TAF1 0.9156682727829428\n",
      "Max 0.9674639814541746\n",
      "p300 0.8213540913260786\n",
      "Rad21 0.9875811386426235\n",
      "NRSF 0.8245115947487238\n",
      "GABP 0.8445088893090317\n",
      "CEBPB 0.9682144553662642\n",
      "ZBTB33 0.8552369335274348\n",
      "USF-1 0.8466963172021347\n"
     ]
    }
   ],
   "source": [
    "print(\"Macro score from averaging\", sklearn.metrics.roc_auc_score(truth.T, average_preds.T, average='macro'))\n",
    "print(\"Micro score from averaging\", sklearn.metrics.roc_auc_score(truth.T, average_preds.T, average='micro'))\n",
    "\n",
    "\n",
    "for i in range(len(A549_assays)):\n",
    "    print(A549_assays[i][0], sklearn.metrics.roc_auc_score(truth[i].T, average_preds[i].T, average='macro'))\n"
   ]
  }
 ],
 "metadata": {
  "kernelspec": {
   "display_name": "Python 3",
   "language": "python",
   "name": "python3"
  },
  "language_info": {
   "codemirror_mode": {
    "name": "ipython",
    "version": 3
   },
   "file_extension": ".py",
   "mimetype": "text/x-python",
   "name": "python",
   "nbconvert_exporter": "python",
   "pygments_lexer": "ipython3",
   "version": "3.6.6"
  }
 },
 "nbformat": 4,
 "nbformat_minor": 2
}
