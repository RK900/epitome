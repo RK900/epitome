{
 "cells": [
  {
   "cell_type": "markdown",
   "metadata": {},
   "source": [
    "# Notebook for adding in TFs\n",
    "\n",
    "Alyssa's 3/4/2019\n",
    "\n",
    "Currently, we are only adding the covariance matrix  for distances between the query cell type and the cell types in train. In this experiment, we add in the similarities between cell types in the train set and see if it helps"
   ]
  },
  {
   "cell_type": "markdown",
   "metadata": {},
   "source": [
    "# Imports"
   ]
  },
  {
   "cell_type": "code",
   "execution_count": 570,
   "metadata": {},
   "outputs": [],
   "source": [
    "import collections\n",
    "import datetime\n",
    "\n",
    "import pyDNase\n",
    "import tensorflow as tf\n",
    "import h5py\n",
    "from scipy.io import loadmat\n",
    "import numpy as np\n",
    "import matplotlib.pyplot as plt\n",
    "import sklearn.metrics\n",
    "import os\n",
    "import pybedtools\n",
    "import torch\n",
    "import h5sparse\n",
    "import datetime\n",
    "import logging\n",
    "\n",
    "from scipy import stats\n",
    "\n",
    "from pyDNase import GenomicInterval\n",
    "from scipy.sparse import coo_matrix, vstack\n",
    "\n",
    "from scipy.fftpack import fft, ifft\n",
    "\n",
    "import sys\n",
    "\n",
    "import warnings\n",
    "warnings.filterwarnings(\"ignore\", category=RuntimeWarning)\n",
    "warnings.filterwarnings(\"ignore\", category=sklearn.exceptions.UndefinedMetricWarning)\n"
   ]
  },
  {
   "cell_type": "code",
   "execution_count": 235,
   "metadata": {},
   "outputs": [],
   "source": [
    "import logging\n",
    "\n",
    "# get TF logger\n",
    "log = logging.getLogger('tensorflow')\n",
    "log.setLevel(logging.INFO)\n",
    "\n",
    "# create formatter and add it to the handlers\n",
    "formatter = logging.Formatter('%(asctime)s - %(name)s - %(levelname)s - %(message)s')\n",
    "\n",
    "# create file handler which logs even debug messages\n",
    "fh = logging.FileHandler('/data/akmorrow/tensorflow.log')\n",
    "fh.setLevel(logging.INFO)\n",
    "fh.setFormatter(formatter)\n",
    "log.addHandler(fh)"
   ]
  },
  {
   "cell_type": "code",
   "execution_count": null,
   "metadata": {},
   "outputs": [],
   "source": [
    "# path to where dnase bams are stored. Bams need to be sorted and indexed. See bin/download_dnase_encode.sh for\n",
    "# data processing\n",
    "# Required in constants.py\n",
    "_ENCODE_DATA_PREFIX =  \"/data/akmorrow/encode_data/\"\n",
    "\n",
    "# where training data is stored\n",
    "deepsea_path = \"/data/akmorrow/epitome_data/deepsea_train/\""
   ]
  },
  {
   "cell_type": "markdown",
   "metadata": {},
   "source": [
    "# Define Paths for this user"
   ]
  },
  {
   "cell_type": "code",
   "execution_count": 666,
   "metadata": {},
   "outputs": [],
   "source": [
    "exec(open(\"./constants.py\").read())\n",
    "exec(open(\"./functions.py\").read())\n",
    "exec(open(\"./generators.py\").read())\n",
    "exec(open(\"./models.py\").read())"
   ]
  },
  {
   "cell_type": "markdown",
   "metadata": {},
   "source": [
    "# Load Data"
   ]
  },
  {
   "cell_type": "markdown",
   "metadata": {},
   "source": [
    "### Load DeepSEA data"
   ]
  },
  {
   "cell_type": "code",
   "execution_count": null,
   "metadata": {},
   "outputs": [],
   "source": [
    "train_data, valid_data, test_data = load_deepsea_data(deepsea_path)"
   ]
  },
  {
   "cell_type": "code",
   "execution_count": null,
   "metadata": {},
   "outputs": [],
   "source": [
    "print(valid_data[\"y\"].shape, train_data[\"y\"].shape, test_data[\"y\"].shape)"
   ]
  },
  {
   "cell_type": "markdown",
   "metadata": {},
   "source": [
    "# Validation and Test Cell Types"
   ]
  },
  {
   "cell_type": "code",
   "execution_count": 576,
   "metadata": {},
   "outputs": [],
   "source": [
    "# Available cell types. Calculated from Train_data_analysis.ipynb\n",
    "# if you do this, none left to test on!\n",
    "#validation_celltypes = ['K562', 'HepG2', 'H1-hESC', 'GM12891', 'HeLa-S3', 'T-47D']\n",
    "#test_celltypes = ['A549', 'GM12878', 'ProgFib', 'HUVEC', 'NT2-D1', 'MCF-7']\n",
    "validation_celltypes = ['K562', 'HepG2']\n",
    "test_celltypes = ['A549']\n",
    "\n",
    "\n",
    "assays = ['DNase', 'p300', 'c-Myc', 'c-Jun', 'c-Fos', 'Znf143', 'ZZZ3', 'ZNF274', 'ZBTB7A', 'ZBTB33', 'YY1', 'USF2', 'USF-1', 'TR4', 'TFIIIC-110', 'TEAD4', 'TCF7L2', 'TCF12', 'TBP', 'TBLR1', 'TAF7', 'TAF1', 'Sin3Ak-20', 'SUZ12', 'STAT5A', 'STAT3', 'STAT1', 'SRF', 'SP2', 'SP1', 'SMC3', 'SIX5', 'SIN3A', 'Rad21', 'RXRA', 'RPC155', 'RFX5', 'RBBP5', 'Pol3', 'Pol2-4H8', 'Pol2(phosphoS2)', 'Pol2(b)', 'Pol2', 'PU.1', 'POU2F2', 'PML', 'PAX5-C20', 'Nrf1', 'NRSF', 'NFKB', 'NFIC', 'NF-YB', 'NF-YA', 'NF-E2', 'Mxi1', 'Max', 'MafK', 'MafF', 'MEF2A', 'MAZ', 'JunD', 'Ini1', 'IRF3', 'HDAC2', 'HA-E2F1', 'GTF2F1', 'GATA3', 'GATA-2', 'GABP', 'FOXA1', 'FOSL2', 'FOSL1', 'Egr-1', 'EZH2', 'ETS1', 'ELK1', 'ELF1', 'E2F6', 'E2F4', 'CTCF', 'COREST', 'CHD2', 'CHD1', 'CEBPB', 'Brg1', 'Bach1', 'BRF2', 'BRF1', 'BRCA1', 'BHLHE40', 'BDP1', 'BCLAF1', 'BCL3', 'BCL11A', 'ATF3', 'ATF2', 'ARID3A']\n",
    "\n",
    "# test: is code working right?\n",
    "validation_celltypes = ['Gliobla']\n",
    "test_celltypes = ['GM12878']\n",
    "assays = ['DNase',  'Rad21', 'CTCF', 'Pol2']\n",
    "celltypes = ['SK-N-SH_RA', 'K562', 'HepG2', 'HeLa-S3', 'H1-hESC', 'GM12878', 'A549']"
   ]
  },
  {
   "cell_type": "markdown",
   "metadata": {},
   "source": [
    "## Get matrix of cell types and assays"
   ]
  },
  {
   "cell_type": "code",
   "execution_count": 635,
   "metadata": {},
   "outputs": [
    {
     "name": "stdout",
     "output_type": "stream",
     "text": [
      "['SK-N-SH_RA', 'ProgFib', 'NB4', 'MCF-7', 'K562', 'HepG2', 'HeLa-S3', 'HUVEC', 'HCT-116', 'H1-hESC', 'Gliobla', 'GM12892', 'GM12891', 'GM12878', 'A549'] ['DNase', 'Rad21', 'Pol2', 'CTCF']\n"
     ]
    },
    {
     "data": {
      "text/plain": [
       "array([[120, 387,  -1, 812],\n",
       "       [ 33,  -1, 762, 761],\n",
       "       [108,  -1, 702, 806],\n",
       "       [ 63,  -1, 759, 805],\n",
       "       [ 61, 654, 747, 804],\n",
       "       [ 56, 573, 741, 792],\n",
       "       [ 55, 530, 738, 791],\n",
       "       [ 60,  -1, 744, 802],\n",
       "       [ 80,  -1, 487, 788],\n",
       "       [ 54, 480, 735, 734],\n",
       "       [  6,  -1, 724, 723],\n",
       "       [  8,  -1, 453, 729],\n",
       "       [  7,  -1, 451, 728],\n",
       "       [ 53, 435, 727, 781],\n",
       "       [ 52, 405, 721, 763]])"
      ]
     },
     "execution_count": 635,
     "metadata": {},
     "output_type": "execute_result"
    },
    {
     "data": {
      "image/png": "[encoded data removed]",
      "text/plain": [
       "<Figure size 1440x720 with 1 Axes>"
      ]
     },
     "metadata": {
      "needs_background": "light"
     },
     "output_type": "display_data"
    }
   ],
   "source": [
    "matrix, cellmap, assaymap = get_assays_from_feature_file(feature_path='../data/feature_name', \n",
    "                                  eligible_assays = assays,\n",
    "                                  eligible_cells = None, min_assays=3)\n",
    "        \n",
    "inv_assaymap = {v: k for k, v in assaymap.items()}\n",
    "\n",
    "fig = plt.figure(figsize = (20,10))\n",
    "ax = fig.add_subplot(1,1,1)\n",
    "ax.set_aspect('equal')\n",
    "plt.xticks(np.arange(len(assaymap)), rotation = 90)\n",
    "ax.set_xticklabels(assaymap.keys())\n",
    "plt.yticks(np.arange(len(cellmap)))\n",
    "ax.set_yticklabels(cellmap.keys())\n",
    "\n",
    "plt.imshow(matrix!=-1)\n",
    "print(list(cellmap.keys()), list(assaymap.keys()))\n",
    "\n",
    "matrix"
   ]
  },
  {
   "cell_type": "code",
   "execution_count": 630,
   "metadata": {},
   "outputs": [],
   "source": [
    "\n",
    "\n",
    "def gen_from_peaks(data, \n",
    "                        label_cell_indices, \n",
    "                        assay_indices, \n",
    "                        dnase_indices, \n",
    "                        feature_assay_indices, \n",
    "                        radii, \n",
    "                        **kwargs):\n",
    "    \"\"\"\n",
    "    Takes Deepsea data and calculates distance metrics from cell types whose locations\n",
    "    are specified by label_cell_indices, and the other cell types in the set. Label space is only one assay.\n",
    "    \n",
    "    :param data: dictionary of matrices. Should have keys x and y. x contains n by 1000 rows. y contains n y 919 labels.\n",
    "    :param label_cell_indices: list of vectors which are the indices in the labels that should be used for each eval cell type.\n",
    "    :param assay_indices: list of assays that should be used in the label space. 1 per test/eval cell type.\n",
    "    :param dnase_indices: indices for DNase for celltypes\n",
    "    :param feature_assay_indices: indices of assays for train cell types for the feature space (does not include cell types for eval/test)\n",
    "    :param radii: where to calculate DNase similarity to.\n",
    "    \n",
    "    :returns: generator of data with three elements:\n",
    "        1. record features\n",
    "        2. record labels for a given cell type\n",
    "        3. 0/1 mask of labels that have validation data. For example, if this record is for celltype A549,\n",
    "        and A549 does not have data for ATF3, there will be a 0 in the position corresponding to the label space.\n",
    "    \"\"\"\n",
    "    \n",
    "    # y indices for x and assay indices for y should have the same length\n",
    "    assert len(label_cell_indices) == len(assay_indices), \"Length of label_cell_indices and assay_indices must be the same (# cells evaluatated)\"\n",
    "    \n",
    "    mode = kwargs[\"mode\"]\n",
    "    \n",
    "    # indices that we want to use in the generator\n",
    "    # If none, then  will use the whole dataset for the generator\n",
    "    record_indices = None\n",
    "    if (mode == Dataset.TRAIN):\n",
    "        record_indices = kwargs.get(\"train_record_indices\")\n",
    "    elif (mode == Dataset.VALID):\n",
    "        record_indices = kwargs.get(\"valid_record_indices\")\n",
    "    ## shouldn't subset for test!\n",
    "    \n",
    "    def g():\n",
    "                    \n",
    "        if (len(radii) > 0):\n",
    "            range_ = range(max(radii), data[\"y\"].shape[-1]-max(radii))\n",
    "        else: \n",
    "            range_ = range(0, data[\"y\"].shape[-1])\n",
    "            \n",
    "        # for i in range(max(radii), max(radii)+10): #range_: # for all records\n",
    "        for i in range_: #range(max(radii), max(radii)+10): #range_: # for all records\n",
    "            # check if you you actually want to add this record to the generator\n",
    "            if (hasattr(record_indices, 'shape')):\n",
    "                if (i not in record_indices): \n",
    "                    continue\n",
    "            \n",
    "            # label_cell_index and assay_index are the same unless TODO\n",
    "            for (label_cell_index, assay_index) in zip(label_cell_indices, assay_indices):\n",
    "                dnases = [] \n",
    "            \n",
    "                for radius in radii:\n",
    "                    # within the radius, fraction of places where they are both 1\n",
    "                    # label_cell_index[0] == DNase location for specific cell type\n",
    "                    dnase_double_positive = np.average(data[\"y\"][dnase_indices,i-radius:i+radius+1]*\n",
    "                                             data[\"y\"][label_cell_index[0],i-radius:i+radius+1], axis=1)\n",
    "                    \n",
    "                    # within the radius, fraction of places where they are both equal (0 or 1)\n",
    "                    dnase_agreement = np.average(data[\"y\"][dnase_indices,i-radius:i+radius+1]==\n",
    "                                             data[\"y\"][label_cell_index[0],i-radius:i+radius+1], axis=1)\n",
    "                    dnases.extend(dnase_double_positive)\n",
    "                    dnases.extend(dnase_agreement)\n",
    "                \n",
    "                # Remove DNase from prediction indices. \n",
    "                # You should not predict on assays you use to calculate the distance metric.\n",
    "                assay_index_no_dnase = np.delete(assay_index, [0])\n",
    "                \n",
    "                # Copy assay_index_no_dnase and turn into mask of 0/1 for whether data for this cell type for\n",
    "                # a given label is available.\n",
    "                assay_mask = np.copy(assay_index_no_dnase)\n",
    "                assay_mask[assay_mask == -1] = 0\n",
    "                assay_mask[assay_mask > 0] = 1\n",
    "\n",
    "                # TODO AM 3/6/2019: this is a BUG\n",
    "                # missing assays are called with -1 which gets last element in assay_index_no_dnase\n",
    "                # There needs to be some way to use the array mask when calculating loss \n",
    "                \n",
    "#                 if (mode == Dataset.TRAIN) & (len(assay_index_no_dnase) > 1): # only sample for learning\n",
    "                    # TODO if (data[\"y\"][feature_assay_indices,i].sum() != 0) | (data[\"y\"][assay_index_no_dnase,i].sum() != 0):\n",
    "                yield np.concatenate([data[\"y\"][feature_assay_indices,i],dnases]), data[\"y\"][assay_index_no_dnase,i], assay_mask\n",
    "      \n",
    "#                 else: \n",
    "#                     yield np.concatenate([data[\"y\"][feature_assay_indices,i],dnases]), data[\"y\"][assay_index_no_dnase,i], assay_mask\n",
    "    return g\n",
    "\n"
   ]
  },
  {
   "cell_type": "code",
   "execution_count": 641,
   "metadata": {},
   "outputs": [
    {
     "name": "stdout",
     "output_type": "stream",
     "text": [
      "no label assays\n"
     ]
    },
    {
     "ename": "KeyboardInterrupt",
     "evalue": "",
     "output_type": "error",
     "traceback": [
      "\u001b[0;31m---------------------------------------------------------------------------\u001b[0m",
      "\u001b[0;31mKeyboardInterrupt\u001b[0m                         Traceback (most recent call last)",
      "\u001b[0;32m<ipython-input-641-996119b7cb8a>\u001b[0m in \u001b[0;36m<module>\u001b[0;34m\u001b[0m\n\u001b[1;32m     14\u001b[0m             batch_size = 64)\n\u001b[1;32m     15\u001b[0m \u001b[0;34m\u001b[0m\u001b[0m\n\u001b[0;32m---> 16\u001b[0;31m \u001b[0mt\u001b[0m \u001b[0;34m=\u001b[0m \u001b[0mlist\u001b[0m\u001b[0;34m(\u001b[0m\u001b[0mx\u001b[0m\u001b[0;34m(\u001b[0m\u001b[0;34m)\u001b[0m\u001b[0;34m)\u001b[0m\u001b[0;34m\u001b[0m\u001b[0;34m\u001b[0m\u001b[0m\n\u001b[0m",
      "\u001b[0;32m<ipython-input-630-da2052656218>\u001b[0m in \u001b[0;36mg\u001b[0;34m()\u001b[0m\n\u001b[1;32m     65\u001b[0m \u001b[0;34m\u001b[0m\u001b[0m\n\u001b[1;32m     66\u001b[0m                     \u001b[0;31m# within the radius, fraction of places where they are both equal (0 or 1)\u001b[0m\u001b[0;34m\u001b[0m\u001b[0;34m\u001b[0m\u001b[0;34m\u001b[0m\u001b[0m\n\u001b[0;32m---> 67\u001b[0;31m                     dnase_agreement = np.average(data[\"y\"][dnase_indices,i-radius:i+radius+1]==\n\u001b[0m\u001b[1;32m     68\u001b[0m                                              data[\"y\"][label_cell_index[0],i-radius:i+radius+1], axis=1)\n\u001b[1;32m     69\u001b[0m                     \u001b[0mdnases\u001b[0m\u001b[0;34m.\u001b[0m\u001b[0mextend\u001b[0m\u001b[0;34m(\u001b[0m\u001b[0mdnase_double_positive\u001b[0m\u001b[0;34m)\u001b[0m\u001b[0;34m\u001b[0m\u001b[0;34m\u001b[0m\u001b[0m\n",
      "\u001b[0;31mKeyboardInterrupt\u001b[0m: "
     ]
    }
   ],
   "source": [
    "# test generator\n",
    "\n",
    "x = make_dataset(train_data,  \n",
    "            validation_celltypes, \n",
    "            test_celltypes + validation_celltypes,\n",
    "            gen_from_peaks_test, \n",
    "            matrix,\n",
    "            assaymap,\n",
    "            cellmap,\n",
    "            label_assays = None,\n",
    "            radii = [1,3,10,30], mode = Dataset.TRAIN, \n",
    "            train_record_indices=None, \n",
    "            batch_size = 64)\n",
    "\n",
    "t = list(x())\n"
   ]
  },
  {
   "cell_type": "markdown",
   "metadata": {},
   "source": [
    "# Run the Model"
   ]
  },
  {
   "cell_type": "code",
   "execution_count": 667,
   "metadata": {
    "scrolled": false
   },
   "outputs": [
    {
     "name": "stdout",
     "output_type": "stream",
     "text": [
      "INFO:tensorflow:Scale of 0 disables regularizer.\n"
     ]
    },
    {
     "name": "stderr",
     "output_type": "stream",
     "text": [
      "/data/akmorrow/miniconda3/envs/EpitomeEnv/lib/python3.6/site-packages/tensorflow/python/client/session.py:1702: UserWarning: An interactive session is already active. This can cause out-of-memory errors in some cases. You must explicitly call `InteractiveSession.close()` to release resources held by the other session(s).\n",
      "  warnings.warn('An interactive session is already active. This can '\n",
      "/data/akmorrow/miniconda3/envs/EpitomeEnv/lib/python3.6/site-packages/tensorflow/python/ops/gradients_impl.py:112: UserWarning: Converting sparse IndexedSlices to a dense Tensor of unknown shape. This may consume a large amount of memory.\n",
      "  \"Converting sparse IndexedSlices to a dense Tensor of unknown shape. \"\n"
     ]
    },
    {
     "name": "stdout",
     "output_type": "stream",
     "text": [
      "INFO:tensorflow:Initializing variables\n",
      "INFO:tensorflow:Starting Training\n",
      "INFO:tensorflow:1000 0.099651635\n",
      "INFO:tensorflow:On validation\n",
      "INFO:tensorflow:Our macro AUC:     0.9812022229696618\n",
      "INFO:tensorflow:Our micro AUC:     0.9812022229696618\n",
      "INFO:tensorflow:Rad21:\tAUC:nan\tavPR:nan\tGINI:nan\n",
      "INFO:tensorflow:Pol2:\tAUC:0.989\tavPR:0.684\tGINI:0.978\n",
      "INFO:tensorflow:CTCF:\tAUC:0.973\tavPR:0.811\tGINI:0.947\n",
      "INFO:tensorflow:\n",
      "INFO:tensorflow:2000 0.07444203\n",
      "INFO:tensorflow:On validation\n",
      "INFO:tensorflow:Our macro AUC:     0.9710732019577525\n",
      "INFO:tensorflow:Our micro AUC:     0.9710732019577525\n",
      "INFO:tensorflow:Rad21:\tAUC:nan\tavPR:nan\tGINI:nan\n",
      "INFO:tensorflow:Pol2:\tAUC:0.986\tavPR:0.648\tGINI:0.972\n",
      "INFO:tensorflow:CTCF:\tAUC:0.956\tavPR:0.773\tGINI:0.912\n",
      "INFO:tensorflow:\n"
     ]
    }
   ],
   "source": [
    "model = MLP(4, [100, 100, 100, 50], \n",
    "            tf.tanh, \n",
    "            train_data, \n",
    "            valid_data, \n",
    "            test_data, \n",
    "            validation_celltypes,\n",
    "            test_celltypes,\n",
    "            gen_from_peaks, \n",
    "            matrix,\n",
    "            assaymap,\n",
    "            cellmap,\n",
    "            shuffle_size=2, \n",
    "            radii=[1,3,10,30])\n",
    "model.train(2000)\n",
    "#model.save(\"/data/akmorrow/epitome_data/saved_models/test_model_full_2.ckpt\")\n"
   ]
  },
  {
   "cell_type": "code",
   "execution_count": 668,
   "metadata": {},
   "outputs": [
    {
     "name": "stdout",
     "output_type": "stream",
     "text": [
      "INFO:tensorflow:Our macro AUC:     0.9488614574413855\n",
      "INFO:tensorflow:Our micro AUC:     0.9488614574413855\n",
      "INFO:tensorflow:Rad21:\tAUC:0.918\tavPR:0.208\tGINI:0.837\n",
      "INFO:tensorflow:Pol2:\tAUC:0.943\tavPR:0.398\tGINI:0.886\n",
      "INFO:tensorflow:CTCF:\tAUC:0.985\tavPR:0.713\tGINI:0.970\n"
     ]
    }
   ],
   "source": [
    "test_DNase = model.test(40000, mode = Dataset.TEST, log=True)"
   ]
  },
  {
   "cell_type": "code",
   "execution_count": 240,
   "metadata": {},
   "outputs": [
    {
     "name": "stdout",
     "output_type": "stream",
     "text": [
      "INFO:tensorflow:Model saved in path: /data/akmorrow/epitome_data/saved_models/test_model_full_2.ckpt\n"
     ]
    }
   ],
   "source": [
    "model.save(\"/data/akmorrow/epitome_data/saved_models/test_model_full_2.ckpt\")\n"
   ]
  },
  {
   "cell_type": "markdown",
   "metadata": {},
   "source": [
    "# Restore Model"
   ]
  },
  {
   "cell_type": "code",
   "execution_count": 241,
   "metadata": {},
   "outputs": [
    {
     "name": "stdout",
     "output_type": "stream",
     "text": [
      "Warning: min_assays = 0 and elegible_cells != None, setting min_assays to 0 to use all specified eligible cells\n",
      "INFO:tensorflow:Scale of 0 disables regularizer.\n"
     ]
    },
    {
     "name": "stderr",
     "output_type": "stream",
     "text": [
      "/data/akmorrow/miniconda3/envs/EpitomeEnv/lib/python3.6/site-packages/tensorflow/python/client/session.py:1702: UserWarning: An interactive session is already active. This can cause out-of-memory errors in some cases. You must explicitly call `InteractiveSession.close()` to release resources held by the other session(s).\n",
      "  warnings.warn('An interactive session is already active. This can '\n"
     ]
    }
   ],
   "source": [
    "model2  = MLP(4, [100, 100, 100, 50], \n",
    "            tf.tanh, \n",
    "            train_data, \n",
    "            valid_data, \n",
    "            test_data, \n",
    "            validation_celltypes,\n",
    "            test_celltypes,\n",
    "            gen_from_peaks, \n",
    "            matrix,\n",
    "            assaymap,\n",
    "            cellmap,\n",
    "            shuffle_size=2, \n",
    "            label_assays = None,\n",
    "            radii=[1,3,10,30])\n",
    "model2.restore(\"/data/akmorrow/epitome_data/saved_models/test_model_full_2.ckpt\")"
   ]
  },
  {
   "cell_type": "code",
   "execution_count": 243,
   "metadata": {},
   "outputs": [
    {
     "name": "stdout",
     "output_type": "stream",
     "text": [
      "INFO:tensorflow:Failed to calculate macro AUC\n",
      "INFO:tensorflow:Failed to calculate micro AUC\n",
      "2019-03-05 11:53:43.136928 0 DNase\n",
      "INFO:tensorflow:2019-03-05 11:53:43.137011: 0, DNase, NaN\n",
      "INFO:tensorflow:p300:\tAUC:0.494\tavPR:0.014\tGINI:0.653\n",
      "INFO:tensorflow:c-Myc:\tAUC:0.567\tavPR:0.004\tGINI:0.697\n",
      "INFO:tensorflow:c-Jun:\tAUC:0.470\tavPR:0.013\tGINI:0.685\n",
      "INFO:tensorflow:c-Fos:\tAUC:0.538\tavPR:0.014\tGINI:0.497\n",
      "INFO:tensorflow:Znf143:\tAUC:0.458\tavPR:0.006\tGINI:0.447\n"
     ]
    },
    {
     "name": "stderr",
     "output_type": "stream",
     "text": [
      "/data/akmorrow/miniconda3/envs/EpitomeEnv/lib/python3.6/site-packages/sklearn/metrics/ranking.py:656: UndefinedMetricWarning: No positive samples in y_true, true positive value should be meaningless\n",
      "  UndefinedMetricWarning)\n"
     ]
    },
    {
     "name": "stdout",
     "output_type": "stream",
     "text": [
      "INFO:tensorflow:ZZZ3:\tAUC:nan\tavPR:nan\tGINI:0.429\n",
      "INFO:tensorflow:ZNF274:\tAUC:0.509\tavPR:0.001\tGINI:0.463\n"
     ]
    },
    {
     "name": "stderr",
     "output_type": "stream",
     "text": [
      "/data/akmorrow/miniconda3/envs/EpitomeEnv/lib/python3.6/site-packages/sklearn/metrics/ranking.py:648: UndefinedMetricWarning: No negative samples in y_true, false positive value should be meaningless\n",
      "  UndefinedMetricWarning)\n",
      "/data/akmorrow/miniconda3/envs/EpitomeEnv/lib/python3.6/site-packages/sklearn/metrics/ranking.py:656: UndefinedMetricWarning: No positive samples in y_true, true positive value should be meaningless\n",
      "  UndefinedMetricWarning)\n"
     ]
    },
    {
     "name": "stdout",
     "output_type": "stream",
     "text": [
      "INFO:tensorflow:ZBTB7A:\tAUC:nan\tavPR:nan\tGINI:nan\n",
      "INFO:tensorflow:ZBTB33:\tAUC:0.600\tavPR:0.003\tGINI:0.496\n",
      "INFO:tensorflow:YY1:\tAUC:0.550\tavPR:0.003\tGINI:0.241\n",
      "INFO:tensorflow:USF2:\tAUC:0.459\tavPR:0.003\tGINI:0.726\n",
      "INFO:tensorflow:USF-1:\tAUC:0.460\tavPR:0.004\tGINI:0.326\n",
      "INFO:tensorflow:TR4:\tAUC:0.478\tavPR:0.002\tGINI:0.695\n"
     ]
    },
    {
     "name": "stderr",
     "output_type": "stream",
     "text": [
      "/data/akmorrow/miniconda3/envs/EpitomeEnv/lib/python3.6/site-packages/sklearn/metrics/ranking.py:648: UndefinedMetricWarning: No negative samples in y_true, false positive value should be meaningless\n",
      "  UndefinedMetricWarning)\n",
      "/data/akmorrow/miniconda3/envs/EpitomeEnv/lib/python3.6/site-packages/sklearn/metrics/ranking.py:656: UndefinedMetricWarning: No positive samples in y_true, true positive value should be meaningless\n",
      "  UndefinedMetricWarning)\n"
     ]
    },
    {
     "name": "stdout",
     "output_type": "stream",
     "text": [
      "INFO:tensorflow:TFIIIC-110:\tAUC:nan\tavPR:nan\tGINI:nan\n"
     ]
    },
    {
     "name": "stderr",
     "output_type": "stream",
     "text": [
      "/data/akmorrow/miniconda3/envs/EpitomeEnv/lib/python3.6/site-packages/sklearn/metrics/ranking.py:648: UndefinedMetricWarning: No negative samples in y_true, false positive value should be meaningless\n",
      "  UndefinedMetricWarning)\n",
      "/data/akmorrow/miniconda3/envs/EpitomeEnv/lib/python3.6/site-packages/sklearn/metrics/ranking.py:656: UndefinedMetricWarning: No positive samples in y_true, true positive value should be meaningless\n",
      "  UndefinedMetricWarning)\n"
     ]
    },
    {
     "name": "stdout",
     "output_type": "stream",
     "text": [
      "INFO:tensorflow:TEAD4:\tAUC:nan\tavPR:nan\tGINI:nan\n",
      "INFO:tensorflow:TCF7L2:\tAUC:0.561\tavPR:0.004\tGINI:0.758\n",
      "INFO:tensorflow:TCF12:\tAUC:0.501\tavPR:0.012\tGINI:0.455\n",
      "INFO:tensorflow:TBP:\tAUC:0.547\tavPR:0.009\tGINI:0.335\n",
      "INFO:tensorflow:TBLR1:\tAUC:0.518\tavPR:0.009\tGINI:0.516\n"
     ]
    },
    {
     "name": "stderr",
     "output_type": "stream",
     "text": [
      "/data/akmorrow/miniconda3/envs/EpitomeEnv/lib/python3.6/site-packages/sklearn/metrics/ranking.py:648: UndefinedMetricWarning: No negative samples in y_true, false positive value should be meaningless\n",
      "  UndefinedMetricWarning)\n",
      "/data/akmorrow/miniconda3/envs/EpitomeEnv/lib/python3.6/site-packages/sklearn/metrics/ranking.py:656: UndefinedMetricWarning: No positive samples in y_true, true positive value should be meaningless\n",
      "  UndefinedMetricWarning)\n"
     ]
    },
    {
     "name": "stdout",
     "output_type": "stream",
     "text": [
      "INFO:tensorflow:TAF7:\tAUC:nan\tavPR:nan\tGINI:nan\n",
      "INFO:tensorflow:TAF1:\tAUC:0.604\tavPR:0.005\tGINI:0.288\n",
      "INFO:tensorflow:Sin3Ak-20:\tAUC:0.505\tavPR:0.004\tGINI:0.573\n",
      "INFO:tensorflow:SUZ12:\tAUC:0.506\tavPR:0.004\tGINI:0.587\n",
      "INFO:tensorflow:STAT5A:\tAUC:0.558\tavPR:0.013\tGINI:0.319\n",
      "INFO:tensorflow:STAT3:\tAUC:0.533\tavPR:0.006\tGINI:0.527\n",
      "INFO:tensorflow:STAT1:\tAUC:0.358\tavPR:0.000\tGINI:0.384\n",
      "INFO:tensorflow:SRF:\tAUC:0.547\tavPR:0.002\tGINI:0.525\n"
     ]
    },
    {
     "name": "stderr",
     "output_type": "stream",
     "text": [
      "/data/akmorrow/miniconda3/envs/EpitomeEnv/lib/python3.6/site-packages/sklearn/metrics/ranking.py:648: UndefinedMetricWarning: No negative samples in y_true, false positive value should be meaningless\n",
      "  UndefinedMetricWarning)\n",
      "/data/akmorrow/miniconda3/envs/EpitomeEnv/lib/python3.6/site-packages/sklearn/metrics/ranking.py:656: UndefinedMetricWarning: No positive samples in y_true, true positive value should be meaningless\n",
      "  UndefinedMetricWarning)\n"
     ]
    },
    {
     "name": "stdout",
     "output_type": "stream",
     "text": [
      "INFO:tensorflow:SP2:\tAUC:nan\tavPR:nan\tGINI:nan\n",
      "INFO:tensorflow:SP1:\tAUC:0.563\tavPR:0.008\tGINI:0.366\n",
      "INFO:tensorflow:SMC3:\tAUC:0.689\tavPR:0.049\tGINI:0.521\n",
      "INFO:tensorflow:SIX5:\tAUC:0.579\tavPR:0.004\tGINI:0.453\n",
      "INFO:tensorflow:SIN3A:\tAUC:0.567\tavPR:0.006\tGINI:0.346\n",
      "INFO:tensorflow:Rad21:\tAUC:0.639\tavPR:0.017\tGINI:0.458\n",
      "INFO:tensorflow:RXRA:\tAUC:0.435\tavPR:0.000\tGINI:0.416\n"
     ]
    },
    {
     "name": "stderr",
     "output_type": "stream",
     "text": [
      "/data/akmorrow/miniconda3/envs/EpitomeEnv/lib/python3.6/site-packages/sklearn/metrics/ranking.py:648: UndefinedMetricWarning: No negative samples in y_true, false positive value should be meaningless\n",
      "  UndefinedMetricWarning)\n",
      "/data/akmorrow/miniconda3/envs/EpitomeEnv/lib/python3.6/site-packages/sklearn/metrics/ranking.py:656: UndefinedMetricWarning: No positive samples in y_true, true positive value should be meaningless\n",
      "  UndefinedMetricWarning)\n"
     ]
    },
    {
     "name": "stdout",
     "output_type": "stream",
     "text": [
      "INFO:tensorflow:RPC155:\tAUC:nan\tavPR:nan\tGINI:nan\n",
      "INFO:tensorflow:RFX5:\tAUC:0.367\tavPR:0.001\tGINI:0.502\n"
     ]
    },
    {
     "name": "stderr",
     "output_type": "stream",
     "text": [
      "/data/akmorrow/miniconda3/envs/EpitomeEnv/lib/python3.6/site-packages/sklearn/metrics/ranking.py:648: UndefinedMetricWarning: No negative samples in y_true, false positive value should be meaningless\n",
      "  UndefinedMetricWarning)\n",
      "/data/akmorrow/miniconda3/envs/EpitomeEnv/lib/python3.6/site-packages/sklearn/metrics/ranking.py:656: UndefinedMetricWarning: No positive samples in y_true, true positive value should be meaningless\n",
      "  UndefinedMetricWarning)\n"
     ]
    },
    {
     "name": "stdout",
     "output_type": "stream",
     "text": [
      "INFO:tensorflow:RBBP5:\tAUC:nan\tavPR:nan\tGINI:nan\n"
     ]
    },
    {
     "name": "stderr",
     "output_type": "stream",
     "text": [
      "/data/akmorrow/miniconda3/envs/EpitomeEnv/lib/python3.6/site-packages/sklearn/metrics/ranking.py:656: UndefinedMetricWarning: No positive samples in y_true, true positive value should be meaningless\n",
      "  UndefinedMetricWarning)\n"
     ]
    },
    {
     "name": "stdout",
     "output_type": "stream",
     "text": [
      "INFO:tensorflow:Pol3:\tAUC:nan\tavPR:nan\tGINI:0.499\n",
      "INFO:tensorflow:Pol2-4H8:\tAUC:0.548\tavPR:0.020\tGINI:0.499\n",
      "INFO:tensorflow:Pol2(phosphoS2):\tAUC:0.529\tavPR:0.003\tGINI:0.503\n",
      "INFO:tensorflow:Pol2(b):\tAUC:0.431\tavPR:0.004\tGINI:0.285\n",
      "INFO:tensorflow:Pol2:\tAUC:0.511\tavPR:0.005\tGINI:0.483\n",
      "INFO:tensorflow:PU.1:\tAUC:0.487\tavPR:0.016\tGINI:0.435\n",
      "INFO:tensorflow:POU2F2:\tAUC:0.491\tavPR:0.012\tGINI:0.432\n",
      "INFO:tensorflow:PML:\tAUC:0.515\tavPR:0.016\tGINI:0.302\n",
      "INFO:tensorflow:PAX5-C20:\tAUC:0.492\tavPR:0.012\tGINI:0.943\n",
      "INFO:tensorflow:Nrf1:\tAUC:0.436\tavPR:0.002\tGINI:0.440\n",
      "INFO:tensorflow:NRSF:\tAUC:0.535\tavPR:0.007\tGINI:0.642\n",
      "INFO:tensorflow:NFKB:\tAUC:0.432\tavPR:0.009\tGINI:0.462\n",
      "INFO:tensorflow:NFIC:\tAUC:0.527\tavPR:0.029\tGINI:0.443\n",
      "INFO:tensorflow:NF-YB:\tAUC:0.486\tavPR:0.005\tGINI:0.494\n",
      "INFO:tensorflow:NF-YA:\tAUC:0.460\tavPR:0.001\tGINI:0.664\n"
     ]
    },
    {
     "name": "stderr",
     "output_type": "stream",
     "text": [
      "/data/akmorrow/miniconda3/envs/EpitomeEnv/lib/python3.6/site-packages/sklearn/metrics/ranking.py:656: UndefinedMetricWarning: No positive samples in y_true, true positive value should be meaningless\n",
      "  UndefinedMetricWarning)\n"
     ]
    },
    {
     "name": "stdout",
     "output_type": "stream",
     "text": [
      "INFO:tensorflow:NF-E2:\tAUC:nan\tavPR:nan\tGINI:0.554\n",
      "INFO:tensorflow:Mxi1:\tAUC:0.495\tavPR:0.010\tGINI:0.303\n",
      "INFO:tensorflow:Max:\tAUC:0.477\tavPR:0.004\tGINI:0.279\n"
     ]
    },
    {
     "name": "stderr",
     "output_type": "stream",
     "text": [
      "/data/akmorrow/miniconda3/envs/EpitomeEnv/lib/python3.6/site-packages/sklearn/metrics/ranking.py:648: UndefinedMetricWarning: No negative samples in y_true, false positive value should be meaningless\n",
      "  UndefinedMetricWarning)\n",
      "/data/akmorrow/miniconda3/envs/EpitomeEnv/lib/python3.6/site-packages/sklearn/metrics/ranking.py:656: UndefinedMetricWarning: No positive samples in y_true, true positive value should be meaningless\n",
      "  UndefinedMetricWarning)\n"
     ]
    },
    {
     "name": "stdout",
     "output_type": "stream",
     "text": [
      "INFO:tensorflow:MafK:\tAUC:nan\tavPR:nan\tGINI:nan\n"
     ]
    },
    {
     "name": "stderr",
     "output_type": "stream",
     "text": [
      "/data/akmorrow/miniconda3/envs/EpitomeEnv/lib/python3.6/site-packages/sklearn/metrics/ranking.py:648: UndefinedMetricWarning: No negative samples in y_true, false positive value should be meaningless\n",
      "  UndefinedMetricWarning)\n",
      "/data/akmorrow/miniconda3/envs/EpitomeEnv/lib/python3.6/site-packages/sklearn/metrics/ranking.py:656: UndefinedMetricWarning: No positive samples in y_true, true positive value should be meaningless\n",
      "  UndefinedMetricWarning)\n"
     ]
    },
    {
     "name": "stdout",
     "output_type": "stream",
     "text": [
      "INFO:tensorflow:MafF:\tAUC:nan\tavPR:nan\tGINI:nan\n",
      "INFO:tensorflow:MEF2A:\tAUC:0.422\tavPR:0.009\tGINI:0.488\n",
      "INFO:tensorflow:MAZ:\tAUC:0.505\tavPR:0.008\tGINI:0.307\n",
      "INFO:tensorflow:JunD:\tAUC:0.428\tavPR:0.001\tGINI:0.288\n"
     ]
    },
    {
     "name": "stderr",
     "output_type": "stream",
     "text": [
      "/data/akmorrow/miniconda3/envs/EpitomeEnv/lib/python3.6/site-packages/sklearn/metrics/ranking.py:648: UndefinedMetricWarning: No negative samples in y_true, false positive value should be meaningless\n",
      "  UndefinedMetricWarning)\n",
      "/data/akmorrow/miniconda3/envs/EpitomeEnv/lib/python3.6/site-packages/sklearn/metrics/ranking.py:656: UndefinedMetricWarning: No positive samples in y_true, true positive value should be meaningless\n",
      "  UndefinedMetricWarning)\n"
     ]
    },
    {
     "name": "stdout",
     "output_type": "stream",
     "text": [
      "INFO:tensorflow:Ini1:\tAUC:nan\tavPR:nan\tGINI:nan\n"
     ]
    },
    {
     "name": "stderr",
     "output_type": "stream",
     "text": [
      "/data/akmorrow/miniconda3/envs/EpitomeEnv/lib/python3.6/site-packages/sklearn/metrics/ranking.py:648: UndefinedMetricWarning: No negative samples in y_true, false positive value should be meaningless\n",
      "  UndefinedMetricWarning)\n",
      "/data/akmorrow/miniconda3/envs/EpitomeEnv/lib/python3.6/site-packages/sklearn/metrics/ranking.py:656: UndefinedMetricWarning: No positive samples in y_true, true positive value should be meaningless\n",
      "  UndefinedMetricWarning)\n"
     ]
    },
    {
     "name": "stdout",
     "output_type": "stream",
     "text": [
      "INFO:tensorflow:IRF3:\tAUC:nan\tavPR:nan\tGINI:nan\n"
     ]
    },
    {
     "name": "stderr",
     "output_type": "stream",
     "text": [
      "/data/akmorrow/miniconda3/envs/EpitomeEnv/lib/python3.6/site-packages/sklearn/metrics/ranking.py:648: UndefinedMetricWarning: No negative samples in y_true, false positive value should be meaningless\n",
      "  UndefinedMetricWarning)\n",
      "/data/akmorrow/miniconda3/envs/EpitomeEnv/lib/python3.6/site-packages/sklearn/metrics/ranking.py:656: UndefinedMetricWarning: No positive samples in y_true, true positive value should be meaningless\n",
      "  UndefinedMetricWarning)\n"
     ]
    },
    {
     "name": "stdout",
     "output_type": "stream",
     "text": [
      "INFO:tensorflow:HDAC2:\tAUC:nan\tavPR:nan\tGINI:nan\n",
      "INFO:tensorflow:HA-E2F1:\tAUC:0.509\tavPR:0.009\tGINI:0.839\n"
     ]
    },
    {
     "name": "stderr",
     "output_type": "stream",
     "text": [
      "/data/akmorrow/miniconda3/envs/EpitomeEnv/lib/python3.6/site-packages/sklearn/metrics/ranking.py:648: UndefinedMetricWarning: No negative samples in y_true, false positive value should be meaningless\n",
      "  UndefinedMetricWarning)\n",
      "/data/akmorrow/miniconda3/envs/EpitomeEnv/lib/python3.6/site-packages/sklearn/metrics/ranking.py:656: UndefinedMetricWarning: No positive samples in y_true, true positive value should be meaningless\n",
      "  UndefinedMetricWarning)\n"
     ]
    },
    {
     "name": "stdout",
     "output_type": "stream",
     "text": [
      "INFO:tensorflow:GTF2F1:\tAUC:nan\tavPR:nan\tGINI:nan\n",
      "INFO:tensorflow:GATA3:\tAUC:0.472\tavPR:0.002\tGINI:0.414\n",
      "INFO:tensorflow:GATA-2:\tAUC:0.472\tavPR:0.021\tGINI:0.524\n",
      "INFO:tensorflow:GABP:\tAUC:0.509\tavPR:0.006\tGINI:0.336\n",
      "INFO:tensorflow:FOXA1:\tAUC:0.496\tavPR:0.002\tGINI:0.870\n",
      "INFO:tensorflow:FOSL2:\tAUC:0.538\tavPR:0.019\tGINI:0.559\n"
     ]
    },
    {
     "name": "stderr",
     "output_type": "stream",
     "text": [
      "/data/akmorrow/miniconda3/envs/EpitomeEnv/lib/python3.6/site-packages/sklearn/metrics/ranking.py:648: UndefinedMetricWarning: No negative samples in y_true, false positive value should be meaningless\n",
      "  UndefinedMetricWarning)\n",
      "/data/akmorrow/miniconda3/envs/EpitomeEnv/lib/python3.6/site-packages/sklearn/metrics/ranking.py:656: UndefinedMetricWarning: No positive samples in y_true, true positive value should be meaningless\n",
      "  UndefinedMetricWarning)\n"
     ]
    },
    {
     "name": "stdout",
     "output_type": "stream",
     "text": [
      "INFO:tensorflow:FOSL1:\tAUC:nan\tavPR:nan\tGINI:nan\n",
      "INFO:tensorflow:Egr-1:\tAUC:0.555\tavPR:0.011\tGINI:0.408\n",
      "INFO:tensorflow:EZH2:\tAUC:0.553\tavPR:0.004\tGINI:0.384\n",
      "INFO:tensorflow:ETS1:\tAUC:0.476\tavPR:0.001\tGINI:0.785\n",
      "INFO:tensorflow:ELK1:\tAUC:0.479\tavPR:0.001\tGINI:0.577\n",
      "INFO:tensorflow:ELF1:\tAUC:0.567\tavPR:0.007\tGINI:0.408\n"
     ]
    },
    {
     "name": "stderr",
     "output_type": "stream",
     "text": [
      "/data/akmorrow/miniconda3/envs/EpitomeEnv/lib/python3.6/site-packages/sklearn/metrics/ranking.py:648: UndefinedMetricWarning: No negative samples in y_true, false positive value should be meaningless\n",
      "  UndefinedMetricWarning)\n",
      "/data/akmorrow/miniconda3/envs/EpitomeEnv/lib/python3.6/site-packages/sklearn/metrics/ranking.py:656: UndefinedMetricWarning: No positive samples in y_true, true positive value should be meaningless\n",
      "  UndefinedMetricWarning)\n"
     ]
    },
    {
     "name": "stdout",
     "output_type": "stream",
     "text": [
      "INFO:tensorflow:E2F6:\tAUC:nan\tavPR:nan\tGINI:nan\n",
      "INFO:tensorflow:E2F4:\tAUC:0.572\tavPR:0.001\tGINI:0.614\n",
      "INFO:tensorflow:CTCF:\tAUC:0.519\tavPR:0.018\tGINI:0.420\n",
      "INFO:tensorflow:COREST:\tAUC:0.504\tavPR:0.001\tGINI:0.287\n",
      "INFO:tensorflow:CHD2:\tAUC:0.489\tavPR:0.007\tGINI:0.369\n",
      "INFO:tensorflow:CHD1:\tAUC:0.566\tavPR:0.006\tGINI:0.216\n",
      "INFO:tensorflow:CEBPB:\tAUC:0.512\tavPR:0.015\tGINI:0.519\n"
     ]
    },
    {
     "name": "stderr",
     "output_type": "stream",
     "text": [
      "/data/akmorrow/miniconda3/envs/EpitomeEnv/lib/python3.6/site-packages/sklearn/metrics/ranking.py:648: UndefinedMetricWarning: No negative samples in y_true, false positive value should be meaningless\n",
      "  UndefinedMetricWarning)\n",
      "/data/akmorrow/miniconda3/envs/EpitomeEnv/lib/python3.6/site-packages/sklearn/metrics/ranking.py:656: UndefinedMetricWarning: No positive samples in y_true, true positive value should be meaningless\n",
      "  UndefinedMetricWarning)\n"
     ]
    },
    {
     "name": "stdout",
     "output_type": "stream",
     "text": [
      "INFO:tensorflow:Brg1:\tAUC:nan\tavPR:nan\tGINI:nan\n"
     ]
    },
    {
     "name": "stderr",
     "output_type": "stream",
     "text": [
      "/data/akmorrow/miniconda3/envs/EpitomeEnv/lib/python3.6/site-packages/sklearn/metrics/ranking.py:648: UndefinedMetricWarning: No negative samples in y_true, false positive value should be meaningless\n",
      "  UndefinedMetricWarning)\n",
      "/data/akmorrow/miniconda3/envs/EpitomeEnv/lib/python3.6/site-packages/sklearn/metrics/ranking.py:656: UndefinedMetricWarning: No positive samples in y_true, true positive value should be meaningless\n",
      "  UndefinedMetricWarning)\n"
     ]
    },
    {
     "name": "stdout",
     "output_type": "stream",
     "text": [
      "INFO:tensorflow:Bach1:\tAUC:nan\tavPR:nan\tGINI:nan\n"
     ]
    },
    {
     "name": "stderr",
     "output_type": "stream",
     "text": [
      "/data/akmorrow/miniconda3/envs/EpitomeEnv/lib/python3.6/site-packages/sklearn/metrics/ranking.py:648: UndefinedMetricWarning: No negative samples in y_true, false positive value should be meaningless\n",
      "  UndefinedMetricWarning)\n",
      "/data/akmorrow/miniconda3/envs/EpitomeEnv/lib/python3.6/site-packages/sklearn/metrics/ranking.py:656: UndefinedMetricWarning: No positive samples in y_true, true positive value should be meaningless\n",
      "  UndefinedMetricWarning)\n"
     ]
    },
    {
     "name": "stdout",
     "output_type": "stream",
     "text": [
      "INFO:tensorflow:BRF2:\tAUC:nan\tavPR:nan\tGINI:nan\n"
     ]
    },
    {
     "name": "stderr",
     "output_type": "stream",
     "text": [
      "/data/akmorrow/miniconda3/envs/EpitomeEnv/lib/python3.6/site-packages/sklearn/metrics/ranking.py:648: UndefinedMetricWarning: No negative samples in y_true, false positive value should be meaningless\n",
      "  UndefinedMetricWarning)\n",
      "/data/akmorrow/miniconda3/envs/EpitomeEnv/lib/python3.6/site-packages/sklearn/metrics/ranking.py:656: UndefinedMetricWarning: No positive samples in y_true, true positive value should be meaningless\n",
      "  UndefinedMetricWarning)\n"
     ]
    },
    {
     "name": "stdout",
     "output_type": "stream",
     "text": [
      "INFO:tensorflow:BRF1:\tAUC:nan\tavPR:nan\tGINI:nan\n"
     ]
    },
    {
     "name": "stderr",
     "output_type": "stream",
     "text": [
      "/data/akmorrow/miniconda3/envs/EpitomeEnv/lib/python3.6/site-packages/sklearn/metrics/ranking.py:656: UndefinedMetricWarning: No positive samples in y_true, true positive value should be meaningless\n",
      "  UndefinedMetricWarning)\n"
     ]
    },
    {
     "name": "stdout",
     "output_type": "stream",
     "text": [
      "INFO:tensorflow:BRCA1:\tAUC:nan\tavPR:nan\tGINI:0.674\n",
      "INFO:tensorflow:BHLHE40:\tAUC:0.503\tavPR:0.004\tGINI:0.342\n"
     ]
    },
    {
     "name": "stderr",
     "output_type": "stream",
     "text": [
      "/data/akmorrow/miniconda3/envs/EpitomeEnv/lib/python3.6/site-packages/sklearn/metrics/ranking.py:648: UndefinedMetricWarning: No negative samples in y_true, false positive value should be meaningless\n",
      "  UndefinedMetricWarning)\n",
      "/data/akmorrow/miniconda3/envs/EpitomeEnv/lib/python3.6/site-packages/sklearn/metrics/ranking.py:656: UndefinedMetricWarning: No positive samples in y_true, true positive value should be meaningless\n",
      "  UndefinedMetricWarning)\n"
     ]
    },
    {
     "name": "stdout",
     "output_type": "stream",
     "text": [
      "INFO:tensorflow:BDP1:\tAUC:nan\tavPR:nan\tGINI:nan\n",
      "INFO:tensorflow:BCLAF1:\tAUC:0.484\tavPR:0.005\tGINI:0.748\n",
      "INFO:tensorflow:BCL3:\tAUC:0.497\tavPR:0.008\tGINI:0.689\n",
      "INFO:tensorflow:BCL11A:\tAUC:0.548\tavPR:0.012\tGINI:0.671\n",
      "INFO:tensorflow:ATF3:\tAUC:0.545\tavPR:0.003\tGINI:0.450\n",
      "INFO:tensorflow:ATF2:\tAUC:0.521\tavPR:0.024\tGINI:0.769\n"
     ]
    }
   ],
   "source": [
    "x = model2.test(40000, mode = Dataset.TEST, log=True)"
   ]
  },
  {
   "cell_type": "code",
   "execution_count": null,
   "metadata": {},
   "outputs": [],
   "source": []
  }
 ],
 "metadata": {
  "kernelspec": {
   "display_name": "Python 3",
   "language": "python",
   "name": "python3"
  },
  "language_info": {
   "codemirror_mode": {
    "name": "ipython",
    "version": 3
   },
   "file_extension": ".py",
   "mimetype": "text/x-python",
   "name": "python",
   "nbconvert_exporter": "python",
   "pygments_lexer": "ipython3",
   "version": "3.6.8"
  }
 },
 "nbformat": 4,
 "nbformat_minor": 2
}
