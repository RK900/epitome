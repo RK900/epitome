{
 "cells": [
  {
   "cell_type": "markdown",
   "metadata": {},
   "source": [
    "# Swapping Cell types\n",
    "Alyssa's 11/6\n",
    "\n",
    "Can we swap out different cell types in train/test and get similar accuracy?\n",
    "\n",
    "Relevent Topics/references\n",
    "- Snail\n",
    "- metalearning"
   ]
  },
  {
   "cell_type": "markdown",
   "metadata": {},
   "source": [
    "# Imports"
   ]
  },
  {
   "cell_type": "code",
   "execution_count": 192,
   "metadata": {},
   "outputs": [],
   "source": [
    "import collections\n",
    "\n",
    "import pyDNase\n",
    "import tensorflow as tf\n",
    "import h5py\n",
    "from scipy.io import loadmat\n",
    "import numpy as np\n",
    "import matplotlib.pyplot as plt\n",
    "import sklearn.metrics\n",
    "import kipoi\n",
    "import os\n",
    "import pybedtools\n",
    "import torch\n",
    "import h5sparse\n",
    "import datetime\n",
    "import logging\n",
    "\n",
    "from scipy import stats\n",
    "\n",
    "from pyDNase import GenomicInterval\n",
    "from scipy.sparse import coo_matrix, vstack\n",
    "\n",
    "from scipy.fftpack import fft, ifft\n",
    "\n",
    "import sys"
   ]
  },
  {
   "cell_type": "markdown",
   "metadata": {},
   "source": [
    "# Define Paths for this user"
   ]
  },
  {
   "cell_type": "code",
   "execution_count": 193,
   "metadata": {},
   "outputs": [],
   "source": [
    "# ########################## PATHS ###########################\n",
    "# # path to where dnase bams are stored. Bams need to be sorted and indexed. See bin/download_dnase_encode.sh for\n",
    "# # data processing\n",
    "\n",
    "\n",
    "deepsea_path = \"/data/akmorrow/epitome_data/deepsea_train/\"\n",
    "# dnase_preprocessed_path = \"/data/akmorrow/epitome_data/processed_dnase/\"\n",
    "# feature_path = \"/home/eecs/akmorrow/epitome/data/feature_name\"\n",
    "\n",
    "# _DEEPSEA_GENOME_REGIONS_FILENAME = \"/home/eecs/akmorrow/epitome/data/allTFs.pos.bed\"\n",
    "\n",
    "# # DNase filepath dictionary\n",
    "# prefix_ =  \"/data/akmorrow/encode_data/\"\n",
    "\n",
    "# # get TF logger\n",
    "# log = logging.getLogger('tensorflow')\n",
    "# tf_log = \"/home/eecs/akmorrow/epitome/dnase/tensorflow_combination.log\"\n",
    "# fh = logging.FileHandler(tf_log)\n",
    "# fh.setLevel(logging.INFO)\n",
    "# log.addHandler(fh)"
   ]
  },
  {
   "cell_type": "code",
   "execution_count": 198,
   "metadata": {},
   "outputs": [],
   "source": [
    "# PATH REQUIRED IN FILES\n",
    "_ENCODE_DATA_PREFIX =  \"/data/akmorrow/encode_data/\"\n",
    "exec(open(\"./constants.py\").read())\n",
    "exec(open(\"./models.py\").read())\n",
    "exec(open(\"./functions.py\").read())\n",
    "exec(open(\"./generators.py\").read())"
   ]
  },
  {
   "cell_type": "markdown",
   "metadata": {},
   "source": [
    "# Load Data"
   ]
  },
  {
   "cell_type": "markdown",
   "metadata": {},
   "source": [
    "### Load DeepSEA data"
   ]
  },
  {
   "cell_type": "code",
   "execution_count": 196,
   "metadata": {},
   "outputs": [],
   "source": [
    "train_data, valid_data, test_data = load_deepsea_data(deepsea_path)\n"
   ]
  },
  {
   "cell_type": "code",
   "execution_count": 197,
   "metadata": {},
   "outputs": [
    {
     "name": "stdout",
     "output_type": "stream",
     "text": [
      "(408000, 4, 1000) (4455024, 4, 1000) (455024, 4, 1000)\n",
      "(919, 408000) (919, 4455024) (919, 455024)\n"
     ]
    }
   ],
   "source": [
    "print(valid_data[\"x\"].shape, train_data[\"x\"].shape, test_data[\"x\"].shape)\n",
    "print(valid_data[\"y\"].shape, train_data[\"y\"].shape, test_data[\"y\"].shape)"
   ]
  },
  {
   "cell_type": "markdown",
   "metadata": {},
   "source": [
    "# Choose cell types and assays"
   ]
  },
  {
   "cell_type": "markdown",
   "metadata": {},
   "source": [
    "# Choose celltypes\n",
    "\n",
    "Here we use p300, because we need at least 8 cell types:\n",
    "- 3 for features in train\n",
    "- 1 for validation\n",
    "- 3 new for features in test\n",
    "- 1 for test in both cases"
   ]
  },
  {
   "cell_type": "code",
   "execution_count": 188,
   "metadata": {},
   "outputs": [],
   "source": [
    "train_f_celltypes = ['K562', 'HepG2', 'HeLa-S3']\n",
    "test_f_celltypes = ['H1-hESC', 'GM12878', 'A549']\n",
    "test_celltypes = ['SK-N-SH_RA']\n",
    "validation_cell_types = ['T-47D']\n",
    "\n",
    "all_eval_cell_types = validation_cell_types + test_celltypes"
   ]
  },
  {
   "cell_type": "markdown",
   "metadata": {},
   "source": [
    "# Get cell, assay matrix for training"
   ]
  },
  {
   "cell_type": "code",
   "execution_count": 189,
   "metadata": {},
   "outputs": [
    {
     "name": "stdout",
     "output_type": "stream",
     "text": [
      "Warning: min_assays = 2 and elegible_cells != None, setting min_assays to 0 to use all specified eligible cells\n",
      "['T-47D', 'SK-N-SH_RA', 'K562', 'HepG2', 'HeLa-S3', 'H1-hESC', 'GM12878', 'A549'] ['DNase', 'p300', 'CTCF']\n"
     ]
    },
    {
     "data": {
      "image/png": "[encoded data removed]",
      "text/plain": [
       "<Figure size 1440x720 with 1 Axes>"
      ]
     },
     "metadata": {
      "needs_background": "light"
     },
     "output_type": "display_data"
    }
   ],
   "source": [
    "matrix, cellmap, assaymap = get_assays_from_feature_file(feature_path='../data/feature_name', eligible_assays = [\"p300\", \"CTCF\"], \n",
    "                                 eligible_cells = train_f_celltypes + test_f_celltypes + all_eval_cell_types , min_assays=2)\n",
    "        \n",
    "inv_assaymap = {v: k for k, v in assaymap.items()}\n",
    "\n",
    "fig = plt.figure(figsize = (20,10))\n",
    "ax = fig.add_subplot(1,1,1)\n",
    "ax.set_aspect('equal')\n",
    "plt.xticks(np.arange(len(assaymap)), rotation = 90)\n",
    "ax.set_xticklabels(assaymap.keys())\n",
    "plt.yticks(np.arange(len(cellmap)))\n",
    "ax.set_yticklabels(cellmap.keys())\n",
    "\n",
    "plt.imshow(matrix!=-1)\n",
    "print(list(cellmap.keys()), list(assaymap.keys()))"
   ]
  },
  {
   "cell_type": "markdown",
   "metadata": {},
   "source": [
    "# Select train, valid and test cell types\n",
    "\n",
    "- test on SK-N-SH_RA\n",
    "- train/validate on T-47D\n",
    "- use remaining cell types as feature input "
   ]
  },
  {
   "cell_type": "markdown",
   "metadata": {},
   "source": [
    "# Test Data Generator for shuffling cell types"
   ]
  },
  {
   "cell_type": "code",
   "execution_count": 150,
   "metadata": {},
   "outputs": [],
   "source": [
    "def gen_from_peaks_shuffle_cell_types(data, y_index_vectors, assay_indices, dnase_indices, indices, radii, **kwargs):\n",
    "    \"\"\"\n",
    "    Takes Deepsea data and calculates distance metrics from cell types whose locations\n",
    "    are specified by y_index_vector, and the other cell types in the set. Label space is only one assay.\n",
    "    This generator is used to test single vs multilabel classification performance.\n",
    "    \n",
    "    :param data: dictionary of matrices. Should have keys x and y. x contains n by 1000 rows. y contains n y 919 labels.\n",
    "    :param y_index_vectors: list of vectors which the indices in the y labels that should be used. \n",
    "    :param assay_indices: list of assays that should be used in the label space.\n",
    "    :param dnase_indices: indices for DNase for celltypes\n",
    "    :param indices: indices of cell types for the feature space (does not include cell types for eval/test)\n",
    "    :param radii: where to calculate DNase similarity to.\n",
    "    \n",
    "    :returns: generator of data\n",
    "    \"\"\"\n",
    "    # y indices for x and assay indices for y should have the same length\n",
    "    assert len(y_index_vectors) == len(assay_indices), \"Length of y_index_vectors and assay_indices must be the same (# cells evaluatated)\"\n",
    "    \n",
    "    batch_size = kwargs[\"batch_size\"]\n",
    "    matrix = kwargs[\"matrix\"]\n",
    "    all_eval_cell_types = kwargs[\"all_eval_cell_types\"]\n",
    "    \n",
    "    def g():\n",
    "                    \n",
    "        if (len(radii) > 0):\n",
    "            range_ = range(max(radii), data[\"y\"].shape[-1]-max(radii))\n",
    "        else: \n",
    "            range_ = range(0, data[\"y\"].shape[-1])\n",
    "            \n",
    "        rec_count = 0\n",
    " \n",
    "        for i in range_: # for all records\n",
    "            \n",
    "            for (y_index, assay_index) in zip(y_index_vectors, assay_indices):\n",
    "                dnases = [] \n",
    "                \n",
    "                # if new batch, permute the cell type orders\n",
    "                if (rec_count % batch_size == 0):\n",
    "                    # shuffle the rows, which are the training cell types\n",
    "                    all_eval_cell_type_indices = list(map(lambda c: cellmap[c], all_eval_cell_types))\n",
    "                    indices_mat = np.delete(matrix, all_eval_cell_type_indices, axis=0)\n",
    "                    \n",
    "                    # shuffle cell types\n",
    "                    np.random.shuffle(indices_mat)\n",
    "\n",
    "                    # get all feature locations for DNase for remaining cell types (just the first column in matrix)\n",
    "                    dnase_indices = indices_mat[:,0] # for all of the cell types (including the cell type we are evaluating)\n",
    "                    indices = indices_mat[indices_mat!=-1] # remaining indices for cell types not in evaluation or or test\n",
    "\n",
    "                for radius in radii:\n",
    "                    \n",
    "                    # within the radius, fraction of places where they are both 1\n",
    "                    # y_index[0] == DNase location for specific cell type\n",
    "                    dnase_double_positive = np.average(data[\"y\"][dnase_indices,i-radius:i+radius+1]*\n",
    "                                             data[\"y\"][y_index[0],i-radius:i+radius+1], axis=1)\n",
    "                    \n",
    "                    # within the radius, fraction of places where they are both equal (0 or 1)\n",
    "                    dnase_agreement = np.average(data[\"y\"][dnase_indices,i-radius:i+radius+1]==\n",
    "                                             data[\"y\"][y_index[0],i-radius:i+radius+1], axis=1)\n",
    "                    dnases.extend(dnase_double_positive)\n",
    "                    dnases.extend(dnase_agreement)\n",
    "                    \n",
    "                rec_count += 1\n",
    "                    \n",
    "                # Remove DNase from prediction indices. \n",
    "                # You should not predict on assays you use to calculate the distance metric.\n",
    "                assay_index_no_dnase = np.delete(assay_index, [0])\n",
    "                yield np.concatenate([data[\"y\"][indices,i],dnases]), data[\"y\"][assay_index_no_dnase,i] \n",
    "    return g"
   ]
  },
  {
   "cell_type": "code",
   "execution_count": 142,
   "metadata": {},
   "outputs": [],
   "source": [
    "exec(open(\"./generators.py\").read())\n",
    "x = make_dataset(train_data,\n",
    "                 validation_cell_types,\n",
    "                 all_eval_cell_types + test_f_celltypes,\n",
    "                 gen_from_peaks_shuffle_cell_types,\n",
    "                 matrix,\n",
    "                 assaymap,\n",
    "                 cellmap,\n",
    "                 64,\n",
    "                 shuffle_size=2,\n",
    "                 prefetch_size=10,\n",
    "                 radii=[1,3,10,30])()"
   ]
  },
  {
   "cell_type": "markdown",
   "metadata": {},
   "source": [
    "# Run with DNase"
   ]
  },
  {
   "cell_type": "code",
   "execution_count": null,
   "metadata": {
    "scrolled": false
   },
   "outputs": [
    {
     "name": "stdout",
     "output_type": "stream",
     "text": [
      "Warning: min_assays = 0 and elegible_cells != None, setting min_assays to 0 to use all specified eligible cells\n",
      "INFO:tensorflow:Scale of 0 disables regularizer.\n"
     ]
    },
    {
     "name": "stderr",
     "output_type": "stream",
     "text": [
      "/data/akmorrow/miniconda3/envs/EpitomeEnv/lib/python3.6/site-packages/tensorflow/python/client/session.py:1662: UserWarning: An interactive session is already active. This can cause out-of-memory errors in some cases. You must explicitly call `InteractiveSession.close()` to release resources held by the other session(s).\n",
      "  warnings.warn('An interactive session is already active. This can '\n"
     ]
    },
    {
     "name": "stdout",
     "output_type": "stream",
     "text": [
      "INFO:tensorflow:Initializing variables\n",
      "INFO:tensorflow:Starting Training\n",
      "INFO:tensorflow:1000 0.24026315\n",
      "INFO:tensorflow:On validation\n",
      "INFO:tensorflow:Our macro AUC:     0.8799671977142476\n",
      "INFO:tensorflow:Our micro AUC:     0.9103550330603764\n",
      "2018-12-06 15:38:31.775933 0 DNase\n",
      "INFO:tensorflow:2018-12-06 15:38:31.776051: 0, DNase, NaN\n",
      "INFO:tensorflow:2018-12-06 15:38:31.779297: 1, p300, 0.807498\n",
      "INFO:tensorflow:2018-12-06 15:38:31.846041: 2, CTCF, 0.952436\n",
      "INFO:tensorflow:\n",
      "INFO:tensorflow:2000 0.2189306\n",
      "INFO:tensorflow:On validation\n",
      "INFO:tensorflow:Our macro AUC:     0.8342362975553606\n",
      "INFO:tensorflow:Our micro AUC:     0.886069423729602\n",
      "2018-12-06 15:40:25.997878 0 DNase\n",
      "INFO:tensorflow:2018-12-06 15:40:25.999060: 0, DNase, NaN\n",
      "INFO:tensorflow:2018-12-06 15:40:25.999935: 1, p300, 0.715492\n",
      "INFO:tensorflow:2018-12-06 15:40:26.066426: 2, CTCF, 0.952981\n",
      "INFO:tensorflow:\n",
      "INFO:tensorflow:3000 0.3058772\n",
      "INFO:tensorflow:On validation\n",
      "INFO:tensorflow:Our macro AUC:     0.8280842637065156\n",
      "INFO:tensorflow:Our micro AUC:     0.8959058343432289\n",
      "2018-12-06 15:41:28.459948 0 DNase\n",
      "INFO:tensorflow:2018-12-06 15:41:28.460058: 0, DNase, NaN\n",
      "INFO:tensorflow:2018-12-06 15:41:28.461449: 1, p300, 0.699639\n",
      "INFO:tensorflow:2018-12-06 15:41:28.499274: 2, CTCF, 0.956529\n",
      "INFO:tensorflow:\n",
      "INFO:tensorflow:4000 0.21685575\n",
      "INFO:tensorflow:On validation\n",
      "INFO:tensorflow:Our macro AUC:     0.8670596867453624\n",
      "INFO:tensorflow:Our micro AUC:     0.9004407614993876\n",
      "2018-12-06 15:42:21.004514 0 DNase\n",
      "INFO:tensorflow:2018-12-06 15:42:21.004624: 0, DNase, NaN\n",
      "INFO:tensorflow:2018-12-06 15:42:21.008028: 1, p300, 0.798358\n",
      "INFO:tensorflow:2018-12-06 15:42:21.023016: 2, CTCF, 0.935761\n",
      "INFO:tensorflow:\n",
      "INFO:tensorflow:5000 0.7522872\n",
      "INFO:tensorflow:On validation\n",
      "INFO:tensorflow:Our macro AUC:     0.6200305992433206\n",
      "INFO:tensorflow:Our micro AUC:     0.7921857536892122\n",
      "2018-12-06 15:43:13.628466 0 DNase\n",
      "INFO:tensorflow:2018-12-06 15:43:13.628576: 0, DNase, NaN\n",
      "INFO:tensorflow:2018-12-06 15:43:13.630623: 1, p300, 0.293213\n",
      "INFO:tensorflow:2018-12-06 15:43:13.669153: 2, CTCF, 0.946848\n",
      "INFO:tensorflow:\n",
      "INFO:tensorflow:6000 2.0628688\n",
      "INFO:tensorflow:On validation\n",
      "INFO:tensorflow:Our macro AUC:     0.8316393855050317\n",
      "INFO:tensorflow:Our micro AUC:     0.8683921507236586\n",
      "2018-12-06 15:45:09.358530 0 DNase\n",
      "INFO:tensorflow:2018-12-06 15:45:09.358634: 0, DNase, NaN\n",
      "INFO:tensorflow:2018-12-06 15:45:09.360202: 1, p300, 0.714900\n",
      "INFO:tensorflow:2018-12-06 15:45:09.427237: 2, CTCF, 0.948379\n",
      "INFO:tensorflow:\n",
      "INFO:tensorflow:7000 1.2153692\n",
      "INFO:tensorflow:On validation\n",
      "INFO:tensorflow:Our macro AUC:     0.831330747091654\n",
      "INFO:tensorflow:Our micro AUC:     0.8507466226472373\n",
      "2018-12-06 15:47:05.490176 0 DNase\n",
      "INFO:tensorflow:2018-12-06 15:47:05.490280: 0, DNase, NaN\n",
      "INFO:tensorflow:2018-12-06 15:47:05.491744: 1, p300, 0.730742\n",
      "INFO:tensorflow:2018-12-06 15:47:05.558753: 2, CTCF, 0.931919\n",
      "INFO:tensorflow:\n",
      "INFO:tensorflow:8000 0.16553175\n",
      "INFO:tensorflow:On validation\n",
      "INFO:tensorflow:Our macro AUC:     0.8036853788745812\n",
      "INFO:tensorflow:Our micro AUC:     0.8766055944753348\n",
      "2018-12-06 15:49:01.304494 0 DNase\n",
      "INFO:tensorflow:2018-12-06 15:49:01.304612: 0, DNase, NaN\n",
      "INFO:tensorflow:2018-12-06 15:49:01.306878: 1, p300, 0.658194\n",
      "INFO:tensorflow:2018-12-06 15:49:01.366060: 2, CTCF, 0.949177\n",
      "INFO:tensorflow:\n",
      "INFO:tensorflow:9000 0.22561514\n",
      "INFO:tensorflow:On validation\n",
      "INFO:tensorflow:Our macro AUC:     0.8414995220199382\n",
      "INFO:tensorflow:Our micro AUC:     0.9028704397216724\n",
      "2018-12-06 15:50:57.675880 0 DNase\n",
      "INFO:tensorflow:2018-12-06 15:50:57.675995: 0, DNase, NaN\n",
      "INFO:tensorflow:2018-12-06 15:50:57.679074: 1, p300, 0.716973\n",
      "INFO:tensorflow:2018-12-06 15:50:57.742472: 2, CTCF, 0.966026\n",
      "INFO:tensorflow:\n",
      "INFO:tensorflow:10000 0.11221488\n",
      "INFO:tensorflow:On validation\n",
      "INFO:tensorflow:Our macro AUC:     0.8696098096976044\n",
      "INFO:tensorflow:Our micro AUC:     0.8952439198768021\n",
      "2018-12-06 15:52:00.671069 0 DNase\n",
      "INFO:tensorflow:2018-12-06 15:52:00.671326: 0, DNase, NaN\n",
      "INFO:tensorflow:2018-12-06 15:52:00.672689: 1, p300, 0.794981\n",
      "INFO:tensorflow:2018-12-06 15:52:00.707995: 2, CTCF, 0.944239\n",
      "INFO:tensorflow:\n",
      "INFO:tensorflow:11000 1.6922156\n",
      "INFO:tensorflow:On validation\n",
      "INFO:tensorflow:Our macro AUC:     0.8462735764579441\n",
      "INFO:tensorflow:Our micro AUC:     0.8906843435422596\n",
      "2018-12-06 15:52:53.357930 0 DNase\n",
      "INFO:tensorflow:2018-12-06 15:52:53.358043: 0, DNase, NaN\n",
      "INFO:tensorflow:2018-12-06 15:52:53.360597: 1, p300, 0.746959\n",
      "INFO:tensorflow:2018-12-06 15:52:53.400397: 2, CTCF, 0.945588\n",
      "INFO:tensorflow:\n",
      "INFO:tensorflow:12000 0.21150309\n",
      "INFO:tensorflow:On validation\n",
      "INFO:tensorflow:Our macro AUC:     0.8457897489528289\n",
      "INFO:tensorflow:Our micro AUC:     0.86838978225051\n",
      "2018-12-06 15:53:45.836785 0 DNase\n",
      "INFO:tensorflow:2018-12-06 15:53:45.837106: 0, DNase, NaN\n",
      "INFO:tensorflow:2018-12-06 15:53:45.839626: 1, p300, 0.739278\n",
      "INFO:tensorflow:2018-12-06 15:53:45.876412: 2, CTCF, 0.952301\n",
      "INFO:tensorflow:\n",
      "INFO:tensorflow:13000 0.2916237\n",
      "INFO:tensorflow:On validation\n",
      "INFO:tensorflow:Our macro AUC:     0.8236442511141999\n",
      "INFO:tensorflow:Our micro AUC:     0.8904220635355562\n",
      "2018-12-06 15:54:38.289228 0 DNase\n",
      "INFO:tensorflow:2018-12-06 15:54:38.292218: 0, DNase, NaN\n",
      "INFO:tensorflow:2018-12-06 15:54:38.295296: 1, p300, 0.694556\n",
      "INFO:tensorflow:2018-12-06 15:54:38.327084: 2, CTCF, 0.952732\n",
      "INFO:tensorflow:\n",
      "INFO:tensorflow:14000 2.4419792\n",
      "INFO:tensorflow:On validation\n",
      "INFO:tensorflow:Our macro AUC:     0.8744713773466695\n",
      "INFO:tensorflow:Our micro AUC:     0.9114753861419006\n",
      "2018-12-06 15:55:30.963348 0 DNase\n",
      "INFO:tensorflow:2018-12-06 15:55:30.966647: 0, DNase, NaN\n",
      "INFO:tensorflow:2018-12-06 15:55:30.967844: 1, p300, 0.787327\n",
      "INFO:tensorflow:2018-12-06 15:55:30.983268: 2, CTCF, 0.961616\n",
      "INFO:tensorflow:\n",
      "INFO:tensorflow:15000 0.34522313\n",
      "INFO:tensorflow:On validation\n",
      "INFO:tensorflow:Our macro AUC:     0.8651867599904666\n",
      "INFO:tensorflow:Our micro AUC:     0.8978012290205096\n",
      "2018-12-06 15:56:23.633392 0 DNase\n",
      "INFO:tensorflow:2018-12-06 15:56:23.634215: 0, DNase, NaN\n",
      "INFO:tensorflow:2018-12-06 15:56:23.636013: 1, p300, 0.791822\n",
      "INFO:tensorflow:2018-12-06 15:56:23.650671: 2, CTCF, 0.938552\n",
      "INFO:tensorflow:\n",
      "INFO:tensorflow:16000 1.8602207\n",
      "INFO:tensorflow:On validation\n",
      "INFO:tensorflow:Our macro AUC:     0.8256261353459932\n",
      "INFO:tensorflow:Our micro AUC:     0.8744724189552323\n",
      "2018-12-06 15:57:16.156593 0 DNase\n",
      "INFO:tensorflow:2018-12-06 15:57:16.156694: 0, DNase, NaN\n",
      "INFO:tensorflow:2018-12-06 15:57:16.159227: 1, p300, 0.698861\n",
      "INFO:tensorflow:2018-12-06 15:57:16.191295: 2, CTCF, 0.952392\n",
      "INFO:tensorflow:\n",
      "INFO:tensorflow:17000 0.14481688\n",
      "INFO:tensorflow:On validation\n",
      "INFO:tensorflow:Our macro AUC:     0.8697453215940952\n",
      "INFO:tensorflow:Our micro AUC:     0.895324688695258\n",
      "2018-12-06 15:58:08.755139 0 DNase\n",
      "INFO:tensorflow:2018-12-06 15:58:08.755959: 0, DNase, NaN\n",
      "INFO:tensorflow:2018-12-06 15:58:08.757702: 1, p300, 0.804418\n",
      "INFO:tensorflow:2018-12-06 15:58:08.795590: 2, CTCF, 0.935073\n",
      "INFO:tensorflow:\n",
      "INFO:tensorflow:18000 0.708823\n",
      "INFO:tensorflow:On validation\n",
      "INFO:tensorflow:Our macro AUC:     0.8355496193764158\n",
      "INFO:tensorflow:Our micro AUC:     0.8976476828785964\n",
      "2018-12-06 15:59:01.448131 0 DNase\n",
      "INFO:tensorflow:2018-12-06 15:59:01.450225: 0, DNase, NaN\n",
      "INFO:tensorflow:2018-12-06 15:59:01.451429: 1, p300, 0.721625\n",
      "INFO:tensorflow:2018-12-06 15:59:01.466866: 2, CTCF, 0.949474\n",
      "INFO:tensorflow:\n",
      "INFO:tensorflow:19000 1.3363512\n",
      "INFO:tensorflow:On validation\n",
      "INFO:tensorflow:Our macro AUC:     0.8270520483101247\n",
      "INFO:tensorflow:Our micro AUC:     0.8945885087417962\n",
      "2018-12-06 15:59:54.025506 0 DNase\n",
      "INFO:tensorflow:2018-12-06 15:59:54.025607: 0, DNase, NaN\n",
      "INFO:tensorflow:2018-12-06 15:59:54.029068: 1, p300, 0.684347\n",
      "INFO:tensorflow:2018-12-06 15:59:54.068309: 2, CTCF, 0.969757\n",
      "INFO:tensorflow:\n",
      "INFO:tensorflow:20000 2.534717\n",
      "INFO:tensorflow:On validation\n",
      "INFO:tensorflow:Our macro AUC:     0.8783672270793714\n",
      "INFO:tensorflow:Our micro AUC:     0.9048703803004732\n",
      "2018-12-06 16:00:46.736262 0 DNase\n",
      "INFO:tensorflow:2018-12-06 16:00:46.739382: 0, DNase, NaN\n",
      "INFO:tensorflow:2018-12-06 16:00:46.741090: 1, p300, 0.814875\n",
      "INFO:tensorflow:2018-12-06 16:00:46.775792: 2, CTCF, 0.941860\n",
      "INFO:tensorflow:\n"
     ]
    }
   ],
   "source": [
    "exec(open(\"./generators.py\").read())\n",
    "exec(open(\"./models.py\").read())\n",
    "\n",
    "time = datetime.datetime.now().time().strftime(\"%Y-%m-%d_%H:%M:%S\")\n",
    "\n",
    "file = open('/data/akmorrow/epitome_data/out/tmp_prediction_metalearn_aucs_%s.py' % time, 'w')\n",
    "\n",
    "\n",
    "model = MLP(4, [100, 100, 100, 50], \n",
    "        tf.tanh, \n",
    "        train_data, \n",
    "        valid_data, \n",
    "        test_data, \n",
    "        validation_celltypes,\n",
    "        test_celltypes,\n",
    "        gen_from_peaks_shuffle_cell_types, \n",
    "        matrix,\n",
    "        assaymap,\n",
    "        cellmap,\n",
    "        shuffle_size=2, \n",
    "        all_eval_cell_types=all_eval_cell_types + test_f_celltypes,\n",
    "        radii=[1,3,10,30])\n",
    "model.train(20000)\n",
    "\n",
    "test_DNase = model.test(455024, mode = Dataset.TEST, log=True)\n",
    "\n",
    "# save to file\n",
    "file.write('test set %f \\n' % test_DNase[2])\n",
    "file.flush()\n",
    "\n",
    "\n",
    "_, new_data = make_dataset(test_data,\n",
    "                 validation_cell_types,\n",
    "                 all_eval_cell_types + train_f_celltypes,\n",
    "                 gen_from_peaks_shuffle_cell_types,\n",
    "                 matrix,\n",
    "                 assaymap,\n",
    "                 cellmap,\n",
    "                 64,\n",
    "                 shuffle_size=2,\n",
    "                 prefetch_size=10,\n",
    "                 radii=[1,3,10,30])\n",
    "\n",
    "validation_holdout_indices = np.array([]) \n",
    "test_generator = model.test_from_generator(455024, new_data, validation_holdout_indices, log=True)\n",
    "\n",
    "\n",
    "# save to file\n",
    "file.write('test set with  new cell types %f \\n' % test_generator[2])\n",
    "file.flush()"
   ]
  }
 ],
 "metadata": {
  "kernelspec": {
   "display_name": "Python 3",
   "language": "python",
   "name": "python3"
  },
  "language_info": {
   "codemirror_mode": {
    "name": "ipython",
    "version": 3
   },
   "file_extension": ".py",
   "mimetype": "text/x-python",
   "name": "python",
   "nbconvert_exporter": "python",
   "pygments_lexer": "ipython3",
   "version": "3.6.6"
  }
 },
 "nbformat": 4,
 "nbformat_minor": 2
}
