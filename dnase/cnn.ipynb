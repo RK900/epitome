{
 "cells": [
  {
   "cell_type": "code",
   "execution_count": 1,
   "metadata": {},
   "outputs": [],
   "source": [
    "import collections\n",
    "\n",
    "import pyDNase\n",
    "import tensorflow as tf\n",
    "import h5py\n",
    "from scipy.io import loadmat\n",
    "import numpy as np\n",
    "import matplotlib.pyplot as plt\n",
    "import sklearn.metrics\n",
    "import kipoi\n",
    "import os\n",
    "import pybedtools\n",
    "import h5sparse\n",
    "import datetime\n",
    "import logging\n",
    "\n",
    "from pyDNase import GenomicInterval\n",
    "from scipy.sparse import coo_matrix, vstack\n",
    "\n",
    "from scipy.fftpack import fft, ifft\n",
    "\n",
    "import sys\n",
    "%matplotlib inline"
   ]
  },
  {
   "cell_type": "markdown",
   "metadata": {},
   "source": [
    "# Define Paths for this user"
   ]
  },
  {
   "cell_type": "code",
   "execution_count": 2,
   "metadata": {},
   "outputs": [],
   "source": [
    "########################## PATHS ###########################\n",
    "# path to where dnase bams are stored. Bams need to be sorted and indexed. See bin/download_dnase_encode.sh for\n",
    "# data processing\n",
    "_ENCODE_DATA_PREFIX =  \"/data/akmorrow/encode_data/\"\n",
    "\n",
    "deepsea_path = \"/data/jwhughes/deepsea_train/\"\n",
    "# dnase_preprocessed_path = \"/data/akmorrow/epitome_data/processed_dnase/\"\n",
    "# feature_path = \"/home/eecs/akmorrow/epitome/data/feature_name\"\n",
    "\n",
    "# _DEEPSEA_GENOME_REGIONS_FILENAME = \"/home/eecs/akmorrow/epitome/data/allTFs.pos.bed\"\n",
    "\n",
    "# DNase filepath dictionary\n",
    "# prefix_ =  \"/data/akmorrow/encode_data/\"\n",
    "\n",
    " # get TF logger\n",
    "log = logging.getLogger('tensorflow')\n",
    "tf_log = \"/home/eecs/jwhughes/epitome/dnase/tensorflow_combination.log\"\n",
    "fh = logging.FileHandler(tf_log)\n",
    "fh.setLevel(logging.INFO)\n",
    "log.addHandler(fh)"
   ]
  },
  {
   "cell_type": "code",
   "execution_count": 3,
   "metadata": {},
   "outputs": [],
   "source": [
    "exec(open(\"./constants.py\").read())\n",
    "exec(open(\"./functions.py\").read())"
   ]
  },
  {
   "cell_type": "markdown",
   "metadata": {},
   "source": [
    "# Load Data"
   ]
  },
  {
   "cell_type": "markdown",
   "metadata": {},
   "source": [
    "### Load DeepSEA data"
   ]
  },
  {
   "cell_type": "code",
   "execution_count": 4,
   "metadata": {},
   "outputs": [
    {
     "name": "stdout",
     "output_type": "stream",
     "text": [
      "(408000, 4, 1000) (4000000, 4, 1000) (455024, 4, 1000)\n",
      "(919, 408000) (919, 4000000) (919, 455024)\n"
     ]
    }
   ],
   "source": [
    "train_data, valid_data, test_data = load_deepsea_data(deepsea_path)\n",
    "\n",
    "print(valid_data[\"x\"].shape, train_data[\"x\"].shape, test_data[\"x\"].shape)\n",
    "print(valid_data[\"y\"].shape, train_data[\"y\"].shape, test_data[\"y\"].shape)"
   ]
  },
  {
   "cell_type": "markdown",
   "metadata": {},
   "source": [
    "# Choose cell types"
   ]
  },
  {
   "cell_type": "code",
   "execution_count": 5,
   "metadata": {},
   "outputs": [
    {
     "name": "stdout",
     "output_type": "stream",
     "text": [
      "['K562', 'GM12878', 'H1-hESC', 'HepG2', 'HeLa-S3', 'A549', 'HUVEC', 'GM12891', 'MCF-7', 'GM12892', 'HCT-116'] ['DNase', 'CTCF', 'Pol2', 'YY1', 'p300', 'TAF1', 'Pol2-4H8', 'c-Myc', 'Rad21', 'Max', 'NRSF', 'GABP', 'EZH2', 'CEBPB', 'c-Jun', 'ZBTB33', 'USF2', 'USF-1', 'TBP', 'RFX5']\n"
     ]
    },
    {
     "data": {
      "image/png": "[encoded data removed]",
      "text/plain": [
       "<Figure size 432x288 with 1 Axes>"
      ]
     },
     "metadata": {
      "needs_background": "light"
     },
     "output_type": "display_data"
    }
   ],
   "source": [
    "# matrix is cell types by factors, contains indices in feature vector\n",
    "matrix, cellmap, assaymap = get_assays_from_feature_file()\n",
    "\n",
    "inv_assaymap = {v: k for k, v in assaymap.items()}\n",
    "\n",
    "fig = plt.figure()\n",
    "ax = fig.add_subplot(1,1,1)\n",
    "ax.set_aspect('equal')\n",
    "plt.xticks(np.arange(len(assaymap)), rotation = 90)\n",
    "ax.set_xticklabels(assaymap.keys())\n",
    "plt.yticks(np.arange(len(cellmap)))\n",
    "ax.set_yticklabels(cellmap.keys())\n",
    "\n",
    "plt.imshow(matrix!=-1)\n",
    "print(list(cellmap.keys())[:11], list(assaymap.keys())[:20])"
   ]
  },
  {
   "cell_type": "markdown",
   "metadata": {},
   "source": [
    "# Select train, valid and test cell types\n",
    "\n",
    "- test on A549\n",
    "- train/validate on K562 and HepG2\n",
    "- use remaining cell types as feature input "
   ]
  },
  {
   "cell_type": "code",
   "execution_count": 6,
   "metadata": {},
   "outputs": [],
   "source": [
    "# A549 is for test. 12 available features\n",
    "test_celltypes = [\"A549\"]\n",
    "\n",
    "valid_y_indices = np.copy(matrix[cellmap['A549']])\n",
    "valid_holdout_indices = np.where(valid_y_indices == -1)[0]\n",
    "# TODO: need the vectors to be the same length, but you should not evaluate on these\n",
    "# Currently, set -1's to 0 these will all be evaluated on the DNase\n",
    "valid_y_indices[matrix[cellmap['A549']] ==-1]=0\n",
    "\n",
    "# K562, HepG2 indices is for train/valid. 19 available features\n",
    "evaluation_celltypes = [\"K562\", \"HepG2\"] \n",
    "y_indices = [matrix[cellmap['K562']][matrix[cellmap['K562']]!=-1], \n",
    "             matrix[cellmap['HepG2']][matrix[cellmap['HepG2']]!=-1]]\n",
    "\n",
    "# indices_mat is used to pull the remaining indices from cell types not used for prediction.\n",
    "# delete evaluation cell types from the matrix (A549, HepG2 and K562)\n",
    "indices_mat = np.delete(matrix, [0,3,5], axis=0)\n",
    "\n",
    "# get all feature locations for DNase for remaining cell types (just the first column in matrix)\n",
    "dnase_indices = indices_mat[:,0] # for all of the cell types (including the cell type we are evaluating)\n",
    "indices = indices_mat[indices_mat!=-1]\n",
    "\n",
    "# cell types not used in validation\n",
    "train_celltypes = ['GM12878', 'H1-hESC', 'HeLa-S3', 'HUVEC', 'GM12891', 'MCF-7', 'GM12892', 'HCT-116']\n"
   ]
  },
  {
   "cell_type": "markdown",
   "metadata": {},
   "source": [
    "# Data Generators"
   ]
  },
  {
   "cell_type": "markdown",
   "metadata": {},
   "source": [
    "## Generator with just processed DNase"
   ]
  },
  {
   "cell_type": "code",
   "execution_count": 9,
   "metadata": {},
   "outputs": [],
   "source": [
    "\n",
    "### Distance functions\n",
    "def gen(data, DATA_LABEL, radii=[1,3]):\n",
    "    def g():\n",
    "        \n",
    "        # determines which indices to use for labels\n",
    "        if (DATA_LABEL == Dataset.TEST):\n",
    "            y_index_vector = [valid_y_indices]\n",
    "        else:\n",
    "            y_index_vector = y_indices\n",
    "            \n",
    "        if (len(radii) > 0):\n",
    "            range_ = range(max(radii), data[\"y\"].shape[-1]-max(radii))\n",
    "        else: \n",
    "            range_ = range(0, data[\"y\"].shape[-1])\n",
    " \n",
    "        for i in range_: # for all records\n",
    "            for y_index in y_index_vector:\n",
    "                dnases = [] \n",
    "                for radius in radii:\n",
    "                    # within the radius, fraction of places where they are both 1\n",
    "                    dnase_double_positive = np.average(data[\"y\"][dnase_indices,i-radius:i+radius+1]*\n",
    "                                             data[\"y\"][y_index[0],i-radius:i+radius+1], axis=1)\n",
    "                    \n",
    "                    # within the radius, fraction of places where they are both equal (0 or 1)\n",
    "                    dnase_agreement = np.average(data[\"y\"][dnase_indices,i-radius:i+radius+1]==\n",
    "                                             data[\"y\"][y_index[0],i-radius:i+radius+1], axis=1)\n",
    "                    dnases.extend(dnase_double_positive)\n",
    "                    dnases.extend(dnase_agreement)\n",
    "                    \n",
    "                # Remove DNase from prediction indices. \n",
    "                # You should not predict on assays you use to calculate the distance metric.\n",
    "                y_index_no_dnase = np.delete(y_index, [0])\n",
    "                yield np.concatenate([data[\"y\"][indices,i],dnases]), data[\"y\"][y_index_no_dnase,i], data[\"x\"][i]\n",
    "    return g\n",
    "\n",
    "def make_dataset(data,\n",
    "                 which_dataset,\n",
    "                 batch_size,\n",
    "                 shuffle_size,\n",
    "                 prefetch_size,\n",
    "                 radii):\n",
    "\n",
    "    generator = gen(data, which_dataset, radii)\n",
    "    \n",
    "    for x, y, seq in generator():\n",
    "        break\n",
    "    \n",
    "    dataset = tf.data.Dataset.from_generator(\n",
    "        generator,\n",
    "        output_types=(tf.float32,)*2+(tf.int32,),\n",
    "        output_shapes=(x.shape, y.shape, seq.shape)\n",
    "    )\n",
    "    dataset = dataset.batch(batch_size)\n",
    "    dataset = dataset.shuffle(shuffle_size)\n",
    "    dataset = dataset.repeat()\n",
    "    dataset = dataset.prefetch(prefetch_size)\n",
    "    return y.shape, dataset.make_one_shot_iterator()\n"
   ]
  },
  {
   "cell_type": "markdown",
   "metadata": {},
   "source": [
    "# Check how DeepSea does"
   ]
  },
  {
   "cell_type": "code",
   "execution_count": 10,
   "metadata": {},
   "outputs": [
    {
     "ename": "ImportError",
     "evalue": "No module named 'kipoiseq'",
     "output_type": "error",
     "traceback": [
      "\u001b[0;31m---------------------------------------------------------------------------\u001b[0m",
      "\u001b[0;31mImportError\u001b[0m                               Traceback (most recent call last)",
      "\u001b[0;32m<ipython-input-10-2f0adf8b3199>\u001b[0m in \u001b[0;36m<module>\u001b[0;34m\u001b[0m\n\u001b[0;32m----> 1\u001b[0;31m \u001b[0mmodel\u001b[0m \u001b[0;34m=\u001b[0m \u001b[0mkipoi\u001b[0m\u001b[0;34m.\u001b[0m\u001b[0mget_model\u001b[0m\u001b[0;34m(\u001b[0m\u001b[0;34m'DeepSEA/predict'\u001b[0m\u001b[0;34m)\u001b[0m\u001b[0;34m\u001b[0m\u001b[0;34m\u001b[0m\u001b[0m\n\u001b[0m\u001b[1;32m      2\u001b[0m \u001b[0mbatch_size\u001b[0m \u001b[0;34m=\u001b[0m \u001b[0;36m100\u001b[0m\u001b[0;34m\u001b[0m\u001b[0;34m\u001b[0m\u001b[0m\n\u001b[1;32m      3\u001b[0m \u001b[0mpreds\u001b[0m \u001b[0;34m=\u001b[0m \u001b[0;34m[\u001b[0m\u001b[0;34m]\u001b[0m\u001b[0;34m\u001b[0m\u001b[0;34m\u001b[0m\u001b[0m\n\u001b[1;32m      4\u001b[0m \u001b[0;32mfor\u001b[0m \u001b[0mi\u001b[0m \u001b[0;32min\u001b[0m \u001b[0mnp\u001b[0m\u001b[0;34m.\u001b[0m\u001b[0marange\u001b[0m\u001b[0;34m(\u001b[0m\u001b[0;36m0\u001b[0m\u001b[0;34m,\u001b[0m \u001b[0mlen\u001b[0m\u001b[0;34m(\u001b[0m\u001b[0mvalid_data\u001b[0m\u001b[0;34m[\u001b[0m\u001b[0;34m\"x\"\u001b[0m\u001b[0;34m]\u001b[0m\u001b[0;34m)\u001b[0m\u001b[0;34m,\u001b[0m \u001b[0mbatch_size\u001b[0m\u001b[0;34m)\u001b[0m\u001b[0;34m:\u001b[0m\u001b[0;34m\u001b[0m\u001b[0;34m\u001b[0m\u001b[0m\n\u001b[1;32m      5\u001b[0m     \u001b[0mbatch\u001b[0m \u001b[0;34m=\u001b[0m \u001b[0mvalid_data\u001b[0m\u001b[0;34m[\u001b[0m\u001b[0;34m\"x\"\u001b[0m\u001b[0;34m]\u001b[0m\u001b[0;34m[\u001b[0m\u001b[0mi\u001b[0m\u001b[0;34m:\u001b[0m\u001b[0mi\u001b[0m\u001b[0;34m+\u001b[0m\u001b[0mbatch_size\u001b[0m\u001b[0;34m]\u001b[0m\u001b[0;34m\u001b[0m\u001b[0;34m\u001b[0m\u001b[0m\n",
      "\u001b[0;32m/data/jwhughes/tf_env/lib/python3.6/site-packages/kipoi/model.py\u001b[0m in \u001b[0;36mget_model\u001b[0;34m(model, source, with_dataloader)\u001b[0m\n\u001b[1;32m    114\u001b[0m         \u001b[0;32mif\u001b[0m \u001b[0misinstance\u001b[0m\u001b[0;34m(\u001b[0m\u001b[0mmd\u001b[0m\u001b[0;34m.\u001b[0m\u001b[0mdefault_dataloader\u001b[0m\u001b[0;34m,\u001b[0m \u001b[0mDataLoaderImport\u001b[0m\u001b[0;34m)\u001b[0m\u001b[0;34m:\u001b[0m\u001b[0;34m\u001b[0m\u001b[0;34m\u001b[0m\u001b[0m\n\u001b[1;32m    115\u001b[0m             \u001b[0;32mwith\u001b[0m \u001b[0mcd\u001b[0m\u001b[0;34m(\u001b[0m\u001b[0msource_dir\u001b[0m\u001b[0;34m)\u001b[0m\u001b[0;34m:\u001b[0m\u001b[0;34m\u001b[0m\u001b[0;34m\u001b[0m\u001b[0m\n\u001b[0;32m--> 116\u001b[0;31m                 \u001b[0mdefault_dataloader\u001b[0m \u001b[0;34m=\u001b[0m \u001b[0mmd\u001b[0m\u001b[0;34m.\u001b[0m\u001b[0mdefault_dataloader\u001b[0m\u001b[0;34m.\u001b[0m\u001b[0mget\u001b[0m\u001b[0;34m(\u001b[0m\u001b[0;34m)\u001b[0m\u001b[0;34m\u001b[0m\u001b[0;34m\u001b[0m\u001b[0m\n\u001b[0m\u001b[1;32m    117\u001b[0m             \u001b[0mdefault_dataloader\u001b[0m\u001b[0;34m.\u001b[0m\u001b[0msource_dir\u001b[0m \u001b[0;34m=\u001b[0m \u001b[0msource_dir\u001b[0m\u001b[0;34m\u001b[0m\u001b[0;34m\u001b[0m\u001b[0m\n\u001b[1;32m    118\u001b[0m             \u001b[0;31m# download util links if specified under default & override the default parameters\u001b[0m\u001b[0;34m\u001b[0m\u001b[0;34m\u001b[0m\u001b[0;34m\u001b[0m\u001b[0m\n",
      "\u001b[0;32m/data/jwhughes/tf_env/lib/python3.6/site-packages/kipoi/specs.py\u001b[0m in \u001b[0;36mget\u001b[0;34m(self)\u001b[0m\n\u001b[1;32m    784\u001b[0m         \u001b[0;32mfrom\u001b[0m \u001b[0mkipoi\u001b[0m\u001b[0;34m.\u001b[0m\u001b[0mdata\u001b[0m \u001b[0;32mimport\u001b[0m \u001b[0mBaseDataLoader\u001b[0m\u001b[0;34m\u001b[0m\u001b[0;34m\u001b[0m\u001b[0m\n\u001b[1;32m    785\u001b[0m         \u001b[0;32mfrom\u001b[0m \u001b[0mcopy\u001b[0m \u001b[0;32mimport\u001b[0m \u001b[0mdeepcopy\u001b[0m\u001b[0;34m\u001b[0m\u001b[0;34m\u001b[0m\u001b[0m\n\u001b[0;32m--> 786\u001b[0;31m         \u001b[0mobj\u001b[0m \u001b[0;34m=\u001b[0m \u001b[0mload_obj\u001b[0m\u001b[0;34m(\u001b[0m\u001b[0mself\u001b[0m\u001b[0;34m.\u001b[0m\u001b[0mdefined_as\u001b[0m\u001b[0;34m)\u001b[0m\u001b[0;34m\u001b[0m\u001b[0;34m\u001b[0m\u001b[0m\n\u001b[0m\u001b[1;32m    787\u001b[0m \u001b[0;34m\u001b[0m\u001b[0m\n\u001b[1;32m    788\u001b[0m         \u001b[0;31m# check that it inherits from BaseDataLoader\u001b[0m\u001b[0;34m\u001b[0m\u001b[0;34m\u001b[0m\u001b[0;34m\u001b[0m\u001b[0m\n",
      "\u001b[0;32m/data/jwhughes/tf_env/lib/python3.6/site-packages/kipoi/utils.py\u001b[0m in \u001b[0;36mload_obj\u001b[0;34m(obj_import)\u001b[0m\n\u001b[1;32m     73\u001b[0m         \u001b[0;31m# the latter was caching modules which caused trouble when\u001b[0m\u001b[0;34m\u001b[0m\u001b[0;34m\u001b[0m\u001b[0;34m\u001b[0m\u001b[0m\n\u001b[1;32m     74\u001b[0m         \u001b[0;31m# loading multiple modules of the same kind\u001b[0m\u001b[0;34m\u001b[0m\u001b[0;34m\u001b[0m\u001b[0;34m\u001b[0m\u001b[0m\n\u001b[0;32m---> 75\u001b[0;31m         \u001b[0mfp\u001b[0m\u001b[0;34m,\u001b[0m \u001b[0mpathname\u001b[0m\u001b[0;34m,\u001b[0m \u001b[0mdescription\u001b[0m \u001b[0;34m=\u001b[0m \u001b[0mimp\u001b[0m\u001b[0;34m.\u001b[0m\u001b[0mfind_module\u001b[0m\u001b[0;34m(\u001b[0m\u001b[0mmodule_name\u001b[0m\u001b[0;34m)\u001b[0m\u001b[0;34m\u001b[0m\u001b[0;34m\u001b[0m\u001b[0m\n\u001b[0m\u001b[1;32m     76\u001b[0m         \u001b[0me\u001b[0m \u001b[0;34m=\u001b[0m \u001b[0;32mNone\u001b[0m\u001b[0;34m\u001b[0m\u001b[0;34m\u001b[0m\u001b[0m\n\u001b[1;32m     77\u001b[0m         \u001b[0;32mtry\u001b[0m\u001b[0;34m:\u001b[0m\u001b[0;34m\u001b[0m\u001b[0;34m\u001b[0m\u001b[0m\n",
      "\u001b[0;32m/data/jwhughes/tf_env/lib/python3.6/imp.py\u001b[0m in \u001b[0;36mfind_module\u001b[0;34m(name, path)\u001b[0m\n\u001b[1;32m    295\u001b[0m         \u001b[0;32mbreak\u001b[0m  \u001b[0;31m# Break out of outer loop when breaking out of inner loop.\u001b[0m\u001b[0;34m\u001b[0m\u001b[0;34m\u001b[0m\u001b[0m\n\u001b[1;32m    296\u001b[0m     \u001b[0;32melse\u001b[0m\u001b[0;34m:\u001b[0m\u001b[0;34m\u001b[0m\u001b[0;34m\u001b[0m\u001b[0m\n\u001b[0;32m--> 297\u001b[0;31m         \u001b[0;32mraise\u001b[0m \u001b[0mImportError\u001b[0m\u001b[0;34m(\u001b[0m\u001b[0m_ERR_MSG\u001b[0m\u001b[0;34m.\u001b[0m\u001b[0mformat\u001b[0m\u001b[0;34m(\u001b[0m\u001b[0mname\u001b[0m\u001b[0;34m)\u001b[0m\u001b[0;34m,\u001b[0m \u001b[0mname\u001b[0m\u001b[0;34m=\u001b[0m\u001b[0mname\u001b[0m\u001b[0;34m)\u001b[0m\u001b[0;34m\u001b[0m\u001b[0;34m\u001b[0m\u001b[0m\n\u001b[0m\u001b[1;32m    298\u001b[0m \u001b[0;34m\u001b[0m\u001b[0m\n\u001b[1;32m    299\u001b[0m     \u001b[0mencoding\u001b[0m \u001b[0;34m=\u001b[0m \u001b[0;32mNone\u001b[0m\u001b[0;34m\u001b[0m\u001b[0;34m\u001b[0m\u001b[0m\n",
      "\u001b[0;31mImportError\u001b[0m: No module named 'kipoiseq'"
     ]
    }
   ],
   "source": [
    "model = kipoi.get_model('DeepSEA/predict')\n",
    "batch_size = 100\n",
    "preds = []\n",
    "for i in np.arange(0, len(valid_data[\"x\"]), batch_size):\n",
    "    batch = valid_data[\"x\"][i:i+batch_size]\n",
    "    batch = np.expand_dims(batch, 2)\n",
    "    batch = batch[:,[0,2,1,3]]\n",
    "    preds.append(model.predict_on_batch(batch.astype(np.float32)))\n",
    "preds = np.concatenate(preds, axis=0)"
   ]
  },
  {
   "cell_type": "markdown",
   "metadata": {},
   "source": [
    "### Direct performance of DeepSea"
   ]
  },
  {
   "cell_type": "code",
   "execution_count": null,
   "metadata": {},
   "outputs": [],
   "source": [
    "# for i in range(20):\n",
    "print(valid_data[\"y\"][y_indices[0]].shape)\n",
    "print(preds.T[y_indices[0]].shape)\n",
    "sklearn.metrics.roc_auc_score(valid_data[\"y\"][y_indices[0]].T, preds.T[y_indices[0]].T, average=\"macro\")"
   ]
  },
  {
   "cell_type": "markdown",
   "metadata": {},
   "source": [
    "### Performance of DeepSea through averaging"
   ]
  },
  {
   "cell_type": "code",
   "execution_count": 12,
   "metadata": {},
   "outputs": [
    {
     "ename": "NameError",
     "evalue": "name 'preds' is not defined",
     "output_type": "error",
     "traceback": [
      "\u001b[0;31m---------------------------------------------------------------------------\u001b[0m",
      "\u001b[0;31mNameError\u001b[0m                                 Traceback (most recent call last)",
      "\u001b[0;32m<ipython-input-12-e1ecba033220>\u001b[0m in \u001b[0;36m<module>\u001b[0;34m\u001b[0m\n\u001b[1;32m      1\u001b[0m \u001b[0mweights\u001b[0m \u001b[0;34m=\u001b[0m \u001b[0mnp\u001b[0m\u001b[0;34m.\u001b[0m\u001b[0mtile\u001b[0m\u001b[0;34m(\u001b[0m\u001b[0;34m(\u001b[0m\u001b[0mindices_mat\u001b[0m\u001b[0;34m!=\u001b[0m\u001b[0;34m-\u001b[0m\u001b[0;36m1\u001b[0m\u001b[0;34m)\u001b[0m\u001b[0;34m.\u001b[0m\u001b[0mreshape\u001b[0m\u001b[0;34m(\u001b[0m\u001b[0mindices_mat\u001b[0m\u001b[0;34m.\u001b[0m\u001b[0mshape\u001b[0m \u001b[0;34m+\u001b[0m \u001b[0;34m(\u001b[0m\u001b[0;36m1\u001b[0m\u001b[0;34m,\u001b[0m\u001b[0;34m)\u001b[0m\u001b[0;34m)\u001b[0m\u001b[0;34m,\u001b[0m \u001b[0;34m(\u001b[0m\u001b[0;36m1\u001b[0m\u001b[0;34m,\u001b[0m \u001b[0;36m1\u001b[0m\u001b[0;34m,\u001b[0m \u001b[0mvalid_data\u001b[0m\u001b[0;34m[\u001b[0m\u001b[0;34m\"y\"\u001b[0m\u001b[0;34m]\u001b[0m\u001b[0;34m.\u001b[0m\u001b[0mshape\u001b[0m\u001b[0;34m[\u001b[0m\u001b[0;34m-\u001b[0m\u001b[0;36m1\u001b[0m\u001b[0;34m]\u001b[0m\u001b[0;34m)\u001b[0m\u001b[0;34m)\u001b[0m\u001b[0;34m\u001b[0m\u001b[0m\n\u001b[1;32m      2\u001b[0m \u001b[0;34m\u001b[0m\u001b[0m\n\u001b[0;32m----> 3\u001b[0;31m \u001b[0maverage_preds\u001b[0m \u001b[0;34m=\u001b[0m \u001b[0mnp\u001b[0m\u001b[0;34m.\u001b[0m\u001b[0maverage\u001b[0m\u001b[0;34m(\u001b[0m\u001b[0mpreds\u001b[0m\u001b[0;34m.\u001b[0m\u001b[0mT\u001b[0m\u001b[0;34m[\u001b[0m\u001b[0mindices_mat\u001b[0m\u001b[0;34m]\u001b[0m\u001b[0;34m,\u001b[0m \u001b[0maxis\u001b[0m\u001b[0;34m=\u001b[0m\u001b[0;36m0\u001b[0m\u001b[0;34m,\u001b[0m \u001b[0mweights\u001b[0m\u001b[0;34m=\u001b[0m\u001b[0mweights\u001b[0m\u001b[0;34m)\u001b[0m\u001b[0;34m\u001b[0m\u001b[0m\n\u001b[0m\u001b[1;32m      4\u001b[0m \u001b[0maverage_preds\u001b[0m \u001b[0;34m=\u001b[0m \u001b[0mnp\u001b[0m\u001b[0;34m.\u001b[0m\u001b[0mconcatenate\u001b[0m\u001b[0;34m(\u001b[0m\u001b[0;34m[\u001b[0m\u001b[0maverage_preds\u001b[0m\u001b[0;34m,\u001b[0m\u001b[0maverage_preds\u001b[0m\u001b[0;34m]\u001b[0m\u001b[0;34m,\u001b[0m\u001b[0maxis\u001b[0m\u001b[0;34m=\u001b[0m\u001b[0;36m1\u001b[0m\u001b[0;34m)\u001b[0m\u001b[0;34m\u001b[0m\u001b[0m\n\u001b[1;32m      5\u001b[0m \u001b[0;34m\u001b[0m\u001b[0m\n",
      "\u001b[0;31mNameError\u001b[0m: name 'preds' is not defined"
     ]
    }
   ],
   "source": [
    "weights = np.tile((indices_mat!=-1).reshape(indices_mat.shape + (1,)), (1, 1, valid_data[\"y\"].shape[-1]))\n",
    "\n",
    "average_preds = np.average(preds.T[indices_mat], axis=0, weights=weights)\n",
    "average_preds = np.concatenate([average_preds,average_preds],axis=1)\n",
    "\n",
    "truth = np.concatenate([valid_data[\"y\"][y_indices[0]],valid_data[\"y\"][y_indices[1]]],axis=1)\n",
    "\n",
    "print(\"Macro score from averaging\", sklearn.metrics.roc_auc_score(truth.T, average_preds.T, average='macro'))\n",
    "print(\"Micro score from averaging\", sklearn.metrics.roc_auc_score(truth.T, average_preds.T, average='micro'))\n",
    "for i in range(len(truth)):\n",
    "    print(i, sklearn.metrics.roc_auc_score(truth[i].T, average_preds[i].T, average='macro'))"
   ]
  },
  {
   "cell_type": "markdown",
   "metadata": {},
   "source": [
    "# Model definition"
   ]
  },
  {
   "cell_type": "code",
   "execution_count": 11,
   "metadata": {},
   "outputs": [],
   "source": [
    "class Model():\n",
    "    def __init__(self,\n",
    "                 train_data,\n",
    "                 valid_data,\n",
    "                 test_data,\n",
    "                 batch_size=64,\n",
    "                 shuffle_size=10000,\n",
    "                 prefetch_size=10,\n",
    "                 l1=0.,\n",
    "                 l2=0.,\n",
    "                 lr=1e-3,\n",
    "                 radii=[1,3]):\n",
    "        \n",
    "        self.graph = tf.Graph()\n",
    "\n",
    "        with self.graph.as_default() as graph:\n",
    "            tf.logging.set_verbosity(tf.logging.INFO)\n",
    "\n",
    "            #### Weston uncomment to run original method\n",
    "            output_shape, train_iter = make_dataset(train_data,  Dataset.TRAIN, batch_size, shuffle_size, prefetch_size, radii)\n",
    "            _,            valid_iter = make_dataset(valid_data, Dataset.VALID, batch_size, 1           , prefetch_size, radii)\n",
    "            _,            test_iter = make_dataset(test_data, Dataset.TEST, batch_size, 1           , prefetch_size, radii)\n",
    "\n",
    "            self.train_handle = train_iter.string_handle()\n",
    "            self.valid_handle = valid_iter.string_handle()\n",
    "            self.test_handle = test_iter.string_handle()\n",
    "            \n",
    "            self.handle = tf.placeholder(tf.string, shape=[])\n",
    "            iterator = tf.data.Iterator.from_string_handle(\n",
    "                self.handle, train_iter.output_types, train_iter.output_shapes)\n",
    "            self.x, self.y, self.seq = iterator.get_next()\n",
    "            self.seq = tf.cast(self.seq,tf.float32)\n",
    "            \n",
    "            self.sess = tf.InteractiveSession(graph=graph)\n",
    "\n",
    "            self.num_outputs = output_shape[0]\n",
    "            self.l1, self.l2 = l1, l2\n",
    "            self.default_lr = lr\n",
    "            self.lr = tf.placeholder(tf.float32)\n",
    "            self.batch_size = batch_size\n",
    "            self.prefetch_size = prefetch_size\n",
    "\n",
    "            self.global_step = tf.Variable(0, name='global_step', trainable=False)\n",
    "            self.logits = self.body_fn()\n",
    "            self.predictions = tf.sigmoid(self.logits)\n",
    "            self.loss = self.loss_fn()\n",
    "            self.min = self.minimizer_fn()\n",
    "            \n",
    "            self.closed = False\n",
    "                \n",
    "    def body_fn(self):\n",
    "        raise NotImplementedError()\n",
    "    \n",
    "    def loss_fn(self):\n",
    "        return tf.reduce_mean(tf.nn.weighted_cross_entropy_with_logits(self.y, self.logits, 50))\n",
    "    \n",
    "    def minimizer_fn(self):\n",
    "        self.opt = tf.train.AdamOptimizer(self.lr)\n",
    "        return self.opt.minimize(self.loss, self.global_step)\n",
    "    \n",
    "    def close():\n",
    "        if not self.closed:\n",
    "            self.sess.close()\n",
    "        self.closed = True\n",
    "        \n",
    "    def train(self, num_steps, lr=None):\n",
    "        assert not self.closed\n",
    "        with self.graph.as_default():\n",
    "            if lr == None:\n",
    "                lr = self.default_lr\n",
    "            try:\n",
    "                self.sess.run(self.global_step)\n",
    "            except:\n",
    "                tf.logging.info(\"Initializing variables\")\n",
    "                self.sess.run(tf.global_variables_initializer())\n",
    "                self.train_handle = self.sess.run(self.train_handle)\n",
    "                self.valid_handle = self.sess.run(self.valid_handle)\n",
    "                self.test_handle = self.sess.run(self.test_handle)\n",
    "\n",
    "            max_steps = self.sess.run(self.global_step) + num_steps\n",
    "\n",
    "            tf.logging.info(\"Starting Training\")\n",
    "\n",
    "            while self.sess.run(self.global_step) < max_steps:\n",
    "                _, loss = self.sess.run([self.min, self.loss], {self.handle: self.train_handle, self.lr: lr})\n",
    "                step = self.sess.run(self.global_step)\n",
    "                if step % 1000 == 0:\n",
    "                    tf.logging.info(str(step) + \" \" + str(loss))\n",
    "                    tf.logging.info(\"On validation\")\n",
    "                    _, _, _, _, stop = self.test(40000, log=False)\n",
    "                    if stop: break\n",
    "                    tf.logging.info(\"\")\n",
    "                    \n",
    "\n",
    "                \n",
    "    def test(self, num_samples, mode = Dataset.VALID, log=False, iterator_handle=None):\n",
    "        if (mode == Dataset.VALID):\n",
    "            handle = self.valid_handle\n",
    "            validation_holdout_indices = np.array([]) \n",
    "        elif (mode == Dataset.TEST):\n",
    "            handle = self.test_handle\n",
    "            # indices of assays not available for A549, -1 because first DNAse col was removed\n",
    "            validation_holdout_indices = valid_holdout_indices - 1 \n",
    "        else:\n",
    "            raise\n",
    "            \n",
    "        assert not self.closed\n",
    "        with self.graph.as_default():\n",
    "            vals = []\n",
    "            for i in range(int(num_samples / self.batch_size)):\n",
    "                vals.append(\n",
    "                    self.sess.run([self.predictions, self.x, self.y],\n",
    "                             {self.handle: iterator_handle if iterator_handle else handle})\n",
    "                )\n",
    "            preds = np.concatenate([v[0] for v in vals])\n",
    "            truth = np.concatenate([v[2] for v in vals])\n",
    "\n",
    "            # remove missing indices for computing macro/micro AUC\n",
    "            preds_r = np.delete(preds, validation_holdout_indices, axis=1)\n",
    "            truth_r = np.delete(truth, validation_holdout_indices, axis=1)\n",
    "            \n",
    "            macroAUC = sklearn.metrics.roc_auc_score(truth_r, preds_r, average='macro')\n",
    "            microAUC = sklearn.metrics.roc_auc_score(truth_r, preds_r, average='micro')\n",
    "            tf.logging.info(\"Our macro AUC:     \" + str(macroAUC))\n",
    "            tf.logging.info(\"Our micro AUC:     \" + str(microAUC))\n",
    "            if True: # if log:\n",
    "                j=0\n",
    "                \n",
    "                for i in range(matrix.shape[1]): # eval on all assays except DNase and assays that are missing in A549\n",
    "                    assay = inv_assaymap[i]\n",
    "\n",
    "                    if (i not in validation_holdout_indices+1 and i != 0):\n",
    "                        str_ = \"%s: %i, %s, %f\" % (str(datetime.datetime.now()), i, assay, sklearn.metrics.roc_auc_score(truth_r[:,j], preds_r[:,j], average='macro'))\n",
    "                        j = j + 1\n",
    "                    else:\n",
    "                        str_ = \"%s: %i, %s, NaN\" % (str(datetime.datetime.now()), i, assay)\n",
    "                        \n",
    "                    tf.logging.info(str_)\n",
    "  \n",
    "                \n",
    "            return preds, truth, microAUC, macroAUC, False\n",
    "\n",
    "class MLP(Model):\n",
    "    def __init__(self,\n",
    "             layers,\n",
    "             num_units,\n",
    "             activation,\n",
    "             *args,\n",
    "             **kwargs):\n",
    "\n",
    "        self.layers = layers\n",
    "        self.num_units = num_units\n",
    "        self.activation = activation\n",
    "        \n",
    "        Model.__init__(self, *args, **kwargs)\n",
    "            \n",
    "    def body_fn(self):\n",
    "        model = self.x\n",
    "        \n",
    "        if not isinstance(self.num_units, collections.Iterable):\n",
    "            self.num_units = [self.num_units] * self.layers\n",
    "            \n",
    "        for i in range(self.layers):\n",
    "            model = tf.layers.dense(model, self.num_units[i], self.activation)#, kernel_regularizer=tf.contrib.layers.l1_l2_regularizer(self.l1, self.l2))\n",
    "        \n",
    "        return tf.layers.dense(model, self.num_outputs, kernel_regularizer=tf.contrib.layers.l1_l2_regularizer(self.l1, self.l2))\n",
    "\n",
    "\n",
    "class MLP_with_sequence_CNN(Model):\n",
    "    def __init__(self,\n",
    "             layers,\n",
    "             num_units,\n",
    "             activation,\n",
    "             *args,\n",
    "             **kwargs):\n",
    "\n",
    "        self.layers = layers\n",
    "        self.num_units = num_units\n",
    "        self.activation = activation\n",
    "        \n",
    "        Model.__init__(self, *args, **kwargs)\n",
    "            \n",
    "    def body_fn(self):\n",
    "        model = self.seq\n",
    "        \n",
    "        if not isinstance(self.num_units, collections.Iterable):\n",
    "            self.num_units = [self.num_units] * self.layers\n",
    "        \n",
    "        for filters, kernel_size, strides, keep_prob in [(64, 8, 4, .8), (128, 8, 4, .8), (256, 8, 4, .8)]:\n",
    "            model = tf.layers.conv1d(model,\n",
    "                         filters=filters,\n",
    "                         kernel_size=kernel_size,\n",
    "                         strides=strides,\n",
    "                         padding='same')\n",
    "            model = tf.layers.batch_normalization(model, training=True) # Always true!\n",
    "            model = self.activation(model)\n",
    "            model = tf.nn.dropout(model, keep_prob)\n",
    "        \n",
    "        model = tf.contrib.layers.flatten(model)\n",
    "        model = tf.layers.dense(model, self.num_units[0], self.activation)\n",
    "        model = tf.layers.dense(model, self.num_units[1], self.activation)\n",
    "        model = tf.concat([model, self.x], axis=1)\n",
    "            \n",
    "        for i in range(2, self.layers):\n",
    "            model = tf.layers.dense(model, self.num_units[i], self.activation)\n",
    "        \n",
    "        return tf.layers.dense(model, self.num_outputs, kernel_regularizer=tf.contrib.layers.l1_l2_regularizer(self.l1, self.l2))\n"
   ]
  },
  {
   "cell_type": "markdown",
   "metadata": {},
   "source": [
    "# Run with DNase"
   ]
  },
  {
   "cell_type": "code",
   "execution_count": 18,
   "metadata": {},
   "outputs": [
    {
     "name": "stderr",
     "output_type": "stream",
     "text": [
      "/data/jwhughes/tf_env/lib/python3.6/site-packages/tensorflow/python/client/session.py:1645: UserWarning: An interactive session is already active. This can cause out-of-memory errors in some cases. You must explicitly call `InteractiveSession.close()` to release resources held by the other session(s).\n",
      "  warnings.warn('An interactive session is already active. This can '\n"
     ]
    },
    {
     "name": "stdout",
     "output_type": "stream",
     "text": [
      "INFO:tensorflow:Scale of 0 disables regularizer.\n",
      "INFO:tensorflow:Initializing variables\n",
      "INFO:tensorflow:Starting Training\n",
      "INFO:tensorflow:1000 1.0001311\n",
      "INFO:tensorflow:On validation\n"
     ]
    },
    {
     "name": "stderr",
     "output_type": "stream",
     "text": [
      "/data/jwhughes/tf_env/lib/python3.6/site-packages/ipykernel_launcher.py:119: DeprecationWarning: using a non-integer array as obj in delete will result in an error in the future\n",
      "/data/jwhughes/tf_env/lib/python3.6/site-packages/ipykernel_launcher.py:120: DeprecationWarning: using a non-integer array as obj in delete will result in an error in the future\n"
     ]
    },
    {
     "name": "stdout",
     "output_type": "stream",
     "text": [
      "INFO:tensorflow:Our macro AUC:     0.8407414350138543\n",
      "INFO:tensorflow:Our micro AUC:     0.8596742372892441\n",
      "INFO:tensorflow:2018-11-13 01:33:40.434822: 0, DNase, NaN\n",
      "INFO:tensorflow:2018-11-13 01:33:40.435888: 1, CTCF, 0.919631\n",
      "INFO:tensorflow:2018-11-13 01:33:40.450938: 2, Pol2, 0.820992\n",
      "INFO:tensorflow:2018-11-13 01:33:40.465813: 3, YY1, 0.903660\n",
      "INFO:tensorflow:2018-11-13 01:33:40.480306: 4, p300, 0.821201\n",
      "INFO:tensorflow:2018-11-13 01:33:40.494825: 5, TAF1, 0.905863\n",
      "INFO:tensorflow:2018-11-13 01:33:40.509879: 6, Pol2-4H8, 0.811804\n",
      "INFO:tensorflow:2018-11-13 01:33:40.524909: 7, c-Myc, 0.941153\n",
      "INFO:tensorflow:2018-11-13 01:33:40.539624: 8, Rad21, 0.964706\n",
      "INFO:tensorflow:2018-11-13 01:33:40.554924: 9, Max, 0.861864\n",
      "INFO:tensorflow:2018-11-13 01:33:40.569615: 10, NRSF, 0.894560\n",
      "INFO:tensorflow:2018-11-13 01:33:40.594679: 11, GABP, 0.889692\n",
      "INFO:tensorflow:2018-11-13 01:33:40.609188: 12, EZH2, 0.560126\n",
      "INFO:tensorflow:2018-11-13 01:33:40.623709: 13, CEBPB, 0.697072\n",
      "INFO:tensorflow:2018-11-13 01:33:40.638111: 14, c-Jun, 0.830829\n",
      "INFO:tensorflow:2018-11-13 01:33:40.652244: 15, ZBTB33, 0.806942\n",
      "INFO:tensorflow:2018-11-13 01:33:40.666289: 16, USF2, 0.816297\n",
      "INFO:tensorflow:2018-11-13 01:33:40.681765: 17, USF-1, 0.806222\n",
      "INFO:tensorflow:2018-11-13 01:33:40.695623: 18, TBP, 0.892841\n",
      "INFO:tensorflow:2018-11-13 01:33:40.709285: 19, RFX5, 0.828631\n",
      "INFO:tensorflow:\n",
      "INFO:tensorflow:2000 0.5122511\n",
      "INFO:tensorflow:On validation\n"
     ]
    },
    {
     "name": "stderr",
     "output_type": "stream",
     "text": [
      "/data/jwhughes/tf_env/lib/python3.6/site-packages/ipykernel_launcher.py:119: DeprecationWarning: using a non-integer array as obj in delete will result in an error in the future\n",
      "/data/jwhughes/tf_env/lib/python3.6/site-packages/ipykernel_launcher.py:120: DeprecationWarning: using a non-integer array as obj in delete will result in an error in the future\n"
     ]
    },
    {
     "name": "stdout",
     "output_type": "stream",
     "text": [
      "INFO:tensorflow:Our macro AUC:     0.8746011745831068\n",
      "INFO:tensorflow:Our micro AUC:     0.9068402451291006\n",
      "INFO:tensorflow:2018-11-13 01:35:04.267950: 0, DNase, NaN\n",
      "INFO:tensorflow:2018-11-13 01:35:04.269045: 1, CTCF, 0.965523\n",
      "INFO:tensorflow:2018-11-13 01:35:04.283141: 2, Pol2, 0.895106\n",
      "INFO:tensorflow:2018-11-13 01:35:04.296811: 3, YY1, 0.924782\n",
      "INFO:tensorflow:2018-11-13 01:35:04.310243: 4, p300, 0.858195\n",
      "INFO:tensorflow:2018-11-13 01:35:04.323882: 5, TAF1, 0.951028\n",
      "INFO:tensorflow:2018-11-13 01:35:04.338431: 6, Pol2-4H8, 0.875929\n",
      "INFO:tensorflow:2018-11-13 01:35:04.352132: 7, c-Myc, 0.940281\n",
      "INFO:tensorflow:2018-11-13 01:35:04.365597: 8, Rad21, 0.980335\n",
      "INFO:tensorflow:2018-11-13 01:35:04.379214: 9, Max, 0.895882\n",
      "INFO:tensorflow:2018-11-13 01:35:04.393141: 10, NRSF, 0.902218\n",
      "INFO:tensorflow:2018-11-13 01:35:04.407285: 11, GABP, 0.903115\n",
      "INFO:tensorflow:2018-11-13 01:35:04.421093: 12, EZH2, 0.532904\n",
      "INFO:tensorflow:2018-11-13 01:35:04.434812: 13, CEBPB, 0.744193\n",
      "INFO:tensorflow:2018-11-13 01:35:04.449066: 14, c-Jun, 0.899677\n",
      "INFO:tensorflow:2018-11-13 01:35:04.462527: 15, ZBTB33, 0.887952\n",
      "INFO:tensorflow:2018-11-13 01:35:04.476080: 16, USF2, 0.854585\n",
      "INFO:tensorflow:2018-11-13 01:35:04.489671: 17, USF-1, 0.811728\n",
      "INFO:tensorflow:2018-11-13 01:35:04.503345: 18, TBP, 0.898086\n",
      "INFO:tensorflow:2018-11-13 01:35:04.517019: 19, RFX5, 0.895907\n",
      "INFO:tensorflow:\n",
      "INFO:tensorflow:3000 0.59013236\n",
      "INFO:tensorflow:On validation\n"
     ]
    },
    {
     "name": "stderr",
     "output_type": "stream",
     "text": [
      "/data/jwhughes/tf_env/lib/python3.6/site-packages/ipykernel_launcher.py:119: DeprecationWarning: using a non-integer array as obj in delete will result in an error in the future\n",
      "/data/jwhughes/tf_env/lib/python3.6/site-packages/ipykernel_launcher.py:120: DeprecationWarning: using a non-integer array as obj in delete will result in an error in the future\n"
     ]
    },
    {
     "name": "stdout",
     "output_type": "stream",
     "text": [
      "INFO:tensorflow:Our macro AUC:     0.8848577441982761\n",
      "INFO:tensorflow:Our micro AUC:     0.9122574770065977\n",
      "INFO:tensorflow:2018-11-13 01:36:28.466575: 0, DNase, NaN\n",
      "INFO:tensorflow:2018-11-13 01:36:28.467976: 1, CTCF, 0.967122\n",
      "INFO:tensorflow:2018-11-13 01:36:28.482835: 2, Pol2, 0.898075\n",
      "INFO:tensorflow:2018-11-13 01:36:28.496680: 3, YY1, 0.952702\n",
      "INFO:tensorflow:2018-11-13 01:36:28.510680: 4, p300, 0.843224\n",
      "INFO:tensorflow:2018-11-13 01:36:28.524776: 5, TAF1, 0.960232\n",
      "INFO:tensorflow:2018-11-13 01:36:28.538863: 6, Pol2-4H8, 0.875219\n",
      "INFO:tensorflow:2018-11-13 01:36:28.552706: 7, c-Myc, 0.942262\n",
      "INFO:tensorflow:2018-11-13 01:36:28.566486: 8, Rad21, 0.983328\n",
      "INFO:tensorflow:2018-11-13 01:36:28.580514: 9, Max, 0.899045\n",
      "INFO:tensorflow:2018-11-13 01:36:28.594553: 10, NRSF, 0.916546\n",
      "INFO:tensorflow:2018-11-13 01:36:28.608518: 11, GABP, 0.937990\n",
      "INFO:tensorflow:2018-11-13 01:36:28.622471: 12, EZH2, 0.686434\n",
      "INFO:tensorflow:2018-11-13 01:36:28.636384: 13, CEBPB, 0.711229\n",
      "INFO:tensorflow:2018-11-13 01:36:28.651010: 14, c-Jun, 0.798569\n",
      "INFO:tensorflow:2018-11-13 01:36:28.664851: 15, ZBTB33, 0.910449\n",
      "INFO:tensorflow:2018-11-13 01:36:28.678634: 16, USF2, 0.933756\n",
      "INFO:tensorflow:2018-11-13 01:36:28.692500: 17, USF-1, 0.833720\n",
      "INFO:tensorflow:2018-11-13 01:36:28.706443: 18, TBP, 0.892148\n",
      "INFO:tensorflow:2018-11-13 01:36:28.720717: 19, RFX5, 0.870248\n",
      "INFO:tensorflow:\n",
      "INFO:tensorflow:4000 0.22886588\n",
      "INFO:tensorflow:On validation\n"
     ]
    },
    {
     "name": "stderr",
     "output_type": "stream",
     "text": [
      "/data/jwhughes/tf_env/lib/python3.6/site-packages/ipykernel_launcher.py:119: DeprecationWarning: using a non-integer array as obj in delete will result in an error in the future\n",
      "/data/jwhughes/tf_env/lib/python3.6/site-packages/ipykernel_launcher.py:120: DeprecationWarning: using a non-integer array as obj in delete will result in an error in the future\n"
     ]
    },
    {
     "name": "stdout",
     "output_type": "stream",
     "text": [
      "INFO:tensorflow:Our macro AUC:     0.8731612965156513\n",
      "INFO:tensorflow:Our micro AUC:     0.9072195443285063\n",
      "INFO:tensorflow:2018-11-13 01:37:52.169268: 0, DNase, NaN\n",
      "INFO:tensorflow:2018-11-13 01:37:52.170411: 1, CTCF, 0.962222\n",
      "INFO:tensorflow:2018-11-13 01:37:52.184429: 2, Pol2, 0.887673\n",
      "INFO:tensorflow:2018-11-13 01:37:52.198572: 3, YY1, 0.901169\n",
      "INFO:tensorflow:2018-11-13 01:37:52.212534: 4, p300, 0.797769\n",
      "INFO:tensorflow:2018-11-13 01:37:52.226697: 5, TAF1, 0.965432\n",
      "INFO:tensorflow:2018-11-13 01:37:52.240845: 6, Pol2-4H8, 0.879230\n",
      "INFO:tensorflow:2018-11-13 01:37:52.255089: 7, c-Myc, 0.936143\n",
      "INFO:tensorflow:2018-11-13 01:37:52.268917: 8, Rad21, 0.960804\n",
      "INFO:tensorflow:2018-11-13 01:37:52.282890: 9, Max, 0.896032\n",
      "INFO:tensorflow:2018-11-13 01:37:52.296876: 10, NRSF, 0.897098\n",
      "INFO:tensorflow:2018-11-13 01:37:52.310840: 11, GABP, 0.920323\n",
      "INFO:tensorflow:2018-11-13 01:37:52.324696: 12, EZH2, 0.681425\n",
      "INFO:tensorflow:2018-11-13 01:37:52.338555: 13, CEBPB, 0.706505\n",
      "INFO:tensorflow:2018-11-13 01:37:52.352764: 14, c-Jun, 0.803253\n",
      "INFO:tensorflow:2018-11-13 01:37:52.366568: 15, ZBTB33, 0.895136\n",
      "INFO:tensorflow:2018-11-13 01:37:52.380466: 16, USF2, 0.863937\n",
      "INFO:tensorflow:2018-11-13 01:37:52.394301: 17, USF-1, 0.810542\n",
      "INFO:tensorflow:2018-11-13 01:37:52.408254: 18, TBP, 0.912344\n",
      "INFO:tensorflow:2018-11-13 01:37:52.422262: 19, RFX5, 0.913028\n",
      "INFO:tensorflow:\n",
      "INFO:tensorflow:5000 0.18614945\n",
      "INFO:tensorflow:On validation\n"
     ]
    },
    {
     "name": "stderr",
     "output_type": "stream",
     "text": [
      "/data/jwhughes/tf_env/lib/python3.6/site-packages/ipykernel_launcher.py:119: DeprecationWarning: using a non-integer array as obj in delete will result in an error in the future\n",
      "/data/jwhughes/tf_env/lib/python3.6/site-packages/ipykernel_launcher.py:120: DeprecationWarning: using a non-integer array as obj in delete will result in an error in the future\n"
     ]
    },
    {
     "name": "stdout",
     "output_type": "stream",
     "text": [
      "INFO:tensorflow:Our macro AUC:     0.9019379005520896\n",
      "INFO:tensorflow:Our micro AUC:     0.9409401587088556\n",
      "INFO:tensorflow:2018-11-13 01:39:14.335180: 0, DNase, NaN\n",
      "INFO:tensorflow:2018-11-13 01:39:14.336390: 1, CTCF, 0.973487\n",
      "INFO:tensorflow:2018-11-13 01:39:14.350870: 2, Pol2, 0.938871\n",
      "INFO:tensorflow:2018-11-13 01:39:14.364653: 3, YY1, 0.954222\n",
      "INFO:tensorflow:2018-11-13 01:39:14.378647: 4, p300, 0.863837\n",
      "INFO:tensorflow:2018-11-13 01:39:14.392294: 5, TAF1, 0.985144\n",
      "INFO:tensorflow:2018-11-13 01:39:14.406181: 6, Pol2-4H8, 0.941289\n",
      "INFO:tensorflow:2018-11-13 01:39:14.419815: 7, c-Myc, 0.946342\n",
      "INFO:tensorflow:2018-11-13 01:39:14.433329: 8, Rad21, 0.982340\n",
      "INFO:tensorflow:2018-11-13 01:39:14.447063: 9, Max, 0.923830\n",
      "INFO:tensorflow:2018-11-13 01:39:14.460705: 10, NRSF, 0.938187\n",
      "INFO:tensorflow:2018-11-13 01:39:14.474243: 11, GABP, 0.958172\n",
      "INFO:tensorflow:2018-11-13 01:39:14.487865: 12, EZH2, 0.754216\n",
      "INFO:tensorflow:2018-11-13 01:39:14.501348: 13, CEBPB, 0.717937\n",
      "INFO:tensorflow:2018-11-13 01:39:14.515129: 14, c-Jun, 0.759125\n",
      "INFO:tensorflow:2018-11-13 01:39:14.528748: 15, ZBTB33, 0.971175\n",
      "INFO:tensorflow:2018-11-13 01:39:14.542378: 16, USF2, 0.865982\n",
      "INFO:tensorflow:2018-11-13 01:39:14.555944: 17, USF-1, 0.847762\n",
      "INFO:tensorflow:2018-11-13 01:39:14.569522: 18, TBP, 0.945989\n",
      "INFO:tensorflow:2018-11-13 01:39:14.583264: 19, RFX5, 0.868912\n",
      "INFO:tensorflow:\n",
      "INFO:tensorflow:6000 0.26970276\n",
      "INFO:tensorflow:On validation\n"
     ]
    },
    {
     "name": "stderr",
     "output_type": "stream",
     "text": [
      "/data/jwhughes/tf_env/lib/python3.6/site-packages/ipykernel_launcher.py:119: DeprecationWarning: using a non-integer array as obj in delete will result in an error in the future\n",
      "/data/jwhughes/tf_env/lib/python3.6/site-packages/ipykernel_launcher.py:120: DeprecationWarning: using a non-integer array as obj in delete will result in an error in the future\n"
     ]
    },
    {
     "name": "stdout",
     "output_type": "stream",
     "text": [
      "INFO:tensorflow:Our macro AUC:     0.9083710626579313\n",
      "INFO:tensorflow:Our micro AUC:     0.9361918957005498\n",
      "INFO:tensorflow:2018-11-13 01:40:37.111387: 0, DNase, NaN\n",
      "INFO:tensorflow:2018-11-13 01:40:37.112779: 1, CTCF, 0.965727\n",
      "INFO:tensorflow:2018-11-13 01:40:37.127747: 2, Pol2, 0.946995\n",
      "INFO:tensorflow:2018-11-13 01:40:37.142098: 3, YY1, 0.951242\n",
      "INFO:tensorflow:2018-11-13 01:40:37.156421: 4, p300, 0.871195\n",
      "INFO:tensorflow:2018-11-13 01:40:37.171086: 5, TAF1, 0.976262\n",
      "INFO:tensorflow:2018-11-13 01:40:37.185383: 6, Pol2-4H8, 0.922501\n",
      "INFO:tensorflow:2018-11-13 01:40:37.199861: 7, c-Myc, 0.964607\n",
      "INFO:tensorflow:2018-11-13 01:40:37.214267: 8, Rad21, 0.975807\n",
      "INFO:tensorflow:2018-11-13 01:40:37.228883: 9, Max, 0.920059\n",
      "INFO:tensorflow:2018-11-13 01:40:37.243191: 10, NRSF, 0.953669\n",
      "INFO:tensorflow:2018-11-13 01:40:37.257569: 11, GABP, 0.964298\n",
      "INFO:tensorflow:2018-11-13 01:40:37.271626: 12, EZH2, 0.703496\n",
      "INFO:tensorflow:2018-11-13 01:40:37.285457: 13, CEBPB, 0.740707\n",
      "INFO:tensorflow:2018-11-13 01:40:37.300116: 14, c-Jun, 0.832856\n",
      "INFO:tensorflow:2018-11-13 01:40:37.314471: 15, ZBTB33, 0.941739\n",
      "INFO:tensorflow:2018-11-13 01:40:37.328908: 16, USF2, 0.915512\n",
      "INFO:tensorflow:2018-11-13 01:40:37.343418: 17, USF-1, 0.851943\n",
      "INFO:tensorflow:2018-11-13 01:40:37.357770: 18, TBP, 0.929695\n",
      "INFO:tensorflow:2018-11-13 01:40:37.372224: 19, RFX5, 0.930739\n",
      "INFO:tensorflow:\n",
      "INFO:tensorflow:7000 0.10045231\n",
      "INFO:tensorflow:On validation\n"
     ]
    },
    {
     "name": "stderr",
     "output_type": "stream",
     "text": [
      "/data/jwhughes/tf_env/lib/python3.6/site-packages/ipykernel_launcher.py:119: DeprecationWarning: using a non-integer array as obj in delete will result in an error in the future\n",
      "/data/jwhughes/tf_env/lib/python3.6/site-packages/ipykernel_launcher.py:120: DeprecationWarning: using a non-integer array as obj in delete will result in an error in the future\n"
     ]
    },
    {
     "name": "stdout",
     "output_type": "stream",
     "text": [
      "INFO:tensorflow:Our macro AUC:     0.8958588075761589\n",
      "INFO:tensorflow:Our micro AUC:     0.9269885231519494\n",
      "INFO:tensorflow:2018-11-13 01:41:58.695549: 0, DNase, NaN\n",
      "INFO:tensorflow:2018-11-13 01:41:58.696668: 1, CTCF, 0.978870\n",
      "INFO:tensorflow:2018-11-13 01:41:58.710481: 2, Pol2, 0.944371\n",
      "INFO:tensorflow:2018-11-13 01:41:58.723947: 3, YY1, 0.952562\n",
      "INFO:tensorflow:2018-11-13 01:41:58.737424: 4, p300, 0.843001\n",
      "INFO:tensorflow:2018-11-13 01:41:58.750997: 5, TAF1, 0.956740\n",
      "INFO:tensorflow:2018-11-13 01:41:58.764500: 6, Pol2-4H8, 0.916454\n",
      "INFO:tensorflow:2018-11-13 01:41:58.778178: 7, c-Myc, 0.958452\n",
      "INFO:tensorflow:2018-11-13 01:41:58.791614: 8, Rad21, 0.981479\n",
      "INFO:tensorflow:2018-11-13 01:41:58.805228: 9, Max, 0.916087\n",
      "INFO:tensorflow:2018-11-13 01:41:58.818826: 10, NRSF, 0.925021\n",
      "INFO:tensorflow:2018-11-13 01:41:58.832299: 11, GABP, 0.939677\n",
      "INFO:tensorflow:2018-11-13 01:41:58.845906: 12, EZH2, 0.711708\n",
      "INFO:tensorflow:2018-11-13 01:41:58.859438: 13, CEBPB, 0.741129\n",
      "INFO:tensorflow:2018-11-13 01:41:58.873288: 14, c-Jun, 0.859720\n",
      "INFO:tensorflow:2018-11-13 01:41:58.887462: 15, ZBTB33, 0.870868\n",
      "INFO:tensorflow:2018-11-13 01:41:58.902050: 16, USF2, 0.867189\n",
      "INFO:tensorflow:2018-11-13 01:41:58.915564: 17, USF-1, 0.842997\n",
      "INFO:tensorflow:2018-11-13 01:41:58.929483: 18, TBP, 0.928063\n",
      "INFO:tensorflow:2018-11-13 01:41:58.943251: 19, RFX5, 0.886930\n",
      "INFO:tensorflow:\n",
      "INFO:tensorflow:8000 0.43081027\n",
      "INFO:tensorflow:On validation\n"
     ]
    },
    {
     "name": "stderr",
     "output_type": "stream",
     "text": [
      "/data/jwhughes/tf_env/lib/python3.6/site-packages/ipykernel_launcher.py:119: DeprecationWarning: using a non-integer array as obj in delete will result in an error in the future\n",
      "/data/jwhughes/tf_env/lib/python3.6/site-packages/ipykernel_launcher.py:120: DeprecationWarning: using a non-integer array as obj in delete will result in an error in the future\n"
     ]
    },
    {
     "name": "stdout",
     "output_type": "stream",
     "text": [
      "INFO:tensorflow:Our macro AUC:     0.9078061688613258\n",
      "INFO:tensorflow:Our micro AUC:     0.9377368999573931\n",
      "INFO:tensorflow:2018-11-13 01:43:20.800803: 0, DNase, NaN\n",
      "INFO:tensorflow:2018-11-13 01:43:20.801943: 1, CTCF, 0.986256\n",
      "INFO:tensorflow:2018-11-13 01:43:20.816485: 2, Pol2, 0.904773\n",
      "INFO:tensorflow:2018-11-13 01:43:20.830407: 3, YY1, 0.946718\n",
      "INFO:tensorflow:2018-11-13 01:43:20.844219: 4, p300, 0.868950\n",
      "INFO:tensorflow:2018-11-13 01:43:20.858228: 5, TAF1, 0.969470\n",
      "INFO:tensorflow:2018-11-13 01:43:20.872218: 6, Pol2-4H8, 0.913197\n",
      "INFO:tensorflow:2018-11-13 01:43:20.886169: 7, c-Myc, 0.956635\n",
      "INFO:tensorflow:2018-11-13 01:43:20.900064: 8, Rad21, 0.990566\n",
      "INFO:tensorflow:2018-11-13 01:43:20.914097: 9, Max, 0.929387\n",
      "INFO:tensorflow:2018-11-13 01:43:20.928278: 10, NRSF, 0.927061\n",
      "INFO:tensorflow:2018-11-13 01:43:20.942203: 11, GABP, 0.933472\n",
      "INFO:tensorflow:2018-11-13 01:43:20.956047: 12, EZH2, 0.783218\n",
      "INFO:tensorflow:2018-11-13 01:43:20.969921: 13, CEBPB, 0.774793\n",
      "INFO:tensorflow:2018-11-13 01:43:20.984027: 14, c-Jun, 0.806325\n",
      "INFO:tensorflow:2018-11-13 01:43:20.998041: 15, ZBTB33, 0.933570\n",
      "INFO:tensorflow:2018-11-13 01:43:21.011959: 16, USF2, 0.911303\n",
      "INFO:tensorflow:2018-11-13 01:43:21.026004: 17, USF-1, 0.858267\n",
      "INFO:tensorflow:2018-11-13 01:43:21.040116: 18, TBP, 0.931219\n",
      "INFO:tensorflow:2018-11-13 01:43:21.054184: 19, RFX5, 0.923137\n",
      "INFO:tensorflow:\n",
      "INFO:tensorflow:9000 0.1440856\n",
      "INFO:tensorflow:On validation\n"
     ]
    },
    {
     "name": "stderr",
     "output_type": "stream",
     "text": [
      "/data/jwhughes/tf_env/lib/python3.6/site-packages/ipykernel_launcher.py:119: DeprecationWarning: using a non-integer array as obj in delete will result in an error in the future\n",
      "/data/jwhughes/tf_env/lib/python3.6/site-packages/ipykernel_launcher.py:120: DeprecationWarning: using a non-integer array as obj in delete will result in an error in the future\n"
     ]
    },
    {
     "name": "stdout",
     "output_type": "stream",
     "text": [
      "INFO:tensorflow:Our macro AUC:     0.906123694803719\n",
      "INFO:tensorflow:Our micro AUC:     0.9363131902034412\n",
      "INFO:tensorflow:2018-11-13 01:44:43.169913: 0, DNase, NaN\n",
      "INFO:tensorflow:2018-11-13 01:44:43.171009: 1, CTCF, 0.974966\n",
      "INFO:tensorflow:2018-11-13 01:44:43.184965: 2, Pol2, 0.953030\n",
      "INFO:tensorflow:2018-11-13 01:44:43.198531: 3, YY1, 0.937196\n",
      "INFO:tensorflow:2018-11-13 01:44:43.212023: 4, p300, 0.872461\n",
      "INFO:tensorflow:2018-11-13 01:44:43.225851: 5, TAF1, 0.967701\n",
      "INFO:tensorflow:2018-11-13 01:44:43.239414: 6, Pol2-4H8, 0.908711\n",
      "INFO:tensorflow:2018-11-13 01:44:43.253180: 7, c-Myc, 0.943062\n",
      "INFO:tensorflow:2018-11-13 01:44:43.266691: 8, Rad21, 0.986096\n",
      "INFO:tensorflow:2018-11-13 01:44:43.280300: 9, Max, 0.923552\n",
      "INFO:tensorflow:2018-11-13 01:44:43.294176: 10, NRSF, 0.923940\n",
      "INFO:tensorflow:2018-11-13 01:44:43.307843: 11, GABP, 0.920335\n",
      "INFO:tensorflow:2018-11-13 01:44:43.321586: 12, EZH2, 0.823120\n",
      "INFO:tensorflow:2018-11-13 01:44:43.335306: 13, CEBPB, 0.755001\n",
      "INFO:tensorflow:2018-11-13 01:44:43.349340: 14, c-Jun, 0.779469\n",
      "INFO:tensorflow:2018-11-13 01:44:43.362838: 15, ZBTB33, 0.909751\n",
      "INFO:tensorflow:2018-11-13 01:44:43.376719: 16, USF2, 0.937468\n",
      "INFO:tensorflow:2018-11-13 01:44:43.390407: 17, USF-1, 0.858119\n",
      "INFO:tensorflow:2018-11-13 01:44:43.404219: 18, TBP, 0.916375\n",
      "INFO:tensorflow:2018-11-13 01:44:43.418022: 19, RFX5, 0.925999\n",
      "INFO:tensorflow:\n",
      "INFO:tensorflow:10000 0.20201634\n",
      "INFO:tensorflow:On validation\n"
     ]
    },
    {
     "name": "stderr",
     "output_type": "stream",
     "text": [
      "/data/jwhughes/tf_env/lib/python3.6/site-packages/ipykernel_launcher.py:119: DeprecationWarning: using a non-integer array as obj in delete will result in an error in the future\n",
      "/data/jwhughes/tf_env/lib/python3.6/site-packages/ipykernel_launcher.py:120: DeprecationWarning: using a non-integer array as obj in delete will result in an error in the future\n"
     ]
    },
    {
     "name": "stdout",
     "output_type": "stream",
     "text": [
      "INFO:tensorflow:Our macro AUC:     0.9027392869311299\n",
      "INFO:tensorflow:Our micro AUC:     0.9296538732002553\n",
      "INFO:tensorflow:2018-11-13 01:46:09.021411: 0, DNase, NaN\n",
      "INFO:tensorflow:2018-11-13 01:46:09.022722: 1, CTCF, 0.975351\n",
      "INFO:tensorflow:2018-11-13 01:46:09.037378: 2, Pol2, 0.940211\n",
      "INFO:tensorflow:2018-11-13 01:46:09.051124: 3, YY1, 0.955439\n",
      "INFO:tensorflow:2018-11-13 01:46:09.064796: 4, p300, 0.873347\n",
      "INFO:tensorflow:2018-11-13 01:46:09.078593: 5, TAF1, 0.953778\n",
      "INFO:tensorflow:2018-11-13 01:46:09.092441: 6, Pol2-4H8, 0.894720\n",
      "INFO:tensorflow:2018-11-13 01:46:09.106226: 7, c-Myc, 0.943173\n",
      "INFO:tensorflow:2018-11-13 01:46:09.120155: 8, Rad21, 0.984284\n",
      "INFO:tensorflow:2018-11-13 01:46:09.133899: 9, Max, 0.907166\n",
      "INFO:tensorflow:2018-11-13 01:46:09.147648: 10, NRSF, 0.915525\n",
      "INFO:tensorflow:2018-11-13 01:46:09.161297: 11, GABP, 0.921826\n",
      "INFO:tensorflow:2018-11-13 01:46:09.174957: 12, EZH2, 0.770591\n",
      "INFO:tensorflow:2018-11-13 01:46:09.188644: 13, CEBPB, 0.782195\n",
      "INFO:tensorflow:2018-11-13 01:46:09.202525: 14, c-Jun, 0.849880\n",
      "INFO:tensorflow:2018-11-13 01:46:09.216224: 15, ZBTB33, 0.904851\n",
      "INFO:tensorflow:2018-11-13 01:46:09.230077: 16, USF2, 0.903886\n",
      "INFO:tensorflow:2018-11-13 01:46:09.243810: 17, USF-1, 0.843793\n",
      "INFO:tensorflow:2018-11-13 01:46:09.257431: 18, TBP, 0.925134\n",
      "INFO:tensorflow:2018-11-13 01:46:09.271167: 19, RFX5, 0.906898\n",
      "INFO:tensorflow:\n",
      "INFO:tensorflow:11000 0.4808825\n",
      "INFO:tensorflow:On validation\n"
     ]
    },
    {
     "name": "stderr",
     "output_type": "stream",
     "text": [
      "/data/jwhughes/tf_env/lib/python3.6/site-packages/ipykernel_launcher.py:119: DeprecationWarning: using a non-integer array as obj in delete will result in an error in the future\n",
      "/data/jwhughes/tf_env/lib/python3.6/site-packages/ipykernel_launcher.py:120: DeprecationWarning: using a non-integer array as obj in delete will result in an error in the future\n"
     ]
    },
    {
     "name": "stdout",
     "output_type": "stream",
     "text": [
      "INFO:tensorflow:Our macro AUC:     0.8721980285854635\n",
      "INFO:tensorflow:Our micro AUC:     0.9027771081619309\n",
      "INFO:tensorflow:2018-11-13 01:47:34.235067: 0, DNase, NaN\n",
      "INFO:tensorflow:2018-11-13 01:47:34.236400: 1, CTCF, 0.967493\n",
      "INFO:tensorflow:2018-11-13 01:47:34.250316: 2, Pol2, 0.869294\n",
      "INFO:tensorflow:2018-11-13 01:47:34.264093: 3, YY1, 0.924946\n",
      "INFO:tensorflow:2018-11-13 01:47:34.277966: 4, p300, 0.864239\n",
      "INFO:tensorflow:2018-11-13 01:47:34.292060: 5, TAF1, 0.945451\n",
      "INFO:tensorflow:2018-11-13 01:47:34.305878: 6, Pol2-4H8, 0.860291\n",
      "INFO:tensorflow:2018-11-13 01:47:34.319719: 7, c-Myc, 0.934287\n",
      "INFO:tensorflow:2018-11-13 01:47:34.333464: 8, Rad21, 0.961333\n",
      "INFO:tensorflow:2018-11-13 01:47:34.347181: 9, Max, 0.893479\n",
      "INFO:tensorflow:2018-11-13 01:47:34.361116: 10, NRSF, 0.916993\n",
      "INFO:tensorflow:2018-11-13 01:47:34.374863: 11, GABP, 0.912414\n",
      "INFO:tensorflow:2018-11-13 01:47:34.388681: 12, EZH2, 0.683248\n",
      "INFO:tensorflow:2018-11-13 01:47:34.402466: 13, CEBPB, 0.747622\n",
      "INFO:tensorflow:2018-11-13 01:47:34.417261: 14, c-Jun, 0.821665\n",
      "INFO:tensorflow:2018-11-13 01:47:34.431337: 15, ZBTB33, 0.827729\n",
      "INFO:tensorflow:2018-11-13 01:47:34.444920: 16, USF2, 0.859364\n",
      "INFO:tensorflow:2018-11-13 01:47:34.458567: 17, USF-1, 0.831794\n",
      "INFO:tensorflow:2018-11-13 01:47:34.472460: 18, TBP, 0.893772\n",
      "INFO:tensorflow:2018-11-13 01:47:34.486340: 19, RFX5, 0.856350\n",
      "INFO:tensorflow:\n",
      "INFO:tensorflow:12000 0.10339277\n",
      "INFO:tensorflow:On validation\n"
     ]
    },
    {
     "name": "stderr",
     "output_type": "stream",
     "text": [
      "/data/jwhughes/tf_env/lib/python3.6/site-packages/ipykernel_launcher.py:119: DeprecationWarning: using a non-integer array as obj in delete will result in an error in the future\n",
      "/data/jwhughes/tf_env/lib/python3.6/site-packages/ipykernel_launcher.py:120: DeprecationWarning: using a non-integer array as obj in delete will result in an error in the future\n"
     ]
    },
    {
     "name": "stdout",
     "output_type": "stream",
     "text": [
      "INFO:tensorflow:Our macro AUC:     0.8922294124957794\n",
      "INFO:tensorflow:Our micro AUC:     0.9202075853756482\n",
      "INFO:tensorflow:2018-11-13 01:48:59.720017: 0, DNase, NaN\n",
      "INFO:tensorflow:2018-11-13 01:48:59.721128: 1, CTCF, 0.972767\n",
      "INFO:tensorflow:2018-11-13 01:48:59.735311: 2, Pol2, 0.928513\n",
      "INFO:tensorflow:2018-11-13 01:48:59.748826: 3, YY1, 0.923622\n",
      "INFO:tensorflow:2018-11-13 01:48:59.762486: 4, p300, 0.868926\n",
      "INFO:tensorflow:2018-11-13 01:48:59.776374: 5, TAF1, 0.960106\n",
      "INFO:tensorflow:2018-11-13 01:48:59.790184: 6, Pol2-4H8, 0.859468\n",
      "INFO:tensorflow:2018-11-13 01:48:59.803955: 7, c-Myc, 0.931942\n",
      "INFO:tensorflow:2018-11-13 01:48:59.818360: 8, Rad21, 0.977320\n",
      "INFO:tensorflow:2018-11-13 01:48:59.832142: 9, Max, 0.914287\n",
      "INFO:tensorflow:2018-11-13 01:48:59.845847: 10, NRSF, 0.906610\n",
      "INFO:tensorflow:2018-11-13 01:48:59.859568: 11, GABP, 0.921421\n",
      "INFO:tensorflow:2018-11-13 01:48:59.873091: 12, EZH2, 0.772852\n",
      "INFO:tensorflow:2018-11-13 01:48:59.886674: 13, CEBPB, 0.709094\n",
      "INFO:tensorflow:2018-11-13 01:48:59.900606: 14, c-Jun, 0.795102\n",
      "INFO:tensorflow:2018-11-13 01:48:59.914299: 15, ZBTB33, 0.903694\n",
      "INFO:tensorflow:2018-11-13 01:48:59.928068: 16, USF2, 0.908490\n",
      "INFO:tensorflow:2018-11-13 01:48:59.941566: 17, USF-1, 0.837300\n",
      "INFO:tensorflow:2018-11-13 01:48:59.955152: 18, TBP, 0.904839\n",
      "INFO:tensorflow:2018-11-13 01:48:59.969052: 19, RFX5, 0.956005\n",
      "INFO:tensorflow:\n",
      "INFO:tensorflow:13000 1.5984809\n",
      "INFO:tensorflow:On validation\n"
     ]
    },
    {
     "name": "stderr",
     "output_type": "stream",
     "text": [
      "/data/jwhughes/tf_env/lib/python3.6/site-packages/ipykernel_launcher.py:119: DeprecationWarning: using a non-integer array as obj in delete will result in an error in the future\n",
      "/data/jwhughes/tf_env/lib/python3.6/site-packages/ipykernel_launcher.py:120: DeprecationWarning: using a non-integer array as obj in delete will result in an error in the future\n"
     ]
    },
    {
     "name": "stdout",
     "output_type": "stream",
     "text": [
      "INFO:tensorflow:Our macro AUC:     0.888827997862753\n",
      "INFO:tensorflow:Our micro AUC:     0.916533102190145\n",
      "INFO:tensorflow:2018-11-13 01:50:25.445850: 0, DNase, NaN\n",
      "INFO:tensorflow:2018-11-13 01:50:25.446971: 1, CTCF, 0.965249\n",
      "INFO:tensorflow:2018-11-13 01:50:25.461359: 2, Pol2, 0.854486\n",
      "INFO:tensorflow:2018-11-13 01:50:25.475424: 3, YY1, 0.923929\n",
      "INFO:tensorflow:2018-11-13 01:50:25.489303: 4, p300, 0.876929\n",
      "INFO:tensorflow:2018-11-13 01:50:25.503389: 5, TAF1, 0.958436\n",
      "INFO:tensorflow:2018-11-13 01:50:25.517323: 6, Pol2-4H8, 0.893983\n",
      "INFO:tensorflow:2018-11-13 01:50:25.531453: 7, c-Myc, 0.940768\n",
      "INFO:tensorflow:2018-11-13 01:50:25.545398: 8, Rad21, 0.981000\n",
      "INFO:tensorflow:2018-11-13 01:50:25.559421: 9, Max, 0.906786\n",
      "INFO:tensorflow:2018-11-13 01:50:25.573505: 10, NRSF, 0.916865\n",
      "INFO:tensorflow:2018-11-13 01:50:25.587403: 11, GABP, 0.948504\n",
      "INFO:tensorflow:2018-11-13 01:50:25.601297: 12, EZH2, 0.665302\n",
      "INFO:tensorflow:2018-11-13 01:50:25.615106: 13, CEBPB, 0.735325\n",
      "INFO:tensorflow:2018-11-13 01:50:25.629228: 14, c-Jun, 0.846451\n",
      "INFO:tensorflow:2018-11-13 01:50:25.643080: 15, ZBTB33, 0.885988\n",
      "INFO:tensorflow:2018-11-13 01:50:25.657101: 16, USF2, 0.923588\n",
      "INFO:tensorflow:2018-11-13 01:50:25.671099: 17, USF-1, 0.838929\n",
      "INFO:tensorflow:2018-11-13 01:50:25.685144: 18, TBP, 0.891770\n",
      "INFO:tensorflow:2018-11-13 01:50:25.699160: 19, RFX5, 0.933445\n",
      "INFO:tensorflow:\n",
      "INFO:tensorflow:14000 0.15317066\n",
      "INFO:tensorflow:On validation\n"
     ]
    },
    {
     "name": "stderr",
     "output_type": "stream",
     "text": [
      "/data/jwhughes/tf_env/lib/python3.6/site-packages/ipykernel_launcher.py:119: DeprecationWarning: using a non-integer array as obj in delete will result in an error in the future\n",
      "/data/jwhughes/tf_env/lib/python3.6/site-packages/ipykernel_launcher.py:120: DeprecationWarning: using a non-integer array as obj in delete will result in an error in the future\n"
     ]
    },
    {
     "name": "stdout",
     "output_type": "stream",
     "text": [
      "INFO:tensorflow:Our macro AUC:     0.8952706123747359\n",
      "INFO:tensorflow:Our micro AUC:     0.9262582601831012\n",
      "INFO:tensorflow:2018-11-13 01:51:50.840517: 0, DNase, NaN\n",
      "INFO:tensorflow:2018-11-13 01:51:50.841757: 1, CTCF, 0.961588\n",
      "INFO:tensorflow:2018-11-13 01:51:50.856250: 2, Pol2, 0.864419\n",
      "INFO:tensorflow:2018-11-13 01:51:50.869967: 3, YY1, 0.935953\n",
      "INFO:tensorflow:2018-11-13 01:51:50.883949: 4, p300, 0.878605\n",
      "INFO:tensorflow:2018-11-13 01:51:50.897919: 5, TAF1, 0.969853\n",
      "INFO:tensorflow:2018-11-13 01:51:50.912046: 6, Pol2-4H8, 0.894009\n",
      "INFO:tensorflow:2018-11-13 01:51:50.925844: 7, c-Myc, 0.965143\n",
      "INFO:tensorflow:2018-11-13 01:51:50.939534: 8, Rad21, 0.968506\n",
      "INFO:tensorflow:2018-11-13 01:51:50.953507: 9, Max, 0.919041\n",
      "INFO:tensorflow:2018-11-13 01:51:50.967503: 10, NRSF, 0.926128\n",
      "INFO:tensorflow:2018-11-13 01:51:50.981177: 11, GABP, 0.946427\n",
      "INFO:tensorflow:2018-11-13 01:51:50.995012: 12, EZH2, 0.772390\n",
      "INFO:tensorflow:2018-11-13 01:51:51.008840: 13, CEBPB, 0.709938\n",
      "INFO:tensorflow:2018-11-13 01:51:51.022992: 14, c-Jun, 0.781586\n",
      "INFO:tensorflow:2018-11-13 01:51:51.036724: 15, ZBTB33, 0.866705\n",
      "INFO:tensorflow:2018-11-13 01:51:51.050591: 16, USF2, 0.885420\n",
      "INFO:tensorflow:2018-11-13 01:51:51.064248: 17, USF-1, 0.868163\n",
      "INFO:tensorflow:2018-11-13 01:51:51.078233: 18, TBP, 0.944424\n",
      "INFO:tensorflow:2018-11-13 01:51:51.092195: 19, RFX5, 0.951842\n",
      "INFO:tensorflow:\n",
      "INFO:tensorflow:15000 0.25841463\n",
      "INFO:tensorflow:On validation\n"
     ]
    },
    {
     "name": "stderr",
     "output_type": "stream",
     "text": [
      "/data/jwhughes/tf_env/lib/python3.6/site-packages/ipykernel_launcher.py:119: DeprecationWarning: using a non-integer array as obj in delete will result in an error in the future\n",
      "/data/jwhughes/tf_env/lib/python3.6/site-packages/ipykernel_launcher.py:120: DeprecationWarning: using a non-integer array as obj in delete will result in an error in the future\n"
     ]
    },
    {
     "name": "stdout",
     "output_type": "stream",
     "text": [
      "INFO:tensorflow:Our macro AUC:     0.9015094235718866\n",
      "INFO:tensorflow:Our micro AUC:     0.9378894106183542\n",
      "INFO:tensorflow:2018-11-13 01:53:15.651616: 0, DNase, NaN\n",
      "INFO:tensorflow:2018-11-13 01:53:15.652794: 1, CTCF, 0.987770\n",
      "INFO:tensorflow:2018-11-13 01:53:15.666867: 2, Pol2, 0.942891\n",
      "INFO:tensorflow:2018-11-13 01:53:15.680419: 3, YY1, 0.951214\n",
      "INFO:tensorflow:2018-11-13 01:53:15.694053: 4, p300, 0.850033\n",
      "INFO:tensorflow:2018-11-13 01:53:15.707912: 5, TAF1, 0.972872\n",
      "INFO:tensorflow:2018-11-13 01:53:15.721510: 6, Pol2-4H8, 0.933598\n",
      "INFO:tensorflow:2018-11-13 01:53:15.735229: 7, c-Myc, 0.970173\n",
      "INFO:tensorflow:2018-11-13 01:53:15.749035: 8, Rad21, 0.981409\n",
      "INFO:tensorflow:2018-11-13 01:53:15.762823: 9, Max, 0.932143\n",
      "INFO:tensorflow:2018-11-13 01:53:15.776543: 10, NRSF, 0.935754\n",
      "INFO:tensorflow:2018-11-13 01:53:15.790151: 11, GABP, 0.931280\n",
      "INFO:tensorflow:2018-11-13 01:53:15.803697: 12, EZH2, 0.938921\n",
      "INFO:tensorflow:2018-11-13 01:53:15.817250: 13, CEBPB, 0.711650\n",
      "INFO:tensorflow:2018-11-13 01:53:15.831169: 14, c-Jun, 0.736385\n",
      "INFO:tensorflow:2018-11-13 01:53:15.844863: 15, ZBTB33, 0.895444\n",
      "INFO:tensorflow:2018-11-13 01:53:15.858523: 16, USF2, 0.921524\n",
      "INFO:tensorflow:2018-11-13 01:53:15.872269: 17, USF-1, 0.845588\n",
      "INFO:tensorflow:2018-11-13 01:53:15.886183: 18, TBP, 0.941574\n",
      "INFO:tensorflow:2018-11-13 01:53:15.899948: 19, RFX5, 0.748455\n",
      "INFO:tensorflow:\n",
      "INFO:tensorflow:16000 0.082997344\n",
      "INFO:tensorflow:On validation\n"
     ]
    },
    {
     "name": "stderr",
     "output_type": "stream",
     "text": [
      "/data/jwhughes/tf_env/lib/python3.6/site-packages/ipykernel_launcher.py:119: DeprecationWarning: using a non-integer array as obj in delete will result in an error in the future\n",
      "/data/jwhughes/tf_env/lib/python3.6/site-packages/ipykernel_launcher.py:120: DeprecationWarning: using a non-integer array as obj in delete will result in an error in the future\n"
     ]
    },
    {
     "name": "stdout",
     "output_type": "stream",
     "text": [
      "INFO:tensorflow:Our macro AUC:     0.9051225796547913\n",
      "INFO:tensorflow:Our micro AUC:     0.9313759493019715\n",
      "INFO:tensorflow:2018-11-13 01:54:41.081335: 0, DNase, NaN\n",
      "INFO:tensorflow:2018-11-13 01:54:41.082457: 1, CTCF, 0.978689\n",
      "INFO:tensorflow:2018-11-13 01:54:41.096833: 2, Pol2, 0.923448\n",
      "INFO:tensorflow:2018-11-13 01:54:41.110685: 3, YY1, 0.935632\n",
      "INFO:tensorflow:2018-11-13 01:54:41.124513: 4, p300, 0.861683\n",
      "INFO:tensorflow:2018-11-13 01:54:41.138827: 5, TAF1, 0.984332\n",
      "INFO:tensorflow:2018-11-13 01:54:41.152436: 6, Pol2-4H8, 0.926811\n",
      "INFO:tensorflow:2018-11-13 01:54:41.165987: 7, c-Myc, 0.949033\n",
      "INFO:tensorflow:2018-11-13 01:54:41.179912: 8, Rad21, 0.980166\n",
      "INFO:tensorflow:2018-11-13 01:54:41.193728: 9, Max, 0.937816\n",
      "INFO:tensorflow:2018-11-13 01:54:41.207689: 10, NRSF, 0.942454\n",
      "INFO:tensorflow:2018-11-13 01:54:41.221410: 11, GABP, 0.945212\n",
      "INFO:tensorflow:2018-11-13 01:54:41.235269: 12, EZH2, 0.810349\n",
      "INFO:tensorflow:2018-11-13 01:54:41.248900: 13, CEBPB, 0.719155\n",
      "INFO:tensorflow:2018-11-13 01:54:41.262999: 14, c-Jun, 0.724019\n",
      "INFO:tensorflow:2018-11-13 01:54:41.276965: 15, ZBTB33, 0.932362\n",
      "INFO:tensorflow:2018-11-13 01:54:41.291958: 16, USF2, 0.958767\n",
      "INFO:tensorflow:2018-11-13 01:54:41.306220: 17, USF-1, 0.855126\n",
      "INFO:tensorflow:2018-11-13 01:54:41.320931: 18, TBP, 0.951837\n",
      "INFO:tensorflow:2018-11-13 01:54:41.335753: 19, RFX5, 0.880438\n",
      "INFO:tensorflow:\n",
      "INFO:tensorflow:17000 0.27826253\n",
      "INFO:tensorflow:On validation\n"
     ]
    },
    {
     "name": "stderr",
     "output_type": "stream",
     "text": [
      "/data/jwhughes/tf_env/lib/python3.6/site-packages/ipykernel_launcher.py:119: DeprecationWarning: using a non-integer array as obj in delete will result in an error in the future\n",
      "/data/jwhughes/tf_env/lib/python3.6/site-packages/ipykernel_launcher.py:120: DeprecationWarning: using a non-integer array as obj in delete will result in an error in the future\n"
     ]
    },
    {
     "name": "stdout",
     "output_type": "stream",
     "text": [
      "INFO:tensorflow:Our macro AUC:     0.8699062725845451\n",
      "INFO:tensorflow:Our micro AUC:     0.9136329323267975\n",
      "INFO:tensorflow:2018-11-13 01:56:06.786956: 0, DNase, NaN\n",
      "INFO:tensorflow:2018-11-13 01:56:06.787927: 1, CTCF, 0.981358\n",
      "INFO:tensorflow:2018-11-13 01:56:06.802074: 2, Pol2, 0.886670\n",
      "INFO:tensorflow:2018-11-13 01:56:06.816397: 3, YY1, 0.929061\n",
      "INFO:tensorflow:2018-11-13 01:56:06.830016: 4, p300, 0.828991\n",
      "INFO:tensorflow:2018-11-13 01:56:06.843612: 5, TAF1, 0.954070\n",
      "INFO:tensorflow:2018-11-13 01:56:06.857110: 6, Pol2-4H8, 0.874785\n",
      "INFO:tensorflow:2018-11-13 01:56:06.870658: 7, c-Myc, 0.901344\n",
      "INFO:tensorflow:2018-11-13 01:56:06.884080: 8, Rad21, 0.973568\n",
      "INFO:tensorflow:2018-11-13 01:56:06.897645: 9, Max, 0.875279\n",
      "INFO:tensorflow:2018-11-13 01:56:06.911166: 10, NRSF, 0.888932\n",
      "INFO:tensorflow:2018-11-13 01:56:06.924551: 11, GABP, 0.923788\n",
      "INFO:tensorflow:2018-11-13 01:56:06.938031: 12, EZH2, 0.841566\n",
      "INFO:tensorflow:2018-11-13 01:56:06.951541: 13, CEBPB, 0.692498\n",
      "INFO:tensorflow:2018-11-13 01:56:06.965318: 14, c-Jun, 0.791581\n",
      "INFO:tensorflow:2018-11-13 01:56:06.978781: 15, ZBTB33, 0.846470\n",
      "INFO:tensorflow:2018-11-13 01:56:06.992363: 16, USF2, 0.782987\n",
      "INFO:tensorflow:2018-11-13 01:56:07.005970: 17, USF-1, 0.816777\n",
      "INFO:tensorflow:2018-11-13 01:56:07.019515: 18, TBP, 0.882745\n",
      "INFO:tensorflow:2018-11-13 01:56:07.033054: 19, RFX5, 0.855750\n",
      "INFO:tensorflow:\n",
      "INFO:tensorflow:18000 0.17391428\n",
      "INFO:tensorflow:On validation\n"
     ]
    },
    {
     "name": "stderr",
     "output_type": "stream",
     "text": [
      "/data/jwhughes/tf_env/lib/python3.6/site-packages/ipykernel_launcher.py:119: DeprecationWarning: using a non-integer array as obj in delete will result in an error in the future\n",
      "/data/jwhughes/tf_env/lib/python3.6/site-packages/ipykernel_launcher.py:120: DeprecationWarning: using a non-integer array as obj in delete will result in an error in the future\n"
     ]
    },
    {
     "name": "stdout",
     "output_type": "stream",
     "text": [
      "INFO:tensorflow:Our macro AUC:     0.8717155998426329\n",
      "INFO:tensorflow:Our micro AUC:     0.9087559749300766\n",
      "INFO:tensorflow:2018-11-13 01:57:31.532489: 0, DNase, NaN\n",
      "INFO:tensorflow:2018-11-13 01:57:31.533667: 1, CTCF, 0.972523\n",
      "INFO:tensorflow:2018-11-13 01:57:31.547816: 2, Pol2, 0.877690\n",
      "INFO:tensorflow:2018-11-13 01:57:31.561701: 3, YY1, 0.940911\n",
      "INFO:tensorflow:2018-11-13 01:57:31.575490: 4, p300, 0.826068\n",
      "INFO:tensorflow:2018-11-13 01:57:31.589460: 5, TAF1, 0.960531\n",
      "INFO:tensorflow:2018-11-13 01:57:31.603536: 6, Pol2-4H8, 0.855927\n",
      "INFO:tensorflow:2018-11-13 01:57:31.617472: 7, c-Myc, 0.934268\n",
      "INFO:tensorflow:2018-11-13 01:57:31.631383: 8, Rad21, 0.975866\n",
      "INFO:tensorflow:2018-11-13 01:57:31.645302: 9, Max, 0.879468\n",
      "INFO:tensorflow:2018-11-13 01:57:31.659219: 10, NRSF, 0.895099\n",
      "INFO:tensorflow:2018-11-13 01:57:31.673094: 11, GABP, 0.926146\n",
      "INFO:tensorflow:2018-11-13 01:57:31.686967: 12, EZH2, 0.766138\n",
      "INFO:tensorflow:2018-11-13 01:57:31.700780: 13, CEBPB, 0.696006\n",
      "INFO:tensorflow:2018-11-13 01:57:31.715173: 14, c-Jun, 0.742114\n",
      "INFO:tensorflow:2018-11-13 01:57:31.729107: 15, ZBTB33, 0.804025\n",
      "INFO:tensorflow:2018-11-13 01:57:31.742944: 16, USF2, 0.929996\n",
      "INFO:tensorflow:2018-11-13 01:57:31.756881: 17, USF-1, 0.820141\n",
      "INFO:tensorflow:2018-11-13 01:57:31.770917: 18, TBP, 0.918355\n",
      "INFO:tensorflow:2018-11-13 01:57:31.784819: 19, RFX5, 0.841327\n",
      "INFO:tensorflow:\n",
      "INFO:tensorflow:19000 0.14803334\n",
      "INFO:tensorflow:On validation\n"
     ]
    },
    {
     "name": "stderr",
     "output_type": "stream",
     "text": [
      "/data/jwhughes/tf_env/lib/python3.6/site-packages/ipykernel_launcher.py:119: DeprecationWarning: using a non-integer array as obj in delete will result in an error in the future\n",
      "/data/jwhughes/tf_env/lib/python3.6/site-packages/ipykernel_launcher.py:120: DeprecationWarning: using a non-integer array as obj in delete will result in an error in the future\n"
     ]
    },
    {
     "name": "stdout",
     "output_type": "stream",
     "text": [
      "INFO:tensorflow:Our macro AUC:     0.8676729467955144\n",
      "INFO:tensorflow:Our micro AUC:     0.8974237734851236\n",
      "INFO:tensorflow:2018-11-13 01:58:57.332782: 0, DNase, NaN\n",
      "INFO:tensorflow:2018-11-13 01:58:57.334336: 1, CTCF, 0.965995\n",
      "INFO:tensorflow:2018-11-13 01:58:57.348883: 2, Pol2, 0.916312\n",
      "INFO:tensorflow:2018-11-13 01:58:57.362898: 3, YY1, 0.909995\n",
      "INFO:tensorflow:2018-11-13 01:58:57.377100: 4, p300, 0.876882\n",
      "INFO:tensorflow:2018-11-13 01:58:57.391318: 5, TAF1, 0.932663\n",
      "INFO:tensorflow:2018-11-13 01:58:57.405368: 6, Pol2-4H8, 0.913593\n",
      "INFO:tensorflow:2018-11-13 01:58:57.419403: 7, c-Myc, 0.936128\n",
      "INFO:tensorflow:2018-11-13 01:58:57.433340: 8, Rad21, 0.972299\n",
      "INFO:tensorflow:2018-11-13 01:58:57.447449: 9, Max, 0.888417\n",
      "INFO:tensorflow:2018-11-13 01:58:57.461783: 10, NRSF, 0.935972\n",
      "INFO:tensorflow:2018-11-13 01:58:57.475821: 11, GABP, 0.898381\n",
      "INFO:tensorflow:2018-11-13 01:58:57.489816: 12, EZH2, 0.588837\n",
      "INFO:tensorflow:2018-11-13 01:58:57.503957: 13, CEBPB, 0.728390\n",
      "INFO:tensorflow:2018-11-13 01:58:57.518207: 14, c-Jun, 0.800912\n",
      "INFO:tensorflow:2018-11-13 01:58:57.532312: 15, ZBTB33, 0.769128\n",
      "INFO:tensorflow:2018-11-13 01:58:57.546519: 16, USF2, 0.859212\n",
      "INFO:tensorflow:2018-11-13 01:58:57.560474: 17, USF-1, 0.807683\n",
      "INFO:tensorflow:2018-11-13 01:58:57.574655: 18, TBP, 0.927461\n",
      "INFO:tensorflow:2018-11-13 01:58:57.588848: 19, RFX5, 0.857528\n",
      "INFO:tensorflow:\n",
      "INFO:tensorflow:20000 0.15689339\n",
      "INFO:tensorflow:On validation\n"
     ]
    },
    {
     "name": "stderr",
     "output_type": "stream",
     "text": [
      "/data/jwhughes/tf_env/lib/python3.6/site-packages/ipykernel_launcher.py:119: DeprecationWarning: using a non-integer array as obj in delete will result in an error in the future\n",
      "/data/jwhughes/tf_env/lib/python3.6/site-packages/ipykernel_launcher.py:120: DeprecationWarning: using a non-integer array as obj in delete will result in an error in the future\n"
     ]
    },
    {
     "name": "stdout",
     "output_type": "stream",
     "text": [
      "INFO:tensorflow:Our macro AUC:     0.8893825739447166\n",
      "INFO:tensorflow:Our micro AUC:     0.9190398402975323\n",
      "INFO:tensorflow:2018-11-13 02:00:22.319154: 0, DNase, NaN\n",
      "INFO:tensorflow:2018-11-13 02:00:22.320300: 1, CTCF, 0.977142\n",
      "INFO:tensorflow:2018-11-13 02:00:22.334172: 2, Pol2, 0.911824\n",
      "INFO:tensorflow:2018-11-13 02:00:22.347835: 3, YY1, 0.938203\n",
      "INFO:tensorflow:2018-11-13 02:00:22.361238: 4, p300, 0.831461\n",
      "INFO:tensorflow:2018-11-13 02:00:22.374629: 5, TAF1, 0.955500\n",
      "INFO:tensorflow:2018-11-13 02:00:22.387939: 6, Pol2-4H8, 0.886088\n",
      "INFO:tensorflow:2018-11-13 02:00:22.401562: 7, c-Myc, 0.954183\n",
      "INFO:tensorflow:2018-11-13 02:00:22.415256: 8, Rad21, 0.978277\n",
      "INFO:tensorflow:2018-11-13 02:00:22.428757: 9, Max, 0.909886\n",
      "INFO:tensorflow:2018-11-13 02:00:22.442213: 10, NRSF, 0.870160\n",
      "INFO:tensorflow:2018-11-13 02:00:22.455675: 11, GABP, 0.908705\n",
      "INFO:tensorflow:2018-11-13 02:00:22.468980: 12, EZH2, 0.802600\n",
      "INFO:tensorflow:2018-11-13 02:00:22.482353: 13, CEBPB, 0.751928\n",
      "INFO:tensorflow:2018-11-13 02:00:22.496221: 14, c-Jun, 0.798285\n",
      "INFO:tensorflow:2018-11-13 02:00:22.509574: 15, ZBTB33, 0.880544\n",
      "INFO:tensorflow:2018-11-13 02:00:22.522855: 16, USF2, 0.883390\n",
      "INFO:tensorflow:2018-11-13 02:00:22.536170: 17, USF-1, 0.838062\n",
      "INFO:tensorflow:2018-11-13 02:00:22.549526: 18, TBP, 0.920763\n",
      "INFO:tensorflow:2018-11-13 02:00:22.562864: 19, RFX5, 0.901268\n",
      "INFO:tensorflow:\n",
      "INFO:tensorflow:21000 0.18629433\n",
      "INFO:tensorflow:On validation\n"
     ]
    },
    {
     "name": "stderr",
     "output_type": "stream",
     "text": [
      "/data/jwhughes/tf_env/lib/python3.6/site-packages/ipykernel_launcher.py:119: DeprecationWarning: using a non-integer array as obj in delete will result in an error in the future\n",
      "/data/jwhughes/tf_env/lib/python3.6/site-packages/ipykernel_launcher.py:120: DeprecationWarning: using a non-integer array as obj in delete will result in an error in the future\n"
     ]
    },
    {
     "name": "stdout",
     "output_type": "stream",
     "text": [
      "INFO:tensorflow:Our macro AUC:     0.8870253870452307\n",
      "INFO:tensorflow:Our micro AUC:     0.9163863478257801\n",
      "INFO:tensorflow:2018-11-13 02:01:47.071565: 0, DNase, NaN\n",
      "INFO:tensorflow:2018-11-13 02:01:47.072810: 1, CTCF, 0.963579\n",
      "INFO:tensorflow:2018-11-13 02:01:47.087223: 2, Pol2, 0.888433\n",
      "INFO:tensorflow:2018-11-13 02:01:47.101098: 3, YY1, 0.925117\n",
      "INFO:tensorflow:2018-11-13 02:01:47.114764: 4, p300, 0.878857\n",
      "INFO:tensorflow:2018-11-13 02:01:47.128511: 5, TAF1, 0.946144\n",
      "INFO:tensorflow:2018-11-13 02:01:47.142487: 6, Pol2-4H8, 0.876208\n",
      "INFO:tensorflow:2018-11-13 02:01:47.156327: 7, c-Myc, 0.964374\n",
      "INFO:tensorflow:2018-11-13 02:01:47.170026: 8, Rad21, 0.977892\n",
      "INFO:tensorflow:2018-11-13 02:01:47.183805: 9, Max, 0.914175\n",
      "INFO:tensorflow:2018-11-13 02:01:47.197651: 10, NRSF, 0.943322\n",
      "INFO:tensorflow:2018-11-13 02:01:47.211285: 11, GABP, 0.915984\n",
      "INFO:tensorflow:2018-11-13 02:01:47.225044: 12, EZH2, 0.630613\n",
      "INFO:tensorflow:2018-11-13 02:01:47.238704: 13, CEBPB, 0.774686\n",
      "INFO:tensorflow:2018-11-13 02:01:47.252598: 14, c-Jun, 0.882988\n",
      "INFO:tensorflow:2018-11-13 02:01:47.266275: 15, ZBTB33, 0.822384\n",
      "INFO:tensorflow:2018-11-13 02:01:47.280100: 16, USF2, 0.899968\n",
      "INFO:tensorflow:2018-11-13 02:01:47.293799: 17, USF-1, 0.821789\n",
      "INFO:tensorflow:2018-11-13 02:01:47.307581: 18, TBP, 0.931403\n",
      "INFO:tensorflow:2018-11-13 02:01:47.321451: 19, RFX5, 0.895567\n",
      "INFO:tensorflow:\n",
      "INFO:tensorflow:22000 0.22834642\n",
      "INFO:tensorflow:On validation\n"
     ]
    },
    {
     "name": "stderr",
     "output_type": "stream",
     "text": [
      "/data/jwhughes/tf_env/lib/python3.6/site-packages/ipykernel_launcher.py:119: DeprecationWarning: using a non-integer array as obj in delete will result in an error in the future\n",
      "/data/jwhughes/tf_env/lib/python3.6/site-packages/ipykernel_launcher.py:120: DeprecationWarning: using a non-integer array as obj in delete will result in an error in the future\n"
     ]
    },
    {
     "name": "stdout",
     "output_type": "stream",
     "text": [
      "INFO:tensorflow:Our macro AUC:     0.8792976405099149\n",
      "INFO:tensorflow:Our micro AUC:     0.8933465335368922\n",
      "INFO:tensorflow:2018-11-13 02:03:11.902491: 0, DNase, NaN\n",
      "INFO:tensorflow:2018-11-13 02:03:11.903818: 1, CTCF, 0.964367\n",
      "INFO:tensorflow:2018-11-13 02:03:11.917969: 2, Pol2, 0.884545\n",
      "INFO:tensorflow:2018-11-13 02:03:11.931821: 3, YY1, 0.918395\n",
      "INFO:tensorflow:2018-11-13 02:03:11.945380: 4, p300, 0.850997\n",
      "INFO:tensorflow:2018-11-13 02:03:11.959190: 5, TAF1, 0.941968\n",
      "INFO:tensorflow:2018-11-13 02:03:11.972929: 6, Pol2-4H8, 0.868821\n",
      "INFO:tensorflow:2018-11-13 02:03:11.986779: 7, c-Myc, 0.932148\n",
      "INFO:tensorflow:2018-11-13 02:03:12.000375: 8, Rad21, 0.985474\n",
      "INFO:tensorflow:2018-11-13 02:03:12.014095: 9, Max, 0.883532\n",
      "INFO:tensorflow:2018-11-13 02:03:12.027866: 10, NRSF, 0.887174\n",
      "INFO:tensorflow:2018-11-13 02:03:12.041499: 11, GABP, 0.895511\n",
      "INFO:tensorflow:2018-11-13 02:03:12.055217: 12, EZH2, 0.691995\n",
      "INFO:tensorflow:2018-11-13 02:03:12.069004: 13, CEBPB, 0.736385\n",
      "INFO:tensorflow:2018-11-13 02:03:12.082893: 14, c-Jun, 0.877297\n",
      "INFO:tensorflow:2018-11-13 02:03:12.096530: 15, ZBTB33, 0.865947\n",
      "INFO:tensorflow:2018-11-13 02:03:12.110262: 16, USF2, 0.898786\n",
      "INFO:tensorflow:2018-11-13 02:03:12.123954: 17, USF-1, 0.818481\n",
      "INFO:tensorflow:2018-11-13 02:03:12.137986: 18, TBP, 0.897520\n",
      "INFO:tensorflow:2018-11-13 02:03:12.151658: 19, RFX5, 0.907313\n",
      "INFO:tensorflow:\n",
      "INFO:tensorflow:23000 0.06454714\n",
      "INFO:tensorflow:On validation\n"
     ]
    },
    {
     "name": "stderr",
     "output_type": "stream",
     "text": [
      "/data/jwhughes/tf_env/lib/python3.6/site-packages/ipykernel_launcher.py:119: DeprecationWarning: using a non-integer array as obj in delete will result in an error in the future\n",
      "/data/jwhughes/tf_env/lib/python3.6/site-packages/ipykernel_launcher.py:120: DeprecationWarning: using a non-integer array as obj in delete will result in an error in the future\n"
     ]
    },
    {
     "name": "stdout",
     "output_type": "stream",
     "text": [
      "INFO:tensorflow:Our macro AUC:     0.8966295299767066\n",
      "INFO:tensorflow:Our micro AUC:     0.9246979632310484\n",
      "INFO:tensorflow:2018-11-13 02:04:36.732590: 0, DNase, NaN\n",
      "INFO:tensorflow:2018-11-13 02:04:36.733974: 1, CTCF, 0.970501\n",
      "INFO:tensorflow:2018-11-13 02:04:36.748048: 2, Pol2, 0.920115\n",
      "INFO:tensorflow:2018-11-13 02:04:36.761830: 3, YY1, 0.942870\n",
      "INFO:tensorflow:2018-11-13 02:04:36.775428: 4, p300, 0.871028\n",
      "INFO:tensorflow:2018-11-13 02:04:36.789229: 5, TAF1, 0.960470\n",
      "INFO:tensorflow:2018-11-13 02:04:36.802860: 6, Pol2-4H8, 0.876056\n",
      "INFO:tensorflow:2018-11-13 02:04:36.816975: 7, c-Myc, 0.952893\n",
      "INFO:tensorflow:2018-11-13 02:04:36.830586: 8, Rad21, 0.985707\n",
      "INFO:tensorflow:2018-11-13 02:04:36.844266: 9, Max, 0.902573\n",
      "INFO:tensorflow:2018-11-13 02:04:36.858215: 10, NRSF, 0.923715\n",
      "INFO:tensorflow:2018-11-13 02:04:36.871950: 11, GABP, 0.929141\n",
      "INFO:tensorflow:2018-11-13 02:04:36.885599: 12, EZH2, 0.629883\n",
      "INFO:tensorflow:2018-11-13 02:04:36.899219: 13, CEBPB, 0.743218\n",
      "INFO:tensorflow:2018-11-13 02:04:36.913206: 14, c-Jun, 0.884956\n",
      "INFO:tensorflow:2018-11-13 02:04:36.926783: 15, ZBTB33, 0.906962\n",
      "INFO:tensorflow:2018-11-13 02:04:36.940462: 16, USF2, 0.945768\n",
      "INFO:tensorflow:2018-11-13 02:04:36.954131: 17, USF-1, 0.861582\n",
      "INFO:tensorflow:2018-11-13 02:04:36.967937: 18, TBP, 0.912374\n",
      "INFO:tensorflow:2018-11-13 02:04:36.981694: 19, RFX5, 0.916148\n",
      "INFO:tensorflow:\n",
      "INFO:tensorflow:24000 1.0560851\n",
      "INFO:tensorflow:On validation\n"
     ]
    },
    {
     "name": "stderr",
     "output_type": "stream",
     "text": [
      "/data/jwhughes/tf_env/lib/python3.6/site-packages/ipykernel_launcher.py:119: DeprecationWarning: using a non-integer array as obj in delete will result in an error in the future\n",
      "/data/jwhughes/tf_env/lib/python3.6/site-packages/ipykernel_launcher.py:120: DeprecationWarning: using a non-integer array as obj in delete will result in an error in the future\n"
     ]
    },
    {
     "name": "stdout",
     "output_type": "stream",
     "text": [
      "INFO:tensorflow:Our macro AUC:     0.9005647153856773\n",
      "INFO:tensorflow:Our micro AUC:     0.9258379257909859\n",
      "INFO:tensorflow:2018-11-13 02:06:01.683763: 0, DNase, NaN\n",
      "INFO:tensorflow:2018-11-13 02:06:01.684925: 1, CTCF, 0.962396\n",
      "INFO:tensorflow:2018-11-13 02:06:01.699089: 2, Pol2, 0.896110\n",
      "INFO:tensorflow:2018-11-13 02:06:01.713049: 3, YY1, 0.949280\n",
      "INFO:tensorflow:2018-11-13 02:06:01.726871: 4, p300, 0.846590\n",
      "INFO:tensorflow:2018-11-13 02:06:01.740728: 5, TAF1, 0.965529\n",
      "INFO:tensorflow:2018-11-13 02:06:01.754623: 6, Pol2-4H8, 0.895627\n",
      "INFO:tensorflow:2018-11-13 02:06:01.768595: 7, c-Myc, 0.950007\n",
      "INFO:tensorflow:2018-11-13 02:06:01.782241: 8, Rad21, 0.982825\n",
      "INFO:tensorflow:2018-11-13 02:06:01.796069: 9, Max, 0.919097\n",
      "INFO:tensorflow:2018-11-13 02:06:01.810040: 10, NRSF, 0.940833\n",
      "INFO:tensorflow:2018-11-13 02:06:01.823937: 11, GABP, 0.933441\n",
      "INFO:tensorflow:2018-11-13 02:06:01.837707: 12, EZH2, 0.727742\n",
      "INFO:tensorflow:2018-11-13 02:06:01.851390: 13, CEBPB, 0.744177\n",
      "INFO:tensorflow:2018-11-13 02:06:01.865506: 14, c-Jun, 0.836207\n",
      "INFO:tensorflow:2018-11-13 02:06:01.879296: 15, ZBTB33, 0.923712\n",
      "INFO:tensorflow:2018-11-13 02:06:01.893167: 16, USF2, 0.934291\n",
      "INFO:tensorflow:2018-11-13 02:06:01.906986: 17, USF-1, 0.858727\n",
      "INFO:tensorflow:2018-11-13 02:06:01.920916: 18, TBP, 0.909960\n",
      "INFO:tensorflow:2018-11-13 02:06:01.934864: 19, RFX5, 0.934180\n",
      "INFO:tensorflow:\n",
      "INFO:tensorflow:25000 0.06356855\n",
      "INFO:tensorflow:On validation\n"
     ]
    },
    {
     "name": "stderr",
     "output_type": "stream",
     "text": [
      "/data/jwhughes/tf_env/lib/python3.6/site-packages/ipykernel_launcher.py:119: DeprecationWarning: using a non-integer array as obj in delete will result in an error in the future\n",
      "/data/jwhughes/tf_env/lib/python3.6/site-packages/ipykernel_launcher.py:120: DeprecationWarning: using a non-integer array as obj in delete will result in an error in the future\n"
     ]
    },
    {
     "name": "stdout",
     "output_type": "stream",
     "text": [
      "INFO:tensorflow:Our macro AUC:     0.9073870199351356\n",
      "INFO:tensorflow:Our micro AUC:     0.9358735004732337\n",
      "INFO:tensorflow:2018-11-13 02:07:26.200102: 0, DNase, NaN\n",
      "INFO:tensorflow:2018-11-13 02:07:26.201273: 1, CTCF, 0.977912\n",
      "INFO:tensorflow:2018-11-13 02:07:26.215409: 2, Pol2, 0.903651\n",
      "INFO:tensorflow:2018-11-13 02:07:26.228985: 3, YY1, 0.921782\n",
      "INFO:tensorflow:2018-11-13 02:07:26.242550: 4, p300, 0.869718\n",
      "INFO:tensorflow:2018-11-13 02:07:26.256302: 5, TAF1, 0.980292\n",
      "INFO:tensorflow:2018-11-13 02:07:26.269915: 6, Pol2-4H8, 0.914286\n",
      "INFO:tensorflow:2018-11-13 02:07:26.283502: 7, c-Myc, 0.938890\n",
      "INFO:tensorflow:2018-11-13 02:07:26.296968: 8, Rad21, 0.974892\n",
      "INFO:tensorflow:2018-11-13 02:07:26.310453: 9, Max, 0.904257\n",
      "INFO:tensorflow:2018-11-13 02:07:26.324015: 10, NRSF, 0.934420\n",
      "INFO:tensorflow:2018-11-13 02:07:26.337513: 11, GABP, 0.953592\n",
      "INFO:tensorflow:2018-11-13 02:07:26.351040: 12, EZH2, 0.831856\n",
      "INFO:tensorflow:2018-11-13 02:07:26.364397: 13, CEBPB, 0.759616\n",
      "INFO:tensorflow:2018-11-13 02:07:26.378217: 14, c-Jun, 0.806822\n",
      "INFO:tensorflow:2018-11-13 02:07:26.391894: 15, ZBTB33, 0.955311\n",
      "INFO:tensorflow:2018-11-13 02:07:26.405530: 16, USF2, 0.922769\n",
      "INFO:tensorflow:2018-11-13 02:07:26.419062: 17, USF-1, 0.825116\n",
      "INFO:tensorflow:2018-11-13 02:07:26.432701: 18, TBP, 0.944149\n",
      "INFO:tensorflow:2018-11-13 02:07:26.446308: 19, RFX5, 0.921022\n",
      "INFO:tensorflow:\n",
      "INFO:tensorflow:26000 1.0054191\n",
      "INFO:tensorflow:On validation\n"
     ]
    },
    {
     "name": "stderr",
     "output_type": "stream",
     "text": [
      "/data/jwhughes/tf_env/lib/python3.6/site-packages/ipykernel_launcher.py:119: DeprecationWarning: using a non-integer array as obj in delete will result in an error in the future\n",
      "/data/jwhughes/tf_env/lib/python3.6/site-packages/ipykernel_launcher.py:120: DeprecationWarning: using a non-integer array as obj in delete will result in an error in the future\n"
     ]
    },
    {
     "name": "stdout",
     "output_type": "stream",
     "text": [
      "INFO:tensorflow:Our macro AUC:     0.9169146267879965\n",
      "INFO:tensorflow:Our micro AUC:     0.9477841647697969\n",
      "INFO:tensorflow:2018-11-13 02:08:51.251500: 0, DNase, NaN\n",
      "INFO:tensorflow:2018-11-13 02:08:51.252635: 1, CTCF, 0.972163\n",
      "INFO:tensorflow:2018-11-13 02:08:51.267070: 2, Pol2, 0.962396\n",
      "INFO:tensorflow:2018-11-13 02:08:51.281023: 3, YY1, 0.963188\n",
      "INFO:tensorflow:2018-11-13 02:08:51.294933: 4, p300, 0.862284\n",
      "INFO:tensorflow:2018-11-13 02:08:51.308988: 5, TAF1, 0.984754\n",
      "INFO:tensorflow:2018-11-13 02:08:51.322977: 6, Pol2-4H8, 0.943404\n",
      "INFO:tensorflow:2018-11-13 02:08:51.337037: 7, c-Myc, 0.972897\n",
      "INFO:tensorflow:2018-11-13 02:08:51.351043: 8, Rad21, 0.971055\n",
      "INFO:tensorflow:2018-11-13 02:08:51.365069: 9, Max, 0.918862\n",
      "INFO:tensorflow:2018-11-13 02:08:51.379095: 10, NRSF, 0.941056\n",
      "INFO:tensorflow:2018-11-13 02:08:51.393177: 11, GABP, 0.964356\n",
      "INFO:tensorflow:2018-11-13 02:08:51.407202: 12, EZH2, 0.845740\n",
      "INFO:tensorflow:2018-11-13 02:08:51.421219: 13, CEBPB, 0.775253\n",
      "INFO:tensorflow:2018-11-13 02:08:51.435615: 14, c-Jun, 0.830221\n",
      "INFO:tensorflow:2018-11-13 02:08:51.449539: 15, ZBTB33, 0.939894\n",
      "INFO:tensorflow:2018-11-13 02:08:51.463537: 16, USF2, 0.884291\n",
      "INFO:tensorflow:2018-11-13 02:08:51.477494: 17, USF-1, 0.853826\n",
      "INFO:tensorflow:2018-11-13 02:08:51.491651: 18, TBP, 0.929962\n",
      "INFO:tensorflow:2018-11-13 02:08:51.505608: 19, RFX5, 0.905775\n",
      "INFO:tensorflow:\n",
      "INFO:tensorflow:27000 0.55660623\n",
      "INFO:tensorflow:On validation\n"
     ]
    },
    {
     "name": "stderr",
     "output_type": "stream",
     "text": [
      "/data/jwhughes/tf_env/lib/python3.6/site-packages/ipykernel_launcher.py:119: DeprecationWarning: using a non-integer array as obj in delete will result in an error in the future\n",
      "/data/jwhughes/tf_env/lib/python3.6/site-packages/ipykernel_launcher.py:120: DeprecationWarning: using a non-integer array as obj in delete will result in an error in the future\n"
     ]
    },
    {
     "name": "stdout",
     "output_type": "stream",
     "text": [
      "INFO:tensorflow:Our macro AUC:     0.8996035502658358\n",
      "INFO:tensorflow:Our micro AUC:     0.9332871373897692\n",
      "INFO:tensorflow:2018-11-13 02:10:15.868478: 0, DNase, NaN\n",
      "INFO:tensorflow:2018-11-13 02:10:15.869722: 1, CTCF, 0.970978\n",
      "INFO:tensorflow:2018-11-13 02:10:15.883935: 2, Pol2, 0.953239\n",
      "INFO:tensorflow:2018-11-13 02:10:15.897708: 3, YY1, 0.953370\n",
      "INFO:tensorflow:2018-11-13 02:10:15.911288: 4, p300, 0.855313\n",
      "INFO:tensorflow:2018-11-13 02:10:15.925097: 5, TAF1, 0.962608\n",
      "INFO:tensorflow:2018-11-13 02:10:15.939049: 6, Pol2-4H8, 0.911390\n",
      "INFO:tensorflow:2018-11-13 02:10:15.954205: 7, c-Myc, 0.959455\n",
      "INFO:tensorflow:2018-11-13 02:10:15.967817: 8, Rad21, 0.988699\n",
      "INFO:tensorflow:2018-11-13 02:10:15.982648: 9, Max, 0.925376\n",
      "INFO:tensorflow:2018-11-13 02:10:15.996251: 10, NRSF, 0.930704\n",
      "INFO:tensorflow:2018-11-13 02:10:16.009737: 11, GABP, 0.933541\n",
      "INFO:tensorflow:2018-11-13 02:10:16.023491: 12, EZH2, 0.707842\n",
      "INFO:tensorflow:2018-11-13 02:10:16.036897: 13, CEBPB, 0.764313\n",
      "INFO:tensorflow:2018-11-13 02:10:16.050646: 14, c-Jun, 0.835232\n",
      "INFO:tensorflow:2018-11-13 02:10:16.063982: 15, ZBTB33, 0.933427\n",
      "INFO:tensorflow:2018-11-13 02:10:16.077763: 16, USF2, 0.873343\n",
      "INFO:tensorflow:2018-11-13 02:10:16.091626: 17, USF-1, 0.831794\n",
      "INFO:tensorflow:2018-11-13 02:10:16.105268: 18, TBP, 0.932834\n",
      "INFO:tensorflow:2018-11-13 02:10:16.119059: 19, RFX5, 0.869010\n",
      "INFO:tensorflow:\n",
      "INFO:tensorflow:28000 0.35529482\n",
      "INFO:tensorflow:On validation\n"
     ]
    },
    {
     "name": "stderr",
     "output_type": "stream",
     "text": [
      "/data/jwhughes/tf_env/lib/python3.6/site-packages/ipykernel_launcher.py:119: DeprecationWarning: using a non-integer array as obj in delete will result in an error in the future\n",
      "/data/jwhughes/tf_env/lib/python3.6/site-packages/ipykernel_launcher.py:120: DeprecationWarning: using a non-integer array as obj in delete will result in an error in the future\n"
     ]
    },
    {
     "name": "stdout",
     "output_type": "stream",
     "text": [
      "INFO:tensorflow:Our macro AUC:     0.9211855482034823\n",
      "INFO:tensorflow:Our micro AUC:     0.943183930769942\n",
      "INFO:tensorflow:2018-11-13 02:11:41.332717: 0, DNase, NaN\n",
      "INFO:tensorflow:2018-11-13 02:11:41.333894: 1, CTCF, 0.984876\n",
      "INFO:tensorflow:2018-11-13 02:11:41.347931: 2, Pol2, 0.902428\n",
      "INFO:tensorflow:2018-11-13 02:11:41.361859: 3, YY1, 0.942248\n",
      "INFO:tensorflow:2018-11-13 02:11:41.375553: 4, p300, 0.878555\n",
      "INFO:tensorflow:2018-11-13 02:11:41.389396: 5, TAF1, 0.966316\n",
      "INFO:tensorflow:2018-11-13 02:11:41.403208: 6, Pol2-4H8, 0.911453\n",
      "INFO:tensorflow:2018-11-13 02:11:41.417120: 7, c-Myc, 0.958322\n",
      "INFO:tensorflow:2018-11-13 02:11:41.430784: 8, Rad21, 0.983736\n",
      "INFO:tensorflow:2018-11-13 02:11:41.444613: 9, Max, 0.927667\n",
      "INFO:tensorflow:2018-11-13 02:11:41.458546: 10, NRSF, 0.932637\n",
      "INFO:tensorflow:2018-11-13 02:11:41.472223: 11, GABP, 0.944168\n",
      "INFO:tensorflow:2018-11-13 02:11:41.485966: 12, EZH2, 0.809819\n",
      "INFO:tensorflow:2018-11-13 02:11:41.499628: 13, CEBPB, 0.800734\n",
      "INFO:tensorflow:2018-11-13 02:11:41.513661: 14, c-Jun, 0.893501\n",
      "INFO:tensorflow:2018-11-13 02:11:41.527376: 15, ZBTB33, 0.926251\n",
      "INFO:tensorflow:2018-11-13 02:11:41.541121: 16, USF2, 0.962278\n",
      "INFO:tensorflow:2018-11-13 02:11:41.554864: 17, USF-1, 0.903783\n",
      "INFO:tensorflow:2018-11-13 02:11:41.568761: 18, TBP, 0.934914\n",
      "INFO:tensorflow:2018-11-13 02:11:41.582639: 19, RFX5, 0.938837\n",
      "INFO:tensorflow:\n",
      "INFO:tensorflow:29000 0.6596653\n",
      "INFO:tensorflow:On validation\n"
     ]
    },
    {
     "name": "stderr",
     "output_type": "stream",
     "text": [
      "/data/jwhughes/tf_env/lib/python3.6/site-packages/ipykernel_launcher.py:119: DeprecationWarning: using a non-integer array as obj in delete will result in an error in the future\n",
      "/data/jwhughes/tf_env/lib/python3.6/site-packages/ipykernel_launcher.py:120: DeprecationWarning: using a non-integer array as obj in delete will result in an error in the future\n"
     ]
    },
    {
     "name": "stdout",
     "output_type": "stream",
     "text": [
      "INFO:tensorflow:Our macro AUC:     0.9066015082229035\n",
      "INFO:tensorflow:Our micro AUC:     0.9294638888096232\n",
      "INFO:tensorflow:2018-11-13 02:13:06.771421: 0, DNase, NaN\n",
      "INFO:tensorflow:2018-11-13 02:13:06.772658: 1, CTCF, 0.983240\n",
      "INFO:tensorflow:2018-11-13 02:13:06.786800: 2, Pol2, 0.952104\n",
      "INFO:tensorflow:2018-11-13 02:13:06.800366: 3, YY1, 0.955186\n",
      "INFO:tensorflow:2018-11-13 02:13:06.814006: 4, p300, 0.885711\n",
      "INFO:tensorflow:2018-11-13 02:13:06.827976: 5, TAF1, 0.969070\n",
      "INFO:tensorflow:2018-11-13 02:13:06.841530: 6, Pol2-4H8, 0.909831\n",
      "INFO:tensorflow:2018-11-13 02:13:06.855304: 7, c-Myc, 0.961171\n",
      "INFO:tensorflow:2018-11-13 02:13:06.869003: 8, Rad21, 0.987918\n",
      "INFO:tensorflow:2018-11-13 02:13:06.882587: 9, Max, 0.916755\n",
      "INFO:tensorflow:2018-11-13 02:13:06.896146: 10, NRSF, 0.930034\n",
      "INFO:tensorflow:2018-11-13 02:13:06.909666: 11, GABP, 0.934200\n",
      "INFO:tensorflow:2018-11-13 02:13:06.923060: 12, EZH2, 0.655231\n",
      "INFO:tensorflow:2018-11-13 02:13:06.936395: 13, CEBPB, 0.793895\n",
      "INFO:tensorflow:2018-11-13 02:13:06.950238: 14, c-Jun, 0.813190\n",
      "INFO:tensorflow:2018-11-13 02:13:06.963641: 15, ZBTB33, 0.924089\n",
      "INFO:tensorflow:2018-11-13 02:13:06.977108: 16, USF2, 0.913446\n",
      "INFO:tensorflow:2018-11-13 02:13:06.990561: 17, USF-1, 0.860225\n",
      "INFO:tensorflow:2018-11-13 02:13:07.004048: 18, TBP, 0.933646\n",
      "INFO:tensorflow:2018-11-13 02:13:07.017495: 19, RFX5, 0.946488\n",
      "INFO:tensorflow:\n",
      "INFO:tensorflow:30000 0.7740098\n",
      "INFO:tensorflow:On validation\n"
     ]
    },
    {
     "name": "stderr",
     "output_type": "stream",
     "text": [
      "/data/jwhughes/tf_env/lib/python3.6/site-packages/ipykernel_launcher.py:119: DeprecationWarning: using a non-integer array as obj in delete will result in an error in the future\n",
      "/data/jwhughes/tf_env/lib/python3.6/site-packages/ipykernel_launcher.py:120: DeprecationWarning: using a non-integer array as obj in delete will result in an error in the future\n"
     ]
    },
    {
     "name": "stdout",
     "output_type": "stream",
     "text": [
      "INFO:tensorflow:Our macro AUC:     0.9093759908265674\n",
      "INFO:tensorflow:Our micro AUC:     0.9355069511199835\n",
      "INFO:tensorflow:2018-11-13 02:14:32.320518: 0, DNase, NaN\n",
      "INFO:tensorflow:2018-11-13 02:14:32.321760: 1, CTCF, 0.978535\n",
      "INFO:tensorflow:2018-11-13 02:14:32.336224: 2, Pol2, 0.955222\n",
      "INFO:tensorflow:2018-11-13 02:14:32.350185: 3, YY1, 0.953595\n",
      "INFO:tensorflow:2018-11-13 02:14:32.364172: 4, p300, 0.881231\n",
      "INFO:tensorflow:2018-11-13 02:14:32.378371: 5, TAF1, 0.959197\n",
      "INFO:tensorflow:2018-11-13 02:14:32.392450: 6, Pol2-4H8, 0.913529\n",
      "INFO:tensorflow:2018-11-13 02:14:32.406468: 7, c-Myc, 0.944061\n",
      "INFO:tensorflow:2018-11-13 02:14:32.420398: 8, Rad21, 0.989095\n",
      "INFO:tensorflow:2018-11-13 02:14:32.434590: 9, Max, 0.910661\n",
      "INFO:tensorflow:2018-11-13 02:14:32.448721: 10, NRSF, 0.919533\n",
      "INFO:tensorflow:2018-11-13 02:14:32.462710: 11, GABP, 0.936100\n",
      "INFO:tensorflow:2018-11-13 02:14:32.476594: 12, EZH2, 0.767459\n",
      "INFO:tensorflow:2018-11-13 02:14:32.490584: 13, CEBPB, 0.759298\n",
      "INFO:tensorflow:2018-11-13 02:14:32.505020: 14, c-Jun, 0.826902\n",
      "INFO:tensorflow:2018-11-13 02:14:32.518937: 15, ZBTB33, 0.922769\n",
      "INFO:tensorflow:2018-11-13 02:14:32.532783: 16, USF2, 0.937973\n",
      "INFO:tensorflow:2018-11-13 02:14:32.546669: 17, USF-1, 0.836191\n",
      "INFO:tensorflow:2018-11-13 02:14:32.560629: 18, TBP, 0.945233\n",
      "INFO:tensorflow:2018-11-13 02:14:32.574854: 19, RFX5, 0.941560\n",
      "INFO:tensorflow:\n",
      "INFO:tensorflow:31000 0.15155226\n",
      "INFO:tensorflow:On validation\n"
     ]
    },
    {
     "name": "stderr",
     "output_type": "stream",
     "text": [
      "/data/jwhughes/tf_env/lib/python3.6/site-packages/ipykernel_launcher.py:119: DeprecationWarning: using a non-integer array as obj in delete will result in an error in the future\n",
      "/data/jwhughes/tf_env/lib/python3.6/site-packages/ipykernel_launcher.py:120: DeprecationWarning: using a non-integer array as obj in delete will result in an error in the future\n"
     ]
    },
    {
     "name": "stdout",
     "output_type": "stream",
     "text": [
      "INFO:tensorflow:Our macro AUC:     0.8843078229151555\n",
      "INFO:tensorflow:Our micro AUC:     0.9173475133151581\n",
      "INFO:tensorflow:2018-11-13 02:15:57.715620: 0, DNase, NaN\n",
      "INFO:tensorflow:2018-11-13 02:15:57.716816: 1, CTCF, 0.969622\n",
      "INFO:tensorflow:2018-11-13 02:15:57.731027: 2, Pol2, 0.901981\n",
      "INFO:tensorflow:2018-11-13 02:15:57.744865: 3, YY1, 0.940930\n",
      "INFO:tensorflow:2018-11-13 02:15:57.758684: 4, p300, 0.868419\n",
      "INFO:tensorflow:2018-11-13 02:15:57.772680: 5, TAF1, 0.951356\n",
      "INFO:tensorflow:2018-11-13 02:15:57.786668: 6, Pol2-4H8, 0.894959\n",
      "INFO:tensorflow:2018-11-13 02:15:57.800626: 7, c-Myc, 0.930902\n",
      "INFO:tensorflow:2018-11-13 02:15:57.814481: 8, Rad21, 0.975999\n",
      "INFO:tensorflow:2018-11-13 02:15:57.828362: 9, Max, 0.903117\n",
      "INFO:tensorflow:2018-11-13 02:15:57.842368: 10, NRSF, 0.899662\n",
      "INFO:tensorflow:2018-11-13 02:15:57.856260: 11, GABP, 0.913582\n",
      "INFO:tensorflow:2018-11-13 02:15:57.870120: 12, EZH2, 0.715573\n",
      "INFO:tensorflow:2018-11-13 02:15:57.883943: 13, CEBPB, 0.777145\n",
      "INFO:tensorflow:2018-11-13 02:15:57.898175: 14, c-Jun, 0.848876\n",
      "INFO:tensorflow:2018-11-13 02:15:57.912074: 15, ZBTB33, 0.815545\n",
      "INFO:tensorflow:2018-11-13 02:15:57.925890: 16, USF2, 0.874886\n",
      "INFO:tensorflow:2018-11-13 02:15:57.939644: 17, USF-1, 0.828759\n",
      "INFO:tensorflow:2018-11-13 02:15:57.953618: 18, TBP, 0.907486\n",
      "INFO:tensorflow:2018-11-13 02:15:57.967750: 19, RFX5, 0.883048\n",
      "INFO:tensorflow:\n",
      "INFO:tensorflow:32000 1.2080195\n",
      "INFO:tensorflow:On validation\n"
     ]
    },
    {
     "name": "stderr",
     "output_type": "stream",
     "text": [
      "/data/jwhughes/tf_env/lib/python3.6/site-packages/ipykernel_launcher.py:119: DeprecationWarning: using a non-integer array as obj in delete will result in an error in the future\n",
      "/data/jwhughes/tf_env/lib/python3.6/site-packages/ipykernel_launcher.py:120: DeprecationWarning: using a non-integer array as obj in delete will result in an error in the future\n"
     ]
    },
    {
     "name": "stdout",
     "output_type": "stream",
     "text": [
      "INFO:tensorflow:Our macro AUC:     0.8791922347885773\n",
      "INFO:tensorflow:Our micro AUC:     0.9071601847402371\n",
      "INFO:tensorflow:2018-11-13 02:17:22.246667: 0, DNase, NaN\n",
      "INFO:tensorflow:2018-11-13 02:17:22.248064: 1, CTCF, 0.975703\n",
      "INFO:tensorflow:2018-11-13 02:17:22.262541: 2, Pol2, 0.875616\n",
      "INFO:tensorflow:2018-11-13 02:17:22.276438: 3, YY1, 0.922142\n",
      "INFO:tensorflow:2018-11-13 02:17:22.290078: 4, p300, 0.859005\n",
      "INFO:tensorflow:2018-11-13 02:17:22.303950: 5, TAF1, 0.948630\n",
      "INFO:tensorflow:2018-11-13 02:17:22.317582: 6, Pol2-4H8, 0.833084\n",
      "INFO:tensorflow:2018-11-13 02:17:22.331222: 7, c-Myc, 0.937553\n",
      "INFO:tensorflow:2018-11-13 02:17:22.344781: 8, Rad21, 0.974520\n",
      "INFO:tensorflow:2018-11-13 02:17:22.358444: 9, Max, 0.884648\n",
      "INFO:tensorflow:2018-11-13 02:17:22.372503: 10, NRSF, 0.905692\n",
      "INFO:tensorflow:2018-11-13 02:17:22.386247: 11, GABP, 0.917745\n",
      "INFO:tensorflow:2018-11-13 02:17:22.399889: 12, EZH2, 0.740655\n",
      "INFO:tensorflow:2018-11-13 02:17:22.413757: 13, CEBPB, 0.731001\n",
      "INFO:tensorflow:2018-11-13 02:17:22.427723: 14, c-Jun, 0.812152\n",
      "INFO:tensorflow:2018-11-13 02:17:22.441539: 15, ZBTB33, 0.841989\n",
      "INFO:tensorflow:2018-11-13 02:17:22.455165: 16, USF2, 0.894493\n",
      "INFO:tensorflow:2018-11-13 02:17:22.468766: 17, USF-1, 0.854213\n",
      "INFO:tensorflow:2018-11-13 02:17:22.482796: 18, TBP, 0.905957\n",
      "INFO:tensorflow:2018-11-13 02:17:22.496462: 19, RFX5, 0.889855\n",
      "INFO:tensorflow:\n",
      "INFO:tensorflow:33000 0.1999112\n",
      "INFO:tensorflow:On validation\n"
     ]
    },
    {
     "name": "stderr",
     "output_type": "stream",
     "text": [
      "/data/jwhughes/tf_env/lib/python3.6/site-packages/ipykernel_launcher.py:119: DeprecationWarning: using a non-integer array as obj in delete will result in an error in the future\n",
      "/data/jwhughes/tf_env/lib/python3.6/site-packages/ipykernel_launcher.py:120: DeprecationWarning: using a non-integer array as obj in delete will result in an error in the future\n"
     ]
    },
    {
     "name": "stdout",
     "output_type": "stream",
     "text": [
      "INFO:tensorflow:Our macro AUC:     0.9021189362812121\n",
      "INFO:tensorflow:Our micro AUC:     0.9202195455624684\n",
      "INFO:tensorflow:2018-11-13 02:18:44.044189: 0, DNase, NaN\n",
      "INFO:tensorflow:2018-11-13 02:18:44.045426: 1, CTCF, 0.969484\n",
      "INFO:tensorflow:2018-11-13 02:18:44.059622: 2, Pol2, 0.882121\n",
      "INFO:tensorflow:2018-11-13 02:18:44.073787: 3, YY1, 0.933437\n",
      "INFO:tensorflow:2018-11-13 02:18:44.087774: 4, p300, 0.901919\n",
      "INFO:tensorflow:2018-11-13 02:18:44.101877: 5, TAF1, 0.960821\n",
      "INFO:tensorflow:2018-11-13 02:18:44.116110: 6, Pol2-4H8, 0.874538\n",
      "INFO:tensorflow:2018-11-13 02:18:44.130254: 7, c-Myc, 0.958107\n",
      "INFO:tensorflow:2018-11-13 02:18:44.144015: 8, Rad21, 0.984304\n",
      "INFO:tensorflow:2018-11-13 02:18:44.157938: 9, Max, 0.923079\n",
      "INFO:tensorflow:2018-11-13 02:18:44.172291: 10, NRSF, 0.927603\n",
      "INFO:tensorflow:2018-11-13 02:18:44.186226: 11, GABP, 0.946454\n",
      "INFO:tensorflow:2018-11-13 02:18:44.200131: 12, EZH2, 0.693409\n",
      "INFO:tensorflow:2018-11-13 02:18:44.213895: 13, CEBPB, 0.747873\n",
      "INFO:tensorflow:2018-11-13 02:18:44.228212: 14, c-Jun, 0.834450\n",
      "INFO:tensorflow:2018-11-13 02:18:44.242003: 15, ZBTB33, 0.937408\n",
      "INFO:tensorflow:2018-11-13 02:18:44.255920: 16, USF2, 0.939000\n",
      "INFO:tensorflow:2018-11-13 02:18:44.269796: 17, USF-1, 0.865257\n",
      "INFO:tensorflow:2018-11-13 02:18:44.283816: 18, TBP, 0.907130\n",
      "INFO:tensorflow:2018-11-13 02:18:44.298122: 19, RFX5, 0.953868\n",
      "INFO:tensorflow:\n",
      "INFO:tensorflow:34000 0.40010175\n",
      "INFO:tensorflow:On validation\n"
     ]
    },
    {
     "name": "stderr",
     "output_type": "stream",
     "text": [
      "/data/jwhughes/tf_env/lib/python3.6/site-packages/ipykernel_launcher.py:119: DeprecationWarning: using a non-integer array as obj in delete will result in an error in the future\n",
      "/data/jwhughes/tf_env/lib/python3.6/site-packages/ipykernel_launcher.py:120: DeprecationWarning: using a non-integer array as obj in delete will result in an error in the future\n"
     ]
    },
    {
     "name": "stdout",
     "output_type": "stream",
     "text": [
      "INFO:tensorflow:Our macro AUC:     0.8878079903342425\n",
      "INFO:tensorflow:Our micro AUC:     0.914146723039958\n",
      "INFO:tensorflow:2018-11-13 02:20:06.538446: 0, DNase, NaN\n",
      "INFO:tensorflow:2018-11-13 02:20:06.539694: 1, CTCF, 0.962052\n",
      "INFO:tensorflow:2018-11-13 02:20:06.553888: 2, Pol2, 0.842597\n",
      "INFO:tensorflow:2018-11-13 02:20:06.567941: 3, YY1, 0.925925\n",
      "INFO:tensorflow:2018-11-13 02:20:06.581847: 4, p300, 0.878051\n",
      "INFO:tensorflow:2018-11-13 02:20:06.595864: 5, TAF1, 0.956867\n",
      "INFO:tensorflow:2018-11-13 02:20:06.609685: 6, Pol2-4H8, 0.885161\n",
      "INFO:tensorflow:2018-11-13 02:20:06.623798: 7, c-Myc, 0.950886\n",
      "INFO:tensorflow:2018-11-13 02:20:06.637601: 8, Rad21, 0.975510\n",
      "INFO:tensorflow:2018-11-13 02:20:06.651446: 9, Max, 0.907803\n",
      "INFO:tensorflow:2018-11-13 02:20:06.665504: 10, NRSF, 0.927527\n",
      "INFO:tensorflow:2018-11-13 02:20:06.679459: 11, GABP, 0.940357\n",
      "INFO:tensorflow:2018-11-13 02:20:06.693395: 12, EZH2, 0.728649\n",
      "INFO:tensorflow:2018-11-13 02:20:06.707181: 13, CEBPB, 0.737641\n",
      "INFO:tensorflow:2018-11-13 02:20:06.721411: 14, c-Jun, 0.787064\n",
      "INFO:tensorflow:2018-11-13 02:20:06.735376: 15, ZBTB33, 0.862911\n",
      "INFO:tensorflow:2018-11-13 02:20:06.749304: 16, USF2, 0.923343\n",
      "INFO:tensorflow:2018-11-13 02:20:06.763278: 17, USF-1, 0.847208\n",
      "INFO:tensorflow:2018-11-13 02:20:06.776915: 18, TBP, 0.928698\n",
      "INFO:tensorflow:2018-11-13 02:20:06.790548: 19, RFX5, 0.900100\n",
      "INFO:tensorflow:\n",
      "INFO:tensorflow:35000 0.829644\n",
      "INFO:tensorflow:On validation\n"
     ]
    },
    {
     "name": "stderr",
     "output_type": "stream",
     "text": [
      "/data/jwhughes/tf_env/lib/python3.6/site-packages/ipykernel_launcher.py:119: DeprecationWarning: using a non-integer array as obj in delete will result in an error in the future\n",
      "/data/jwhughes/tf_env/lib/python3.6/site-packages/ipykernel_launcher.py:120: DeprecationWarning: using a non-integer array as obj in delete will result in an error in the future\n"
     ]
    },
    {
     "name": "stdout",
     "output_type": "stream",
     "text": [
      "INFO:tensorflow:Our macro AUC:     0.8956897963061388\n",
      "INFO:tensorflow:Our micro AUC:     0.9405489585035843\n",
      "INFO:tensorflow:2018-11-13 02:21:28.916771: 0, DNase, NaN\n",
      "INFO:tensorflow:2018-11-13 02:21:28.917802: 1, CTCF, 0.980202\n",
      "INFO:tensorflow:2018-11-13 02:21:28.932393: 2, Pol2, 0.931496\n",
      "INFO:tensorflow:2018-11-13 02:21:28.946634: 3, YY1, 0.934140\n",
      "INFO:tensorflow:2018-11-13 02:21:28.960936: 4, p300, 0.885789\n",
      "INFO:tensorflow:2018-11-13 02:21:28.975284: 5, TAF1, 0.977916\n",
      "INFO:tensorflow:2018-11-13 02:21:28.989383: 6, Pol2-4H8, 0.922406\n",
      "INFO:tensorflow:2018-11-13 02:21:29.003627: 7, c-Myc, 0.956218\n",
      "INFO:tensorflow:2018-11-13 02:21:29.017763: 8, Rad21, 0.977480\n",
      "INFO:tensorflow:2018-11-13 02:21:29.032051: 9, Max, 0.941765\n",
      "INFO:tensorflow:2018-11-13 02:21:29.046219: 10, NRSF, 0.921204\n",
      "INFO:tensorflow:2018-11-13 02:21:29.060299: 11, GABP, 0.958825\n",
      "INFO:tensorflow:2018-11-13 02:21:29.074234: 12, EZH2, 0.678677\n",
      "INFO:tensorflow:2018-11-13 02:21:29.088046: 13, CEBPB, 0.734565\n",
      "INFO:tensorflow:2018-11-13 02:21:29.102370: 14, c-Jun, 0.766514\n",
      "INFO:tensorflow:2018-11-13 02:21:29.116480: 15, ZBTB33, 0.880800\n",
      "INFO:tensorflow:2018-11-13 02:21:29.130484: 16, USF2, 0.905875\n",
      "INFO:tensorflow:2018-11-13 02:21:29.144468: 17, USF-1, 0.839611\n",
      "INFO:tensorflow:2018-11-13 02:21:29.158531: 18, TBP, 0.951898\n",
      "INFO:tensorflow:2018-11-13 02:21:29.172718: 19, RFX5, 0.872725\n",
      "INFO:tensorflow:\n",
      "INFO:tensorflow:36000 0.2779366\n",
      "INFO:tensorflow:On validation\n"
     ]
    },
    {
     "name": "stderr",
     "output_type": "stream",
     "text": [
      "/data/jwhughes/tf_env/lib/python3.6/site-packages/ipykernel_launcher.py:119: DeprecationWarning: using a non-integer array as obj in delete will result in an error in the future\n",
      "/data/jwhughes/tf_env/lib/python3.6/site-packages/ipykernel_launcher.py:120: DeprecationWarning: using a non-integer array as obj in delete will result in an error in the future\n"
     ]
    },
    {
     "name": "stdout",
     "output_type": "stream",
     "text": [
      "INFO:tensorflow:Our macro AUC:     0.9133989999041447\n",
      "INFO:tensorflow:Our micro AUC:     0.9448797685041829\n",
      "INFO:tensorflow:2018-11-13 02:22:52.350208: 0, DNase, NaN\n",
      "INFO:tensorflow:2018-11-13 02:22:52.351363: 1, CTCF, 0.984748\n",
      "INFO:tensorflow:2018-11-13 02:22:52.365547: 2, Pol2, 0.950124\n",
      "INFO:tensorflow:2018-11-13 02:22:52.379337: 3, YY1, 0.948553\n",
      "INFO:tensorflow:2018-11-13 02:22:52.393064: 4, p300, 0.842135\n",
      "INFO:tensorflow:2018-11-13 02:22:52.407007: 5, TAF1, 0.983302\n",
      "INFO:tensorflow:2018-11-13 02:22:52.420797: 6, Pol2-4H8, 0.944028\n",
      "INFO:tensorflow:2018-11-13 02:22:52.434565: 7, c-Myc, 0.966403\n",
      "INFO:tensorflow:2018-11-13 02:22:52.448150: 8, Rad21, 0.982781\n",
      "INFO:tensorflow:2018-11-13 02:22:52.462158: 9, Max, 0.927626\n",
      "INFO:tensorflow:2018-11-13 02:22:52.475963: 10, NRSF, 0.954669\n",
      "INFO:tensorflow:2018-11-13 02:22:52.489778: 11, GABP, 0.944320\n",
      "INFO:tensorflow:2018-11-13 02:22:52.503616: 12, EZH2, 0.834253\n",
      "INFO:tensorflow:2018-11-13 02:22:52.517331: 13, CEBPB, 0.734847\n",
      "INFO:tensorflow:2018-11-13 02:22:52.531242: 14, c-Jun, 0.791581\n",
      "INFO:tensorflow:2018-11-13 02:22:52.545026: 15, ZBTB33, 0.901176\n",
      "INFO:tensorflow:2018-11-13 02:22:52.559017: 16, USF2, 0.908758\n",
      "INFO:tensorflow:2018-11-13 02:22:52.573079: 17, USF-1, 0.878931\n",
      "INFO:tensorflow:2018-11-13 02:22:52.587408: 18, TBP, 0.956788\n",
      "INFO:tensorflow:2018-11-13 02:22:52.601220: 19, RFX5, 0.919557\n",
      "INFO:tensorflow:\n",
      "INFO:tensorflow:37000 0.14379619\n",
      "INFO:tensorflow:On validation\n"
     ]
    },
    {
     "name": "stderr",
     "output_type": "stream",
     "text": [
      "/data/jwhughes/tf_env/lib/python3.6/site-packages/ipykernel_launcher.py:119: DeprecationWarning: using a non-integer array as obj in delete will result in an error in the future\n",
      "/data/jwhughes/tf_env/lib/python3.6/site-packages/ipykernel_launcher.py:120: DeprecationWarning: using a non-integer array as obj in delete will result in an error in the future\n"
     ]
    },
    {
     "name": "stdout",
     "output_type": "stream",
     "text": [
      "INFO:tensorflow:Our macro AUC:     0.8904520895431703\n",
      "INFO:tensorflow:Our micro AUC:     0.9317514885431225\n",
      "INFO:tensorflow:2018-11-13 02:24:14.805674: 0, DNase, NaN\n",
      "INFO:tensorflow:2018-11-13 02:24:14.806863: 1, CTCF, 0.981683\n",
      "INFO:tensorflow:2018-11-13 02:24:14.821220: 2, Pol2, 0.883225\n",
      "INFO:tensorflow:2018-11-13 02:24:14.835649: 3, YY1, 0.952287\n",
      "INFO:tensorflow:2018-11-13 02:24:14.850201: 4, p300, 0.846098\n",
      "INFO:tensorflow:2018-11-13 02:24:14.865040: 5, TAF1, 0.970736\n",
      "INFO:tensorflow:2018-11-13 02:24:14.879057: 6, Pol2-4H8, 0.900074\n",
      "INFO:tensorflow:2018-11-13 02:24:14.892802: 7, c-Myc, 0.903513\n",
      "INFO:tensorflow:2018-11-13 02:24:14.906455: 8, Rad21, 0.979664\n",
      "INFO:tensorflow:2018-11-13 02:24:14.920586: 9, Max, 0.913088\n",
      "INFO:tensorflow:2018-11-13 02:24:14.935276: 10, NRSF, 0.911208\n",
      "INFO:tensorflow:2018-11-13 02:24:14.949816: 11, GABP, 0.947598\n",
      "INFO:tensorflow:2018-11-13 02:24:14.964811: 12, EZH2, 0.794305\n",
      "INFO:tensorflow:2018-11-13 02:24:14.978782: 13, CEBPB, 0.730917\n",
      "INFO:tensorflow:2018-11-13 02:24:14.993140: 14, c-Jun, 0.732707\n",
      "INFO:tensorflow:2018-11-13 02:24:15.007403: 15, ZBTB33, 0.944259\n",
      "INFO:tensorflow:2018-11-13 02:24:15.022233: 16, USF2, 0.888322\n",
      "INFO:tensorflow:2018-11-13 02:24:15.036565: 17, USF-1, 0.852652\n",
      "INFO:tensorflow:2018-11-13 02:24:15.050620: 18, TBP, 0.940942\n",
      "INFO:tensorflow:2018-11-13 02:24:15.064539: 19, RFX5, 0.845312\n",
      "INFO:tensorflow:\n",
      "INFO:tensorflow:38000 0.15002552\n",
      "INFO:tensorflow:On validation\n"
     ]
    },
    {
     "name": "stderr",
     "output_type": "stream",
     "text": [
      "/data/jwhughes/tf_env/lib/python3.6/site-packages/ipykernel_launcher.py:119: DeprecationWarning: using a non-integer array as obj in delete will result in an error in the future\n",
      "/data/jwhughes/tf_env/lib/python3.6/site-packages/ipykernel_launcher.py:120: DeprecationWarning: using a non-integer array as obj in delete will result in an error in the future\n"
     ]
    },
    {
     "name": "stdout",
     "output_type": "stream",
     "text": [
      "INFO:tensorflow:Our macro AUC:     0.8665238790183676\n",
      "INFO:tensorflow:Our micro AUC:     0.902885765152156\n",
      "INFO:tensorflow:2018-11-13 02:25:39.223428: 0, DNase, NaN\n",
      "INFO:tensorflow:2018-11-13 02:25:39.224715: 1, CTCF, 0.976289\n",
      "INFO:tensorflow:2018-11-13 02:25:39.239131: 2, Pol2, 0.899730\n",
      "INFO:tensorflow:2018-11-13 02:25:39.253106: 3, YY1, 0.924420\n",
      "INFO:tensorflow:2018-11-13 02:25:39.266982: 4, p300, 0.822568\n",
      "INFO:tensorflow:2018-11-13 02:25:39.281088: 5, TAF1, 0.955598\n",
      "INFO:tensorflow:2018-11-13 02:25:39.295017: 6, Pol2-4H8, 0.868885\n",
      "INFO:tensorflow:2018-11-13 02:25:39.309039: 7, c-Myc, 0.940679\n",
      "INFO:tensorflow:2018-11-13 02:25:39.322848: 8, Rad21, 0.969764\n",
      "INFO:tensorflow:2018-11-13 02:25:39.336799: 9, Max, 0.889748\n",
      "INFO:tensorflow:2018-11-13 02:25:39.350687: 10, NRSF, 0.893507\n",
      "INFO:tensorflow:2018-11-13 02:25:39.364591: 11, GABP, 0.935781\n",
      "INFO:tensorflow:2018-11-13 02:25:39.378535: 12, EZH2, 0.755642\n",
      "INFO:tensorflow:2018-11-13 02:25:39.392429: 13, CEBPB, 0.695170\n",
      "INFO:tensorflow:2018-11-13 02:25:39.406732: 14, c-Jun, 0.752668\n",
      "INFO:tensorflow:2018-11-13 02:25:39.420557: 15, ZBTB33, 0.763241\n",
      "INFO:tensorflow:2018-11-13 02:25:39.434608: 16, USF2, 0.866127\n",
      "INFO:tensorflow:2018-11-13 02:25:39.448579: 17, USF-1, 0.799551\n",
      "INFO:tensorflow:2018-11-13 02:25:39.462621: 18, TBP, 0.902044\n",
      "INFO:tensorflow:2018-11-13 02:25:39.476628: 19, RFX5, 0.852542\n",
      "INFO:tensorflow:\n",
      "INFO:tensorflow:39000 0.1838057\n",
      "INFO:tensorflow:On validation\n"
     ]
    },
    {
     "name": "stderr",
     "output_type": "stream",
     "text": [
      "/data/jwhughes/tf_env/lib/python3.6/site-packages/ipykernel_launcher.py:119: DeprecationWarning: using a non-integer array as obj in delete will result in an error in the future\n",
      "/data/jwhughes/tf_env/lib/python3.6/site-packages/ipykernel_launcher.py:120: DeprecationWarning: using a non-integer array as obj in delete will result in an error in the future\n"
     ]
    },
    {
     "name": "stdout",
     "output_type": "stream",
     "text": [
      "INFO:tensorflow:Our macro AUC:     0.8603992979777464\n",
      "INFO:tensorflow:Our micro AUC:     0.8960261217181003\n",
      "INFO:tensorflow:2018-11-13 02:27:03.026842: 0, DNase, NaN\n",
      "INFO:tensorflow:2018-11-13 02:27:03.028007: 1, CTCF, 0.959784\n",
      "INFO:tensorflow:2018-11-13 02:27:03.042269: 2, Pol2, 0.875261\n",
      "INFO:tensorflow:2018-11-13 02:27:03.056101: 3, YY1, 0.933850\n",
      "INFO:tensorflow:2018-11-13 02:27:03.069914: 4, p300, 0.855241\n",
      "INFO:tensorflow:2018-11-13 02:27:03.083829: 5, TAF1, 0.939833\n",
      "INFO:tensorflow:2018-11-13 02:27:03.097632: 6, Pol2-4H8, 0.887783\n",
      "INFO:tensorflow:2018-11-13 02:27:03.111549: 7, c-Myc, 0.924687\n",
      "INFO:tensorflow:2018-11-13 02:27:03.125370: 8, Rad21, 0.963351\n",
      "INFO:tensorflow:2018-11-13 02:27:03.139220: 9, Max, 0.874618\n",
      "INFO:tensorflow:2018-11-13 02:27:03.154508: 10, NRSF, 0.905187\n",
      "INFO:tensorflow:2018-11-13 02:27:03.168324: 11, GABP, 0.890853\n",
      "INFO:tensorflow:2018-11-13 02:27:03.182151: 12, EZH2, 0.620218\n",
      "INFO:tensorflow:2018-11-13 02:27:03.196124: 13, CEBPB, 0.709011\n",
      "INFO:tensorflow:2018-11-13 02:27:03.210276: 14, c-Jun, 0.752785\n",
      "INFO:tensorflow:2018-11-13 02:27:03.223991: 15, ZBTB33, 0.777460\n",
      "INFO:tensorflow:2018-11-13 02:27:03.238016: 16, USF2, 0.914424\n",
      "INFO:tensorflow:2018-11-13 02:27:03.252421: 17, USF-1, 0.799699\n",
      "INFO:tensorflow:2018-11-13 02:27:03.267018: 18, TBP, 0.917177\n",
      "INFO:tensorflow:2018-11-13 02:27:03.281410: 19, RFX5, 0.846363\n",
      "INFO:tensorflow:\n",
      "INFO:tensorflow:40000 0.31635138\n",
      "INFO:tensorflow:On validation\n"
     ]
    },
    {
     "name": "stderr",
     "output_type": "stream",
     "text": [
      "/data/jwhughes/tf_env/lib/python3.6/site-packages/ipykernel_launcher.py:119: DeprecationWarning: using a non-integer array as obj in delete will result in an error in the future\n",
      "/data/jwhughes/tf_env/lib/python3.6/site-packages/ipykernel_launcher.py:120: DeprecationWarning: using a non-integer array as obj in delete will result in an error in the future\n"
     ]
    },
    {
     "name": "stdout",
     "output_type": "stream",
     "text": [
      "INFO:tensorflow:Our macro AUC:     0.903104107372141\n",
      "INFO:tensorflow:Our micro AUC:     0.9337573279731052\n",
      "INFO:tensorflow:2018-11-13 02:28:26.768180: 0, DNase, NaN\n",
      "INFO:tensorflow:2018-11-13 02:28:26.769367: 1, CTCF, 0.984375\n",
      "INFO:tensorflow:2018-11-13 02:28:26.784454: 2, Pol2, 0.934955\n",
      "INFO:tensorflow:2018-11-13 02:28:26.799240: 3, YY1, 0.940665\n",
      "INFO:tensorflow:2018-11-13 02:28:26.813876: 4, p300, 0.849749\n",
      "INFO:tensorflow:2018-11-13 02:28:26.828605: 5, TAF1, 0.956457\n",
      "INFO:tensorflow:2018-11-13 02:28:26.843117: 6, Pol2-4H8, 0.912969\n",
      "INFO:tensorflow:2018-11-13 02:28:26.857871: 7, c-Myc, 0.969494\n",
      "INFO:tensorflow:2018-11-13 02:28:26.872388: 8, Rad21, 0.985688\n",
      "INFO:tensorflow:2018-11-13 02:28:26.887074: 9, Max, 0.925265\n",
      "INFO:tensorflow:2018-11-13 02:28:26.901951: 10, NRSF, 0.925562\n",
      "INFO:tensorflow:2018-11-13 02:28:26.915843: 11, GABP, 0.941834\n",
      "INFO:tensorflow:2018-11-13 02:28:26.929625: 12, EZH2, 0.764847\n",
      "INFO:tensorflow:2018-11-13 02:28:26.943370: 13, CEBPB, 0.755223\n",
      "INFO:tensorflow:2018-11-13 02:28:26.957402: 14, c-Jun, 0.828747\n",
      "INFO:tensorflow:2018-11-13 02:28:26.971061: 15, ZBTB33, 0.925223\n",
      "INFO:tensorflow:2018-11-13 02:28:26.984808: 16, USF2, 0.905454\n",
      "INFO:tensorflow:2018-11-13 02:28:26.998655: 17, USF-1, 0.866137\n",
      "INFO:tensorflow:2018-11-13 02:28:27.012547: 18, TBP, 0.935042\n",
      "INFO:tensorflow:2018-11-13 02:28:27.026184: 19, RFX5, 0.851293\n",
      "INFO:tensorflow:\n",
      "INFO:tensorflow:41000 0.47366187\n",
      "INFO:tensorflow:On validation\n"
     ]
    },
    {
     "name": "stderr",
     "output_type": "stream",
     "text": [
      "/data/jwhughes/tf_env/lib/python3.6/site-packages/ipykernel_launcher.py:119: DeprecationWarning: using a non-integer array as obj in delete will result in an error in the future\n",
      "/data/jwhughes/tf_env/lib/python3.6/site-packages/ipykernel_launcher.py:120: DeprecationWarning: using a non-integer array as obj in delete will result in an error in the future\n"
     ]
    },
    {
     "name": "stdout",
     "output_type": "stream",
     "text": [
      "INFO:tensorflow:Our macro AUC:     0.9025016481495299\n",
      "INFO:tensorflow:Our micro AUC:     0.9352955109309552\n",
      "INFO:tensorflow:2018-11-13 02:29:49.254676: 0, DNase, NaN\n",
      "INFO:tensorflow:2018-11-13 02:29:49.255885: 1, CTCF, 0.971811\n",
      "INFO:tensorflow:2018-11-13 02:29:49.270245: 2, Pol2, 0.919702\n",
      "INFO:tensorflow:2018-11-13 02:29:49.284563: 3, YY1, 0.948349\n",
      "INFO:tensorflow:2018-11-13 02:29:49.298694: 4, p300, 0.887565\n",
      "INFO:tensorflow:2018-11-13 02:29:49.313004: 5, TAF1, 0.960619\n",
      "INFO:tensorflow:2018-11-13 02:29:49.327450: 6, Pol2-4H8, 0.924397\n",
      "INFO:tensorflow:2018-11-13 02:29:49.341653: 7, c-Myc, 0.970531\n",
      "INFO:tensorflow:2018-11-13 02:29:49.355917: 8, Rad21, 0.982583\n",
      "INFO:tensorflow:2018-11-13 02:29:49.374620: 9, Max, 0.922624\n",
      "INFO:tensorflow:2018-11-13 02:29:49.388484: 10, NRSF, 0.954843\n",
      "INFO:tensorflow:2018-11-13 02:29:49.402378: 11, GABP, 0.957094\n",
      "INFO:tensorflow:2018-11-13 02:29:49.416414: 12, EZH2, 0.707097\n",
      "INFO:tensorflow:2018-11-13 02:29:49.430164: 13, CEBPB, 0.779722\n",
      "INFO:tensorflow:2018-11-13 02:29:49.444737: 14, c-Jun, 0.872196\n",
      "INFO:tensorflow:2018-11-13 02:29:49.458982: 15, ZBTB33, 0.840608\n",
      "INFO:tensorflow:2018-11-13 02:29:49.473252: 16, USF2, 0.887885\n",
      "INFO:tensorflow:2018-11-13 02:29:49.487541: 17, USF-1, 0.825859\n",
      "INFO:tensorflow:2018-11-13 02:29:49.501601: 18, TBP, 0.940501\n",
      "INFO:tensorflow:2018-11-13 02:29:49.515963: 19, RFX5, 0.893548\n",
      "INFO:tensorflow:\n",
      "INFO:tensorflow:42000 0.51033384\n",
      "INFO:tensorflow:On validation\n"
     ]
    },
    {
     "name": "stderr",
     "output_type": "stream",
     "text": [
      "/data/jwhughes/tf_env/lib/python3.6/site-packages/ipykernel_launcher.py:119: DeprecationWarning: using a non-integer array as obj in delete will result in an error in the future\n",
      "/data/jwhughes/tf_env/lib/python3.6/site-packages/ipykernel_launcher.py:120: DeprecationWarning: using a non-integer array as obj in delete will result in an error in the future\n"
     ]
    },
    {
     "name": "stdout",
     "output_type": "stream",
     "text": [
      "INFO:tensorflow:Our macro AUC:     0.8844719006261383\n",
      "INFO:tensorflow:Our micro AUC:     0.9115556105746047\n",
      "INFO:tensorflow:2018-11-13 02:31:12.581550: 0, DNase, NaN\n",
      "INFO:tensorflow:2018-11-13 02:31:12.584945: 1, CTCF, 0.956350\n",
      "INFO:tensorflow:2018-11-13 02:31:12.601093: 2, Pol2, 0.858478\n",
      "INFO:tensorflow:2018-11-13 02:31:12.617666: 3, YY1, 0.924162\n",
      "INFO:tensorflow:2018-11-13 02:31:12.632850: 4, p300, 0.888261\n",
      "INFO:tensorflow:2018-11-13 02:31:12.648461: 5, TAF1, 0.928881\n",
      "INFO:tensorflow:2018-11-13 02:31:12.663246: 6, Pol2-4H8, 0.871022\n",
      "INFO:tensorflow:2018-11-13 02:31:12.677253: 7, c-Myc, 0.943905\n",
      "INFO:tensorflow:2018-11-13 02:31:12.692696: 8, Rad21, 0.985282\n",
      "INFO:tensorflow:2018-11-13 02:31:12.706964: 9, Max, 0.892693\n",
      "INFO:tensorflow:2018-11-13 02:31:12.721303: 10, NRSF, 0.916280\n",
      "INFO:tensorflow:2018-11-13 02:31:12.735496: 11, GABP, 0.892068\n",
      "INFO:tensorflow:2018-11-13 02:31:12.749734: 12, EZH2, 0.641467\n",
      "INFO:tensorflow:2018-11-13 02:31:12.763644: 13, CEBPB, 0.778313\n",
      "INFO:tensorflow:2018-11-13 02:31:12.779274: 14, c-Jun, 0.912143\n",
      "INFO:tensorflow:2018-11-13 02:31:12.795020: 15, ZBTB33, 0.826083\n",
      "INFO:tensorflow:2018-11-13 02:31:12.809662: 16, USF2, 0.906206\n",
      "INFO:tensorflow:2018-11-13 02:31:12.824405: 17, USF-1, 0.843321\n",
      "INFO:tensorflow:2018-11-13 02:31:12.839745: 18, TBP, 0.909543\n",
      "INFO:tensorflow:2018-11-13 02:31:12.854151: 19, RFX5, 0.930509\n",
      "INFO:tensorflow:\n",
      "INFO:tensorflow:43000 0.54276985\n",
      "INFO:tensorflow:On validation\n"
     ]
    },
    {
     "name": "stderr",
     "output_type": "stream",
     "text": [
      "/data/jwhughes/tf_env/lib/python3.6/site-packages/ipykernel_launcher.py:119: DeprecationWarning: using a non-integer array as obj in delete will result in an error in the future\n",
      "/data/jwhughes/tf_env/lib/python3.6/site-packages/ipykernel_launcher.py:120: DeprecationWarning: using a non-integer array as obj in delete will result in an error in the future\n"
     ]
    },
    {
     "name": "stdout",
     "output_type": "stream",
     "text": [
      "INFO:tensorflow:Our macro AUC:     0.8987489243645986\n",
      "INFO:tensorflow:Our micro AUC:     0.9257774873549615\n",
      "INFO:tensorflow:2018-11-13 02:32:36.955216: 0, DNase, NaN\n",
      "INFO:tensorflow:2018-11-13 02:32:36.956931: 1, CTCF, 0.972524\n",
      "INFO:tensorflow:2018-11-13 02:32:36.972003: 2, Pol2, 0.916218\n",
      "INFO:tensorflow:2018-11-13 02:32:36.988085: 3, YY1, 0.948190\n",
      "INFO:tensorflow:2018-11-13 02:32:37.002711: 4, p300, 0.859455\n",
      "INFO:tensorflow:2018-11-13 02:32:37.017015: 5, TAF1, 0.961115\n",
      "INFO:tensorflow:2018-11-13 02:32:37.031615: 6, Pol2-4H8, 0.896649\n",
      "INFO:tensorflow:2018-11-13 02:32:37.046710: 7, c-Myc, 0.940066\n",
      "INFO:tensorflow:2018-11-13 02:32:37.062954: 8, Rad21, 0.983102\n",
      "INFO:tensorflow:2018-11-13 02:32:37.077880: 9, Max, 0.897254\n",
      "INFO:tensorflow:2018-11-13 02:32:37.093092: 10, NRSF, 0.923139\n",
      "INFO:tensorflow:2018-11-13 02:32:37.108570: 11, GABP, 0.922213\n",
      "INFO:tensorflow:2018-11-13 02:32:37.122690: 12, EZH2, 0.713344\n",
      "INFO:tensorflow:2018-11-13 02:32:37.136644: 13, CEBPB, 0.750160\n",
      "INFO:tensorflow:2018-11-13 02:32:37.151529: 14, c-Jun, 0.877836\n",
      "INFO:tensorflow:2018-11-13 02:32:37.166579: 15, ZBTB33, 0.913238\n",
      "INFO:tensorflow:2018-11-13 02:32:37.180906: 16, USF2, 0.917993\n",
      "INFO:tensorflow:2018-11-13 02:32:37.194727: 17, USF-1, 0.853687\n",
      "INFO:tensorflow:2018-11-13 02:32:37.211061: 18, TBP, 0.914052\n",
      "INFO:tensorflow:2018-11-13 02:32:37.226507: 19, RFX5, 0.915995\n",
      "INFO:tensorflow:\n",
      "INFO:tensorflow:44000 0.391654\n",
      "INFO:tensorflow:On validation\n"
     ]
    },
    {
     "name": "stderr",
     "output_type": "stream",
     "text": [
      "/data/jwhughes/tf_env/lib/python3.6/site-packages/ipykernel_launcher.py:119: DeprecationWarning: using a non-integer array as obj in delete will result in an error in the future\n",
      "/data/jwhughes/tf_env/lib/python3.6/site-packages/ipykernel_launcher.py:120: DeprecationWarning: using a non-integer array as obj in delete will result in an error in the future\n"
     ]
    },
    {
     "name": "stdout",
     "output_type": "stream",
     "text": [
      "INFO:tensorflow:Our macro AUC:     0.904580246788114\n",
      "INFO:tensorflow:Our micro AUC:     0.9239700056706548\n",
      "INFO:tensorflow:2018-11-13 02:34:00.546167: 0, DNase, NaN\n",
      "INFO:tensorflow:2018-11-13 02:34:00.547568: 1, CTCF, 0.963160\n",
      "INFO:tensorflow:2018-11-13 02:34:00.562446: 2, Pol2, 0.902750\n",
      "INFO:tensorflow:2018-11-13 02:34:00.576605: 3, YY1, 0.941043\n",
      "INFO:tensorflow:2018-11-13 02:34:00.592314: 4, p300, 0.862147\n",
      "INFO:tensorflow:2018-11-13 02:34:00.609054: 5, TAF1, 0.965590\n",
      "INFO:tensorflow:2018-11-13 02:34:00.625663: 6, Pol2-4H8, 0.894495\n",
      "INFO:tensorflow:2018-11-13 02:34:00.642215: 7, c-Myc, 0.957021\n",
      "INFO:tensorflow:2018-11-13 02:34:00.659115: 8, Rad21, 0.987462\n",
      "INFO:tensorflow:2018-11-13 02:34:00.674715: 9, Max, 0.922499\n",
      "INFO:tensorflow:2018-11-13 02:34:00.690415: 10, NRSF, 0.938140\n",
      "INFO:tensorflow:2018-11-13 02:34:00.705773: 11, GABP, 0.943966\n",
      "INFO:tensorflow:2018-11-13 02:34:00.722166: 12, EZH2, 0.706445\n",
      "INFO:tensorflow:2018-11-13 02:34:00.736468: 13, CEBPB, 0.751651\n",
      "INFO:tensorflow:2018-11-13 02:34:00.752574: 14, c-Jun, 0.864402\n",
      "INFO:tensorflow:2018-11-13 02:34:00.767754: 15, ZBTB33, 0.927587\n",
      "INFO:tensorflow:2018-11-13 02:34:00.783847: 16, USF2, 0.959001\n",
      "INFO:tensorflow:2018-11-13 02:34:00.798621: 17, USF-1, 0.874616\n",
      "INFO:tensorflow:2018-11-13 02:34:00.816923: 18, TBP, 0.915608\n",
      "INFO:tensorflow:2018-11-13 02:34:00.833769: 19, RFX5, 0.909441\n",
      "INFO:tensorflow:\n",
      "INFO:tensorflow:45000 0.78589594\n",
      "INFO:tensorflow:On validation\n"
     ]
    },
    {
     "name": "stderr",
     "output_type": "stream",
     "text": [
      "/data/jwhughes/tf_env/lib/python3.6/site-packages/ipykernel_launcher.py:119: DeprecationWarning: using a non-integer array as obj in delete will result in an error in the future\n",
      "/data/jwhughes/tf_env/lib/python3.6/site-packages/ipykernel_launcher.py:120: DeprecationWarning: using a non-integer array as obj in delete will result in an error in the future\n"
     ]
    },
    {
     "name": "stdout",
     "output_type": "stream",
     "text": [
      "INFO:tensorflow:Our macro AUC:     0.903633384475972\n",
      "INFO:tensorflow:Our micro AUC:     0.9287350213687598\n",
      "INFO:tensorflow:2018-11-13 02:35:22.170134: 0, DNase, NaN\n",
      "INFO:tensorflow:2018-11-13 02:35:22.171827: 1, CTCF, 0.974704\n",
      "INFO:tensorflow:2018-11-13 02:35:22.188518: 2, Pol2, 0.922982\n",
      "INFO:tensorflow:2018-11-13 02:35:22.203097: 3, YY1, 0.943206\n",
      "INFO:tensorflow:2018-11-13 02:35:22.217188: 4, p300, 0.861464\n",
      "INFO:tensorflow:2018-11-13 02:35:22.231985: 5, TAF1, 0.978138\n",
      "INFO:tensorflow:2018-11-13 02:35:22.246261: 6, Pol2-4H8, 0.897122\n",
      "INFO:tensorflow:2018-11-13 02:35:22.260722: 7, c-Myc, 0.954048\n",
      "INFO:tensorflow:2018-11-13 02:35:22.274677: 8, Rad21, 0.979069\n",
      "INFO:tensorflow:2018-11-13 02:35:22.289271: 9, Max, 0.908047\n",
      "INFO:tensorflow:2018-11-13 02:35:22.303221: 10, NRSF, 0.934674\n",
      "INFO:tensorflow:2018-11-13 02:35:22.317571: 11, GABP, 0.929096\n",
      "INFO:tensorflow:2018-11-13 02:35:22.331975: 12, EZH2, 0.782797\n",
      "INFO:tensorflow:2018-11-13 02:35:22.346204: 13, CEBPB, 0.749181\n",
      "INFO:tensorflow:2018-11-13 02:35:22.361631: 14, c-Jun, 0.823746\n",
      "INFO:tensorflow:2018-11-13 02:35:22.375472: 15, ZBTB33, 0.933264\n",
      "INFO:tensorflow:2018-11-13 02:35:22.389211: 16, USF2, 0.898712\n",
      "INFO:tensorflow:2018-11-13 02:35:22.404385: 17, USF-1, 0.848887\n",
      "INFO:tensorflow:2018-11-13 02:35:22.419859: 18, TBP, 0.931656\n",
      "INFO:tensorflow:2018-11-13 02:35:22.433782: 19, RFX5, 0.918242\n",
      "INFO:tensorflow:\n",
      "INFO:tensorflow:46000 0.14890134\n",
      "INFO:tensorflow:On validation\n"
     ]
    },
    {
     "name": "stderr",
     "output_type": "stream",
     "text": [
      "/data/jwhughes/tf_env/lib/python3.6/site-packages/ipykernel_launcher.py:119: DeprecationWarning: using a non-integer array as obj in delete will result in an error in the future\n",
      "/data/jwhughes/tf_env/lib/python3.6/site-packages/ipykernel_launcher.py:120: DeprecationWarning: using a non-integer array as obj in delete will result in an error in the future\n"
     ]
    },
    {
     "name": "stdout",
     "output_type": "stream",
     "text": [
      "INFO:tensorflow:Our macro AUC:     0.9069938990072306\n",
      "INFO:tensorflow:Our micro AUC:     0.9327955811926202\n",
      "INFO:tensorflow:2018-11-13 02:36:43.867208: 0, DNase, NaN\n",
      "INFO:tensorflow:2018-11-13 02:36:43.868798: 1, CTCF, 0.966203\n",
      "INFO:tensorflow:2018-11-13 02:36:43.883965: 2, Pol2, 0.940397\n",
      "INFO:tensorflow:2018-11-13 02:36:43.898603: 3, YY1, 0.956612\n",
      "INFO:tensorflow:2018-11-13 02:36:43.914027: 4, p300, 0.875154\n",
      "INFO:tensorflow:2018-11-13 02:36:43.928528: 5, TAF1, 0.981506\n",
      "INFO:tensorflow:2018-11-13 02:36:43.942864: 6, Pol2-4H8, 0.934619\n",
      "INFO:tensorflow:2018-11-13 02:36:43.957445: 7, c-Myc, 0.973515\n",
      "INFO:tensorflow:2018-11-13 02:36:43.971672: 8, Rad21, 0.974570\n",
      "INFO:tensorflow:2018-11-13 02:36:43.985959: 9, Max, 0.935150\n",
      "INFO:tensorflow:2018-11-13 02:36:44.000546: 10, NRSF, 0.940991\n",
      "INFO:tensorflow:2018-11-13 02:36:44.014508: 11, GABP, 0.954728\n",
      "INFO:tensorflow:2018-11-13 02:36:44.028936: 12, EZH2, 0.783987\n",
      "INFO:tensorflow:2018-11-13 02:36:44.042908: 13, CEBPB, 0.750570\n",
      "INFO:tensorflow:2018-11-13 02:36:44.057220: 14, c-Jun, 0.783949\n",
      "INFO:tensorflow:2018-11-13 02:36:44.071465: 15, ZBTB33, 0.930396\n",
      "INFO:tensorflow:2018-11-13 02:36:44.085502: 16, USF2, 0.881689\n",
      "INFO:tensorflow:2018-11-13 02:36:44.100042: 17, USF-1, 0.835812\n",
      "INFO:tensorflow:2018-11-13 02:36:44.114534: 18, TBP, 0.947905\n",
      "INFO:tensorflow:2018-11-13 02:36:44.128524: 19, RFX5, 0.885130\n",
      "INFO:tensorflow:\n",
      "INFO:tensorflow:47000 0.8171201\n",
      "INFO:tensorflow:On validation\n"
     ]
    },
    {
     "name": "stderr",
     "output_type": "stream",
     "text": [
      "/data/jwhughes/tf_env/lib/python3.6/site-packages/ipykernel_launcher.py:119: DeprecationWarning: using a non-integer array as obj in delete will result in an error in the future\n",
      "/data/jwhughes/tf_env/lib/python3.6/site-packages/ipykernel_launcher.py:120: DeprecationWarning: using a non-integer array as obj in delete will result in an error in the future\n"
     ]
    },
    {
     "name": "stdout",
     "output_type": "stream",
     "text": [
      "INFO:tensorflow:Our macro AUC:     0.9177470733658734\n",
      "INFO:tensorflow:Our micro AUC:     0.9411134819467386\n",
      "INFO:tensorflow:2018-11-13 02:38:06.121486: 0, DNase, NaN\n",
      "INFO:tensorflow:2018-11-13 02:38:06.122703: 1, CTCF, 0.971389\n",
      "INFO:tensorflow:2018-11-13 02:38:06.137380: 2, Pol2, 0.957118\n",
      "INFO:tensorflow:2018-11-13 02:38:06.152223: 3, YY1, 0.959643\n",
      "INFO:tensorflow:2018-11-13 02:38:06.166108: 4, p300, 0.862179\n",
      "INFO:tensorflow:2018-11-13 02:38:06.179982: 5, TAF1, 0.973492\n",
      "INFO:tensorflow:2018-11-13 02:38:06.193843: 6, Pol2-4H8, 0.931047\n",
      "INFO:tensorflow:2018-11-13 02:38:06.207680: 7, c-Myc, 0.957532\n",
      "INFO:tensorflow:2018-11-13 02:38:06.221359: 8, Rad21, 0.985605\n",
      "INFO:tensorflow:2018-11-13 02:38:06.235072: 9, Max, 0.914034\n",
      "INFO:tensorflow:2018-11-13 02:38:06.248929: 10, NRSF, 0.956809\n",
      "INFO:tensorflow:2018-11-13 02:38:06.262924: 11, GABP, 0.949712\n",
      "INFO:tensorflow:2018-11-13 02:38:06.276666: 12, EZH2, 0.812638\n",
      "INFO:tensorflow:2018-11-13 02:38:06.290492: 13, CEBPB, 0.775584\n",
      "INFO:tensorflow:2018-11-13 02:38:06.305374: 14, c-Jun, 0.853294\n",
      "INFO:tensorflow:2018-11-13 02:38:06.320963: 15, ZBTB33, 0.952880\n",
      "INFO:tensorflow:2018-11-13 02:38:06.334936: 16, USF2, 0.911593\n",
      "INFO:tensorflow:2018-11-13 02:38:06.352210: 17, USF-1, 0.857052\n",
      "INFO:tensorflow:2018-11-13 02:38:06.366594: 18, TBP, 0.934889\n",
      "INFO:tensorflow:2018-11-13 02:38:06.380444: 19, RFX5, 0.920706\n",
      "INFO:tensorflow:\n",
      "INFO:tensorflow:48000 1.043366\n",
      "INFO:tensorflow:On validation\n"
     ]
    },
    {
     "name": "stderr",
     "output_type": "stream",
     "text": [
      "/data/jwhughes/tf_env/lib/python3.6/site-packages/ipykernel_launcher.py:119: DeprecationWarning: using a non-integer array as obj in delete will result in an error in the future\n",
      "/data/jwhughes/tf_env/lib/python3.6/site-packages/ipykernel_launcher.py:120: DeprecationWarning: using a non-integer array as obj in delete will result in an error in the future\n"
     ]
    },
    {
     "name": "stdout",
     "output_type": "stream",
     "text": [
      "INFO:tensorflow:Our macro AUC:     0.9118050474435315\n",
      "INFO:tensorflow:Our micro AUC:     0.9368628512319753\n",
      "INFO:tensorflow:2018-11-13 02:39:28.373809: 0, DNase, NaN\n",
      "INFO:tensorflow:2018-11-13 02:39:28.375077: 1, CTCF, 0.979497\n",
      "INFO:tensorflow:2018-11-13 02:39:28.389471: 2, Pol2, 0.910869\n",
      "INFO:tensorflow:2018-11-13 02:39:28.404020: 3, YY1, 0.940591\n",
      "INFO:tensorflow:2018-11-13 02:39:28.417993: 4, p300, 0.860062\n",
      "INFO:tensorflow:2018-11-13 02:39:28.432111: 5, TAF1, 0.961252\n",
      "INFO:tensorflow:2018-11-13 02:39:28.445930: 6, Pol2-4H8, 0.914446\n",
      "INFO:tensorflow:2018-11-13 02:39:28.459944: 7, c-Myc, 0.960816\n",
      "INFO:tensorflow:2018-11-13 02:39:28.474992: 8, Rad21, 0.984321\n",
      "INFO:tensorflow:2018-11-13 02:39:28.489083: 9, Max, 0.925841\n",
      "INFO:tensorflow:2018-11-13 02:39:28.502947: 10, NRSF, 0.928906\n",
      "INFO:tensorflow:2018-11-13 02:39:28.517087: 11, GABP, 0.943317\n",
      "INFO:tensorflow:2018-11-13 02:39:28.530848: 12, EZH2, 0.765980\n",
      "INFO:tensorflow:2018-11-13 02:39:28.544495: 13, CEBPB, 0.774342\n",
      "INFO:tensorflow:2018-11-13 02:39:28.558768: 14, c-Jun, 0.891824\n",
      "INFO:tensorflow:2018-11-13 02:39:28.572304: 15, ZBTB33, 0.926290\n",
      "INFO:tensorflow:2018-11-13 02:39:28.585946: 16, USF2, 0.958242\n",
      "INFO:tensorflow:2018-11-13 02:39:28.599420: 17, USF-1, 0.885947\n",
      "INFO:tensorflow:2018-11-13 02:39:28.613194: 18, TBP, 0.928292\n",
      "INFO:tensorflow:2018-11-13 02:39:28.628036: 19, RFX5, 0.883461\n",
      "INFO:tensorflow:\n",
      "INFO:tensorflow:49000 0.13354702\n",
      "INFO:tensorflow:On validation\n"
     ]
    },
    {
     "name": "stderr",
     "output_type": "stream",
     "text": [
      "/data/jwhughes/tf_env/lib/python3.6/site-packages/ipykernel_launcher.py:119: DeprecationWarning: using a non-integer array as obj in delete will result in an error in the future\n",
      "/data/jwhughes/tf_env/lib/python3.6/site-packages/ipykernel_launcher.py:120: DeprecationWarning: using a non-integer array as obj in delete will result in an error in the future\n"
     ]
    },
    {
     "name": "stdout",
     "output_type": "stream",
     "text": [
      "INFO:tensorflow:Our macro AUC:     0.9200532734263515\n",
      "INFO:tensorflow:Our micro AUC:     0.9429620113490534\n",
      "INFO:tensorflow:2018-11-13 02:40:50.154273: 0, DNase, NaN\n",
      "INFO:tensorflow:2018-11-13 02:40:50.155402: 1, CTCF, 0.987477\n",
      "INFO:tensorflow:2018-11-13 02:40:50.170008: 2, Pol2, 0.943412\n",
      "INFO:tensorflow:2018-11-13 02:40:50.183838: 3, YY1, 0.955252\n",
      "INFO:tensorflow:2018-11-13 02:40:50.197528: 4, p300, 0.890706\n",
      "INFO:tensorflow:2018-11-13 02:40:50.211487: 5, TAF1, 0.967745\n",
      "INFO:tensorflow:2018-11-13 02:40:50.225729: 6, Pol2-4H8, 0.927440\n",
      "INFO:tensorflow:2018-11-13 02:40:50.240041: 7, c-Myc, 0.965123\n",
      "INFO:tensorflow:2018-11-13 02:40:50.253899: 8, Rad21, 0.988687\n",
      "INFO:tensorflow:2018-11-13 02:40:50.268237: 9, Max, 0.925585\n",
      "INFO:tensorflow:2018-11-13 02:40:50.282276: 10, NRSF, 0.929687\n",
      "INFO:tensorflow:2018-11-13 02:40:50.296810: 11, GABP, 0.951563\n",
      "INFO:tensorflow:2018-11-13 02:40:50.310795: 12, EZH2, 0.854511\n",
      "INFO:tensorflow:2018-11-13 02:40:50.324592: 13, CEBPB, 0.788224\n",
      "INFO:tensorflow:2018-11-13 02:40:50.338778: 14, c-Jun, 0.821937\n",
      "INFO:tensorflow:2018-11-13 02:40:50.352682: 15, ZBTB33, 0.921088\n",
      "INFO:tensorflow:2018-11-13 02:40:50.366408: 16, USF2, 0.912820\n",
      "INFO:tensorflow:2018-11-13 02:40:50.380182: 17, USF-1, 0.876161\n",
      "INFO:tensorflow:2018-11-13 02:40:50.393882: 18, TBP, 0.916311\n",
      "INFO:tensorflow:2018-11-13 02:40:50.407688: 19, RFX5, 0.957283\n",
      "INFO:tensorflow:\n",
      "INFO:tensorflow:50000 1.0884548\n",
      "INFO:tensorflow:On validation\n"
     ]
    },
    {
     "name": "stderr",
     "output_type": "stream",
     "text": [
      "/data/jwhughes/tf_env/lib/python3.6/site-packages/ipykernel_launcher.py:119: DeprecationWarning: using a non-integer array as obj in delete will result in an error in the future\n",
      "/data/jwhughes/tf_env/lib/python3.6/site-packages/ipykernel_launcher.py:120: DeprecationWarning: using a non-integer array as obj in delete will result in an error in the future\n"
     ]
    },
    {
     "name": "stdout",
     "output_type": "stream",
     "text": [
      "INFO:tensorflow:Our macro AUC:     0.8839082346861385\n",
      "INFO:tensorflow:Our micro AUC:     0.9179124645624029\n",
      "INFO:tensorflow:2018-11-13 02:42:12.420962: 0, DNase, NaN\n",
      "INFO:tensorflow:2018-11-13 02:42:12.422428: 1, CTCF, 0.984815\n",
      "INFO:tensorflow:2018-11-13 02:42:12.437106: 2, Pol2, 0.897207\n",
      "INFO:tensorflow:2018-11-13 02:42:12.451513: 3, YY1, 0.924951\n",
      "INFO:tensorflow:2018-11-13 02:42:12.465604: 4, p300, 0.853862\n",
      "INFO:tensorflow:2018-11-13 02:42:12.480698: 5, TAF1, 0.941207\n",
      "INFO:tensorflow:2018-11-13 02:42:12.494960: 6, Pol2-4H8, 0.863270\n",
      "INFO:tensorflow:2018-11-13 02:42:12.510366: 7, c-Myc, 0.931505\n",
      "INFO:tensorflow:2018-11-13 02:42:12.525049: 8, Rad21, 0.989161\n",
      "INFO:tensorflow:2018-11-13 02:42:12.541600: 9, Max, 0.883847\n",
      "INFO:tensorflow:2018-11-13 02:42:12.555993: 10, NRSF, 0.903075\n",
      "INFO:tensorflow:2018-11-13 02:42:12.573069: 11, GABP, 0.904296\n",
      "INFO:tensorflow:2018-11-13 02:42:12.588821: 12, EZH2, 0.814510\n",
      "INFO:tensorflow:2018-11-13 02:42:12.603453: 13, CEBPB, 0.748195\n",
      "INFO:tensorflow:2018-11-13 02:42:12.618454: 14, c-Jun, 0.755139\n",
      "INFO:tensorflow:2018-11-13 02:42:12.633633: 15, ZBTB33, 0.842101\n",
      "INFO:tensorflow:2018-11-13 02:42:12.648249: 16, USF2, 0.935324\n",
      "INFO:tensorflow:2018-11-13 02:42:12.662937: 17, USF-1, 0.841529\n",
      "INFO:tensorflow:2018-11-13 02:42:12.677438: 18, TBP, 0.895518\n",
      "INFO:tensorflow:2018-11-13 02:42:12.693416: 19, RFX5, 0.884744\n",
      "INFO:tensorflow:\n",
      "INFO:tensorflow:51000 0.061721087\n",
      "INFO:tensorflow:On validation\n"
     ]
    },
    {
     "name": "stderr",
     "output_type": "stream",
     "text": [
      "/data/jwhughes/tf_env/lib/python3.6/site-packages/ipykernel_launcher.py:119: DeprecationWarning: using a non-integer array as obj in delete will result in an error in the future\n",
      "/data/jwhughes/tf_env/lib/python3.6/site-packages/ipykernel_launcher.py:120: DeprecationWarning: using a non-integer array as obj in delete will result in an error in the future\n"
     ]
    },
    {
     "name": "stdout",
     "output_type": "stream",
     "text": [
      "INFO:tensorflow:Our macro AUC:     0.8908332496952316\n",
      "INFO:tensorflow:Our micro AUC:     0.9209331135333176\n",
      "INFO:tensorflow:2018-11-13 02:43:35.711860: 0, DNase, NaN\n",
      "INFO:tensorflow:2018-11-13 02:43:35.713114: 1, CTCF, 0.973332\n",
      "INFO:tensorflow:2018-11-13 02:43:35.728080: 2, Pol2, 0.910810\n",
      "INFO:tensorflow:2018-11-13 02:43:35.742318: 3, YY1, 0.956617\n",
      "INFO:tensorflow:2018-11-13 02:43:35.756405: 4, p300, 0.873750\n",
      "INFO:tensorflow:2018-11-13 02:43:35.770672: 5, TAF1, 0.950072\n",
      "INFO:tensorflow:2018-11-13 02:43:35.784792: 6, Pol2-4H8, 0.876638\n",
      "INFO:tensorflow:2018-11-13 02:43:35.799017: 7, c-Myc, 0.940925\n",
      "INFO:tensorflow:2018-11-13 02:43:35.812603: 8, Rad21, 0.986653\n",
      "INFO:tensorflow:2018-11-13 02:43:35.826656: 9, Max, 0.902572\n",
      "INFO:tensorflow:2018-11-13 02:43:35.840891: 10, NRSF, 0.900389\n",
      "INFO:tensorflow:2018-11-13 02:43:35.855518: 11, GABP, 0.902569\n",
      "INFO:tensorflow:2018-11-13 02:43:35.869786: 12, EZH2, 0.699974\n",
      "INFO:tensorflow:2018-11-13 02:43:35.884645: 13, CEBPB, 0.778453\n",
      "INFO:tensorflow:2018-11-13 02:43:35.899442: 14, c-Jun, 0.854438\n",
      "INFO:tensorflow:2018-11-13 02:43:35.913997: 15, ZBTB33, 0.868708\n",
      "INFO:tensorflow:2018-11-13 02:43:35.928887: 16, USF2, 0.892546\n",
      "INFO:tensorflow:2018-11-13 02:43:35.943377: 17, USF-1, 0.826211\n",
      "INFO:tensorflow:2018-11-13 02:43:35.957909: 18, TBP, 0.911405\n",
      "INFO:tensorflow:2018-11-13 02:43:35.972485: 19, RFX5, 0.919772\n",
      "INFO:tensorflow:\n",
      "INFO:tensorflow:52000 0.2692725\n",
      "INFO:tensorflow:On validation\n"
     ]
    },
    {
     "name": "stderr",
     "output_type": "stream",
     "text": [
      "/data/jwhughes/tf_env/lib/python3.6/site-packages/ipykernel_launcher.py:119: DeprecationWarning: using a non-integer array as obj in delete will result in an error in the future\n",
      "/data/jwhughes/tf_env/lib/python3.6/site-packages/ipykernel_launcher.py:120: DeprecationWarning: using a non-integer array as obj in delete will result in an error in the future\n"
     ]
    },
    {
     "name": "stdout",
     "output_type": "stream",
     "text": [
      "INFO:tensorflow:Our macro AUC:     0.8137542930776371\n",
      "INFO:tensorflow:Our micro AUC:     0.8488396910814013\n",
      "INFO:tensorflow:2018-11-13 02:44:58.938897: 0, DNase, NaN\n",
      "INFO:tensorflow:2018-11-13 02:44:58.940426: 1, CTCF, 0.963829\n",
      "INFO:tensorflow:2018-11-13 02:44:58.955087: 2, Pol2, 0.834959\n",
      "INFO:tensorflow:2018-11-13 02:44:58.969778: 3, YY1, 0.862123\n",
      "INFO:tensorflow:2018-11-13 02:44:58.984148: 4, p300, 0.696753\n",
      "INFO:tensorflow:2018-11-13 02:44:58.999694: 5, TAF1, 0.901588\n",
      "INFO:tensorflow:2018-11-13 02:44:59.014321: 6, Pol2-4H8, 0.752903\n",
      "INFO:tensorflow:2018-11-13 02:44:59.029495: 7, c-Myc, 0.854844\n",
      "INFO:tensorflow:2018-11-13 02:44:59.043851: 8, Rad21, 0.934376\n",
      "INFO:tensorflow:2018-11-13 02:44:59.059517: 9, Max, 0.829056\n",
      "INFO:tensorflow:2018-11-13 02:44:59.074708: 10, NRSF, 0.846081\n",
      "INFO:tensorflow:2018-11-13 02:44:59.089756: 11, GABP, 0.865385\n",
      "INFO:tensorflow:2018-11-13 02:44:59.104504: 12, EZH2, 0.709911\n",
      "INFO:tensorflow:2018-11-13 02:44:59.118728: 13, CEBPB, 0.705676\n",
      "INFO:tensorflow:2018-11-13 02:44:59.133459: 14, c-Jun, 0.798508\n",
      "INFO:tensorflow:2018-11-13 02:44:59.147758: 15, ZBTB33, 0.725927\n",
      "INFO:tensorflow:2018-11-13 02:44:59.163054: 16, USF2, 0.832932\n",
      "INFO:tensorflow:2018-11-13 02:44:59.178034: 17, USF-1, 0.762749\n",
      "INFO:tensorflow:2018-11-13 02:44:59.192568: 18, TBP, 0.824755\n",
      "INFO:tensorflow:2018-11-13 02:44:59.207446: 19, RFX5, 0.758978\n",
      "INFO:tensorflow:\n",
      "INFO:tensorflow:53000 0.71056384\n",
      "INFO:tensorflow:On validation\n"
     ]
    },
    {
     "name": "stderr",
     "output_type": "stream",
     "text": [
      "/data/jwhughes/tf_env/lib/python3.6/site-packages/ipykernel_launcher.py:119: DeprecationWarning: using a non-integer array as obj in delete will result in an error in the future\n",
      "/data/jwhughes/tf_env/lib/python3.6/site-packages/ipykernel_launcher.py:120: DeprecationWarning: using a non-integer array as obj in delete will result in an error in the future\n"
     ]
    },
    {
     "name": "stdout",
     "output_type": "stream",
     "text": [
      "INFO:tensorflow:Our macro AUC:     0.8777174899682836\n",
      "INFO:tensorflow:Our micro AUC:     0.9111820350501243\n",
      "INFO:tensorflow:2018-11-13 02:46:21.346993: 0, DNase, NaN\n",
      "INFO:tensorflow:2018-11-13 02:46:21.348324: 1, CTCF, 0.969980\n",
      "INFO:tensorflow:2018-11-13 02:46:21.362738: 2, Pol2, 0.899379\n",
      "INFO:tensorflow:2018-11-13 02:46:21.376755: 3, YY1, 0.927063\n",
      "INFO:tensorflow:2018-11-13 02:46:21.390798: 4, p300, 0.865529\n",
      "INFO:tensorflow:2018-11-13 02:46:21.405603: 5, TAF1, 0.953360\n",
      "INFO:tensorflow:2018-11-13 02:46:21.419920: 6, Pol2-4H8, 0.864406\n",
      "INFO:tensorflow:2018-11-13 02:46:21.435285: 7, c-Myc, 0.909657\n",
      "INFO:tensorflow:2018-11-13 02:46:21.448984: 8, Rad21, 0.979974\n",
      "INFO:tensorflow:2018-11-13 02:46:21.462518: 9, Max, 0.900009\n",
      "INFO:tensorflow:2018-11-13 02:46:21.476174: 10, NRSF, 0.907575\n",
      "INFO:tensorflow:2018-11-13 02:46:21.490276: 11, GABP, 0.927744\n",
      "INFO:tensorflow:2018-11-13 02:46:21.504317: 12, EZH2, 0.725265\n",
      "INFO:tensorflow:2018-11-13 02:46:21.517981: 13, CEBPB, 0.702763\n",
      "INFO:tensorflow:2018-11-13 02:46:21.532241: 14, c-Jun, 0.806189\n",
      "INFO:tensorflow:2018-11-13 02:46:21.545904: 15, ZBTB33, 0.900913\n",
      "INFO:tensorflow:2018-11-13 02:46:21.559598: 16, USF2, 0.817303\n",
      "INFO:tensorflow:2018-11-13 02:46:21.573243: 17, USF-1, 0.774691\n",
      "INFO:tensorflow:2018-11-13 02:46:21.587065: 18, TBP, 0.901022\n",
      "INFO:tensorflow:2018-11-13 02:46:21.600889: 19, RFX5, 0.943810\n",
      "INFO:tensorflow:\n",
      "INFO:tensorflow:54000 1.7897921\n",
      "INFO:tensorflow:On validation\n"
     ]
    },
    {
     "name": "stderr",
     "output_type": "stream",
     "text": [
      "/data/jwhughes/tf_env/lib/python3.6/site-packages/ipykernel_launcher.py:119: DeprecationWarning: using a non-integer array as obj in delete will result in an error in the future\n",
      "/data/jwhughes/tf_env/lib/python3.6/site-packages/ipykernel_launcher.py:120: DeprecationWarning: using a non-integer array as obj in delete will result in an error in the future\n"
     ]
    },
    {
     "name": "stdout",
     "output_type": "stream",
     "text": [
      "INFO:tensorflow:Our macro AUC:     0.8913573709285215\n",
      "INFO:tensorflow:Our micro AUC:     0.9205570080472183\n",
      "INFO:tensorflow:2018-11-13 02:47:43.670946: 0, DNase, NaN\n",
      "INFO:tensorflow:2018-11-13 02:47:43.672248: 1, CTCF, 0.966608\n",
      "INFO:tensorflow:2018-11-13 02:47:43.686997: 2, Pol2, 0.839718\n",
      "INFO:tensorflow:2018-11-13 02:47:43.701298: 3, YY1, 0.930730\n",
      "INFO:tensorflow:2018-11-13 02:47:43.715282: 4, p300, 0.883168\n",
      "INFO:tensorflow:2018-11-13 02:47:43.729531: 5, TAF1, 0.959255\n",
      "INFO:tensorflow:2018-11-13 02:47:43.743721: 6, Pol2-4H8, 0.894770\n",
      "INFO:tensorflow:2018-11-13 02:47:43.757882: 7, c-Myc, 0.951451\n",
      "INFO:tensorflow:2018-11-13 02:47:43.771815: 8, Rad21, 0.980731\n",
      "INFO:tensorflow:2018-11-13 02:47:43.785818: 9, Max, 0.910466\n",
      "INFO:tensorflow:2018-11-13 02:47:43.800104: 10, NRSF, 0.924128\n",
      "INFO:tensorflow:2018-11-13 02:47:43.814152: 11, GABP, 0.942741\n",
      "INFO:tensorflow:2018-11-13 02:47:43.828219: 12, EZH2, 0.643508\n",
      "INFO:tensorflow:2018-11-13 02:47:43.842116: 13, CEBPB, 0.737938\n",
      "INFO:tensorflow:2018-11-13 02:47:43.856593: 14, c-Jun, 0.836182\n",
      "INFO:tensorflow:2018-11-13 02:47:43.870700: 15, ZBTB33, 0.894358\n",
      "INFO:tensorflow:2018-11-13 02:47:43.884454: 16, USF2, 0.929365\n",
      "INFO:tensorflow:2018-11-13 02:47:43.898506: 17, USF-1, 0.856595\n",
      "INFO:tensorflow:2018-11-13 02:47:43.912449: 18, TBP, 0.920312\n",
      "INFO:tensorflow:2018-11-13 02:47:43.926347: 19, RFX5, 0.933768\n",
      "INFO:tensorflow:\n",
      "INFO:tensorflow:55000 0.3284932\n",
      "INFO:tensorflow:On validation\n"
     ]
    },
    {
     "name": "stderr",
     "output_type": "stream",
     "text": [
      "/data/jwhughes/tf_env/lib/python3.6/site-packages/ipykernel_launcher.py:119: DeprecationWarning: using a non-integer array as obj in delete will result in an error in the future\n",
      "/data/jwhughes/tf_env/lib/python3.6/site-packages/ipykernel_launcher.py:120: DeprecationWarning: using a non-integer array as obj in delete will result in an error in the future\n"
     ]
    },
    {
     "name": "stdout",
     "output_type": "stream",
     "text": [
      "INFO:tensorflow:Our macro AUC:     0.8870557128781973\n",
      "INFO:tensorflow:Our micro AUC:     0.9200690293601583\n",
      "INFO:tensorflow:2018-11-13 02:49:06.156785: 0, DNase, NaN\n",
      "INFO:tensorflow:2018-11-13 02:49:06.158162: 1, CTCF, 0.966186\n",
      "INFO:tensorflow:2018-11-13 02:49:06.172509: 2, Pol2, 0.896345\n",
      "INFO:tensorflow:2018-11-13 02:49:06.186262: 3, YY1, 0.935049\n",
      "INFO:tensorflow:2018-11-13 02:49:06.200096: 4, p300, 0.895855\n",
      "INFO:tensorflow:2018-11-13 02:49:06.214441: 5, TAF1, 0.949365\n",
      "INFO:tensorflow:2018-11-13 02:49:06.228564: 6, Pol2-4H8, 0.873660\n",
      "INFO:tensorflow:2018-11-13 02:49:06.243842: 7, c-Myc, 0.964683\n",
      "INFO:tensorflow:2018-11-13 02:49:06.257776: 8, Rad21, 0.962732\n",
      "INFO:tensorflow:2018-11-13 02:49:06.273072: 9, Max, 0.924008\n",
      "INFO:tensorflow:2018-11-13 02:49:06.287486: 10, NRSF, 0.922899\n",
      "INFO:tensorflow:2018-11-13 02:49:06.301738: 11, GABP, 0.926547\n",
      "INFO:tensorflow:2018-11-13 02:49:06.315919: 12, EZH2, 0.738073\n",
      "INFO:tensorflow:2018-11-13 02:49:06.329988: 13, CEBPB, 0.688079\n",
      "INFO:tensorflow:2018-11-13 02:49:06.344352: 14, c-Jun, 0.737816\n",
      "INFO:tensorflow:2018-11-13 02:49:06.358323: 15, ZBTB33, 0.877113\n",
      "INFO:tensorflow:2018-11-13 02:49:06.372294: 16, USF2, 0.855355\n",
      "INFO:tensorflow:2018-11-13 02:49:06.386384: 17, USF-1, 0.860083\n",
      "INFO:tensorflow:2018-11-13 02:49:06.400518: 18, TBP, 0.939241\n",
      "INFO:tensorflow:2018-11-13 02:49:06.414428: 19, RFX5, 0.940968\n",
      "INFO:tensorflow:\n",
      "INFO:tensorflow:56000 0.43840063\n",
      "INFO:tensorflow:On validation\n"
     ]
    },
    {
     "name": "stderr",
     "output_type": "stream",
     "text": [
      "/data/jwhughes/tf_env/lib/python3.6/site-packages/ipykernel_launcher.py:119: DeprecationWarning: using a non-integer array as obj in delete will result in an error in the future\n",
      "/data/jwhughes/tf_env/lib/python3.6/site-packages/ipykernel_launcher.py:120: DeprecationWarning: using a non-integer array as obj in delete will result in an error in the future\n"
     ]
    },
    {
     "name": "stdout",
     "output_type": "stream",
     "text": [
      "INFO:tensorflow:Our macro AUC:     0.913729257664538\n",
      "INFO:tensorflow:Our micro AUC:     0.9505812773687369\n",
      "INFO:tensorflow:2018-11-13 02:50:28.214312: 0, DNase, NaN\n",
      "INFO:tensorflow:2018-11-13 02:50:28.215482: 1, CTCF, 0.987890\n",
      "INFO:tensorflow:2018-11-13 02:50:28.229951: 2, Pol2, 0.957415\n",
      "INFO:tensorflow:2018-11-13 02:50:28.243812: 3, YY1, 0.943425\n",
      "INFO:tensorflow:2018-11-13 02:50:28.257750: 4, p300, 0.826607\n",
      "INFO:tensorflow:2018-11-13 02:50:28.271736: 5, TAF1, 0.985668\n",
      "INFO:tensorflow:2018-11-13 02:50:28.286315: 6, Pol2-4H8, 0.958853\n",
      "INFO:tensorflow:2018-11-13 02:50:28.300429: 7, c-Myc, 0.977962\n",
      "INFO:tensorflow:2018-11-13 02:50:28.314273: 8, Rad21, 0.982589\n",
      "INFO:tensorflow:2018-11-13 02:50:28.328468: 9, Max, 0.937311\n",
      "INFO:tensorflow:2018-11-13 02:50:28.342409: 10, NRSF, 0.957066\n",
      "INFO:tensorflow:2018-11-13 02:50:28.356550: 11, GABP, 0.955590\n",
      "INFO:tensorflow:2018-11-13 02:50:28.370774: 12, EZH2, 0.900155\n",
      "INFO:tensorflow:2018-11-13 02:50:28.384616: 13, CEBPB, 0.717883\n",
      "INFO:tensorflow:2018-11-13 02:50:28.398701: 14, c-Jun, 0.766489\n",
      "INFO:tensorflow:2018-11-13 02:50:28.412626: 15, ZBTB33, 0.920558\n",
      "INFO:tensorflow:2018-11-13 02:50:28.426591: 16, USF2, 0.909796\n",
      "INFO:tensorflow:2018-11-13 02:50:28.440592: 17, USF-1, 0.887012\n",
      "INFO:tensorflow:2018-11-13 02:50:28.454612: 18, TBP, 0.958625\n",
      "INFO:tensorflow:2018-11-13 02:50:28.468654: 19, RFX5, 0.829962\n",
      "INFO:tensorflow:\n",
      "INFO:tensorflow:57000 0.1637557\n",
      "INFO:tensorflow:On validation\n"
     ]
    },
    {
     "name": "stderr",
     "output_type": "stream",
     "text": [
      "/data/jwhughes/tf_env/lib/python3.6/site-packages/ipykernel_launcher.py:119: DeprecationWarning: using a non-integer array as obj in delete will result in an error in the future\n",
      "/data/jwhughes/tf_env/lib/python3.6/site-packages/ipykernel_launcher.py:120: DeprecationWarning: using a non-integer array as obj in delete will result in an error in the future\n"
     ]
    },
    {
     "name": "stdout",
     "output_type": "stream",
     "text": [
      "INFO:tensorflow:Our macro AUC:     0.9006835370618458\n",
      "INFO:tensorflow:Our micro AUC:     0.9331621590914935\n",
      "INFO:tensorflow:2018-11-13 02:51:49.499227: 0, DNase, NaN\n",
      "INFO:tensorflow:2018-11-13 02:51:49.500342: 1, CTCF, 0.976849\n",
      "INFO:tensorflow:2018-11-13 02:51:49.514387: 2, Pol2, 0.914127\n",
      "INFO:tensorflow:2018-11-13 02:51:49.528218: 3, YY1, 0.946723\n",
      "INFO:tensorflow:2018-11-13 02:51:49.543481: 4, p300, 0.862868\n",
      "INFO:tensorflow:2018-11-13 02:51:49.557061: 5, TAF1, 0.974149\n",
      "INFO:tensorflow:2018-11-13 02:51:49.570888: 6, Pol2-4H8, 0.895612\n",
      "INFO:tensorflow:2018-11-13 02:51:49.584787: 7, c-Myc, 0.915200\n",
      "INFO:tensorflow:2018-11-13 02:51:49.599321: 8, Rad21, 0.970552\n",
      "INFO:tensorflow:2018-11-13 02:51:49.614257: 9, Max, 0.913526\n",
      "INFO:tensorflow:2018-11-13 02:51:49.628284: 10, NRSF, 0.909721\n",
      "INFO:tensorflow:2018-11-13 02:51:49.642143: 11, GABP, 0.933393\n",
      "INFO:tensorflow:2018-11-13 02:51:49.657079: 12, EZH2, 0.879635\n",
      "INFO:tensorflow:2018-11-13 02:51:49.670924: 13, CEBPB, 0.729662\n",
      "INFO:tensorflow:2018-11-13 02:51:49.686018: 14, c-Jun, 0.755567\n",
      "INFO:tensorflow:2018-11-13 02:51:49.700460: 15, ZBTB33, 0.917716\n",
      "INFO:tensorflow:2018-11-13 02:51:49.714644: 16, USF2, 0.936297\n",
      "INFO:tensorflow:2018-11-13 02:51:49.728537: 17, USF-1, 0.830094\n",
      "INFO:tensorflow:2018-11-13 02:51:49.742930: 18, TBP, 0.951888\n",
      "INFO:tensorflow:2018-11-13 02:51:49.757153: 19, RFX5, 0.899408\n",
      "INFO:tensorflow:\n",
      "INFO:tensorflow:58000 0.32805407\n",
      "INFO:tensorflow:On validation\n"
     ]
    },
    {
     "name": "stderr",
     "output_type": "stream",
     "text": [
      "/data/jwhughes/tf_env/lib/python3.6/site-packages/ipykernel_launcher.py:119: DeprecationWarning: using a non-integer array as obj in delete will result in an error in the future\n",
      "/data/jwhughes/tf_env/lib/python3.6/site-packages/ipykernel_launcher.py:120: DeprecationWarning: using a non-integer array as obj in delete will result in an error in the future\n"
     ]
    },
    {
     "name": "stdout",
     "output_type": "stream",
     "text": [
      "INFO:tensorflow:Our macro AUC:     0.8712564496836999\n",
      "INFO:tensorflow:Our micro AUC:     0.9032397357161085\n",
      "INFO:tensorflow:2018-11-13 02:53:11.687195: 0, DNase, NaN\n",
      "INFO:tensorflow:2018-11-13 02:53:11.688938: 1, CTCF, 0.977060\n",
      "INFO:tensorflow:2018-11-13 02:53:11.704414: 2, Pol2, 0.889350\n",
      "INFO:tensorflow:2018-11-13 02:53:11.718769: 3, YY1, 0.921375\n",
      "INFO:tensorflow:2018-11-13 02:53:11.732874: 4, p300, 0.839257\n",
      "INFO:tensorflow:2018-11-13 02:53:11.747201: 5, TAF1, 0.952083\n",
      "INFO:tensorflow:2018-11-13 02:53:11.761641: 6, Pol2-4H8, 0.865075\n",
      "INFO:tensorflow:2018-11-13 02:53:11.776264: 7, c-Myc, 0.964564\n",
      "INFO:tensorflow:2018-11-13 02:53:11.791996: 8, Rad21, 0.973472\n",
      "INFO:tensorflow:2018-11-13 02:53:11.806649: 9, Max, 0.886157\n",
      "INFO:tensorflow:2018-11-13 02:53:11.820996: 10, NRSF, 0.903711\n",
      "INFO:tensorflow:2018-11-13 02:53:11.835514: 11, GABP, 0.929377\n",
      "INFO:tensorflow:2018-11-13 02:53:11.849461: 12, EZH2, 0.622108\n",
      "INFO:tensorflow:2018-11-13 02:53:11.864627: 13, CEBPB, 0.708821\n",
      "INFO:tensorflow:2018-11-13 02:53:11.879567: 14, c-Jun, 0.794180\n",
      "INFO:tensorflow:2018-11-13 02:53:11.894635: 15, ZBTB33, 0.882092\n",
      "INFO:tensorflow:2018-11-13 02:53:11.908585: 16, USF2, 0.856080\n",
      "INFO:tensorflow:2018-11-13 02:53:11.923211: 17, USF-1, 0.844556\n",
      "INFO:tensorflow:2018-11-13 02:53:11.937544: 18, TBP, 0.905818\n",
      "INFO:tensorflow:2018-11-13 02:53:11.951615: 19, RFX5, 0.838736\n",
      "INFO:tensorflow:\n",
      "INFO:tensorflow:59000 0.2736967\n",
      "INFO:tensorflow:On validation\n"
     ]
    },
    {
     "name": "stderr",
     "output_type": "stream",
     "text": [
      "/data/jwhughes/tf_env/lib/python3.6/site-packages/ipykernel_launcher.py:119: DeprecationWarning: using a non-integer array as obj in delete will result in an error in the future\n",
      "/data/jwhughes/tf_env/lib/python3.6/site-packages/ipykernel_launcher.py:120: DeprecationWarning: using a non-integer array as obj in delete will result in an error in the future\n"
     ]
    },
    {
     "name": "stdout",
     "output_type": "stream",
     "text": [
      "INFO:tensorflow:Our macro AUC:     0.8683134023214847\n",
      "INFO:tensorflow:Our micro AUC:     0.9047228246130768\n",
      "INFO:tensorflow:2018-11-13 02:54:33.281431: 0, DNase, NaN\n",
      "INFO:tensorflow:2018-11-13 02:54:33.282905: 1, CTCF, 0.965958\n",
      "INFO:tensorflow:2018-11-13 02:54:33.297108: 2, Pol2, 0.867773\n",
      "INFO:tensorflow:2018-11-13 02:54:33.311269: 3, YY1, 0.951199\n",
      "INFO:tensorflow:2018-11-13 02:54:33.325159: 4, p300, 0.850503\n",
      "INFO:tensorflow:2018-11-13 02:54:33.339162: 5, TAF1, 0.954583\n",
      "INFO:tensorflow:2018-11-13 02:54:33.353219: 6, Pol2-4H8, 0.879567\n",
      "INFO:tensorflow:2018-11-13 02:54:33.367559: 7, c-Myc, 0.932081\n",
      "INFO:tensorflow:2018-11-13 02:54:33.381576: 8, Rad21, 0.970701\n",
      "INFO:tensorflow:2018-11-13 02:54:33.395434: 9, Max, 0.879950\n",
      "INFO:tensorflow:2018-11-13 02:54:33.409333: 10, NRSF, 0.914651\n",
      "INFO:tensorflow:2018-11-13 02:54:33.423963: 11, GABP, 0.907573\n",
      "INFO:tensorflow:2018-11-13 02:54:33.438095: 12, EZH2, 0.743534\n",
      "INFO:tensorflow:2018-11-13 02:54:33.452044: 13, CEBPB, 0.682915\n",
      "INFO:tensorflow:2018-11-13 02:54:33.467142: 14, c-Jun, 0.758524\n",
      "INFO:tensorflow:2018-11-13 02:54:33.481061: 15, ZBTB33, 0.800418\n",
      "INFO:tensorflow:2018-11-13 02:54:33.494854: 16, USF2, 0.889634\n",
      "INFO:tensorflow:2018-11-13 02:54:33.508573: 17, USF-1, 0.781370\n",
      "INFO:tensorflow:2018-11-13 02:54:33.522746: 18, TBP, 0.931777\n",
      "INFO:tensorflow:2018-11-13 02:54:33.536722: 19, RFX5, 0.835242\n",
      "INFO:tensorflow:\n",
      "INFO:tensorflow:60000 0.3116972\n",
      "INFO:tensorflow:On validation\n"
     ]
    },
    {
     "name": "stderr",
     "output_type": "stream",
     "text": [
      "/data/jwhughes/tf_env/lib/python3.6/site-packages/ipykernel_launcher.py:119: DeprecationWarning: using a non-integer array as obj in delete will result in an error in the future\n",
      "/data/jwhughes/tf_env/lib/python3.6/site-packages/ipykernel_launcher.py:120: DeprecationWarning: using a non-integer array as obj in delete will result in an error in the future\n"
     ]
    },
    {
     "name": "stdout",
     "output_type": "stream",
     "text": [
      "INFO:tensorflow:Our macro AUC:     0.8637677069332547\n",
      "INFO:tensorflow:Our micro AUC:     0.8973663973311204\n",
      "INFO:tensorflow:2018-11-13 02:55:55.310513: 0, DNase, NaN\n",
      "INFO:tensorflow:2018-11-13 02:55:55.312057: 1, CTCF, 0.969255\n",
      "INFO:tensorflow:2018-11-13 02:55:55.326364: 2, Pol2, 0.907359\n",
      "INFO:tensorflow:2018-11-13 02:55:55.340277: 3, YY1, 0.912203\n",
      "INFO:tensorflow:2018-11-13 02:55:55.354895: 4, p300, 0.847641\n",
      "INFO:tensorflow:2018-11-13 02:55:55.368509: 5, TAF1, 0.930184\n",
      "INFO:tensorflow:2018-11-13 02:55:55.382493: 6, Pol2-4H8, 0.901999\n",
      "INFO:tensorflow:2018-11-13 02:55:55.397571: 7, c-Myc, 0.920117\n",
      "INFO:tensorflow:2018-11-13 02:55:55.411789: 8, Rad21, 0.972286\n",
      "INFO:tensorflow:2018-11-13 02:55:55.425642: 9, Max, 0.890388\n",
      "INFO:tensorflow:2018-11-13 02:55:55.439820: 10, NRSF, 0.932010\n",
      "INFO:tensorflow:2018-11-13 02:55:55.454039: 11, GABP, 0.903807\n",
      "INFO:tensorflow:2018-11-13 02:55:55.468051: 12, EZH2, 0.588093\n",
      "INFO:tensorflow:2018-11-13 02:55:55.482204: 13, CEBPB, 0.744277\n",
      "INFO:tensorflow:2018-11-13 02:55:55.496200: 14, c-Jun, 0.770843\n",
      "INFO:tensorflow:2018-11-13 02:55:55.509690: 15, ZBTB33, 0.798861\n",
      "INFO:tensorflow:2018-11-13 02:55:55.523415: 16, USF2, 0.864749\n",
      "INFO:tensorflow:2018-11-13 02:55:55.537056: 17, USF-1, 0.826391\n",
      "INFO:tensorflow:2018-11-13 02:55:55.550922: 18, TBP, 0.924642\n",
      "INFO:tensorflow:2018-11-13 02:55:55.565303: 19, RFX5, 0.806481\n",
      "INFO:tensorflow:\n",
      "INFO:tensorflow:61000 0.08878238\n",
      "INFO:tensorflow:On validation\n"
     ]
    },
    {
     "name": "stderr",
     "output_type": "stream",
     "text": [
      "/data/jwhughes/tf_env/lib/python3.6/site-packages/ipykernel_launcher.py:119: DeprecationWarning: using a non-integer array as obj in delete will result in an error in the future\n",
      "/data/jwhughes/tf_env/lib/python3.6/site-packages/ipykernel_launcher.py:120: DeprecationWarning: using a non-integer array as obj in delete will result in an error in the future\n"
     ]
    },
    {
     "name": "stdout",
     "output_type": "stream",
     "text": [
      "INFO:tensorflow:Our macro AUC:     0.913726313924505\n",
      "INFO:tensorflow:Our micro AUC:     0.9452468641251046\n",
      "INFO:tensorflow:2018-11-13 02:57:17.042705: 0, DNase, NaN\n",
      "INFO:tensorflow:2018-11-13 02:57:17.043887: 1, CTCF, 0.983009\n",
      "INFO:tensorflow:2018-11-13 02:57:17.058011: 2, Pol2, 0.939943\n",
      "INFO:tensorflow:2018-11-13 02:57:17.071796: 3, YY1, 0.952311\n",
      "INFO:tensorflow:2018-11-13 02:57:17.085335: 4, p300, 0.875307\n",
      "INFO:tensorflow:2018-11-13 02:57:17.099354: 5, TAF1, 0.973253\n",
      "INFO:tensorflow:2018-11-13 02:57:17.113394: 6, Pol2-4H8, 0.921960\n",
      "INFO:tensorflow:2018-11-13 02:57:17.127272: 7, c-Myc, 0.974370\n",
      "INFO:tensorflow:2018-11-13 02:57:17.140998: 8, Rad21, 0.986223\n",
      "INFO:tensorflow:2018-11-13 02:57:17.154965: 9, Max, 0.925732\n",
      "INFO:tensorflow:2018-11-13 02:57:17.169167: 10, NRSF, 0.927846\n",
      "INFO:tensorflow:2018-11-13 02:57:17.183115: 11, GABP, 0.928588\n",
      "INFO:tensorflow:2018-11-13 02:57:17.197243: 12, EZH2, 0.878808\n",
      "INFO:tensorflow:2018-11-13 02:57:17.211570: 13, CEBPB, 0.782200\n",
      "INFO:tensorflow:2018-11-13 02:57:17.227548: 14, c-Jun, 0.844760\n",
      "INFO:tensorflow:2018-11-13 02:57:17.241556: 15, ZBTB33, 0.881951\n",
      "INFO:tensorflow:2018-11-13 02:57:17.255784: 16, USF2, 0.886965\n",
      "INFO:tensorflow:2018-11-13 02:57:17.269569: 17, USF-1, 0.846974\n",
      "INFO:tensorflow:2018-11-13 02:57:17.283886: 18, TBP, 0.939454\n",
      "INFO:tensorflow:2018-11-13 02:57:17.297817: 19, RFX5, 0.911145\n",
      "INFO:tensorflow:\n",
      "INFO:tensorflow:62000 0.6144403\n",
      "INFO:tensorflow:On validation\n"
     ]
    },
    {
     "name": "stderr",
     "output_type": "stream",
     "text": [
      "/data/jwhughes/tf_env/lib/python3.6/site-packages/ipykernel_launcher.py:119: DeprecationWarning: using a non-integer array as obj in delete will result in an error in the future\n",
      "/data/jwhughes/tf_env/lib/python3.6/site-packages/ipykernel_launcher.py:120: DeprecationWarning: using a non-integer array as obj in delete will result in an error in the future\n"
     ]
    },
    {
     "name": "stdout",
     "output_type": "stream",
     "text": [
      "INFO:tensorflow:Our macro AUC:     0.8849220882083791\n",
      "INFO:tensorflow:Our micro AUC:     0.908276042606322\n",
      "INFO:tensorflow:2018-11-13 02:58:39.514611: 0, DNase, NaN\n",
      "INFO:tensorflow:2018-11-13 02:58:39.516042: 1, CTCF, 0.951713\n",
      "INFO:tensorflow:2018-11-13 02:58:39.530536: 2, Pol2, 0.877068\n",
      "INFO:tensorflow:2018-11-13 02:58:39.544765: 3, YY1, 0.926039\n",
      "INFO:tensorflow:2018-11-13 02:58:39.558404: 4, p300, 0.884797\n",
      "INFO:tensorflow:2018-11-13 02:58:39.572177: 5, TAF1, 0.943317\n",
      "INFO:tensorflow:2018-11-13 02:58:39.586179: 6, Pol2-4H8, 0.888421\n",
      "INFO:tensorflow:2018-11-13 02:58:39.600018: 7, c-Myc, 0.961717\n",
      "INFO:tensorflow:2018-11-13 02:58:39.613625: 8, Rad21, 0.975033\n",
      "INFO:tensorflow:2018-11-13 02:58:39.627711: 9, Max, 0.906686\n",
      "INFO:tensorflow:2018-11-13 02:58:39.641675: 10, NRSF, 0.951298\n",
      "INFO:tensorflow:2018-11-13 02:58:39.656152: 11, GABP, 0.911306\n",
      "INFO:tensorflow:2018-11-13 02:58:39.669935: 12, EZH2, 0.611999\n",
      "INFO:tensorflow:2018-11-13 02:58:39.683935: 13, CEBPB, 0.755478\n",
      "INFO:tensorflow:2018-11-13 02:58:39.697940: 14, c-Jun, 0.858900\n",
      "INFO:tensorflow:2018-11-13 02:58:39.711742: 15, ZBTB33, 0.826419\n",
      "INFO:tensorflow:2018-11-13 02:58:39.727194: 16, USF2, 0.913142\n",
      "INFO:tensorflow:2018-11-13 02:58:39.740788: 17, USF-1, 0.844193\n",
      "INFO:tensorflow:2018-11-13 02:58:39.754728: 18, TBP, 0.926817\n",
      "INFO:tensorflow:2018-11-13 02:58:39.768500: 19, RFX5, 0.899176\n",
      "INFO:tensorflow:\n",
      "INFO:tensorflow:63000 1.191131\n",
      "INFO:tensorflow:On validation\n"
     ]
    },
    {
     "name": "stderr",
     "output_type": "stream",
     "text": [
      "/data/jwhughes/tf_env/lib/python3.6/site-packages/ipykernel_launcher.py:119: DeprecationWarning: using a non-integer array as obj in delete will result in an error in the future\n",
      "/data/jwhughes/tf_env/lib/python3.6/site-packages/ipykernel_launcher.py:120: DeprecationWarning: using a non-integer array as obj in delete will result in an error in the future\n"
     ]
    },
    {
     "name": "stdout",
     "output_type": "stream",
     "text": [
      "INFO:tensorflow:Our macro AUC:     0.8827467066653408\n",
      "INFO:tensorflow:Our micro AUC:     0.9106595959115759\n",
      "INFO:tensorflow:2018-11-13 03:00:03.045798: 0, DNase, NaN\n",
      "INFO:tensorflow:2018-11-13 03:00:03.047172: 1, CTCF, 0.969091\n",
      "INFO:tensorflow:2018-11-13 03:00:03.061757: 2, Pol2, 0.887898\n",
      "INFO:tensorflow:2018-11-13 03:00:03.076660: 3, YY1, 0.931129\n",
      "INFO:tensorflow:2018-11-13 03:00:03.090917: 4, p300, 0.869801\n",
      "INFO:tensorflow:2018-11-13 03:00:03.105792: 5, TAF1, 0.934397\n",
      "INFO:tensorflow:2018-11-13 03:00:03.120932: 6, Pol2-4H8, 0.882297\n",
      "INFO:tensorflow:2018-11-13 03:00:03.135688: 7, c-Myc, 0.939461\n",
      "INFO:tensorflow:2018-11-13 03:00:03.150768: 8, Rad21, 0.985683\n",
      "INFO:tensorflow:2018-11-13 03:00:03.165284: 9, Max, 0.887762\n",
      "INFO:tensorflow:2018-11-13 03:00:03.179583: 10, NRSF, 0.897250\n",
      "INFO:tensorflow:2018-11-13 03:00:03.193962: 11, GABP, 0.900211\n",
      "INFO:tensorflow:2018-11-13 03:00:03.208883: 12, EZH2, 0.715222\n",
      "INFO:tensorflow:2018-11-13 03:00:03.223819: 13, CEBPB, 0.724458\n",
      "INFO:tensorflow:2018-11-13 03:00:03.245272: 14, c-Jun, 0.877976\n",
      "INFO:tensorflow:2018-11-13 03:00:03.265713: 15, ZBTB33, 0.886964\n",
      "INFO:tensorflow:2018-11-13 03:00:03.280382: 16, USF2, 0.896573\n",
      "INFO:tensorflow:2018-11-13 03:00:03.294069: 17, USF-1, 0.833454\n",
      "INFO:tensorflow:2018-11-13 03:00:03.308512: 18, TBP, 0.894536\n",
      "INFO:tensorflow:2018-11-13 03:00:03.322582: 19, RFX5, 0.858023\n",
      "INFO:tensorflow:\n",
      "INFO:tensorflow:64000 0.47646293\n",
      "INFO:tensorflow:On validation\n"
     ]
    },
    {
     "name": "stderr",
     "output_type": "stream",
     "text": [
      "/data/jwhughes/tf_env/lib/python3.6/site-packages/ipykernel_launcher.py:119: DeprecationWarning: using a non-integer array as obj in delete will result in an error in the future\n",
      "/data/jwhughes/tf_env/lib/python3.6/site-packages/ipykernel_launcher.py:120: DeprecationWarning: using a non-integer array as obj in delete will result in an error in the future\n"
     ]
    },
    {
     "name": "stdout",
     "output_type": "stream",
     "text": [
      "INFO:tensorflow:Our macro AUC:     0.8966227843235751\n",
      "INFO:tensorflow:Our micro AUC:     0.9220217421637873\n",
      "INFO:tensorflow:2018-11-13 03:01:27.025745: 0, DNase, NaN\n",
      "INFO:tensorflow:2018-11-13 03:01:27.027146: 1, CTCF, 0.965458\n",
      "INFO:tensorflow:2018-11-13 03:01:27.042561: 2, Pol2, 0.897558\n",
      "INFO:tensorflow:2018-11-13 03:01:27.057507: 3, YY1, 0.946098\n",
      "INFO:tensorflow:2018-11-13 03:01:27.072108: 4, p300, 0.868426\n",
      "INFO:tensorflow:2018-11-13 03:01:27.086950: 5, TAF1, 0.964168\n",
      "INFO:tensorflow:2018-11-13 03:01:27.101519: 6, Pol2-4H8, 0.858972\n",
      "INFO:tensorflow:2018-11-13 03:01:27.115957: 7, c-Myc, 0.946356\n",
      "INFO:tensorflow:2018-11-13 03:01:27.129716: 8, Rad21, 0.981993\n",
      "INFO:tensorflow:2018-11-13 03:01:27.143790: 9, Max, 0.910462\n",
      "INFO:tensorflow:2018-11-13 03:01:27.157849: 10, NRSF, 0.925330\n",
      "INFO:tensorflow:2018-11-13 03:01:27.171839: 11, GABP, 0.940362\n",
      "INFO:tensorflow:2018-11-13 03:01:27.185914: 12, EZH2, 0.714538\n",
      "INFO:tensorflow:2018-11-13 03:01:27.199965: 13, CEBPB, 0.716075\n",
      "INFO:tensorflow:2018-11-13 03:01:27.214285: 14, c-Jun, 0.847023\n",
      "INFO:tensorflow:2018-11-13 03:01:27.228514: 15, ZBTB33, 0.912567\n",
      "INFO:tensorflow:2018-11-13 03:01:27.242555: 16, USF2, 0.946855\n",
      "INFO:tensorflow:2018-11-13 03:01:27.256628: 17, USF-1, 0.875342\n",
      "INFO:tensorflow:2018-11-13 03:01:27.270849: 18, TBP, 0.900706\n",
      "INFO:tensorflow:2018-11-13 03:01:27.285283: 19, RFX5, 0.917545\n",
      "INFO:tensorflow:\n",
      "INFO:tensorflow:65000 0.24046762\n",
      "INFO:tensorflow:On validation\n"
     ]
    },
    {
     "name": "stderr",
     "output_type": "stream",
     "text": [
      "/data/jwhughes/tf_env/lib/python3.6/site-packages/ipykernel_launcher.py:119: DeprecationWarning: using a non-integer array as obj in delete will result in an error in the future\n",
      "/data/jwhughes/tf_env/lib/python3.6/site-packages/ipykernel_launcher.py:120: DeprecationWarning: using a non-integer array as obj in delete will result in an error in the future\n"
     ]
    },
    {
     "name": "stdout",
     "output_type": "stream",
     "text": [
      "INFO:tensorflow:Our macro AUC:     0.9016633504807489\n",
      "INFO:tensorflow:Our micro AUC:     0.9283683904994434\n",
      "INFO:tensorflow:2018-11-13 03:02:49.343780: 0, DNase, NaN\n",
      "INFO:tensorflow:2018-11-13 03:02:49.344992: 1, CTCF, 0.969267\n",
      "INFO:tensorflow:2018-11-13 03:02:49.359710: 2, Pol2, 0.886721\n",
      "INFO:tensorflow:2018-11-13 03:02:49.374052: 3, YY1, 0.943430\n",
      "INFO:tensorflow:2018-11-13 03:02:49.388327: 4, p300, 0.849131\n",
      "INFO:tensorflow:2018-11-13 03:02:49.402984: 5, TAF1, 0.969504\n",
      "INFO:tensorflow:2018-11-13 03:02:49.416939: 6, Pol2-4H8, 0.903955\n",
      "INFO:tensorflow:2018-11-13 03:02:49.431344: 7, c-Myc, 0.954357\n",
      "INFO:tensorflow:2018-11-13 03:02:49.445506: 8, Rad21, 0.973778\n",
      "INFO:tensorflow:2018-11-13 03:02:49.460019: 9, Max, 0.911435\n",
      "INFO:tensorflow:2018-11-13 03:02:49.474519: 10, NRSF, 0.940382\n",
      "INFO:tensorflow:2018-11-13 03:02:49.488751: 11, GABP, 0.939989\n",
      "INFO:tensorflow:2018-11-13 03:02:49.503098: 12, EZH2, 0.707107\n",
      "INFO:tensorflow:2018-11-13 03:02:49.517340: 13, CEBPB, 0.771042\n",
      "INFO:tensorflow:2018-11-13 03:02:49.531602: 14, c-Jun, 0.828013\n",
      "INFO:tensorflow:2018-11-13 03:02:49.545663: 15, ZBTB33, 0.932859\n",
      "INFO:tensorflow:2018-11-13 03:02:49.559674: 16, USF2, 0.926524\n",
      "INFO:tensorflow:2018-11-13 03:02:49.573512: 17, USF-1, 0.863741\n",
      "INFO:tensorflow:2018-11-13 03:02:49.587493: 18, TBP, 0.922194\n",
      "INFO:tensorflow:2018-11-13 03:02:49.601426: 19, RFX5, 0.938177\n",
      "INFO:tensorflow:\n",
      "INFO:tensorflow:66000 0.10363053\n",
      "INFO:tensorflow:On validation\n"
     ]
    },
    {
     "name": "stderr",
     "output_type": "stream",
     "text": [
      "/data/jwhughes/tf_env/lib/python3.6/site-packages/ipykernel_launcher.py:119: DeprecationWarning: using a non-integer array as obj in delete will result in an error in the future\n",
      "/data/jwhughes/tf_env/lib/python3.6/site-packages/ipykernel_launcher.py:120: DeprecationWarning: using a non-integer array as obj in delete will result in an error in the future\n"
     ]
    },
    {
     "name": "stdout",
     "output_type": "stream",
     "text": [
      "INFO:tensorflow:Our macro AUC:     0.9228054317424551\n",
      "INFO:tensorflow:Our micro AUC:     0.9507175317582935\n",
      "INFO:tensorflow:2018-11-13 03:04:10.931583: 0, DNase, NaN\n",
      "INFO:tensorflow:2018-11-13 03:04:10.933496: 1, CTCF, 0.979290\n",
      "INFO:tensorflow:2018-11-13 03:04:10.948292: 2, Pol2, 0.958279\n",
      "INFO:tensorflow:2018-11-13 03:04:10.962920: 3, YY1, 0.945442\n",
      "INFO:tensorflow:2018-11-13 03:04:10.977032: 4, p300, 0.887286\n",
      "INFO:tensorflow:2018-11-13 03:04:10.991376: 5, TAF1, 0.981820\n",
      "INFO:tensorflow:2018-11-13 03:04:11.005573: 6, Pol2-4H8, 0.948160\n",
      "INFO:tensorflow:2018-11-13 03:04:11.019857: 7, c-Myc, 0.954059\n",
      "INFO:tensorflow:2018-11-13 03:04:11.034858: 8, Rad21, 0.988879\n",
      "INFO:tensorflow:2018-11-13 03:04:11.049267: 9, Max, 0.934452\n",
      "INFO:tensorflow:2018-11-13 03:04:11.063610: 10, NRSF, 0.955802\n",
      "INFO:tensorflow:2018-11-13 03:04:11.078287: 11, GABP, 0.953411\n",
      "INFO:tensorflow:2018-11-13 03:04:11.092654: 12, EZH2, 0.861667\n",
      "INFO:tensorflow:2018-11-13 03:04:11.107533: 13, CEBPB, 0.783329\n",
      "INFO:tensorflow:2018-11-13 03:04:11.122544: 14, c-Jun, 0.777049\n",
      "INFO:tensorflow:2018-11-13 03:04:11.136816: 15, ZBTB33, 0.970403\n",
      "INFO:tensorflow:2018-11-13 03:04:11.151791: 16, USF2, 0.927595\n",
      "INFO:tensorflow:2018-11-13 03:04:11.165992: 17, USF-1, 0.842518\n",
      "INFO:tensorflow:2018-11-13 03:04:11.180089: 18, TBP, 0.965086\n",
      "INFO:tensorflow:2018-11-13 03:04:11.194891: 19, RFX5, 0.918776\n",
      "INFO:tensorflow:\n",
      "INFO:tensorflow:67000 0.42489213\n",
      "INFO:tensorflow:On validation\n"
     ]
    },
    {
     "name": "stderr",
     "output_type": "stream",
     "text": [
      "/data/jwhughes/tf_env/lib/python3.6/site-packages/ipykernel_launcher.py:119: DeprecationWarning: using a non-integer array as obj in delete will result in an error in the future\n",
      "/data/jwhughes/tf_env/lib/python3.6/site-packages/ipykernel_launcher.py:120: DeprecationWarning: using a non-integer array as obj in delete will result in an error in the future\n"
     ]
    },
    {
     "name": "stdout",
     "output_type": "stream",
     "text": [
      "INFO:tensorflow:Our macro AUC:     0.8961834096899116\n",
      "INFO:tensorflow:Our micro AUC:     0.9315587771436317\n",
      "INFO:tensorflow:2018-11-13 03:05:31.795274: 0, DNase, NaN\n",
      "INFO:tensorflow:2018-11-13 03:05:31.796549: 1, CTCF, 0.968936\n",
      "INFO:tensorflow:2018-11-13 03:05:31.810511: 2, Pol2, 0.952896\n",
      "INFO:tensorflow:2018-11-13 03:05:31.825001: 3, YY1, 0.954680\n",
      "INFO:tensorflow:2018-11-13 03:05:31.838557: 4, p300, 0.780070\n",
      "INFO:tensorflow:2018-11-13 03:05:31.852565: 5, TAF1, 0.984592\n",
      "INFO:tensorflow:2018-11-13 03:05:31.866214: 6, Pol2-4H8, 0.901731\n",
      "INFO:tensorflow:2018-11-13 03:05:31.880222: 7, c-Myc, 0.948279\n",
      "INFO:tensorflow:2018-11-13 03:05:31.893814: 8, Rad21, 0.974313\n",
      "INFO:tensorflow:2018-11-13 03:05:31.907619: 9, Max, 0.901383\n",
      "INFO:tensorflow:2018-11-13 03:05:31.921134: 10, NRSF, 0.942171\n",
      "INFO:tensorflow:2018-11-13 03:05:31.935159: 11, GABP, 0.954825\n",
      "INFO:tensorflow:2018-11-13 03:05:31.948841: 12, EZH2, 0.807471\n",
      "INFO:tensorflow:2018-11-13 03:05:31.962445: 13, CEBPB, 0.725922\n",
      "INFO:tensorflow:2018-11-13 03:05:31.976205: 14, c-Jun, 0.810715\n",
      "INFO:tensorflow:2018-11-13 03:05:31.989781: 15, ZBTB33, 0.898230\n",
      "INFO:tensorflow:2018-11-13 03:05:32.003559: 16, USF2, 0.847453\n",
      "INFO:tensorflow:2018-11-13 03:05:32.017000: 17, USF-1, 0.840335\n",
      "INFO:tensorflow:2018-11-13 03:05:32.030885: 18, TBP, 0.927730\n",
      "INFO:tensorflow:2018-11-13 03:05:32.044508: 19, RFX5, 0.905753\n",
      "INFO:tensorflow:\n",
      "INFO:tensorflow:68000 0.14197174\n",
      "INFO:tensorflow:On validation\n"
     ]
    },
    {
     "name": "stderr",
     "output_type": "stream",
     "text": [
      "/data/jwhughes/tf_env/lib/python3.6/site-packages/ipykernel_launcher.py:119: DeprecationWarning: using a non-integer array as obj in delete will result in an error in the future\n",
      "/data/jwhughes/tf_env/lib/python3.6/site-packages/ipykernel_launcher.py:120: DeprecationWarning: using a non-integer array as obj in delete will result in an error in the future\n"
     ]
    },
    {
     "name": "stdout",
     "output_type": "stream",
     "text": [
      "INFO:tensorflow:Our macro AUC:     0.8981156918822598\n",
      "INFO:tensorflow:Our micro AUC:     0.9282846596161048\n",
      "INFO:tensorflow:2018-11-13 03:06:53.123308: 0, DNase, NaN\n",
      "INFO:tensorflow:2018-11-13 03:06:53.124442: 1, CTCF, 0.974920\n",
      "INFO:tensorflow:2018-11-13 03:06:53.138933: 2, Pol2, 0.943082\n",
      "INFO:tensorflow:2018-11-13 03:06:53.152930: 3, YY1, 0.942790\n",
      "INFO:tensorflow:2018-11-13 03:06:53.166821: 4, p300, 0.847713\n",
      "INFO:tensorflow:2018-11-13 03:06:53.180619: 5, TAF1, 0.961134\n",
      "INFO:tensorflow:2018-11-13 03:06:53.194128: 6, Pol2-4H8, 0.903704\n",
      "INFO:tensorflow:2018-11-13 03:06:53.207860: 7, c-Myc, 0.946624\n",
      "INFO:tensorflow:2018-11-13 03:06:53.221268: 8, Rad21, 0.983183\n",
      "INFO:tensorflow:2018-11-13 03:06:53.234968: 9, Max, 0.906324\n",
      "INFO:tensorflow:2018-11-13 03:06:53.248698: 10, NRSF, 0.917562\n",
      "INFO:tensorflow:2018-11-13 03:06:53.262277: 11, GABP, 0.932208\n",
      "INFO:tensorflow:2018-11-13 03:06:53.275732: 12, EZH2, 0.714736\n",
      "INFO:tensorflow:2018-11-13 03:06:53.289182: 13, CEBPB, 0.769675\n",
      "INFO:tensorflow:2018-11-13 03:06:53.302953: 14, c-Jun, 0.859950\n",
      "INFO:tensorflow:2018-11-13 03:06:53.316355: 15, ZBTB33, 0.915295\n",
      "INFO:tensorflow:2018-11-13 03:06:53.329883: 16, USF2, 0.897067\n",
      "INFO:tensorflow:2018-11-13 03:06:53.343421: 17, USF-1, 0.845267\n",
      "INFO:tensorflow:2018-11-13 03:06:53.357116: 18, TBP, 0.922471\n",
      "INFO:tensorflow:2018-11-13 03:06:53.370771: 19, RFX5, 0.880493\n",
      "INFO:tensorflow:\n",
      "INFO:tensorflow:69000 0.098710194\n",
      "INFO:tensorflow:On validation\n"
     ]
    },
    {
     "name": "stderr",
     "output_type": "stream",
     "text": [
      "/data/jwhughes/tf_env/lib/python3.6/site-packages/ipykernel_launcher.py:119: DeprecationWarning: using a non-integer array as obj in delete will result in an error in the future\n",
      "/data/jwhughes/tf_env/lib/python3.6/site-packages/ipykernel_launcher.py:120: DeprecationWarning: using a non-integer array as obj in delete will result in an error in the future\n"
     ]
    },
    {
     "name": "stdout",
     "output_type": "stream",
     "text": [
      "INFO:tensorflow:Our macro AUC:     0.9204354520809765\n",
      "INFO:tensorflow:Our micro AUC:     0.9434865169139972\n",
      "INFO:tensorflow:2018-11-13 03:08:14.003165: 0, DNase, NaN\n",
      "INFO:tensorflow:2018-11-13 03:08:14.004310: 1, CTCF, 0.986576\n",
      "INFO:tensorflow:2018-11-13 03:08:14.018681: 2, Pol2, 0.914686\n",
      "INFO:tensorflow:2018-11-13 03:08:14.032210: 3, YY1, 0.949945\n",
      "INFO:tensorflow:2018-11-13 03:08:14.045716: 4, p300, 0.874322\n",
      "INFO:tensorflow:2018-11-13 03:08:14.059444: 5, TAF1, 0.967246\n",
      "INFO:tensorflow:2018-11-13 03:08:14.073301: 6, Pol2-4H8, 0.919421\n",
      "INFO:tensorflow:2018-11-13 03:08:14.087071: 7, c-Myc, 0.956442\n",
      "INFO:tensorflow:2018-11-13 03:08:14.100754: 8, Rad21, 0.986937\n",
      "INFO:tensorflow:2018-11-13 03:08:14.117607: 9, Max, 0.931609\n",
      "INFO:tensorflow:2018-11-13 03:08:14.131554: 10, NRSF, 0.938613\n",
      "INFO:tensorflow:2018-11-13 03:08:14.145171: 11, GABP, 0.937687\n",
      "INFO:tensorflow:2018-11-13 03:08:14.158838: 12, EZH2, 0.836168\n",
      "INFO:tensorflow:2018-11-13 03:08:14.172345: 13, CEBPB, 0.780581\n",
      "INFO:tensorflow:2018-11-13 03:08:14.186248: 14, c-Jun, 0.840082\n",
      "INFO:tensorflow:2018-11-13 03:08:14.199936: 15, ZBTB33, 0.942953\n",
      "INFO:tensorflow:2018-11-13 03:08:14.213573: 16, USF2, 0.957709\n",
      "INFO:tensorflow:2018-11-13 03:08:14.227154: 17, USF-1, 0.891862\n",
      "INFO:tensorflow:2018-11-13 03:08:14.240751: 18, TBP, 0.939031\n",
      "INFO:tensorflow:2018-11-13 03:08:14.255585: 19, RFX5, 0.936404\n",
      "INFO:tensorflow:\n",
      "INFO:tensorflow:70000 0.5863414\n",
      "INFO:tensorflow:On validation\n"
     ]
    },
    {
     "name": "stderr",
     "output_type": "stream",
     "text": [
      "/data/jwhughes/tf_env/lib/python3.6/site-packages/ipykernel_launcher.py:119: DeprecationWarning: using a non-integer array as obj in delete will result in an error in the future\n",
      "/data/jwhughes/tf_env/lib/python3.6/site-packages/ipykernel_launcher.py:120: DeprecationWarning: using a non-integer array as obj in delete will result in an error in the future\n"
     ]
    },
    {
     "name": "stdout",
     "output_type": "stream",
     "text": [
      "INFO:tensorflow:Our macro AUC:     0.9175371584916886\n",
      "INFO:tensorflow:Our micro AUC:     0.9489922517622641\n",
      "INFO:tensorflow:2018-11-13 03:09:35.315285: 0, DNase, NaN\n",
      "INFO:tensorflow:2018-11-13 03:09:35.316409: 1, CTCF, 0.987637\n",
      "INFO:tensorflow:2018-11-13 03:09:35.330412: 2, Pol2, 0.960149\n",
      "INFO:tensorflow:2018-11-13 03:09:35.344202: 3, YY1, 0.958333\n",
      "INFO:tensorflow:2018-11-13 03:09:35.357941: 4, p300, 0.888027\n",
      "INFO:tensorflow:2018-11-13 03:09:35.371876: 5, TAF1, 0.976377\n",
      "INFO:tensorflow:2018-11-13 03:09:35.385683: 6, Pol2-4H8, 0.927698\n",
      "INFO:tensorflow:2018-11-13 03:09:35.399400: 7, c-Myc, 0.963122\n",
      "INFO:tensorflow:2018-11-13 03:09:35.412968: 8, Rad21, 0.988298\n",
      "INFO:tensorflow:2018-11-13 03:09:35.426716: 9, Max, 0.937826\n",
      "INFO:tensorflow:2018-11-13 03:09:35.440439: 10, NRSF, 0.940463\n",
      "INFO:tensorflow:2018-11-13 03:09:35.454176: 11, GABP, 0.954999\n",
      "INFO:tensorflow:2018-11-13 03:09:35.467854: 12, EZH2, 0.736544\n",
      "INFO:tensorflow:2018-11-13 03:09:35.481567: 13, CEBPB, 0.776399\n",
      "INFO:tensorflow:2018-11-13 03:09:35.495754: 14, c-Jun, 0.795635\n",
      "INFO:tensorflow:2018-11-13 03:09:35.509541: 15, ZBTB33, 0.929631\n",
      "INFO:tensorflow:2018-11-13 03:09:35.523174: 16, USF2, 0.946035\n",
      "INFO:tensorflow:2018-11-13 03:09:35.536969: 17, USF-1, 0.886333\n",
      "INFO:tensorflow:2018-11-13 03:09:35.550822: 18, TBP, 0.941529\n",
      "INFO:tensorflow:2018-11-13 03:09:35.564304: 19, RFX5, 0.938171\n",
      "INFO:tensorflow:\n",
      "INFO:tensorflow:71000 0.15946473\n",
      "INFO:tensorflow:On validation\n"
     ]
    },
    {
     "name": "stderr",
     "output_type": "stream",
     "text": [
      "/data/jwhughes/tf_env/lib/python3.6/site-packages/ipykernel_launcher.py:119: DeprecationWarning: using a non-integer array as obj in delete will result in an error in the future\n",
      "/data/jwhughes/tf_env/lib/python3.6/site-packages/ipykernel_launcher.py:120: DeprecationWarning: using a non-integer array as obj in delete will result in an error in the future\n"
     ]
    },
    {
     "name": "stdout",
     "output_type": "stream",
     "text": [
      "INFO:tensorflow:Our macro AUC:     0.9068850884634732\n",
      "INFO:tensorflow:Our micro AUC:     0.9367134061758976\n",
      "INFO:tensorflow:2018-11-13 03:10:56.850843: 0, DNase, NaN\n",
      "INFO:tensorflow:2018-11-13 03:10:56.852101: 1, CTCF, 0.981805\n",
      "INFO:tensorflow:2018-11-13 03:10:56.866221: 2, Pol2, 0.946341\n",
      "INFO:tensorflow:2018-11-13 03:10:56.880005: 3, YY1, 0.946869\n",
      "INFO:tensorflow:2018-11-13 03:10:56.893652: 4, p300, 0.886482\n",
      "INFO:tensorflow:2018-11-13 03:10:56.908215: 5, TAF1, 0.959187\n",
      "INFO:tensorflow:2018-11-13 03:10:56.922055: 6, Pol2-4H8, 0.898429\n",
      "INFO:tensorflow:2018-11-13 03:10:56.935722: 7, c-Myc, 0.945968\n",
      "INFO:tensorflow:2018-11-13 03:10:56.949218: 8, Rad21, 0.989212\n",
      "INFO:tensorflow:2018-11-13 03:10:56.963007: 9, Max, 0.918914\n",
      "INFO:tensorflow:2018-11-13 03:10:56.976820: 10, NRSF, 0.906202\n",
      "INFO:tensorflow:2018-11-13 03:10:56.990394: 11, GABP, 0.929501\n",
      "INFO:tensorflow:2018-11-13 03:10:57.003969: 12, EZH2, 0.786037\n",
      "INFO:tensorflow:2018-11-13 03:10:57.017451: 13, CEBPB, 0.775294\n",
      "INFO:tensorflow:2018-11-13 03:10:57.031412: 14, c-Jun, 0.843403\n",
      "INFO:tensorflow:2018-11-13 03:10:57.045076: 15, ZBTB33, 0.905604\n",
      "INFO:tensorflow:2018-11-13 03:10:57.058829: 16, USF2, 0.938513\n",
      "INFO:tensorflow:2018-11-13 03:10:57.072380: 17, USF-1, 0.839234\n",
      "INFO:tensorflow:2018-11-13 03:10:57.086323: 18, TBP, 0.932138\n",
      "INFO:tensorflow:2018-11-13 03:10:57.099996: 19, RFX5, 0.901686\n",
      "INFO:tensorflow:\n",
      "INFO:tensorflow:72000 0.22386448\n",
      "INFO:tensorflow:On validation\n"
     ]
    },
    {
     "name": "stderr",
     "output_type": "stream",
     "text": [
      "/data/jwhughes/tf_env/lib/python3.6/site-packages/ipykernel_launcher.py:119: DeprecationWarning: using a non-integer array as obj in delete will result in an error in the future\n",
      "/data/jwhughes/tf_env/lib/python3.6/site-packages/ipykernel_launcher.py:120: DeprecationWarning: using a non-integer array as obj in delete will result in an error in the future\n"
     ]
    },
    {
     "name": "stdout",
     "output_type": "stream",
     "text": [
      "INFO:tensorflow:Our macro AUC:     0.883715838054703\n",
      "INFO:tensorflow:Our micro AUC:     0.915929780474196\n",
      "INFO:tensorflow:2018-11-13 03:12:18.668205: 0, DNase, NaN\n",
      "INFO:tensorflow:2018-11-13 03:12:18.669319: 1, CTCF, 0.966787\n",
      "INFO:tensorflow:2018-11-13 03:12:18.683546: 2, Pol2, 0.910313\n",
      "INFO:tensorflow:2018-11-13 03:12:18.697057: 3, YY1, 0.932881\n",
      "INFO:tensorflow:2018-11-13 03:12:18.710549: 4, p300, 0.872014\n",
      "INFO:tensorflow:2018-11-13 03:12:18.724126: 5, TAF1, 0.945793\n",
      "INFO:tensorflow:2018-11-13 03:12:18.737593: 6, Pol2-4H8, 0.891861\n",
      "INFO:tensorflow:2018-11-13 03:12:18.751315: 7, c-Myc, 0.940165\n",
      "INFO:tensorflow:2018-11-13 03:12:18.764844: 8, Rad21, 0.963991\n",
      "INFO:tensorflow:2018-11-13 03:12:18.778565: 9, Max, 0.898903\n",
      "INFO:tensorflow:2018-11-13 03:12:18.792160: 10, NRSF, 0.912158\n",
      "INFO:tensorflow:2018-11-13 03:12:18.805740: 11, GABP, 0.912129\n",
      "INFO:tensorflow:2018-11-13 03:12:18.819219: 12, EZH2, 0.735029\n",
      "INFO:tensorflow:2018-11-13 03:12:18.832672: 13, CEBPB, 0.783286\n",
      "INFO:tensorflow:2018-11-13 03:12:18.846651: 14, c-Jun, 0.845533\n",
      "INFO:tensorflow:2018-11-13 03:12:18.860128: 15, ZBTB33, 0.811699\n",
      "INFO:tensorflow:2018-11-13 03:12:18.873688: 16, USF2, 0.866273\n",
      "INFO:tensorflow:2018-11-13 03:12:18.887537: 17, USF-1, 0.837734\n",
      "INFO:tensorflow:2018-11-13 03:12:18.901455: 18, TBP, 0.899803\n",
      "INFO:tensorflow:2018-11-13 03:12:18.915171: 19, RFX5, 0.864251\n",
      "INFO:tensorflow:\n",
      "INFO:tensorflow:73000 0.054916527\n",
      "INFO:tensorflow:On validation\n"
     ]
    },
    {
     "name": "stderr",
     "output_type": "stream",
     "text": [
      "/data/jwhughes/tf_env/lib/python3.6/site-packages/ipykernel_launcher.py:119: DeprecationWarning: using a non-integer array as obj in delete will result in an error in the future\n",
      "/data/jwhughes/tf_env/lib/python3.6/site-packages/ipykernel_launcher.py:120: DeprecationWarning: using a non-integer array as obj in delete will result in an error in the future\n"
     ]
    },
    {
     "name": "stdout",
     "output_type": "stream",
     "text": [
      "INFO:tensorflow:Our macro AUC:     0.8676957583922598\n",
      "INFO:tensorflow:Our micro AUC:     0.906163445551355\n",
      "INFO:tensorflow:2018-11-13 03:13:39.755971: 0, DNase, NaN\n",
      "INFO:tensorflow:2018-11-13 03:13:39.757028: 1, CTCF, 0.975675\n",
      "INFO:tensorflow:2018-11-13 03:13:39.771291: 2, Pol2, 0.854250\n",
      "INFO:tensorflow:2018-11-13 03:13:39.785243: 3, YY1, 0.921724\n",
      "INFO:tensorflow:2018-11-13 03:13:39.799285: 4, p300, 0.872377\n",
      "INFO:tensorflow:2018-11-13 03:13:39.814599: 5, TAF1, 0.942418\n",
      "INFO:tensorflow:2018-11-13 03:13:39.828701: 6, Pol2-4H8, 0.824649\n",
      "INFO:tensorflow:2018-11-13 03:13:39.842647: 7, c-Myc, 0.916556\n",
      "INFO:tensorflow:2018-11-13 03:13:39.856542: 8, Rad21, 0.977051\n",
      "INFO:tensorflow:2018-11-13 03:13:39.870538: 9, Max, 0.905880\n",
      "INFO:tensorflow:2018-11-13 03:13:39.884435: 10, NRSF, 0.908246\n",
      "INFO:tensorflow:2018-11-13 03:13:39.898183: 11, GABP, 0.914213\n",
      "INFO:tensorflow:2018-11-13 03:13:39.912101: 12, EZH2, 0.700812\n",
      "INFO:tensorflow:2018-11-13 03:13:39.926006: 13, CEBPB, 0.701586\n",
      "INFO:tensorflow:2018-11-13 03:13:39.940225: 14, c-Jun, 0.784006\n",
      "INFO:tensorflow:2018-11-13 03:13:39.954180: 15, ZBTB33, 0.810014\n",
      "INFO:tensorflow:2018-11-13 03:13:39.968296: 16, USF2, 0.880825\n",
      "INFO:tensorflow:2018-11-13 03:13:39.982192: 17, USF-1, 0.850515\n",
      "INFO:tensorflow:2018-11-13 03:13:39.996080: 18, TBP, 0.888443\n",
      "INFO:tensorflow:2018-11-13 03:13:40.009967: 19, RFX5, 0.856979\n",
      "INFO:tensorflow:\n",
      "INFO:tensorflow:74000 0.38618144\n",
      "INFO:tensorflow:On validation\n"
     ]
    },
    {
     "name": "stderr",
     "output_type": "stream",
     "text": [
      "/data/jwhughes/tf_env/lib/python3.6/site-packages/ipykernel_launcher.py:119: DeprecationWarning: using a non-integer array as obj in delete will result in an error in the future\n",
      "/data/jwhughes/tf_env/lib/python3.6/site-packages/ipykernel_launcher.py:120: DeprecationWarning: using a non-integer array as obj in delete will result in an error in the future\n"
     ]
    },
    {
     "name": "stdout",
     "output_type": "stream",
     "text": [
      "INFO:tensorflow:Our macro AUC:     0.8805174866022373\n",
      "INFO:tensorflow:Our micro AUC:     0.9097001085924442\n",
      "INFO:tensorflow:2018-11-13 03:15:01.121893: 0, DNase, NaN\n",
      "INFO:tensorflow:2018-11-13 03:15:01.123087: 1, CTCF, 0.960364\n",
      "INFO:tensorflow:2018-11-13 03:15:01.137333: 2, Pol2, 0.858322\n",
      "INFO:tensorflow:2018-11-13 03:15:01.151673: 3, YY1, 0.920861\n",
      "INFO:tensorflow:2018-11-13 03:15:01.165689: 4, p300, 0.868715\n",
      "INFO:tensorflow:2018-11-13 03:15:01.179732: 5, TAF1, 0.950363\n",
      "INFO:tensorflow:2018-11-13 03:15:01.193737: 6, Pol2-4H8, 0.863038\n",
      "INFO:tensorflow:2018-11-13 03:15:01.208013: 7, c-Myc, 0.936832\n",
      "INFO:tensorflow:2018-11-13 03:15:01.222332: 8, Rad21, 0.979351\n",
      "INFO:tensorflow:2018-11-13 03:15:01.236242: 9, Max, 0.909035\n",
      "INFO:tensorflow:2018-11-13 03:15:01.250357: 10, NRSF, 0.911727\n",
      "INFO:tensorflow:2018-11-13 03:15:01.264300: 11, GABP, 0.939520\n",
      "INFO:tensorflow:2018-11-13 03:15:01.278104: 12, EZH2, 0.575190\n",
      "INFO:tensorflow:2018-11-13 03:15:01.291803: 13, CEBPB, 0.745214\n",
      "INFO:tensorflow:2018-11-13 03:15:01.306280: 14, c-Jun, 0.844926\n",
      "INFO:tensorflow:2018-11-13 03:15:01.320049: 15, ZBTB33, 0.919499\n",
      "INFO:tensorflow:2018-11-13 03:15:01.334052: 16, USF2, 0.884732\n",
      "INFO:tensorflow:2018-11-13 03:15:01.347948: 17, USF-1, 0.834780\n",
      "INFO:tensorflow:2018-11-13 03:15:01.362068: 18, TBP, 0.891793\n",
      "INFO:tensorflow:2018-11-13 03:15:01.376034: 19, RFX5, 0.935571\n",
      "INFO:tensorflow:\n",
      "INFO:tensorflow:75000 0.11099828\n",
      "INFO:tensorflow:On validation\n"
     ]
    },
    {
     "name": "stderr",
     "output_type": "stream",
     "text": [
      "/data/jwhughes/tf_env/lib/python3.6/site-packages/ipykernel_launcher.py:119: DeprecationWarning: using a non-integer array as obj in delete will result in an error in the future\n",
      "/data/jwhughes/tf_env/lib/python3.6/site-packages/ipykernel_launcher.py:120: DeprecationWarning: using a non-integer array as obj in delete will result in an error in the future\n"
     ]
    },
    {
     "name": "stdout",
     "output_type": "stream",
     "text": [
      "INFO:tensorflow:Our macro AUC:     0.9016314710591061\n",
      "INFO:tensorflow:Our micro AUC:     0.9266000603297345\n",
      "INFO:tensorflow:2018-11-13 03:16:22.467583: 0, DNase, NaN\n",
      "INFO:tensorflow:2018-11-13 03:16:22.468889: 1, CTCF, 0.966223\n",
      "INFO:tensorflow:2018-11-13 03:16:22.483443: 2, Pol2, 0.859242\n",
      "INFO:tensorflow:2018-11-13 03:16:22.497434: 3, YY1, 0.931906\n",
      "INFO:tensorflow:2018-11-13 03:16:22.511211: 4, p300, 0.896953\n",
      "INFO:tensorflow:2018-11-13 03:16:22.525171: 5, TAF1, 0.963012\n",
      "INFO:tensorflow:2018-11-13 03:16:22.539227: 6, Pol2-4H8, 0.894759\n",
      "INFO:tensorflow:2018-11-13 03:16:22.553442: 7, c-Myc, 0.971451\n",
      "INFO:tensorflow:2018-11-13 03:16:22.567329: 8, Rad21, 0.971628\n",
      "INFO:tensorflow:2018-11-13 03:16:22.581260: 9, Max, 0.918144\n",
      "INFO:tensorflow:2018-11-13 03:16:22.595529: 10, NRSF, 0.940216\n",
      "INFO:tensorflow:2018-11-13 03:16:22.609322: 11, GABP, 0.943874\n",
      "INFO:tensorflow:2018-11-13 03:16:22.623277: 12, EZH2, 0.783932\n",
      "INFO:tensorflow:2018-11-13 03:16:22.637003: 13, CEBPB, 0.735354\n",
      "INFO:tensorflow:2018-11-13 03:16:22.651459: 14, c-Jun, 0.820766\n",
      "INFO:tensorflow:2018-11-13 03:16:22.665360: 15, ZBTB33, 0.869656\n",
      "INFO:tensorflow:2018-11-13 03:16:22.679480: 16, USF2, 0.913718\n",
      "INFO:tensorflow:2018-11-13 03:16:22.694871: 17, USF-1, 0.875046\n",
      "INFO:tensorflow:2018-11-13 03:16:22.708600: 18, TBP, 0.946003\n",
      "INFO:tensorflow:2018-11-13 03:16:22.722381: 19, RFX5, 0.929116\n",
      "INFO:tensorflow:\n",
      "INFO:tensorflow:76000 0.17956589\n",
      "INFO:tensorflow:On validation\n"
     ]
    },
    {
     "name": "stderr",
     "output_type": "stream",
     "text": [
      "/data/jwhughes/tf_env/lib/python3.6/site-packages/ipykernel_launcher.py:119: DeprecationWarning: using a non-integer array as obj in delete will result in an error in the future\n",
      "/data/jwhughes/tf_env/lib/python3.6/site-packages/ipykernel_launcher.py:120: DeprecationWarning: using a non-integer array as obj in delete will result in an error in the future\n"
     ]
    },
    {
     "name": "stdout",
     "output_type": "stream",
     "text": [
      "INFO:tensorflow:Our macro AUC:     0.9110455138344004\n",
      "INFO:tensorflow:Our micro AUC:     0.9461085941510438\n",
      "INFO:tensorflow:2018-11-13 03:17:43.917746: 0, DNase, NaN\n",
      "INFO:tensorflow:2018-11-13 03:17:43.918806: 1, CTCF, 0.986205\n",
      "INFO:tensorflow:2018-11-13 03:17:43.932932: 2, Pol2, 0.941875\n",
      "INFO:tensorflow:2018-11-13 03:17:43.946598: 3, YY1, 0.966941\n",
      "INFO:tensorflow:2018-11-13 03:17:43.960409: 4, p300, 0.884655\n",
      "INFO:tensorflow:2018-11-13 03:17:43.974378: 5, TAF1, 0.982651\n",
      "INFO:tensorflow:2018-11-13 03:17:43.988019: 6, Pol2-4H8, 0.940776\n",
      "INFO:tensorflow:2018-11-13 03:17:44.001583: 7, c-Myc, 0.978357\n",
      "INFO:tensorflow:2018-11-13 03:17:44.015308: 8, Rad21, 0.974947\n",
      "INFO:tensorflow:2018-11-13 03:17:44.029031: 9, Max, 0.940404\n",
      "INFO:tensorflow:2018-11-13 03:17:44.042812: 10, NRSF, 0.936745\n",
      "INFO:tensorflow:2018-11-13 03:17:44.056464: 11, GABP, 0.939976\n",
      "INFO:tensorflow:2018-11-13 03:17:44.070037: 12, EZH2, 0.881044\n",
      "INFO:tensorflow:2018-11-13 03:17:44.083791: 13, CEBPB, 0.737259\n",
      "INFO:tensorflow:2018-11-13 03:17:44.097758: 14, c-Jun, 0.738095\n",
      "INFO:tensorflow:2018-11-13 03:17:44.111467: 15, ZBTB33, 0.847626\n",
      "INFO:tensorflow:2018-11-13 03:17:44.125319: 16, USF2, 0.946914\n",
      "INFO:tensorflow:2018-11-13 03:17:44.138762: 17, USF-1, 0.871408\n",
      "INFO:tensorflow:2018-11-13 03:17:44.152396: 18, TBP, 0.958160\n",
      "INFO:tensorflow:2018-11-13 03:17:44.166096: 19, RFX5, 0.855826\n",
      "INFO:tensorflow:\n",
      "INFO:tensorflow:77000 0.598022\n",
      "INFO:tensorflow:On validation\n"
     ]
    },
    {
     "name": "stderr",
     "output_type": "stream",
     "text": [
      "/data/jwhughes/tf_env/lib/python3.6/site-packages/ipykernel_launcher.py:119: DeprecationWarning: using a non-integer array as obj in delete will result in an error in the future\n",
      "/data/jwhughes/tf_env/lib/python3.6/site-packages/ipykernel_launcher.py:120: DeprecationWarning: using a non-integer array as obj in delete will result in an error in the future\n"
     ]
    },
    {
     "name": "stdout",
     "output_type": "stream",
     "text": [
      "INFO:tensorflow:Our macro AUC:     0.917386878515227\n",
      "INFO:tensorflow:Our micro AUC:     0.9510575240664758\n",
      "INFO:tensorflow:2018-11-13 03:19:04.694701: 0, DNase, NaN\n",
      "INFO:tensorflow:2018-11-13 03:19:04.696007: 1, CTCF, 0.981972\n",
      "INFO:tensorflow:2018-11-13 03:19:04.710139: 2, Pol2, 0.971060\n",
      "INFO:tensorflow:2018-11-13 03:19:04.723891: 3, YY1, 0.953265\n",
      "INFO:tensorflow:2018-11-13 03:19:04.737766: 4, p300, 0.879036\n",
      "INFO:tensorflow:2018-11-13 03:19:04.751502: 5, TAF1, 0.982553\n",
      "INFO:tensorflow:2018-11-13 03:19:04.765349: 6, Pol2-4H8, 0.949720\n",
      "INFO:tensorflow:2018-11-13 03:19:04.779235: 7, c-Myc, 0.966706\n",
      "INFO:tensorflow:2018-11-13 03:19:04.792933: 8, Rad21, 0.983594\n",
      "INFO:tensorflow:2018-11-13 03:19:04.806915: 9, Max, 0.937053\n",
      "INFO:tensorflow:2018-11-13 03:19:04.820689: 10, NRSF, 0.952894\n",
      "INFO:tensorflow:2018-11-13 03:19:04.834610: 11, GABP, 0.959364\n",
      "INFO:tensorflow:2018-11-13 03:19:04.848419: 12, EZH2, 0.895303\n",
      "INFO:tensorflow:2018-11-13 03:19:04.862262: 13, CEBPB, 0.758593\n",
      "INFO:tensorflow:2018-11-13 03:19:04.876446: 14, c-Jun, 0.744298\n",
      "INFO:tensorflow:2018-11-13 03:19:04.890429: 15, ZBTB33, 0.918714\n",
      "INFO:tensorflow:2018-11-13 03:19:04.904365: 16, USF2, 0.903617\n",
      "INFO:tensorflow:2018-11-13 03:19:04.918188: 17, USF-1, 0.866945\n",
      "INFO:tensorflow:2018-11-13 03:19:04.932213: 18, TBP, 0.954964\n",
      "INFO:tensorflow:2018-11-13 03:19:04.946144: 19, RFX5, 0.870700\n",
      "INFO:tensorflow:\n",
      "INFO:tensorflow:78000 0.14427777\n",
      "INFO:tensorflow:On validation\n"
     ]
    },
    {
     "name": "stderr",
     "output_type": "stream",
     "text": [
      "/data/jwhughes/tf_env/lib/python3.6/site-packages/ipykernel_launcher.py:119: DeprecationWarning: using a non-integer array as obj in delete will result in an error in the future\n",
      "/data/jwhughes/tf_env/lib/python3.6/site-packages/ipykernel_launcher.py:120: DeprecationWarning: using a non-integer array as obj in delete will result in an error in the future\n"
     ]
    },
    {
     "name": "stdout",
     "output_type": "stream",
     "text": [
      "INFO:tensorflow:Our macro AUC:     0.88965834439347\n",
      "INFO:tensorflow:Our micro AUC:     0.9225828685897436\n",
      "INFO:tensorflow:2018-11-13 03:20:25.797439: 0, DNase, NaN\n",
      "INFO:tensorflow:2018-11-13 03:20:25.798674: 1, CTCF, 0.979314\n",
      "INFO:tensorflow:2018-11-13 03:20:25.813038: 2, Pol2, 0.885977\n",
      "INFO:tensorflow:2018-11-13 03:20:25.827210: 3, YY1, 0.948764\n",
      "INFO:tensorflow:2018-11-13 03:20:25.841160: 4, p300, 0.856489\n",
      "INFO:tensorflow:2018-11-13 03:20:25.855171: 5, TAF1, 0.965808\n",
      "INFO:tensorflow:2018-11-13 03:20:25.869010: 6, Pol2-4H8, 0.883351\n",
      "INFO:tensorflow:2018-11-13 03:20:25.883202: 7, c-Myc, 0.917221\n",
      "INFO:tensorflow:2018-11-13 03:20:25.897027: 8, Rad21, 0.974932\n",
      "INFO:tensorflow:2018-11-13 03:20:25.911180: 9, Max, 0.917746\n",
      "INFO:tensorflow:2018-11-13 03:20:25.925035: 10, NRSF, 0.919423\n",
      "INFO:tensorflow:2018-11-13 03:20:25.938726: 11, GABP, 0.946628\n",
      "INFO:tensorflow:2018-11-13 03:20:25.952473: 12, EZH2, 0.865538\n",
      "INFO:tensorflow:2018-11-13 03:20:25.966205: 13, CEBPB, 0.712253\n",
      "INFO:tensorflow:2018-11-13 03:20:25.980030: 14, c-Jun, 0.748550\n",
      "INFO:tensorflow:2018-11-13 03:20:25.993549: 15, ZBTB33, 0.877802\n",
      "INFO:tensorflow:2018-11-13 03:20:26.007124: 16, USF2, 0.885364\n",
      "INFO:tensorflow:2018-11-13 03:20:26.020706: 17, USF-1, 0.827544\n",
      "INFO:tensorflow:2018-11-13 03:20:26.034618: 18, TBP, 0.920708\n",
      "INFO:tensorflow:2018-11-13 03:20:26.048055: 19, RFX5, 0.870098\n",
      "INFO:tensorflow:\n",
      "INFO:tensorflow:79000 0.449648\n",
      "INFO:tensorflow:On validation\n"
     ]
    },
    {
     "name": "stderr",
     "output_type": "stream",
     "text": [
      "/data/jwhughes/tf_env/lib/python3.6/site-packages/ipykernel_launcher.py:119: DeprecationWarning: using a non-integer array as obj in delete will result in an error in the future\n",
      "/data/jwhughes/tf_env/lib/python3.6/site-packages/ipykernel_launcher.py:120: DeprecationWarning: using a non-integer array as obj in delete will result in an error in the future\n"
     ]
    },
    {
     "name": "stdout",
     "output_type": "stream",
     "text": [
      "INFO:tensorflow:Our macro AUC:     0.8747479682110827\n",
      "INFO:tensorflow:Our micro AUC:     0.9074270644098354\n",
      "INFO:tensorflow:2018-11-13 03:21:46.894921: 0, DNase, NaN\n",
      "INFO:tensorflow:2018-11-13 03:21:46.896205: 1, CTCF, 0.957938\n",
      "INFO:tensorflow:2018-11-13 03:21:46.910600: 2, Pol2, 0.900983\n",
      "INFO:tensorflow:2018-11-13 03:21:46.924586: 3, YY1, 0.928390\n",
      "INFO:tensorflow:2018-11-13 03:21:46.938644: 4, p300, 0.824111\n",
      "INFO:tensorflow:2018-11-13 03:21:46.952618: 5, TAF1, 0.958978\n",
      "INFO:tensorflow:2018-11-13 03:21:46.966734: 6, Pol2-4H8, 0.850555\n",
      "INFO:tensorflow:2018-11-13 03:21:46.980729: 7, c-Myc, 0.946313\n",
      "INFO:tensorflow:2018-11-13 03:21:46.994707: 8, Rad21, 0.956773\n",
      "INFO:tensorflow:2018-11-13 03:21:47.008740: 9, Max, 0.886761\n",
      "INFO:tensorflow:2018-11-13 03:21:47.022982: 10, NRSF, 0.895445\n",
      "INFO:tensorflow:2018-11-13 03:21:47.037020: 11, GABP, 0.918427\n",
      "INFO:tensorflow:2018-11-13 03:21:47.050949: 12, EZH2, 0.781966\n",
      "INFO:tensorflow:2018-11-13 03:21:47.064928: 13, CEBPB, 0.683773\n",
      "INFO:tensorflow:2018-11-13 03:21:47.079453: 14, c-Jun, 0.781077\n",
      "INFO:tensorflow:2018-11-13 03:21:47.093654: 15, ZBTB33, 0.865297\n",
      "INFO:tensorflow:2018-11-13 03:21:47.107523: 16, USF2, 0.922142\n",
      "INFO:tensorflow:2018-11-13 03:21:47.121354: 17, USF-1, 0.819950\n",
      "INFO:tensorflow:2018-11-13 03:21:47.135376: 18, TBP, 0.915408\n",
      "INFO:tensorflow:2018-11-13 03:21:47.149644: 19, RFX5, 0.825923\n",
      "INFO:tensorflow:\n",
      "INFO:tensorflow:80000 0.19316702\n",
      "INFO:tensorflow:On validation\n"
     ]
    },
    {
     "name": "stderr",
     "output_type": "stream",
     "text": [
      "/data/jwhughes/tf_env/lib/python3.6/site-packages/ipykernel_launcher.py:119: DeprecationWarning: using a non-integer array as obj in delete will result in an error in the future\n",
      "/data/jwhughes/tf_env/lib/python3.6/site-packages/ipykernel_launcher.py:120: DeprecationWarning: using a non-integer array as obj in delete will result in an error in the future\n"
     ]
    },
    {
     "name": "stdout",
     "output_type": "stream",
     "text": [
      "INFO:tensorflow:Our macro AUC:     0.866912529163406\n",
      "INFO:tensorflow:Our micro AUC:     0.890799117814649\n",
      "INFO:tensorflow:2018-11-13 03:23:08.827923: 0, DNase, NaN\n",
      "INFO:tensorflow:2018-11-13 03:23:08.828881: 1, CTCF, 0.961794\n",
      "INFO:tensorflow:2018-11-13 03:23:08.843069: 2, Pol2, 0.898705\n",
      "INFO:tensorflow:2018-11-13 03:23:08.856548: 3, YY1, 0.926979\n",
      "INFO:tensorflow:2018-11-13 03:23:08.870030: 4, p300, 0.874846\n",
      "INFO:tensorflow:2018-11-13 03:23:08.883516: 5, TAF1, 0.935559\n",
      "INFO:tensorflow:2018-11-13 03:23:08.897129: 6, Pol2-4H8, 0.905475\n",
      "INFO:tensorflow:2018-11-13 03:23:08.910683: 7, c-Myc, 0.933133\n",
      "INFO:tensorflow:2018-11-13 03:23:08.924130: 8, Rad21, 0.968992\n",
      "INFO:tensorflow:2018-11-13 03:23:08.937699: 9, Max, 0.886484\n",
      "INFO:tensorflow:2018-11-13 03:23:08.951416: 10, NRSF, 0.919104\n",
      "INFO:tensorflow:2018-11-13 03:23:08.965068: 11, GABP, 0.880454\n",
      "INFO:tensorflow:2018-11-13 03:23:08.978465: 12, EZH2, 0.599019\n",
      "INFO:tensorflow:2018-11-13 03:23:08.992031: 13, CEBPB, 0.725986\n",
      "INFO:tensorflow:2018-11-13 03:23:09.005819: 14, c-Jun, 0.753115\n",
      "INFO:tensorflow:2018-11-13 03:23:09.019334: 15, ZBTB33, 0.780132\n",
      "INFO:tensorflow:2018-11-13 03:23:09.032829: 16, USF2, 0.905159\n",
      "INFO:tensorflow:2018-11-13 03:23:09.046395: 17, USF-1, 0.809162\n",
      "INFO:tensorflow:2018-11-13 03:23:09.060149: 18, TBP, 0.930251\n",
      "INFO:tensorflow:2018-11-13 03:23:09.073825: 19, RFX5, 0.876989\n",
      "INFO:tensorflow:\n",
      "INFO:tensorflow:81000 0.68055195\n",
      "INFO:tensorflow:On validation\n"
     ]
    },
    {
     "name": "stderr",
     "output_type": "stream",
     "text": [
      "/data/jwhughes/tf_env/lib/python3.6/site-packages/ipykernel_launcher.py:119: DeprecationWarning: using a non-integer array as obj in delete will result in an error in the future\n",
      "/data/jwhughes/tf_env/lib/python3.6/site-packages/ipykernel_launcher.py:120: DeprecationWarning: using a non-integer array as obj in delete will result in an error in the future\n"
     ]
    },
    {
     "name": "stdout",
     "output_type": "stream",
     "text": [
      "INFO:tensorflow:Our macro AUC:     0.9086826350988954\n",
      "INFO:tensorflow:Our micro AUC:     0.9394550630035611\n",
      "INFO:tensorflow:2018-11-13 03:24:31.034268: 0, DNase, NaN\n",
      "INFO:tensorflow:2018-11-13 03:24:31.035546: 1, CTCF, 0.981309\n",
      "INFO:tensorflow:2018-11-13 03:24:31.049914: 2, Pol2, 0.924209\n",
      "INFO:tensorflow:2018-11-13 03:24:31.063628: 3, YY1, 0.946449\n",
      "INFO:tensorflow:2018-11-13 03:24:31.077358: 4, p300, 0.862334\n",
      "INFO:tensorflow:2018-11-13 03:24:31.091308: 5, TAF1, 0.961713\n",
      "INFO:tensorflow:2018-11-13 03:24:31.106365: 6, Pol2-4H8, 0.914349\n",
      "INFO:tensorflow:2018-11-13 03:24:31.120772: 7, c-Myc, 0.980835\n",
      "INFO:tensorflow:2018-11-13 03:24:31.134496: 8, Rad21, 0.984578\n",
      "INFO:tensorflow:2018-11-13 03:24:31.148410: 9, Max, 0.937068\n",
      "INFO:tensorflow:2018-11-13 03:24:31.162292: 10, NRSF, 0.924462\n",
      "INFO:tensorflow:2018-11-13 03:24:31.176098: 11, GABP, 0.939652\n",
      "INFO:tensorflow:2018-11-13 03:24:31.189833: 12, EZH2, 0.769700\n",
      "INFO:tensorflow:2018-11-13 03:24:31.203589: 13, CEBPB, 0.773653\n",
      "INFO:tensorflow:2018-11-13 03:24:31.217593: 14, c-Jun, 0.809851\n",
      "INFO:tensorflow:2018-11-13 03:24:31.231534: 15, ZBTB33, 0.925272\n",
      "INFO:tensorflow:2018-11-13 03:24:31.245292: 16, USF2, 0.938264\n",
      "INFO:tensorflow:2018-11-13 03:24:31.258954: 17, USF-1, 0.848687\n",
      "INFO:tensorflow:2018-11-13 03:24:31.272805: 18, TBP, 0.931848\n",
      "INFO:tensorflow:2018-11-13 03:24:31.286596: 19, RFX5, 0.910736\n",
      "INFO:tensorflow:\n",
      "INFO:tensorflow:82000 0.07313097\n",
      "INFO:tensorflow:On validation\n"
     ]
    },
    {
     "name": "stderr",
     "output_type": "stream",
     "text": [
      "/data/jwhughes/tf_env/lib/python3.6/site-packages/ipykernel_launcher.py:119: DeprecationWarning: using a non-integer array as obj in delete will result in an error in the future\n",
      "/data/jwhughes/tf_env/lib/python3.6/site-packages/ipykernel_launcher.py:120: DeprecationWarning: using a non-integer array as obj in delete will result in an error in the future\n"
     ]
    },
    {
     "name": "stdout",
     "output_type": "stream",
     "text": [
      "INFO:tensorflow:Our macro AUC:     0.9030527363480301\n",
      "INFO:tensorflow:Our micro AUC:     0.9325597185761878\n",
      "INFO:tensorflow:2018-11-13 03:25:53.495222: 0, DNase, NaN\n",
      "INFO:tensorflow:2018-11-13 03:25:53.496380: 1, CTCF, 0.965203\n",
      "INFO:tensorflow:2018-11-13 03:25:53.510581: 2, Pol2, 0.915093\n",
      "INFO:tensorflow:2018-11-13 03:25:53.524051: 3, YY1, 0.942466\n",
      "INFO:tensorflow:2018-11-13 03:25:53.537582: 4, p300, 0.884237\n",
      "INFO:tensorflow:2018-11-13 03:25:53.550996: 5, TAF1, 0.947979\n",
      "INFO:tensorflow:2018-11-13 03:25:53.564701: 6, Pol2-4H8, 0.924070\n",
      "INFO:tensorflow:2018-11-13 03:25:53.578300: 7, c-Myc, 0.958565\n",
      "INFO:tensorflow:2018-11-13 03:25:53.592804: 8, Rad21, 0.983371\n",
      "INFO:tensorflow:2018-11-13 03:25:53.606311: 9, Max, 0.916953\n",
      "INFO:tensorflow:2018-11-13 03:25:53.619868: 10, NRSF, 0.960424\n",
      "INFO:tensorflow:2018-11-13 03:25:53.633368: 11, GABP, 0.925834\n",
      "INFO:tensorflow:2018-11-13 03:25:53.647079: 12, EZH2, 0.696518\n",
      "INFO:tensorflow:2018-11-13 03:25:53.660751: 13, CEBPB, 0.785548\n",
      "INFO:tensorflow:2018-11-13 03:25:53.674374: 14, c-Jun, 0.878958\n",
      "INFO:tensorflow:2018-11-13 03:25:53.687864: 15, ZBTB33, 0.877098\n",
      "INFO:tensorflow:2018-11-13 03:25:53.701434: 16, USF2, 0.889243\n",
      "INFO:tensorflow:2018-11-13 03:25:53.714990: 17, USF-1, 0.839743\n",
      "INFO:tensorflow:2018-11-13 03:25:53.728797: 18, TBP, 0.939728\n",
      "INFO:tensorflow:2018-11-13 03:25:53.742394: 19, RFX5, 0.926971\n",
      "INFO:tensorflow:\n",
      "INFO:tensorflow:83000 0.2566314\n",
      "INFO:tensorflow:On validation\n"
     ]
    },
    {
     "name": "stderr",
     "output_type": "stream",
     "text": [
      "/data/jwhughes/tf_env/lib/python3.6/site-packages/ipykernel_launcher.py:119: DeprecationWarning: using a non-integer array as obj in delete will result in an error in the future\n",
      "/data/jwhughes/tf_env/lib/python3.6/site-packages/ipykernel_launcher.py:120: DeprecationWarning: using a non-integer array as obj in delete will result in an error in the future\n"
     ]
    },
    {
     "name": "stdout",
     "output_type": "stream",
     "text": [
      "INFO:tensorflow:Our macro AUC:     0.8925672573501507\n",
      "INFO:tensorflow:Our micro AUC:     0.9148923730598483\n",
      "INFO:tensorflow:2018-11-13 03:27:15.598921: 0, DNase, NaN\n",
      "INFO:tensorflow:2018-11-13 03:27:15.600346: 1, CTCF, 0.964060\n",
      "INFO:tensorflow:2018-11-13 03:27:15.616077: 2, Pol2, 0.882056\n",
      "INFO:tensorflow:2018-11-13 03:27:15.630984: 3, YY1, 0.935065\n",
      "INFO:tensorflow:2018-11-13 03:27:15.644762: 4, p300, 0.876828\n",
      "INFO:tensorflow:2018-11-13 03:27:15.660330: 5, TAF1, 0.949436\n",
      "INFO:tensorflow:2018-11-13 03:27:15.674879: 6, Pol2-4H8, 0.881931\n",
      "INFO:tensorflow:2018-11-13 03:27:15.689148: 7, c-Myc, 0.944886\n",
      "INFO:tensorflow:2018-11-13 03:27:15.702757: 8, Rad21, 0.981992\n",
      "INFO:tensorflow:2018-11-13 03:27:15.716558: 9, Max, 0.898781\n",
      "INFO:tensorflow:2018-11-13 03:27:15.730457: 10, NRSF, 0.905025\n",
      "INFO:tensorflow:2018-11-13 03:27:15.744199: 11, GABP, 0.910170\n",
      "INFO:tensorflow:2018-11-13 03:27:15.757764: 12, EZH2, 0.681366\n",
      "INFO:tensorflow:2018-11-13 03:27:15.771334: 13, CEBPB, 0.772255\n",
      "INFO:tensorflow:2018-11-13 03:27:15.785596: 14, c-Jun, 0.896066\n",
      "INFO:tensorflow:2018-11-13 03:27:15.799789: 15, ZBTB33, 0.836420\n",
      "INFO:tensorflow:2018-11-13 03:27:15.815164: 16, USF2, 0.939420\n",
      "INFO:tensorflow:2018-11-13 03:27:15.828719: 17, USF-1, 0.842887\n",
      "INFO:tensorflow:2018-11-13 03:27:15.843114: 18, TBP, 0.916771\n",
      "INFO:tensorflow:2018-11-13 03:27:15.856700: 19, RFX5, 0.943364\n",
      "INFO:tensorflow:\n",
      "INFO:tensorflow:84000 0.55001765\n",
      "INFO:tensorflow:On validation\n"
     ]
    },
    {
     "name": "stderr",
     "output_type": "stream",
     "text": [
      "/data/jwhughes/tf_env/lib/python3.6/site-packages/ipykernel_launcher.py:119: DeprecationWarning: using a non-integer array as obj in delete will result in an error in the future\n",
      "/data/jwhughes/tf_env/lib/python3.6/site-packages/ipykernel_launcher.py:120: DeprecationWarning: using a non-integer array as obj in delete will result in an error in the future\n"
     ]
    },
    {
     "name": "stdout",
     "output_type": "stream",
     "text": [
      "INFO:tensorflow:Our macro AUC:     0.8891403748884721\n",
      "INFO:tensorflow:Our micro AUC:     0.9195059120600947\n",
      "INFO:tensorflow:2018-11-13 03:28:37.734103: 0, DNase, NaN\n",
      "INFO:tensorflow:2018-11-13 03:28:37.735233: 1, CTCF, 0.974261\n",
      "INFO:tensorflow:2018-11-13 03:28:37.749609: 2, Pol2, 0.860623\n",
      "INFO:tensorflow:2018-11-13 03:28:37.763806: 3, YY1, 0.940853\n",
      "INFO:tensorflow:2018-11-13 03:28:37.777784: 4, p300, 0.871646\n",
      "INFO:tensorflow:2018-11-13 03:28:37.791972: 5, TAF1, 0.952620\n",
      "INFO:tensorflow:2018-11-13 03:28:37.805854: 6, Pol2-4H8, 0.871792\n",
      "INFO:tensorflow:2018-11-13 03:28:37.819858: 7, c-Myc, 0.946736\n",
      "INFO:tensorflow:2018-11-13 03:28:37.833630: 8, Rad21, 0.986293\n",
      "INFO:tensorflow:2018-11-13 03:28:37.847546: 9, Max, 0.894885\n",
      "INFO:tensorflow:2018-11-13 03:28:37.861665: 10, NRSF, 0.925249\n",
      "INFO:tensorflow:2018-11-13 03:28:37.875511: 11, GABP, 0.923979\n",
      "INFO:tensorflow:2018-11-13 03:28:37.889381: 12, EZH2, 0.636083\n",
      "INFO:tensorflow:2018-11-13 03:28:37.903111: 13, CEBPB, 0.768691\n",
      "INFO:tensorflow:2018-11-13 03:28:37.917223: 14, c-Jun, 0.880913\n",
      "INFO:tensorflow:2018-11-13 03:28:37.931044: 15, ZBTB33, 0.905682\n",
      "INFO:tensorflow:2018-11-13 03:28:37.944668: 16, USF2, 0.911697\n",
      "INFO:tensorflow:2018-11-13 03:28:37.958268: 17, USF-1, 0.863551\n",
      "INFO:tensorflow:2018-11-13 03:28:37.971867: 18, TBP, 0.900505\n",
      "INFO:tensorflow:2018-11-13 03:28:37.985561: 19, RFX5, 0.877609\n",
      "INFO:tensorflow:\n",
      "INFO:tensorflow:85000 0.43435535\n",
      "INFO:tensorflow:On validation\n"
     ]
    },
    {
     "name": "stderr",
     "output_type": "stream",
     "text": [
      "/data/jwhughes/tf_env/lib/python3.6/site-packages/ipykernel_launcher.py:119: DeprecationWarning: using a non-integer array as obj in delete will result in an error in the future\n",
      "/data/jwhughes/tf_env/lib/python3.6/site-packages/ipykernel_launcher.py:120: DeprecationWarning: using a non-integer array as obj in delete will result in an error in the future\n"
     ]
    },
    {
     "name": "stdout",
     "output_type": "stream",
     "text": [
      "INFO:tensorflow:Our macro AUC:     0.9041184733694105\n",
      "INFO:tensorflow:Our micro AUC:     0.9287718819057376\n",
      "INFO:tensorflow:2018-11-13 03:29:59.820310: 0, DNase, NaN\n",
      "INFO:tensorflow:2018-11-13 03:29:59.821520: 1, CTCF, 0.963760\n",
      "INFO:tensorflow:2018-11-13 03:29:59.836293: 2, Pol2, 0.896715\n",
      "INFO:tensorflow:2018-11-13 03:29:59.850288: 3, YY1, 0.958398\n",
      "INFO:tensorflow:2018-11-13 03:29:59.864187: 4, p300, 0.862923\n",
      "INFO:tensorflow:2018-11-13 03:29:59.878161: 5, TAF1, 0.969616\n",
      "INFO:tensorflow:2018-11-13 03:29:59.892219: 6, Pol2-4H8, 0.899704\n",
      "INFO:tensorflow:2018-11-13 03:29:59.906306: 7, c-Myc, 0.954532\n",
      "INFO:tensorflow:2018-11-13 03:29:59.920573: 8, Rad21, 0.982451\n",
      "INFO:tensorflow:2018-11-13 03:29:59.934839: 9, Max, 0.923334\n",
      "INFO:tensorflow:2018-11-13 03:29:59.948896: 10, NRSF, 0.946226\n",
      "INFO:tensorflow:2018-11-13 03:29:59.962809: 11, GABP, 0.941688\n",
      "INFO:tensorflow:2018-11-13 03:29:59.976570: 12, EZH2, 0.710195\n",
      "INFO:tensorflow:2018-11-13 03:29:59.990315: 13, CEBPB, 0.746714\n",
      "INFO:tensorflow:2018-11-13 03:30:00.004762: 14, c-Jun, 0.853331\n",
      "INFO:tensorflow:2018-11-13 03:30:00.018582: 15, ZBTB33, 0.920975\n",
      "INFO:tensorflow:2018-11-13 03:30:00.032410: 16, USF2, 0.954088\n",
      "INFO:tensorflow:2018-11-13 03:30:00.046030: 17, USF-1, 0.861552\n",
      "INFO:tensorflow:2018-11-13 03:30:00.059795: 18, TBP, 0.917370\n",
      "INFO:tensorflow:2018-11-13 03:30:00.073547: 19, RFX5, 0.914680\n",
      "INFO:tensorflow:\n",
      "INFO:tensorflow:86000 0.30417654\n",
      "INFO:tensorflow:On validation\n"
     ]
    },
    {
     "name": "stderr",
     "output_type": "stream",
     "text": [
      "/data/jwhughes/tf_env/lib/python3.6/site-packages/ipykernel_launcher.py:119: DeprecationWarning: using a non-integer array as obj in delete will result in an error in the future\n",
      "/data/jwhughes/tf_env/lib/python3.6/site-packages/ipykernel_launcher.py:120: DeprecationWarning: using a non-integer array as obj in delete will result in an error in the future\n"
     ]
    },
    {
     "name": "stdout",
     "output_type": "stream",
     "text": [
      "INFO:tensorflow:Our macro AUC:     0.892698386987882\n",
      "INFO:tensorflow:Our micro AUC:     0.9232795860763472\n",
      "INFO:tensorflow:2018-11-13 03:31:21.755409: 0, DNase, NaN\n",
      "INFO:tensorflow:2018-11-13 03:31:21.756760: 1, CTCF, 0.977230\n",
      "INFO:tensorflow:2018-11-13 03:31:21.771416: 2, Pol2, 0.909137\n",
      "INFO:tensorflow:2018-11-13 03:31:21.786159: 3, YY1, 0.936528\n",
      "INFO:tensorflow:2018-11-13 03:31:21.800181: 4, p300, 0.856390\n",
      "INFO:tensorflow:2018-11-13 03:31:21.814619: 5, TAF1, 0.972622\n",
      "INFO:tensorflow:2018-11-13 03:31:21.828704: 6, Pol2-4H8, 0.884675\n",
      "INFO:tensorflow:2018-11-13 03:31:21.842898: 7, c-Myc, 0.935318\n",
      "INFO:tensorflow:2018-11-13 03:31:21.857042: 8, Rad21, 0.980544\n",
      "INFO:tensorflow:2018-11-13 03:31:21.871115: 9, Max, 0.901517\n",
      "INFO:tensorflow:2018-11-13 03:31:21.885161: 10, NRSF, 0.929555\n",
      "INFO:tensorflow:2018-11-13 03:31:21.899553: 11, GABP, 0.956197\n",
      "INFO:tensorflow:2018-11-13 03:31:21.913529: 12, EZH2, 0.725162\n",
      "INFO:tensorflow:2018-11-13 03:31:21.927553: 13, CEBPB, 0.769229\n",
      "INFO:tensorflow:2018-11-13 03:31:21.941857: 14, c-Jun, 0.790129\n",
      "INFO:tensorflow:2018-11-13 03:31:21.955860: 15, ZBTB33, 0.908605\n",
      "INFO:tensorflow:2018-11-13 03:31:21.969801: 16, USF2, 0.869206\n",
      "INFO:tensorflow:2018-11-13 03:31:21.983944: 17, USF-1, 0.807963\n",
      "INFO:tensorflow:2018-11-13 03:31:21.998085: 18, TBP, 0.918350\n",
      "INFO:tensorflow:2018-11-13 03:31:22.012116: 19, RFX5, 0.932911\n",
      "INFO:tensorflow:\n",
      "INFO:tensorflow:87000 0.1618145\n",
      "INFO:tensorflow:On validation\n"
     ]
    },
    {
     "name": "stderr",
     "output_type": "stream",
     "text": [
      "/data/jwhughes/tf_env/lib/python3.6/site-packages/ipykernel_launcher.py:119: DeprecationWarning: using a non-integer array as obj in delete will result in an error in the future\n",
      "/data/jwhughes/tf_env/lib/python3.6/site-packages/ipykernel_launcher.py:120: DeprecationWarning: using a non-integer array as obj in delete will result in an error in the future\n"
     ]
    },
    {
     "name": "stdout",
     "output_type": "stream",
     "text": [
      "INFO:tensorflow:Our macro AUC:     0.9094936265687641\n",
      "INFO:tensorflow:Our micro AUC:     0.9458993891450543\n",
      "INFO:tensorflow:2018-11-13 03:32:43.553966: 0, DNase, NaN\n",
      "INFO:tensorflow:2018-11-13 03:32:43.555279: 1, CTCF, 0.967082\n",
      "INFO:tensorflow:2018-11-13 03:32:43.569443: 2, Pol2, 0.959241\n",
      "INFO:tensorflow:2018-11-13 03:32:43.583474: 3, YY1, 0.949114\n",
      "INFO:tensorflow:2018-11-13 03:32:43.597367: 4, p300, 0.870845\n",
      "INFO:tensorflow:2018-11-13 03:32:43.611463: 5, TAF1, 0.987508\n",
      "INFO:tensorflow:2018-11-13 03:32:43.625440: 6, Pol2-4H8, 0.941002\n",
      "INFO:tensorflow:2018-11-13 03:32:43.639287: 7, c-Myc, 0.975188\n",
      "INFO:tensorflow:2018-11-13 03:32:43.653541: 8, Rad21, 0.971402\n",
      "INFO:tensorflow:2018-11-13 03:32:43.667491: 9, Max, 0.912271\n",
      "INFO:tensorflow:2018-11-13 03:32:43.681313: 10, NRSF, 0.951337\n",
      "INFO:tensorflow:2018-11-13 03:32:43.695173: 11, GABP, 0.962850\n",
      "INFO:tensorflow:2018-11-13 03:32:43.709191: 12, EZH2, 0.725357\n",
      "INFO:tensorflow:2018-11-13 03:32:43.722978: 13, CEBPB, 0.778224\n",
      "INFO:tensorflow:2018-11-13 03:32:43.737204: 14, c-Jun, 0.801561\n",
      "INFO:tensorflow:2018-11-13 03:32:43.751321: 15, ZBTB33, 0.936363\n",
      "INFO:tensorflow:2018-11-13 03:32:43.765320: 16, USF2, 0.892486\n",
      "INFO:tensorflow:2018-11-13 03:32:43.779225: 17, USF-1, 0.849095\n",
      "INFO:tensorflow:2018-11-13 03:32:43.793090: 18, TBP, 0.942434\n",
      "INFO:tensorflow:2018-11-13 03:32:43.807090: 19, RFX5, 0.907018\n",
      "INFO:tensorflow:\n",
      "INFO:tensorflow:88000 0.2568559\n",
      "INFO:tensorflow:On validation\n"
     ]
    },
    {
     "name": "stderr",
     "output_type": "stream",
     "text": [
      "/data/jwhughes/tf_env/lib/python3.6/site-packages/ipykernel_launcher.py:119: DeprecationWarning: using a non-integer array as obj in delete will result in an error in the future\n",
      "/data/jwhughes/tf_env/lib/python3.6/site-packages/ipykernel_launcher.py:120: DeprecationWarning: using a non-integer array as obj in delete will result in an error in the future\n"
     ]
    },
    {
     "name": "stdout",
     "output_type": "stream",
     "text": [
      "INFO:tensorflow:Our macro AUC:     0.907046367287288\n",
      "INFO:tensorflow:Our micro AUC:     0.9421890075663881\n",
      "INFO:tensorflow:2018-11-13 03:34:06.172749: 0, DNase, NaN\n",
      "INFO:tensorflow:2018-11-13 03:34:06.174015: 1, CTCF, 0.968690\n",
      "INFO:tensorflow:2018-11-13 03:34:06.188246: 2, Pol2, 0.955847\n",
      "INFO:tensorflow:2018-11-13 03:34:06.202357: 3, YY1, 0.961865\n",
      "INFO:tensorflow:2018-11-13 03:34:06.216380: 4, p300, 0.828447\n",
      "INFO:tensorflow:2018-11-13 03:34:06.230875: 5, TAF1, 0.974380\n",
      "INFO:tensorflow:2018-11-13 03:34:06.245086: 6, Pol2-4H8, 0.928174\n",
      "INFO:tensorflow:2018-11-13 03:34:06.259359: 7, c-Myc, 0.963547\n",
      "INFO:tensorflow:2018-11-13 03:34:06.273382: 8, Rad21, 0.991593\n",
      "INFO:tensorflow:2018-11-13 03:34:06.287458: 9, Max, 0.926862\n",
      "INFO:tensorflow:2018-11-13 03:34:06.301343: 10, NRSF, 0.940883\n",
      "INFO:tensorflow:2018-11-13 03:34:06.315471: 11, GABP, 0.949627\n",
      "INFO:tensorflow:2018-11-13 03:34:06.329694: 12, EZH2, 0.791166\n",
      "INFO:tensorflow:2018-11-13 03:34:06.343732: 13, CEBPB, 0.750715\n",
      "INFO:tensorflow:2018-11-13 03:34:06.357926: 14, c-Jun, 0.821619\n",
      "INFO:tensorflow:2018-11-13 03:34:06.372257: 15, ZBTB33, 0.938333\n",
      "INFO:tensorflow:2018-11-13 03:34:06.386217: 16, USF2, 0.882803\n",
      "INFO:tensorflow:2018-11-13 03:34:06.400199: 17, USF-1, 0.813040\n",
      "INFO:tensorflow:2018-11-13 03:34:06.414275: 18, TBP, 0.940249\n",
      "INFO:tensorflow:2018-11-13 03:34:06.428365: 19, RFX5, 0.906042\n",
      "INFO:tensorflow:\n",
      "INFO:tensorflow:89000 0.20103425\n",
      "INFO:tensorflow:On validation\n"
     ]
    },
    {
     "name": "stderr",
     "output_type": "stream",
     "text": [
      "/data/jwhughes/tf_env/lib/python3.6/site-packages/ipykernel_launcher.py:119: DeprecationWarning: using a non-integer array as obj in delete will result in an error in the future\n",
      "/data/jwhughes/tf_env/lib/python3.6/site-packages/ipykernel_launcher.py:120: DeprecationWarning: using a non-integer array as obj in delete will result in an error in the future\n"
     ]
    },
    {
     "name": "stdout",
     "output_type": "stream",
     "text": [
      "INFO:tensorflow:Our macro AUC:     0.9113307628634466\n",
      "INFO:tensorflow:Our micro AUC:     0.9341143754930488\n",
      "INFO:tensorflow:2018-11-13 03:35:27.804007: 0, DNase, NaN\n",
      "INFO:tensorflow:2018-11-13 03:35:27.805144: 1, CTCF, 0.981864\n",
      "INFO:tensorflow:2018-11-13 03:35:27.819532: 2, Pol2, 0.910368\n",
      "INFO:tensorflow:2018-11-13 03:35:27.833179: 3, YY1, 0.941670\n",
      "INFO:tensorflow:2018-11-13 03:35:27.846795: 4, p300, 0.870071\n",
      "INFO:tensorflow:2018-11-13 03:35:27.860637: 5, TAF1, 0.960719\n",
      "INFO:tensorflow:2018-11-13 03:35:27.874393: 6, Pol2-4H8, 0.918315\n",
      "INFO:tensorflow:2018-11-13 03:35:27.888080: 7, c-Myc, 0.965607\n",
      "INFO:tensorflow:2018-11-13 03:35:27.901701: 8, Rad21, 0.982861\n",
      "INFO:tensorflow:2018-11-13 03:35:27.915496: 9, Max, 0.923664\n",
      "INFO:tensorflow:2018-11-13 03:35:27.929318: 10, NRSF, 0.938332\n",
      "INFO:tensorflow:2018-11-13 03:35:27.943098: 11, GABP, 0.937000\n",
      "INFO:tensorflow:2018-11-13 03:35:27.956689: 12, EZH2, 0.718858\n",
      "INFO:tensorflow:2018-11-13 03:35:27.970276: 13, CEBPB, 0.792461\n",
      "INFO:tensorflow:2018-11-13 03:35:27.984140: 14, c-Jun, 0.884214\n",
      "INFO:tensorflow:2018-11-13 03:35:27.997916: 15, ZBTB33, 0.923448\n",
      "INFO:tensorflow:2018-11-13 03:35:28.011468: 16, USF2, 0.955201\n",
      "INFO:tensorflow:2018-11-13 03:35:28.025222: 17, USF-1, 0.884292\n",
      "INFO:tensorflow:2018-11-13 03:35:28.038978: 18, TBP, 0.926016\n",
      "INFO:tensorflow:2018-11-13 03:35:28.052772: 19, RFX5, 0.900324\n",
      "INFO:tensorflow:\n",
      "INFO:tensorflow:90000 0.6913163\n",
      "INFO:tensorflow:On validation\n"
     ]
    },
    {
     "name": "stderr",
     "output_type": "stream",
     "text": [
      "/data/jwhughes/tf_env/lib/python3.6/site-packages/ipykernel_launcher.py:119: DeprecationWarning: using a non-integer array as obj in delete will result in an error in the future\n",
      "/data/jwhughes/tf_env/lib/python3.6/site-packages/ipykernel_launcher.py:120: DeprecationWarning: using a non-integer array as obj in delete will result in an error in the future\n"
     ]
    },
    {
     "name": "stdout",
     "output_type": "stream",
     "text": [
      "INFO:tensorflow:Our macro AUC:     0.9184395122970718\n",
      "INFO:tensorflow:Our micro AUC:     0.9398308377855299\n",
      "INFO:tensorflow:2018-11-13 03:36:50.077510: 0, DNase, NaN\n",
      "INFO:tensorflow:2018-11-13 03:36:50.078700: 1, CTCF, 0.985782\n",
      "INFO:tensorflow:2018-11-13 03:36:50.092709: 2, Pol2, 0.907949\n",
      "INFO:tensorflow:2018-11-13 03:36:50.107110: 3, YY1, 0.955986\n",
      "INFO:tensorflow:2018-11-13 03:36:50.120965: 4, p300, 0.884011\n",
      "INFO:tensorflow:2018-11-13 03:36:50.134985: 5, TAF1, 0.974629\n",
      "INFO:tensorflow:2018-11-13 03:36:50.148837: 6, Pol2-4H8, 0.920891\n",
      "INFO:tensorflow:2018-11-13 03:36:50.162549: 7, c-Myc, 0.973607\n",
      "INFO:tensorflow:2018-11-13 03:36:50.176230: 8, Rad21, 0.989533\n",
      "INFO:tensorflow:2018-11-13 03:36:50.190175: 9, Max, 0.920674\n",
      "INFO:tensorflow:2018-11-13 03:36:50.204108: 10, NRSF, 0.939063\n",
      "INFO:tensorflow:2018-11-13 03:36:50.218032: 11, GABP, 0.951979\n",
      "INFO:tensorflow:2018-11-13 03:36:50.231842: 12, EZH2, 0.872408\n",
      "INFO:tensorflow:2018-11-13 03:36:50.245694: 13, CEBPB, 0.789080\n",
      "INFO:tensorflow:2018-11-13 03:36:50.259950: 14, c-Jun, 0.819254\n",
      "INFO:tensorflow:2018-11-13 03:36:50.273757: 15, ZBTB33, 0.960409\n",
      "INFO:tensorflow:2018-11-13 03:36:50.287632: 16, USF2, 0.891840\n",
      "INFO:tensorflow:2018-11-13 03:36:50.301559: 17, USF-1, 0.882547\n",
      "INFO:tensorflow:2018-11-13 03:36:50.315444: 18, TBP, 0.929116\n",
      "INFO:tensorflow:2018-11-13 03:36:50.329384: 19, RFX5, 0.901594\n",
      "INFO:tensorflow:\n",
      "INFO:tensorflow:91000 0.5910366\n",
      "INFO:tensorflow:On validation\n"
     ]
    },
    {
     "name": "stderr",
     "output_type": "stream",
     "text": [
      "/data/jwhughes/tf_env/lib/python3.6/site-packages/ipykernel_launcher.py:119: DeprecationWarning: using a non-integer array as obj in delete will result in an error in the future\n",
      "/data/jwhughes/tf_env/lib/python3.6/site-packages/ipykernel_launcher.py:120: DeprecationWarning: using a non-integer array as obj in delete will result in an error in the future\n"
     ]
    },
    {
     "name": "stdout",
     "output_type": "stream",
     "text": [
      "INFO:tensorflow:Our macro AUC:     0.9061179535815257\n",
      "INFO:tensorflow:Our micro AUC:     0.9387795207915568\n",
      "INFO:tensorflow:2018-11-13 03:38:11.466180: 0, DNase, NaN\n",
      "INFO:tensorflow:2018-11-13 03:38:11.467361: 1, CTCF, 0.985574\n",
      "INFO:tensorflow:2018-11-13 03:38:11.481438: 2, Pol2, 0.953752\n",
      "INFO:tensorflow:2018-11-13 03:38:11.495633: 3, YY1, 0.948917\n",
      "INFO:tensorflow:2018-11-13 03:38:11.508992: 4, p300, 0.896893\n",
      "INFO:tensorflow:2018-11-13 03:38:11.522809: 5, TAF1, 0.941328\n",
      "INFO:tensorflow:2018-11-13 03:38:11.536841: 6, Pol2-4H8, 0.889416\n",
      "INFO:tensorflow:2018-11-13 03:38:11.550668: 7, c-Myc, 0.940967\n",
      "INFO:tensorflow:2018-11-13 03:38:11.564317: 8, Rad21, 0.987719\n",
      "INFO:tensorflow:2018-11-13 03:38:11.578240: 9, Max, 0.914370\n",
      "INFO:tensorflow:2018-11-13 03:38:11.592053: 10, NRSF, 0.935431\n",
      "INFO:tensorflow:2018-11-13 03:38:11.605492: 11, GABP, 0.925773\n",
      "INFO:tensorflow:2018-11-13 03:38:11.618934: 12, EZH2, 0.770175\n",
      "INFO:tensorflow:2018-11-13 03:38:11.632340: 13, CEBPB, 0.754686\n",
      "INFO:tensorflow:2018-11-13 03:38:11.645997: 14, c-Jun, 0.816319\n",
      "INFO:tensorflow:2018-11-13 03:38:11.659589: 15, ZBTB33, 0.908078\n",
      "INFO:tensorflow:2018-11-13 03:38:11.673056: 16, USF2, 0.950293\n",
      "INFO:tensorflow:2018-11-13 03:38:11.686583: 17, USF-1, 0.840075\n",
      "INFO:tensorflow:2018-11-13 03:38:11.700258: 18, TBP, 0.929289\n",
      "INFO:tensorflow:2018-11-13 03:38:11.713796: 19, RFX5, 0.927188\n",
      "INFO:tensorflow:\n",
      "INFO:tensorflow:92000 0.77112454\n",
      "INFO:tensorflow:On validation\n"
     ]
    },
    {
     "name": "stderr",
     "output_type": "stream",
     "text": [
      "/data/jwhughes/tf_env/lib/python3.6/site-packages/ipykernel_launcher.py:119: DeprecationWarning: using a non-integer array as obj in delete will result in an error in the future\n",
      "/data/jwhughes/tf_env/lib/python3.6/site-packages/ipykernel_launcher.py:120: DeprecationWarning: using a non-integer array as obj in delete will result in an error in the future\n"
     ]
    },
    {
     "name": "stdout",
     "output_type": "stream",
     "text": [
      "INFO:tensorflow:Our macro AUC:     0.8940679761374623\n",
      "INFO:tensorflow:Our micro AUC:     0.9228861578238255\n",
      "INFO:tensorflow:2018-11-13 03:39:33.671072: 0, DNase, NaN\n",
      "INFO:tensorflow:2018-11-13 03:39:33.672164: 1, CTCF, 0.968477\n",
      "INFO:tensorflow:2018-11-13 03:39:33.686692: 2, Pol2, 0.907556\n",
      "INFO:tensorflow:2018-11-13 03:39:33.700540: 3, YY1, 0.951951\n",
      "INFO:tensorflow:2018-11-13 03:39:33.714484: 4, p300, 0.877771\n",
      "INFO:tensorflow:2018-11-13 03:39:33.728371: 5, TAF1, 0.949538\n",
      "INFO:tensorflow:2018-11-13 03:39:33.742123: 6, Pol2-4H8, 0.886332\n",
      "INFO:tensorflow:2018-11-13 03:39:33.755968: 7, c-Myc, 0.946051\n",
      "INFO:tensorflow:2018-11-13 03:39:33.769768: 8, Rad21, 0.981831\n",
      "INFO:tensorflow:2018-11-13 03:39:33.783818: 9, Max, 0.904574\n",
      "INFO:tensorflow:2018-11-13 03:39:33.797881: 10, NRSF, 0.913358\n",
      "INFO:tensorflow:2018-11-13 03:39:33.811751: 11, GABP, 0.919298\n",
      "INFO:tensorflow:2018-11-13 03:39:33.825685: 12, EZH2, 0.730526\n",
      "INFO:tensorflow:2018-11-13 03:39:33.839532: 13, CEBPB, 0.804355\n",
      "INFO:tensorflow:2018-11-13 03:39:33.853758: 14, c-Jun, 0.840232\n",
      "INFO:tensorflow:2018-11-13 03:39:33.867731: 15, ZBTB33, 0.851407\n",
      "INFO:tensorflow:2018-11-13 03:39:33.881604: 16, USF2, 0.887976\n",
      "INFO:tensorflow:2018-11-13 03:39:33.895456: 17, USF-1, 0.829969\n",
      "INFO:tensorflow:2018-11-13 03:39:33.909387: 18, TBP, 0.901329\n",
      "INFO:tensorflow:2018-11-13 03:39:33.923234: 19, RFX5, 0.934760\n",
      "INFO:tensorflow:\n",
      "INFO:tensorflow:93000 0.6069748\n",
      "INFO:tensorflow:On validation\n"
     ]
    },
    {
     "name": "stderr",
     "output_type": "stream",
     "text": [
      "/data/jwhughes/tf_env/lib/python3.6/site-packages/ipykernel_launcher.py:119: DeprecationWarning: using a non-integer array as obj in delete will result in an error in the future\n",
      "/data/jwhughes/tf_env/lib/python3.6/site-packages/ipykernel_launcher.py:120: DeprecationWarning: using a non-integer array as obj in delete will result in an error in the future\n"
     ]
    },
    {
     "name": "stdout",
     "output_type": "stream",
     "text": [
      "INFO:tensorflow:Our macro AUC:     0.8644861963130572\n",
      "INFO:tensorflow:Our micro AUC:     0.9009955030428572\n",
      "INFO:tensorflow:2018-11-13 03:40:55.782268: 0, DNase, NaN\n",
      "INFO:tensorflow:2018-11-13 03:40:55.783367: 1, CTCF, 0.974733\n",
      "INFO:tensorflow:2018-11-13 03:40:55.797633: 2, Pol2, 0.854064\n",
      "INFO:tensorflow:2018-11-13 03:40:55.811662: 3, YY1, 0.914335\n",
      "INFO:tensorflow:2018-11-13 03:40:55.825490: 4, p300, 0.842136\n",
      "INFO:tensorflow:2018-11-13 03:40:55.839700: 5, TAF1, 0.942510\n",
      "INFO:tensorflow:2018-11-13 03:40:55.853639: 6, Pol2-4H8, 0.844919\n",
      "INFO:tensorflow:2018-11-13 03:40:55.867555: 7, c-Myc, 0.925715\n",
      "INFO:tensorflow:2018-11-13 03:40:55.881572: 8, Rad21, 0.968620\n",
      "INFO:tensorflow:2018-11-13 03:40:55.895387: 9, Max, 0.883795\n",
      "INFO:tensorflow:2018-11-13 03:40:55.909356: 10, NRSF, 0.911557\n",
      "INFO:tensorflow:2018-11-13 03:40:55.923370: 11, GABP, 0.920329\n",
      "INFO:tensorflow:2018-11-13 03:40:55.937269: 12, EZH2, 0.667367\n",
      "INFO:tensorflow:2018-11-13 03:40:55.951230: 13, CEBPB, 0.729199\n",
      "INFO:tensorflow:2018-11-13 03:40:55.965612: 14, c-Jun, 0.830633\n",
      "INFO:tensorflow:2018-11-13 03:40:55.979544: 15, ZBTB33, 0.827172\n",
      "INFO:tensorflow:2018-11-13 03:40:55.993495: 16, USF2, 0.835964\n",
      "INFO:tensorflow:2018-11-13 03:40:56.007600: 17, USF-1, 0.811222\n",
      "INFO:tensorflow:2018-11-13 03:40:56.021743: 18, TBP, 0.897387\n",
      "INFO:tensorflow:2018-11-13 03:40:56.035794: 19, RFX5, 0.843582\n",
      "INFO:tensorflow:\n",
      "INFO:tensorflow:94000 0.324439\n",
      "INFO:tensorflow:On validation\n"
     ]
    },
    {
     "name": "stderr",
     "output_type": "stream",
     "text": [
      "/data/jwhughes/tf_env/lib/python3.6/site-packages/ipykernel_launcher.py:119: DeprecationWarning: using a non-integer array as obj in delete will result in an error in the future\n",
      "/data/jwhughes/tf_env/lib/python3.6/site-packages/ipykernel_launcher.py:120: DeprecationWarning: using a non-integer array as obj in delete will result in an error in the future\n"
     ]
    },
    {
     "name": "stdout",
     "output_type": "stream",
     "text": [
      "INFO:tensorflow:Our macro AUC:     0.8937361714334572\n",
      "INFO:tensorflow:Our micro AUC:     0.9204924414524854\n",
      "INFO:tensorflow:2018-11-13 03:42:18.027014: 0, DNase, NaN\n",
      "INFO:tensorflow:2018-11-13 03:42:18.028121: 1, CTCF, 0.974928\n",
      "INFO:tensorflow:2018-11-13 03:42:18.042524: 2, Pol2, 0.883864\n",
      "INFO:tensorflow:2018-11-13 03:42:18.056550: 3, YY1, 0.926881\n",
      "INFO:tensorflow:2018-11-13 03:42:18.070485: 4, p300, 0.893122\n",
      "INFO:tensorflow:2018-11-13 03:42:18.084586: 5, TAF1, 0.955053\n",
      "INFO:tensorflow:2018-11-13 03:42:18.098630: 6, Pol2-4H8, 0.875451\n",
      "INFO:tensorflow:2018-11-13 03:42:18.112745: 7, c-Myc, 0.952298\n",
      "INFO:tensorflow:2018-11-13 03:42:18.126534: 8, Rad21, 0.978990\n",
      "INFO:tensorflow:2018-11-13 03:42:18.140288: 9, Max, 0.923675\n",
      "INFO:tensorflow:2018-11-13 03:42:18.154255: 10, NRSF, 0.918464\n",
      "INFO:tensorflow:2018-11-13 03:42:18.168187: 11, GABP, 0.938249\n",
      "INFO:tensorflow:2018-11-13 03:42:18.181948: 12, EZH2, 0.677012\n",
      "INFO:tensorflow:2018-11-13 03:42:18.195653: 13, CEBPB, 0.747677\n",
      "INFO:tensorflow:2018-11-13 03:42:18.210047: 14, c-Jun, 0.811405\n",
      "INFO:tensorflow:2018-11-13 03:42:18.223895: 15, ZBTB33, 0.924237\n",
      "INFO:tensorflow:2018-11-13 03:42:18.237854: 16, USF2, 0.914358\n",
      "INFO:tensorflow:2018-11-13 03:42:18.251644: 17, USF-1, 0.852640\n",
      "INFO:tensorflow:2018-11-13 03:42:18.274695: 18, TBP, 0.897301\n",
      "INFO:tensorflow:2018-11-13 03:42:18.288693: 19, RFX5, 0.935382\n",
      "INFO:tensorflow:\n",
      "INFO:tensorflow:95000 0.32986352\n",
      "INFO:tensorflow:On validation\n"
     ]
    },
    {
     "name": "stderr",
     "output_type": "stream",
     "text": [
      "/data/jwhughes/tf_env/lib/python3.6/site-packages/ipykernel_launcher.py:119: DeprecationWarning: using a non-integer array as obj in delete will result in an error in the future\n",
      "/data/jwhughes/tf_env/lib/python3.6/site-packages/ipykernel_launcher.py:120: DeprecationWarning: using a non-integer array as obj in delete will result in an error in the future\n"
     ]
    },
    {
     "name": "stdout",
     "output_type": "stream",
     "text": [
      "INFO:tensorflow:Our macro AUC:     0.8979216642450499\n",
      "INFO:tensorflow:Our micro AUC:     0.9251775287908508\n",
      "INFO:tensorflow:2018-11-13 03:43:40.326407: 0, DNase, NaN\n",
      "INFO:tensorflow:2018-11-13 03:43:40.327591: 1, CTCF, 0.965104\n",
      "INFO:tensorflow:2018-11-13 03:43:40.342057: 2, Pol2, 0.855220\n",
      "INFO:tensorflow:2018-11-13 03:43:40.356157: 3, YY1, 0.932256\n",
      "INFO:tensorflow:2018-11-13 03:43:40.370147: 4, p300, 0.878162\n",
      "INFO:tensorflow:2018-11-13 03:43:40.384000: 5, TAF1, 0.957478\n",
      "INFO:tensorflow:2018-11-13 03:43:40.397921: 6, Pol2-4H8, 0.898213\n",
      "INFO:tensorflow:2018-11-13 03:43:40.411927: 7, c-Myc, 0.951614\n",
      "INFO:tensorflow:2018-11-13 03:43:40.425837: 8, Rad21, 0.982979\n",
      "INFO:tensorflow:2018-11-13 03:43:40.439807: 9, Max, 0.902625\n",
      "INFO:tensorflow:2018-11-13 03:43:40.453877: 10, NRSF, 0.935096\n",
      "INFO:tensorflow:2018-11-13 03:43:40.467775: 11, GABP, 0.942694\n",
      "INFO:tensorflow:2018-11-13 03:43:40.481564: 12, EZH2, 0.701165\n",
      "INFO:tensorflow:2018-11-13 03:43:40.495390: 13, CEBPB, 0.754249\n",
      "INFO:tensorflow:2018-11-13 03:43:40.509644: 14, c-Jun, 0.865038\n",
      "INFO:tensorflow:2018-11-13 03:43:40.523650: 15, ZBTB33, 0.878217\n",
      "INFO:tensorflow:2018-11-13 03:43:40.537222: 16, USF2, 0.952787\n",
      "INFO:tensorflow:2018-11-13 03:43:40.550794: 17, USF-1, 0.852045\n",
      "INFO:tensorflow:2018-11-13 03:43:40.564557: 18, TBP, 0.933599\n",
      "INFO:tensorflow:2018-11-13 03:43:40.578149: 19, RFX5, 0.921972\n",
      "INFO:tensorflow:\n",
      "INFO:tensorflow:96000 0.061504256\n",
      "INFO:tensorflow:On validation\n"
     ]
    },
    {
     "name": "stderr",
     "output_type": "stream",
     "text": [
      "/data/jwhughes/tf_env/lib/python3.6/site-packages/ipykernel_launcher.py:119: DeprecationWarning: using a non-integer array as obj in delete will result in an error in the future\n",
      "/data/jwhughes/tf_env/lib/python3.6/site-packages/ipykernel_launcher.py:120: DeprecationWarning: using a non-integer array as obj in delete will result in an error in the future\n"
     ]
    },
    {
     "name": "stdout",
     "output_type": "stream",
     "text": [
      "INFO:tensorflow:Our macro AUC:     0.8936562493008354\n",
      "INFO:tensorflow:Our micro AUC:     0.9360023061034598\n",
      "INFO:tensorflow:2018-11-13 03:45:02.840705: 0, DNase, NaN\n",
      "INFO:tensorflow:2018-11-13 03:45:02.841856: 1, CTCF, 0.975185\n",
      "INFO:tensorflow:2018-11-13 03:45:02.856256: 2, Pol2, 0.918304\n",
      "INFO:tensorflow:2018-11-13 03:45:02.869824: 3, YY1, 0.939385\n",
      "INFO:tensorflow:2018-11-13 03:45:02.883465: 4, p300, 0.875600\n",
      "INFO:tensorflow:2018-11-13 03:45:02.897344: 5, TAF1, 0.966655\n",
      "INFO:tensorflow:2018-11-13 03:45:02.911046: 6, Pol2-4H8, 0.904572\n",
      "INFO:tensorflow:2018-11-13 03:45:02.924862: 7, c-Myc, 0.949779\n",
      "INFO:tensorflow:2018-11-13 03:45:02.938442: 8, Rad21, 0.970514\n",
      "INFO:tensorflow:2018-11-13 03:45:02.952167: 9, Max, 0.942841\n",
      "INFO:tensorflow:2018-11-13 03:45:02.965733: 10, NRSF, 0.914443\n",
      "INFO:tensorflow:2018-11-13 03:45:02.979339: 11, GABP, 0.928434\n",
      "INFO:tensorflow:2018-11-13 03:45:02.992964: 12, EZH2, 0.833616\n",
      "INFO:tensorflow:2018-11-13 03:45:03.007209: 13, CEBPB, 0.725647\n",
      "INFO:tensorflow:2018-11-13 03:45:03.021370: 14, c-Jun, 0.749526\n",
      "INFO:tensorflow:2018-11-13 03:45:03.035092: 15, ZBTB33, 0.810426\n",
      "INFO:tensorflow:2018-11-13 03:45:03.048706: 16, USF2, 0.867150\n",
      "INFO:tensorflow:2018-11-13 03:45:03.062243: 17, USF-1, 0.842520\n",
      "INFO:tensorflow:2018-11-13 03:45:03.075908: 18, TBP, 0.942578\n",
      "INFO:tensorflow:2018-11-13 03:45:03.089577: 19, RFX5, 0.922293\n",
      "INFO:tensorflow:\n",
      "INFO:tensorflow:97000 0.5494011\n",
      "INFO:tensorflow:On validation\n"
     ]
    },
    {
     "name": "stderr",
     "output_type": "stream",
     "text": [
      "/data/jwhughes/tf_env/lib/python3.6/site-packages/ipykernel_launcher.py:119: DeprecationWarning: using a non-integer array as obj in delete will result in an error in the future\n",
      "/data/jwhughes/tf_env/lib/python3.6/site-packages/ipykernel_launcher.py:120: DeprecationWarning: using a non-integer array as obj in delete will result in an error in the future\n"
     ]
    },
    {
     "name": "stdout",
     "output_type": "stream",
     "text": [
      "INFO:tensorflow:Our macro AUC:     0.9152511990709749\n",
      "INFO:tensorflow:Our micro AUC:     0.9475126150514543\n",
      "INFO:tensorflow:2018-11-13 03:46:25.440657: 0, DNase, NaN\n",
      "INFO:tensorflow:2018-11-13 03:46:25.441691: 1, CTCF, 0.984853\n",
      "INFO:tensorflow:2018-11-13 03:46:25.455895: 2, Pol2, 0.960300\n",
      "INFO:tensorflow:2018-11-13 03:46:25.469760: 3, YY1, 0.939724\n",
      "INFO:tensorflow:2018-11-13 03:46:25.483598: 4, p300, 0.862318\n",
      "INFO:tensorflow:2018-11-13 03:46:25.497509: 5, TAF1, 0.982002\n",
      "INFO:tensorflow:2018-11-13 03:46:25.511227: 6, Pol2-4H8, 0.958638\n",
      "INFO:tensorflow:2018-11-13 03:46:25.525196: 7, c-Myc, 0.964522\n",
      "INFO:tensorflow:2018-11-13 03:46:25.538937: 8, Rad21, 0.981280\n",
      "INFO:tensorflow:2018-11-13 03:46:25.552742: 9, Max, 0.938832\n",
      "INFO:tensorflow:2018-11-13 03:46:25.566360: 10, NRSF, 0.957415\n",
      "INFO:tensorflow:2018-11-13 03:46:25.579827: 11, GABP, 0.949925\n",
      "INFO:tensorflow:2018-11-13 03:46:25.593562: 12, EZH2, 0.920989\n",
      "INFO:tensorflow:2018-11-13 03:46:25.607011: 13, CEBPB, 0.733299\n",
      "INFO:tensorflow:2018-11-13 03:46:25.621148: 14, c-Jun, 0.793666\n",
      "INFO:tensorflow:2018-11-13 03:46:25.634690: 15, ZBTB33, 0.865650\n",
      "INFO:tensorflow:2018-11-13 03:46:25.648567: 16, USF2, 0.909687\n",
      "INFO:tensorflow:2018-11-13 03:46:25.662135: 17, USF-1, 0.886321\n",
      "INFO:tensorflow:2018-11-13 03:46:25.675742: 18, TBP, 0.955037\n",
      "INFO:tensorflow:2018-11-13 03:46:25.689294: 19, RFX5, 0.845315\n",
      "INFO:tensorflow:\n",
      "INFO:tensorflow:98000 0.25458595\n",
      "INFO:tensorflow:On validation\n"
     ]
    },
    {
     "name": "stderr",
     "output_type": "stream",
     "text": [
      "/data/jwhughes/tf_env/lib/python3.6/site-packages/ipykernel_launcher.py:119: DeprecationWarning: using a non-integer array as obj in delete will result in an error in the future\n",
      "/data/jwhughes/tf_env/lib/python3.6/site-packages/ipykernel_launcher.py:120: DeprecationWarning: using a non-integer array as obj in delete will result in an error in the future\n"
     ]
    },
    {
     "name": "stdout",
     "output_type": "stream",
     "text": [
      "INFO:tensorflow:Our macro AUC:     0.8902266793650047\n",
      "INFO:tensorflow:Our micro AUC:     0.926531222443518\n",
      "INFO:tensorflow:2018-11-13 03:47:50.823073: 0, DNase, NaN\n",
      "INFO:tensorflow:2018-11-13 03:47:50.824277: 1, CTCF, 0.980072\n",
      "INFO:tensorflow:2018-11-13 03:47:50.838417: 2, Pol2, 0.901674\n",
      "INFO:tensorflow:2018-11-13 03:47:50.852257: 3, YY1, 0.948505\n",
      "INFO:tensorflow:2018-11-13 03:47:50.866061: 4, p300, 0.873073\n",
      "INFO:tensorflow:2018-11-13 03:47:50.879945: 5, TAF1, 0.966037\n",
      "INFO:tensorflow:2018-11-13 03:47:50.894152: 6, Pol2-4H8, 0.916304\n",
      "INFO:tensorflow:2018-11-13 03:47:50.908037: 7, c-Myc, 0.921845\n",
      "INFO:tensorflow:2018-11-13 03:47:50.921826: 8, Rad21, 0.978304\n",
      "INFO:tensorflow:2018-11-13 03:47:50.936009: 9, Max, 0.921639\n",
      "INFO:tensorflow:2018-11-13 03:47:50.949883: 10, NRSF, 0.910231\n",
      "INFO:tensorflow:2018-11-13 03:47:50.963743: 11, GABP, 0.930769\n",
      "INFO:tensorflow:2018-11-13 03:47:50.977612: 12, EZH2, 0.746560\n",
      "INFO:tensorflow:2018-11-13 03:47:50.991416: 13, CEBPB, 0.704538\n",
      "INFO:tensorflow:2018-11-13 03:47:51.005708: 14, c-Jun, 0.737416\n",
      "INFO:tensorflow:2018-11-13 03:47:51.019533: 15, ZBTB33, 0.925379\n",
      "INFO:tensorflow:2018-11-13 03:47:51.033263: 16, USF2, 0.895821\n",
      "INFO:tensorflow:2018-11-13 03:47:51.047147: 17, USF-1, 0.828215\n",
      "INFO:tensorflow:2018-11-13 03:47:51.061036: 18, TBP, 0.941694\n",
      "INFO:tensorflow:2018-11-13 03:47:51.074853: 19, RFX5, 0.886231\n",
      "INFO:tensorflow:\n",
      "INFO:tensorflow:99000 0.32971343\n",
      "INFO:tensorflow:On validation\n"
     ]
    },
    {
     "name": "stderr",
     "output_type": "stream",
     "text": [
      "/data/jwhughes/tf_env/lib/python3.6/site-packages/ipykernel_launcher.py:119: DeprecationWarning: using a non-integer array as obj in delete will result in an error in the future\n",
      "/data/jwhughes/tf_env/lib/python3.6/site-packages/ipykernel_launcher.py:120: DeprecationWarning: using a non-integer array as obj in delete will result in an error in the future\n"
     ]
    },
    {
     "name": "stdout",
     "output_type": "stream",
     "text": [
      "INFO:tensorflow:Our macro AUC:     0.877552117980708\n",
      "INFO:tensorflow:Our micro AUC:     0.9156012295299494\n",
      "INFO:tensorflow:2018-11-13 03:49:16.594311: 0, DNase, NaN\n",
      "INFO:tensorflow:2018-11-13 03:49:16.595583: 1, CTCF, 0.978989\n",
      "INFO:tensorflow:2018-11-13 03:49:16.609749: 2, Pol2, 0.931986\n",
      "INFO:tensorflow:2018-11-13 03:49:16.623544: 3, YY1, 0.934978\n",
      "INFO:tensorflow:2018-11-13 03:49:16.637435: 4, p300, 0.845895\n",
      "INFO:tensorflow:2018-11-13 03:49:16.651593: 5, TAF1, 0.969794\n",
      "INFO:tensorflow:2018-11-13 03:49:16.665354: 6, Pol2-4H8, 0.896155\n",
      "INFO:tensorflow:2018-11-13 03:49:16.679310: 7, c-Myc, 0.951911\n",
      "INFO:tensorflow:2018-11-13 03:49:16.693119: 8, Rad21, 0.981512\n",
      "INFO:tensorflow:2018-11-13 03:49:16.708398: 9, Max, 0.897841\n",
      "INFO:tensorflow:2018-11-13 03:49:16.722259: 10, NRSF, 0.908191\n",
      "INFO:tensorflow:2018-11-13 03:49:16.736125: 11, GABP, 0.934100\n",
      "INFO:tensorflow:2018-11-13 03:49:16.749964: 12, EZH2, 0.603599\n",
      "INFO:tensorflow:2018-11-13 03:49:16.763760: 13, CEBPB, 0.712262\n",
      "INFO:tensorflow:2018-11-13 03:49:16.778015: 14, c-Jun, 0.797433\n",
      "INFO:tensorflow:2018-11-13 03:49:16.791963: 15, ZBTB33, 0.868462\n",
      "INFO:tensorflow:2018-11-13 03:49:16.805824: 16, USF2, 0.853458\n",
      "INFO:tensorflow:2018-11-13 03:49:16.819584: 17, USF-1, 0.844040\n",
      "INFO:tensorflow:2018-11-13 03:49:16.833509: 18, TBP, 0.916383\n",
      "INFO:tensorflow:2018-11-13 03:49:16.847532: 19, RFX5, 0.846501\n",
      "INFO:tensorflow:\n",
      "INFO:tensorflow:100000 0.1722953\n",
      "INFO:tensorflow:On validation\n"
     ]
    },
    {
     "name": "stderr",
     "output_type": "stream",
     "text": [
      "/data/jwhughes/tf_env/lib/python3.6/site-packages/ipykernel_launcher.py:119: DeprecationWarning: using a non-integer array as obj in delete will result in an error in the future\n",
      "/data/jwhughes/tf_env/lib/python3.6/site-packages/ipykernel_launcher.py:120: DeprecationWarning: using a non-integer array as obj in delete will result in an error in the future\n"
     ]
    },
    {
     "name": "stdout",
     "output_type": "stream",
     "text": [
      "INFO:tensorflow:Our macro AUC:     0.8585762336931413\n",
      "INFO:tensorflow:Our micro AUC:     0.8970095245554873\n",
      "INFO:tensorflow:2018-11-13 03:50:40.077778: 0, DNase, NaN\n",
      "INFO:tensorflow:2018-11-13 03:50:40.078981: 1, CTCF, 0.958516\n",
      "INFO:tensorflow:2018-11-13 03:50:40.093493: 2, Pol2, 0.860067\n",
      "INFO:tensorflow:2018-11-13 03:50:40.107385: 3, YY1, 0.940321\n",
      "INFO:tensorflow:2018-11-13 03:50:40.121298: 4, p300, 0.853859\n",
      "INFO:tensorflow:2018-11-13 03:50:40.135362: 5, TAF1, 0.948946\n",
      "INFO:tensorflow:2018-11-13 03:50:40.149290: 6, Pol2-4H8, 0.861713\n",
      "INFO:tensorflow:2018-11-13 03:50:40.163347: 7, c-Myc, 0.933264\n",
      "INFO:tensorflow:2018-11-13 03:50:40.177135: 8, Rad21, 0.958303\n",
      "INFO:tensorflow:2018-11-13 03:50:40.191105: 9, Max, 0.871806\n",
      "INFO:tensorflow:2018-11-13 03:50:40.205185: 10, NRSF, 0.899605\n",
      "INFO:tensorflow:2018-11-13 03:50:40.218934: 11, GABP, 0.893891\n",
      "INFO:tensorflow:2018-11-13 03:50:40.232807: 12, EZH2, 0.644852\n",
      "INFO:tensorflow:2018-11-13 03:50:40.246781: 13, CEBPB, 0.694802\n",
      "INFO:tensorflow:2018-11-13 03:50:40.260894: 14, c-Jun, 0.756525\n",
      "INFO:tensorflow:2018-11-13 03:50:40.274853: 15, ZBTB33, 0.746081\n",
      "INFO:tensorflow:2018-11-13 03:50:40.288903: 16, USF2, 0.941748\n",
      "INFO:tensorflow:2018-11-13 03:50:40.302846: 17, USF-1, 0.772138\n",
      "INFO:tensorflow:2018-11-13 03:50:40.317027: 18, TBP, 0.925732\n",
      "INFO:tensorflow:2018-11-13 03:50:40.331000: 19, RFX5, 0.850780\n",
      "INFO:tensorflow:\n",
      "INFO:tensorflow:Starting Training\n",
      "INFO:tensorflow:101000 0.11457748\n",
      "INFO:tensorflow:On validation\n"
     ]
    },
    {
     "name": "stderr",
     "output_type": "stream",
     "text": [
      "/data/jwhughes/tf_env/lib/python3.6/site-packages/ipykernel_launcher.py:119: DeprecationWarning: using a non-integer array as obj in delete will result in an error in the future\n",
      "/data/jwhughes/tf_env/lib/python3.6/site-packages/ipykernel_launcher.py:120: DeprecationWarning: using a non-integer array as obj in delete will result in an error in the future\n"
     ]
    },
    {
     "name": "stdout",
     "output_type": "stream",
     "text": [
      "INFO:tensorflow:Our macro AUC:     0.8915399481454607\n",
      "INFO:tensorflow:Our micro AUC:     0.9248257391209136\n",
      "INFO:tensorflow:2018-11-13 03:52:01.534362: 0, DNase, NaN\n",
      "INFO:tensorflow:2018-11-13 03:52:01.535399: 1, CTCF, 0.977254\n",
      "INFO:tensorflow:2018-11-13 03:52:01.549426: 2, Pol2, 0.916878\n",
      "INFO:tensorflow:2018-11-13 03:52:01.563332: 3, YY1, 0.939092\n",
      "INFO:tensorflow:2018-11-13 03:52:01.577048: 4, p300, 0.855055\n",
      "INFO:tensorflow:2018-11-13 03:52:01.590818: 5, TAF1, 0.946328\n",
      "INFO:tensorflow:2018-11-13 03:52:01.604439: 6, Pol2-4H8, 0.914880\n",
      "INFO:tensorflow:2018-11-13 03:52:01.618171: 7, c-Myc, 0.951664\n",
      "INFO:tensorflow:2018-11-13 03:52:01.631849: 8, Rad21, 0.985749\n",
      "INFO:tensorflow:2018-11-13 03:52:01.645573: 9, Max, 0.915485\n",
      "INFO:tensorflow:2018-11-13 03:52:01.659321: 10, NRSF, 0.934793\n",
      "INFO:tensorflow:2018-11-13 03:52:01.672939: 11, GABP, 0.949418\n",
      "INFO:tensorflow:2018-11-13 03:52:01.686497: 12, EZH2, 0.687890\n",
      "INFO:tensorflow:2018-11-13 03:52:01.700061: 13, CEBPB, 0.754110\n",
      "INFO:tensorflow:2018-11-13 03:52:01.713985: 14, c-Jun, 0.825210\n",
      "INFO:tensorflow:2018-11-13 03:52:01.727576: 15, ZBTB33, 0.854126\n",
      "INFO:tensorflow:2018-11-13 03:52:01.741169: 16, USF2, 0.893208\n",
      "INFO:tensorflow:2018-11-13 03:52:01.754750: 17, USF-1, 0.829513\n",
      "INFO:tensorflow:2018-11-13 03:52:01.768622: 18, TBP, 0.931649\n",
      "INFO:tensorflow:2018-11-13 03:52:01.782312: 19, RFX5, 0.876957\n",
      "INFO:tensorflow:\n",
      "INFO:tensorflow:102000 0.547016\n",
      "INFO:tensorflow:On validation\n"
     ]
    },
    {
     "name": "stderr",
     "output_type": "stream",
     "text": [
      "/data/jwhughes/tf_env/lib/python3.6/site-packages/ipykernel_launcher.py:119: DeprecationWarning: using a non-integer array as obj in delete will result in an error in the future\n",
      "/data/jwhughes/tf_env/lib/python3.6/site-packages/ipykernel_launcher.py:120: DeprecationWarning: using a non-integer array as obj in delete will result in an error in the future\n"
     ]
    },
    {
     "name": "stdout",
     "output_type": "stream",
     "text": [
      "INFO:tensorflow:Our macro AUC:     0.9113200790161122\n",
      "INFO:tensorflow:Our micro AUC:     0.9507872747534788\n",
      "INFO:tensorflow:2018-11-13 03:53:23.183068: 0, DNase, NaN\n",
      "INFO:tensorflow:2018-11-13 03:53:23.184341: 1, CTCF, 0.985791\n",
      "INFO:tensorflow:2018-11-13 03:53:23.199498: 2, Pol2, 0.957407\n",
      "INFO:tensorflow:2018-11-13 03:53:23.213723: 3, YY1, 0.957740\n",
      "INFO:tensorflow:2018-11-13 03:53:23.227864: 4, p300, 0.878179\n",
      "INFO:tensorflow:2018-11-13 03:53:23.242243: 5, TAF1, 0.976919\n",
      "INFO:tensorflow:2018-11-13 03:53:23.256473: 6, Pol2-4H8, 0.934899\n",
      "INFO:tensorflow:2018-11-13 03:53:23.270740: 7, c-Myc, 0.979949\n",
      "INFO:tensorflow:2018-11-13 03:53:23.284983: 8, Rad21, 0.989984\n",
      "INFO:tensorflow:2018-11-13 03:53:23.299754: 9, Max, 0.928327\n",
      "INFO:tensorflow:2018-11-13 03:53:23.313254: 10, NRSF, 0.936660\n",
      "INFO:tensorflow:2018-11-13 03:53:23.326881: 11, GABP, 0.955682\n",
      "INFO:tensorflow:2018-11-13 03:53:23.340220: 12, EZH2, 0.832615\n",
      "INFO:tensorflow:2018-11-13 03:53:23.354035: 13, CEBPB, 0.771334\n",
      "INFO:tensorflow:2018-11-13 03:53:23.367734: 14, c-Jun, 0.854563\n",
      "INFO:tensorflow:2018-11-13 03:53:23.381257: 15, ZBTB33, 0.814043\n",
      "INFO:tensorflow:2018-11-13 03:53:23.394850: 16, USF2, 0.886903\n",
      "INFO:tensorflow:2018-11-13 03:53:23.408535: 17, USF-1, 0.813468\n",
      "INFO:tensorflow:2018-11-13 03:53:23.422346: 18, TBP, 0.954039\n",
      "INFO:tensorflow:2018-11-13 03:53:23.435984: 19, RFX5, 0.906580\n",
      "INFO:tensorflow:\n",
      "INFO:tensorflow:103000 0.18668294\n",
      "INFO:tensorflow:On validation\n"
     ]
    },
    {
     "name": "stderr",
     "output_type": "stream",
     "text": [
      "/data/jwhughes/tf_env/lib/python3.6/site-packages/ipykernel_launcher.py:119: DeprecationWarning: using a non-integer array as obj in delete will result in an error in the future\n",
      "/data/jwhughes/tf_env/lib/python3.6/site-packages/ipykernel_launcher.py:120: DeprecationWarning: using a non-integer array as obj in delete will result in an error in the future\n"
     ]
    },
    {
     "name": "stdout",
     "output_type": "stream",
     "text": [
      "INFO:tensorflow:Our macro AUC:     0.8932761530056396\n",
      "INFO:tensorflow:Our micro AUC:     0.918708034382621\n",
      "INFO:tensorflow:2018-11-13 03:54:44.687418: 0, DNase, NaN\n",
      "INFO:tensorflow:2018-11-13 03:54:44.688493: 1, CTCF, 0.956865\n",
      "INFO:tensorflow:2018-11-13 03:54:44.702952: 2, Pol2, 0.877492\n",
      "INFO:tensorflow:2018-11-13 03:54:44.717008: 3, YY1, 0.930546\n",
      "INFO:tensorflow:2018-11-13 03:54:44.731121: 4, p300, 0.883858\n",
      "INFO:tensorflow:2018-11-13 03:54:44.745465: 5, TAF1, 0.934570\n",
      "INFO:tensorflow:2018-11-13 03:54:44.759826: 6, Pol2-4H8, 0.892327\n",
      "INFO:tensorflow:2018-11-13 03:54:44.774041: 7, c-Myc, 0.958764\n",
      "INFO:tensorflow:2018-11-13 03:54:44.788239: 8, Rad21, 0.982505\n",
      "INFO:tensorflow:2018-11-13 03:54:44.802324: 9, Max, 0.900030\n",
      "INFO:tensorflow:2018-11-13 03:54:44.816506: 10, NRSF, 0.935863\n",
      "INFO:tensorflow:2018-11-13 03:54:44.830621: 11, GABP, 0.908851\n",
      "INFO:tensorflow:2018-11-13 03:54:44.844650: 12, EZH2, 0.618179\n",
      "INFO:tensorflow:2018-11-13 03:54:44.858610: 13, CEBPB, 0.786791\n",
      "INFO:tensorflow:2018-11-13 03:54:44.872973: 14, c-Jun, 0.907984\n",
      "INFO:tensorflow:2018-11-13 03:54:44.886936: 15, ZBTB33, 0.853713\n",
      "INFO:tensorflow:2018-11-13 03:54:44.900762: 16, USF2, 0.923062\n",
      "INFO:tensorflow:2018-11-13 03:54:44.914683: 17, USF-1, 0.860897\n",
      "INFO:tensorflow:2018-11-13 03:54:44.928828: 18, TBP, 0.920643\n",
      "INFO:tensorflow:2018-11-13 03:54:44.942747: 19, RFX5, 0.939307\n",
      "INFO:tensorflow:\n",
      "INFO:tensorflow:104000 0.1803473\n",
      "INFO:tensorflow:On validation\n"
     ]
    },
    {
     "name": "stderr",
     "output_type": "stream",
     "text": [
      "/data/jwhughes/tf_env/lib/python3.6/site-packages/ipykernel_launcher.py:119: DeprecationWarning: using a non-integer array as obj in delete will result in an error in the future\n",
      "/data/jwhughes/tf_env/lib/python3.6/site-packages/ipykernel_launcher.py:120: DeprecationWarning: using a non-integer array as obj in delete will result in an error in the future\n"
     ]
    },
    {
     "name": "stdout",
     "output_type": "stream",
     "text": [
      "INFO:tensorflow:Our macro AUC:     0.9031132913497842\n",
      "INFO:tensorflow:Our micro AUC:     0.9294125470730704\n",
      "INFO:tensorflow:2018-11-13 03:56:06.853656: 0, DNase, NaN\n",
      "INFO:tensorflow:2018-11-13 03:56:06.855008: 1, CTCF, 0.970924\n",
      "INFO:tensorflow:2018-11-13 03:56:06.869252: 2, Pol2, 0.911714\n",
      "INFO:tensorflow:2018-11-13 03:56:06.883483: 3, YY1, 0.942300\n",
      "INFO:tensorflow:2018-11-13 03:56:06.897392: 4, p300, 0.883122\n",
      "INFO:tensorflow:2018-11-13 03:56:06.911487: 5, TAF1, 0.962109\n",
      "INFO:tensorflow:2018-11-13 03:56:06.925405: 6, Pol2-4H8, 0.888695\n",
      "INFO:tensorflow:2018-11-13 03:56:06.939435: 7, c-Myc, 0.946894\n",
      "INFO:tensorflow:2018-11-13 03:56:06.953236: 8, Rad21, 0.986577\n",
      "INFO:tensorflow:2018-11-13 03:56:06.967203: 9, Max, 0.907271\n",
      "INFO:tensorflow:2018-11-13 03:56:06.981398: 10, NRSF, 0.919510\n",
      "INFO:tensorflow:2018-11-13 03:56:06.995343: 11, GABP, 0.910743\n",
      "INFO:tensorflow:2018-11-13 03:56:07.009296: 12, EZH2, 0.712410\n",
      "INFO:tensorflow:2018-11-13 03:56:07.023082: 13, CEBPB, 0.796844\n",
      "INFO:tensorflow:2018-11-13 03:56:07.037155: 14, c-Jun, 0.923373\n",
      "INFO:tensorflow:2018-11-13 03:56:07.051096: 15, ZBTB33, 0.912865\n",
      "INFO:tensorflow:2018-11-13 03:56:07.065038: 16, USF2, 0.890150\n",
      "INFO:tensorflow:2018-11-13 03:56:07.079002: 17, USF-1, 0.847008\n",
      "INFO:tensorflow:2018-11-13 03:56:07.093144: 18, TBP, 0.911275\n",
      "INFO:tensorflow:2018-11-13 03:56:07.107073: 19, RFX5, 0.935368\n",
      "INFO:tensorflow:\n",
      "INFO:tensorflow:105000 0.16893756\n",
      "INFO:tensorflow:On validation\n"
     ]
    },
    {
     "name": "stderr",
     "output_type": "stream",
     "text": [
      "/data/jwhughes/tf_env/lib/python3.6/site-packages/ipykernel_launcher.py:119: DeprecationWarning: using a non-integer array as obj in delete will result in an error in the future\n",
      "/data/jwhughes/tf_env/lib/python3.6/site-packages/ipykernel_launcher.py:120: DeprecationWarning: using a non-integer array as obj in delete will result in an error in the future\n"
     ]
    },
    {
     "name": "stdout",
     "output_type": "stream",
     "text": [
      "INFO:tensorflow:Our macro AUC:     0.9016810836981569\n",
      "INFO:tensorflow:Our micro AUC:     0.9309480736313996\n",
      "INFO:tensorflow:2018-11-13 03:57:29.481205: 0, DNase, NaN\n",
      "INFO:tensorflow:2018-11-13 03:57:29.482375: 1, CTCF, 0.968036\n",
      "INFO:tensorflow:2018-11-13 03:57:29.496675: 2, Pol2, 0.916072\n",
      "INFO:tensorflow:2018-11-13 03:57:29.510764: 3, YY1, 0.955039\n",
      "INFO:tensorflow:2018-11-13 03:57:29.524530: 4, p300, 0.863200\n",
      "INFO:tensorflow:2018-11-13 03:57:29.538913: 5, TAF1, 0.963520\n",
      "INFO:tensorflow:2018-11-13 03:57:29.552859: 6, Pol2-4H8, 0.887304\n",
      "INFO:tensorflow:2018-11-13 03:57:29.566821: 7, c-Myc, 0.949342\n",
      "INFO:tensorflow:2018-11-13 03:57:29.580703: 8, Rad21, 0.984771\n",
      "INFO:tensorflow:2018-11-13 03:57:29.594727: 9, Max, 0.915962\n",
      "INFO:tensorflow:2018-11-13 03:57:29.608835: 10, NRSF, 0.941104\n",
      "INFO:tensorflow:2018-11-13 03:57:29.622486: 11, GABP, 0.950228\n",
      "INFO:tensorflow:2018-11-13 03:57:29.636033: 12, EZH2, 0.694642\n",
      "INFO:tensorflow:2018-11-13 03:57:29.649540: 13, CEBPB, 0.739236\n",
      "INFO:tensorflow:2018-11-13 03:57:29.663408: 14, c-Jun, 0.850128\n",
      "INFO:tensorflow:2018-11-13 03:57:29.676959: 15, ZBTB33, 0.915680\n",
      "INFO:tensorflow:2018-11-13 03:57:29.690604: 16, USF2, 0.950976\n",
      "INFO:tensorflow:2018-11-13 03:57:29.704264: 17, USF-1, 0.871809\n",
      "INFO:tensorflow:2018-11-13 03:57:29.718078: 18, TBP, 0.908096\n",
      "INFO:tensorflow:2018-11-13 03:57:29.731940: 19, RFX5, 0.906796\n",
      "INFO:tensorflow:\n",
      "INFO:tensorflow:106000 0.7092189\n",
      "INFO:tensorflow:On validation\n"
     ]
    },
    {
     "name": "stderr",
     "output_type": "stream",
     "text": [
      "/data/jwhughes/tf_env/lib/python3.6/site-packages/ipykernel_launcher.py:119: DeprecationWarning: using a non-integer array as obj in delete will result in an error in the future\n",
      "/data/jwhughes/tf_env/lib/python3.6/site-packages/ipykernel_launcher.py:120: DeprecationWarning: using a non-integer array as obj in delete will result in an error in the future\n"
     ]
    },
    {
     "name": "stdout",
     "output_type": "stream",
     "text": [
      "INFO:tensorflow:Our macro AUC:     0.9082305022073636\n",
      "INFO:tensorflow:Our micro AUC:     0.9344776864885644\n",
      "INFO:tensorflow:2018-11-13 03:58:51.299773: 0, DNase, NaN\n",
      "INFO:tensorflow:2018-11-13 03:58:51.300978: 1, CTCF, 0.973598\n",
      "INFO:tensorflow:2018-11-13 03:58:51.315640: 2, Pol2, 0.917615\n",
      "INFO:tensorflow:2018-11-13 03:58:51.329619: 3, YY1, 0.942825\n",
      "INFO:tensorflow:2018-11-13 03:58:51.343351: 4, p300, 0.856142\n",
      "INFO:tensorflow:2018-11-13 03:58:51.357370: 5, TAF1, 0.978213\n",
      "INFO:tensorflow:2018-11-13 03:58:51.371128: 6, Pol2-4H8, 0.913532\n",
      "INFO:tensorflow:2018-11-13 03:58:51.385085: 7, c-Myc, 0.955509\n",
      "INFO:tensorflow:2018-11-13 03:58:51.398876: 8, Rad21, 0.979335\n",
      "INFO:tensorflow:2018-11-13 03:58:51.412909: 9, Max, 0.923927\n",
      "INFO:tensorflow:2018-11-13 03:58:51.427027: 10, NRSF, 0.939542\n",
      "INFO:tensorflow:2018-11-13 03:58:51.440977: 11, GABP, 0.942764\n",
      "INFO:tensorflow:2018-11-13 03:58:51.454779: 12, EZH2, 0.726878\n",
      "INFO:tensorflow:2018-11-13 03:58:51.468615: 13, CEBPB, 0.761847\n",
      "INFO:tensorflow:2018-11-13 03:58:51.482699: 14, c-Jun, 0.847459\n",
      "INFO:tensorflow:2018-11-13 03:58:51.496613: 15, ZBTB33, 0.935359\n",
      "INFO:tensorflow:2018-11-13 03:58:51.510405: 16, USF2, 0.911938\n",
      "INFO:tensorflow:2018-11-13 03:58:51.524342: 17, USF-1, 0.859268\n",
      "INFO:tensorflow:2018-11-13 03:58:51.538374: 18, TBP, 0.936142\n",
      "INFO:tensorflow:2018-11-13 03:58:51.552193: 19, RFX5, 0.954488\n",
      "INFO:tensorflow:\n",
      "INFO:tensorflow:107000 0.583102\n",
      "INFO:tensorflow:On validation\n"
     ]
    },
    {
     "name": "stderr",
     "output_type": "stream",
     "text": [
      "/data/jwhughes/tf_env/lib/python3.6/site-packages/ipykernel_launcher.py:119: DeprecationWarning: using a non-integer array as obj in delete will result in an error in the future\n",
      "/data/jwhughes/tf_env/lib/python3.6/site-packages/ipykernel_launcher.py:120: DeprecationWarning: using a non-integer array as obj in delete will result in an error in the future\n"
     ]
    },
    {
     "name": "stdout",
     "output_type": "stream",
     "text": [
      "INFO:tensorflow:Our macro AUC:     0.9187166843196868\n",
      "INFO:tensorflow:Our micro AUC:     0.9486493868254524\n",
      "INFO:tensorflow:2018-11-13 04:00:12.182436: 0, DNase, NaN\n",
      "INFO:tensorflow:2018-11-13 04:00:12.183831: 1, CTCF, 0.974055\n",
      "INFO:tensorflow:2018-11-13 04:00:12.198568: 2, Pol2, 0.952254\n",
      "INFO:tensorflow:2018-11-13 04:00:12.212693: 3, YY1, 0.964753\n",
      "INFO:tensorflow:2018-11-13 04:00:12.226828: 4, p300, 0.882286\n",
      "INFO:tensorflow:2018-11-13 04:00:12.241430: 5, TAF1, 0.989498\n",
      "INFO:tensorflow:2018-11-13 04:00:12.255382: 6, Pol2-4H8, 0.943728\n",
      "INFO:tensorflow:2018-11-13 04:00:12.269356: 7, c-Myc, 0.974229\n",
      "INFO:tensorflow:2018-11-13 04:00:12.283048: 8, Rad21, 0.983975\n",
      "INFO:tensorflow:2018-11-13 04:00:12.297087: 9, Max, 0.940504\n",
      "INFO:tensorflow:2018-11-13 04:00:12.311013: 10, NRSF, 0.948212\n",
      "INFO:tensorflow:2018-11-13 04:00:12.324656: 11, GABP, 0.938440\n",
      "INFO:tensorflow:2018-11-13 04:00:12.338268: 12, EZH2, 0.837838\n",
      "INFO:tensorflow:2018-11-13 04:00:12.351838: 13, CEBPB, 0.767139\n",
      "INFO:tensorflow:2018-11-13 04:00:12.365706: 14, c-Jun, 0.781347\n",
      "INFO:tensorflow:2018-11-13 04:00:12.379552: 15, ZBTB33, 0.979991\n",
      "INFO:tensorflow:2018-11-13 04:00:12.393249: 16, USF2, 0.922113\n",
      "INFO:tensorflow:2018-11-13 04:00:12.407286: 17, USF-1, 0.832625\n",
      "INFO:tensorflow:2018-11-13 04:00:12.421121: 18, TBP, 0.954653\n",
      "INFO:tensorflow:2018-11-13 04:00:12.435106: 19, RFX5, 0.887979\n",
      "INFO:tensorflow:\n",
      "INFO:tensorflow:108000 0.19577825\n",
      "INFO:tensorflow:On validation\n"
     ]
    },
    {
     "name": "stderr",
     "output_type": "stream",
     "text": [
      "/data/jwhughes/tf_env/lib/python3.6/site-packages/ipykernel_launcher.py:119: DeprecationWarning: using a non-integer array as obj in delete will result in an error in the future\n",
      "/data/jwhughes/tf_env/lib/python3.6/site-packages/ipykernel_launcher.py:120: DeprecationWarning: using a non-integer array as obj in delete will result in an error in the future\n"
     ]
    },
    {
     "name": "stdout",
     "output_type": "stream",
     "text": [
      "INFO:tensorflow:Our macro AUC:     0.9262716352709127\n",
      "INFO:tensorflow:Our micro AUC:     0.9490248861650312\n",
      "INFO:tensorflow:2018-11-13 04:01:33.131584: 0, DNase, NaN\n",
      "INFO:tensorflow:2018-11-13 04:01:33.132720: 1, CTCF, 0.972289\n",
      "INFO:tensorflow:2018-11-13 04:01:33.147087: 2, Pol2, 0.963357\n",
      "INFO:tensorflow:2018-11-13 04:01:33.160825: 3, YY1, 0.957205\n",
      "INFO:tensorflow:2018-11-13 04:01:33.174649: 4, p300, 0.897457\n",
      "INFO:tensorflow:2018-11-13 04:01:33.188579: 5, TAF1, 0.981638\n",
      "INFO:tensorflow:2018-11-13 04:01:33.202525: 6, Pol2-4H8, 0.946438\n",
      "INFO:tensorflow:2018-11-13 04:01:33.216415: 7, c-Myc, 0.966323\n",
      "INFO:tensorflow:2018-11-13 04:01:33.230124: 8, Rad21, 0.981504\n",
      "INFO:tensorflow:2018-11-13 04:01:33.243752: 9, Max, 0.930796\n",
      "INFO:tensorflow:2018-11-13 04:01:33.257532: 10, NRSF, 0.958286\n",
      "INFO:tensorflow:2018-11-13 04:01:33.271440: 11, GABP, 0.970298\n",
      "INFO:tensorflow:2018-11-13 04:01:33.285284: 12, EZH2, 0.803468\n",
      "INFO:tensorflow:2018-11-13 04:01:33.299091: 13, CEBPB, 0.801248\n",
      "INFO:tensorflow:2018-11-13 04:01:33.313172: 14, c-Jun, 0.847785\n",
      "INFO:tensorflow:2018-11-13 04:01:33.327018: 15, ZBTB33, 0.960815\n",
      "INFO:tensorflow:2018-11-13 04:01:33.340540: 16, USF2, 0.926177\n",
      "INFO:tensorflow:2018-11-13 04:01:33.354152: 17, USF-1, 0.872268\n",
      "INFO:tensorflow:2018-11-13 04:01:33.367823: 18, TBP, 0.936768\n",
      "INFO:tensorflow:2018-11-13 04:01:33.381476: 19, RFX5, 0.925042\n",
      "INFO:tensorflow:\n",
      "INFO:tensorflow:109000 0.90291935\n",
      "INFO:tensorflow:On validation\n"
     ]
    },
    {
     "name": "stderr",
     "output_type": "stream",
     "text": [
      "/data/jwhughes/tf_env/lib/python3.6/site-packages/ipykernel_launcher.py:119: DeprecationWarning: using a non-integer array as obj in delete will result in an error in the future\n",
      "/data/jwhughes/tf_env/lib/python3.6/site-packages/ipykernel_launcher.py:120: DeprecationWarning: using a non-integer array as obj in delete will result in an error in the future\n"
     ]
    },
    {
     "name": "stdout",
     "output_type": "stream",
     "text": [
      "INFO:tensorflow:Our macro AUC:     0.9097377899716041\n",
      "INFO:tensorflow:Our micro AUC:     0.9408659182461051\n",
      "INFO:tensorflow:2018-11-13 04:02:54.406795: 0, DNase, NaN\n",
      "INFO:tensorflow:2018-11-13 04:02:54.408080: 1, CTCF, 0.979845\n",
      "INFO:tensorflow:2018-11-13 04:02:54.422270: 2, Pol2, 0.951649\n",
      "INFO:tensorflow:2018-11-13 04:02:54.436216: 3, YY1, 0.954635\n",
      "INFO:tensorflow:2018-11-13 04:02:54.450149: 4, p300, 0.864047\n",
      "INFO:tensorflow:2018-11-13 04:02:54.464085: 5, TAF1, 0.966012\n",
      "INFO:tensorflow:2018-11-13 04:02:54.477839: 6, Pol2-4H8, 0.924290\n",
      "INFO:tensorflow:2018-11-13 04:02:54.491516: 7, c-Myc, 0.971721\n",
      "INFO:tensorflow:2018-11-13 04:02:54.504857: 8, Rad21, 0.984484\n",
      "INFO:tensorflow:2018-11-13 04:02:54.518468: 9, Max, 0.922839\n",
      "INFO:tensorflow:2018-11-13 04:02:54.532194: 10, NRSF, 0.932066\n",
      "INFO:tensorflow:2018-11-13 04:02:54.546056: 11, GABP, 0.942785\n",
      "INFO:tensorflow:2018-11-13 04:02:54.559745: 12, EZH2, 0.686078\n",
      "INFO:tensorflow:2018-11-13 04:02:54.573432: 13, CEBPB, 0.789700\n",
      "INFO:tensorflow:2018-11-13 04:02:54.587545: 14, c-Jun, 0.885868\n",
      "INFO:tensorflow:2018-11-13 04:02:54.601314: 15, ZBTB33, 0.930969\n",
      "INFO:tensorflow:2018-11-13 04:02:54.614943: 16, USF2, 0.910829\n",
      "INFO:tensorflow:2018-11-13 04:02:54.628712: 17, USF-1, 0.865643\n",
      "INFO:tensorflow:2018-11-13 04:02:54.642276: 18, TBP, 0.936319\n",
      "INFO:tensorflow:2018-11-13 04:02:54.655964: 19, RFX5, 0.885240\n",
      "INFO:tensorflow:\n",
      "INFO:tensorflow:110000 0.23169301\n",
      "INFO:tensorflow:On validation\n"
     ]
    },
    {
     "name": "stderr",
     "output_type": "stream",
     "text": [
      "/data/jwhughes/tf_env/lib/python3.6/site-packages/ipykernel_launcher.py:119: DeprecationWarning: using a non-integer array as obj in delete will result in an error in the future\n",
      "/data/jwhughes/tf_env/lib/python3.6/site-packages/ipykernel_launcher.py:120: DeprecationWarning: using a non-integer array as obj in delete will result in an error in the future\n"
     ]
    },
    {
     "name": "stdout",
     "output_type": "stream",
     "text": [
      "INFO:tensorflow:Our macro AUC:     0.920395447152473\n",
      "INFO:tensorflow:Our micro AUC:     0.9432355774856911\n",
      "INFO:tensorflow:2018-11-13 04:04:15.149566: 0, DNase, NaN\n",
      "INFO:tensorflow:2018-11-13 04:04:15.150567: 1, CTCF, 0.990366\n",
      "INFO:tensorflow:2018-11-13 04:04:15.164547: 2, Pol2, 0.928785\n",
      "INFO:tensorflow:2018-11-13 04:04:15.178047: 3, YY1, 0.952130\n",
      "INFO:tensorflow:2018-11-13 04:04:15.191811: 4, p300, 0.894912\n",
      "INFO:tensorflow:2018-11-13 04:04:15.205635: 5, TAF1, 0.974192\n",
      "INFO:tensorflow:2018-11-13 04:04:15.219786: 6, Pol2-4H8, 0.924229\n",
      "INFO:tensorflow:2018-11-13 04:04:15.237101: 7, c-Myc, 0.964114\n",
      "INFO:tensorflow:2018-11-13 04:04:15.253797: 8, Rad21, 0.991475\n",
      "INFO:tensorflow:2018-11-13 04:04:15.267814: 9, Max, 0.928888\n",
      "INFO:tensorflow:2018-11-13 04:04:15.281698: 10, NRSF, 0.937613\n",
      "INFO:tensorflow:2018-11-13 04:04:15.295376: 11, GABP, 0.937533\n",
      "INFO:tensorflow:2018-11-13 04:04:15.308882: 12, EZH2, 0.811497\n",
      "INFO:tensorflow:2018-11-13 04:04:15.322853: 13, CEBPB, 0.795320\n",
      "INFO:tensorflow:2018-11-13 04:04:15.336526: 14, c-Jun, 0.845459\n",
      "INFO:tensorflow:2018-11-13 04:04:15.349970: 15, ZBTB33, 0.917793\n",
      "INFO:tensorflow:2018-11-13 04:04:15.363676: 16, USF2, 0.918869\n",
      "INFO:tensorflow:2018-11-13 04:04:15.377363: 17, USF-1, 0.886559\n",
      "INFO:tensorflow:2018-11-13 04:04:15.390995: 18, TBP, 0.949642\n",
      "INFO:tensorflow:2018-11-13 04:04:15.404549: 19, RFX5, 0.938139\n",
      "INFO:tensorflow:\n",
      "INFO:tensorflow:111000 0.42071825\n",
      "INFO:tensorflow:On validation\n"
     ]
    },
    {
     "name": "stderr",
     "output_type": "stream",
     "text": [
      "/data/jwhughes/tf_env/lib/python3.6/site-packages/ipykernel_launcher.py:119: DeprecationWarning: using a non-integer array as obj in delete will result in an error in the future\n",
      "/data/jwhughes/tf_env/lib/python3.6/site-packages/ipykernel_launcher.py:120: DeprecationWarning: using a non-integer array as obj in delete will result in an error in the future\n"
     ]
    },
    {
     "name": "stdout",
     "output_type": "stream",
     "text": [
      "INFO:tensorflow:Our macro AUC:     0.9219174672834685\n",
      "INFO:tensorflow:Our micro AUC:     0.9445938304281433\n",
      "INFO:tensorflow:2018-11-13 04:05:36.399383: 0, DNase, NaN\n",
      "INFO:tensorflow:2018-11-13 04:05:36.400613: 1, CTCF, 0.984312\n",
      "INFO:tensorflow:2018-11-13 04:05:36.414881: 2, Pol2, 0.956633\n",
      "INFO:tensorflow:2018-11-13 04:05:36.428573: 3, YY1, 0.953451\n",
      "INFO:tensorflow:2018-11-13 04:05:36.442224: 4, p300, 0.897462\n",
      "INFO:tensorflow:2018-11-13 04:05:36.456091: 5, TAF1, 0.966916\n",
      "INFO:tensorflow:2018-11-13 04:05:36.469915: 6, Pol2-4H8, 0.923893\n",
      "INFO:tensorflow:2018-11-13 04:05:36.483651: 7, c-Myc, 0.956887\n",
      "INFO:tensorflow:2018-11-13 04:05:36.497357: 8, Rad21, 0.989129\n",
      "INFO:tensorflow:2018-11-13 04:05:36.511129: 9, Max, 0.934196\n",
      "INFO:tensorflow:2018-11-13 04:05:36.524917: 10, NRSF, 0.942568\n",
      "INFO:tensorflow:2018-11-13 04:05:36.538637: 11, GABP, 0.937870\n",
      "INFO:tensorflow:2018-11-13 04:05:36.552284: 12, EZH2, 0.871285\n",
      "INFO:tensorflow:2018-11-13 04:05:36.565970: 13, CEBPB, 0.787557\n",
      "INFO:tensorflow:2018-11-13 04:05:36.579954: 14, c-Jun, 0.796268\n",
      "INFO:tensorflow:2018-11-13 04:05:36.593677: 15, ZBTB33, 0.926369\n",
      "INFO:tensorflow:2018-11-13 04:05:36.607575: 16, USF2, 0.947049\n",
      "INFO:tensorflow:2018-11-13 04:05:36.621324: 17, USF-1, 0.896881\n",
      "INFO:tensorflow:2018-11-13 04:05:36.635104: 18, TBP, 0.929979\n",
      "INFO:tensorflow:2018-11-13 04:05:36.648836: 19, RFX5, 0.917728\n",
      "INFO:tensorflow:\n",
      "INFO:tensorflow:112000 0.403273\n",
      "INFO:tensorflow:On validation\n"
     ]
    },
    {
     "name": "stderr",
     "output_type": "stream",
     "text": [
      "/data/jwhughes/tf_env/lib/python3.6/site-packages/ipykernel_launcher.py:119: DeprecationWarning: using a non-integer array as obj in delete will result in an error in the future\n",
      "/data/jwhughes/tf_env/lib/python3.6/site-packages/ipykernel_launcher.py:120: DeprecationWarning: using a non-integer array as obj in delete will result in an error in the future\n"
     ]
    },
    {
     "name": "stdout",
     "output_type": "stream",
     "text": [
      "INFO:tensorflow:Our macro AUC:     0.9167201218860107\n",
      "INFO:tensorflow:Our micro AUC:     0.9425373478233691\n",
      "INFO:tensorflow:2018-11-13 04:06:57.868108: 0, DNase, NaN\n",
      "INFO:tensorflow:2018-11-13 04:06:57.869197: 1, CTCF, 0.981810\n",
      "INFO:tensorflow:2018-11-13 04:06:57.883260: 2, Pol2, 0.951910\n",
      "INFO:tensorflow:2018-11-13 04:06:57.897005: 3, YY1, 0.964359\n",
      "INFO:tensorflow:2018-11-13 04:06:57.910590: 4, p300, 0.898376\n",
      "INFO:tensorflow:2018-11-13 04:06:57.924399: 5, TAF1, 0.961949\n",
      "INFO:tensorflow:2018-11-13 04:06:57.938037: 6, Pol2-4H8, 0.910849\n",
      "INFO:tensorflow:2018-11-13 04:06:57.951751: 7, c-Myc, 0.953611\n",
      "INFO:tensorflow:2018-11-13 04:06:57.965362: 8, Rad21, 0.987283\n",
      "INFO:tensorflow:2018-11-13 04:06:57.979133: 9, Max, 0.921212\n",
      "INFO:tensorflow:2018-11-13 04:06:57.992955: 10, NRSF, 0.918643\n",
      "INFO:tensorflow:2018-11-13 04:06:58.006781: 11, GABP, 0.933618\n",
      "INFO:tensorflow:2018-11-13 04:06:58.020429: 12, EZH2, 0.802803\n",
      "INFO:tensorflow:2018-11-13 04:06:58.034010: 13, CEBPB, 0.812673\n",
      "INFO:tensorflow:2018-11-13 04:06:58.047961: 14, c-Jun, 0.872092\n",
      "INFO:tensorflow:2018-11-13 04:06:58.061833: 15, ZBTB33, 0.915264\n",
      "INFO:tensorflow:2018-11-13 04:06:58.075565: 16, USF2, 0.933716\n",
      "INFO:tensorflow:2018-11-13 04:06:58.089213: 17, USF-1, 0.848561\n",
      "INFO:tensorflow:2018-11-13 04:06:58.102878: 18, TBP, 0.936920\n",
      "INFO:tensorflow:2018-11-13 04:06:58.116488: 19, RFX5, 0.912031\n",
      "INFO:tensorflow:\n",
      "INFO:tensorflow:113000 0.46226463\n",
      "INFO:tensorflow:On validation\n"
     ]
    },
    {
     "name": "stderr",
     "output_type": "stream",
     "text": [
      "/data/jwhughes/tf_env/lib/python3.6/site-packages/ipykernel_launcher.py:119: DeprecationWarning: using a non-integer array as obj in delete will result in an error in the future\n",
      "/data/jwhughes/tf_env/lib/python3.6/site-packages/ipykernel_launcher.py:120: DeprecationWarning: using a non-integer array as obj in delete will result in an error in the future\n"
     ]
    },
    {
     "name": "stdout",
     "output_type": "stream",
     "text": [
      "INFO:tensorflow:Our macro AUC:     0.8855066043092276\n",
      "INFO:tensorflow:Our micro AUC:     0.916581293724552\n",
      "INFO:tensorflow:2018-11-13 04:08:19.345555: 0, DNase, NaN\n",
      "INFO:tensorflow:2018-11-13 04:08:19.346710: 1, CTCF, 0.970444\n",
      "INFO:tensorflow:2018-11-13 04:08:19.361187: 2, Pol2, 0.890979\n",
      "INFO:tensorflow:2018-11-13 04:08:19.374899: 3, YY1, 0.932786\n",
      "INFO:tensorflow:2018-11-13 04:08:19.388490: 4, p300, 0.880857\n",
      "INFO:tensorflow:2018-11-13 04:08:19.402484: 5, TAF1, 0.948406\n",
      "INFO:tensorflow:2018-11-13 04:08:19.416129: 6, Pol2-4H8, 0.875057\n",
      "INFO:tensorflow:2018-11-13 04:08:19.429928: 7, c-Myc, 0.946812\n",
      "INFO:tensorflow:2018-11-13 04:08:19.443787: 8, Rad21, 0.968393\n",
      "INFO:tensorflow:2018-11-13 04:08:19.457789: 9, Max, 0.907346\n",
      "INFO:tensorflow:2018-11-13 04:08:19.475616: 10, NRSF, 0.920175\n",
      "INFO:tensorflow:2018-11-13 04:08:19.489428: 11, GABP, 0.918269\n",
      "INFO:tensorflow:2018-11-13 04:08:19.503196: 12, EZH2, 0.724758\n",
      "INFO:tensorflow:2018-11-13 04:08:19.516814: 13, CEBPB, 0.786164\n",
      "INFO:tensorflow:2018-11-13 04:08:19.530928: 14, c-Jun, 0.830352\n",
      "INFO:tensorflow:2018-11-13 04:08:19.544649: 15, ZBTB33, 0.838594\n",
      "INFO:tensorflow:2018-11-13 04:08:19.558289: 16, USF2, 0.846293\n",
      "INFO:tensorflow:2018-11-13 04:08:19.572592: 17, USF-1, 0.836826\n",
      "INFO:tensorflow:2018-11-13 04:08:19.586638: 18, TBP, 0.913499\n",
      "INFO:tensorflow:2018-11-13 04:08:19.600503: 19, RFX5, 0.888619\n",
      "INFO:tensorflow:\n",
      "INFO:tensorflow:114000 0.21874313\n",
      "INFO:tensorflow:On validation\n"
     ]
    },
    {
     "name": "stderr",
     "output_type": "stream",
     "text": [
      "/data/jwhughes/tf_env/lib/python3.6/site-packages/ipykernel_launcher.py:119: DeprecationWarning: using a non-integer array as obj in delete will result in an error in the future\n",
      "/data/jwhughes/tf_env/lib/python3.6/site-packages/ipykernel_launcher.py:120: DeprecationWarning: using a non-integer array as obj in delete will result in an error in the future\n"
     ]
    },
    {
     "name": "stdout",
     "output_type": "stream",
     "text": [
      "INFO:tensorflow:Our macro AUC:     0.9079412475626507\n",
      "INFO:tensorflow:Our micro AUC:     0.9275097875749767\n",
      "INFO:tensorflow:2018-11-13 04:09:41.077002: 0, DNase, NaN\n",
      "INFO:tensorflow:2018-11-13 04:09:41.078113: 1, CTCF, 0.977825\n",
      "INFO:tensorflow:2018-11-13 04:09:41.092103: 2, Pol2, 0.937644\n",
      "INFO:tensorflow:2018-11-13 04:09:41.105835: 3, YY1, 0.943766\n",
      "INFO:tensorflow:2018-11-13 04:09:41.119655: 4, p300, 0.894049\n",
      "INFO:tensorflow:2018-11-13 04:09:41.133610: 5, TAF1, 0.965979\n",
      "INFO:tensorflow:2018-11-13 04:09:41.147660: 6, Pol2-4H8, 0.868418\n",
      "INFO:tensorflow:2018-11-13 04:09:41.161480: 7, c-Myc, 0.949463\n",
      "INFO:tensorflow:2018-11-13 04:09:41.175043: 8, Rad21, 0.984526\n",
      "INFO:tensorflow:2018-11-13 04:09:41.188787: 9, Max, 0.920775\n",
      "INFO:tensorflow:2018-11-13 04:09:41.202577: 10, NRSF, 0.919389\n",
      "INFO:tensorflow:2018-11-13 04:09:41.216343: 11, GABP, 0.932727\n",
      "INFO:tensorflow:2018-11-13 04:09:41.229998: 12, EZH2, 0.749282\n",
      "INFO:tensorflow:2018-11-13 04:09:41.243728: 13, CEBPB, 0.766616\n",
      "INFO:tensorflow:2018-11-13 04:09:41.257746: 14, c-Jun, 0.822443\n",
      "INFO:tensorflow:2018-11-13 04:09:41.271573: 15, ZBTB33, 0.917910\n",
      "INFO:tensorflow:2018-11-13 04:09:41.285238: 16, USF2, 0.937982\n",
      "INFO:tensorflow:2018-11-13 04:09:41.298982: 17, USF-1, 0.874116\n",
      "INFO:tensorflow:2018-11-13 04:09:41.312857: 18, TBP, 0.928327\n",
      "INFO:tensorflow:2018-11-13 04:09:41.326737: 19, RFX5, 0.959645\n",
      "INFO:tensorflow:\n",
      "INFO:tensorflow:115000 0.19336827\n",
      "INFO:tensorflow:On validation\n"
     ]
    },
    {
     "name": "stderr",
     "output_type": "stream",
     "text": [
      "/data/jwhughes/tf_env/lib/python3.6/site-packages/ipykernel_launcher.py:119: DeprecationWarning: using a non-integer array as obj in delete will result in an error in the future\n",
      "/data/jwhughes/tf_env/lib/python3.6/site-packages/ipykernel_launcher.py:120: DeprecationWarning: using a non-integer array as obj in delete will result in an error in the future\n"
     ]
    },
    {
     "name": "stdout",
     "output_type": "stream",
     "text": [
      "INFO:tensorflow:Our macro AUC:     0.9025185723663206\n",
      "INFO:tensorflow:Our micro AUC:     0.9298010332832837\n",
      "INFO:tensorflow:2018-11-13 04:11:03.037998: 0, DNase, NaN\n",
      "INFO:tensorflow:2018-11-13 04:11:03.039424: 1, CTCF, 0.971479\n",
      "INFO:tensorflow:2018-11-13 04:11:03.053615: 2, Pol2, 0.879994\n",
      "INFO:tensorflow:2018-11-13 04:11:03.067775: 3, YY1, 0.933282\n",
      "INFO:tensorflow:2018-11-13 04:11:03.081593: 4, p300, 0.890836\n",
      "INFO:tensorflow:2018-11-13 04:11:03.095531: 5, TAF1, 0.963581\n",
      "INFO:tensorflow:2018-11-13 04:11:03.109615: 6, Pol2-4H8, 0.913023\n",
      "INFO:tensorflow:2018-11-13 04:11:03.123794: 7, c-Myc, 0.950893\n",
      "INFO:tensorflow:2018-11-13 04:11:03.137759: 8, Rad21, 0.984818\n",
      "INFO:tensorflow:2018-11-13 04:11:03.151743: 9, Max, 0.915746\n",
      "INFO:tensorflow:2018-11-13 04:11:03.165705: 10, NRSF, 0.928682\n",
      "INFO:tensorflow:2018-11-13 04:11:03.179654: 11, GABP, 0.952739\n",
      "INFO:tensorflow:2018-11-13 04:11:03.193528: 12, EZH2, 0.673813\n",
      "INFO:tensorflow:2018-11-13 04:11:03.207275: 13, CEBPB, 0.781826\n",
      "INFO:tensorflow:2018-11-13 04:11:03.221400: 14, c-Jun, 0.879091\n",
      "INFO:tensorflow:2018-11-13 04:11:03.235392: 15, ZBTB33, 0.916095\n",
      "INFO:tensorflow:2018-11-13 04:11:03.249214: 16, USF2, 0.903824\n",
      "INFO:tensorflow:2018-11-13 04:11:03.263048: 17, USF-1, 0.859724\n",
      "INFO:tensorflow:2018-11-13 04:11:03.276990: 18, TBP, 0.912863\n",
      "INFO:tensorflow:2018-11-13 04:11:03.290874: 19, RFX5, 0.935545\n",
      "INFO:tensorflow:\n",
      "INFO:tensorflow:116000 0.13823467\n",
      "INFO:tensorflow:On validation\n"
     ]
    },
    {
     "name": "stderr",
     "output_type": "stream",
     "text": [
      "/data/jwhughes/tf_env/lib/python3.6/site-packages/ipykernel_launcher.py:119: DeprecationWarning: using a non-integer array as obj in delete will result in an error in the future\n",
      "/data/jwhughes/tf_env/lib/python3.6/site-packages/ipykernel_launcher.py:120: DeprecationWarning: using a non-integer array as obj in delete will result in an error in the future\n"
     ]
    },
    {
     "name": "stdout",
     "output_type": "stream",
     "text": [
      "INFO:tensorflow:Our macro AUC:     0.9116029946892619\n",
      "INFO:tensorflow:Our micro AUC:     0.9376967790900409\n",
      "INFO:tensorflow:2018-11-13 04:12:25.142867: 0, DNase, NaN\n",
      "INFO:tensorflow:2018-11-13 04:12:25.144063: 1, CTCF, 0.971027\n",
      "INFO:tensorflow:2018-11-13 04:12:25.158386: 2, Pol2, 0.893275\n",
      "INFO:tensorflow:2018-11-13 04:12:25.172188: 3, YY1, 0.938177\n",
      "INFO:tensorflow:2018-11-13 04:12:25.185930: 4, p300, 0.904214\n",
      "INFO:tensorflow:2018-11-13 04:12:25.199984: 5, TAF1, 0.973024\n",
      "INFO:tensorflow:2018-11-13 04:12:25.213797: 6, Pol2-4H8, 0.906594\n",
      "INFO:tensorflow:2018-11-13 04:12:25.227727: 7, c-Myc, 0.975335\n",
      "INFO:tensorflow:2018-11-13 04:12:25.241450: 8, Rad21, 0.969846\n",
      "INFO:tensorflow:2018-11-13 04:12:25.255419: 9, Max, 0.941018\n",
      "INFO:tensorflow:2018-11-13 04:12:25.269305: 10, NRSF, 0.935252\n",
      "INFO:tensorflow:2018-11-13 04:12:25.283188: 11, GABP, 0.954195\n",
      "INFO:tensorflow:2018-11-13 04:12:25.296973: 12, EZH2, 0.820981\n",
      "INFO:tensorflow:2018-11-13 04:12:25.310600: 13, CEBPB, 0.748631\n",
      "INFO:tensorflow:2018-11-13 04:12:25.324686: 14, c-Jun, 0.817387\n",
      "INFO:tensorflow:2018-11-13 04:12:25.338538: 15, ZBTB33, 0.863823\n",
      "INFO:tensorflow:2018-11-13 04:12:25.352458: 16, USF2, 0.912958\n",
      "INFO:tensorflow:2018-11-13 04:12:25.366185: 17, USF-1, 0.884837\n",
      "INFO:tensorflow:2018-11-13 04:12:25.380121: 18, TBP, 0.956419\n",
      "INFO:tensorflow:2018-11-13 04:12:25.394074: 19, RFX5, 0.953464\n",
      "INFO:tensorflow:\n",
      "INFO:tensorflow:117000 0.9345225\n",
      "INFO:tensorflow:On validation\n"
     ]
    },
    {
     "name": "stderr",
     "output_type": "stream",
     "text": [
      "/data/jwhughes/tf_env/lib/python3.6/site-packages/ipykernel_launcher.py:119: DeprecationWarning: using a non-integer array as obj in delete will result in an error in the future\n",
      "/data/jwhughes/tf_env/lib/python3.6/site-packages/ipykernel_launcher.py:120: DeprecationWarning: using a non-integer array as obj in delete will result in an error in the future\n"
     ]
    },
    {
     "name": "stdout",
     "output_type": "stream",
     "text": [
      "INFO:tensorflow:Our macro AUC:     0.9300454316076828\n",
      "INFO:tensorflow:Our micro AUC:     0.9590089367186954\n",
      "INFO:tensorflow:2018-11-13 04:13:47.819680: 0, DNase, NaN\n",
      "INFO:tensorflow:2018-11-13 04:13:47.820679: 1, CTCF, 0.988452\n",
      "INFO:tensorflow:2018-11-13 04:13:47.834967: 2, Pol2, 0.965190\n",
      "INFO:tensorflow:2018-11-13 04:13:47.848614: 3, YY1, 0.973927\n",
      "INFO:tensorflow:2018-11-13 04:13:47.862339: 4, p300, 0.905137\n",
      "INFO:tensorflow:2018-11-13 04:13:47.876279: 5, TAF1, 0.982640\n",
      "INFO:tensorflow:2018-11-13 04:13:47.890391: 6, Pol2-4H8, 0.967160\n",
      "INFO:tensorflow:2018-11-13 04:13:47.904308: 7, c-Myc, 0.978094\n",
      "INFO:tensorflow:2018-11-13 04:13:47.918264: 8, Rad21, 0.986412\n",
      "INFO:tensorflow:2018-11-13 04:13:47.932379: 9, Max, 0.950073\n",
      "INFO:tensorflow:2018-11-13 04:13:47.946124: 10, NRSF, 0.953263\n",
      "INFO:tensorflow:2018-11-13 04:13:47.959848: 11, GABP, 0.943152\n",
      "INFO:tensorflow:2018-11-13 04:13:47.973657: 12, EZH2, 0.961435\n",
      "INFO:tensorflow:2018-11-13 04:13:47.987368: 13, CEBPB, 0.775042\n",
      "INFO:tensorflow:2018-11-13 04:13:48.001412: 14, c-Jun, 0.795984\n",
      "INFO:tensorflow:2018-11-13 04:13:48.015270: 15, ZBTB33, 0.893415\n",
      "INFO:tensorflow:2018-11-13 04:13:48.029080: 16, USF2, 0.945857\n",
      "INFO:tensorflow:2018-11-13 04:13:48.042755: 17, USF-1, 0.895467\n",
      "INFO:tensorflow:2018-11-13 04:13:48.056738: 18, TBP, 0.959389\n",
      "INFO:tensorflow:2018-11-13 04:13:48.070636: 19, RFX5, 0.850775\n",
      "INFO:tensorflow:\n",
      "INFO:tensorflow:118000 0.5831866\n",
      "INFO:tensorflow:On validation\n"
     ]
    },
    {
     "name": "stderr",
     "output_type": "stream",
     "text": [
      "/data/jwhughes/tf_env/lib/python3.6/site-packages/ipykernel_launcher.py:119: DeprecationWarning: using a non-integer array as obj in delete will result in an error in the future\n",
      "/data/jwhughes/tf_env/lib/python3.6/site-packages/ipykernel_launcher.py:120: DeprecationWarning: using a non-integer array as obj in delete will result in an error in the future\n"
     ]
    },
    {
     "name": "stdout",
     "output_type": "stream",
     "text": [
      "INFO:tensorflow:Our macro AUC:     0.9176898219264111\n",
      "INFO:tensorflow:Our micro AUC:     0.9444921523876546\n",
      "INFO:tensorflow:2018-11-13 04:15:10.392024: 0, DNase, NaN\n",
      "INFO:tensorflow:2018-11-13 04:15:10.393131: 1, CTCF, 0.978030\n",
      "INFO:tensorflow:2018-11-13 04:15:10.406953: 2, Pol2, 0.937139\n",
      "INFO:tensorflow:2018-11-13 04:15:10.420529: 3, YY1, 0.947689\n",
      "INFO:tensorflow:2018-11-13 04:15:10.434135: 4, p300, 0.871974\n",
      "INFO:tensorflow:2018-11-13 04:15:10.447936: 5, TAF1, 0.982113\n",
      "INFO:tensorflow:2018-11-13 04:15:10.461484: 6, Pol2-4H8, 0.936325\n",
      "INFO:tensorflow:2018-11-13 04:15:10.475175: 7, c-Myc, 0.956613\n",
      "INFO:tensorflow:2018-11-13 04:15:10.488685: 8, Rad21, 0.980704\n",
      "INFO:tensorflow:2018-11-13 04:15:10.502328: 9, Max, 0.938205\n",
      "INFO:tensorflow:2018-11-13 04:15:10.515924: 10, NRSF, 0.943869\n",
      "INFO:tensorflow:2018-11-13 04:15:10.529413: 11, GABP, 0.955212\n",
      "INFO:tensorflow:2018-11-13 04:15:10.543154: 12, EZH2, 0.895029\n",
      "INFO:tensorflow:2018-11-13 04:15:10.557003: 13, CEBPB, 0.750948\n",
      "INFO:tensorflow:2018-11-13 04:15:10.571126: 14, c-Jun, 0.750058\n",
      "INFO:tensorflow:2018-11-13 04:15:10.584689: 15, ZBTB33, 0.936279\n",
      "INFO:tensorflow:2018-11-13 04:15:10.598379: 16, USF2, 0.961655\n",
      "INFO:tensorflow:2018-11-13 04:15:10.612019: 17, USF-1, 0.846764\n",
      "INFO:tensorflow:2018-11-13 04:15:10.625721: 18, TBP, 0.958028\n",
      "INFO:tensorflow:2018-11-13 04:15:10.639701: 19, RFX5, 0.909471\n",
      "INFO:tensorflow:\n",
      "INFO:tensorflow:119000 0.78156775\n",
      "INFO:tensorflow:On validation\n"
     ]
    },
    {
     "name": "stderr",
     "output_type": "stream",
     "text": [
      "/data/jwhughes/tf_env/lib/python3.6/site-packages/ipykernel_launcher.py:119: DeprecationWarning: using a non-integer array as obj in delete will result in an error in the future\n",
      "/data/jwhughes/tf_env/lib/python3.6/site-packages/ipykernel_launcher.py:120: DeprecationWarning: using a non-integer array as obj in delete will result in an error in the future\n"
     ]
    },
    {
     "name": "stdout",
     "output_type": "stream",
     "text": [
      "INFO:tensorflow:Our macro AUC:     0.9057879347831118\n",
      "INFO:tensorflow:Our micro AUC:     0.9348261888273458\n",
      "INFO:tensorflow:2018-11-13 04:16:31.529581: 0, DNase, NaN\n",
      "INFO:tensorflow:2018-11-13 04:16:31.530762: 1, CTCF, 0.982360\n",
      "INFO:tensorflow:2018-11-13 04:16:31.544946: 2, Pol2, 0.917205\n",
      "INFO:tensorflow:2018-11-13 04:16:31.558833: 3, YY1, 0.946428\n",
      "INFO:tensorflow:2018-11-13 04:16:31.572676: 4, p300, 0.891795\n",
      "INFO:tensorflow:2018-11-13 04:16:31.586697: 5, TAF1, 0.967180\n",
      "INFO:tensorflow:2018-11-13 04:16:31.600691: 6, Pol2-4H8, 0.920304\n",
      "INFO:tensorflow:2018-11-13 04:16:31.614613: 7, c-Myc, 0.940461\n",
      "INFO:tensorflow:2018-11-13 04:16:31.628450: 8, Rad21, 0.980101\n",
      "INFO:tensorflow:2018-11-13 04:16:31.642440: 9, Max, 0.920533\n",
      "INFO:tensorflow:2018-11-13 04:16:31.656273: 10, NRSF, 0.921944\n",
      "INFO:tensorflow:2018-11-13 04:16:31.670225: 11, GABP, 0.945632\n",
      "INFO:tensorflow:2018-11-13 04:16:31.684102: 12, EZH2, 0.882645\n",
      "INFO:tensorflow:2018-11-13 04:16:31.697902: 13, CEBPB, 0.758788\n",
      "INFO:tensorflow:2018-11-13 04:16:31.711746: 14, c-Jun, 0.800567\n",
      "INFO:tensorflow:2018-11-13 04:16:31.725663: 15, ZBTB33, 0.899748\n",
      "INFO:tensorflow:2018-11-13 04:16:31.739564: 16, USF2, 0.877440\n",
      "INFO:tensorflow:2018-11-13 04:16:31.753341: 17, USF-1, 0.885113\n",
      "INFO:tensorflow:2018-11-13 04:16:31.767513: 18, TBP, 0.938281\n",
      "INFO:tensorflow:2018-11-13 04:16:31.781292: 19, RFX5, 0.833448\n",
      "INFO:tensorflow:\n",
      "INFO:tensorflow:120000 0.5888008\n",
      "INFO:tensorflow:On validation\n"
     ]
    },
    {
     "name": "stderr",
     "output_type": "stream",
     "text": [
      "/data/jwhughes/tf_env/lib/python3.6/site-packages/ipykernel_launcher.py:119: DeprecationWarning: using a non-integer array as obj in delete will result in an error in the future\n",
      "/data/jwhughes/tf_env/lib/python3.6/site-packages/ipykernel_launcher.py:120: DeprecationWarning: using a non-integer array as obj in delete will result in an error in the future\n"
     ]
    },
    {
     "name": "stdout",
     "output_type": "stream",
     "text": [
      "INFO:tensorflow:Our macro AUC:     0.8960846747872865\n",
      "INFO:tensorflow:Our micro AUC:     0.9243300895511737\n",
      "INFO:tensorflow:2018-11-13 04:17:53.151212: 0, DNase, NaN\n",
      "INFO:tensorflow:2018-11-13 04:17:53.152298: 1, CTCF, 0.971333\n",
      "INFO:tensorflow:2018-11-13 04:17:53.166730: 2, Pol2, 0.916048\n",
      "INFO:tensorflow:2018-11-13 04:17:53.180469: 3, YY1, 0.943885\n",
      "INFO:tensorflow:2018-11-13 04:17:53.194237: 4, p300, 0.867846\n",
      "INFO:tensorflow:2018-11-13 04:17:53.208065: 5, TAF1, 0.968132\n",
      "INFO:tensorflow:2018-11-13 04:17:53.221999: 6, Pol2-4H8, 0.892909\n",
      "INFO:tensorflow:2018-11-13 04:17:53.235820: 7, c-Myc, 0.948746\n",
      "INFO:tensorflow:2018-11-13 04:17:53.249542: 8, Rad21, 0.980663\n",
      "INFO:tensorflow:2018-11-13 04:17:53.263474: 9, Max, 0.902298\n",
      "INFO:tensorflow:2018-11-13 04:17:53.277265: 10, NRSF, 0.918645\n",
      "INFO:tensorflow:2018-11-13 04:17:53.291120: 11, GABP, 0.933456\n",
      "INFO:tensorflow:2018-11-13 04:17:53.304798: 12, EZH2, 0.811378\n",
      "INFO:tensorflow:2018-11-13 04:17:53.318632: 13, CEBPB, 0.727836\n",
      "INFO:tensorflow:2018-11-13 04:17:53.332590: 14, c-Jun, 0.787481\n",
      "INFO:tensorflow:2018-11-13 04:17:53.346516: 15, ZBTB33, 0.845351\n",
      "INFO:tensorflow:2018-11-13 04:17:53.360290: 16, USF2, 0.941258\n",
      "INFO:tensorflow:2018-11-13 04:17:53.374123: 17, USF-1, 0.856618\n",
      "INFO:tensorflow:2018-11-13 04:17:53.388028: 18, TBP, 0.937259\n",
      "INFO:tensorflow:2018-11-13 04:17:53.401740: 19, RFX5, 0.874466\n",
      "INFO:tensorflow:\n",
      "INFO:tensorflow:121000 0.05849279\n",
      "INFO:tensorflow:On validation\n"
     ]
    },
    {
     "name": "stderr",
     "output_type": "stream",
     "text": [
      "/data/jwhughes/tf_env/lib/python3.6/site-packages/ipykernel_launcher.py:119: DeprecationWarning: using a non-integer array as obj in delete will result in an error in the future\n",
      "/data/jwhughes/tf_env/lib/python3.6/site-packages/ipykernel_launcher.py:120: DeprecationWarning: using a non-integer array as obj in delete will result in an error in the future\n"
     ]
    },
    {
     "name": "stdout",
     "output_type": "stream",
     "text": [
      "INFO:tensorflow:Our macro AUC:     0.8844089692203186\n",
      "INFO:tensorflow:Our micro AUC:     0.9128521322859847\n",
      "INFO:tensorflow:2018-11-13 04:19:14.936914: 0, DNase, NaN\n",
      "INFO:tensorflow:2018-11-13 04:19:14.938077: 1, CTCF, 0.974553\n",
      "INFO:tensorflow:2018-11-13 04:19:14.952359: 2, Pol2, 0.930779\n",
      "INFO:tensorflow:2018-11-13 04:19:14.965749: 3, YY1, 0.934134\n",
      "INFO:tensorflow:2018-11-13 04:19:14.979146: 4, p300, 0.894256\n",
      "INFO:tensorflow:2018-11-13 04:19:14.992718: 5, TAF1, 0.947755\n",
      "INFO:tensorflow:2018-11-13 04:19:15.006333: 6, Pol2-4H8, 0.925700\n",
      "INFO:tensorflow:2018-11-13 04:19:15.020155: 7, c-Myc, 0.945978\n",
      "INFO:tensorflow:2018-11-13 04:19:15.033783: 8, Rad21, 0.975539\n",
      "INFO:tensorflow:2018-11-13 04:19:15.047583: 9, Max, 0.903906\n",
      "INFO:tensorflow:2018-11-13 04:19:15.061371: 10, NRSF, 0.951506\n",
      "INFO:tensorflow:2018-11-13 04:19:15.075033: 11, GABP, 0.904171\n",
      "INFO:tensorflow:2018-11-13 04:19:15.088372: 12, EZH2, 0.566735\n",
      "INFO:tensorflow:2018-11-13 04:19:15.101788: 13, CEBPB, 0.747707\n",
      "INFO:tensorflow:2018-11-13 04:19:15.115433: 14, c-Jun, 0.817130\n",
      "INFO:tensorflow:2018-11-13 04:19:15.128870: 15, ZBTB33, 0.824795\n",
      "INFO:tensorflow:2018-11-13 04:19:15.142235: 16, USF2, 0.913443\n",
      "INFO:tensorflow:2018-11-13 04:19:15.155874: 17, USF-1, 0.830548\n",
      "INFO:tensorflow:2018-11-13 04:19:15.169463: 18, TBP, 0.938049\n",
      "INFO:tensorflow:2018-11-13 04:19:15.182834: 19, RFX5, 0.877086\n",
      "INFO:tensorflow:\n",
      "INFO:tensorflow:122000 0.06993632\n",
      "INFO:tensorflow:On validation\n"
     ]
    },
    {
     "name": "stderr",
     "output_type": "stream",
     "text": [
      "/data/jwhughes/tf_env/lib/python3.6/site-packages/ipykernel_launcher.py:119: DeprecationWarning: using a non-integer array as obj in delete will result in an error in the future\n",
      "/data/jwhughes/tf_env/lib/python3.6/site-packages/ipykernel_launcher.py:120: DeprecationWarning: using a non-integer array as obj in delete will result in an error in the future\n"
     ]
    },
    {
     "name": "stdout",
     "output_type": "stream",
     "text": [
      "INFO:tensorflow:Our macro AUC:     0.9204906652572967\n",
      "INFO:tensorflow:Our micro AUC:     0.9481663464114658\n",
      "INFO:tensorflow:2018-11-13 04:20:37.093551: 0, DNase, NaN\n",
      "INFO:tensorflow:2018-11-13 04:20:37.094620: 1, CTCF, 0.986463\n",
      "INFO:tensorflow:2018-11-13 04:20:37.108805: 2, Pol2, 0.938301\n",
      "INFO:tensorflow:2018-11-13 04:20:37.122637: 3, YY1, 0.963235\n",
      "INFO:tensorflow:2018-11-13 04:20:37.136549: 4, p300, 0.889649\n",
      "INFO:tensorflow:2018-11-13 04:20:37.150315: 5, TAF1, 0.966133\n",
      "INFO:tensorflow:2018-11-13 04:20:37.164082: 6, Pol2-4H8, 0.931580\n",
      "INFO:tensorflow:2018-11-13 04:20:37.177948: 7, c-Myc, 0.977906\n",
      "INFO:tensorflow:2018-11-13 04:20:37.191657: 8, Rad21, 0.987376\n",
      "INFO:tensorflow:2018-11-13 04:20:37.205492: 9, Max, 0.931449\n",
      "INFO:tensorflow:2018-11-13 04:20:37.219391: 10, NRSF, 0.921675\n",
      "INFO:tensorflow:2018-11-13 04:20:37.233235: 11, GABP, 0.940871\n",
      "INFO:tensorflow:2018-11-13 04:20:37.246921: 12, EZH2, 0.882942\n",
      "INFO:tensorflow:2018-11-13 04:20:37.260696: 13, CEBPB, 0.790172\n",
      "INFO:tensorflow:2018-11-13 04:20:37.274677: 14, c-Jun, 0.827558\n",
      "INFO:tensorflow:2018-11-13 04:20:37.288556: 15, ZBTB33, 0.888814\n",
      "INFO:tensorflow:2018-11-13 04:20:37.302408: 16, USF2, 0.915323\n",
      "INFO:tensorflow:2018-11-13 04:20:37.316385: 17, USF-1, 0.883459\n",
      "INFO:tensorflow:2018-11-13 04:20:37.330319: 18, TBP, 0.947749\n",
      "INFO:tensorflow:2018-11-13 04:20:37.344148: 19, RFX5, 0.918668\n",
      "INFO:tensorflow:\n",
      "INFO:tensorflow:123000 0.7047938\n",
      "INFO:tensorflow:On validation\n"
     ]
    },
    {
     "name": "stderr",
     "output_type": "stream",
     "text": [
      "/data/jwhughes/tf_env/lib/python3.6/site-packages/ipykernel_launcher.py:119: DeprecationWarning: using a non-integer array as obj in delete will result in an error in the future\n",
      "/data/jwhughes/tf_env/lib/python3.6/site-packages/ipykernel_launcher.py:120: DeprecationWarning: using a non-integer array as obj in delete will result in an error in the future\n"
     ]
    },
    {
     "name": "stdout",
     "output_type": "stream",
     "text": [
      "INFO:tensorflow:Our macro AUC:     0.9080030371482419\n",
      "INFO:tensorflow:Our micro AUC:     0.9326061926800626\n",
      "INFO:tensorflow:2018-11-13 04:21:59.126039: 0, DNase, NaN\n",
      "INFO:tensorflow:2018-11-13 04:21:59.127341: 1, CTCF, 0.967690\n",
      "INFO:tensorflow:2018-11-13 04:21:59.141792: 2, Pol2, 0.917078\n",
      "INFO:tensorflow:2018-11-13 04:21:59.155746: 3, YY1, 0.941043\n",
      "INFO:tensorflow:2018-11-13 04:21:59.169556: 4, p300, 0.895449\n",
      "INFO:tensorflow:2018-11-13 04:21:59.183532: 5, TAF1, 0.954099\n",
      "INFO:tensorflow:2018-11-13 04:21:59.197561: 6, Pol2-4H8, 0.915859\n",
      "INFO:tensorflow:2018-11-13 04:21:59.211709: 7, c-Myc, 0.968412\n",
      "INFO:tensorflow:2018-11-13 04:21:59.225511: 8, Rad21, 0.982385\n",
      "INFO:tensorflow:2018-11-13 04:21:59.239647: 9, Max, 0.920255\n",
      "INFO:tensorflow:2018-11-13 04:21:59.253560: 10, NRSF, 0.959102\n",
      "INFO:tensorflow:2018-11-13 04:21:59.267583: 11, GABP, 0.929867\n",
      "INFO:tensorflow:2018-11-13 04:21:59.281431: 12, EZH2, 0.652982\n",
      "INFO:tensorflow:2018-11-13 04:21:59.295295: 13, CEBPB, 0.814766\n",
      "INFO:tensorflow:2018-11-13 04:21:59.309308: 14, c-Jun, 0.903160\n",
      "INFO:tensorflow:2018-11-13 04:21:59.322967: 15, ZBTB33, 0.863247\n",
      "INFO:tensorflow:2018-11-13 04:21:59.336543: 16, USF2, 0.918208\n",
      "INFO:tensorflow:2018-11-13 04:21:59.350167: 17, USF-1, 0.856926\n",
      "INFO:tensorflow:2018-11-13 04:21:59.363992: 18, TBP, 0.944176\n",
      "INFO:tensorflow:2018-11-13 04:21:59.377782: 19, RFX5, 0.947354\n",
      "INFO:tensorflow:\n",
      "INFO:tensorflow:124000 0.44262204\n",
      "INFO:tensorflow:On validation\n"
     ]
    },
    {
     "name": "stderr",
     "output_type": "stream",
     "text": [
      "/data/jwhughes/tf_env/lib/python3.6/site-packages/ipykernel_launcher.py:119: DeprecationWarning: using a non-integer array as obj in delete will result in an error in the future\n",
      "/data/jwhughes/tf_env/lib/python3.6/site-packages/ipykernel_launcher.py:120: DeprecationWarning: using a non-integer array as obj in delete will result in an error in the future\n"
     ]
    },
    {
     "name": "stdout",
     "output_type": "stream",
     "text": [
      "INFO:tensorflow:Our macro AUC:     0.9027571653076134\n",
      "INFO:tensorflow:Our micro AUC:     0.9287118324028789\n",
      "INFO:tensorflow:2018-11-13 04:23:21.579350: 0, DNase, NaN\n",
      "INFO:tensorflow:2018-11-13 04:23:21.580410: 1, CTCF, 0.965563\n",
      "INFO:tensorflow:2018-11-13 04:23:21.594619: 2, Pol2, 0.896515\n",
      "INFO:tensorflow:2018-11-13 04:23:21.608486: 3, YY1, 0.937457\n",
      "INFO:tensorflow:2018-11-13 04:23:21.622318: 4, p300, 0.889779\n",
      "INFO:tensorflow:2018-11-13 04:23:21.636228: 5, TAF1, 0.950676\n",
      "INFO:tensorflow:2018-11-13 04:23:21.649959: 6, Pol2-4H8, 0.907882\n",
      "INFO:tensorflow:2018-11-13 04:23:21.663934: 7, c-Myc, 0.946147\n",
      "INFO:tensorflow:2018-11-13 04:23:21.677622: 8, Rad21, 0.989049\n",
      "INFO:tensorflow:2018-11-13 04:23:21.691704: 9, Max, 0.902429\n",
      "INFO:tensorflow:2018-11-13 04:23:21.705742: 10, NRSF, 0.927373\n",
      "INFO:tensorflow:2018-11-13 04:23:21.719640: 11, GABP, 0.916459\n",
      "INFO:tensorflow:2018-11-13 04:23:21.733636: 12, EZH2, 0.709058\n",
      "INFO:tensorflow:2018-11-13 04:23:21.747514: 13, CEBPB, 0.776229\n",
      "INFO:tensorflow:2018-11-13 04:23:21.761574: 14, c-Jun, 0.927016\n",
      "INFO:tensorflow:2018-11-13 04:23:21.775327: 15, ZBTB33, 0.877334\n",
      "INFO:tensorflow:2018-11-13 04:23:21.789223: 16, USF2, 0.918650\n",
      "INFO:tensorflow:2018-11-13 04:23:21.803214: 17, USF-1, 0.852843\n",
      "INFO:tensorflow:2018-11-13 04:23:21.817269: 18, TBP, 0.910318\n",
      "INFO:tensorflow:2018-11-13 04:23:21.831314: 19, RFX5, 0.951609\n",
      "INFO:tensorflow:\n",
      "INFO:tensorflow:125000 0.46544126\n",
      "INFO:tensorflow:On validation\n"
     ]
    },
    {
     "name": "stderr",
     "output_type": "stream",
     "text": [
      "/data/jwhughes/tf_env/lib/python3.6/site-packages/ipykernel_launcher.py:119: DeprecationWarning: using a non-integer array as obj in delete will result in an error in the future\n",
      "/data/jwhughes/tf_env/lib/python3.6/site-packages/ipykernel_launcher.py:120: DeprecationWarning: using a non-integer array as obj in delete will result in an error in the future\n"
     ]
    },
    {
     "name": "stdout",
     "output_type": "stream",
     "text": [
      "INFO:tensorflow:Our macro AUC:     0.9079047663559205\n",
      "INFO:tensorflow:Our micro AUC:     0.9364238150398425\n",
      "INFO:tensorflow:2018-11-13 04:24:44.061498: 0, DNase, NaN\n",
      "INFO:tensorflow:2018-11-13 04:24:44.062575: 1, CTCF, 0.970941\n",
      "INFO:tensorflow:2018-11-13 04:24:44.076808: 2, Pol2, 0.934863\n",
      "INFO:tensorflow:2018-11-13 04:24:44.090629: 3, YY1, 0.948516\n",
      "INFO:tensorflow:2018-11-13 04:24:44.104288: 4, p300, 0.882676\n",
      "INFO:tensorflow:2018-11-13 04:24:44.118305: 5, TAF1, 0.965752\n",
      "INFO:tensorflow:2018-11-13 04:24:44.132189: 6, Pol2-4H8, 0.895603\n",
      "INFO:tensorflow:2018-11-13 04:24:44.145776: 7, c-Myc, 0.952966\n",
      "INFO:tensorflow:2018-11-13 04:24:44.159562: 8, Rad21, 0.987064\n",
      "INFO:tensorflow:2018-11-13 04:24:44.173502: 9, Max, 0.910473\n",
      "INFO:tensorflow:2018-11-13 04:24:44.187644: 10, NRSF, 0.929991\n",
      "INFO:tensorflow:2018-11-13 04:24:44.201488: 11, GABP, 0.940174\n",
      "INFO:tensorflow:2018-11-13 04:24:44.215185: 12, EZH2, 0.648472\n",
      "INFO:tensorflow:2018-11-13 04:24:44.228924: 13, CEBPB, 0.790473\n",
      "INFO:tensorflow:2018-11-13 04:24:44.243135: 14, c-Jun, 0.898401\n",
      "INFO:tensorflow:2018-11-13 04:24:44.256964: 15, ZBTB33, 0.921090\n",
      "INFO:tensorflow:2018-11-13 04:24:44.270965: 16, USF2, 0.952047\n",
      "INFO:tensorflow:2018-11-13 04:24:44.284752: 17, USF-1, 0.879130\n",
      "INFO:tensorflow:2018-11-13 04:24:44.298842: 18, TBP, 0.917756\n",
      "INFO:tensorflow:2018-11-13 04:24:44.312794: 19, RFX5, 0.923802\n",
      "INFO:tensorflow:\n",
      "INFO:tensorflow:126000 0.5668138\n",
      "INFO:tensorflow:On validation\n"
     ]
    },
    {
     "name": "stderr",
     "output_type": "stream",
     "text": [
      "/data/jwhughes/tf_env/lib/python3.6/site-packages/ipykernel_launcher.py:119: DeprecationWarning: using a non-integer array as obj in delete will result in an error in the future\n",
      "/data/jwhughes/tf_env/lib/python3.6/site-packages/ipykernel_launcher.py:120: DeprecationWarning: using a non-integer array as obj in delete will result in an error in the future\n"
     ]
    },
    {
     "name": "stdout",
     "output_type": "stream",
     "text": [
      "INFO:tensorflow:Our macro AUC:     0.9081755396042942\n",
      "INFO:tensorflow:Our micro AUC:     0.9357679050307575\n",
      "INFO:tensorflow:2018-11-13 04:26:05.572176: 0, DNase, NaN\n",
      "INFO:tensorflow:2018-11-13 04:26:05.573448: 1, CTCF, 0.964250\n",
      "INFO:tensorflow:2018-11-13 04:26:05.587829: 2, Pol2, 0.908476\n",
      "INFO:tensorflow:2018-11-13 04:26:05.601729: 3, YY1, 0.956188\n",
      "INFO:tensorflow:2018-11-13 04:26:05.615497: 4, p300, 0.863159\n",
      "INFO:tensorflow:2018-11-13 04:26:05.629446: 5, TAF1, 0.969596\n",
      "INFO:tensorflow:2018-11-13 04:26:05.643533: 6, Pol2-4H8, 0.903772\n",
      "INFO:tensorflow:2018-11-13 04:26:05.657622: 7, c-Myc, 0.954794\n",
      "INFO:tensorflow:2018-11-13 04:26:05.671389: 8, Rad21, 0.984225\n",
      "INFO:tensorflow:2018-11-13 04:26:05.685446: 9, Max, 0.922335\n",
      "INFO:tensorflow:2018-11-13 04:26:05.699404: 10, NRSF, 0.948078\n",
      "INFO:tensorflow:2018-11-13 04:26:05.713234: 11, GABP, 0.944903\n",
      "INFO:tensorflow:2018-11-13 04:26:05.726818: 12, EZH2, 0.734218\n",
      "INFO:tensorflow:2018-11-13 04:26:05.740218: 13, CEBPB, 0.783065\n",
      "INFO:tensorflow:2018-11-13 04:26:05.754139: 14, c-Jun, 0.842586\n",
      "INFO:tensorflow:2018-11-13 04:26:05.767618: 15, ZBTB33, 0.922083\n",
      "INFO:tensorflow:2018-11-13 04:26:05.781253: 16, USF2, 0.935872\n",
      "INFO:tensorflow:2018-11-13 04:26:05.794810: 17, USF-1, 0.869241\n",
      "INFO:tensorflow:2018-11-13 04:26:05.808598: 18, TBP, 0.912698\n",
      "INFO:tensorflow:2018-11-13 04:26:05.822330: 19, RFX5, 0.935797\n",
      "INFO:tensorflow:\n",
      "INFO:tensorflow:127000 0.14967525\n",
      "INFO:tensorflow:On validation\n"
     ]
    },
    {
     "name": "stderr",
     "output_type": "stream",
     "text": [
      "/data/jwhughes/tf_env/lib/python3.6/site-packages/ipykernel_launcher.py:119: DeprecationWarning: using a non-integer array as obj in delete will result in an error in the future\n",
      "/data/jwhughes/tf_env/lib/python3.6/site-packages/ipykernel_launcher.py:120: DeprecationWarning: using a non-integer array as obj in delete will result in an error in the future\n"
     ]
    },
    {
     "name": "stdout",
     "output_type": "stream",
     "text": [
      "INFO:tensorflow:Our macro AUC:     0.9160294174748647\n",
      "INFO:tensorflow:Our micro AUC:     0.9433435449262766\n",
      "INFO:tensorflow:2018-11-13 04:27:26.774948: 0, DNase, NaN\n",
      "INFO:tensorflow:2018-11-13 04:27:26.776059: 1, CTCF, 0.980002\n",
      "INFO:tensorflow:2018-11-13 04:27:26.789650: 2, Pol2, 0.933236\n",
      "INFO:tensorflow:2018-11-13 04:27:26.803050: 3, YY1, 0.937133\n",
      "INFO:tensorflow:2018-11-13 04:27:26.816624: 4, p300, 0.886015\n",
      "INFO:tensorflow:2018-11-13 04:27:26.830452: 5, TAF1, 0.980657\n",
      "INFO:tensorflow:2018-11-13 04:27:26.844114: 6, Pol2-4H8, 0.930640\n",
      "INFO:tensorflow:2018-11-13 04:27:26.857602: 7, c-Myc, 0.942451\n",
      "INFO:tensorflow:2018-11-13 04:27:26.871181: 8, Rad21, 0.983674\n",
      "INFO:tensorflow:2018-11-13 04:27:26.884736: 9, Max, 0.920945\n",
      "INFO:tensorflow:2018-11-13 04:27:26.898612: 10, NRSF, 0.944668\n",
      "INFO:tensorflow:2018-11-13 04:27:26.912310: 11, GABP, 0.951993\n",
      "INFO:tensorflow:2018-11-13 04:27:26.925702: 12, EZH2, 0.816399\n",
      "INFO:tensorflow:2018-11-13 04:27:26.939207: 13, CEBPB, 0.779220\n",
      "INFO:tensorflow:2018-11-13 04:27:26.952855: 14, c-Jun, 0.817541\n",
      "INFO:tensorflow:2018-11-13 04:27:26.966306: 15, ZBTB33, 0.953588\n",
      "INFO:tensorflow:2018-11-13 04:27:26.979852: 16, USF2, 0.933675\n",
      "INFO:tensorflow:2018-11-13 04:27:26.993328: 17, USF-1, 0.848955\n",
      "INFO:tensorflow:2018-11-13 04:27:27.007114: 18, TBP, 0.952784\n",
      "INFO:tensorflow:2018-11-13 04:27:27.020982: 19, RFX5, 0.910984\n",
      "INFO:tensorflow:\n",
      "INFO:tensorflow:128000 0.3600042\n",
      "INFO:tensorflow:On validation\n"
     ]
    },
    {
     "name": "stderr",
     "output_type": "stream",
     "text": [
      "/data/jwhughes/tf_env/lib/python3.6/site-packages/ipykernel_launcher.py:119: DeprecationWarning: using a non-integer array as obj in delete will result in an error in the future\n",
      "/data/jwhughes/tf_env/lib/python3.6/site-packages/ipykernel_launcher.py:120: DeprecationWarning: using a non-integer array as obj in delete will result in an error in the future\n"
     ]
    },
    {
     "name": "stdout",
     "output_type": "stream",
     "text": [
      "INFO:tensorflow:Our macro AUC:     0.932140975741293\n",
      "INFO:tensorflow:Our micro AUC:     0.9546615481817184\n",
      "INFO:tensorflow:2018-11-13 04:28:47.707994: 0, DNase, NaN\n",
      "INFO:tensorflow:2018-11-13 04:28:47.709192: 1, CTCF, 0.974738\n",
      "INFO:tensorflow:2018-11-13 04:28:47.723165: 2, Pol2, 0.971460\n",
      "INFO:tensorflow:2018-11-13 04:28:47.736757: 3, YY1, 0.969059\n",
      "INFO:tensorflow:2018-11-13 04:28:47.750455: 4, p300, 0.895412\n",
      "INFO:tensorflow:2018-11-13 04:28:47.764389: 5, TAF1, 0.988414\n",
      "INFO:tensorflow:2018-11-13 04:28:47.778232: 6, Pol2-4H8, 0.950943\n",
      "INFO:tensorflow:2018-11-13 04:28:47.791992: 7, c-Myc, 0.975770\n",
      "INFO:tensorflow:2018-11-13 04:28:47.805640: 8, Rad21, 0.976698\n",
      "INFO:tensorflow:2018-11-13 04:28:47.819436: 9, Max, 0.927345\n",
      "INFO:tensorflow:2018-11-13 04:28:47.833097: 10, NRSF, 0.951220\n",
      "INFO:tensorflow:2018-11-13 04:28:47.846739: 11, GABP, 0.968397\n",
      "INFO:tensorflow:2018-11-13 04:28:47.860368: 12, EZH2, 0.907782\n",
      "INFO:tensorflow:2018-11-13 04:28:47.874085: 13, CEBPB, 0.801606\n",
      "INFO:tensorflow:2018-11-13 04:28:47.887935: 14, c-Jun, 0.838864\n",
      "INFO:tensorflow:2018-11-13 04:28:47.901743: 15, ZBTB33, 0.948886\n",
      "INFO:tensorflow:2018-11-13 04:28:47.915437: 16, USF2, 0.884395\n",
      "INFO:tensorflow:2018-11-13 04:28:47.928852: 17, USF-1, 0.892479\n",
      "INFO:tensorflow:2018-11-13 04:28:47.942409: 18, TBP, 0.945187\n",
      "INFO:tensorflow:2018-11-13 04:28:47.955941: 19, RFX5, 0.942022\n",
      "INFO:tensorflow:\n",
      "INFO:tensorflow:129000 0.17365065\n",
      "INFO:tensorflow:On validation\n"
     ]
    },
    {
     "name": "stderr",
     "output_type": "stream",
     "text": [
      "/data/jwhughes/tf_env/lib/python3.6/site-packages/ipykernel_launcher.py:119: DeprecationWarning: using a non-integer array as obj in delete will result in an error in the future\n",
      "/data/jwhughes/tf_env/lib/python3.6/site-packages/ipykernel_launcher.py:120: DeprecationWarning: using a non-integer array as obj in delete will result in an error in the future\n"
     ]
    },
    {
     "name": "stdout",
     "output_type": "stream",
     "text": [
      "INFO:tensorflow:Our macro AUC:     0.9145049352712938\n",
      "INFO:tensorflow:Our micro AUC:     0.9442861610224502\n",
      "INFO:tensorflow:2018-11-13 04:30:09.866044: 0, DNase, NaN\n",
      "INFO:tensorflow:2018-11-13 04:30:09.867176: 1, CTCF, 0.968755\n",
      "INFO:tensorflow:2018-11-13 04:30:09.881460: 2, Pol2, 0.966137\n",
      "INFO:tensorflow:2018-11-13 04:30:09.895172: 3, YY1, 0.963778\n",
      "INFO:tensorflow:2018-11-13 04:30:09.908843: 4, p300, 0.885654\n",
      "INFO:tensorflow:2018-11-13 04:30:09.922716: 5, TAF1, 0.972334\n",
      "INFO:tensorflow:2018-11-13 04:30:09.936227: 6, Pol2-4H8, 0.931552\n",
      "INFO:tensorflow:2018-11-13 04:30:09.949937: 7, c-Myc, 0.965558\n",
      "INFO:tensorflow:2018-11-13 04:30:09.963381: 8, Rad21, 0.991299\n",
      "INFO:tensorflow:2018-11-13 04:30:09.976966: 9, Max, 0.927867\n",
      "INFO:tensorflow:2018-11-13 04:30:09.990476: 10, NRSF, 0.943928\n",
      "INFO:tensorflow:2018-11-13 04:30:10.004232: 11, GABP, 0.947145\n",
      "INFO:tensorflow:2018-11-13 04:30:10.017627: 12, EZH2, 0.733810\n",
      "INFO:tensorflow:2018-11-13 04:30:10.030880: 13, CEBPB, 0.803439\n",
      "INFO:tensorflow:2018-11-13 04:30:10.044758: 14, c-Jun, 0.849068\n",
      "INFO:tensorflow:2018-11-13 04:30:10.058575: 15, ZBTB33, 0.952292\n",
      "INFO:tensorflow:2018-11-13 04:30:10.071886: 16, USF2, 0.919393\n",
      "INFO:tensorflow:2018-11-13 04:30:10.085244: 17, USF-1, 0.863015\n",
      "INFO:tensorflow:2018-11-13 04:30:10.098684: 18, TBP, 0.935824\n",
      "INFO:tensorflow:2018-11-13 04:30:10.112313: 19, RFX5, 0.854744\n",
      "INFO:tensorflow:\n",
      "INFO:tensorflow:130000 0.13676429\n",
      "INFO:tensorflow:On validation\n"
     ]
    },
    {
     "name": "stderr",
     "output_type": "stream",
     "text": [
      "/data/jwhughes/tf_env/lib/python3.6/site-packages/ipykernel_launcher.py:119: DeprecationWarning: using a non-integer array as obj in delete will result in an error in the future\n",
      "/data/jwhughes/tf_env/lib/python3.6/site-packages/ipykernel_launcher.py:120: DeprecationWarning: using a non-integer array as obj in delete will result in an error in the future\n"
     ]
    },
    {
     "name": "stdout",
     "output_type": "stream",
     "text": [
      "INFO:tensorflow:Our macro AUC:     0.9333819599968389\n",
      "INFO:tensorflow:Our micro AUC:     0.9523458531372242\n",
      "INFO:tensorflow:2018-11-13 04:31:32.444335: 0, DNase, NaN\n",
      "INFO:tensorflow:2018-11-13 04:31:32.445469: 1, CTCF, 0.989872\n",
      "INFO:tensorflow:2018-11-13 04:31:32.459587: 2, Pol2, 0.923976\n",
      "INFO:tensorflow:2018-11-13 04:31:32.473330: 3, YY1, 0.950795\n",
      "INFO:tensorflow:2018-11-13 04:31:32.487101: 4, p300, 0.895633\n",
      "INFO:tensorflow:2018-11-13 04:31:32.501017: 5, TAF1, 0.973025\n",
      "INFO:tensorflow:2018-11-13 04:31:32.514960: 6, Pol2-4H8, 0.934662\n",
      "INFO:tensorflow:2018-11-13 04:31:32.528915: 7, c-Myc, 0.964413\n",
      "INFO:tensorflow:2018-11-13 04:31:32.542587: 8, Rad21, 0.988719\n",
      "INFO:tensorflow:2018-11-13 04:31:32.556465: 9, Max, 0.934621\n",
      "INFO:tensorflow:2018-11-13 04:31:32.570419: 10, NRSF, 0.947934\n",
      "INFO:tensorflow:2018-11-13 04:31:32.584312: 11, GABP, 0.951084\n",
      "INFO:tensorflow:2018-11-13 04:31:32.598139: 12, EZH2, 0.846048\n",
      "INFO:tensorflow:2018-11-13 04:31:32.611953: 13, CEBPB, 0.807513\n",
      "INFO:tensorflow:2018-11-13 04:31:32.625948: 14, c-Jun, 0.897086\n",
      "INFO:tensorflow:2018-11-13 04:31:32.639695: 15, ZBTB33, 0.941972\n",
      "INFO:tensorflow:2018-11-13 04:31:32.653593: 16, USF2, 0.975774\n",
      "INFO:tensorflow:2018-11-13 04:31:32.667442: 17, USF-1, 0.922018\n",
      "INFO:tensorflow:2018-11-13 04:31:32.681456: 18, TBP, 0.944329\n",
      "INFO:tensorflow:2018-11-13 04:31:32.695375: 19, RFX5, 0.944781\n",
      "INFO:tensorflow:\n",
      "INFO:tensorflow:131000 0.7222682\n",
      "INFO:tensorflow:On validation\n"
     ]
    },
    {
     "name": "stderr",
     "output_type": "stream",
     "text": [
      "/data/jwhughes/tf_env/lib/python3.6/site-packages/ipykernel_launcher.py:119: DeprecationWarning: using a non-integer array as obj in delete will result in an error in the future\n",
      "/data/jwhughes/tf_env/lib/python3.6/site-packages/ipykernel_launcher.py:120: DeprecationWarning: using a non-integer array as obj in delete will result in an error in the future\n"
     ]
    },
    {
     "name": "stdout",
     "output_type": "stream",
     "text": [
      "INFO:tensorflow:Our macro AUC:     0.9345082173639696\n",
      "INFO:tensorflow:Our micro AUC:     0.9535677722995961\n",
      "INFO:tensorflow:2018-11-13 04:32:54.384267: 0, DNase, NaN\n",
      "INFO:tensorflow:2018-11-13 04:32:54.385359: 1, CTCF, 0.985447\n",
      "INFO:tensorflow:2018-11-13 04:32:54.399389: 2, Pol2, 0.968889\n",
      "INFO:tensorflow:2018-11-13 04:32:54.413125: 3, YY1, 0.959440\n",
      "INFO:tensorflow:2018-11-13 04:32:54.426879: 4, p300, 0.912140\n",
      "INFO:tensorflow:2018-11-13 04:32:54.440783: 5, TAF1, 0.974830\n",
      "INFO:tensorflow:2018-11-13 04:32:54.454623: 6, Pol2-4H8, 0.933514\n",
      "INFO:tensorflow:2018-11-13 04:32:54.468536: 7, c-Myc, 0.973715\n",
      "INFO:tensorflow:2018-11-13 04:32:54.482324: 8, Rad21, 0.990391\n",
      "INFO:tensorflow:2018-11-13 04:32:54.496242: 9, Max, 0.944626\n",
      "INFO:tensorflow:2018-11-13 04:32:54.510267: 10, NRSF, 0.947776\n",
      "INFO:tensorflow:2018-11-13 04:32:54.524131: 11, GABP, 0.951189\n",
      "INFO:tensorflow:2018-11-13 04:32:54.538009: 12, EZH2, 0.879940\n",
      "INFO:tensorflow:2018-11-13 04:32:54.551659: 13, CEBPB, 0.815048\n",
      "INFO:tensorflow:2018-11-13 04:32:54.565656: 14, c-Jun, 0.823305\n",
      "INFO:tensorflow:2018-11-13 04:32:54.579434: 15, ZBTB33, 0.966774\n",
      "INFO:tensorflow:2018-11-13 04:32:54.593142: 16, USF2, 0.927909\n",
      "INFO:tensorflow:2018-11-13 04:32:54.607008: 17, USF-1, 0.889806\n",
      "INFO:tensorflow:2018-11-13 04:32:54.620899: 18, TBP, 0.948282\n",
      "INFO:tensorflow:2018-11-13 04:32:54.634759: 19, RFX5, 0.962634\n",
      "INFO:tensorflow:\n",
      "INFO:tensorflow:132000 0.07091675\n",
      "INFO:tensorflow:On validation\n"
     ]
    },
    {
     "name": "stderr",
     "output_type": "stream",
     "text": [
      "/data/jwhughes/tf_env/lib/python3.6/site-packages/ipykernel_launcher.py:119: DeprecationWarning: using a non-integer array as obj in delete will result in an error in the future\n",
      "/data/jwhughes/tf_env/lib/python3.6/site-packages/ipykernel_launcher.py:120: DeprecationWarning: using a non-integer array as obj in delete will result in an error in the future\n"
     ]
    },
    {
     "name": "stdout",
     "output_type": "stream",
     "text": [
      "INFO:tensorflow:Our macro AUC:     0.9190139821045452\n",
      "INFO:tensorflow:Our micro AUC:     0.9467084404030287\n",
      "INFO:tensorflow:2018-11-13 04:34:16.145287: 0, DNase, NaN\n",
      "INFO:tensorflow:2018-11-13 04:34:16.146405: 1, CTCF, 0.984534\n",
      "INFO:tensorflow:2018-11-13 04:34:16.160742: 2, Pol2, 0.963326\n",
      "INFO:tensorflow:2018-11-13 04:34:16.174487: 3, YY1, 0.958315\n",
      "INFO:tensorflow:2018-11-13 04:34:16.188185: 4, p300, 0.896754\n",
      "INFO:tensorflow:2018-11-13 04:34:16.216860: 5, TAF1, 0.965650\n",
      "INFO:tensorflow:2018-11-13 04:34:16.230630: 6, Pol2-4H8, 0.917890\n",
      "INFO:tensorflow:2018-11-13 04:34:16.244501: 7, c-Myc, 0.960898\n",
      "INFO:tensorflow:2018-11-13 04:34:16.258269: 8, Rad21, 0.990978\n",
      "INFO:tensorflow:2018-11-13 04:34:16.272136: 9, Max, 0.923107\n",
      "INFO:tensorflow:2018-11-13 04:34:16.285881: 10, NRSF, 0.929173\n",
      "INFO:tensorflow:2018-11-13 04:34:16.299941: 11, GABP, 0.934539\n",
      "INFO:tensorflow:2018-11-13 04:34:16.313504: 12, EZH2, 0.814807\n",
      "INFO:tensorflow:2018-11-13 04:34:16.327190: 13, CEBPB, 0.786299\n",
      "INFO:tensorflow:2018-11-13 04:34:16.341236: 14, c-Jun, 0.837314\n",
      "INFO:tensorflow:2018-11-13 04:34:16.355293: 15, ZBTB33, 0.907140\n",
      "INFO:tensorflow:2018-11-13 04:34:16.369146: 16, USF2, 0.954011\n",
      "INFO:tensorflow:2018-11-13 04:34:16.386246: 17, USF-1, 0.870078\n",
      "INFO:tensorflow:2018-11-13 04:34:16.400082: 18, TBP, 0.938697\n",
      "INFO:tensorflow:2018-11-13 04:34:16.413752: 19, RFX5, 0.927757\n",
      "INFO:tensorflow:\n",
      "INFO:tensorflow:133000 0.37872553\n",
      "INFO:tensorflow:On validation\n"
     ]
    },
    {
     "name": "stderr",
     "output_type": "stream",
     "text": [
      "/data/jwhughes/tf_env/lib/python3.6/site-packages/ipykernel_launcher.py:119: DeprecationWarning: using a non-integer array as obj in delete will result in an error in the future\n",
      "/data/jwhughes/tf_env/lib/python3.6/site-packages/ipykernel_launcher.py:120: DeprecationWarning: using a non-integer array as obj in delete will result in an error in the future\n"
     ]
    },
    {
     "name": "stdout",
     "output_type": "stream",
     "text": [
      "INFO:tensorflow:Our macro AUC:     0.9002366132672146\n",
      "INFO:tensorflow:Our micro AUC:     0.9291479821322166\n",
      "INFO:tensorflow:2018-11-13 04:35:38.432118: 0, DNase, NaN\n",
      "INFO:tensorflow:2018-11-13 04:35:38.433365: 1, CTCF, 0.974982\n",
      "INFO:tensorflow:2018-11-13 04:35:38.447771: 2, Pol2, 0.919727\n",
      "INFO:tensorflow:2018-11-13 04:35:38.461856: 3, YY1, 0.947521\n",
      "INFO:tensorflow:2018-11-13 04:35:38.475827: 4, p300, 0.890276\n",
      "INFO:tensorflow:2018-11-13 04:35:38.489836: 5, TAF1, 0.955266\n",
      "INFO:tensorflow:2018-11-13 04:35:38.504249: 6, Pol2-4H8, 0.910463\n",
      "INFO:tensorflow:2018-11-13 04:35:38.518405: 7, c-Myc, 0.944486\n",
      "INFO:tensorflow:2018-11-13 04:35:38.532317: 8, Rad21, 0.980422\n",
      "INFO:tensorflow:2018-11-13 04:35:38.546376: 9, Max, 0.911675\n",
      "INFO:tensorflow:2018-11-13 04:35:38.560504: 10, NRSF, 0.927681\n",
      "INFO:tensorflow:2018-11-13 04:35:38.574495: 11, GABP, 0.921793\n",
      "INFO:tensorflow:2018-11-13 04:35:38.588495: 12, EZH2, 0.753923\n",
      "INFO:tensorflow:2018-11-13 04:35:38.602525: 13, CEBPB, 0.812311\n",
      "INFO:tensorflow:2018-11-13 04:35:38.616523: 14, c-Jun, 0.869959\n",
      "INFO:tensorflow:2018-11-13 04:35:38.630542: 15, ZBTB33, 0.847717\n",
      "INFO:tensorflow:2018-11-13 04:35:38.644394: 16, USF2, 0.869938\n",
      "INFO:tensorflow:2018-11-13 04:35:38.658406: 17, USF-1, 0.850390\n",
      "INFO:tensorflow:2018-11-13 04:35:38.672453: 18, TBP, 0.917325\n",
      "INFO:tensorflow:2018-11-13 04:35:38.686244: 19, RFX5, 0.898641\n",
      "INFO:tensorflow:\n",
      "INFO:tensorflow:134000 0.13068058\n",
      "INFO:tensorflow:On validation\n"
     ]
    },
    {
     "name": "stderr",
     "output_type": "stream",
     "text": [
      "/data/jwhughes/tf_env/lib/python3.6/site-packages/ipykernel_launcher.py:119: DeprecationWarning: using a non-integer array as obj in delete will result in an error in the future\n",
      "/data/jwhughes/tf_env/lib/python3.6/site-packages/ipykernel_launcher.py:120: DeprecationWarning: using a non-integer array as obj in delete will result in an error in the future\n"
     ]
    },
    {
     "name": "stdout",
     "output_type": "stream",
     "text": [
      "INFO:tensorflow:Our macro AUC:     0.8964022216654489\n",
      "INFO:tensorflow:Our micro AUC:     0.9234650002186136\n",
      "INFO:tensorflow:2018-11-13 04:36:59.923643: 0, DNase, NaN\n",
      "INFO:tensorflow:2018-11-13 04:36:59.924748: 1, CTCF, 0.978152\n",
      "INFO:tensorflow:2018-11-13 04:36:59.938823: 2, Pol2, 0.895991\n",
      "INFO:tensorflow:2018-11-13 04:36:59.952606: 3, YY1, 0.935729\n",
      "INFO:tensorflow:2018-11-13 04:36:59.966353: 4, p300, 0.888390\n",
      "INFO:tensorflow:2018-11-13 04:36:59.980306: 5, TAF1, 0.958544\n",
      "INFO:tensorflow:2018-11-13 04:36:59.994256: 6, Pol2-4H8, 0.861369\n",
      "INFO:tensorflow:2018-11-13 04:37:00.008139: 7, c-Myc, 0.948652\n",
      "INFO:tensorflow:2018-11-13 04:37:00.021944: 8, Rad21, 0.974939\n",
      "INFO:tensorflow:2018-11-13 04:37:00.035770: 9, Max, 0.912597\n",
      "INFO:tensorflow:2018-11-13 04:37:00.049683: 10, NRSF, 0.918407\n",
      "INFO:tensorflow:2018-11-13 04:37:00.063583: 11, GABP, 0.934020\n",
      "INFO:tensorflow:2018-11-13 04:37:00.077263: 12, EZH2, 0.778903\n",
      "INFO:tensorflow:2018-11-13 04:37:00.091326: 13, CEBPB, 0.775858\n",
      "INFO:tensorflow:2018-11-13 04:37:00.105317: 14, c-Jun, 0.823973\n",
      "INFO:tensorflow:2018-11-13 04:37:00.119184: 15, ZBTB33, 0.853352\n",
      "INFO:tensorflow:2018-11-13 04:37:00.132951: 16, USF2, 0.893899\n",
      "INFO:tensorflow:2018-11-13 04:37:00.146580: 17, USF-1, 0.871315\n",
      "INFO:tensorflow:2018-11-13 04:37:00.160445: 18, TBP, 0.929598\n",
      "INFO:tensorflow:2018-11-13 04:37:00.174208: 19, RFX5, 0.897955\n",
      "INFO:tensorflow:\n",
      "INFO:tensorflow:135000 0.054667924\n",
      "INFO:tensorflow:On validation\n"
     ]
    },
    {
     "name": "stderr",
     "output_type": "stream",
     "text": [
      "/data/jwhughes/tf_env/lib/python3.6/site-packages/ipykernel_launcher.py:119: DeprecationWarning: using a non-integer array as obj in delete will result in an error in the future\n",
      "/data/jwhughes/tf_env/lib/python3.6/site-packages/ipykernel_launcher.py:120: DeprecationWarning: using a non-integer array as obj in delete will result in an error in the future\n"
     ]
    },
    {
     "name": "stdout",
     "output_type": "stream",
     "text": [
      "INFO:tensorflow:Our macro AUC:     0.9096490061963504\n",
      "INFO:tensorflow:Our micro AUC:     0.9295489023043904\n",
      "INFO:tensorflow:2018-11-13 04:38:22.183159: 0, DNase, NaN\n",
      "INFO:tensorflow:2018-11-13 04:38:22.184178: 1, CTCF, 0.971922\n",
      "INFO:tensorflow:2018-11-13 04:38:22.198027: 2, Pol2, 0.895744\n",
      "INFO:tensorflow:2018-11-13 04:38:22.212101: 3, YY1, 0.939524\n",
      "INFO:tensorflow:2018-11-13 04:38:22.225784: 4, p300, 0.910904\n",
      "INFO:tensorflow:2018-11-13 04:38:22.239665: 5, TAF1, 0.966196\n",
      "INFO:tensorflow:2018-11-13 04:38:22.253442: 6, Pol2-4H8, 0.888923\n",
      "INFO:tensorflow:2018-11-13 04:38:22.267064: 7, c-Myc, 0.959282\n",
      "INFO:tensorflow:2018-11-13 04:38:22.280694: 8, Rad21, 0.985742\n",
      "INFO:tensorflow:2018-11-13 04:38:22.294478: 9, Max, 0.931700\n",
      "INFO:tensorflow:2018-11-13 04:38:22.308126: 10, NRSF, 0.930442\n",
      "INFO:tensorflow:2018-11-13 04:38:22.321659: 11, GABP, 0.952106\n",
      "INFO:tensorflow:2018-11-13 04:38:22.335066: 12, EZH2, 0.694598\n",
      "INFO:tensorflow:2018-11-13 04:38:22.348581: 13, CEBPB, 0.786087\n",
      "INFO:tensorflow:2018-11-13 04:38:22.362616: 14, c-Jun, 0.863785\n",
      "INFO:tensorflow:2018-11-13 04:38:22.376267: 15, ZBTB33, 0.937555\n",
      "INFO:tensorflow:2018-11-13 04:38:22.612018: 16, USF2, 0.911115\n",
      "INFO:tensorflow:2018-11-13 04:38:22.626613: 17, USF-1, 0.887593\n",
      "INFO:tensorflow:2018-11-13 04:38:22.640409: 18, TBP, 0.914512\n",
      "INFO:tensorflow:2018-11-13 04:38:22.654256: 19, RFX5, 0.955602\n",
      "INFO:tensorflow:\n",
      "INFO:tensorflow:136000 0.44509998\n",
      "INFO:tensorflow:On validation\n"
     ]
    },
    {
     "name": "stderr",
     "output_type": "stream",
     "text": [
      "/data/jwhughes/tf_env/lib/python3.6/site-packages/ipykernel_launcher.py:119: DeprecationWarning: using a non-integer array as obj in delete will result in an error in the future\n",
      "/data/jwhughes/tf_env/lib/python3.6/site-packages/ipykernel_launcher.py:120: DeprecationWarning: using a non-integer array as obj in delete will result in an error in the future\n"
     ]
    },
    {
     "name": "stdout",
     "output_type": "stream",
     "text": [
      "INFO:tensorflow:Our macro AUC:     0.906649725884864\n",
      "INFO:tensorflow:Our micro AUC:     0.9304255558774432\n",
      "INFO:tensorflow:2018-11-13 04:39:44.696372: 0, DNase, NaN\n",
      "INFO:tensorflow:2018-11-13 04:39:44.697681: 1, CTCF, 0.970126\n",
      "INFO:tensorflow:2018-11-13 04:39:44.711778: 2, Pol2, 0.876439\n",
      "INFO:tensorflow:2018-11-13 04:39:44.725392: 3, YY1, 0.936141\n",
      "INFO:tensorflow:2018-11-13 04:39:44.738765: 4, p300, 0.895974\n",
      "INFO:tensorflow:2018-11-13 04:39:44.752313: 5, TAF1, 0.962398\n",
      "INFO:tensorflow:2018-11-13 04:39:44.765939: 6, Pol2-4H8, 0.908264\n",
      "INFO:tensorflow:2018-11-13 04:39:44.779439: 7, c-Myc, 0.960386\n",
      "INFO:tensorflow:2018-11-13 04:39:44.792857: 8, Rad21, 0.978595\n",
      "INFO:tensorflow:2018-11-13 04:39:44.806387: 9, Max, 0.919469\n",
      "INFO:tensorflow:2018-11-13 04:39:44.819970: 10, NRSF, 0.941692\n",
      "INFO:tensorflow:2018-11-13 04:39:44.833484: 11, GABP, 0.946938\n",
      "INFO:tensorflow:2018-11-13 04:39:44.846910: 12, EZH2, 0.766278\n",
      "INFO:tensorflow:2018-11-13 04:39:44.860375: 13, CEBPB, 0.754361\n",
      "INFO:tensorflow:2018-11-13 04:39:44.874183: 14, c-Jun, 0.856625\n",
      "INFO:tensorflow:2018-11-13 04:39:44.887849: 15, ZBTB33, 0.885741\n",
      "INFO:tensorflow:2018-11-13 04:39:44.901212: 16, USF2, 0.937884\n",
      "INFO:tensorflow:2018-11-13 04:39:44.914736: 17, USF-1, 0.871042\n",
      "INFO:tensorflow:2018-11-13 04:39:44.928349: 18, TBP, 0.942409\n",
      "INFO:tensorflow:2018-11-13 04:39:44.941810: 19, RFX5, 0.915584\n",
      "INFO:tensorflow:\n",
      "INFO:tensorflow:137000 0.111840904\n",
      "INFO:tensorflow:On validation\n"
     ]
    },
    {
     "name": "stderr",
     "output_type": "stream",
     "text": [
      "/data/jwhughes/tf_env/lib/python3.6/site-packages/ipykernel_launcher.py:119: DeprecationWarning: using a non-integer array as obj in delete will result in an error in the future\n",
      "/data/jwhughes/tf_env/lib/python3.6/site-packages/ipykernel_launcher.py:120: DeprecationWarning: using a non-integer array as obj in delete will result in an error in the future\n"
     ]
    },
    {
     "name": "stdout",
     "output_type": "stream",
     "text": [
      "INFO:tensorflow:Our macro AUC:     0.9275129032672794\n",
      "INFO:tensorflow:Our micro AUC:     0.9533238156266448\n",
      "INFO:tensorflow:2018-11-13 04:41:06.538630: 0, DNase, NaN\n",
      "INFO:tensorflow:2018-11-13 04:41:06.539705: 1, CTCF, 0.985552\n",
      "INFO:tensorflow:2018-11-13 04:41:06.554001: 2, Pol2, 0.958799\n",
      "INFO:tensorflow:2018-11-13 04:41:06.567921: 3, YY1, 0.950134\n",
      "INFO:tensorflow:2018-11-13 04:41:06.581844: 4, p300, 0.914879\n",
      "INFO:tensorflow:2018-11-13 04:41:06.595849: 5, TAF1, 0.982056\n",
      "INFO:tensorflow:2018-11-13 04:41:06.610020: 6, Pol2-4H8, 0.949955\n",
      "INFO:tensorflow:2018-11-13 04:41:06.623998: 7, c-Myc, 0.977789\n",
      "INFO:tensorflow:2018-11-13 04:41:06.637858: 8, Rad21, 0.978311\n",
      "INFO:tensorflow:2018-11-13 04:41:06.651914: 9, Max, 0.964697\n",
      "INFO:tensorflow:2018-11-13 04:41:06.666148: 10, NRSF, 0.940746\n",
      "INFO:tensorflow:2018-11-13 04:41:06.680155: 11, GABP, 0.949269\n",
      "INFO:tensorflow:2018-11-13 04:41:06.694106: 12, EZH2, 0.932417\n",
      "INFO:tensorflow:2018-11-13 04:41:06.707929: 13, CEBPB, 0.768568\n",
      "INFO:tensorflow:2018-11-13 04:41:06.721971: 14, c-Jun, 0.760430\n",
      "INFO:tensorflow:2018-11-13 04:41:06.735942: 15, ZBTB33, 0.892953\n",
      "INFO:tensorflow:2018-11-13 04:41:06.749875: 16, USF2, 0.960806\n",
      "INFO:tensorflow:2018-11-13 04:41:06.763818: 17, USF-1, 0.888428\n",
      "INFO:tensorflow:2018-11-13 04:41:06.777836: 18, TBP, 0.960702\n",
      "INFO:tensorflow:2018-11-13 04:41:06.791890: 19, RFX5, 0.906255\n",
      "INFO:tensorflow:\n",
      "INFO:tensorflow:138000 1.4912301\n",
      "INFO:tensorflow:On validation\n"
     ]
    },
    {
     "name": "stderr",
     "output_type": "stream",
     "text": [
      "/data/jwhughes/tf_env/lib/python3.6/site-packages/ipykernel_launcher.py:119: DeprecationWarning: using a non-integer array as obj in delete will result in an error in the future\n",
      "/data/jwhughes/tf_env/lib/python3.6/site-packages/ipykernel_launcher.py:120: DeprecationWarning: using a non-integer array as obj in delete will result in an error in the future\n"
     ]
    },
    {
     "name": "stdout",
     "output_type": "stream",
     "text": [
      "INFO:tensorflow:Our macro AUC:     0.9339082488969147\n",
      "INFO:tensorflow:Our micro AUC:     0.9557703263415086\n",
      "INFO:tensorflow:2018-11-13 04:42:28.197715: 0, DNase, NaN\n",
      "INFO:tensorflow:2018-11-13 04:42:28.198747: 1, CTCF, 0.985235\n",
      "INFO:tensorflow:2018-11-13 04:42:28.212831: 2, Pol2, 0.963119\n",
      "INFO:tensorflow:2018-11-13 04:42:28.226303: 3, YY1, 0.955132\n",
      "INFO:tensorflow:2018-11-13 04:42:28.239763: 4, p300, 0.884092\n",
      "INFO:tensorflow:2018-11-13 04:42:28.253228: 5, TAF1, 0.985234\n",
      "INFO:tensorflow:2018-11-13 04:42:28.266904: 6, Pol2-4H8, 0.958118\n",
      "INFO:tensorflow:2018-11-13 04:42:28.280374: 7, c-Myc, 0.972327\n",
      "INFO:tensorflow:2018-11-13 04:42:28.293750: 8, Rad21, 0.984610\n",
      "INFO:tensorflow:2018-11-13 04:42:28.307364: 9, Max, 0.940817\n",
      "INFO:tensorflow:2018-11-13 04:42:28.320940: 10, NRSF, 0.965664\n",
      "INFO:tensorflow:2018-11-13 04:42:28.334557: 11, GABP, 0.943190\n",
      "INFO:tensorflow:2018-11-13 04:42:28.348117: 12, EZH2, 0.945051\n",
      "INFO:tensorflow:2018-11-13 04:42:28.361595: 13, CEBPB, 0.781682\n",
      "INFO:tensorflow:2018-11-13 04:42:28.375490: 14, c-Jun, 0.814538\n",
      "INFO:tensorflow:2018-11-13 04:42:28.388959: 15, ZBTB33, 0.905640\n",
      "INFO:tensorflow:2018-11-13 04:42:28.402522: 16, USF2, 0.938481\n",
      "INFO:tensorflow:2018-11-13 04:42:28.416133: 17, USF-1, 0.914839\n",
      "INFO:tensorflow:2018-11-13 04:42:28.429673: 18, TBP, 0.961864\n",
      "INFO:tensorflow:2018-11-13 04:42:28.443177: 19, RFX5, 0.944625\n",
      "INFO:tensorflow:\n",
      "INFO:tensorflow:139000 0.13977389\n",
      "INFO:tensorflow:On validation\n"
     ]
    },
    {
     "name": "stderr",
     "output_type": "stream",
     "text": [
      "/data/jwhughes/tf_env/lib/python3.6/site-packages/ipykernel_launcher.py:119: DeprecationWarning: using a non-integer array as obj in delete will result in an error in the future\n",
      "/data/jwhughes/tf_env/lib/python3.6/site-packages/ipykernel_launcher.py:120: DeprecationWarning: using a non-integer array as obj in delete will result in an error in the future\n"
     ]
    },
    {
     "name": "stdout",
     "output_type": "stream",
     "text": [
      "INFO:tensorflow:Our macro AUC:     0.9092979537554686\n",
      "INFO:tensorflow:Our micro AUC:     0.9409057661552956\n",
      "INFO:tensorflow:2018-11-13 04:43:50.096680: 0, DNase, NaN\n",
      "INFO:tensorflow:2018-11-13 04:43:50.097770: 1, CTCF, 0.984091\n",
      "INFO:tensorflow:2018-11-13 04:43:50.111948: 2, Pol2, 0.915068\n",
      "INFO:tensorflow:2018-11-13 04:43:50.125640: 3, YY1, 0.954704\n",
      "INFO:tensorflow:2018-11-13 04:43:50.139460: 4, p300, 0.905812\n",
      "INFO:tensorflow:2018-11-13 04:43:50.153324: 5, TAF1, 0.980308\n",
      "INFO:tensorflow:2018-11-13 04:43:50.167010: 6, Pol2-4H8, 0.935436\n",
      "INFO:tensorflow:2018-11-13 04:43:50.180835: 7, c-Myc, 0.936175\n",
      "INFO:tensorflow:2018-11-13 04:43:50.194577: 8, Rad21, 0.983809\n",
      "INFO:tensorflow:2018-11-13 04:43:50.208496: 9, Max, 0.928681\n",
      "INFO:tensorflow:2018-11-13 04:43:50.222273: 10, NRSF, 0.928678\n",
      "INFO:tensorflow:2018-11-13 04:43:50.236086: 11, GABP, 0.956066\n",
      "INFO:tensorflow:2018-11-13 04:43:50.249855: 12, EZH2, 0.877588\n",
      "INFO:tensorflow:2018-11-13 04:43:50.263639: 13, CEBPB, 0.761099\n",
      "INFO:tensorflow:2018-11-13 04:43:50.277445: 14, c-Jun, 0.747468\n",
      "INFO:tensorflow:2018-11-13 04:43:50.291339: 15, ZBTB33, 0.941184\n",
      "INFO:tensorflow:2018-11-13 04:43:50.305235: 16, USF2, 0.846984\n",
      "INFO:tensorflow:2018-11-13 04:43:50.318973: 17, USF-1, 0.850221\n",
      "INFO:tensorflow:2018-11-13 04:43:50.332551: 18, TBP, 0.953110\n",
      "INFO:tensorflow:2018-11-13 04:43:50.346390: 19, RFX5, 0.890179\n",
      "INFO:tensorflow:\n",
      "INFO:tensorflow:140000 0.10768894\n",
      "INFO:tensorflow:On validation\n"
     ]
    },
    {
     "name": "stderr",
     "output_type": "stream",
     "text": [
      "/data/jwhughes/tf_env/lib/python3.6/site-packages/ipykernel_launcher.py:119: DeprecationWarning: using a non-integer array as obj in delete will result in an error in the future\n",
      "/data/jwhughes/tf_env/lib/python3.6/site-packages/ipykernel_launcher.py:120: DeprecationWarning: using a non-integer array as obj in delete will result in an error in the future\n"
     ]
    },
    {
     "name": "stdout",
     "output_type": "stream",
     "text": [
      "INFO:tensorflow:Our macro AUC:     0.9057181887375985\n",
      "INFO:tensorflow:Our micro AUC:     0.9335075944280199\n",
      "INFO:tensorflow:2018-11-13 04:45:11.835340: 0, DNase, NaN\n",
      "INFO:tensorflow:2018-11-13 04:45:11.836402: 1, CTCF, 0.982684\n",
      "INFO:tensorflow:2018-11-13 04:45:11.850653: 2, Pol2, 0.937236\n",
      "INFO:tensorflow:2018-11-13 04:45:11.864578: 3, YY1, 0.945518\n",
      "INFO:tensorflow:2018-11-13 04:45:11.878353: 4, p300, 0.877692\n",
      "INFO:tensorflow:2018-11-13 04:45:11.892408: 5, TAF1, 0.972976\n",
      "INFO:tensorflow:2018-11-13 04:45:11.906343: 6, Pol2-4H8, 0.904323\n",
      "INFO:tensorflow:2018-11-13 04:45:11.920296: 7, c-Myc, 0.970728\n",
      "INFO:tensorflow:2018-11-13 04:45:11.934172: 8, Rad21, 0.982191\n",
      "INFO:tensorflow:2018-11-13 04:45:11.948202: 9, Max, 0.919186\n",
      "INFO:tensorflow:2018-11-13 04:45:11.962138: 10, NRSF, 0.918645\n",
      "INFO:tensorflow:2018-11-13 04:45:11.976079: 11, GABP, 0.938686\n",
      "INFO:tensorflow:2018-11-13 04:45:11.989872: 12, EZH2, 0.865813\n",
      "INFO:tensorflow:2018-11-13 04:45:12.003680: 13, CEBPB, 0.739479\n",
      "INFO:tensorflow:2018-11-13 04:45:12.017915: 14, c-Jun, 0.792227\n",
      "INFO:tensorflow:2018-11-13 04:45:12.031913: 15, ZBTB33, 0.856035\n",
      "INFO:tensorflow:2018-11-13 04:45:12.045678: 16, USF2, 0.918721\n",
      "INFO:tensorflow:2018-11-13 04:45:12.059717: 17, USF-1, 0.860932\n",
      "INFO:tensorflow:2018-11-13 04:45:12.073688: 18, TBP, 0.940003\n",
      "INFO:tensorflow:2018-11-13 04:45:12.087616: 19, RFX5, 0.885570\n",
      "INFO:tensorflow:\n"
     ]
    }
   ],
   "source": [
    "simple_model = MLP_with_sequence_CNN(6, [1000, 100, 100, 100, 100, 50], tf.tanh, train_data, valid_data, test_data, shuffle_size=2, radii=[1, 3, 10, 30])\n",
    "simple_model.train(100000)\n",
    "simple_model.train(40000, lr = 1e-4)"
   ]
  },
  {
   "cell_type": "code",
   "execution_count": 19,
   "metadata": {},
   "outputs": [
    {
     "name": "stdout",
     "output_type": "stream",
     "text": [
      "INFO:tensorflow:Our macro AUC:     0.9321783386593133\n",
      "INFO:tensorflow:Our micro AUC:     0.9342419105353128\n",
      "INFO:tensorflow:2018-11-13 10:58:20.475405: 0, DNase, NaN\n",
      "INFO:tensorflow:2018-11-13 10:58:20.476699: 1, CTCF, 0.965769\n",
      "INFO:tensorflow:2018-11-13 10:58:20.656324: 2, Pol2, 0.977539\n",
      "INFO:tensorflow:2018-11-13 10:58:20.820425: 3, YY1, 0.935216\n",
      "INFO:tensorflow:2018-11-13 10:58:20.985045: 4, p300, 0.917569\n",
      "INFO:tensorflow:2018-11-13 10:58:21.151732: 5, TAF1, 0.922860\n",
      "INFO:tensorflow:2018-11-13 10:58:21.315658: 6, Pol2-4H8, NaN\n",
      "INFO:tensorflow:2018-11-13 10:58:21.316967: 7, c-Myc, NaN\n",
      "INFO:tensorflow:2018-11-13 10:58:21.318097: 8, Rad21, 0.993546\n",
      "INFO:tensorflow:2018-11-13 10:58:21.482949: 9, Max, 0.965995\n",
      "INFO:tensorflow:2018-11-13 10:58:21.648678: 10, NRSF, 0.914249\n",
      "INFO:tensorflow:2018-11-13 10:58:21.815684: 11, GABP, 0.941342\n",
      "INFO:tensorflow:2018-11-13 10:58:21.978369: 12, EZH2, NaN\n",
      "INFO:tensorflow:2018-11-13 10:58:21.979694: 13, CEBPB, 0.812320\n",
      "INFO:tensorflow:2018-11-13 10:58:22.147082: 14, c-Jun, NaN\n",
      "INFO:tensorflow:2018-11-13 10:58:22.148331: 15, ZBTB33, 0.916231\n",
      "INFO:tensorflow:2018-11-13 10:58:22.312564: 16, USF2, NaN\n",
      "INFO:tensorflow:2018-11-13 10:58:22.313785: 17, USF-1, 0.923505\n",
      "INFO:tensorflow:2018-11-13 10:58:22.478114: 18, TBP, NaN\n",
      "INFO:tensorflow:2018-11-13 10:58:22.479257: 19, RFX5, NaN\n"
     ]
    },
    {
     "data": {
      "text/plain": [
       "(array([[0.01927025, 0.03552505, 0.00757579, ..., 0.06878775, 0.01759844,\n",
       "         0.01096616],\n",
       "        [0.01927025, 0.03552505, 0.00757579, ..., 0.06878775, 0.01759844,\n",
       "         0.01096616],\n",
       "        [0.05338597, 0.15890127, 0.02852746, ..., 0.11231912, 0.07102429,\n",
       "         0.01615155],\n",
       "        ...,\n",
       "        [0.03237626, 0.07342903, 0.01466718, ..., 0.08792903, 0.03504964,\n",
       "         0.01059652],\n",
       "        [0.04237802, 0.15304914, 0.02416199, ..., 0.12272044, 0.0667247 ,\n",
       "         0.01649781],\n",
       "        [0.04088501, 0.12921634, 0.02169078, ..., 0.11374975, 0.05538722,\n",
       "         0.01423341]], dtype=float32), array([[0., 0., 0., ..., 0., 0., 0.],\n",
       "        [0., 0., 0., ..., 0., 0., 0.],\n",
       "        [0., 0., 0., ..., 0., 0., 0.],\n",
       "        ...,\n",
       "        [0., 0., 0., ..., 0., 0., 0.],\n",
       "        [0., 0., 0., ..., 0., 0., 0.],\n",
       "        [0., 0., 0., ..., 0., 0., 0.]], dtype=float32), 0.9342419105353128, 0.9321783386593133, False)"
      ]
     },
     "execution_count": 19,
     "metadata": {},
     "output_type": "execute_result"
    }
   ],
   "source": [
    "simple_model.test(455024, mode = Dataset.TEST, log=True)"
   ]
  },
  {
   "cell_type": "code",
   "execution_count": 14,
   "metadata": {},
   "outputs": [
    {
     "name": "stdout",
     "output_type": "stream",
     "text": [
      "INFO:tensorflow:Starting Training\n",
      "INFO:tensorflow:21000 0.16494788\n",
      "INFO:tensorflow:On validation\n"
     ]
    },
    {
     "name": "stderr",
     "output_type": "stream",
     "text": [
      "/data/jwhughes/tf_env/lib/python3.6/site-packages/ipykernel_launcher.py:119: DeprecationWarning: using a non-integer array as obj in delete will result in an error in the future\n",
      "/data/jwhughes/tf_env/lib/python3.6/site-packages/ipykernel_launcher.py:120: DeprecationWarning: using a non-integer array as obj in delete will result in an error in the future\n"
     ]
    },
    {
     "name": "stdout",
     "output_type": "stream",
     "text": [
      "INFO:tensorflow:Our macro AUC:     0.8981127208631827\n",
      "INFO:tensorflow:Our micro AUC:     0.923053336213125\n",
      "INFO:tensorflow:2018-11-12 21:55:44.301127: 0, DNase, NaN\n",
      "INFO:tensorflow:2018-11-12 21:55:44.302147: 1, CTCF, 0.963494\n",
      "INFO:tensorflow:2018-11-12 21:55:44.316792: 2, Pol2, 0.906602\n",
      "INFO:tensorflow:2018-11-12 21:55:44.330963: 3, YY1, 0.936875\n",
      "INFO:tensorflow:2018-11-12 21:55:44.344890: 4, p300, 0.886735\n",
      "INFO:tensorflow:2018-11-12 21:55:44.358963: 5, TAF1, 0.948486\n",
      "INFO:tensorflow:2018-11-12 21:55:44.372911: 6, Pol2-4H8, 0.905416\n",
      "INFO:tensorflow:2018-11-12 21:55:44.386879: 7, c-Myc, 0.969774\n",
      "INFO:tensorflow:2018-11-12 21:55:44.400718: 8, Rad21, 0.981105\n",
      "INFO:tensorflow:2018-11-12 21:55:44.414748: 9, Max, 0.917818\n",
      "INFO:tensorflow:2018-11-12 21:55:44.428652: 10, NRSF, 0.956453\n",
      "INFO:tensorflow:2018-11-12 21:55:44.442352: 11, GABP, 0.925818\n",
      "INFO:tensorflow:2018-11-12 21:55:44.456124: 12, EZH2, 0.609247\n",
      "INFO:tensorflow:2018-11-12 21:55:44.469747: 13, CEBPB, 0.800204\n",
      "INFO:tensorflow:2018-11-12 21:55:44.483578: 14, c-Jun, 0.900386\n",
      "INFO:tensorflow:2018-11-12 21:55:44.497184: 15, ZBTB33, 0.840449\n",
      "INFO:tensorflow:2018-11-12 21:55:44.510956: 16, USF2, 0.916093\n",
      "INFO:tensorflow:2018-11-12 21:55:44.524548: 17, USF-1, 0.840692\n",
      "INFO:tensorflow:2018-11-12 21:55:44.538393: 18, TBP, 0.937012\n",
      "INFO:tensorflow:2018-11-12 21:55:44.552113: 19, RFX5, 0.921483\n",
      "INFO:tensorflow:\n",
      "INFO:tensorflow:22000 0.14006607\n",
      "INFO:tensorflow:On validation\n"
     ]
    },
    {
     "name": "stderr",
     "output_type": "stream",
     "text": [
      "/data/jwhughes/tf_env/lib/python3.6/site-packages/ipykernel_launcher.py:119: DeprecationWarning: using a non-integer array as obj in delete will result in an error in the future\n",
      "/data/jwhughes/tf_env/lib/python3.6/site-packages/ipykernel_launcher.py:120: DeprecationWarning: using a non-integer array as obj in delete will result in an error in the future\n"
     ]
    },
    {
     "name": "stdout",
     "output_type": "stream",
     "text": [
      "INFO:tensorflow:Our macro AUC:     0.8928321954255194\n",
      "INFO:tensorflow:Our micro AUC:     0.9177101818859117\n",
      "INFO:tensorflow:2018-11-12 21:57:06.042735: 0, DNase, NaN\n",
      "INFO:tensorflow:2018-11-12 21:57:06.043928: 1, CTCF, 0.964095\n",
      "INFO:tensorflow:2018-11-12 21:57:06.058587: 2, Pol2, 0.885642\n",
      "INFO:tensorflow:2018-11-12 21:57:06.072824: 3, YY1, 0.928858\n",
      "INFO:tensorflow:2018-11-12 21:57:06.086947: 4, p300, 0.876764\n",
      "INFO:tensorflow:2018-11-12 21:57:06.101668: 5, TAF1, 0.940952\n",
      "INFO:tensorflow:2018-11-12 21:57:06.115834: 6, Pol2-4H8, 0.893023\n",
      "INFO:tensorflow:2018-11-12 21:57:06.129912: 7, c-Myc, 0.940050\n",
      "INFO:tensorflow:2018-11-12 21:57:06.143868: 8, Rad21, 0.987026\n",
      "INFO:tensorflow:2018-11-12 21:57:06.158024: 9, Max, 0.895286\n",
      "INFO:tensorflow:2018-11-12 21:57:06.172458: 10, NRSF, 0.915319\n",
      "INFO:tensorflow:2018-11-12 21:57:06.186556: 11, GABP, 0.902905\n",
      "INFO:tensorflow:2018-11-12 21:57:06.200646: 12, EZH2, 0.717483\n",
      "INFO:tensorflow:2018-11-12 21:57:06.214543: 13, CEBPB, 0.766428\n",
      "INFO:tensorflow:2018-11-12 21:57:06.228801: 14, c-Jun, 0.916200\n",
      "INFO:tensorflow:2018-11-12 21:57:06.242853: 15, ZBTB33, 0.873613\n",
      "INFO:tensorflow:2018-11-12 21:57:06.256836: 16, USF2, 0.885760\n",
      "INFO:tensorflow:2018-11-12 21:57:06.270888: 17, USF-1, 0.840601\n",
      "INFO:tensorflow:2018-11-12 21:57:06.285124: 18, TBP, 0.896023\n",
      "INFO:tensorflow:2018-11-12 21:57:06.299160: 19, RFX5, 0.937782\n",
      "INFO:tensorflow:\n",
      "INFO:tensorflow:23000 0.10362308\n",
      "INFO:tensorflow:On validation\n"
     ]
    },
    {
     "name": "stderr",
     "output_type": "stream",
     "text": [
      "/data/jwhughes/tf_env/lib/python3.6/site-packages/ipykernel_launcher.py:119: DeprecationWarning: using a non-integer array as obj in delete will result in an error in the future\n",
      "/data/jwhughes/tf_env/lib/python3.6/site-packages/ipykernel_launcher.py:120: DeprecationWarning: using a non-integer array as obj in delete will result in an error in the future\n"
     ]
    },
    {
     "name": "stdout",
     "output_type": "stream",
     "text": [
      "INFO:tensorflow:Our macro AUC:     0.9043079162568395\n",
      "INFO:tensorflow:Our micro AUC:     0.9320078994541894\n",
      "INFO:tensorflow:2018-11-12 21:58:27.972268: 0, DNase, NaN\n",
      "INFO:tensorflow:2018-11-12 21:58:27.973320: 1, CTCF, 0.969285\n",
      "INFO:tensorflow:2018-11-12 21:58:27.987875: 2, Pol2, 0.926902\n",
      "INFO:tensorflow:2018-11-12 21:58:28.002203: 3, YY1, 0.948625\n",
      "INFO:tensorflow:2018-11-12 21:58:28.016304: 4, p300, 0.879195\n",
      "INFO:tensorflow:2018-11-12 21:58:28.030617: 5, TAF1, 0.965017\n",
      "INFO:tensorflow:2018-11-12 21:58:28.044699: 6, Pol2-4H8, 0.890000\n",
      "INFO:tensorflow:2018-11-12 21:58:28.059053: 7, c-Myc, 0.953281\n",
      "INFO:tensorflow:2018-11-12 21:58:28.072909: 8, Rad21, 0.988535\n",
      "INFO:tensorflow:2018-11-12 21:58:28.087038: 9, Max, 0.906788\n",
      "INFO:tensorflow:2018-11-12 21:58:28.101253: 10, NRSF, 0.927504\n",
      "INFO:tensorflow:2018-11-12 21:58:28.115362: 11, GABP, 0.937018\n",
      "INFO:tensorflow:2018-11-12 21:58:28.129376: 12, EZH2, 0.656890\n",
      "INFO:tensorflow:2018-11-12 21:58:28.143148: 13, CEBPB, 0.782767\n",
      "INFO:tensorflow:2018-11-12 21:58:28.157469: 14, c-Jun, 0.874458\n",
      "INFO:tensorflow:2018-11-12 21:58:28.171678: 15, ZBTB33, 0.913602\n",
      "INFO:tensorflow:2018-11-12 21:58:28.185571: 16, USF2, 0.949778\n",
      "INFO:tensorflow:2018-11-12 21:58:28.199673: 17, USF-1, 0.874597\n",
      "INFO:tensorflow:2018-11-12 21:58:28.213709: 18, TBP, 0.918594\n",
      "INFO:tensorflow:2018-11-12 21:58:28.227544: 19, RFX5, 0.919016\n",
      "INFO:tensorflow:\n",
      "INFO:tensorflow:24000 0.9477724\n",
      "INFO:tensorflow:On validation\n"
     ]
    },
    {
     "name": "stderr",
     "output_type": "stream",
     "text": [
      "/data/jwhughes/tf_env/lib/python3.6/site-packages/ipykernel_launcher.py:119: DeprecationWarning: using a non-integer array as obj in delete will result in an error in the future\n",
      "/data/jwhughes/tf_env/lib/python3.6/site-packages/ipykernel_launcher.py:120: DeprecationWarning: using a non-integer array as obj in delete will result in an error in the future\n"
     ]
    },
    {
     "name": "stdout",
     "output_type": "stream",
     "text": [
      "INFO:tensorflow:Our macro AUC:     0.9039880330488022\n",
      "INFO:tensorflow:Our micro AUC:     0.9326649522231089\n",
      "INFO:tensorflow:2018-11-12 21:59:49.876880: 0, DNase, NaN\n",
      "INFO:tensorflow:2018-11-12 21:59:49.878034: 1, CTCF, 0.965993\n",
      "INFO:tensorflow:2018-11-12 21:59:49.892876: 2, Pol2, 0.904799\n",
      "INFO:tensorflow:2018-11-12 21:59:49.907259: 3, YY1, 0.953604\n",
      "INFO:tensorflow:2018-11-12 21:59:49.921569: 4, p300, 0.850015\n",
      "INFO:tensorflow:2018-11-12 21:59:49.936106: 5, TAF1, 0.969332\n",
      "INFO:tensorflow:2018-11-12 21:59:49.950603: 6, Pol2-4H8, 0.903055\n",
      "INFO:tensorflow:2018-11-12 21:59:49.964997: 7, c-Myc, 0.953184\n",
      "INFO:tensorflow:2018-11-12 21:59:49.979286: 8, Rad21, 0.984574\n",
      "INFO:tensorflow:2018-11-12 21:59:49.993531: 9, Max, 0.917850\n",
      "INFO:tensorflow:2018-11-12 21:59:50.007938: 10, NRSF, 0.942665\n",
      "INFO:tensorflow:2018-11-12 21:59:50.022149: 11, GABP, 0.938726\n",
      "INFO:tensorflow:2018-11-12 21:59:50.036381: 12, EZH2, 0.747178\n",
      "INFO:tensorflow:2018-11-12 21:59:50.050478: 13, CEBPB, 0.771031\n",
      "INFO:tensorflow:2018-11-12 21:59:50.064926: 14, c-Jun, 0.844567\n",
      "INFO:tensorflow:2018-11-12 21:59:50.079132: 15, ZBTB33, 0.916003\n",
      "INFO:tensorflow:2018-11-12 21:59:50.093314: 16, USF2, 0.930470\n",
      "INFO:tensorflow:2018-11-12 21:59:50.107404: 17, USF-1, 0.859884\n",
      "INFO:tensorflow:2018-11-12 21:59:50.121830: 18, TBP, 0.909339\n",
      "INFO:tensorflow:2018-11-12 21:59:50.135928: 19, RFX5, 0.913502\n",
      "INFO:tensorflow:\n",
      "INFO:tensorflow:25000 0.044076875\n",
      "INFO:tensorflow:On validation\n"
     ]
    },
    {
     "name": "stderr",
     "output_type": "stream",
     "text": [
      "/data/jwhughes/tf_env/lib/python3.6/site-packages/ipykernel_launcher.py:119: DeprecationWarning: using a non-integer array as obj in delete will result in an error in the future\n",
      "/data/jwhughes/tf_env/lib/python3.6/site-packages/ipykernel_launcher.py:120: DeprecationWarning: using a non-integer array as obj in delete will result in an error in the future\n"
     ]
    },
    {
     "name": "stdout",
     "output_type": "stream",
     "text": [
      "INFO:tensorflow:Our macro AUC:     0.9131252256039313\n",
      "INFO:tensorflow:Our micro AUC:     0.9421027848919054\n",
      "INFO:tensorflow:2018-11-12 22:01:11.922471: 0, DNase, NaN\n",
      "INFO:tensorflow:2018-11-12 22:01:11.923593: 1, CTCF, 0.980771\n",
      "INFO:tensorflow:2018-11-12 22:01:11.938159: 2, Pol2, 0.928850\n",
      "INFO:tensorflow:2018-11-12 22:01:11.952119: 3, YY1, 0.927669\n",
      "INFO:tensorflow:2018-11-12 22:01:11.966118: 4, p300, 0.890245\n",
      "INFO:tensorflow:2018-11-12 22:01:11.980285: 5, TAF1, 0.979021\n",
      "INFO:tensorflow:2018-11-12 22:01:11.994323: 6, Pol2-4H8, 0.924848\n",
      "INFO:tensorflow:2018-11-12 22:01:12.008428: 7, c-Myc, 0.949563\n",
      "INFO:tensorflow:2018-11-12 22:01:12.022490: 8, Rad21, 0.979008\n",
      "INFO:tensorflow:2018-11-12 22:01:12.036597: 9, Max, 0.915853\n",
      "INFO:tensorflow:2018-11-12 22:01:12.050700: 10, NRSF, 0.933741\n",
      "INFO:tensorflow:2018-11-12 22:01:12.064760: 11, GABP, 0.950870\n",
      "INFO:tensorflow:2018-11-12 22:01:12.078771: 12, EZH2, 0.812742\n",
      "INFO:tensorflow:2018-11-12 22:01:12.092827: 13, CEBPB, 0.768727\n",
      "INFO:tensorflow:2018-11-12 22:01:12.106973: 14, c-Jun, 0.796153\n",
      "INFO:tensorflow:2018-11-12 22:01:12.121173: 15, ZBTB33, 0.951630\n",
      "INFO:tensorflow:2018-11-12 22:01:12.135091: 16, USF2, 0.924887\n",
      "INFO:tensorflow:2018-11-12 22:01:12.149088: 17, USF-1, 0.861007\n",
      "INFO:tensorflow:2018-11-12 22:01:12.162983: 18, TBP, 0.944686\n",
      "INFO:tensorflow:2018-11-12 22:01:12.176611: 19, RFX5, 0.929107\n",
      "INFO:tensorflow:\n",
      "INFO:tensorflow:26000 0.91721034\n",
      "INFO:tensorflow:On validation\n"
     ]
    },
    {
     "name": "stderr",
     "output_type": "stream",
     "text": [
      "/data/jwhughes/tf_env/lib/python3.6/site-packages/ipykernel_launcher.py:119: DeprecationWarning: using a non-integer array as obj in delete will result in an error in the future\n",
      "/data/jwhughes/tf_env/lib/python3.6/site-packages/ipykernel_launcher.py:120: DeprecationWarning: using a non-integer array as obj in delete will result in an error in the future\n"
     ]
    },
    {
     "name": "stdout",
     "output_type": "stream",
     "text": [
      "INFO:tensorflow:Our macro AUC:     0.9221002349539692\n",
      "INFO:tensorflow:Our micro AUC:     0.9518329840501725\n",
      "INFO:tensorflow:2018-11-12 22:02:34.048078: 0, DNase, NaN\n",
      "INFO:tensorflow:2018-11-12 22:02:34.049175: 1, CTCF, 0.974899\n",
      "INFO:tensorflow:2018-11-12 22:02:34.063788: 2, Pol2, 0.970983\n",
      "INFO:tensorflow:2018-11-12 22:02:34.077951: 3, YY1, 0.969321\n",
      "INFO:tensorflow:2018-11-12 22:02:34.092128: 4, p300, 0.883097\n",
      "INFO:tensorflow:2018-11-12 22:02:34.106615: 5, TAF1, 0.987194\n",
      "INFO:tensorflow:2018-11-12 22:02:34.120790: 6, Pol2-4H8, 0.945370\n",
      "INFO:tensorflow:2018-11-12 22:02:34.134933: 7, c-Myc, 0.967612\n",
      "INFO:tensorflow:2018-11-12 22:02:34.148756: 8, Rad21, 0.973469\n",
      "INFO:tensorflow:2018-11-12 22:02:34.163314: 9, Max, 0.916149\n",
      "INFO:tensorflow:2018-11-12 22:02:34.177386: 10, NRSF, 0.948017\n",
      "INFO:tensorflow:2018-11-12 22:02:34.191518: 11, GABP, 0.962928\n",
      "INFO:tensorflow:2018-11-12 22:02:34.205402: 12, EZH2, 0.898994\n",
      "INFO:tensorflow:2018-11-12 22:02:34.219515: 13, CEBPB, 0.784876\n",
      "INFO:tensorflow:2018-11-12 22:02:34.234042: 14, c-Jun, 0.821725\n",
      "INFO:tensorflow:2018-11-12 22:02:34.248019: 15, ZBTB33, 0.954743\n",
      "INFO:tensorflow:2018-11-12 22:02:34.262080: 16, USF2, 0.850549\n",
      "INFO:tensorflow:2018-11-12 22:02:34.276246: 17, USF-1, 0.876373\n",
      "INFO:tensorflow:2018-11-12 22:02:34.290270: 18, TBP, 0.935335\n",
      "INFO:tensorflow:2018-11-12 22:02:34.304288: 19, RFX5, 0.898269\n",
      "INFO:tensorflow:\n",
      "INFO:tensorflow:27000 0.44842455\n",
      "INFO:tensorflow:On validation\n"
     ]
    },
    {
     "name": "stderr",
     "output_type": "stream",
     "text": [
      "/data/jwhughes/tf_env/lib/python3.6/site-packages/ipykernel_launcher.py:119: DeprecationWarning: using a non-integer array as obj in delete will result in an error in the future\n",
      "/data/jwhughes/tf_env/lib/python3.6/site-packages/ipykernel_launcher.py:120: DeprecationWarning: using a non-integer array as obj in delete will result in an error in the future\n"
     ]
    },
    {
     "name": "stdout",
     "output_type": "stream",
     "text": [
      "INFO:tensorflow:Our macro AUC:     0.9061411057241409\n",
      "INFO:tensorflow:Our micro AUC:     0.9389425067157035\n",
      "INFO:tensorflow:2018-11-12 22:03:56.417410: 0, DNase, NaN\n",
      "INFO:tensorflow:2018-11-12 22:03:56.418696: 1, CTCF, 0.971899\n",
      "INFO:tensorflow:2018-11-12 22:03:56.433064: 2, Pol2, 0.959171\n",
      "INFO:tensorflow:2018-11-12 22:03:56.447177: 3, YY1, 0.953236\n",
      "INFO:tensorflow:2018-11-12 22:03:56.461295: 4, p300, 0.876714\n",
      "INFO:tensorflow:2018-11-12 22:03:56.475444: 5, TAF1, 0.963342\n",
      "INFO:tensorflow:2018-11-12 22:03:56.489580: 6, Pol2-4H8, 0.921239\n",
      "INFO:tensorflow:2018-11-12 22:03:56.503729: 7, c-Myc, 0.958590\n",
      "INFO:tensorflow:2018-11-12 22:03:56.517717: 8, Rad21, 0.990179\n",
      "INFO:tensorflow:2018-11-12 22:03:56.531773: 9, Max, 0.920654\n",
      "INFO:tensorflow:2018-11-12 22:03:56.545827: 10, NRSF, 0.925829\n",
      "INFO:tensorflow:2018-11-12 22:03:56.559738: 11, GABP, 0.941322\n",
      "INFO:tensorflow:2018-11-12 22:03:56.573558: 12, EZH2, 0.731159\n",
      "INFO:tensorflow:2018-11-12 22:03:56.587383: 13, CEBPB, 0.790387\n",
      "INFO:tensorflow:2018-11-12 22:03:56.601286: 14, c-Jun, 0.843152\n",
      "INFO:tensorflow:2018-11-12 22:03:56.615125: 15, ZBTB33, 0.939799\n",
      "INFO:tensorflow:2018-11-12 22:03:56.629125: 16, USF2, 0.880611\n",
      "INFO:tensorflow:2018-11-12 22:03:56.643499: 17, USF-1, 0.853569\n",
      "INFO:tensorflow:2018-11-12 22:03:56.657878: 18, TBP, 0.932338\n",
      "INFO:tensorflow:2018-11-12 22:03:56.672383: 19, RFX5, 0.863491\n",
      "INFO:tensorflow:\n",
      "INFO:tensorflow:28000 0.35950094\n",
      "INFO:tensorflow:On validation\n"
     ]
    },
    {
     "name": "stderr",
     "output_type": "stream",
     "text": [
      "/data/jwhughes/tf_env/lib/python3.6/site-packages/ipykernel_launcher.py:119: DeprecationWarning: using a non-integer array as obj in delete will result in an error in the future\n",
      "/data/jwhughes/tf_env/lib/python3.6/site-packages/ipykernel_launcher.py:120: DeprecationWarning: using a non-integer array as obj in delete will result in an error in the future\n"
     ]
    },
    {
     "name": "stdout",
     "output_type": "stream",
     "text": [
      "INFO:tensorflow:Our macro AUC:     0.9229785278809758\n",
      "INFO:tensorflow:Our micro AUC:     0.9474957733792142\n",
      "INFO:tensorflow:2018-11-12 22:05:17.716238: 0, DNase, NaN\n",
      "INFO:tensorflow:2018-11-12 22:05:17.717440: 1, CTCF, 0.986806\n",
      "INFO:tensorflow:2018-11-12 22:05:17.732617: 2, Pol2, 0.910698\n",
      "INFO:tensorflow:2018-11-12 22:05:17.746647: 3, YY1, 0.947978\n",
      "INFO:tensorflow:2018-11-12 22:05:17.760943: 4, p300, 0.883772\n",
      "INFO:tensorflow:2018-11-12 22:05:17.774999: 5, TAF1, 0.968601\n",
      "INFO:tensorflow:2018-11-12 22:05:17.789345: 6, Pol2-4H8, 0.928010\n",
      "INFO:tensorflow:2018-11-12 22:05:17.803465: 7, c-Myc, 0.958933\n",
      "INFO:tensorflow:2018-11-12 22:05:17.817316: 8, Rad21, 0.986719\n",
      "INFO:tensorflow:2018-11-12 22:05:17.831425: 9, Max, 0.931285\n",
      "INFO:tensorflow:2018-11-12 22:05:17.845231: 10, NRSF, 0.937017\n",
      "INFO:tensorflow:2018-11-12 22:05:17.858942: 11, GABP, 0.945589\n",
      "INFO:tensorflow:2018-11-12 22:05:17.872528: 12, EZH2, 0.793780\n",
      "INFO:tensorflow:2018-11-12 22:05:17.886634: 13, CEBPB, 0.795274\n",
      "INFO:tensorflow:2018-11-12 22:05:17.900420: 14, c-Jun, 0.900529\n",
      "INFO:tensorflow:2018-11-12 22:05:17.914060: 15, ZBTB33, 0.925361\n",
      "INFO:tensorflow:2018-11-12 22:05:17.927829: 16, USF2, 0.963418\n",
      "INFO:tensorflow:2018-11-12 22:05:17.941445: 17, USF-1, 0.902641\n",
      "INFO:tensorflow:2018-11-12 22:05:17.955189: 18, TBP, 0.936466\n",
      "INFO:tensorflow:2018-11-12 22:05:17.969172: 19, RFX5, 0.933715\n",
      "INFO:tensorflow:\n",
      "INFO:tensorflow:29000 0.49027628\n",
      "INFO:tensorflow:On validation\n"
     ]
    },
    {
     "name": "stderr",
     "output_type": "stream",
     "text": [
      "/data/jwhughes/tf_env/lib/python3.6/site-packages/ipykernel_launcher.py:119: DeprecationWarning: using a non-integer array as obj in delete will result in an error in the future\n",
      "/data/jwhughes/tf_env/lib/python3.6/site-packages/ipykernel_launcher.py:120: DeprecationWarning: using a non-integer array as obj in delete will result in an error in the future\n"
     ]
    },
    {
     "name": "stdout",
     "output_type": "stream",
     "text": [
      "INFO:tensorflow:Our macro AUC:     0.9150918370298232\n",
      "INFO:tensorflow:Our micro AUC:     0.9409204729529154\n",
      "INFO:tensorflow:2018-11-12 22:06:39.130633: 0, DNase, NaN\n",
      "INFO:tensorflow:2018-11-12 22:06:39.131804: 1, CTCF, 0.984718\n",
      "INFO:tensorflow:2018-11-12 22:06:39.146073: 2, Pol2, 0.950724\n",
      "INFO:tensorflow:2018-11-12 22:06:39.160118: 3, YY1, 0.953237\n",
      "INFO:tensorflow:2018-11-12 22:06:39.174531: 4, p300, 0.890257\n",
      "INFO:tensorflow:2018-11-12 22:06:39.188527: 5, TAF1, 0.963971\n",
      "INFO:tensorflow:2018-11-12 22:06:39.202582: 6, Pol2-4H8, 0.920043\n",
      "INFO:tensorflow:2018-11-12 22:06:39.216656: 7, c-Myc, 0.959816\n",
      "INFO:tensorflow:2018-11-12 22:06:39.230521: 8, Rad21, 0.988496\n",
      "INFO:tensorflow:2018-11-12 22:06:39.244259: 9, Max, 0.923840\n",
      "INFO:tensorflow:2018-11-12 22:06:39.258035: 10, NRSF, 0.945575\n",
      "INFO:tensorflow:2018-11-12 22:06:39.271556: 11, GABP, 0.943658\n",
      "INFO:tensorflow:2018-11-12 22:06:39.285000: 12, EZH2, 0.765605\n",
      "INFO:tensorflow:2018-11-12 22:06:39.298392: 13, CEBPB, 0.798009\n",
      "INFO:tensorflow:2018-11-12 22:06:39.312425: 14, c-Jun, 0.810727\n",
      "INFO:tensorflow:2018-11-12 22:06:39.326053: 15, ZBTB33, 0.943728\n",
      "INFO:tensorflow:2018-11-12 22:06:39.339572: 16, USF2, 0.913771\n",
      "INFO:tensorflow:2018-11-12 22:06:39.354123: 17, USF-1, 0.870597\n",
      "INFO:tensorflow:2018-11-12 22:06:39.368520: 18, TBP, 0.933196\n",
      "INFO:tensorflow:2018-11-12 22:06:39.382478: 19, RFX5, 0.926777\n",
      "INFO:tensorflow:\n",
      "INFO:tensorflow:30000 0.43080053\n",
      "INFO:tensorflow:On validation\n"
     ]
    },
    {
     "name": "stderr",
     "output_type": "stream",
     "text": [
      "/data/jwhughes/tf_env/lib/python3.6/site-packages/ipykernel_launcher.py:119: DeprecationWarning: using a non-integer array as obj in delete will result in an error in the future\n",
      "/data/jwhughes/tf_env/lib/python3.6/site-packages/ipykernel_launcher.py:120: DeprecationWarning: using a non-integer array as obj in delete will result in an error in the future\n"
     ]
    },
    {
     "name": "stdout",
     "output_type": "stream",
     "text": [
      "INFO:tensorflow:Our macro AUC:     0.9164087090744166\n",
      "INFO:tensorflow:Our micro AUC:     0.9432251834709033\n",
      "INFO:tensorflow:2018-11-12 22:08:00.664288: 0, DNase, NaN\n",
      "INFO:tensorflow:2018-11-12 22:08:00.665365: 1, CTCF, 0.983225\n",
      "INFO:tensorflow:2018-11-12 22:08:00.679691: 2, Pol2, 0.954565\n",
      "INFO:tensorflow:2018-11-12 22:08:00.693496: 3, YY1, 0.953768\n",
      "INFO:tensorflow:2018-11-12 22:08:00.707365: 4, p300, 0.893822\n",
      "INFO:tensorflow:2018-11-12 22:08:00.721448: 5, TAF1, 0.955678\n",
      "INFO:tensorflow:2018-11-12 22:08:00.735322: 6, Pol2-4H8, 0.921879\n",
      "INFO:tensorflow:2018-11-12 22:08:00.749125: 7, c-Myc, 0.948269\n",
      "INFO:tensorflow:2018-11-12 22:08:00.763054: 8, Rad21, 0.990140\n",
      "INFO:tensorflow:2018-11-12 22:08:00.777112: 9, Max, 0.913733\n",
      "INFO:tensorflow:2018-11-12 22:08:00.790978: 10, NRSF, 0.926798\n",
      "INFO:tensorflow:2018-11-12 22:08:00.804858: 11, GABP, 0.932930\n",
      "INFO:tensorflow:2018-11-12 22:08:00.818608: 12, EZH2, 0.830719\n",
      "INFO:tensorflow:2018-11-12 22:08:00.832374: 13, CEBPB, 0.803410\n",
      "INFO:tensorflow:2018-11-12 22:08:00.846418: 14, c-Jun, 0.827921\n",
      "INFO:tensorflow:2018-11-12 22:08:00.860328: 15, ZBTB33, 0.930580\n",
      "INFO:tensorflow:2018-11-12 22:08:00.874280: 16, USF2, 0.940522\n",
      "INFO:tensorflow:2018-11-12 22:08:00.888290: 17, USF-1, 0.847193\n",
      "INFO:tensorflow:2018-11-12 22:08:00.902248: 18, TBP, 0.937252\n",
      "INFO:tensorflow:2018-11-12 22:08:00.916070: 19, RFX5, 0.919361\n",
      "INFO:tensorflow:\n",
      "INFO:tensorflow:31000 0.117652304\n",
      "INFO:tensorflow:On validation\n"
     ]
    },
    {
     "name": "stderr",
     "output_type": "stream",
     "text": [
      "/data/jwhughes/tf_env/lib/python3.6/site-packages/ipykernel_launcher.py:119: DeprecationWarning: using a non-integer array as obj in delete will result in an error in the future\n",
      "/data/jwhughes/tf_env/lib/python3.6/site-packages/ipykernel_launcher.py:120: DeprecationWarning: using a non-integer array as obj in delete will result in an error in the future\n"
     ]
    },
    {
     "name": "stdout",
     "output_type": "stream",
     "text": [
      "INFO:tensorflow:Our macro AUC:     0.8906859761590665\n",
      "INFO:tensorflow:Our micro AUC:     0.9247693365644851\n",
      "INFO:tensorflow:2018-11-12 22:09:23.113334: 0, DNase, NaN\n",
      "INFO:tensorflow:2018-11-12 22:09:23.114650: 1, CTCF, 0.971597\n",
      "INFO:tensorflow:2018-11-12 22:09:23.129196: 2, Pol2, 0.906691\n",
      "INFO:tensorflow:2018-11-12 22:09:23.143261: 3, YY1, 0.946450\n",
      "INFO:tensorflow:2018-11-12 22:09:23.156871: 4, p300, 0.869985\n",
      "INFO:tensorflow:2018-11-12 22:09:23.170966: 5, TAF1, 0.953303\n",
      "INFO:tensorflow:2018-11-12 22:09:23.185014: 6, Pol2-4H8, 0.899616\n",
      "INFO:tensorflow:2018-11-12 22:09:23.198895: 7, c-Myc, 0.932773\n",
      "INFO:tensorflow:2018-11-12 22:09:23.212492: 8, Rad21, 0.979975\n",
      "INFO:tensorflow:2018-11-12 22:09:23.226303: 9, Max, 0.905625\n",
      "INFO:tensorflow:2018-11-12 22:09:23.239983: 10, NRSF, 0.921001\n",
      "INFO:tensorflow:2018-11-12 22:09:23.253577: 11, GABP, 0.914824\n",
      "INFO:tensorflow:2018-11-12 22:09:23.267148: 12, EZH2, 0.708691\n",
      "INFO:tensorflow:2018-11-12 22:09:23.280734: 13, CEBPB, 0.800811\n",
      "INFO:tensorflow:2018-11-12 22:09:23.294509: 14, c-Jun, 0.861477\n",
      "INFO:tensorflow:2018-11-12 22:09:23.308148: 15, ZBTB33, 0.843452\n",
      "INFO:tensorflow:2018-11-12 22:09:23.321793: 16, USF2, 0.870406\n",
      "INFO:tensorflow:2018-11-12 22:09:23.335366: 17, USF-1, 0.836805\n",
      "INFO:tensorflow:2018-11-12 22:09:23.349093: 18, TBP, 0.905402\n",
      "INFO:tensorflow:2018-11-12 22:09:23.362847: 19, RFX5, 0.894149\n",
      "INFO:tensorflow:\n",
      "INFO:tensorflow:32000 0.43467054\n",
      "INFO:tensorflow:On validation\n"
     ]
    },
    {
     "name": "stderr",
     "output_type": "stream",
     "text": [
      "/data/jwhughes/tf_env/lib/python3.6/site-packages/ipykernel_launcher.py:119: DeprecationWarning: using a non-integer array as obj in delete will result in an error in the future\n",
      "/data/jwhughes/tf_env/lib/python3.6/site-packages/ipykernel_launcher.py:120: DeprecationWarning: using a non-integer array as obj in delete will result in an error in the future\n"
     ]
    },
    {
     "name": "stdout",
     "output_type": "stream",
     "text": [
      "INFO:tensorflow:Our macro AUC:     0.8817897326790893\n",
      "INFO:tensorflow:Our micro AUC:     0.9148670382264243\n",
      "INFO:tensorflow:2018-11-12 22:10:44.207384: 0, DNase, NaN\n",
      "INFO:tensorflow:2018-11-12 22:10:44.208389: 1, CTCF, 0.976394\n",
      "INFO:tensorflow:2018-11-12 22:10:44.222392: 2, Pol2, 0.883889\n",
      "INFO:tensorflow:2018-11-12 22:10:44.236349: 3, YY1, 0.927372\n",
      "INFO:tensorflow:2018-11-12 22:10:44.250199: 4, p300, 0.858988\n",
      "INFO:tensorflow:2018-11-12 22:10:44.264369: 5, TAF1, 0.948678\n",
      "INFO:tensorflow:2018-11-12 22:10:44.278243: 6, Pol2-4H8, 0.833086\n",
      "INFO:tensorflow:2018-11-12 22:10:44.292356: 7, c-Myc, 0.937373\n",
      "INFO:tensorflow:2018-11-12 22:10:44.306342: 8, Rad21, 0.972258\n",
      "INFO:tensorflow:2018-11-12 22:10:44.320325: 9, Max, 0.896561\n",
      "INFO:tensorflow:2018-11-12 22:10:44.334351: 10, NRSF, 0.905586\n",
      "INFO:tensorflow:2018-11-12 22:10:44.348215: 11, GABP, 0.911026\n",
      "INFO:tensorflow:2018-11-12 22:10:44.362045: 12, EZH2, 0.761977\n",
      "INFO:tensorflow:2018-11-12 22:10:44.375918: 13, CEBPB, 0.748079\n",
      "INFO:tensorflow:2018-11-12 22:10:44.390303: 14, c-Jun, 0.820582\n",
      "INFO:tensorflow:2018-11-12 22:10:44.404325: 15, ZBTB33, 0.849376\n",
      "INFO:tensorflow:2018-11-12 22:10:44.418927: 16, USF2, 0.882230\n",
      "INFO:tensorflow:2018-11-12 22:10:44.433409: 17, USF-1, 0.852399\n",
      "INFO:tensorflow:2018-11-12 22:10:44.447964: 18, TBP, 0.908635\n",
      "INFO:tensorflow:2018-11-12 22:10:44.462468: 19, RFX5, 0.879514\n",
      "INFO:tensorflow:\n",
      "INFO:tensorflow:33000 0.39692864\n",
      "INFO:tensorflow:On validation\n"
     ]
    },
    {
     "name": "stderr",
     "output_type": "stream",
     "text": [
      "/data/jwhughes/tf_env/lib/python3.6/site-packages/ipykernel_launcher.py:119: DeprecationWarning: using a non-integer array as obj in delete will result in an error in the future\n",
      "/data/jwhughes/tf_env/lib/python3.6/site-packages/ipykernel_launcher.py:120: DeprecationWarning: using a non-integer array as obj in delete will result in an error in the future\n"
     ]
    },
    {
     "name": "stdout",
     "output_type": "stream",
     "text": [
      "INFO:tensorflow:Our macro AUC:     0.9067282025000518\n",
      "INFO:tensorflow:Our micro AUC:     0.9270904218160058\n",
      "INFO:tensorflow:2018-11-12 22:12:06.291127: 0, DNase, NaN\n",
      "INFO:tensorflow:2018-11-12 22:12:06.292273: 1, CTCF, 0.974619\n",
      "INFO:tensorflow:2018-11-12 22:12:06.306880: 2, Pol2, 0.890555\n",
      "INFO:tensorflow:2018-11-12 22:12:06.320924: 3, YY1, 0.939796\n",
      "INFO:tensorflow:2018-11-12 22:12:06.334764: 4, p300, 0.909174\n",
      "INFO:tensorflow:2018-11-12 22:12:06.348459: 5, TAF1, 0.963720\n",
      "INFO:tensorflow:2018-11-12 22:12:06.362673: 6, Pol2-4H8, 0.880115\n",
      "INFO:tensorflow:2018-11-12 22:12:06.376801: 7, c-Myc, 0.957862\n",
      "INFO:tensorflow:2018-11-12 22:12:06.390592: 8, Rad21, 0.984340\n",
      "INFO:tensorflow:2018-11-12 22:12:06.404441: 9, Max, 0.930868\n",
      "INFO:tensorflow:2018-11-12 22:12:06.418361: 10, NRSF, 0.926416\n",
      "INFO:tensorflow:2018-11-12 22:12:06.432262: 11, GABP, 0.948933\n",
      "INFO:tensorflow:2018-11-12 22:12:06.446087: 12, EZH2, 0.680730\n",
      "INFO:tensorflow:2018-11-12 22:12:06.459778: 13, CEBPB, 0.772441\n",
      "INFO:tensorflow:2018-11-12 22:12:06.473885: 14, c-Jun, 0.853270\n",
      "INFO:tensorflow:2018-11-12 22:12:06.487853: 15, ZBTB33, 0.931524\n",
      "INFO:tensorflow:2018-11-12 22:12:06.501573: 16, USF2, 0.939982\n",
      "INFO:tensorflow:2018-11-12 22:12:06.515427: 17, USF-1, 0.876543\n",
      "INFO:tensorflow:2018-11-12 22:12:06.529350: 18, TBP, 0.911473\n",
      "INFO:tensorflow:2018-11-12 22:12:06.543428: 19, RFX5, 0.955475\n",
      "INFO:tensorflow:\n",
      "INFO:tensorflow:34000 0.61664987\n",
      "INFO:tensorflow:On validation\n"
     ]
    },
    {
     "name": "stderr",
     "output_type": "stream",
     "text": [
      "/data/jwhughes/tf_env/lib/python3.6/site-packages/ipykernel_launcher.py:119: DeprecationWarning: using a non-integer array as obj in delete will result in an error in the future\n",
      "/data/jwhughes/tf_env/lib/python3.6/site-packages/ipykernel_launcher.py:120: DeprecationWarning: using a non-integer array as obj in delete will result in an error in the future\n"
     ]
    },
    {
     "name": "stdout",
     "output_type": "stream",
     "text": [
      "INFO:tensorflow:Our macro AUC:     0.8975514578036338\n",
      "INFO:tensorflow:Our micro AUC:     0.925508966174451\n",
      "INFO:tensorflow:2018-11-12 22:13:27.240196: 0, DNase, NaN\n",
      "INFO:tensorflow:2018-11-12 22:13:27.241247: 1, CTCF, 0.966511\n",
      "INFO:tensorflow:2018-11-12 22:13:27.255327: 2, Pol2, 0.868286\n",
      "INFO:tensorflow:2018-11-12 22:13:27.269105: 3, YY1, 0.928946\n",
      "INFO:tensorflow:2018-11-12 22:13:27.282949: 4, p300, 0.887145\n",
      "INFO:tensorflow:2018-11-12 22:13:27.297272: 5, TAF1, 0.962492\n",
      "INFO:tensorflow:2018-11-12 22:13:27.311308: 6, Pol2-4H8, 0.903060\n",
      "INFO:tensorflow:2018-11-12 22:13:27.325091: 7, c-Myc, 0.957936\n",
      "INFO:tensorflow:2018-11-12 22:13:27.338906: 8, Rad21, 0.976862\n",
      "INFO:tensorflow:2018-11-12 22:13:27.352876: 9, Max, 0.914683\n",
      "INFO:tensorflow:2018-11-12 22:13:27.366846: 10, NRSF, 0.932871\n",
      "INFO:tensorflow:2018-11-12 22:13:27.380680: 11, GABP, 0.944638\n",
      "INFO:tensorflow:2018-11-12 22:13:27.394517: 12, EZH2, 0.749561\n",
      "INFO:tensorflow:2018-11-12 22:13:27.408211: 13, CEBPB, 0.756300\n",
      "INFO:tensorflow:2018-11-12 22:13:27.422435: 14, c-Jun, 0.825169\n",
      "INFO:tensorflow:2018-11-12 22:13:27.436408: 15, ZBTB33, 0.855824\n",
      "INFO:tensorflow:2018-11-12 22:13:27.450227: 16, USF2, 0.908150\n",
      "INFO:tensorflow:2018-11-12 22:13:27.464001: 17, USF-1, 0.870084\n",
      "INFO:tensorflow:2018-11-12 22:13:27.477957: 18, TBP, 0.936979\n",
      "INFO:tensorflow:2018-11-12 22:13:27.491755: 19, RFX5, 0.907980\n",
      "INFO:tensorflow:\n",
      "INFO:tensorflow:35000 0.7548273\n",
      "INFO:tensorflow:On validation\n"
     ]
    },
    {
     "name": "stderr",
     "output_type": "stream",
     "text": [
      "/data/jwhughes/tf_env/lib/python3.6/site-packages/ipykernel_launcher.py:119: DeprecationWarning: using a non-integer array as obj in delete will result in an error in the future\n",
      "/data/jwhughes/tf_env/lib/python3.6/site-packages/ipykernel_launcher.py:120: DeprecationWarning: using a non-integer array as obj in delete will result in an error in the future\n"
     ]
    },
    {
     "name": "stdout",
     "output_type": "stream",
     "text": [
      "INFO:tensorflow:Our macro AUC:     0.9148800155820572\n",
      "INFO:tensorflow:Our micro AUC:     0.9475736147900908\n",
      "INFO:tensorflow:2018-11-12 22:14:48.797686: 0, DNase, NaN\n",
      "INFO:tensorflow:2018-11-12 22:14:48.798787: 1, CTCF, 0.982695\n",
      "INFO:tensorflow:2018-11-12 22:14:48.812847: 2, Pol2, 0.937598\n",
      "INFO:tensorflow:2018-11-12 22:14:48.826566: 3, YY1, 0.950897\n",
      "INFO:tensorflow:2018-11-12 22:14:48.840267: 4, p300, 0.896909\n",
      "INFO:tensorflow:2018-11-12 22:14:48.854374: 5, TAF1, 0.980222\n",
      "INFO:tensorflow:2018-11-12 22:14:48.868184: 6, Pol2-4H8, 0.937609\n",
      "INFO:tensorflow:2018-11-12 22:14:48.881934: 7, c-Myc, 0.964476\n",
      "INFO:tensorflow:2018-11-12 22:14:48.895705: 8, Rad21, 0.975428\n",
      "INFO:tensorflow:2018-11-12 22:14:48.909610: 9, Max, 0.948261\n",
      "INFO:tensorflow:2018-11-12 22:14:48.923370: 10, NRSF, 0.931310\n",
      "INFO:tensorflow:2018-11-12 22:14:48.937200: 11, GABP, 0.947677\n",
      "INFO:tensorflow:2018-11-12 22:14:48.950987: 12, EZH2, 0.917501\n",
      "INFO:tensorflow:2018-11-12 22:14:48.964589: 13, CEBPB, 0.768012\n",
      "INFO:tensorflow:2018-11-12 22:14:48.978703: 14, c-Jun, 0.762131\n",
      "INFO:tensorflow:2018-11-12 22:14:48.992510: 15, ZBTB33, 0.861216\n",
      "INFO:tensorflow:2018-11-12 22:14:49.006280: 16, USF2, 0.907261\n",
      "INFO:tensorflow:2018-11-12 22:14:49.020206: 17, USF-1, 0.867016\n",
      "INFO:tensorflow:2018-11-12 22:14:49.034089: 18, TBP, 0.956358\n",
      "INFO:tensorflow:2018-11-12 22:14:49.047997: 19, RFX5, 0.890144\n",
      "INFO:tensorflow:\n",
      "INFO:tensorflow:36000 0.26145533\n",
      "INFO:tensorflow:On validation\n"
     ]
    },
    {
     "name": "stderr",
     "output_type": "stream",
     "text": [
      "/data/jwhughes/tf_env/lib/python3.6/site-packages/ipykernel_launcher.py:119: DeprecationWarning: using a non-integer array as obj in delete will result in an error in the future\n",
      "/data/jwhughes/tf_env/lib/python3.6/site-packages/ipykernel_launcher.py:120: DeprecationWarning: using a non-integer array as obj in delete will result in an error in the future\n"
     ]
    },
    {
     "name": "stdout",
     "output_type": "stream",
     "text": [
      "INFO:tensorflow:Our macro AUC:     0.9309921117584554\n",
      "INFO:tensorflow:Our micro AUC:     0.9524573175641327\n",
      "INFO:tensorflow:2018-11-12 22:16:10.674080: 0, DNase, NaN\n",
      "INFO:tensorflow:2018-11-12 22:16:10.675271: 1, CTCF, 0.984896\n",
      "INFO:tensorflow:2018-11-12 22:16:10.689529: 2, Pol2, 0.951661\n",
      "INFO:tensorflow:2018-11-12 22:16:10.703455: 3, YY1, 0.954146\n",
      "INFO:tensorflow:2018-11-12 22:16:10.717521: 4, p300, 0.865236\n",
      "INFO:tensorflow:2018-11-12 22:16:10.731688: 5, TAF1, 0.985454\n",
      "INFO:tensorflow:2018-11-12 22:16:10.745768: 6, Pol2-4H8, 0.958860\n",
      "INFO:tensorflow:2018-11-12 22:16:10.760033: 7, c-Myc, 0.972429\n",
      "INFO:tensorflow:2018-11-12 22:16:10.774391: 8, Rad21, 0.983997\n",
      "INFO:tensorflow:2018-11-12 22:16:10.788872: 9, Max, 0.941123\n",
      "INFO:tensorflow:2018-11-12 22:16:10.803207: 10, NRSF, 0.962045\n",
      "INFO:tensorflow:2018-11-12 22:16:10.817460: 11, GABP, 0.945026\n",
      "INFO:tensorflow:2018-11-12 22:16:10.831754: 12, EZH2, 0.934816\n",
      "INFO:tensorflow:2018-11-12 22:16:10.845915: 13, CEBPB, 0.764168\n",
      "INFO:tensorflow:2018-11-12 22:16:10.860500: 14, c-Jun, 0.823190\n",
      "INFO:tensorflow:2018-11-12 22:16:10.874723: 15, ZBTB33, 0.932727\n",
      "INFO:tensorflow:2018-11-12 22:16:10.888979: 16, USF2, 0.929344\n",
      "INFO:tensorflow:2018-11-12 22:16:10.903064: 17, USF-1, 0.909147\n",
      "INFO:tensorflow:2018-11-12 22:16:10.917186: 18, TBP, 0.957838\n",
      "INFO:tensorflow:2018-11-12 22:16:10.931478: 19, RFX5, 0.932745\n",
      "INFO:tensorflow:\n",
      "INFO:tensorflow:37000 1.047346\n",
      "INFO:tensorflow:On validation\n"
     ]
    },
    {
     "name": "stderr",
     "output_type": "stream",
     "text": [
      "/data/jwhughes/tf_env/lib/python3.6/site-packages/ipykernel_launcher.py:119: DeprecationWarning: using a non-integer array as obj in delete will result in an error in the future\n",
      "/data/jwhughes/tf_env/lib/python3.6/site-packages/ipykernel_launcher.py:120: DeprecationWarning: using a non-integer array as obj in delete will result in an error in the future\n"
     ]
    },
    {
     "name": "stdout",
     "output_type": "stream",
     "text": [
      "INFO:tensorflow:Our macro AUC:     0.9012133758095208\n",
      "INFO:tensorflow:Our micro AUC:     0.9341079340857069\n",
      "INFO:tensorflow:2018-11-12 22:17:32.187886: 0, DNase, NaN\n",
      "INFO:tensorflow:2018-11-12 22:17:32.189139: 1, CTCF, 0.978502\n",
      "INFO:tensorflow:2018-11-12 22:17:32.203554: 2, Pol2, 0.888506\n",
      "INFO:tensorflow:2018-11-12 22:17:32.217067: 3, YY1, 0.952393\n",
      "INFO:tensorflow:2018-11-12 22:17:32.230798: 4, p300, 0.862064\n",
      "INFO:tensorflow:2018-11-12 22:17:32.244801: 5, TAF1, 0.970460\n",
      "INFO:tensorflow:2018-11-12 22:17:32.258659: 6, Pol2-4H8, 0.920319\n",
      "INFO:tensorflow:2018-11-12 22:17:32.272581: 7, c-Myc, 0.915915\n",
      "INFO:tensorflow:2018-11-12 22:17:32.286417: 8, Rad21, 0.979692\n",
      "INFO:tensorflow:2018-11-12 22:17:32.300528: 9, Max, 0.922330\n",
      "INFO:tensorflow:2018-11-12 22:17:32.314817: 10, NRSF, 0.921637\n",
      "INFO:tensorflow:2018-11-12 22:17:32.329074: 11, GABP, 0.948520\n",
      "INFO:tensorflow:2018-11-12 22:17:32.342897: 12, EZH2, 0.886448\n",
      "INFO:tensorflow:2018-11-12 22:17:32.356393: 13, CEBPB, 0.742941\n",
      "INFO:tensorflow:2018-11-12 22:17:32.370358: 14, c-Jun, 0.756678\n",
      "INFO:tensorflow:2018-11-12 22:17:32.384012: 15, ZBTB33, 0.919022\n",
      "INFO:tensorflow:2018-11-12 22:17:32.397734: 16, USF2, 0.898196\n",
      "INFO:tensorflow:2018-11-12 22:17:32.411410: 17, USF-1, 0.847036\n",
      "INFO:tensorflow:2018-11-12 22:17:32.425095: 18, TBP, 0.942675\n",
      "INFO:tensorflow:2018-11-12 22:17:32.438719: 19, RFX5, 0.869721\n",
      "INFO:tensorflow:\n",
      "INFO:tensorflow:38000 0.31999037\n",
      "INFO:tensorflow:On validation\n"
     ]
    },
    {
     "name": "stderr",
     "output_type": "stream",
     "text": [
      "/data/jwhughes/tf_env/lib/python3.6/site-packages/ipykernel_launcher.py:119: DeprecationWarning: using a non-integer array as obj in delete will result in an error in the future\n",
      "/data/jwhughes/tf_env/lib/python3.6/site-packages/ipykernel_launcher.py:120: DeprecationWarning: using a non-integer array as obj in delete will result in an error in the future\n"
     ]
    },
    {
     "name": "stdout",
     "output_type": "stream",
     "text": [
      "INFO:tensorflow:Our macro AUC:     0.8999875540773914\n",
      "INFO:tensorflow:Our micro AUC:     0.9281696004656216\n",
      "INFO:tensorflow:2018-11-12 22:18:54.036380: 0, DNase, NaN\n",
      "INFO:tensorflow:2018-11-12 22:18:54.037662: 1, CTCF, 0.982470\n",
      "INFO:tensorflow:2018-11-12 22:18:54.051790: 2, Pol2, 0.932784\n",
      "INFO:tensorflow:2018-11-12 22:18:54.065537: 3, YY1, 0.944253\n",
      "INFO:tensorflow:2018-11-12 22:18:54.079166: 4, p300, 0.849721\n",
      "INFO:tensorflow:2018-11-12 22:18:54.093315: 5, TAF1, 0.971209\n",
      "INFO:tensorflow:2018-11-12 22:18:54.107079: 6, Pol2-4H8, 0.895893\n",
      "INFO:tensorflow:2018-11-12 22:18:54.121132: 7, c-Myc, 0.965217\n",
      "INFO:tensorflow:2018-11-12 22:18:54.135301: 8, Rad21, 0.983761\n",
      "INFO:tensorflow:2018-11-12 22:18:54.149366: 9, Max, 0.907048\n",
      "INFO:tensorflow:2018-11-12 22:18:54.163639: 10, NRSF, 0.925101\n",
      "INFO:tensorflow:2018-11-12 22:18:54.177631: 11, GABP, 0.942630\n",
      "INFO:tensorflow:2018-11-12 22:18:54.191262: 12, EZH2, 0.848953\n",
      "INFO:tensorflow:2018-11-12 22:18:54.205220: 13, CEBPB, 0.728005\n",
      "INFO:tensorflow:2018-11-12 22:18:54.219540: 14, c-Jun, 0.792463\n",
      "INFO:tensorflow:2018-11-12 22:18:54.233694: 15, ZBTB33, 0.851318\n",
      "INFO:tensorflow:2018-11-12 22:18:54.247571: 16, USF2, 0.910099\n",
      "INFO:tensorflow:2018-11-12 22:18:54.261287: 17, USF-1, 0.855100\n",
      "INFO:tensorflow:2018-11-12 22:18:54.275100: 18, TBP, 0.931214\n",
      "INFO:tensorflow:2018-11-12 22:18:54.288796: 19, RFX5, 0.882525\n",
      "INFO:tensorflow:\n",
      "INFO:tensorflow:39000 0.16215935\n",
      "INFO:tensorflow:On validation\n"
     ]
    },
    {
     "name": "stderr",
     "output_type": "stream",
     "text": [
      "/data/jwhughes/tf_env/lib/python3.6/site-packages/ipykernel_launcher.py:119: DeprecationWarning: using a non-integer array as obj in delete will result in an error in the future\n",
      "/data/jwhughes/tf_env/lib/python3.6/site-packages/ipykernel_launcher.py:120: DeprecationWarning: using a non-integer array as obj in delete will result in an error in the future\n"
     ]
    },
    {
     "name": "stdout",
     "output_type": "stream",
     "text": [
      "INFO:tensorflow:Our macro AUC:     0.8731066125452243\n",
      "INFO:tensorflow:Our micro AUC:     0.9009775748375756\n",
      "INFO:tensorflow:2018-11-12 22:20:15.470397: 0, DNase, NaN\n",
      "INFO:tensorflow:2018-11-12 22:20:15.471494: 1, CTCF, 0.962427\n",
      "INFO:tensorflow:2018-11-12 22:20:15.485366: 2, Pol2, 0.887961\n",
      "INFO:tensorflow:2018-11-12 22:20:15.498948: 3, YY1, 0.937604\n",
      "INFO:tensorflow:2018-11-12 22:20:15.512553: 4, p300, 0.868935\n",
      "INFO:tensorflow:2018-11-12 22:20:15.526473: 5, TAF1, 0.950618\n",
      "INFO:tensorflow:2018-11-12 22:20:15.540046: 6, Pol2-4H8, 0.894143\n",
      "INFO:tensorflow:2018-11-12 22:20:15.553660: 7, c-Myc, 0.935070\n",
      "INFO:tensorflow:2018-11-12 22:20:15.567426: 8, Rad21, 0.965860\n",
      "INFO:tensorflow:2018-11-12 22:20:15.581066: 9, Max, 0.879026\n",
      "INFO:tensorflow:2018-11-12 22:20:15.594750: 10, NRSF, 0.919925\n",
      "INFO:tensorflow:2018-11-12 22:20:15.608301: 11, GABP, 0.900579\n",
      "INFO:tensorflow:2018-11-12 22:20:15.622273: 12, EZH2, 0.620544\n",
      "INFO:tensorflow:2018-11-12 22:20:15.635911: 13, CEBPB, 0.727514\n",
      "INFO:tensorflow:2018-11-12 22:20:15.649898: 14, c-Jun, 0.777415\n",
      "INFO:tensorflow:2018-11-12 22:20:15.663593: 15, ZBTB33, 0.814051\n",
      "INFO:tensorflow:2018-11-12 22:20:15.677261: 16, USF2, 0.938336\n",
      "INFO:tensorflow:2018-11-12 22:20:15.692828: 17, USF-1, 0.821166\n",
      "INFO:tensorflow:2018-11-12 22:20:15.706592: 18, TBP, 0.924590\n",
      "INFO:tensorflow:2018-11-12 22:20:15.720243: 19, RFX5, 0.863264\n",
      "INFO:tensorflow:\n",
      "INFO:tensorflow:40000 0.82233685\n",
      "INFO:tensorflow:On validation\n"
     ]
    },
    {
     "name": "stderr",
     "output_type": "stream",
     "text": [
      "/data/jwhughes/tf_env/lib/python3.6/site-packages/ipykernel_launcher.py:119: DeprecationWarning: using a non-integer array as obj in delete will result in an error in the future\n",
      "/data/jwhughes/tf_env/lib/python3.6/site-packages/ipykernel_launcher.py:120: DeprecationWarning: using a non-integer array as obj in delete will result in an error in the future\n"
     ]
    },
    {
     "name": "stdout",
     "output_type": "stream",
     "text": [
      "INFO:tensorflow:Our macro AUC:     0.9155801635882599\n",
      "INFO:tensorflow:Our micro AUC:     0.9412470610228795\n",
      "INFO:tensorflow:2018-11-12 22:21:36.822921: 0, DNase, NaN\n",
      "INFO:tensorflow:2018-11-12 22:21:36.824064: 1, CTCF, 0.984757\n",
      "INFO:tensorflow:2018-11-12 22:21:36.838416: 2, Pol2, 0.947229\n",
      "INFO:tensorflow:2018-11-12 22:21:36.852200: 3, YY1, 0.947319\n",
      "INFO:tensorflow:2018-11-12 22:21:36.865892: 4, p300, 0.856367\n",
      "INFO:tensorflow:2018-11-12 22:21:36.879892: 5, TAF1, 0.956275\n",
      "INFO:tensorflow:2018-11-12 22:21:36.893661: 6, Pol2-4H8, 0.925407\n",
      "INFO:tensorflow:2018-11-12 22:21:36.907499: 7, c-Myc, 0.967563\n",
      "INFO:tensorflow:2018-11-12 22:21:36.921147: 8, Rad21, 0.987576\n",
      "INFO:tensorflow:2018-11-12 22:21:36.934932: 9, Max, 0.930703\n",
      "INFO:tensorflow:2018-11-12 22:21:36.948786: 10, NRSF, 0.932815\n",
      "INFO:tensorflow:2018-11-12 22:21:36.962572: 11, GABP, 0.936991\n",
      "INFO:tensorflow:2018-11-12 22:21:36.976169: 12, EZH2, 0.923575\n",
      "INFO:tensorflow:2018-11-12 22:21:36.989897: 13, CEBPB, 0.775622\n",
      "INFO:tensorflow:2018-11-12 22:21:37.003912: 14, c-Jun, 0.820290\n",
      "INFO:tensorflow:2018-11-12 22:21:37.017602: 15, ZBTB33, 0.930410\n",
      "INFO:tensorflow:2018-11-12 22:21:37.031504: 16, USF2, 0.904898\n",
      "INFO:tensorflow:2018-11-12 22:21:37.045312: 17, USF-1, 0.866268\n",
      "INFO:tensorflow:2018-11-12 22:21:37.059361: 18, TBP, 0.945021\n",
      "INFO:tensorflow:2018-11-12 22:21:37.073253: 19, RFX5, 0.856938\n",
      "INFO:tensorflow:\n"
     ]
    }
   ],
   "source": [
    "# results = []\n",
    "# model = MLP_with_sequence_CNN(6, [1000, 100, 100, 100, 100, 50], tf.tanh, train_data, valid_data, test_data, shuffle_size=2, radii=[1, 2, 5, 30])\n",
    "# model.train(20000)\n",
    "simple_model.train(20000, lr = 1e-4)\n",
    "# results.append(model.test(455024, mode = Dataset.TEST, log=True))"
   ]
  },
  {
   "cell_type": "code",
   "execution_count": 29,
   "metadata": {
    "scrolled": true
   },
   "outputs": [
    {
     "name": "stdout",
     "output_type": "stream",
     "text": [
      "INFO:tensorflow:Our macro AUC:     0.9021225254397999\n",
      "INFO:tensorflow:Our micro AUC:     0.9456772813235107\n",
      "CTCF 0.979123868574061\n",
      "Pol2 0.983488150636937\n",
      "YY1 0.9827952261306533\n",
      "p300 0.8935112753560639\n",
      "TAF1 0.9853329682608986\n",
      "Pol2-4H8 0.936255822103796\n",
      "c-Myc 0.7957801551551552\n",
      "Rad21 0.9907233151990553\n",
      "Max 0.8860026967925514\n",
      "NRSF 0.896762860727729\n",
      "GABP 0.9563793571055583\n",
      "EZH2 0.8443827414415649\n",
      "CEBPB 0.8112853843400202\n",
      "c-Jun 0.8562812910089405\n",
      "ZBTB33 0.8119068470626084\n",
      "USF2 0.725223856588801\n",
      "USF-1 0.8676070201893273\n",
      "TBP 0.9739747612970885\n",
      "RFX5 0.9635103853853854\n"
     ]
    }
   ],
   "source": [
    "results.append(model.test(8000, mode = Dataset.VALID, log=True))"
   ]
  },
  {
   "cell_type": "code",
   "execution_count": 30,
   "metadata": {},
   "outputs": [
    {
     "name": "stderr",
     "output_type": "stream",
     "text": [
      "/data/jwhughes/tf_env/lib/python3.6/site-packages/ipykernel_launcher.py:116: DeprecationWarning: in the future out of bounds indices will raise an error instead of being ignored by `numpy.delete`.\n",
      "/data/jwhughes/tf_env/lib/python3.6/site-packages/ipykernel_launcher.py:117: DeprecationWarning: in the future out of bounds indices will raise an error instead of being ignored by `numpy.delete`.\n"
     ]
    },
    {
     "name": "stdout",
     "output_type": "stream",
     "text": [
      "INFO:tensorflow:Our macro AUC:     0.851905834109696\n",
      "INFO:tensorflow:Our micro AUC:     0.7835741192770289\n",
      "CTCF 0.9681568925078512\n",
      "Pol2 0.9781566552834768\n",
      "YY1 0.9354210436747934\n",
      "p300 0.9178577385840488\n",
      "TAF1 0.9191128139253342\n",
      "Pol2-4H8 0.7194958846992756\n",
      "c-Myc nan\n",
      "Rad21 nan\n",
      "Max 0.965729171529236\n",
      "NRSF 0.9107298128643159\n",
      "GABP 0.9397988086878593\n",
      "EZH2 0.7601149243695331\n",
      "CEBPB nan\n",
      "c-Jun 0.5816912412536804\n",
      "ZBTB33 nan\n",
      "USF2 0.6929350085113091\n",
      "USF-1 nan\n",
      "TBP 0.7855758475353318\n",
      "RFX5 nan\n"
     ]
    }
   ],
   "source": [
    "results.append(model.test(455024, mode = Dataset.TEST, log=True))"
   ]
  },
  {
   "cell_type": "code",
   "execution_count": 56,
   "metadata": {},
   "outputs": [
    {
     "name": "stdout",
     "output_type": "stream",
     "text": [
      "0.9681568925078512\n",
      "0.9781566552834768\n",
      "0.9354210436747934\n",
      "0.9178577385840488\n",
      "0.9191128139253342\n",
      "0.7194958846992756\n",
      "0.8131469839093066\n",
      "0.9927462535063423\n",
      "0.965729171529236\n",
      "0.9107298128643159\n",
      "0.9397988086878593\n",
      "0.7601149243695331\n",
      "0.8148086612074548\n",
      "0.5816912412536804\n",
      "0.9207133017393866\n",
      "0.6929350085113091\n",
      "0.919459997339733\n",
      "0.7855758475353318\n",
      "0.8149427716852741\n"
     ]
    }
   ],
   "source": [
    "for i in range(19):\n",
    "    print(sklearn.metrics.roc_auc_score(results[-1][1][:,i], results[-1][0][:,i], average='micro'))"
   ]
  },
  {
   "cell_type": "code",
   "execution_count": 104,
   "metadata": {},
   "outputs": [
    {
     "ename": "ValueError",
     "evalue": "too many values to unpack (expected 3)",
     "output_type": "error",
     "traceback": [
      "\u001b[0;31m---------------------------------------------------------------------------\u001b[0m",
      "\u001b[0;31mValueError\u001b[0m                                Traceback (most recent call last)",
      "\u001b[0;32m<ipython-input-104-bd57b0651e90>\u001b[0m in \u001b[0;36m<module>\u001b[0;34m\u001b[0m\n\u001b[0;32m----> 1\u001b[0;31m \u001b[0;32mfor\u001b[0m \u001b[0mpreds\u001b[0m\u001b[0;34m,\u001b[0m \u001b[0mtruth\u001b[0m\u001b[0;34m,\u001b[0m \u001b[0m_\u001b[0m \u001b[0;32min\u001b[0m \u001b[0mresults\u001b[0m\u001b[0;34m:\u001b[0m\u001b[0;34m\u001b[0m\u001b[0m\n\u001b[0m\u001b[1;32m      2\u001b[0m     \u001b[0mprint\u001b[0m\u001b[0;34m(\u001b[0m\u001b[0msklearn\u001b[0m\u001b[0;34m.\u001b[0m\u001b[0mmetrics\u001b[0m\u001b[0;34m.\u001b[0m\u001b[0mroc_auc_score\u001b[0m\u001b[0;34m(\u001b[0m\u001b[0mtruth\u001b[0m\u001b[0;34m,\u001b[0m \u001b[0mpreds\u001b[0m\u001b[0;34m,\u001b[0m \u001b[0maverage\u001b[0m\u001b[0;34m=\u001b[0m\u001b[0;34m'macro'\u001b[0m\u001b[0;34m)\u001b[0m\u001b[0;34m)\u001b[0m\u001b[0;34m\u001b[0m\u001b[0m\n\u001b[1;32m      3\u001b[0m     \u001b[0mprint\u001b[0m\u001b[0;34m(\u001b[0m\u001b[0msklearn\u001b[0m\u001b[0;34m.\u001b[0m\u001b[0mmetrics\u001b[0m\u001b[0;34m.\u001b[0m\u001b[0mroc_auc_score\u001b[0m\u001b[0;34m(\u001b[0m\u001b[0mtruth\u001b[0m\u001b[0;34m,\u001b[0m \u001b[0mpreds\u001b[0m\u001b[0;34m,\u001b[0m \u001b[0maverage\u001b[0m\u001b[0;34m=\u001b[0m\u001b[0;34m'micro'\u001b[0m\u001b[0;34m)\u001b[0m\u001b[0;34m)\u001b[0m\u001b[0;34m\u001b[0m\u001b[0m\n",
      "\u001b[0;31mValueError\u001b[0m: too many values to unpack (expected 3)"
     ]
    }
   ],
   "source": [
    "for preds, truth, _ in results:\n",
    "    print(sklearn.metrics.roc_auc_score(truth, preds, average='macro'))\n",
    "    print(sklearn.metrics.roc_auc_score(truth, preds, average='micro'))"
   ]
  },
  {
   "cell_type": "code",
   "execution_count": 31,
   "metadata": {},
   "outputs": [
    {
     "data": {
      "text/plain": [
       "{0: 'DNase',\n",
       " 1: 'CTCF',\n",
       " 2: 'Pol2',\n",
       " 3: 'YY1',\n",
       " 4: 'p300',\n",
       " 5: 'TAF1',\n",
       " 6: 'Pol2-4H8',\n",
       " 7: 'c-Myc',\n",
       " 8: 'Rad21',\n",
       " 9: 'Max',\n",
       " 10: 'NRSF',\n",
       " 11: 'GABP',\n",
       " 12: 'EZH2',\n",
       " 13: 'CEBPB',\n",
       " 14: 'c-Jun',\n",
       " 15: 'ZBTB33',\n",
       " 16: 'USF2',\n",
       " 17: 'USF-1',\n",
       " 18: 'TBP',\n",
       " 19: 'RFX5',\n",
       " 20: 'Pol2(phosphoS2)',\n",
       " 21: 'Nrf1',\n",
       " 22: 'Mxi1',\n",
       " 23: 'JunD',\n",
       " 24: 'CHD2',\n",
       " 25: 'ATF3',\n",
       " 26: 'c-Fos',\n",
       " 27: 'Znf143',\n",
       " 28: 'ZNF274',\n",
       " 29: 'TR4',\n",
       " 30: 'TCF7L2',\n",
       " 31: 'TCF12',\n",
       " 32: 'Sin3Ak-20',\n",
       " 33: 'SRF',\n",
       " 34: 'SP1',\n",
       " 35: 'SMC3',\n",
       " 36: 'SIX5',\n",
       " 37: 'MafK',\n",
       " 38: 'MAZ',\n",
       " 39: 'ELF1',\n",
       " 40: 'COREST',\n",
       " 41: 'BRCA1',\n",
       " 42: 'BHLHE40',\n",
       " 43: 'TEAD4',\n",
       " 44: 'STAT1',\n",
       " 45: 'SP2',\n",
       " 46: 'RXRA',\n",
       " 47: 'Pol2(b)',\n",
       " 48: 'PU.1',\n",
       " 49: 'PAX5-C20',\n",
       " 50: 'NFKB',\n",
       " 51: 'NF-YB',\n",
       " 52: 'NF-YA',\n",
       " 53: 'HDAC2',\n",
       " 54: 'GTF2F1',\n",
       " 55: 'FOXA1',\n",
       " 56: 'Egr-1',\n",
       " 57: 'ETS1',\n",
       " 58: 'ELK1',\n",
       " 59: 'E2F4',\n",
       " 60: 'CHD1',\n",
       " 61: 'BCL3',\n",
       " 62: 'ZZZ3',\n",
       " 63: 'ZBTB7A',\n",
       " 64: 'TFIIIC-110',\n",
       " 65: 'TBLR1',\n",
       " 66: 'TAF7',\n",
       " 67: 'STAT5A',\n",
       " 68: 'STAT3',\n",
       " 69: 'SIN3A',\n",
       " 70: 'RPC155',\n",
       " 71: 'RBBP5',\n",
       " 72: 'Pol3',\n",
       " 73: 'POU2F2',\n",
       " 74: 'PML',\n",
       " 75: 'NFIC',\n",
       " 76: 'NF-E2',\n",
       " 77: 'MafF',\n",
       " 78: 'MEF2A',\n",
       " 79: 'Ini1',\n",
       " 80: 'IRF3',\n",
       " 81: 'HA-E2F1',\n",
       " 82: 'H4K20me1',\n",
       " 83: 'H3K9me3',\n",
       " 84: 'H3K9ac',\n",
       " 85: 'H3K79me2',\n",
       " 86: 'H3K4me3',\n",
       " 87: 'H3K4me2',\n",
       " 88: 'H3K4me1',\n",
       " 89: 'H3K36me3',\n",
       " 90: 'H3K27me3',\n",
       " 91: 'H3K27ac',\n",
       " 92: 'H2AZ',\n",
       " 93: 'GATA3',\n",
       " 94: 'GATA-2',\n",
       " 95: 'FOSL2',\n",
       " 96: 'FOSL1',\n",
       " 97: 'E2F6',\n",
       " 98: 'Brg1',\n",
       " 99: 'Bach1',\n",
       " 100: 'BRF2',\n",
       " 101: 'BRF1',\n",
       " 102: 'BDP1',\n",
       " 103: 'BCLAF1',\n",
       " 104: 'BCL11A',\n",
       " 105: 'ATF2',\n",
       " 106: 'ARID3A',\n",
       " 107: 'eGFP-JunD',\n",
       " 108: 'eGFP-JunB',\n",
       " 109: 'eGFP-HDAC8',\n",
       " 110: 'eGFP-GATA2',\n",
       " 111: 'eGFP-FOS',\n",
       " 112: 'ZNF263',\n",
       " 113: 'ZNF217',\n",
       " 114: 'ZKSCAN1',\n",
       " 115: 'ZEB1',\n",
       " 116: 'WHIP',\n",
       " 117: 'USF1',\n",
       " 118: 'UBTF',\n",
       " 119: 'UBF',\n",
       " 120: 'TRIM28',\n",
       " 121: 'THAP1',\n",
       " 122: 'TCF3',\n",
       " 123: 'TAL1',\n",
       " 124: 'SUZ12',\n",
       " 125: 'STAT2',\n",
       " 126: 'SPT20',\n",
       " 127: 'SP4',\n",
       " 128: 'SIRT6',\n",
       " 129: 'SETDB1',\n",
       " 130: 'SAP30',\n",
       " 131: 'RUNX3',\n",
       " 132: 'Pbx3',\n",
       " 133: 'PRDM1',\n",
       " 134: 'POU5F1',\n",
       " 135: 'PLU1',\n",
       " 136: 'PHF8',\n",
       " 137: 'PGC1A',\n",
       " 138: 'PAX5-N19',\n",
       " 139: 'NR2F2',\n",
       " 140: 'NFATC1',\n",
       " 141: 'NELFe',\n",
       " 142: 'NANOG',\n",
       " 143: 'MYBL2',\n",
       " 144: 'MTA3',\n",
       " 145: 'MEF2C',\n",
       " 146: 'MBD4',\n",
       " 147: 'KAP1',\n",
       " 148: 'JARID1A',\n",
       " 149: 'IRF4',\n",
       " 150: 'IRF1',\n",
       " 151: 'IKZF1',\n",
       " 152: 'HSF1',\n",
       " 153: 'HNF4G',\n",
       " 154: 'HNF4A',\n",
       " 155: 'HMGN3',\n",
       " 156: 'HDAC6',\n",
       " 157: 'HDAC1',\n",
       " 158: 'H4K91ac',\n",
       " 159: 'H4K8ac',\n",
       " 160: 'H4K5ac',\n",
       " 161: 'H3K9me1',\n",
       " 162: 'H3K79me1',\n",
       " 163: 'H3K56ac',\n",
       " 164: 'H3K4ac',\n",
       " 165: 'H3K23me2',\n",
       " 166: 'H3K23ac',\n",
       " 167: 'H3K18ac',\n",
       " 168: 'H3K14ac',\n",
       " 169: 'H2BK5ac',\n",
       " 170: 'H2BK20ac',\n",
       " 171: 'H2BK15ac',\n",
       " 172: 'H2BK12ac',\n",
       " 173: 'H2BK120ac',\n",
       " 174: 'H2AK5ac',\n",
       " 175: 'GTF2B',\n",
       " 176: 'GRp20',\n",
       " 177: 'GR',\n",
       " 178: 'GATA2',\n",
       " 179: 'GATA-1',\n",
       " 180: 'FOXM1',\n",
       " 181: 'FOXA2',\n",
       " 182: 'ERalpha',\n",
       " 183: 'ERRA',\n",
       " 184: 'ELK4',\n",
       " 185: 'EBF1',\n",
       " 186: 'E2F1',\n",
       " 187: 'CtBP2',\n",
       " 188: 'CTCFL',\n",
       " 189: 'CREB1',\n",
       " 190: 'CEBPD',\n",
       " 191: 'CCNT2',\n",
       " 192: 'CBX3',\n",
       " 193: 'BATF',\n",
       " 194: 'BAF170',\n",
       " 195: 'BAF155',\n",
       " 196: 'ATF1',\n",
       " 197: 'AP-2gamma',\n",
       " 198: 'AP-2alpha'}"
      ]
     },
     "execution_count": 31,
     "metadata": {},
     "output_type": "execute_result"
    }
   ],
   "source": [
    "inv_assaymap"
   ]
  },
  {
   "cell_type": "code",
   "execution_count": 58,
   "metadata": {},
   "outputs": [
    {
     "data": {
      "text/plain": [
       "array([ 6,  7, 12, 14, 16, 18, 19])"
      ]
     },
     "execution_count": 58,
     "metadata": {},
     "output_type": "execute_result"
    }
   ],
   "source": [
    "valid_holdout_indices"
   ]
  },
  {
   "cell_type": "code",
   "execution_count": 78,
   "metadata": {},
   "outputs": [],
   "source": [
    "def test(self, num_samples, mode = Dataset.VALID, log=False, iterator_handle=None):\n",
    "    if (mode == Dataset.VALID):\n",
    "        handle = self.valid_handle\n",
    "        validation_indices = []\n",
    "    elif (mode == Dataset.TEST):\n",
    "        handle = self.test_handle\n",
    "        validation_indices = valid_holdout_indices # indices of assays not available for A549\n",
    "    else:\n",
    "        raise\n",
    "\n",
    "    assert not self.closed\n",
    "    with self.graph.as_default():\n",
    "        vals = []\n",
    "        for i in range(int(num_samples / self.batch_size)):\n",
    "            vals.append(\n",
    "                self.sess.run([self.predictions, self.x, self.y],\n",
    "                         {self.handle: iterator_handle if iterator_handle else handle})\n",
    "            )\n",
    "        preds = np.concatenate([v[0] for v in vals])\n",
    "        truth = np.concatenate([v[2] for v in vals])\n",
    "\n",
    "        # remove missing indices for computing macro/micro AUC\n",
    "        preds_r = np.delete(preds, validation_indices, axis=1)\n",
    "        truth_r = np.delete(truth, validation_indices, axis=1)\n",
    "\n",
    "        print(preds.shape)\n",
    "        print(preds_r.shape)\n",
    "\n",
    "        macroAUC = sklearn.metrics.roc_auc_score(truth_r, preds_r, average='macro')\n",
    "        microAUC = sklearn.metrics.roc_auc_score(truth_r, preds_r, average='micro')\n",
    "        tf.logging.info(\"Our macro AUC:     \" + str(macroAUC))\n",
    "        tf.logging.info(\"Our micro AUC:     \" + str(microAUC))\n",
    "        if log:\n",
    "            for i in range(matrix.shape[1]-1): # eval on all assays except DNase\n",
    "                assay = inv_assaymap[i+1]\n",
    "\n",
    "                if (i+1 not in validation_indices):\n",
    "                    print(assay, sklearn.metrics.roc_auc_score(truth[:,i], preds[:,i], average='macro'))\n",
    "                else:\n",
    "                    print(assay, np.NaN)\n",
    "\n",
    "\n",
    "        return preds, truth, microAUC, macroAUC, False\n"
   ]
  },
  {
   "cell_type": "code",
   "execution_count": 73,
   "metadata": {},
   "outputs": [
    {
     "name": "stderr",
     "output_type": "stream",
     "text": [
      "/data/jwhughes/tf_env/lib/python3.6/site-packages/ipykernel_launcher.py:23: DeprecationWarning: in the future out of bounds indices will raise an error instead of being ignored by `numpy.delete`.\n",
      "/data/jwhughes/tf_env/lib/python3.6/site-packages/ipykernel_launcher.py:24: DeprecationWarning: in the future out of bounds indices will raise an error instead of being ignored by `numpy.delete`.\n"
     ]
    },
    {
     "name": "stdout",
     "output_type": "stream",
     "text": [
      "INFO:tensorflow:Our macro AUC:     0.9740276968349016\n",
      "INFO:tensorflow:Our micro AUC:     0.9601180895012266\n",
      "CTCF 0.9681615197401885\n",
      "Pol2 0.9779384815647104\n",
      "YY1 0.9352619000254778\n",
      "p300 0.9179348008048505\n",
      "TAF1 0.9198450922056562\n",
      "Pol2-4H8 nan\n",
      "c-Myc nan\n",
      "Rad21 0.9927645265750575\n",
      "Max 0.9656983702894879\n",
      "NRSF 0.9114261364568862\n",
      "GABP 0.939837573930643\n",
      "EZH2 nan\n",
      "CEBPB 0.8159313763167632\n",
      "c-Jun nan\n",
      "ZBTB33 0.9209653215741388\n",
      "USF2 nan\n",
      "USF-1 0.9189253685669534\n",
      "TBP nan\n",
      "RFX5 nan\n"
     ]
    },
    {
     "data": {
      "text/plain": [
       "(array([[0.03296085, 0.13607511, 0.020816  , ..., 0.1248106 , 0.03543632,\n",
       "         0.01436948],\n",
       "        [0.03111602, 0.1786125 , 0.02244331, ..., 0.10105771, 0.04767064,\n",
       "         0.0140684 ],\n",
       "        [0.03134554, 0.16849816, 0.02108786, ..., 0.10790792, 0.04515686,\n",
       "         0.01358434],\n",
       "        ...,\n",
       "        [0.03294711, 0.13606292, 0.02081088, ..., 0.12499312, 0.03543065,\n",
       "         0.01436544],\n",
       "        [0.02661076, 0.13101014, 0.0172728 , ..., 0.11542665, 0.03864096,\n",
       "         0.016293  ],\n",
       "        [0.02781275, 0.16713318, 0.01921709, ..., 0.09966879, 0.04272741,\n",
       "         0.0149891 ]], dtype=float32), array([[0., 0., 0., ..., 0., 0., 0.],\n",
       "        [0., 0., 0., ..., 0., 0., 0.],\n",
       "        [0., 0., 0., ..., 0., 0., 0.],\n",
       "        ...,\n",
       "        [0., 0., 0., ..., 0., 0., 0.],\n",
       "        [0., 0., 0., ..., 0., 0., 0.],\n",
       "        [0., 0., 0., ..., 0., 0., 0.]], dtype=float32), 0.9601180895012266, 0.9740276968349016, False)"
      ]
     },
     "execution_count": 73,
     "metadata": {},
     "output_type": "execute_result"
    }
   ],
   "source": [
    "test(model, 455024, mode = Dataset.TEST, log=True)#45"
   ]
  },
  {
   "cell_type": "code",
   "execution_count": 74,
   "metadata": {},
   "outputs": [
    {
     "name": "stderr",
     "output_type": "stream",
     "text": [
      "/data/jwhughes/tf_env/lib/python3.6/site-packages/ipykernel_launcher.py:23: DeprecationWarning: in the future out of bounds indices will raise an error instead of being ignored by `numpy.delete`.\n",
      "/data/jwhughes/tf_env/lib/python3.6/site-packages/ipykernel_launcher.py:24: DeprecationWarning: in the future out of bounds indices will raise an error instead of being ignored by `numpy.delete`.\n"
     ]
    },
    {
     "name": "stdout",
     "output_type": "stream",
     "text": [
      "INFO:tensorflow:Our macro AUC:     0.9714825624892308\n",
      "INFO:tensorflow:Our micro AUC:     0.9596104968551776\n",
      "CTCF 0.9646392245357994\n",
      "Pol2 0.9760447877915187\n",
      "YY1 0.9284151068318391\n",
      "p300 0.8999562992028828\n",
      "TAF1 0.9134108885983864\n",
      "Pol2-4H8 nan\n",
      "c-Myc nan\n",
      "Rad21 0.9926022233399056\n",
      "Max 0.964963170978103\n",
      "NRSF 0.9074294018694163\n",
      "GABP 0.9320372823288793\n",
      "EZH2 nan\n",
      "CEBPB 0.789904426691731\n",
      "c-Jun nan\n",
      "ZBTB33 0.9005453328312599\n",
      "USF2 nan\n",
      "USF-1 0.9378458999180167\n",
      "TBP nan\n",
      "RFX5 nan\n"
     ]
    },
    {
     "data": {
      "text/plain": [
       "(array([[0.007508  , 0.03449481, 0.00817749, ..., 0.03091767, 0.04493925,\n",
       "         0.00733676],\n",
       "        [0.01569222, 0.04138779, 0.01308644, ..., 0.02073636, 0.04764207,\n",
       "         0.00873965],\n",
       "        [0.03906348, 0.03411936, 0.01322313, ..., 0.01606118, 0.0455249 ,\n",
       "         0.01085768],\n",
       "        ...,\n",
       "        [0.01505339, 0.04258044, 0.01386403, ..., 0.02121119, 0.04920036,\n",
       "         0.00853471],\n",
       "        [0.00533895, 0.02449407, 0.00655073, ..., 0.02957898, 0.0381868 ,\n",
       "         0.0098217 ],\n",
       "        [0.01372634, 0.04298202, 0.01425842, ..., 0.02232963, 0.05087014,\n",
       "         0.00818826]], dtype=float32), array([[0., 0., 0., ..., 0., 0., 0.],\n",
       "        [0., 0., 0., ..., 0., 0., 0.],\n",
       "        [0., 0., 0., ..., 0., 0., 0.],\n",
       "        ...,\n",
       "        [0., 0., 0., ..., 0., 0., 0.],\n",
       "        [0., 0., 0., ..., 0., 0., 0.],\n",
       "        [0., 0., 0., ..., 0., 0., 0.]], dtype=float32), 0.9596104968551776, 0.9714825624892308, False)"
      ]
     },
     "execution_count": 74,
     "metadata": {},
     "output_type": "execute_result"
    }
   ],
   "source": [
    "results = test(simple_model, 455024, mode = Dataset.TEST, log=True)\n",
    "results"
   ]
  },
  {
   "cell_type": "code",
   "execution_count": 79,
   "metadata": {},
   "outputs": [
    {
     "name": "stdout",
     "output_type": "stream",
     "text": [
      "(4992, 19)\n",
      "(4992, 13)\n"
     ]
    },
    {
     "name": "stderr",
     "output_type": "stream",
     "text": [
      "/data/jwhughes/tf_env/lib/python3.6/site-packages/ipykernel_launcher.py:23: DeprecationWarning: in the future out of bounds indices will raise an error instead of being ignored by `numpy.delete`.\n",
      "/data/jwhughes/tf_env/lib/python3.6/site-packages/ipykernel_launcher.py:24: DeprecationWarning: in the future out of bounds indices will raise an error instead of being ignored by `numpy.delete`.\n"
     ]
    },
    {
     "ename": "NameError",
     "evalue": "name 'mask' is not defined",
     "output_type": "error",
     "traceback": [
      "\u001b[0;31m---------------------------------------------------------------------------\u001b[0m",
      "\u001b[0;31mNameError\u001b[0m                                 Traceback (most recent call last)",
      "\u001b[0;32m<ipython-input-79-9d0389112832>\u001b[0m in \u001b[0;36m<module>\u001b[0;34m\u001b[0m\n\u001b[0;32m----> 1\u001b[0;31m \u001b[0mtest\u001b[0m\u001b[0;34m(\u001b[0m\u001b[0msimple_model\u001b[0m\u001b[0;34m,\u001b[0m \u001b[0;36m5024\u001b[0m\u001b[0;34m,\u001b[0m \u001b[0mmode\u001b[0m \u001b[0;34m=\u001b[0m \u001b[0mDataset\u001b[0m\u001b[0;34m.\u001b[0m\u001b[0mTEST\u001b[0m\u001b[0;34m,\u001b[0m \u001b[0mlog\u001b[0m\u001b[0;34m=\u001b[0m\u001b[0;32mTrue\u001b[0m\u001b[0;34m)\u001b[0m\u001b[0;34m\u001b[0m\u001b[0;34m\u001b[0m\u001b[0m\n\u001b[0m",
      "\u001b[0;32m<ipython-input-78-3f0a73bea408>\u001b[0m in \u001b[0;36mtest\u001b[0;34m(self, num_samples, mode, log, iterator_handle)\u001b[0m\n\u001b[1;32m     31\u001b[0m \u001b[0;31m#             mask[i] = 0\u001b[0m\u001b[0;34m\u001b[0m\u001b[0;34m\u001b[0m\u001b[0;34m\u001b[0m\u001b[0m\n\u001b[1;32m     32\u001b[0m \u001b[0;34m\u001b[0m\u001b[0m\n\u001b[0;32m---> 33\u001b[0;31m         \u001b[0mmacroAUC\u001b[0m \u001b[0;34m=\u001b[0m \u001b[0msklearn\u001b[0m\u001b[0;34m.\u001b[0m\u001b[0mmetrics\u001b[0m\u001b[0;34m.\u001b[0m\u001b[0mroc_auc_score\u001b[0m\u001b[0;34m(\u001b[0m\u001b[0mtruth_r\u001b[0m\u001b[0;34m[\u001b[0m\u001b[0;34m:\u001b[0m\u001b[0;34m,\u001b[0m\u001b[0mmask\u001b[0m\u001b[0;34m]\u001b[0m\u001b[0;34m,\u001b[0m \u001b[0mpreds_r\u001b[0m\u001b[0;34m[\u001b[0m\u001b[0;34m:\u001b[0m\u001b[0;34m,\u001b[0m\u001b[0mmask\u001b[0m\u001b[0;34m]\u001b[0m\u001b[0;34m,\u001b[0m \u001b[0maverage\u001b[0m\u001b[0;34m=\u001b[0m\u001b[0;34m'macro'\u001b[0m\u001b[0;34m)\u001b[0m\u001b[0;34m\u001b[0m\u001b[0;34m\u001b[0m\u001b[0m\n\u001b[0m\u001b[1;32m     34\u001b[0m         \u001b[0mmicroAUC\u001b[0m \u001b[0;34m=\u001b[0m \u001b[0msklearn\u001b[0m\u001b[0;34m.\u001b[0m\u001b[0mmetrics\u001b[0m\u001b[0;34m.\u001b[0m\u001b[0mroc_auc_score\u001b[0m\u001b[0;34m(\u001b[0m\u001b[0mtruth_r\u001b[0m\u001b[0;34m[\u001b[0m\u001b[0;34m:\u001b[0m\u001b[0;34m,\u001b[0m\u001b[0mmask\u001b[0m\u001b[0;34m]\u001b[0m\u001b[0;34m,\u001b[0m \u001b[0mpreds_r\u001b[0m\u001b[0;34m[\u001b[0m\u001b[0;34m:\u001b[0m\u001b[0;34m,\u001b[0m\u001b[0mmask\u001b[0m\u001b[0;34m]\u001b[0m\u001b[0;34m,\u001b[0m \u001b[0maverage\u001b[0m\u001b[0;34m=\u001b[0m\u001b[0;34m'micro'\u001b[0m\u001b[0;34m)\u001b[0m\u001b[0;34m\u001b[0m\u001b[0;34m\u001b[0m\u001b[0m\n\u001b[1;32m     35\u001b[0m         \u001b[0mtf\u001b[0m\u001b[0;34m.\u001b[0m\u001b[0mlogging\u001b[0m\u001b[0;34m.\u001b[0m\u001b[0minfo\u001b[0m\u001b[0;34m(\u001b[0m\u001b[0;34m\"Our macro AUC:     \"\u001b[0m \u001b[0;34m+\u001b[0m \u001b[0mstr\u001b[0m\u001b[0;34m(\u001b[0m\u001b[0mmacroAUC\u001b[0m\u001b[0;34m)\u001b[0m\u001b[0;34m)\u001b[0m\u001b[0;34m\u001b[0m\u001b[0;34m\u001b[0m\u001b[0m\n",
      "\u001b[0;31mNameError\u001b[0m: name 'mask' is not defined"
     ]
    }
   ],
   "source": [
    "test(simple_model, 5024, mode = Dataset.TEST, log=True)\n"
   ]
  },
  {
   "cell_type": "code",
   "execution_count": null,
   "metadata": {},
   "outputs": [],
   "source": []
  }
 ],
 "metadata": {
  "kernelspec": {
   "display_name": "Python 3",
   "language": "python",
   "name": "python3"
  },
  "language_info": {
   "codemirror_mode": {
    "name": "ipython",
    "version": 3
   },
   "file_extension": ".py",
   "mimetype": "text/x-python",
   "name": "python",
   "nbconvert_exporter": "python",
   "pygments_lexer": "ipython3",
   "version": "3.6.7"
  }
 },
 "nbformat": 4,
 "nbformat_minor": 2
}
