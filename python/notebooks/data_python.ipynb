{
 "cells": [
  {
   "cell_type": "code",
   "execution_count": null,
   "metadata": {
    "collapsed": false
   },
   "outputs": [],
   "source": [
    "# used for loading 2bit files\n",
    "import py2bit\n",
    "# used for loading bed files\n",
    "import pybedtools\n",
    "from pybedtools import BedTool\n",
    "# used for loading bam files\n",
    "import pysam\n",
    "\n",
    "# file storing custom functions\n",
    "execfile(\"../preprocess/preprocessdata.py\")"
   ]
  },
  {
   "cell_type": "code",
   "execution_count": null,
   "metadata": {
    "collapsed": false
   },
   "outputs": [],
   "source": [
    "# locations of build files, can be downloaded by running the script eptiome/bin/download-reference.sh\n",
    "human_build_file = \"/data/akmorrow/epitome_data/hg19.2bit\"\n",
    "mouse_build_file = \"/data/akmorrow/epitome_data/mm10.2bit\""
   ]
  },
  {
   "cell_type": "code",
   "execution_count": null,
   "metadata": {
    "collapsed": true
   },
   "outputs": [],
   "source": [
    "# load 2 bit file\n",
    "tb = py2bit.open(human_build_file)"
   ]
  },
  {
   "cell_type": "code",
   "execution_count": null,
   "metadata": {
    "collapsed": false
   },
   "outputs": [],
   "source": [
    "# get a sequence from a region of chr1\n",
    "tb.sequence('chr1', 100000, 200000)"
   ]
  },
  {
   "cell_type": "code",
   "execution_count": null,
   "metadata": {
    "collapsed": true
   },
   "outputs": [],
   "source": [
    "# load in tf\n",
    "tf_rbfox2 = BedTool('/data/akmorrow/epitome_data/ENCFF294HYU_k562_rbfox2.bed')"
   ]
  },
  {
   "cell_type": "code",
   "execution_count": null,
   "metadata": {
    "collapsed": false
   },
   "outputs": [],
   "source": [
    "# load in bam file\n",
    "samfile = pysam.AlignmentFile(\"/data/akmorrow/epitome_data/ENCFF343HTD_k562_dnase.bam\", \"rb\")"
   ]
  },
  {
   "cell_type": "code",
   "execution_count": null,
   "metadata": {
    "collapsed": false
   },
   "outputs": [],
   "source": [
    "# window\n",
    "windows = window(human_build_file)\n",
    "\n",
    "# for each window, check whether tf overlaps by x \n",
    "#overlaps = windows.overlap(tf_rbfox2)\n",
    "# select sequence for each window\n",
    "# calculate cut coverage for bams\n"
   ]
  },
  {
   "cell_type": "code",
   "execution_count": null,
   "metadata": {
    "collapsed": false
   },
   "outputs": [],
   "source": []
  },
  {
   "cell_type": "code",
   "execution_count": null,
   "metadata": {
    "collapsed": true
   },
   "outputs": [],
   "source": []
  }
 ],
 "metadata": {
  "kernelspec": {
   "display_name": "Python [Root]",
   "language": "python",
   "name": "Python [Root]"
  },
  "language_info": {
   "codemirror_mode": {
    "name": "ipython",
    "version": 2
   },
   "file_extension": ".py",
   "mimetype": "text/x-python",
   "name": "python",
   "nbconvert_exporter": "python",
   "pygments_lexer": "ipython2",
   "version": "2.7.12"
  }
 },
 "nbformat": 4,
 "nbformat_minor": 0
}
