{
 "cells": [
  {
   "cell_type": "markdown",
   "metadata": {},
   "source": [
    "This tutorial assumes you have some test files (in epitome/workfiles). \n",
    "\n",
    "You can download them from here:\n",
    "\n",
    "ENCFF362ESI.bed: https://www.encodeproject.org/files/ENCFF362ESI/\n",
    "\n",
    "ENCFF109LQF.bam: https://www.encodeproject.org/files/ENCFF109LQF/"
   ]
  },
  {
   "cell_type": "code",
   "execution_count": 1,
   "metadata": {
    "collapsed": true
   },
   "outputs": [],
   "source": [
    "from epitome.preprocess import chromatin"
   ]
  },
  {
   "cell_type": "code",
   "execution_count": 2,
   "metadata": {
    "collapsed": true
   },
   "outputs": [],
   "source": [
    "# testing adam\n",
    "from bdgenomics.adam.adamContext import ADAMContext\n",
    "ac=ADAMContext(sc)"
   ]
  },
  {
   "cell_type": "code",
   "execution_count": 3,
   "metadata": {
    "collapsed": true
   },
   "outputs": [],
   "source": [
    "c = chromatin.Chromatin(sc)"
   ]
  },
  {
   "cell_type": "code",
   "execution_count": 9,
   "metadata": {
    "collapsed": true
   },
   "outputs": [],
   "source": [
    "peaks = c.loadPeaks('../../workfiles/ENCFF362ESI.bed')"
   ]
  },
  {
   "cell_type": "code",
   "execution_count": 10,
   "metadata": {},
   "outputs": [
    {
     "data": {
      "text/plain": [
       "Row(featureId=None, name=None, source=None, featureType=None, contigName=u'chr1', start=3611269, end=3611553, strand=u'INDEPENDENT', phase=None, frame=None, score=1000.0, geneId=None, transcriptId=None, exonId=None, aliases=[], parentIds=[], target=None, gap=None, derivesFrom=None, notes=[], dbxrefs=[], ontologyTerms=[], circular=None, attributes={u'blockCount': u'142', u'itemRgb': u'5.02511', u'thickEnd': u'-1.00000', u'thickStart': u'80.99420'})"
      ]
     },
     "execution_count": 10,
     "metadata": {},
     "output_type": "execute_result"
    }
   ],
   "source": [
    "peaks.toDF().rdd.first()"
   ]
  },
  {
   "cell_type": "code",
   "execution_count": 5,
   "metadata": {
    "collapsed": true
   },
   "outputs": [],
   "source": [
    "alignments = c.loadChromatin('../../workfiles/ENCFF109LQF.bam')\n"
   ]
  },
  {
   "cell_type": "code",
   "execution_count": 7,
   "metadata": {},
   "outputs": [
    {
     "data": {
      "text/plain": [
       "Row(readInFragment=0, contigName=u'chr1', start=3003183, oldPosition=None, end=3003232, mapq=None, readName=u'K00168:86:HFFF2BBXX:3:2122:22759:31329', sequence=u'GTTCTGGATGTCAGAGCCCTCCCAGATGATCACCTCTCCTATGGCGGGGAA', qual=u'AAFFFJJJJJJJJJJJJJJJJJJJFJJJJJFJJJFJFJJJJJJJJJJJJFJ', cigar=u'7M1I7M1I35M', oldCigar=None, basesTrimmedFromStart=0, basesTrimmedFromEnd=0, readPaired=True, properPair=True, readMapped=True, mateMapped=True, failedVendorQualityChecks=False, duplicateRead=False, readNegativeStrand=False, mateNegativeStrand=True, primaryAlignment=True, secondaryAlignment=False, supplementaryAlignment=False, mismatchingPositions=u'49', origQual=None, attributes=u'YT:Z:CP\\tYS:i:102\\tXS:i:46\\tAS:i:82\\tMQ:i:255\\tXO:i:2\\tXN:i:0\\tXM:i:0\\tNM:i:2\\tXG:i:2\\tPG:Z:MarkDuplicates', recordGroupName=None, recordGroupSample=None, mateAlignmentStart=3003242, mateContigName=u'chr1', inferredInsertSize=110)"
      ]
     },
     "execution_count": 7,
     "metadata": {},
     "output_type": "execute_result"
    }
   ],
   "source": [
    "alignments.toDF().rdd.first()"
   ]
  },
  {
   "cell_type": "code",
   "execution_count": null,
   "metadata": {
    "collapsed": true
   },
   "outputs": [],
   "source": []
  }
 ],
 "metadata": {
  "kernelspec": {
   "display_name": "Python 2",
   "language": "python",
   "name": "python2"
  },
  "language_info": {
   "codemirror_mode": {
    "name": "ipython",
    "version": 2
   },
   "file_extension": ".py",
   "mimetype": "text/x-python",
   "name": "python",
   "nbconvert_exporter": "python",
   "pygments_lexer": "ipython2",
   "version": "2.7.12"
  }
 },
 "nbformat": 4,
 "nbformat_minor": 2
}
