{
 "cells": [
  {
   "cell_type": "code",
   "execution_count": 1,
   "metadata": {
    "collapsed": true
   },
   "outputs": [],
   "source": [
    "import os\n",
    "import re\n",
    "import glob\n",
    "import h5py\n",
    "import numpy as np"
   ]
  },
  {
   "cell_type": "code",
   "execution_count": 185,
   "metadata": {
    "collapsed": true
   },
   "outputs": [],
   "source": [
    "# infile = '../../deleteme/results/CEBPB-A549.txt'\n",
    "# infile = '../../deleteme/results/CEBPB-H1Hesc.txt/'\n",
    "# infile = '../../deleteme/results/CEBPB-HCT116.txt/'\n",
    "infile = '../../deleteme/results/CEBPB_IMR90.txt/'\n",
    "\n",
    "# check the success flag\n",
    "assert '_SUCCESS' in os.listdir(infile)\n",
    "# getting shardnames, adam formatting\n",
    "shards = glob.glob(os.path.join(infile, 'part-*'))\n",
    "\n",
    "from collections import defaultdict\n",
    "counter = defaultdict(lambda: 0)\n",
    "\n",
    "for shard in shards:\n",
    "    for line in open(shard):\n",
    "        # each field is delimited by a semi-colon\n",
    "        label, atac, seq = line.strip().split(';')\n",
    "        counter[len(seq)] += 1"
   ]
  },
  {
   "cell_type": "code",
   "execution_count": 14,
   "metadata": {},
   "outputs": [],
   "source": [
    "data = np.load('../../deleteme/results-hdf5/CEBPB-IMR90.npz')\n",
    "if not os.path.exists('../../deleteme/results-hdf5/CEBPB-IMR90.hdf5'):\n",
    "    f = h5py.File('../../deleteme/results-hdf5/CEBPB-IMR90.hdf5', \"w\")\n",
    "    f.create_dataset(\"label\", data=data['label'])\n",
    "    f.create_dataset(\"atac\", data=data['atac'])\n",
    "    f.create_dataset(\"seq\", data=data['seq'])"
   ]
  },
  {
   "cell_type": "code",
   "execution_count": 15,
   "metadata": {},
   "outputs": [],
   "source": [
    "f = h5py.File(\"../../deleteme/results-hdf5/CEBPB-IMR90.hdf5\", \"r\")"
   ]
  }
 ],
 "metadata": {
  "kernelspec": {
   "display_name": "Python 2",
   "language": "python",
   "name": "python2"
  },
  "language_info": {
   "codemirror_mode": {
    "name": "ipython",
    "version": 2
   },
   "file_extension": ".py",
   "mimetype": "text/x-python",
   "name": "python",
   "nbconvert_exporter": "python",
   "pygments_lexer": "ipython2",
   "version": "2.7.13"
  }
 },
 "nbformat": 4,
 "nbformat_minor": 2
}
