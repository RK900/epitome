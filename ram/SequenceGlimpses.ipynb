{
 "cells": [
  {
   "cell_type": "code",
   "execution_count": 2,
   "metadata": {
    "collapsed": true
   },
   "outputs": [],
   "source": [
    "import numpy as np\n",
    "import tensorflow.contrib.distributions as ds\n",
    "from sklearn.utils import shuffle\n",
    "from math import pi\n",
    "import tensorflow as tf\n",
    "import argparse\n",
    "import ram"
   ]
  },
  {
   "cell_type": "code",
   "execution_count": 32,
   "metadata": {
    "collapsed": true
   },
   "outputs": [],
   "source": [
    "sess = tf.InteractiveSession()"
   ]
  },
  {
   "cell_type": "code",
   "execution_count": 11,
   "metadata": {},
   "outputs": [],
   "source": [
    "def make_dna_seq(length):\n",
    "    one_hot_bases = np.eye(4)\n",
    "    sample_indices = np.random.randint(0, 4, length)\n",
    "    return one_hot_bases[sample_indices]\n"
   ]
  },
  {
   "cell_type": "code",
   "execution_count": 17,
   "metadata": {
    "collapsed": true
   },
   "outputs": [],
   "source": [
    "def make_atac_seq(length):\n",
    "    return np.random.randint(0, 20, length).reshape([length, 1])\n",
    "    "
   ]
  },
  {
   "cell_type": "code",
   "execution_count": 90,
   "metadata": {},
   "outputs": [],
   "source": [
    "dna = make_dna_seq(100)\n",
    "atac = make_atac_seq(100)"
   ]
  },
  {
   "cell_type": "code",
   "execution_count": 91,
   "metadata": {},
   "outputs": [
    {
     "data": {
      "text/plain": [
       "((100, 4), (100, 1))"
      ]
     },
     "execution_count": 91,
     "metadata": {},
     "output_type": "execute_result"
    }
   ],
   "source": [
    "dna.shape, atac.shape"
   ]
  },
  {
   "cell_type": "code",
   "execution_count": 92,
   "metadata": {},
   "outputs": [],
   "source": [
    "input_ = np.hstack([dna, atac])"
   ]
  },
  {
   "cell_type": "code",
   "execution_count": 93,
   "metadata": {},
   "outputs": [
    {
     "data": {
      "text/plain": [
       "array([[  1.,   0.,   0.,   0.,   7.],\n",
       "       [  0.,   0.,   0.,   1.,  15.],\n",
       "       [  1.,   0.,   0.,   0.,   9.],\n",
       "       [  0.,   1.,   0.,   0.,  11.],\n",
       "       [  0.,   0.,   1.,   0.,   8.],\n",
       "       [  0.,   0.,   1.,   0.,   7.],\n",
       "       [  0.,   1.,   0.,   0.,   6.],\n",
       "       [  1.,   0.,   0.,   0.,  17.],\n",
       "       [  0.,   0.,   1.,   0.,  16.],\n",
       "       [  0.,   0.,   0.,   1.,   1.],\n",
       "       [  0.,   0.,   1.,   0.,  17.],\n",
       "       [  0.,   0.,   1.,   0.,  19.],\n",
       "       [  1.,   0.,   0.,   0.,  10.],\n",
       "       [  0.,   0.,   0.,   1.,   2.],\n",
       "       [  0.,   0.,   0.,   1.,  17.],\n",
       "       [  0.,   0.,   0.,   1.,  15.],\n",
       "       [  0.,   0.,   1.,   0.,  19.],\n",
       "       [  1.,   0.,   0.,   0.,   8.],\n",
       "       [  1.,   0.,   0.,   0.,   2.],\n",
       "       [  0.,   0.,   0.,   1.,  13.],\n",
       "       [  0.,   0.,   1.,   0.,   0.],\n",
       "       [  0.,   1.,   0.,   0.,   1.],\n",
       "       [  0.,   0.,   1.,   0.,   6.],\n",
       "       [  0.,   1.,   0.,   0.,  12.],\n",
       "       [  1.,   0.,   0.,   0.,   0.],\n",
       "       [  0.,   0.,   1.,   0.,   8.],\n",
       "       [  0.,   0.,   1.,   0.,  16.],\n",
       "       [  0.,   0.,   0.,   1.,   9.],\n",
       "       [  0.,   0.,   1.,   0.,   8.],\n",
       "       [  0.,   0.,   1.,   0.,  17.],\n",
       "       [  1.,   0.,   0.,   0.,   0.],\n",
       "       [  0.,   1.,   0.,   0.,   7.],\n",
       "       [  0.,   0.,   1.,   0.,   0.],\n",
       "       [  0.,   0.,   0.,   1.,   3.],\n",
       "       [  1.,   0.,   0.,   0.,  13.],\n",
       "       [  0.,   1.,   0.,   0.,  13.],\n",
       "       [  0.,   1.,   0.,   0.,   2.],\n",
       "       [  0.,   0.,   1.,   0.,  19.],\n",
       "       [  1.,   0.,   0.,   0.,  17.],\n",
       "       [  0.,   1.,   0.,   0.,   8.],\n",
       "       [  0.,   0.,   0.,   1.,   9.],\n",
       "       [  1.,   0.,   0.,   0.,  12.],\n",
       "       [  0.,   0.,   0.,   1.,   3.],\n",
       "       [  1.,   0.,   0.,   0.,   9.],\n",
       "       [  0.,   1.,   0.,   0.,  15.],\n",
       "       [  0.,   0.,   1.,   0.,  12.],\n",
       "       [  0.,   0.,   0.,   1.,  16.],\n",
       "       [  1.,   0.,   0.,   0.,   5.],\n",
       "       [  0.,   0.,   1.,   0.,   5.],\n",
       "       [  0.,   0.,   1.,   0.,   9.],\n",
       "       [  0.,   0.,   0.,   1.,  14.],\n",
       "       [  0.,   1.,   0.,   0.,  11.],\n",
       "       [  0.,   0.,   0.,   1.,   5.],\n",
       "       [  0.,   0.,   1.,   0.,   9.],\n",
       "       [  0.,   0.,   1.,   0.,   3.],\n",
       "       [  0.,   0.,   1.,   0.,   7.],\n",
       "       [  0.,   1.,   0.,   0.,  12.],\n",
       "       [  0.,   0.,   0.,   1.,  16.],\n",
       "       [  1.,   0.,   0.,   0.,   5.],\n",
       "       [  0.,   0.,   1.,   0.,  16.],\n",
       "       [  0.,   1.,   0.,   0.,   3.],\n",
       "       [  0.,   0.,   0.,   1.,   6.],\n",
       "       [  0.,   1.,   0.,   0.,   6.],\n",
       "       [  1.,   0.,   0.,   0.,  14.],\n",
       "       [  0.,   0.,   0.,   1.,   1.],\n",
       "       [  0.,   0.,   1.,   0.,  18.],\n",
       "       [  0.,   0.,   1.,   0.,  16.],\n",
       "       [  0.,   1.,   0.,   0.,   1.],\n",
       "       [  0.,   1.,   0.,   0.,  11.],\n",
       "       [  1.,   0.,   0.,   0.,  19.],\n",
       "       [  0.,   0.,   0.,   1.,  13.],\n",
       "       [  1.,   0.,   0.,   0.,  14.],\n",
       "       [  0.,   1.,   0.,   0.,   9.],\n",
       "       [  0.,   0.,   0.,   1.,   5.],\n",
       "       [  0.,   0.,   0.,   1.,   6.],\n",
       "       [  0.,   0.,   0.,   1.,   9.],\n",
       "       [  0.,   0.,   0.,   1.,  13.],\n",
       "       [  0.,   1.,   0.,   0.,   6.],\n",
       "       [  0.,   0.,   0.,   1.,  15.],\n",
       "       [  0.,   0.,   0.,   1.,   0.],\n",
       "       [  1.,   0.,   0.,   0.,   3.],\n",
       "       [  1.,   0.,   0.,   0.,   5.],\n",
       "       [  0.,   1.,   0.,   0.,  17.],\n",
       "       [  0.,   0.,   1.,   0.,  15.],\n",
       "       [  1.,   0.,   0.,   0.,  11.],\n",
       "       [  0.,   0.,   1.,   0.,  16.],\n",
       "       [  0.,   0.,   1.,   0.,   9.],\n",
       "       [  0.,   1.,   0.,   0.,  17.],\n",
       "       [  0.,   1.,   0.,   0.,  19.],\n",
       "       [  1.,   0.,   0.,   0.,  14.],\n",
       "       [  0.,   1.,   0.,   0.,  10.],\n",
       "       [  0.,   1.,   0.,   0.,   0.],\n",
       "       [  1.,   0.,   0.,   0.,  10.],\n",
       "       [  0.,   0.,   0.,   1.,   4.],\n",
       "       [  0.,   0.,   0.,   1.,   4.],\n",
       "       [  0.,   0.,   1.,   0.,   9.],\n",
       "       [  0.,   0.,   0.,   1.,  10.],\n",
       "       [  0.,   1.,   0.,   0.,  13.],\n",
       "       [  0.,   0.,   1.,   0.,   1.],\n",
       "       [  0.,   1.,   0.,   0.,   3.]])"
      ]
     },
     "execution_count": 93,
     "metadata": {},
     "output_type": "execute_result"
    }
   ],
   "source": [
    "input_"
   ]
  },
  {
   "cell_type": "code",
   "execution_count": 94,
   "metadata": {},
   "outputs": [],
   "source": [
    "def get_glimpses(data, num_resolutions):\n",
    "    glimpses = []\n",
    "    for i in range(num_resolutions):\n",
    "        resolution = 2**i\n",
    "        glimpse = tf.nn.pool(\n",
    "            input=data,\n",
    "            window_shape=[resolution],\n",
    "            strides=[resolution],\n",
    "            pooling_type='MAX',\n",
    "            padding='SAME')\n",
    "        glimpses.append(glimpse)\n",
    "    return glimpses"
   ]
  },
  {
   "cell_type": "code",
   "execution_count": 99,
   "metadata": {},
   "outputs": [],
   "source": [
    "glimpse_size = 4\n",
    "num_resolutions = 4\n",
    "glimpses = get_glimpses(np.expand_dims(atac, 0), num_resolutions)"
   ]
  },
  {
   "cell_type": "code",
   "execution_count": 112,
   "metadata": {
    "collapsed": true
   },
   "outputs": [],
   "source": [
    "def index_glimpses(num_resolutions, glimpses, location, glimpse_size):\n",
    "    to_concatenate = []\n",
    "    for i in range(num_resolutions):\n",
    "        glimpse = glimpses[i]\n",
    "        location_index = int(location / 2**i)\n",
    "        \n",
    "        left_pad = max(glimpse_size - location_index, 0)\n",
    "        right_pad = max(glimpse_size + location_index - glimpse.get_shape().as_list()[1], 0)\n",
    "        \n",
    "        left_index = max(location_index - glimpse_size, 0)\n",
    "        right_index = min(location_index + glimpse_size, glimpse.get_shape().as_list()[1])\n",
    "        \n",
    "        resolution = glimpse[:, left_index: right_index, :]\n",
    "        resolution = tf.pad(resolution, [[0, 0], [left_pad, right_pad], [0, 0]])\n",
    "        \n",
    "        to_concatenate.append(resolution)\n",
    "    return tf.concat(to_concatenate, axis=-1)\n"
   ]
  },
  {
   "cell_type": "code",
   "execution_count": 113,
   "metadata": {},
   "outputs": [
    {
     "data": {
      "text/plain": [
       "<tf.Tensor 'concat_5:0' shape=(1, 8, 4) dtype=int64>"
      ]
     },
     "execution_count": 113,
     "metadata": {},
     "output_type": "execute_result"
    }
   ],
   "source": [
    "index_glimpses(num_resolutions, glimpses, 50, glimpse_size)"
   ]
  },
  {
   "cell_type": "code",
   "execution_count": 102,
   "metadata": {},
   "outputs": [
    {
     "data": {
      "text/plain": [
       "[<tf.Tensor 'max_pool_47/Squeeze:0' shape=(1, 100, 1) dtype=int64>,\n",
       " <tf.Tensor 'max_pool_48/Squeeze:0' shape=(1, 50, 1) dtype=int64>,\n",
       " <tf.Tensor 'max_pool_49/Squeeze:0' shape=(1, 25, 1) dtype=int64>,\n",
       " <tf.Tensor 'max_pool_50/Squeeze:0' shape=(1, 13, 1) dtype=int64>]"
      ]
     },
     "execution_count": 102,
     "metadata": {},
     "output_type": "execute_result"
    }
   ],
   "source": [
    "glimpses"
   ]
  },
  {
   "cell_type": "code",
   "execution_count": null,
   "metadata": {
    "collapsed": true
   },
   "outputs": [],
   "source": []
  }
 ],
 "metadata": {
  "kernelspec": {
   "display_name": "Python 3",
   "language": "python",
   "name": "python3"
  },
  "language_info": {
   "codemirror_mode": {
    "name": "ipython",
    "version": 3
   },
   "file_extension": ".py",
   "mimetype": "text/x-python",
   "name": "python",
   "nbconvert_exporter": "python",
   "pygments_lexer": "ipython3",
   "version": "3.4.3"
  }
 },
 "nbformat": 4,
 "nbformat_minor": 2
}
