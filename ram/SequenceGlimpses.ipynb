{
 "cells": [
  {
   "cell_type": "code",
   "execution_count": 139,
   "metadata": {
    "collapsed": true
   },
   "outputs": [],
   "source": [
    "import numpy as np\n",
    "import tensorflow.contrib.distributions as ds\n",
    "from sklearn.utils import shuffle\n",
    "import tensorflow as tf\n",
    "import argparse\n",
    "import ram"
   ]
  },
  {
   "cell_type": "code",
   "execution_count": 140,
   "metadata": {
    "collapsed": true
   },
   "outputs": [],
   "source": [
    "sess = tf.InteractiveSession()"
   ]
  },
  {
   "cell_type": "code",
   "execution_count": 141,
   "metadata": {},
   "outputs": [],
   "source": [
    "glimpse_size = 4\n",
    "num_resolutions = 3\n",
    "batch_size = 9\n",
    "length = 100\n",
    "num_tfs = 2"
   ]
  },
  {
   "cell_type": "code",
   "execution_count": 142,
   "metadata": {
    "collapsed": true
   },
   "outputs": [],
   "source": [
    "def make_dna_seq(batch_size, length):\n",
    "    one_hot_bases = np.eye(4)\n",
    "    sample_indices = np.random.randint(0, 4, [batch_size, length])\n",
    "    return one_hot_bases[sample_indices]\n"
   ]
  },
  {
   "cell_type": "code",
   "execution_count": 143,
   "metadata": {
    "collapsed": true
   },
   "outputs": [],
   "source": [
    "def make_atac_seq(batch_size, length):\n",
    "    return np.random.randint(0, 20, [batch_size, length, 1])\n",
    "    "
   ]
  },
  {
   "cell_type": "code",
   "execution_count": 144,
   "metadata": {
    "collapsed": true
   },
   "outputs": [],
   "source": [
    "def make_chip_seq(batch_size, num_tfs):\n",
    "    return np.random.randint(0, 2, [batch_size, num_tfs])\n"
   ]
  },
  {
   "cell_type": "code",
   "execution_count": 145,
   "metadata": {},
   "outputs": [],
   "source": [
    "dna = make_dna_seq(batch_size, length)\n",
    "atac = make_atac_seq(batch_size, length)\n",
    "chip = make_chip_seq(batch_size, num_tfs)"
   ]
  },
  {
   "cell_type": "code",
   "execution_count": 146,
   "metadata": {},
   "outputs": [
    {
     "data": {
      "text/plain": [
       "((9, 100, 4), (9, 100, 1), (9, 2))"
      ]
     },
     "execution_count": 146,
     "metadata": {},
     "output_type": "execute_result"
    }
   ],
   "source": [
    "dna.shape, atac.shape, chip.shape"
   ]
  },
  {
   "cell_type": "code",
   "execution_count": 147,
   "metadata": {},
   "outputs": [
    {
     "data": {
      "text/plain": [
       "(9, 100, 5)"
      ]
     },
     "execution_count": 147,
     "metadata": {},
     "output_type": "execute_result"
    }
   ],
   "source": [
    "input_ = np.concatenate([dna, atac], axis=-1)\n",
    "input_.shape"
   ]
  },
  {
   "cell_type": "code",
   "execution_count": 148,
   "metadata": {
    "collapsed": true
   },
   "outputs": [],
   "source": [
    "def get_glimpses(data, num_resolutions):\n",
    "    glimpses = []\n",
    "    for i in range(num_resolutions):\n",
    "        resolution = 2**i\n",
    "        glimpse = tf.nn.pool(\n",
    "            input=data,\n",
    "            window_shape=[resolution],\n",
    "            strides=[resolution],\n",
    "            pooling_type='MAX',\n",
    "            padding='SAME')\n",
    "        glimpses.append(glimpse)\n",
    "    return glimpses\n"
   ]
  },
  {
   "cell_type": "code",
   "execution_count": 149,
   "metadata": {},
   "outputs": [],
   "source": [
    "def index_glimpses(dna, num_resolutions, glimpses, location, glimpse_size):\n",
    "    to_concatenate = []\n",
    "    for i in range(num_resolutions):\n",
    "        glimpse = glimpses[i]\n",
    "        location_index = int(location / 2**i)\n",
    "            \n",
    "        left_pad = max(glimpse_size - location_index, 0)\n",
    "        right_pad = max(glimpse_size + location_index - glimpse.get_shape().as_list()[1], 0)\n",
    "        \n",
    "        left_index = max(location_index - glimpse_size, 0)\n",
    "        right_index = min(location_index + glimpse_size, glimpse.get_shape().as_list()[1])\n",
    "        \n",
    "        if i == 0:\n",
    "            to_concatenate.append(dna[:, left_index: right_index, :])\n",
    "        \n",
    "        resolution = glimpse[:, left_index: right_index, :]\n",
    "        resolution = tf.pad(resolution, [[0, 0], [left_pad, right_pad], [0, 0]])\n",
    "        \n",
    "        to_concatenate.append(resolution)\n",
    "    return tf.concat(to_concatenate, axis=-1)\n"
   ]
  },
  {
   "cell_type": "code",
   "execution_count": 150,
   "metadata": {},
   "outputs": [
    {
     "data": {
      "text/plain": [
       "array([[[ 0,  0,  0,  1,  2, 11, 19],\n",
       "        [ 0,  0,  0,  1, 15, 18, 14],\n",
       "        [ 0,  1,  0,  0, 13, 15, 16],\n",
       "        [ 0,  0,  0,  1, 12, 13, 18],\n",
       "        [ 0,  0,  1,  0,  1, 16, 16],\n",
       "        [ 0,  0,  1,  0, 16, 16, 19],\n",
       "        [ 0,  0,  1,  0,  5, 19, 19],\n",
       "        [ 0,  0,  0,  1, 16, 19, 19]],\n",
       "\n",
       "       [[ 0,  1,  0,  0, 16, 16,  9],\n",
       "        [ 1,  0,  0,  0,  5,  9, 16],\n",
       "        [ 1,  0,  0,  0,  5, 16, 16],\n",
       "        [ 0,  0,  1,  0,  8,  8, 16],\n",
       "        [ 1,  0,  0,  0, 11, 17, 17],\n",
       "        [ 0,  0,  0,  1, 17, 17, 18],\n",
       "        [ 0,  0,  0,  1,  8, 18, 14],\n",
       "        [ 1,  0,  0,  0, 17, 14, 14]],\n",
       "\n",
       "       [[ 0,  0,  1,  0, 17,  3, 12],\n",
       "        [ 1,  0,  0,  0,  9, 11, 12],\n",
       "        [ 0,  0,  0,  1, 14, 17, 19],\n",
       "        [ 0,  0,  1,  0, 16, 16, 17],\n",
       "        [ 0,  0,  0,  1, 12, 14, 16],\n",
       "        [ 0,  0,  1,  0, 14, 18, 18],\n",
       "        [ 0,  0,  0,  1, 13, 13, 17],\n",
       "        [ 0,  1,  0,  0, 18, 17, 18]],\n",
       "\n",
       "       [[ 0,  0,  0,  1, 13,  6, 16],\n",
       "        [ 0,  0,  1,  0,  6, 13, 16],\n",
       "        [ 0,  1,  0,  0, 15, 13, 14],\n",
       "        [ 0,  1,  0,  0,  6, 15, 13],\n",
       "        [ 1,  0,  0,  0,  3, 19, 19],\n",
       "        [ 0,  1,  0,  0, 19, 16, 18],\n",
       "        [ 0,  1,  0,  0, 11, 18, 19],\n",
       "        [ 0,  0,  0,  1, 16, 14,  5]],\n",
       "\n",
       "       [[ 1,  0,  0,  0, 16, 19, 18],\n",
       "        [ 0,  1,  0,  0,  4, 19, 19],\n",
       "        [ 0,  0,  1,  0, 17, 16, 19],\n",
       "        [ 0,  0,  0,  1,  6, 17, 19],\n",
       "        [ 0,  0,  1,  0,  6,  6, 17],\n",
       "        [ 0,  0,  1,  0,  6, 14, 14],\n",
       "        [ 0,  1,  0,  0,  6,  9, 16],\n",
       "        [ 0,  1,  0,  0, 14, 16, 19]],\n",
       "\n",
       "       [[ 0,  0,  1,  0, 17, 19, 15],\n",
       "        [ 1,  0,  0,  0, 13, 16, 17],\n",
       "        [ 0,  0,  0,  1, 13, 17, 19],\n",
       "        [ 0,  0,  0,  1,  3, 13, 17],\n",
       "        [ 0,  0,  0,  1,  8, 12, 13],\n",
       "        [ 0,  0,  1,  0, 12,  2, 14],\n",
       "        [ 0,  0,  1,  0,  1, 14, 16],\n",
       "        [ 0,  1,  0,  0,  2, 16,  6]],\n",
       "\n",
       "       [[ 0,  0,  1,  0, 17,  9, 16],\n",
       "        [ 0,  0,  1,  0,  4, 16, 17],\n",
       "        [ 1,  0,  0,  0, 18, 17, 10],\n",
       "        [ 1,  0,  0,  0,  4, 18, 17],\n",
       "        [ 0,  1,  0,  0, 12, 12, 18],\n",
       "        [ 0,  1,  0,  0,  2, 19, 19],\n",
       "        [ 0,  1,  0,  0, 11, 17, 19],\n",
       "        [ 1,  0,  0,  0, 19, 19, 16]],\n",
       "\n",
       "       [[ 0,  0,  0,  1, 19,  9, 17],\n",
       "        [ 0,  0,  1,  0,  0, 19, 18],\n",
       "        [ 0,  1,  0,  0, 16, 19, 18],\n",
       "        [ 0,  0,  1,  0, 19, 19, 19],\n",
       "        [ 0,  0,  0,  1, 15, 15, 19],\n",
       "        [ 0,  0,  0,  1, 10, 19, 19],\n",
       "        [ 0,  0,  1,  0, 12, 19, 18],\n",
       "        [ 0,  0,  0,  1, 19, 18, 19]],\n",
       "\n",
       "       [[ 0,  1,  0,  0,  4, 18, 16],\n",
       "        [ 0,  0,  1,  0, 16,  6, 18],\n",
       "        [ 0,  0,  1,  0, 13, 16, 19],\n",
       "        [ 0,  0,  0,  1, 15, 15, 16],\n",
       "        [ 0,  0,  0,  1,  9,  9, 15],\n",
       "        [ 0,  0,  0,  1,  5, 11, 13],\n",
       "        [ 1,  0,  0,  0,  7, 13, 18],\n",
       "        [ 0,  0,  0,  1, 11, 13, 10]]])"
      ]
     },
     "execution_count": 150,
     "metadata": {},
     "output_type": "execute_result"
    }
   ],
   "source": [
    "glimpses = get_glimpses(atac, num_resolutions)\n",
    "index_glimpses(dna, num_resolutions, glimpses, 50, glimpse_size).eval()"
   ]
  },
  {
   "cell_type": "code",
   "execution_count": 151,
   "metadata": {},
   "outputs": [
    {
     "data": {
      "text/plain": [
       "[array([ 4,  4,  9, 12,  8,  1,  4,  1, 12,  4, 10,  4, 16, 19,  8,  0,  6,\n",
       "         7, 15,  3, 18, 19, 14, 13,  9,  7, 19, 12, 15,  9,  6, 16, 10,  5,\n",
       "         6, 19,  6, 14, 12,  2, 16, 16, 11, 11, 13, 18,  2, 15, 13, 12,  1,\n",
       "        16,  5, 16, 19, 18, 18, 19,  9,  5, 19, 19, 11,  5,  6,  3,  3,  2,\n",
       "        10,  4, 15, 11, 15, 10,  4,  7, 10, 14,  1, 17,  9,  0, 10, 13,  4,\n",
       "         3, 17,  4,  9,  1,  4, 13,  2, 14, 10,  6, 18,  1,  1, 11]),\n",
       " array([ 4, 12,  8,  4, 12, 10, 19,  8,  7, 15, 19, 14,  9, 19, 15, 16, 10,\n",
       "        19, 14, 12, 16, 11, 18, 15, 13, 16, 16, 19, 19,  9, 19, 11,  6,  3,\n",
       "        10, 15, 15,  7, 14, 17,  9, 13,  4, 17,  9, 13, 14, 10, 18, 11]),\n",
       " array([12,  8, 12, 19, 15, 19, 19, 16, 19, 14, 16, 18, 16, 19, 19, 19,  6,\n",
       "        15, 15, 17, 13, 17, 13, 14, 18])]"
      ]
     },
     "execution_count": 151,
     "metadata": {},
     "output_type": "execute_result"
    }
   ],
   "source": [
    "[g.eval()[0,:,0] for g in glimpses]"
   ]
  },
  {
   "cell_type": "code",
   "execution_count": 185,
   "metadata": {
    "collapsed": true
   },
   "outputs": [],
   "source": [
    "def index_glimpses(dna, num_resolutions, glimpses, location, glimpse_size):\n",
    "    to_concatenate = []\n",
    "    for i in range(num_resolutions):\n",
    "        glimpse = glimpses[i]\n",
    "        location_index = tf.to_int32(location / 2**i)\n",
    "            \n",
    "        left_pad = tf.maximum(glimpse_size - location_index, 0)\n",
    "        right_pad = tf.maximum(glimpse_size + location_index - glimpse.get_shape().as_list()[1], 0)\n",
    "\n",
    "        left_index = tf.maximum(location_index - glimpse_size, 0)\n",
    "        right_index = tf.minimum(location_index + glimpse_size, glimpse.get_shape().as_list()[1])\n",
    "        print(left_index.eval(), right_index.eval(), dna.shape)\n",
    "        \n",
    "        if i == 0:\n",
    "            to_concatenate.append(tf.slice(dna, begin=tf.squeeze(left_index),\n",
    "                                           size=tf.squeeze(left_index+right_index)))\n",
    "        resolution = tf.slice(glimpse, begin=tf.squeeze(left_index),\n",
    "                                           size=tf.squeeze(left_index+right_index))\n",
    "        print(resolution.eval())\n",
    "#         resolution = tf.pad(resolution, [[0, 0], [tf.squeeze(left_pad), tf.squeeze(right_pad)], [0, 0]])\n",
    "#         print(resolution)\n",
    "        \n",
    "#         to_concatenate.append(resolution)\n",
    "#     return tf.concat(to_concatenate, axis=-1)\n"
   ]
  },
  {
   "cell_type": "code",
   "execution_count": 186,
   "metadata": {},
   "outputs": [
    {
     "name": "stdout",
     "output_type": "stream",
     "text": [
      "[[16]\n",
      " [36]\n",
      " [56]] [[24]\n",
      " [44]\n",
      " [64]] (9, 100, 4)\n"
     ]
    },
    {
     "ename": "InvalidArgumentError",
     "evalue": "Expected begin[0] in [0, 9], but got 16\n\t [[Node: Slice_46 = Slice[Index=DT_INT32, T=DT_INT64, _device=\"/job:localhost/replica:0/task:0/cpu:0\"](max_pool_172/Squeeze, Squeeze_94, Squeeze_95)]]\n\nCaused by op 'Slice_46', defined at:\n  File \"/Library/Frameworks/Python.framework/Versions/3.4/lib/python3.4/runpy.py\", line 170, in _run_module_as_main\n    \"__main__\", mod_spec)\n  File \"/Library/Frameworks/Python.framework/Versions/3.4/lib/python3.4/runpy.py\", line 85, in _run_code\n    exec(code, run_globals)\n  File \"/Users/Gunjan/.virtualenvs/deeprl/lib/python3.4/site-packages/ipykernel_launcher.py\", line 16, in <module>\n    app.launch_new_instance()\n  File \"/Users/Gunjan/.virtualenvs/deeprl/lib/python3.4/site-packages/traitlets/config/application.py\", line 658, in launch_instance\n    app.start()\n  File \"/Users/Gunjan/.virtualenvs/deeprl/lib/python3.4/site-packages/ipykernel/kernelapp.py\", line 477, in start\n    ioloop.IOLoop.instance().start()\n  File \"/Users/Gunjan/.virtualenvs/deeprl/lib/python3.4/site-packages/zmq/eventloop/ioloop.py\", line 177, in start\n    super(ZMQIOLoop, self).start()\n  File \"/Users/Gunjan/.virtualenvs/deeprl/lib/python3.4/site-packages/tornado/ioloop.py\", line 888, in start\n    handler_func(fd_obj, events)\n  File \"/Users/Gunjan/.virtualenvs/deeprl/lib/python3.4/site-packages/tornado/stack_context.py\", line 277, in null_wrapper\n    return fn(*args, **kwargs)\n  File \"/Users/Gunjan/.virtualenvs/deeprl/lib/python3.4/site-packages/zmq/eventloop/zmqstream.py\", line 440, in _handle_events\n    self._handle_recv()\n  File \"/Users/Gunjan/.virtualenvs/deeprl/lib/python3.4/site-packages/zmq/eventloop/zmqstream.py\", line 472, in _handle_recv\n    self._run_callback(callback, msg)\n  File \"/Users/Gunjan/.virtualenvs/deeprl/lib/python3.4/site-packages/zmq/eventloop/zmqstream.py\", line 414, in _run_callback\n    callback(*args, **kwargs)\n  File \"/Users/Gunjan/.virtualenvs/deeprl/lib/python3.4/site-packages/tornado/stack_context.py\", line 277, in null_wrapper\n    return fn(*args, **kwargs)\n  File \"/Users/Gunjan/.virtualenvs/deeprl/lib/python3.4/site-packages/ipykernel/kernelbase.py\", line 283, in dispatcher\n    return self.dispatch_shell(stream, msg)\n  File \"/Users/Gunjan/.virtualenvs/deeprl/lib/python3.4/site-packages/ipykernel/kernelbase.py\", line 235, in dispatch_shell\n    handler(stream, idents, msg)\n  File \"/Users/Gunjan/.virtualenvs/deeprl/lib/python3.4/site-packages/ipykernel/kernelbase.py\", line 399, in execute_request\n    user_expressions, allow_stdin)\n  File \"/Users/Gunjan/.virtualenvs/deeprl/lib/python3.4/site-packages/ipykernel/ipkernel.py\", line 196, in do_execute\n    res = shell.run_cell(code, store_history=store_history, silent=silent)\n  File \"/Users/Gunjan/.virtualenvs/deeprl/lib/python3.4/site-packages/ipykernel/zmqshell.py\", line 533, in run_cell\n    return super(ZMQInteractiveShell, self).run_cell(*args, **kwargs)\n  File \"/Users/Gunjan/.virtualenvs/deeprl/lib/python3.4/site-packages/IPython/core/interactiveshell.py\", line 2698, in run_cell\n    interactivity=interactivity, compiler=compiler, result=result)\n  File \"/Users/Gunjan/.virtualenvs/deeprl/lib/python3.4/site-packages/IPython/core/interactiveshell.py\", line 2808, in run_ast_nodes\n    if self.run_code(code, result):\n  File \"/Users/Gunjan/.virtualenvs/deeprl/lib/python3.4/site-packages/IPython/core/interactiveshell.py\", line 2862, in run_code\n    exec(code_obj, self.user_global_ns, self.user_ns)\n  File \"<ipython-input-186-e84f4074df01>\", line 2, in <module>\n    index_glimpses(dna, num_resolutions, glimpses, np.array([[20], [40], [60]]), glimpse_size)\n  File \"<ipython-input-185-bcb83ba0eea2>\", line 18, in index_glimpses\n    size=tf.squeeze(left_index+right_index))\n  File \"/Users/Gunjan/.virtualenvs/deeprl/lib/python3.4/site-packages/tensorflow/python/ops/array_ops.py\", line 561, in slice\n    return gen_array_ops._slice(input_, begin, size, name=name)\n  File \"/Users/Gunjan/.virtualenvs/deeprl/lib/python3.4/site-packages/tensorflow/python/ops/gen_array_ops.py\", line 3125, in _slice\n    name=name)\n  File \"/Users/Gunjan/.virtualenvs/deeprl/lib/python3.4/site-packages/tensorflow/python/framework/op_def_library.py\", line 767, in apply_op\n    op_def=op_def)\n  File \"/Users/Gunjan/.virtualenvs/deeprl/lib/python3.4/site-packages/tensorflow/python/framework/ops.py\", line 2630, in create_op\n    original_op=self._default_original_op, op_def=op_def)\n  File \"/Users/Gunjan/.virtualenvs/deeprl/lib/python3.4/site-packages/tensorflow/python/framework/ops.py\", line 1204, in __init__\n    self._traceback = self._graph._extract_stack()  # pylint: disable=protected-access\n\nInvalidArgumentError (see above for traceback): Expected begin[0] in [0, 9], but got 16\n\t [[Node: Slice_46 = Slice[Index=DT_INT32, T=DT_INT64, _device=\"/job:localhost/replica:0/task:0/cpu:0\"](max_pool_172/Squeeze, Squeeze_94, Squeeze_95)]]\n",
     "output_type": "error",
     "traceback": [
      "\u001b[0;31m---------------------------------------------------------------------------\u001b[0m",
      "\u001b[0;31mInvalidArgumentError\u001b[0m                      Traceback (most recent call last)",
      "\u001b[0;32m~/.virtualenvs/deeprl/lib/python3.4/site-packages/tensorflow/python/client/session.py\u001b[0m in \u001b[0;36m_do_call\u001b[0;34m(self, fn, *args)\u001b[0m\n\u001b[1;32m   1326\u001b[0m     \u001b[0;32mtry\u001b[0m\u001b[0;34m:\u001b[0m\u001b[0;34m\u001b[0m\u001b[0m\n\u001b[0;32m-> 1327\u001b[0;31m       \u001b[0;32mreturn\u001b[0m \u001b[0mfn\u001b[0m\u001b[0;34m(\u001b[0m\u001b[0;34m*\u001b[0m\u001b[0margs\u001b[0m\u001b[0;34m)\u001b[0m\u001b[0;34m\u001b[0m\u001b[0m\n\u001b[0m\u001b[1;32m   1328\u001b[0m     \u001b[0;32mexcept\u001b[0m \u001b[0merrors\u001b[0m\u001b[0;34m.\u001b[0m\u001b[0mOpError\u001b[0m \u001b[0;32mas\u001b[0m \u001b[0me\u001b[0m\u001b[0;34m:\u001b[0m\u001b[0;34m\u001b[0m\u001b[0m\n",
      "\u001b[0;32m~/.virtualenvs/deeprl/lib/python3.4/site-packages/tensorflow/python/client/session.py\u001b[0m in \u001b[0;36m_run_fn\u001b[0;34m(session, feed_dict, fetch_list, target_list, options, run_metadata)\u001b[0m\n\u001b[1;32m   1305\u001b[0m                                    \u001b[0mfeed_dict\u001b[0m\u001b[0;34m,\u001b[0m \u001b[0mfetch_list\u001b[0m\u001b[0;34m,\u001b[0m \u001b[0mtarget_list\u001b[0m\u001b[0;34m,\u001b[0m\u001b[0;34m\u001b[0m\u001b[0m\n\u001b[0;32m-> 1306\u001b[0;31m                                    status, run_metadata)\n\u001b[0m\u001b[1;32m   1307\u001b[0m \u001b[0;34m\u001b[0m\u001b[0m\n",
      "\u001b[0;32m/Library/Frameworks/Python.framework/Versions/3.4/lib/python3.4/contextlib.py\u001b[0m in \u001b[0;36m__exit__\u001b[0;34m(self, type, value, traceback)\u001b[0m\n\u001b[1;32m     65\u001b[0m             \u001b[0;32mtry\u001b[0m\u001b[0;34m:\u001b[0m\u001b[0;34m\u001b[0m\u001b[0m\n\u001b[0;32m---> 66\u001b[0;31m                 \u001b[0mnext\u001b[0m\u001b[0;34m(\u001b[0m\u001b[0mself\u001b[0m\u001b[0;34m.\u001b[0m\u001b[0mgen\u001b[0m\u001b[0;34m)\u001b[0m\u001b[0;34m\u001b[0m\u001b[0m\n\u001b[0m\u001b[1;32m     67\u001b[0m             \u001b[0;32mexcept\u001b[0m \u001b[0mStopIteration\u001b[0m\u001b[0;34m:\u001b[0m\u001b[0;34m\u001b[0m\u001b[0m\n",
      "\u001b[0;32m~/.virtualenvs/deeprl/lib/python3.4/site-packages/tensorflow/python/framework/errors_impl.py\u001b[0m in \u001b[0;36mraise_exception_on_not_ok_status\u001b[0;34m()\u001b[0m\n\u001b[1;32m    465\u001b[0m           \u001b[0mcompat\u001b[0m\u001b[0;34m.\u001b[0m\u001b[0mas_text\u001b[0m\u001b[0;34m(\u001b[0m\u001b[0mpywrap_tensorflow\u001b[0m\u001b[0;34m.\u001b[0m\u001b[0mTF_Message\u001b[0m\u001b[0;34m(\u001b[0m\u001b[0mstatus\u001b[0m\u001b[0;34m)\u001b[0m\u001b[0;34m)\u001b[0m\u001b[0;34m,\u001b[0m\u001b[0;34m\u001b[0m\u001b[0m\n\u001b[0;32m--> 466\u001b[0;31m           pywrap_tensorflow.TF_GetCode(status))\n\u001b[0m\u001b[1;32m    467\u001b[0m   \u001b[0;32mfinally\u001b[0m\u001b[0;34m:\u001b[0m\u001b[0;34m\u001b[0m\u001b[0m\n",
      "\u001b[0;31mInvalidArgumentError\u001b[0m: Expected begin[0] in [0, 9], but got 16\n\t [[Node: Slice_46 = Slice[Index=DT_INT32, T=DT_INT64, _device=\"/job:localhost/replica:0/task:0/cpu:0\"](max_pool_172/Squeeze, Squeeze_94, Squeeze_95)]]",
      "\nDuring handling of the above exception, another exception occurred:\n",
      "\u001b[0;31mInvalidArgumentError\u001b[0m                      Traceback (most recent call last)",
      "\u001b[0;32m<ipython-input-186-e84f4074df01>\u001b[0m in \u001b[0;36m<module>\u001b[0;34m()\u001b[0m\n\u001b[1;32m      1\u001b[0m \u001b[0mglimpses\u001b[0m \u001b[0;34m=\u001b[0m \u001b[0mget_glimpses\u001b[0m\u001b[0;34m(\u001b[0m\u001b[0matac\u001b[0m\u001b[0;34m,\u001b[0m \u001b[0mnum_resolutions\u001b[0m\u001b[0;34m)\u001b[0m\u001b[0;34m\u001b[0m\u001b[0m\n\u001b[0;32m----> 2\u001b[0;31m \u001b[0mindex_glimpses\u001b[0m\u001b[0;34m(\u001b[0m\u001b[0mdna\u001b[0m\u001b[0;34m,\u001b[0m \u001b[0mnum_resolutions\u001b[0m\u001b[0;34m,\u001b[0m \u001b[0mglimpses\u001b[0m\u001b[0;34m,\u001b[0m \u001b[0mnp\u001b[0m\u001b[0;34m.\u001b[0m\u001b[0marray\u001b[0m\u001b[0;34m(\u001b[0m\u001b[0;34m[\u001b[0m\u001b[0;34m[\u001b[0m\u001b[0;36m20\u001b[0m\u001b[0;34m]\u001b[0m\u001b[0;34m,\u001b[0m \u001b[0;34m[\u001b[0m\u001b[0;36m40\u001b[0m\u001b[0;34m]\u001b[0m\u001b[0;34m,\u001b[0m \u001b[0;34m[\u001b[0m\u001b[0;36m60\u001b[0m\u001b[0;34m]\u001b[0m\u001b[0;34m]\u001b[0m\u001b[0;34m)\u001b[0m\u001b[0;34m,\u001b[0m \u001b[0mglimpse_size\u001b[0m\u001b[0;34m)\u001b[0m\u001b[0;34m\u001b[0m\u001b[0m\n\u001b[0m",
      "\u001b[0;32m<ipython-input-185-bcb83ba0eea2>\u001b[0m in \u001b[0;36mindex_glimpses\u001b[0;34m(dna, num_resolutions, glimpses, location, glimpse_size)\u001b[0m\n\u001b[1;32m     17\u001b[0m         resolution = tf.slice(glimpse, begin=tf.squeeze(left_index),\n\u001b[1;32m     18\u001b[0m                                            size=tf.squeeze(left_index+right_index))\n\u001b[0;32m---> 19\u001b[0;31m         \u001b[0mprint\u001b[0m\u001b[0;34m(\u001b[0m\u001b[0mresolution\u001b[0m\u001b[0;34m.\u001b[0m\u001b[0meval\u001b[0m\u001b[0;34m(\u001b[0m\u001b[0;34m)\u001b[0m\u001b[0;34m)\u001b[0m\u001b[0;34m\u001b[0m\u001b[0m\n\u001b[0m\u001b[1;32m     20\u001b[0m         \u001b[0;32mreturn\u001b[0m \u001b[0mresolution\u001b[0m\u001b[0;34m\u001b[0m\u001b[0m\n\u001b[1;32m     21\u001b[0m \u001b[0;31m#         resolution = tf.pad(resolution, [[0, 0], [tf.squeeze(left_pad), tf.squeeze(right_pad)], [0, 0]])\u001b[0m\u001b[0;34m\u001b[0m\u001b[0;34m\u001b[0m\u001b[0m\n",
      "\u001b[0;32m~/.virtualenvs/deeprl/lib/python3.4/site-packages/tensorflow/python/framework/ops.py\u001b[0m in \u001b[0;36meval\u001b[0;34m(self, feed_dict, session)\u001b[0m\n\u001b[1;32m    539\u001b[0m \u001b[0;34m\u001b[0m\u001b[0m\n\u001b[1;32m    540\u001b[0m     \"\"\"\n\u001b[0;32m--> 541\u001b[0;31m     \u001b[0;32mreturn\u001b[0m \u001b[0m_eval_using_default_session\u001b[0m\u001b[0;34m(\u001b[0m\u001b[0mself\u001b[0m\u001b[0;34m,\u001b[0m \u001b[0mfeed_dict\u001b[0m\u001b[0;34m,\u001b[0m \u001b[0mself\u001b[0m\u001b[0;34m.\u001b[0m\u001b[0mgraph\u001b[0m\u001b[0;34m,\u001b[0m \u001b[0msession\u001b[0m\u001b[0;34m)\u001b[0m\u001b[0;34m\u001b[0m\u001b[0m\n\u001b[0m\u001b[1;32m    542\u001b[0m \u001b[0;34m\u001b[0m\u001b[0m\n\u001b[1;32m    543\u001b[0m \u001b[0;34m\u001b[0m\u001b[0m\n",
      "\u001b[0;32m~/.virtualenvs/deeprl/lib/python3.4/site-packages/tensorflow/python/framework/ops.py\u001b[0m in \u001b[0;36m_eval_using_default_session\u001b[0;34m(tensors, feed_dict, graph, session)\u001b[0m\n\u001b[1;32m   4083\u001b[0m                        \u001b[0;34m\"the tensor's graph is different from the session's \"\u001b[0m\u001b[0;34m\u001b[0m\u001b[0m\n\u001b[1;32m   4084\u001b[0m                        \"graph.\")\n\u001b[0;32m-> 4085\u001b[0;31m   \u001b[0;32mreturn\u001b[0m \u001b[0msession\u001b[0m\u001b[0;34m.\u001b[0m\u001b[0mrun\u001b[0m\u001b[0;34m(\u001b[0m\u001b[0mtensors\u001b[0m\u001b[0;34m,\u001b[0m \u001b[0mfeed_dict\u001b[0m\u001b[0;34m)\u001b[0m\u001b[0;34m\u001b[0m\u001b[0m\n\u001b[0m\u001b[1;32m   4086\u001b[0m \u001b[0;34m\u001b[0m\u001b[0m\n\u001b[1;32m   4087\u001b[0m \u001b[0;34m\u001b[0m\u001b[0m\n",
      "\u001b[0;32m~/.virtualenvs/deeprl/lib/python3.4/site-packages/tensorflow/python/client/session.py\u001b[0m in \u001b[0;36mrun\u001b[0;34m(self, fetches, feed_dict, options, run_metadata)\u001b[0m\n\u001b[1;32m    893\u001b[0m     \u001b[0;32mtry\u001b[0m\u001b[0;34m:\u001b[0m\u001b[0;34m\u001b[0m\u001b[0m\n\u001b[1;32m    894\u001b[0m       result = self._run(None, fetches, feed_dict, options_ptr,\n\u001b[0;32m--> 895\u001b[0;31m                          run_metadata_ptr)\n\u001b[0m\u001b[1;32m    896\u001b[0m       \u001b[0;32mif\u001b[0m \u001b[0mrun_metadata\u001b[0m\u001b[0;34m:\u001b[0m\u001b[0;34m\u001b[0m\u001b[0m\n\u001b[1;32m    897\u001b[0m         \u001b[0mproto_data\u001b[0m \u001b[0;34m=\u001b[0m \u001b[0mtf_session\u001b[0m\u001b[0;34m.\u001b[0m\u001b[0mTF_GetBuffer\u001b[0m\u001b[0;34m(\u001b[0m\u001b[0mrun_metadata_ptr\u001b[0m\u001b[0;34m)\u001b[0m\u001b[0;34m\u001b[0m\u001b[0m\n",
      "\u001b[0;32m~/.virtualenvs/deeprl/lib/python3.4/site-packages/tensorflow/python/client/session.py\u001b[0m in \u001b[0;36m_run\u001b[0;34m(self, handle, fetches, feed_dict, options, run_metadata)\u001b[0m\n\u001b[1;32m   1122\u001b[0m     \u001b[0;32mif\u001b[0m \u001b[0mfinal_fetches\u001b[0m \u001b[0;32mor\u001b[0m \u001b[0mfinal_targets\u001b[0m \u001b[0;32mor\u001b[0m \u001b[0;34m(\u001b[0m\u001b[0mhandle\u001b[0m \u001b[0;32mand\u001b[0m \u001b[0mfeed_dict_tensor\u001b[0m\u001b[0;34m)\u001b[0m\u001b[0;34m:\u001b[0m\u001b[0;34m\u001b[0m\u001b[0m\n\u001b[1;32m   1123\u001b[0m       results = self._do_run(handle, final_targets, final_fetches,\n\u001b[0;32m-> 1124\u001b[0;31m                              feed_dict_tensor, options, run_metadata)\n\u001b[0m\u001b[1;32m   1125\u001b[0m     \u001b[0;32melse\u001b[0m\u001b[0;34m:\u001b[0m\u001b[0;34m\u001b[0m\u001b[0m\n\u001b[1;32m   1126\u001b[0m       \u001b[0mresults\u001b[0m \u001b[0;34m=\u001b[0m \u001b[0;34m[\u001b[0m\u001b[0;34m]\u001b[0m\u001b[0;34m\u001b[0m\u001b[0m\n",
      "\u001b[0;32m~/.virtualenvs/deeprl/lib/python3.4/site-packages/tensorflow/python/client/session.py\u001b[0m in \u001b[0;36m_do_run\u001b[0;34m(self, handle, target_list, fetch_list, feed_dict, options, run_metadata)\u001b[0m\n\u001b[1;32m   1319\u001b[0m     \u001b[0;32mif\u001b[0m \u001b[0mhandle\u001b[0m \u001b[0;32mis\u001b[0m \u001b[0;32mNone\u001b[0m\u001b[0;34m:\u001b[0m\u001b[0;34m\u001b[0m\u001b[0m\n\u001b[1;32m   1320\u001b[0m       return self._do_call(_run_fn, self._session, feeds, fetches, targets,\n\u001b[0;32m-> 1321\u001b[0;31m                            options, run_metadata)\n\u001b[0m\u001b[1;32m   1322\u001b[0m     \u001b[0;32melse\u001b[0m\u001b[0;34m:\u001b[0m\u001b[0;34m\u001b[0m\u001b[0m\n\u001b[1;32m   1323\u001b[0m       \u001b[0;32mreturn\u001b[0m \u001b[0mself\u001b[0m\u001b[0;34m.\u001b[0m\u001b[0m_do_call\u001b[0m\u001b[0;34m(\u001b[0m\u001b[0m_prun_fn\u001b[0m\u001b[0;34m,\u001b[0m \u001b[0mself\u001b[0m\u001b[0;34m.\u001b[0m\u001b[0m_session\u001b[0m\u001b[0;34m,\u001b[0m \u001b[0mhandle\u001b[0m\u001b[0;34m,\u001b[0m \u001b[0mfeeds\u001b[0m\u001b[0;34m,\u001b[0m \u001b[0mfetches\u001b[0m\u001b[0;34m)\u001b[0m\u001b[0;34m\u001b[0m\u001b[0m\n",
      "\u001b[0;32m~/.virtualenvs/deeprl/lib/python3.4/site-packages/tensorflow/python/client/session.py\u001b[0m in \u001b[0;36m_do_call\u001b[0;34m(self, fn, *args)\u001b[0m\n\u001b[1;32m   1338\u001b[0m         \u001b[0;32mexcept\u001b[0m \u001b[0mKeyError\u001b[0m\u001b[0;34m:\u001b[0m\u001b[0;34m\u001b[0m\u001b[0m\n\u001b[1;32m   1339\u001b[0m           \u001b[0;32mpass\u001b[0m\u001b[0;34m\u001b[0m\u001b[0m\n\u001b[0;32m-> 1340\u001b[0;31m       \u001b[0;32mraise\u001b[0m \u001b[0mtype\u001b[0m\u001b[0;34m(\u001b[0m\u001b[0me\u001b[0m\u001b[0;34m)\u001b[0m\u001b[0;34m(\u001b[0m\u001b[0mnode_def\u001b[0m\u001b[0;34m,\u001b[0m \u001b[0mop\u001b[0m\u001b[0;34m,\u001b[0m \u001b[0mmessage\u001b[0m\u001b[0;34m)\u001b[0m\u001b[0;34m\u001b[0m\u001b[0m\n\u001b[0m\u001b[1;32m   1341\u001b[0m \u001b[0;34m\u001b[0m\u001b[0m\n\u001b[1;32m   1342\u001b[0m   \u001b[0;32mdef\u001b[0m \u001b[0m_extend_graph\u001b[0m\u001b[0;34m(\u001b[0m\u001b[0mself\u001b[0m\u001b[0;34m)\u001b[0m\u001b[0;34m:\u001b[0m\u001b[0;34m\u001b[0m\u001b[0m\n",
      "\u001b[0;31mInvalidArgumentError\u001b[0m: Expected begin[0] in [0, 9], but got 16\n\t [[Node: Slice_46 = Slice[Index=DT_INT32, T=DT_INT64, _device=\"/job:localhost/replica:0/task:0/cpu:0\"](max_pool_172/Squeeze, Squeeze_94, Squeeze_95)]]\n\nCaused by op 'Slice_46', defined at:\n  File \"/Library/Frameworks/Python.framework/Versions/3.4/lib/python3.4/runpy.py\", line 170, in _run_module_as_main\n    \"__main__\", mod_spec)\n  File \"/Library/Frameworks/Python.framework/Versions/3.4/lib/python3.4/runpy.py\", line 85, in _run_code\n    exec(code, run_globals)\n  File \"/Users/Gunjan/.virtualenvs/deeprl/lib/python3.4/site-packages/ipykernel_launcher.py\", line 16, in <module>\n    app.launch_new_instance()\n  File \"/Users/Gunjan/.virtualenvs/deeprl/lib/python3.4/site-packages/traitlets/config/application.py\", line 658, in launch_instance\n    app.start()\n  File \"/Users/Gunjan/.virtualenvs/deeprl/lib/python3.4/site-packages/ipykernel/kernelapp.py\", line 477, in start\n    ioloop.IOLoop.instance().start()\n  File \"/Users/Gunjan/.virtualenvs/deeprl/lib/python3.4/site-packages/zmq/eventloop/ioloop.py\", line 177, in start\n    super(ZMQIOLoop, self).start()\n  File \"/Users/Gunjan/.virtualenvs/deeprl/lib/python3.4/site-packages/tornado/ioloop.py\", line 888, in start\n    handler_func(fd_obj, events)\n  File \"/Users/Gunjan/.virtualenvs/deeprl/lib/python3.4/site-packages/tornado/stack_context.py\", line 277, in null_wrapper\n    return fn(*args, **kwargs)\n  File \"/Users/Gunjan/.virtualenvs/deeprl/lib/python3.4/site-packages/zmq/eventloop/zmqstream.py\", line 440, in _handle_events\n    self._handle_recv()\n  File \"/Users/Gunjan/.virtualenvs/deeprl/lib/python3.4/site-packages/zmq/eventloop/zmqstream.py\", line 472, in _handle_recv\n    self._run_callback(callback, msg)\n  File \"/Users/Gunjan/.virtualenvs/deeprl/lib/python3.4/site-packages/zmq/eventloop/zmqstream.py\", line 414, in _run_callback\n    callback(*args, **kwargs)\n  File \"/Users/Gunjan/.virtualenvs/deeprl/lib/python3.4/site-packages/tornado/stack_context.py\", line 277, in null_wrapper\n    return fn(*args, **kwargs)\n  File \"/Users/Gunjan/.virtualenvs/deeprl/lib/python3.4/site-packages/ipykernel/kernelbase.py\", line 283, in dispatcher\n    return self.dispatch_shell(stream, msg)\n  File \"/Users/Gunjan/.virtualenvs/deeprl/lib/python3.4/site-packages/ipykernel/kernelbase.py\", line 235, in dispatch_shell\n    handler(stream, idents, msg)\n  File \"/Users/Gunjan/.virtualenvs/deeprl/lib/python3.4/site-packages/ipykernel/kernelbase.py\", line 399, in execute_request\n    user_expressions, allow_stdin)\n  File \"/Users/Gunjan/.virtualenvs/deeprl/lib/python3.4/site-packages/ipykernel/ipkernel.py\", line 196, in do_execute\n    res = shell.run_cell(code, store_history=store_history, silent=silent)\n  File \"/Users/Gunjan/.virtualenvs/deeprl/lib/python3.4/site-packages/ipykernel/zmqshell.py\", line 533, in run_cell\n    return super(ZMQInteractiveShell, self).run_cell(*args, **kwargs)\n  File \"/Users/Gunjan/.virtualenvs/deeprl/lib/python3.4/site-packages/IPython/core/interactiveshell.py\", line 2698, in run_cell\n    interactivity=interactivity, compiler=compiler, result=result)\n  File \"/Users/Gunjan/.virtualenvs/deeprl/lib/python3.4/site-packages/IPython/core/interactiveshell.py\", line 2808, in run_ast_nodes\n    if self.run_code(code, result):\n  File \"/Users/Gunjan/.virtualenvs/deeprl/lib/python3.4/site-packages/IPython/core/interactiveshell.py\", line 2862, in run_code\n    exec(code_obj, self.user_global_ns, self.user_ns)\n  File \"<ipython-input-186-e84f4074df01>\", line 2, in <module>\n    index_glimpses(dna, num_resolutions, glimpses, np.array([[20], [40], [60]]), glimpse_size)\n  File \"<ipython-input-185-bcb83ba0eea2>\", line 18, in index_glimpses\n    size=tf.squeeze(left_index+right_index))\n  File \"/Users/Gunjan/.virtualenvs/deeprl/lib/python3.4/site-packages/tensorflow/python/ops/array_ops.py\", line 561, in slice\n    return gen_array_ops._slice(input_, begin, size, name=name)\n  File \"/Users/Gunjan/.virtualenvs/deeprl/lib/python3.4/site-packages/tensorflow/python/ops/gen_array_ops.py\", line 3125, in _slice\n    name=name)\n  File \"/Users/Gunjan/.virtualenvs/deeprl/lib/python3.4/site-packages/tensorflow/python/framework/op_def_library.py\", line 767, in apply_op\n    op_def=op_def)\n  File \"/Users/Gunjan/.virtualenvs/deeprl/lib/python3.4/site-packages/tensorflow/python/framework/ops.py\", line 2630, in create_op\n    original_op=self._default_original_op, op_def=op_def)\n  File \"/Users/Gunjan/.virtualenvs/deeprl/lib/python3.4/site-packages/tensorflow/python/framework/ops.py\", line 1204, in __init__\n    self._traceback = self._graph._extract_stack()  # pylint: disable=protected-access\n\nInvalidArgumentError (see above for traceback): Expected begin[0] in [0, 9], but got 16\n\t [[Node: Slice_46 = Slice[Index=DT_INT32, T=DT_INT64, _device=\"/job:localhost/replica:0/task:0/cpu:0\"](max_pool_172/Squeeze, Squeeze_94, Squeeze_95)]]\n"
     ]
    }
   ],
   "source": [
    "glimpses = get_glimpses(atac, num_resolutions)\n",
    "index_glimpses(dna, num_resolutions, glimpses, np.array([[20], [40], [60]]), glimpse_size)"
   ]
  }
 ],
 "metadata": {
  "kernelspec": {
   "display_name": "Python 3",
   "language": "python",
   "name": "python3"
  },
  "language_info": {
   "codemirror_mode": {
    "name": "ipython",
    "version": 3
   },
   "file_extension": ".py",
   "mimetype": "text/x-python",
   "name": "python",
   "nbconvert_exporter": "python",
   "pygments_lexer": "ipython3",
   "version": "3.4.3"
  }
 },
 "nbformat": 4,
 "nbformat_minor": 2
}
