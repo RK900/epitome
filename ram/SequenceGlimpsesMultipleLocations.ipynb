{
 "cells": [
  {
   "cell_type": "code",
   "execution_count": 4,
   "metadata": {
    "collapsed": true
   },
   "outputs": [],
   "source": [
    "import numpy as np\n",
    "import tensorflow.contrib.distributions as ds\n",
    "from sklearn.utils import shuffle\n",
    "import tensorflow as tf\n",
    "import argparse\n",
    "import ram"
   ]
  },
  {
   "cell_type": "code",
   "execution_count": 5,
   "metadata": {
    "collapsed": true
   },
   "outputs": [],
   "source": [
    "sess = tf.InteractiveSession()"
   ]
  },
  {
   "cell_type": "code",
   "execution_count": 15,
   "metadata": {
    "collapsed": true
   },
   "outputs": [],
   "source": [
    "# side of full glimpse will actually be glimpse_size * 2 + 1\n",
    "glimpse_size = 4\n",
    "num_resolutions = 3\n",
    "batch_size = 9\n",
    "length = 100\n",
    "num_tfs = 2"
   ]
  },
  {
   "cell_type": "code",
   "execution_count": 244,
   "metadata": {},
   "outputs": [],
   "source": [
    "def make_dna_seq(batch_size, length):\n",
    "    one_hot_bases = np.eye(4)\n",
    "    sample_indices = np.random.randint(0, 4, [batch_size, length])\n",
    "    return one_hot_bases[sample_indices]\n",
    "\n",
    "def make_atac_seq(batch_size, length):\n",
    "    return np.random.randint(0, 20, [batch_size, length, 1])\n",
    "    \n",
    "def make_chip_seq(batch_size, num_tfs):\n",
    "    return np.random.randint(0, 2, [batch_size, num_tfs])\n",
    "\n",
    "def get_glimpses(data, num_resolutions):\n",
    "    glimpses = []\n",
    "    for i in range(num_resolutions):\n",
    "        resolution = 2**i\n",
    "        glimpse = tf.nn.pool(\n",
    "            input=data,\n",
    "            window_shape=[resolution],\n",
    "            strides=[resolution],\n",
    "            pooling_type='MAX',\n",
    "            padding='SAME')\n",
    "        glimpses.append(glimpse)\n",
    "    return glimpses\n",
    "\n",
    "def index_glimpses(dna, location, num_resolutions, glimpses, glimpse_size, length, batch_size):\n",
    "    to_concatenate = []\n",
    "    for i in range(num_resolutions):\n",
    "        glimpse = glimpses[i]\n",
    "        # add glimpse_size to location_index\n",
    "        # because glimpses will be padded with glimpse_size values on each side\n",
    "        location_index = tf.to_int32(location / 2.0**i) + glimpse_size\n",
    "        start_index = location_index - glimpse_size\n",
    "        boolean_mask = get_boolean_mask(glimpse_size, start_index, glimpse.shape[1])\n",
    "        padded_glimpse = get_padded_glimspe(glimpse, glimpse_size)\n",
    "        if i == 0:\n",
    "            padded_dna = get_padded_dna(dna, glimpse_size)\n",
    "            dna_boolean_mask = tf.squeeze(tf.stack([boolean_mask]*4, axis=-1))\n",
    "            sliced_dna = tf.boolean_mask(padded_dna, dna_boolean_mask)\n",
    "            print(boolean_mask)\n",
    "            print(dna_boolean_mask)\n",
    "            print(sliced_dna)\n",
    "            sliced_dna = tf.reshape(sliced_dna, [batch_size, glimpse_size * 2, 4])\n",
    "            to_concatenate.append(tf.to_int64(sliced_dna))\n",
    "        sliced_glimpse = tf.boolean_mask(padded_glimpse, boolean_mask)\n",
    "        sliced_glimpse = tf.reshape(sliced_glimpse, [batch_size, glimpse_size * 2, 1])\n",
    "        to_concatenate.append(sliced_glimpse)\n",
    "#     print(to_concatenate)\n",
    "    return tf.concat(to_concatenate, axis=-1)\n",
    "        \n",
    "def get_boolean_mask(glimpse_size, start_index, length):\n",
    "    curr_index = start_index\n",
    "    padded_size = length + 2 * glimpse_size\n",
    "    index_mask = tf.one_hot(indices=curr_index, depth=padded_size, axis=1)\n",
    "    for i in range(glimpse_size * 2 - 1):\n",
    "        curr_index += 1\n",
    "        index_mask += tf.one_hot(indices=curr_index, depth=padded_size, axis=1)\n",
    "    return index_mask > 0\n",
    "    \n",
    "def get_padded_glimspe(glimpse, glimpse_size):\n",
    "    return tf.pad(glimpse, paddings=[[0, 0], [glimpse_size, glimpse_size], [0, 0]], constant_values=-1)\n",
    "\n",
    "def get_padded_dna(dna, glimpse_size):\n",
    "    return get_padded_glimspe(dna, glimpse_size)\n"
   ]
  },
  {
   "cell_type": "code",
   "execution_count": 245,
   "metadata": {},
   "outputs": [
    {
     "data": {
      "text/plain": [
       "(9, 100, 5)"
      ]
     },
     "execution_count": 245,
     "metadata": {},
     "output_type": "execute_result"
    }
   ],
   "source": [
    "dna = make_dna_seq(batch_size, length)\n",
    "atac = make_atac_seq(batch_size, length)\n",
    "chip = make_chip_seq(batch_size, num_tfs)\n",
    "input_ = np.concatenate([dna, atac], axis=-1)\n",
    "input_.shape"
   ]
  },
  {
   "cell_type": "code",
   "execution_count": 246,
   "metadata": {},
   "outputs": [
    {
     "name": "stdout",
     "output_type": "stream",
     "text": [
      "Tensor(\"Greater_170:0\", shape=(9, 108, 1), dtype=bool)\n",
      "Tensor(\"Squeeze_32:0\", shape=(9, 108, 4), dtype=bool)\n",
      "Tensor(\"boolean_mask_214/Gather:0\", shape=(?,), dtype=float64)\n"
     ]
    },
    {
     "data": {
      "text/plain": [
       "(array([[[ 0,  1,  0,  0,  4, 10, 16],\n",
       "         [ 1,  0,  0,  0, 18, 10, 13],\n",
       "         [ 0,  0,  1,  0, 12, 18, 10],\n",
       "         [ 0,  0,  0,  1, 18, 18, 18],\n",
       "         [ 1,  0,  0,  0, 12, 12, 15],\n",
       "         [ 1,  0,  0,  0,  1, 15, 19],\n",
       "         [ 0,  0,  0,  1,  7,  7, 16],\n",
       "         [ 0,  1,  0,  0, 15, 19, 19]],\n",
       " \n",
       "        [[ 0,  1,  0,  0,  2, 14, 19],\n",
       "         [ 0,  0,  1,  0, 13,  4, 18],\n",
       "         [ 1,  0,  0,  0, 15, 13, 14],\n",
       "         [ 0,  0,  1,  0, 11, 15, 15],\n",
       "         [ 0,  1,  0,  0,  9, 16, 16],\n",
       "         [ 0,  1,  0,  0, 16, 16, 16],\n",
       "         [ 1,  0,  0,  0, 16, 12, 19],\n",
       "         [ 0,  0,  1,  0,  5, 16, 15]],\n",
       " \n",
       "        [[ 0,  1,  0,  0, 10,  9,  9],\n",
       "         [ 0,  0,  0,  1, 17, 16, 18],\n",
       "         [ 0,  1,  0,  0,  2, 13, 18],\n",
       "         [ 1,  0,  0,  0,  5, 17, 16],\n",
       "         [ 0,  0,  1,  0, 18, 18, 18],\n",
       "         [-1, -1, -1, -1, -1, -1, -1],\n",
       "         [-1, -1, -1, -1, -1, -1, -1],\n",
       "         [-1, -1, -1, -1, -1, -1, -1]],\n",
       " \n",
       "        [[ 0,  0,  1,  0, 13, 15, 19],\n",
       "         [ 0,  0,  0,  1, 18, 12, 16],\n",
       "         [ 0,  1,  0,  0,  1, 18, 15],\n",
       "         [ 1,  0,  0,  0,  0,  1, 18],\n",
       "         [ 0,  1,  0,  0,  7,  7,  9],\n",
       "         [ 0,  0,  0,  1,  3,  9,  8],\n",
       "         [ 1,  0,  0,  0,  9,  2, 11],\n",
       "         [ 0,  0,  1,  0,  7,  8, 13]],\n",
       " \n",
       "        [[ 0,  1,  0,  0, 15, 16, 18],\n",
       "         [ 0,  1,  0,  0, 15, 16, 10],\n",
       "         [ 0,  0,  0,  1, 14, 15, 16],\n",
       "         [ 1,  0,  0,  0,  7, 14, 15],\n",
       "         [ 0,  1,  0,  0, 12, 12, 12],\n",
       "         [ 0,  0,  0,  1,  2, 12, 14],\n",
       "         [ 0,  0,  1,  0, 12, 14,  9],\n",
       "         [ 0,  0,  0,  1,  9, 10, 19]],\n",
       " \n",
       "        [[ 1,  0,  0,  0, 12, 18, 18],\n",
       "         [ 1,  0,  0,  0,  1, 19, 19],\n",
       "         [ 0,  0,  1,  0, 18, 12, 18],\n",
       "         [ 0,  0,  1,  0, 15, 18, 19],\n",
       "         [ 0,  1,  0,  0, 10, 15, 18],\n",
       "         [-1, -1, -1, -1, -1, -1, -1],\n",
       "         [-1, -1, -1, -1, -1, -1, -1],\n",
       "         [-1, -1, -1, -1, -1, -1, -1]],\n",
       " \n",
       "        [[ 0,  0,  0,  1, 14, 10, 11],\n",
       "         [ 0,  0,  0,  1, 14,  8, 15],\n",
       "         [ 1,  0,  0,  0, 15, 14, 10],\n",
       "         [ 0,  0,  0,  1,  4, 15, 15],\n",
       "         [ 0,  0,  0,  1, 16, 16, 16],\n",
       "         [ 0,  1,  0,  0,  1,  6, 15],\n",
       "         [ 0,  0,  0,  1,  6, 15, 16],\n",
       "         [ 0,  1,  0,  0,  4, 14, 19]],\n",
       " \n",
       "        [[ 0,  1,  0,  0, 15,  4, 19],\n",
       "         [ 1,  0,  0,  0, 14,  4, 14],\n",
       "         [ 1,  0,  0,  0,  8, 15,  4],\n",
       "         [ 0,  0,  1,  0, 13, 13, 15],\n",
       "         [ 0,  1,  0,  0, 19, 19, 19],\n",
       "         [ 0,  0,  0,  1,  7, 17, 11],\n",
       "         [ 0,  0,  0,  1,  3,  8, 19],\n",
       "         [ 0,  0,  1,  0, 17, 11, 15]],\n",
       " \n",
       "        [[ 1,  0,  0,  0, 16, 16, 17],\n",
       "         [ 0,  0,  1,  0,  0, 17, 17],\n",
       "         [ 0,  0,  1,  0,  0, 16, 16],\n",
       "         [ 0,  0,  0,  1, 17,  0, 17],\n",
       "         [ 0,  0,  0,  1, 19, 19, 19],\n",
       "         [-1, -1, -1, -1, -1, -1, -1],\n",
       "         [-1, -1, -1, -1, -1, -1, -1],\n",
       "         [-1, -1, -1, -1, -1, -1, -1]]]),\n",
       " TensorShape([Dimension(9), Dimension(8), Dimension(7)]))"
      ]
     },
     "execution_count": 246,
     "metadata": {},
     "output_type": "execute_result"
    }
   ],
   "source": [
    "location = np.array([[20], [40], [99]] * 3)\n",
    "\n",
    "glimpses = get_glimpses(atac, num_resolutions)\n",
    "# index_glimpses(dna, num_resolutions, glimpses, 50, glimpse_size).eval()\n",
    "g = index_glimpses(dna, location, num_resolutions, glimpses, glimpse_size, length, batch_size)\n",
    "g.eval(), g.shape"
   ]
  }
 ],
 "metadata": {
  "kernelspec": {
   "display_name": "Python 3",
   "language": "python",
   "name": "python3"
  },
  "language_info": {
   "codemirror_mode": {
    "name": "ipython",
    "version": 3
   },
   "file_extension": ".py",
   "mimetype": "text/x-python",
   "name": "python",
   "nbconvert_exporter": "python",
   "pygments_lexer": "ipython3",
   "version": "3.4.3"
  }
 },
 "nbformat": 4,
 "nbformat_minor": 2
}
