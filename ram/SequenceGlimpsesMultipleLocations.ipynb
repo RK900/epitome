{
 "cells": [
  {
   "cell_type": "code",
   "execution_count": 295,
   "metadata": {
    "collapsed": true
   },
   "outputs": [],
   "source": [
    "import numpy as np\n",
    "import tensorflow.contrib.distributions as ds\n",
    "from sklearn.utils import shuffle\n",
    "import tensorflow as tf\n",
    "import argparse\n",
    "import ram"
   ]
  },
  {
   "cell_type": "code",
   "execution_count": 296,
   "metadata": {
    "collapsed": true
   },
   "outputs": [],
   "source": [
    "sess = tf.InteractiveSession()"
   ]
  },
  {
   "cell_type": "code",
   "execution_count": 297,
   "metadata": {
    "collapsed": true
   },
   "outputs": [],
   "source": [
    "# side of full glimpse will actually be glimpse_size * 2 + 1\n",
    "glimpse_size = 4\n",
    "num_resolutions = 3\n",
    "batch_size = 9\n",
    "length = 100\n",
    "num_tfs = 2"
   ]
  },
  {
   "cell_type": "code",
   "execution_count": 298,
   "metadata": {},
   "outputs": [],
   "source": [
    "def make_dna_seq(batch_size, length):\n",
    "    one_hot_bases = np.eye(4)\n",
    "    sample_indices = np.random.randint(0, 4, [batch_size, length])\n",
    "    return one_hot_bases[sample_indices]\n",
    "\n",
    "def make_atac_seq(batch_size, length):\n",
    "    return np.random.randint(0, 20, [batch_size, length, 1])\n",
    "    \n",
    "def make_chip_seq(batch_size, num_tfs):\n",
    "    return np.random.randint(0, 2, [batch_size, num_tfs])\n",
    "\n",
    "def get_glimpses(data, num_resolutions):\n",
    "    # first four channels of data are the one-hot encoded dna sequence\n",
    "    dna = data[:, :, :4]\n",
    "    data = data[:, :, 4:]\n",
    "    glimpses = []\n",
    "    print(data.shape)\n",
    "    for i in range(num_resolutions):\n",
    "        resolution = 2**i\n",
    "        glimpse = tf.nn.pool(\n",
    "            input=data,\n",
    "            window_shape=[resolution],\n",
    "            strides=[resolution],\n",
    "            pooling_type='MAX',\n",
    "            padding='SAME')\n",
    "        glimpses.append(glimpse)\n",
    "    \n",
    "    return index_glimpses(dna, location, num_resolutions, glimpses, glimpse_size, length, batch_size)\n",
    "\n",
    "def index_glimpses(dna, location, num_resolutions, glimpses, glimpse_size, length, batch_size):\n",
    "    to_concatenate = []\n",
    "    for i in range(num_resolutions):\n",
    "        glimpse = glimpses[i]\n",
    "        # add glimpse_size to location_index\n",
    "        # because glimpses will be padded with glimpse_size values on each side\n",
    "        location_index = tf.to_int32(location / 2.0**i) + glimpse_size\n",
    "        start_index = location_index - glimpse_size\n",
    "        boolean_mask = get_boolean_mask(glimpse_size, start_index, glimpse.shape[1])\n",
    "        padded_glimpse = get_padded_glimspe(glimpse, glimpse_size)\n",
    "        if i == 0:\n",
    "            padded_dna = get_padded_dna(dna, glimpse_size)\n",
    "            dna_boolean_mask = tf.squeeze(tf.stack([boolean_mask]*4, axis=-1))\n",
    "            sliced_dna = tf.boolean_mask(padded_dna, dna_boolean_mask)\n",
    "            sliced_dna = tf.reshape(sliced_dna, [batch_size, glimpse_size * 2, 4])\n",
    "            to_concatenate.append(sliced_dna)\n",
    "        sliced_glimpse = tf.boolean_mask(padded_glimpse, boolean_mask)\n",
    "        sliced_glimpse = tf.reshape(sliced_glimpse, [batch_size, glimpse_size * 2, 1])\n",
    "        to_concatenate.append(sliced_glimpse)\n",
    "    return tf.concat(to_concatenate, axis=-1)\n",
    "        \n",
    "def get_boolean_mask(glimpse_size, start_index, length):\n",
    "    curr_index = start_index\n",
    "    padded_size = length + 2 * glimpse_size\n",
    "    index_mask = tf.one_hot(indices=curr_index, depth=padded_size, axis=1)\n",
    "    for i in range(glimpse_size * 2 - 1):\n",
    "        curr_index += 1\n",
    "        index_mask += tf.one_hot(indices=curr_index, depth=padded_size, axis=1)\n",
    "    return index_mask > 0\n",
    "    \n",
    "def get_padded_glimspe(glimpse, glimpse_size):\n",
    "    return tf.pad(glimpse, paddings=[[0, 0], [glimpse_size, glimpse_size], [0, 0]], constant_values=-1)\n",
    "\n",
    "def get_padded_dna(dna, glimpse_size):\n",
    "    return get_padded_glimspe(dna, glimpse_size)\n"
   ]
  },
  {
   "cell_type": "code",
   "execution_count": 299,
   "metadata": {},
   "outputs": [
    {
     "data": {
      "text/plain": [
       "(9, 100, 5)"
      ]
     },
     "execution_count": 299,
     "metadata": {},
     "output_type": "execute_result"
    }
   ],
   "source": [
    "dna = make_dna_seq(batch_size, length)\n",
    "atac = make_atac_seq(batch_size, length)\n",
    "chip = make_chip_seq(batch_size, num_tfs)\n",
    "input_ = np.concatenate([dna, atac], axis=-1)\n",
    "input_.shape"
   ]
  },
  {
   "cell_type": "code",
   "execution_count": 300,
   "metadata": {},
   "outputs": [
    {
     "name": "stdout",
     "output_type": "stream",
     "text": [
      "(9, 100, 1)\n"
     ]
    },
    {
     "data": {
      "text/plain": [
       "array([[[  0.,   0.,   1.,   0.,  13.,  17.,  17.],\n",
       "        [  1.,   0.,   0.,   0.,  14.,   4.,   5.],\n",
       "        [  0.,   0.,   1.,   0.,   3.,  14.,  17.],\n",
       "        [  0.,   0.,   0.,   1.,   4.,   4.,  14.],\n",
       "        [  0.,   1.,   0.,   0.,   5.,   5.,  19.],\n",
       "        [  0.,   1.,   0.,   0.,   3.,  19.,  17.],\n",
       "        [  0.,   0.,   1.,   0.,  19.,  13.,  19.],\n",
       "        [  0.,   0.,   0.,   1.,   9.,  17.,  17.]],\n",
       "\n",
       "       [[  0.,   1.,   0.,   0.,  10.,  19.,  11.],\n",
       "        [  0.,   0.,   1.,   0.,  18.,  17.,  15.],\n",
       "        [  0.,   0.,   0.,   1.,  19.,  18.,  19.],\n",
       "        [  0.,   0.,   0.,   1.,  17.,  19.,  19.],\n",
       "        [  0.,   0.,   0.,   1.,  18.,  18.,  18.],\n",
       "        [  0.,   1.,   0.,   0.,  12.,  12.,  18.],\n",
       "        [  1.,   0.,   0.,   0.,  12.,  18.,  18.],\n",
       "        [  0.,   0.,   1.,   0.,  11.,   6.,  10.]],\n",
       "\n",
       "       [[  1.,   0.,   0.,   0.,   2.,   6.,   9.],\n",
       "        [  0.,   0.,   0.,   1.,  17.,  10.,  18.],\n",
       "        [  0.,   0.,   0.,   1.,  14.,   2.,   6.],\n",
       "        [  0.,   1.,   0.,   0.,   6.,  17.,  10.],\n",
       "        [  0.,   0.,   1.,   0.,   3.,   6.,  17.],\n",
       "        [ -1.,  -1.,  -1.,  -1.,  -1.,  -1.,  -1.],\n",
       "        [ -1.,  -1.,  -1.,  -1.,  -1.,  -1.,  -1.],\n",
       "        [ -1.,  -1.,  -1.,  -1.,  -1.,  -1.,  -1.]],\n",
       "\n",
       "       [[  0.,   1.,   0.,   0.,  11.,  17.,  15.],\n",
       "        [  0.,   1.,   0.,   0.,   9.,  17.,  14.],\n",
       "        [  0.,   0.,   0.,   1.,   6.,  11.,  17.],\n",
       "        [  0.,   0.,   1.,   0.,   0.,   6.,  11.],\n",
       "        [  0.,   0.,   1.,   0.,   0.,  11.,  15.],\n",
       "        [  0.,   1.,   0.,   0.,  11.,  15.,  19.],\n",
       "        [  0.,   0.,   1.,   0.,  15.,  19.,  19.],\n",
       "        [  0.,   1.,   0.,   0.,  11.,  19.,  15.]],\n",
       "\n",
       "       [[  0.,   0.,   0.,   1.,  16.,  17.,  16.],\n",
       "        [  0.,   1.,   0.,   0.,  18.,   5.,  19.],\n",
       "        [  0.,   1.,   0.,   0.,  10.,  18.,  17.],\n",
       "        [  1.,   0.,   0.,   0.,  10.,  10.,  18.],\n",
       "        [  0.,   0.,   0.,   1.,   5.,  14.,  14.],\n",
       "        [  0.,   0.,   0.,   1.,  14.,  13.,   9.],\n",
       "        [  0.,   0.,   1.,   0.,   5.,   4.,  19.],\n",
       "        [  0.,   1.,   0.,   0.,  13.,   9.,  10.]],\n",
       "\n",
       "       [[  0.,   0.,   1.,   0.,   9.,  12.,  17.],\n",
       "        [  0.,   0.,   0.,   1.,   0.,  16.,  14.],\n",
       "        [  1.,   0.,   0.,   0.,   8.,   9.,  17.],\n",
       "        [  0.,   1.,   0.,   0.,   8.,   8.,  16.],\n",
       "        [  0.,   1.,   0.,   0.,  17.,  17.,  17.],\n",
       "        [ -1.,  -1.,  -1.,  -1.,  -1.,  -1.,  -1.],\n",
       "        [ -1.,  -1.,  -1.,  -1.,  -1.,  -1.,  -1.],\n",
       "        [ -1.,  -1.,  -1.,  -1.,  -1.,  -1.,  -1.]],\n",
       "\n",
       "       [[  1.,   0.,   0.,   0.,   2.,  19.,  17.],\n",
       "        [  1.,   0.,   0.,   0.,  18.,  18.,  16.],\n",
       "        [  0.,   0.,   0.,   1.,   6.,  18.,  19.],\n",
       "        [  0.,   0.,   1.,   0.,   8.,   8.,  18.],\n",
       "        [  1.,   0.,   0.,   0.,  16.,  19.,  19.],\n",
       "        [  0.,   1.,   0.,   0.,  19.,  19.,  18.],\n",
       "        [  1.,   0.,   0.,   0.,  19.,  18.,  17.],\n",
       "        [  1.,   0.,   0.,   0.,  17.,  18.,  18.]],\n",
       "\n",
       "       [[  0.,   0.,   0.,   1.,  18.,  18.,  16.],\n",
       "        [  0.,   0.,   0.,   1.,  12.,  12.,  12.],\n",
       "        [  0.,   0.,   0.,   1.,   6.,  18.,  18.],\n",
       "        [  1.,   0.,   0.,   0.,  16.,  16.,  18.],\n",
       "        [  0.,   0.,   1.,   0.,   4.,  14.,  14.],\n",
       "        [  0.,   1.,   0.,   0.,  14.,  14.,  13.],\n",
       "        [  0.,   0.,   0.,   1.,  14.,  13.,  12.],\n",
       "        [  0.,   1.,   0.,   0.,   3.,   8.,  18.]],\n",
       "\n",
       "       [[  0.,   1.,   0.,   0.,   0.,   3.,  19.],\n",
       "        [  0.,   0.,   1.,   0.,   3.,  17.,  19.],\n",
       "        [  0.,   1.,   0.,   0.,  19.,  16.,  12.],\n",
       "        [  1.,   0.,   0.,   0.,  12.,  19.,  17.],\n",
       "        [  0.,   0.,   0.,   1.,   5.,  12.,  19.],\n",
       "        [ -1.,  -1.,  -1.,  -1.,  -1.,  -1.,  -1.],\n",
       "        [ -1.,  -1.,  -1.,  -1.,  -1.,  -1.,  -1.],\n",
       "        [ -1.,  -1.,  -1.,  -1.,  -1.,  -1.,  -1.]]])"
      ]
     },
     "execution_count": 300,
     "metadata": {},
     "output_type": "execute_result"
    }
   ],
   "source": [
    "location = np.array([[20], [40], [99]] * 3)\n",
    "get_glimpses(input_, num_resolutions).eval()\n"
   ]
  }
 ],
 "metadata": {
  "kernelspec": {
   "display_name": "Python 3",
   "language": "python",
   "name": "python3"
  },
  "language_info": {
   "codemirror_mode": {
    "name": "ipython",
    "version": 3
   },
   "file_extension": ".py",
   "mimetype": "text/x-python",
   "name": "python",
   "nbconvert_exporter": "python",
   "pygments_lexer": "ipython3",
   "version": "3.4.3"
  }
 },
 "nbformat": 4,
 "nbformat_minor": 2
}
