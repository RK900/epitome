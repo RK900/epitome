{
 "cells": [
  {
   "cell_type": "code",
   "execution_count": 3,
   "metadata": {
    "collapsed": true
   },
   "outputs": [],
   "source": [
    "import numpy as np\n",
    "# import tensorflow.contrib.distributions as ds\n",
    "# from sklearn.utils import shuffle\n",
    "# import tensorflow as tf\n",
    "# import argparse\n",
    "import h5py\n",
    "from time import gmtime, strftime\n",
    "import glob"
   ]
  },
  {
   "cell_type": "code",
   "execution_count": 4,
   "metadata": {
    "collapsed": true
   },
   "outputs": [],
   "source": [
    "def get_pos_ratio():\n",
    "    files = glob.glob(\"/Users/Gunjan/Downloads/results-hdf5/*\")\n",
    "    for f in files:\n",
    "        data = h5py.File(f, \"r\")\n",
    "        print(\"*\" * 50)\n",
    "        print(\"File: {}\".format(f.split(\"/\")[-1]))\n",
    "        print(\"Portion of pos examples: {}\".format(np.sum(data[\"label\"])/data[\"label\"].shape[0]))\n"
   ]
  },
  {
   "cell_type": "code",
   "execution_count": 5,
   "metadata": {},
   "outputs": [
    {
     "name": "stdout",
     "output_type": "stream",
     "text": [
      "**************************************************\n",
      "File: CEBPB-A549.hdf5\n",
      "Portion of pos examples: 0.31977599580955024\n",
      "**************************************************\n",
      "File: CEBPB-H1Hesc.hdf5\n",
      "Portion of pos examples: 0.2792223503123977\n",
      "**************************************************\n",
      "File: CEBPB-HCT116.hdf5\n",
      "Portion of pos examples: 0.29441348793378946\n",
      "**************************************************\n",
      "File: CEBPB-IMR90.hdf5\n",
      "Portion of pos examples: 0.26778535456328445\n"
     ]
    }
   ],
   "source": [
    "get_pos_ratio()"
   ]
  },
  {
   "cell_type": "code",
   "execution_count": null,
   "metadata": {
    "collapsed": true
   },
   "outputs": [],
   "source": []
  }
 ],
 "metadata": {
  "kernelspec": {
   "display_name": "Python 3",
   "language": "python",
   "name": "python3"
  },
  "language_info": {
   "codemirror_mode": {
    "name": "ipython",
    "version": 3
   },
   "file_extension": ".py",
   "mimetype": "text/x-python",
   "name": "python",
   "nbconvert_exporter": "python",
   "pygments_lexer": "ipython3",
   "version": "3.4.3"
  }
 },
 "nbformat": 4,
 "nbformat_minor": 2
}
