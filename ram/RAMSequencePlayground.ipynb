{
 "cells": [
  {
   "cell_type": "code",
   "execution_count": null,
   "metadata": {
    "collapsed": true
   },
   "outputs": [],
   "source": [
    "import numpy as np\n",
    "import h5py\n",
    "from time import gmtime, strftime\n",
    "import glob\n",
    "import deepsea_data\n"
   ]
  },
  {
   "cell_type": "code",
   "execution_count": null,
   "metadata": {
    "collapsed": true
   },
   "outputs": [],
   "source": [
    "def get_pos_ratio():\n",
    "    files = glob.glob(\"/Users/Gunjan/Downloads/results-hdf5/*\")\n",
    "    for f in files:\n",
    "        data = h5py.File(f, \"r\")\n",
    "        print(\"*\" * 50)\n",
    "        print(\"File: {}\".format(f.split(\"/\")[-1]))\n",
    "        print(\"Portion of pos examples: {}\".format(np.sum(data[\"label\"])/data[\"label\"].shape[0]))\n"
   ]
  },
  {
   "cell_type": "code",
   "execution_count": null,
   "metadata": {},
   "outputs": [],
   "source": [
    "get_pos_ratio()"
   ]
  },
  {
   "cell_type": "code",
   "execution_count": null,
   "metadata": {
    "collapsed": true
   },
   "outputs": [],
   "source": [
    "def get_deepsea_pos_ratio():\n",
    "    batch_size = 1000\n",
    "    train_batches = deepsea_data.train_iterator(\n",
    "            source='../../deepsea_train/train.mat',\n",
    "            batch_size=batch_size,\n",
    "            num_epochs=1)\n",
    "    total = np.zeros([919, 1])\n",
    "    pos = np.zeros([919, 1])\n",
    "    for batch in train_batches:\n",
    "        total += batch_size\n",
    "        pos += np.expand_dims(np.sum(batch[1], axis=0), -1)\n",
    "    return pos/total\n"
   ]
  },
  {
   "cell_type": "code",
   "execution_count": null,
   "metadata": {},
   "outputs": [],
   "source": [
    "get_deepsea_pos_ratio()"
   ]
  },
  {
   "cell_type": "code",
   "execution_count": null,
   "metadata": {
    "collapsed": true
   },
   "outputs": [],
   "source": []
  }
 ],
 "metadata": {
  "kernelspec": {
   "display_name": "Python 3",
   "language": "python",
   "name": "python3"
  },
  "language_info": {
   "codemirror_mode": {
    "name": "ipython",
    "version": 3
   },
   "file_extension": ".py",
   "mimetype": "text/x-python",
   "name": "python",
   "nbconvert_exporter": "python",
   "pygments_lexer": "ipython3",
   "version": "3.4.3"
  }
 },
 "nbformat": 4,
 "nbformat_minor": 2
}
